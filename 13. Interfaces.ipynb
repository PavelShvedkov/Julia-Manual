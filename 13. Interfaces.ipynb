{
 "metadata": {
  "language_info": {
   "codemirror_mode": {
    "name": "ipython",
    "version": 3
   },
   "file_extension": ".py",
   "mimetype": "text/x-python",
   "name": "python",
   "nbconvert_exporter": "python",
   "pygments_lexer": "ipython3",
   "version": 3
  },
  "orig_nbformat": 2,
  "kernelspec": {
   "name": "julia-1.4",
   "display_name": "Julia 1.4.1",
   "language": "julia"
  }
 },
 "nbformat": 4,
 "nbformat_minor": 2,
 "cells": [
  {
   "source": [
    "# Interfaces"
   ],
   "cell_type": "markdown",
   "metadata": {}
  },
  {
   "source": [
    "A lot of the power and extensibility in Julia comes from a collection of informal interfaces. By extending a few specific methods to work for a custom type, objects of that type not only receive those functionalities, but they are also able to be used in other methods that are written to generically build upon those behaviors."
   ],
   "cell_type": "markdown",
   "metadata": {}
  },
  {
   "source": [
    "## Iteration"
   ],
   "cell_type": "markdown",
   "metadata": {}
  },
  {
   "source": [
    "    Required methods\t\tBrief description\n",
    "\n",
    "    iterate(iter)\t\t        Returns either a tuple of the first item and initial state or nothing if empty\n",
    "    iterate(iter, state)\t\tReturns either a tuple of the next item and next state or nothing if no items remain\n",
    "\n",
    "\n",
    "    Important optional methods\t    Default definition\t    Brief description\n",
    "\n",
    "    IteratorSize(IterType)\t            HasLength()\t            One of HasLength(), HasShape{N}(), IsInfinite(), or SizeUnknown() as appropriate\n",
    "    IteratorEltype(IterType)\t    HasEltype()\t            Either EltypeUnknown() or HasEltype() as appropriate\n",
    "    eltype(IterType)\t            Any\t                    The type of the first entry of the tuple returned by iterate()\n",
    "    length(iter)\t                    (undefined)\t            The number of items, if known\n",
    "    size(iter, [dim])\t            (undefined)\t            The number of items in each dimension, if known\n",
    "\n",
    "\n",
    "    Value returned by IteratorSize(IterType)\tRequired Methods\n",
    "\n",
    "    HasLength()\t                                length(iter)\n",
    "    HasShape{N}()\t                                length(iter) and size(iter, [dim])\n",
    "    IsInfinite()\t                                (none)\n",
    "    SizeUnknown()\t                                (none)\n",
    "\n",
    "\n",
    "    Value returned by IteratorEltype(IterType)\tRequired Methods\n",
    "\n",
    "    HasEltype()\t                                eltype(IterType)\n",
    "    EltypeUnknown()\t                                (none)"
   ],
   "cell_type": "markdown",
   "metadata": {}
  },
  {
   "source": [
    "Sequential iteration is implemented by the iterate function. Instead of mutating objects as they are iterated over, Julia iterators may keep track of the iteration state externally from the object. The return value from iterate is always either a tuple of a value and a state, or nothing if no elements remain. The state object will be passed back to the iterate function on the next iteration and is generally considered an implementation detail private to the iterable object.\n",
    "\n",
    "Any object that defines this function is iterable and can be used in the many functions that rely upon iteration. It can also be used directly in a for loop since the syntax:\n",
    "\n",
    "    for i in iter   # or  \"for i = iter\"\n",
    "        # body\n",
    "    end\n",
    "\n",
    "is translated into:\n",
    "\n",
    "    next = iterate(iter)\n",
    "    while next !== nothing\n",
    "        (i, state) = next\n",
    "        # body\n",
    "        next = iterate(iter, state)\n",
    "    end\n",
    "\n",
    "A simple example is an iterable sequence of square numbers with a defined length:"
   ],
   "cell_type": "markdown",
   "metadata": {}
  },
  {
   "cell_type": "code",
   "execution_count": 1,
   "metadata": {},
   "outputs": [],
   "source": [
    "struct Squares\n",
    "    count::Int\n",
    "end"
   ]
  },
  {
   "cell_type": "code",
   "execution_count": 2,
   "metadata": {},
   "outputs": [],
   "source": [
    "Base.iterate(S::Squares, state=1) = state > S.count ? nothing : (state*state, state+1)"
   ]
  },
  {
   "source": [
    "With only iterate definition, the Squares type is already pretty powerful. We can iterate over all the elements:"
   ],
   "cell_type": "markdown",
   "metadata": {}
  },
  {
   "cell_type": "code",
   "execution_count": 3,
   "metadata": {},
   "outputs": [
    {
     "output_type": "stream",
     "name": "stdout",
     "text": [
      "1\n4\n9\n16\n25\n36\n49\n"
     ]
    }
   ],
   "source": [
    "for i in Squares(7)\n",
    "    println(i)\n",
    "end"
   ]
  },
  {
   "source": [
    "We can use many of the builtin methods that work with iterables, like in, or mean and std from the Statistics standard library module:"
   ],
   "cell_type": "markdown",
   "metadata": {}
  },
  {
   "cell_type": "code",
   "execution_count": 4,
   "metadata": {},
   "outputs": [
    {
     "output_type": "execute_result",
     "data": {
      "text/plain": [
       "true"
      ]
     },
     "metadata": {},
     "execution_count": 4
    }
   ],
   "source": [
    "25 in Squares(10)"
   ]
  },
  {
   "cell_type": "code",
   "execution_count": 5,
   "metadata": {},
   "outputs": [
    {
     "output_type": "execute_result",
     "data": {
      "text/plain": [
       "3383.5"
      ]
     },
     "metadata": {},
     "execution_count": 5
    }
   ],
   "source": [
    "using Statistics\n",
    "mean(Squares(100))"
   ]
  },
  {
   "cell_type": "code",
   "execution_count": 6,
   "metadata": {},
   "outputs": [
    {
     "output_type": "execute_result",
     "data": {
      "text/plain": [
       "3024.355854282583"
      ]
     },
     "metadata": {},
     "execution_count": 6
    }
   ],
   "source": [
    "std(Squares(100))"
   ]
  },
  {
   "source": [
    "There are a few more methods we can extend to give Julia more information about this iterable collection. We know that the elements in a Squares sequence will always be Int. By extending the eltype method, we can give that information to Julia and help it make more specialized code in the more complicated methods. We also know the number of elements in our sequence, so we can extend length, too:"
   ],
   "cell_type": "markdown",
   "metadata": {}
  },
  {
   "cell_type": "code",
   "execution_count": 7,
   "metadata": {},
   "outputs": [],
   "source": [
    "Base.eltype(::Type{Squares}) = Int # Note that this is defined for the type"
   ]
  },
  {
   "cell_type": "code",
   "execution_count": 8,
   "metadata": {},
   "outputs": [],
   "source": [
    "Base.length(S::Squares) = S.count"
   ]
  },
  {
   "source": [
    "Now, when we ask Julia to collect all the elements into an array it can preallocate a Vector{Int} of the right size instead of blindly push!ing each element into a Vector{Any}:"
   ],
   "cell_type": "markdown",
   "metadata": {}
  },
  {
   "cell_type": "code",
   "execution_count": 9,
   "metadata": {},
   "outputs": [
    {
     "output_type": "execute_result",
     "data": {
      "text/plain": [
       "4-element Array{Int64,1}:\n",
       "  1\n",
       "  4\n",
       "  9\n",
       " 16"
      ]
     },
     "metadata": {},
     "execution_count": 9
    }
   ],
   "source": [
    "collect(Squares(4))"
   ]
  },
  {
   "source": [
    "While we can rely upon generic implementations, we can also extend specific methods where we know there is a simpler algorithm. For example, there's a formula to compute the sum of squares, so we can override the generic iterative version with a more performant solution:"
   ],
   "cell_type": "markdown",
   "metadata": {}
  },
  {
   "cell_type": "code",
   "execution_count": 10,
   "metadata": {},
   "outputs": [],
   "source": [
    "Base.sum(S::Squares) = (n = S.count; return n*(n+1)*(2n+1)÷6)"
   ]
  },
  {
   "cell_type": "code",
   "execution_count": 11,
   "metadata": {},
   "outputs": [
    {
     "output_type": "execute_result",
     "data": {
      "text/plain": [
       "1955361914"
      ]
     },
     "metadata": {},
     "execution_count": 11
    }
   ],
   "source": [
    "sum(Squares(1803))"
   ]
  },
  {
   "source": [
    "This is a very common pattern throughout Julia Base: a small set of required methods define an informal interface that enable many fancier behaviors. In some cases, types will want to additionally specialize those extra behaviors when they know a more efficient algorithm can be used in their specific case.\n",
    "\n",
    "It is also often useful to allow iteration over a collection in reverse order by iterating over Iterators.reverse(iterator). To actually support reverse-order iteration, however, an iterator type T needs to implement iterate for Iterators.Reverse{T}. (Given r::Iterators.Reverse{T}, the underling iterator of type T is r.itr.) In our Squares example, we would implement Iterators.Reverse{Squares} methods:"
   ],
   "cell_type": "markdown",
   "metadata": {}
  },
  {
   "cell_type": "code",
   "execution_count": 12,
   "metadata": {},
   "outputs": [],
   "source": [
    "Base.iterate(rS::Iterators.Reverse{Squares}, state=rS.itr.count) = state < 1 ? nothing : (state*state, state-1)"
   ]
  },
  {
   "cell_type": "code",
   "execution_count": 13,
   "metadata": {},
   "outputs": [
    {
     "output_type": "execute_result",
     "data": {
      "text/plain": [
       "4-element Array{Int64,1}:\n",
       " 16\n",
       "  9\n",
       "  4\n",
       "  1"
      ]
     },
     "metadata": {},
     "execution_count": 13
    }
   ],
   "source": [
    "collect(Iterators.reverse(Squares(4)))"
   ]
  },
  {
   "source": [
    "## Indexing"
   ],
   "cell_type": "markdown",
   "metadata": {}
  },
  {
   "source": [
    "    Methods to implement\t    Brief description\n",
    "    getindex(X, i)\t            X\\[i\\], indexed element access\n",
    "    setindex!(X, v, i)\t    X\\[i\\] = v, indexed assignment\n",
    "    firstindex(X)\t            The first index, used in X\\[begin\\]\n",
    "    lastindex(X)\t            The last index, used in X\\[end\\]\n",
    "\n",
    "For the Squares iterable above, we can easily compute the ith element of the sequence by squaring it. We can expose this as an indexing expression S\\[i\\]. To opt into this behavior, Squares simply needs to define getindex:"
   ],
   "cell_type": "markdown",
   "metadata": {}
  },
  {
   "cell_type": "code",
   "execution_count": 14,
   "metadata": {},
   "outputs": [],
   "source": [
    "function Base.getindex(S::Squares, i::Int)\n",
    "    1 <= i <= S.count || throw(BoundsError(S, i))\n",
    "    return i*i\n",
    "end"
   ]
  },
  {
   "cell_type": "code",
   "execution_count": 15,
   "metadata": {},
   "outputs": [
    {
     "output_type": "execute_result",
     "data": {
      "text/plain": [
       "529"
      ]
     },
     "metadata": {},
     "execution_count": 15
    }
   ],
   "source": [
    "Squares(100)[23]"
   ]
  },
  {
   "source": [
    "Additionally, to support the syntax S\\[begin\\] and S\\[end\\], we must define firstindex and lastindex to specify the first and last valid indices, respectively:"
   ],
   "cell_type": "markdown",
   "metadata": {}
  },
  {
   "cell_type": "code",
   "execution_count": 16,
   "metadata": {},
   "outputs": [],
   "source": [
    "Base.firstindex(S::Squares) = 1"
   ]
  },
  {
   "cell_type": "code",
   "execution_count": 17,
   "metadata": {},
   "outputs": [],
   "source": [
    "Base.lastindex(S::Squares) = length(S)"
   ]
  },
  {
   "cell_type": "code",
   "execution_count": 18,
   "metadata": {},
   "outputs": [
    {
     "output_type": "execute_result",
     "data": {
      "text/plain": [
       "529"
      ]
     },
     "metadata": {},
     "execution_count": 18
    }
   ],
   "source": [
    "Squares(23)[end]"
   ]
  },
  {
   "source": [
    "Note, though, that the above only defines getindex with one integer index. Indexing with anything other than an Int will throw a MethodError saying that there was no matching method. In order to support indexing with ranges or vectors of Ints, separate methods must be written:"
   ],
   "cell_type": "markdown",
   "metadata": {}
  },
  {
   "cell_type": "code",
   "execution_count": 19,
   "metadata": {},
   "outputs": [],
   "source": [
    "Base.getindex(S::Squares, i::Number) = S[convert(Int, i)]"
   ]
  },
  {
   "cell_type": "code",
   "execution_count": 20,
   "metadata": {},
   "outputs": [],
   "source": [
    "Base.getindex(S::Squares, I) = [S[i] for i in I]"
   ]
  },
  {
   "cell_type": "code",
   "execution_count": 21,
   "metadata": {},
   "outputs": [
    {
     "output_type": "execute_result",
     "data": {
      "text/plain": [
       "3-element Array{Int64,1}:\n",
       "  9\n",
       " 16\n",
       " 25"
      ]
     },
     "metadata": {},
     "execution_count": 21
    }
   ],
   "source": [
    "Squares(10)[[3,4.,5]]"
   ]
  },
  {
   "source": [
    "While this is starting to support more of the indexing operations supported by some of the builtin types, there's still quite a number of behaviors missing. This Squares sequence is starting to look more and more like a vector as we've added behaviors to it. Instead of defining all these behaviors ourselves, we can officially define it as a subtype of an AbstractArray."
   ],
   "cell_type": "markdown",
   "metadata": {}
  },
  {
   "source": [
    "## Abstract Arrays"
   ],
   "cell_type": "markdown",
   "metadata": {}
  },
  {
   "source": [
    "    Methods to implement\t\t                Brief description\n",
    "\n",
    "    size(A)\t\t                                Returns a tuple containing the dimensions of A\n",
    "    getindex(A, i::Int)\t\t                (if IndexLinear) Linear scalar indexing\n",
    "    getindex(A, I::Vararg{Int, N})\t\t        (if IndexCartesian, where N = ndims(A)) N-dimensional scalar indexing\n",
    "    setindex!(A, v, i::Int)\t\t                (if IndexLinear) Scalar indexed assignment\n",
    "    setindex!(A, v, I::Vararg{Int, N})\t        (if IndexCartesian, where N = ndims(A)) N-dimensional scalar indexed assignment\n",
    "\n",
    "\n",
    "    Optional methods\t                Default definition\t                        Brief description\n",
    "\n",
    "    IndexStyle(::Type)\t                IndexCartesian()\t                        Returns either IndexLinear() or IndexCartesian(). See the description below.\n",
    "    getindex(A, I...)\t                defined in terms of scalar getindex\t        Multidimensional and nonscalar indexing\n",
    "    setindex!(A, X, I...)\t                defined in terms of scalar setindex!            Multidimensional and nonscalar indexed assignment\n",
    "    iterate\t                                defined in terms of scalar getindex\t        Iteration\n",
    "    length(A)\t                        prod(size(A))\t                                Number of elements\n",
    "    similar(A)\t                        similar(A, eltype(A), size(A))\t                Return a mutable array with the same shape and element type\n",
    "    similar(A, ::Type{S})\t                similar(A, S, size(A))\t                        Return a mutable array with the same shape and the specified element type\n",
    "    similar(A, dims::Dims)\t                similar(A, eltype(A), dims)\t                Return a mutable array with the same element type and size dims\n",
    "    similar(A, ::Type{S}, dims::Dims)\tArray{S}(undef, dims)\t                        Return a mutable array with the specified element type and size\n",
    "\n",
    "\n",
    "    Non-traditional indices\t                Default definition\t                Brief description\n",
    "\n",
    "    axes(A)\t                                map(OneTo, size(A))\tReturn the      AbstractUnitRange of valid indices\n",
    "    similar(A, ::Type{S}, inds)\t        similar(A, S, Base.to_shape(inds))\tReturn a mutable array with the specified indices inds (see below)\n",
    "    similar(T::Union{Type,Function}, inds)\tT(Base.to_shape(inds))\t                Return an array similar to T with the specified indices inds (see below)\n",
    "\n",
    "\n",
    "If a type is defined as a subtype of AbstractArray, it inherits a very large set of rich behaviors including iteration and multidimensional indexing built on top of single-element access.\n",
    "\n",
    "A key part in defining an AbstractArray subtype is IndexStyle. Since indexing is such an important part of an array and often occurs in hot loops, it's important to make both indexing and indexed assignment as efficient as possible. Array data structures are typically defined in one of two ways: either it most efficiently accesses its elements using just one index (linear indexing) or it intrinsically accesses the elements with indices specified for every dimension. These two modalities are identified by Julia as IndexLinear() and IndexCartesian(). Converting a linear index to multiple indexing subscripts is typically very expensive, so this provides a traits-based mechanism to enable efficient generic code for all array types.\n",
    "\n",
    "This distinction determines which scalar indexing methods the type must define. IndexLinear() arrays are simple: just define getindex(A::ArrayType, i::Int). When the array is subsequently indexed with a multidimensional set of indices, the fallback getindex(A::AbstractArray, I...)() efficiently converts the indices into one linear index and then calls the above method. IndexCartesian() arrays, on the other hand, require methods to be defined for each supported dimensionality with ndims(A) Int indices. For example, SparseMatrixCSC from the SparseArrays standard library module, only supports two dimensions, so it just defines getindex(A::SparseMatrixCSC, i::Int, j::Int). The same holds for setindex!.\n",
    "\n",
    "Returning to the sequence of squares from above, we could instead define it as a subtype of an AbstractArray{Int, 1}:"
   ],
   "cell_type": "markdown",
   "metadata": {}
  },
  {
   "cell_type": "code",
   "execution_count": 22,
   "metadata": {},
   "outputs": [],
   "source": [
    "struct SquaresVector <: AbstractArray{Int, 1}\n",
    "    count::Int\n",
    "end"
   ]
  },
  {
   "cell_type": "code",
   "execution_count": 23,
   "metadata": {},
   "outputs": [],
   "source": [
    "Base.size(S::SquaresVector) = (S.count,)"
   ]
  },
  {
   "cell_type": "code",
   "execution_count": 24,
   "metadata": {},
   "outputs": [],
   "source": [
    "Base.IndexStyle(::Type{<:SquaresVector}) = IndexLinear()"
   ]
  },
  {
   "cell_type": "code",
   "execution_count": 25,
   "metadata": {},
   "outputs": [],
   "source": [
    "Base.getindex(S::SquaresVector, i::Int) = i*i"
   ]
  },
  {
   "source": [
    "Note that it's very important to specify the two parameters of the AbstractArray; the first defines the eltype, and the second defines the ndims. That supertype and those three methods are all it takes for SquaresVector to be an iterable, indexable, and completely functional array:"
   ],
   "cell_type": "markdown",
   "metadata": {}
  },
  {
   "cell_type": "code",
   "execution_count": 26,
   "metadata": {},
   "outputs": [
    {
     "output_type": "execute_result",
     "data": {
      "text/plain": [
       "4-element SquaresVector:\n",
       "  1\n",
       "  4\n",
       "  9\n",
       " 16"
      ]
     },
     "metadata": {},
     "execution_count": 26
    }
   ],
   "source": [
    "s = SquaresVector(4)"
   ]
  },
  {
   "cell_type": "code",
   "execution_count": 27,
   "metadata": {},
   "outputs": [
    {
     "output_type": "execute_result",
     "data": {
      "text/plain": [
       "2-element Array{Int64,1}:\n",
       "  9\n",
       " 16"
      ]
     },
     "metadata": {},
     "execution_count": 27
    }
   ],
   "source": [
    "s[s .> 8]"
   ]
  },
  {
   "cell_type": "code",
   "execution_count": 28,
   "metadata": {},
   "outputs": [
    {
     "output_type": "execute_result",
     "data": {
      "text/plain": [
       "4-element Array{Int64,1}:\n",
       "  2\n",
       "  8\n",
       " 18\n",
       " 32"
      ]
     },
     "metadata": {},
     "execution_count": 28
    }
   ],
   "source": [
    "s + s"
   ]
  },
  {
   "cell_type": "code",
   "execution_count": 29,
   "metadata": {},
   "outputs": [
    {
     "output_type": "execute_result",
     "data": {
      "text/plain": [
       "4-element Array{Float64,1}:\n",
       "  0.8414709848078965\n",
       " -0.7568024953079282\n",
       "  0.4121184852417566\n",
       " -0.2879033166650653"
      ]
     },
     "metadata": {},
     "execution_count": 29
    }
   ],
   "source": [
    "sin.(s)"
   ]
  },
  {
   "source": [
    "As a more complicated example, let's define our own toy N-dimensional sparse-like array type built on top of Dict:"
   ],
   "cell_type": "markdown",
   "metadata": {}
  },
  {
   "cell_type": "code",
   "execution_count": 30,
   "metadata": {},
   "outputs": [],
   "source": [
    "struct SparseArray{T,N} <: AbstractArray{T,N}\n",
    "    data::Dict{NTuple{N,Int}, T}\n",
    "    dims::NTuple{N,Int}\n",
    "end"
   ]
  },
  {
   "cell_type": "code",
   "execution_count": 31,
   "metadata": {},
   "outputs": [],
   "source": [
    "SparseArray(::Type{T}, dims::Int...) where {T} = SparseArray(T, dims);"
   ]
  },
  {
   "cell_type": "code",
   "execution_count": 32,
   "metadata": {},
   "outputs": [],
   "source": [
    "SparseArray(::Type{T}, dims::NTuple{N,Int}) where {T,N} = SparseArray{T,N}(Dict{NTuple{N,Int}, T}(), dims);"
   ]
  },
  {
   "cell_type": "code",
   "execution_count": 33,
   "metadata": {},
   "outputs": [],
   "source": [
    "Base.size(A::SparseArray) = A.dims"
   ]
  },
  {
   "cell_type": "code",
   "execution_count": 34,
   "metadata": {},
   "outputs": [],
   "source": [
    "Base.similar(A::SparseArray, ::Type{T}, dims::Dims) where {T} = SparseArray(T, dims)"
   ]
  },
  {
   "cell_type": "code",
   "execution_count": 35,
   "metadata": {},
   "outputs": [],
   "source": [
    "Base.getindex(A::SparseArray{T,N}, I::Vararg{Int,N}) where {T,N} = get(A.data, I, zero(T))"
   ]
  },
  {
   "cell_type": "code",
   "execution_count": 36,
   "metadata": {},
   "outputs": [],
   "source": [
    "Base.setindex!(A::SparseArray{T,N}, v, I::Vararg{Int,N}) where {T,N} = (A.data[I] = v)"
   ]
  },
  {
   "source": [
    "Notice that this is an IndexCartesian array, so we must manually define getindex and setindex! at the dimensionality of the array. Unlike the SquaresVector, we are able to define setindex!, and so we can mutate the array:"
   ],
   "cell_type": "markdown",
   "metadata": {}
  },
  {
   "cell_type": "code",
   "execution_count": 37,
   "metadata": {},
   "outputs": [
    {
     "output_type": "execute_result",
     "data": {
      "text/plain": [
       "3×3 SparseArray{Float64,2}:\n",
       " 0.0  0.0  0.0\n",
       " 0.0  0.0  0.0\n",
       " 0.0  0.0  0.0"
      ]
     },
     "metadata": {},
     "execution_count": 37
    }
   ],
   "source": [
    "A = SparseArray(Float64, 3, 3)"
   ]
  },
  {
   "cell_type": "code",
   "execution_count": 38,
   "metadata": {},
   "outputs": [
    {
     "output_type": "execute_result",
     "data": {
      "text/plain": [
       "3×3 SparseArray{Float64,2}:\n",
       " 2.0  2.0  2.0\n",
       " 2.0  2.0  2.0\n",
       " 2.0  2.0  2.0"
      ]
     },
     "metadata": {},
     "execution_count": 38
    }
   ],
   "source": [
    "fill!(A, 2)"
   ]
  },
  {
   "cell_type": "code",
   "execution_count": 39,
   "metadata": {},
   "outputs": [
    {
     "output_type": "execute_result",
     "data": {
      "text/plain": [
       "3×3 SparseArray{Float64,2}:\n",
       " 1.0  4.0  7.0\n",
       " 2.0  5.0  8.0\n",
       " 3.0  6.0  9.0"
      ]
     },
     "metadata": {},
     "execution_count": 39
    }
   ],
   "source": [
    "A[:] = 1:length(A); A"
   ]
  },
  {
   "source": [
    "The result of indexing an AbstractArray can itself be an array (for instance when indexing by an AbstractRange). The AbstractArray fallback methods use similar to allocate an Array of the appropriate size and element type, which is filled in using the basic indexing method described above. However, when implementing an array wrapper you often want the result to be wrapped as well:"
   ],
   "cell_type": "markdown",
   "metadata": {}
  },
  {
   "cell_type": "code",
   "execution_count": 40,
   "metadata": {},
   "outputs": [
    {
     "output_type": "execute_result",
     "data": {
      "text/plain": [
       "2×3 SparseArray{Float64,2}:\n",
       " 1.0  4.0  7.0\n",
       " 2.0  5.0  8.0"
      ]
     },
     "metadata": {},
     "execution_count": 40
    }
   ],
   "source": [
    "A[1:2,:]"
   ]
  },
  {
   "source": [
    "In this example it is accomplished by defining Base.similar{T}(A::SparseArray, ::Type{T}, dims::Dims) to create the appropriate wrapped array. (Note that while similar supports 1- and 2-argument forms, in most case you only need to specialize the 3-argument form.) For this to work it's important that SparseArray is mutable (supports setindex!). Defining similar, getindex and setindex! for SparseArray also makes it possible to copy the array:"
   ],
   "cell_type": "markdown",
   "metadata": {}
  },
  {
   "cell_type": "code",
   "execution_count": 41,
   "metadata": {},
   "outputs": [
    {
     "output_type": "execute_result",
     "data": {
      "text/plain": [
       "3×3 SparseArray{Float64,2}:\n",
       " 1.0  4.0  7.0\n",
       " 2.0  5.0  8.0\n",
       " 3.0  6.0  9.0"
      ]
     },
     "metadata": {},
     "execution_count": 41
    }
   ],
   "source": [
    "copy(A)"
   ]
  },
  {
   "source": [
    "In addition to all the iterable and indexable methods from above, these types can also interact with each other and use most of the methods defined in Julia Base for AbstractArrays:"
   ],
   "cell_type": "markdown",
   "metadata": {}
  },
  {
   "cell_type": "code",
   "execution_count": 42,
   "metadata": {},
   "outputs": [
    {
     "output_type": "execute_result",
     "data": {
      "text/plain": [
       "3-element SparseArray{Float64,1}:\n",
       " 1.0\n",
       " 4.0\n",
       " 9.0"
      ]
     },
     "metadata": {},
     "execution_count": 42
    }
   ],
   "source": [
    "A[SquaresVector(3)]"
   ]
  },
  {
   "cell_type": "code",
   "execution_count": 43,
   "metadata": {},
   "outputs": [
    {
     "output_type": "execute_result",
     "data": {
      "text/plain": [
       "45.0"
      ]
     },
     "metadata": {},
     "execution_count": 43
    }
   ],
   "source": [
    "sum(A)"
   ]
  },
  {
   "source": [
    "If you are defining an array type that allows non-traditional indexing (indices that start at something other than 1), you should specialize axes. You should also specialize similar so that the dims argument (ordinarily a Dims size-tuple) can accept AbstractUnitRange objects, perhaps range-types Ind of your own design. For more information, see Arrays with custom indices."
   ],
   "cell_type": "markdown",
   "metadata": {}
  },
  {
   "source": [
    "## Strided Arrays"
   ],
   "cell_type": "markdown",
   "metadata": {}
  },
  {
   "source": [
    "    Methods to implement\t\t                Brief description\n",
    "    strides(A)\t\t                        Return the distance in memory (in number of elements) between adjacent elements in each dimension as a tuple. If A is an AbstractArray{T,0}, this should return an empty tuple.\n",
    "    Base.unsafe_convert(::Type{Ptr{T}}, A)\t\tReturn the native address of an array.\n",
    "\n",
    "    Optional methods\tDefault definition\t    Brief description\n",
    "    stride(A, i::Int)\tstrides(A)\\[i\\]\t        Return the distance in memory (in number of elements) between adjacent elements in dimension k.\n",
    "\n",
    "A strided array is a subtype of AbstractArray whose entries are stored in memory with fixed strides. Provided the element type of the array is compatible with BLAS, a strided array can utilize BLAS and LAPACK routines for more efficient linear algebra routines. A typical example of a user-defined strided array is one that wraps a standard Array with additional structure.\n",
    "\n",
    "Warning: do not implement these methods if the underlying storage is not actually strided, as it may lead to incorrect results or segmentation faults.\n",
    "\n",
    "Here are some examples to demonstrate which type of arrays are strided and which are not:\n",
    "\n",
    "    1:5   # not strided (there is no storage associated with this array.)\n",
    "    Vector(1:5)  # is strided with strides (1,)\n",
    "    A = \\[1 5; 2 6; 3 7; 4 8\\]  # is strided with strides (1,4)\n",
    "    V = view(A, 1:2, :)   # is strided with strides (1,4)\n",
    "    V = view(A, 1:2:3, 1:2)   # is strided with strides (2,4)\n",
    "    V = view(A, \\[1,2,4\\], :)   # is not strided, as the spacing between rows is not fixed."
   ],
   "cell_type": "markdown",
   "metadata": {}
  },
  {
   "source": [
    "## Customizing broadcasting"
   ],
   "cell_type": "markdown",
   "metadata": {}
  },
  {
   "source": [
    "    Methods to implement\t                                        Brief description\n",
    "    \n",
    "    Base.BroadcastStyle(::Type{SrcType}) = SrcStyle()\t        Broadcasting behavior of SrcType\n",
    "    Base.similar(bc::Broadcasted{DestStyle}, ::Type{ElType})\tAllocation of output container\n",
    "\n",
    "\n",
    "    Optional methods\t\n",
    "\n",
    "    Base.BroadcastStyle(::Style1, ::Style2) = Style12()\t        Precedence rules for mixing styles\n",
    "    Base.axes(x)\t                                                Declaration of the indices of x, as per axes(x).\n",
    "    Base.broadcastable(x)\t                                        Convert x to an object that has axes and supports indexing\n",
    "\n",
    "    \n",
    "    Bypassing default machinery\t\n",
    "\n",
    "    Base.copy(bc::Broadcasted{DestStyle})\t                        Custom implementation of broadcast\n",
    "    Base.copyto!(dest, bc::Broadcasted{DestStyle})\t                Custom implementation of broadcast!, specializing on DestStyle\n",
    "    Base.copyto!(dest::DestType, bc::Broadcasted{Nothing})\t        Custom implementation of broadcast!, specializing on DestType\n",
    "    Base.Broadcast.broadcasted(f, args...)\t                        Override the default lazy behavior within a fused expression\n",
    "    Base.Broadcast.instantiate(bc::Broadcasted{DestStyle})\t        Override the computation of the lazy broadcast's axes\n",
    "\n",
    "Broadcasting is triggered by an explicit call to broadcast or broadcast!, or implicitly by \"dot\" operations like A .+ b or f.(x, y). Any object that has axes and supports indexing can participate as an argument in broadcasting, and by default the result is stored in an Array. This basic framework is extensible in three major ways:\n",
    "\n",
    "    Ensuring that all arguments support broadcast\n",
    "    Selecting an appropriate output array for the given set of arguments\n",
    "    Selecting an efficient implementation for the given set of arguments\n",
    "\n",
    "Not all types support axes and indexing, but many are convenient to allow in broadcast. The Base.broadcastable function is called on each argument to broadcast, allowing it to return something different that supports axes and indexing. By default, this is the identity function for all AbstractArrays and Numbers — they already support axes and indexing. For a handful of other types (including but not limited to types themselves, functions, special singletons like missing and nothing, and dates), Base.broadcastable returns the argument wrapped in a Ref to act as a 0-dimensional \"scalar\" for the purposes of broadcasting. Custom types can similarly specialize Base.broadcastable to define their shape, but they should follow the convention that collect(Base.broadcastable(x)) == collect(x). A notable exception is AbstractString; strings are special-cased to behave as scalars for the purposes of broadcast even though they are iterable collections of their characters (see Strings for more).\n",
    "\n",
    "The next two steps (selecting the output array and implementation) are dependent upon determining a single answer for a given set of arguments. Broadcast must take all the varied types of its arguments and collapse them down to just one output array and one implementation. Broadcast calls this single answer a \"style.\" Every broadcastable object each has its own preferred style, and a promotion-like system is used to combine these styles into a single answer — the \"destination style\"."
   ],
   "cell_type": "markdown",
   "metadata": {}
  },
  {
   "source": [
    "### Broadcast Styles"
   ],
   "cell_type": "markdown",
   "metadata": {}
  },
  {
   "source": [
    "Base.BroadcastStyle is the abstract type from which all broadcast styles are derived. When used as a function it has two possible forms, unary (single-argument) and binary. The unary variant states that you intend to implement specific broadcasting behavior and/or output type, and do not wish to rely on the default fallback Broadcast.DefaultArrayStyle.\n",
    "\n",
    "To override these defaults, you can define a custom BroadcastStyle for your object:\n",
    "\n",
    "    struct MyStyle <: Broadcast.BroadcastStyle end\n",
    "    Base.BroadcastStyle(::Type{<:MyType}) = MyStyle()\n",
    "\n",
    "In some cases it might be convenient not to have to define MyStyle, in which case you can leverage one of the general broadcast wrappers:\n",
    "\n",
    "    - Base.BroadcastStyle(::Type{<:MyType}) = Broadcast.Style{MyType}() can be used for arbitrary types.\n",
    "    - Base.BroadcastStyle(::Type{<:MyType}) = Broadcast.ArrayStyle{MyType}() is preferred if MyType is an AbstractArray.\n",
    "    - For AbstractArrays that only support a certain dimensionality, create a subtype of Broadcast.AbstractArrayStyle{N} (see below).\n",
    "\n",
    "When your broadcast operation involves several arguments, individual argument styles get combined to determine a single DestStyle that controls the type of the output container. For more details, see below."
   ],
   "cell_type": "markdown",
   "metadata": {}
  },
  {
   "source": [
    "### Selecting an appropriate output array"
   ],
   "cell_type": "markdown",
   "metadata": {}
  },
  {
   "source": [
    "The broadcast style is computed for every broadcasting operation to allow for dispatch and specialization. The actual allocation of the result array is handled by similar, using the Broadcasted object as its first argument.\n",
    "\n",
    "    Base.similar(bc::Broadcasted{DestStyle}, ::Type{ElType})\n",
    "\n",
    "The fallback definition is\n",
    "\n",
    "    similar(bc::Broadcasted{DefaultArrayStyle{N}}, ::Type{ElType}) where {N,ElType} =\n",
    "        similar(Array{ElType}, axes(bc))\n",
    "\n",
    "However, if needed you can specialize on any or all of these arguments. The final argument bc is a lazy representation of a (potentially fused) broadcast operation, a Broadcasted object. For these purposes, the most important fields of the wrapper are f and args, describing the function and argument list, respectively. Note that the argument list can — and often does — include other nested Broadcasted wrappers.\n",
    "\n",
    "For a complete example, let's say you have created a type, ArrayAndChar, that stores an array and a single character:"
   ],
   "cell_type": "markdown",
   "metadata": {}
  },
  {
   "cell_type": "code",
   "execution_count": 44,
   "metadata": {},
   "outputs": [],
   "source": [
    "struct ArrayAndChar{T,N} <: AbstractArray{T,N}\n",
    "    data::Array{T,N}\n",
    "    char::Char\n",
    "end\n",
    "Base.size(A::ArrayAndChar) = size(A.data)\n",
    "Base.getindex(A::ArrayAndChar{T,N}, inds::Vararg{Int,N}) where {T,N} = A.data[inds...]\n",
    "Base.setindex!(A::ArrayAndChar{T,N}, val, inds::Vararg{Int,N}) where {T,N} = A.data[inds...] = val\n",
    "Base.showarg(io::IO, A::ArrayAndChar, toplevel) = print(io, typeof(A), \" with char '\", A.char, \"'\")"
   ]
  },
  {
   "source": [
    "You might want broadcasting to preserve the char \"metadata.\" First we define"
   ],
   "cell_type": "markdown",
   "metadata": {}
  },
  {
   "cell_type": "code",
   "execution_count": 45,
   "metadata": {},
   "outputs": [],
   "source": [
    "Base.BroadcastStyle(::Type{<:ArrayAndChar}) = Broadcast.ArrayStyle{ArrayAndChar}()"
   ]
  },
  {
   "source": [
    "This means we must also define a corresponding similar method:"
   ],
   "cell_type": "markdown",
   "metadata": {}
  },
  {
   "cell_type": "code",
   "execution_count": 46,
   "metadata": {},
   "outputs": [
    {
     "output_type": "execute_result",
     "data": {
      "text/plain": [
       "find_aac (generic function with 6 methods)"
      ]
     },
     "metadata": {},
     "execution_count": 46
    }
   ],
   "source": [
    "function Base.similar(bc::Broadcast.Broadcasted{Broadcast.ArrayStyle{ArrayAndChar}}, ::Type{ElType}) where ElType\n",
    "    # Scan the inputs for the ArrayAndChar:\n",
    "    A = find_aac(bc)\n",
    "    # Use the char field of A to create the output\n",
    "    ArrayAndChar(similar(Array{ElType}, axes(bc)), A.char)\n",
    "end\n",
    "\n",
    "\"`A = find_aac(As)` returns the first ArrayAndChar among the arguments.\"\n",
    "find_aac(bc::Base.Broadcast.Broadcasted) = find_aac(bc.args)\n",
    "find_aac(args::Tuple) = find_aac(find_aac(args[1]), Base.tail(args))\n",
    "find_aac(x) = x\n",
    "find_aac(::Tuple{}) = nothing\n",
    "find_aac(a::ArrayAndChar, rest) = a\n",
    "find_aac(::Any, rest) = find_aac(rest)"
   ]
  },
  {
   "source": [
    "From these definitions, one obtains the following behavior:"
   ],
   "cell_type": "markdown",
   "metadata": {}
  },
  {
   "cell_type": "code",
   "execution_count": 47,
   "metadata": {},
   "outputs": [
    {
     "output_type": "execute_result",
     "data": {
      "text/plain": [
       "2×2 ArrayAndChar{Int64,2} with char 'x':\n",
       " 1  2\n",
       " 3  4"
      ]
     },
     "metadata": {},
     "execution_count": 47
    }
   ],
   "source": [
    "a = ArrayAndChar([1 2; 3 4], 'x')"
   ]
  },
  {
   "cell_type": "code",
   "execution_count": 48,
   "metadata": {},
   "outputs": [
    {
     "output_type": "execute_result",
     "data": {
      "text/plain": [
       "2×2 ArrayAndChar{Int64,2} with char 'x':\n",
       " 2  3\n",
       " 4  5"
      ]
     },
     "metadata": {},
     "execution_count": 48
    }
   ],
   "source": [
    "a .+ 1"
   ]
  },
  {
   "cell_type": "code",
   "execution_count": 49,
   "metadata": {},
   "outputs": [
    {
     "output_type": "execute_result",
     "data": {
      "text/plain": [
       "2×2 ArrayAndChar{Int64,2} with char 'x':\n",
       "  6   7\n",
       " 13  14"
      ]
     },
     "metadata": {},
     "execution_count": 49
    }
   ],
   "source": [
    "a .+ [5,10]"
   ]
  },
  {
   "source": [
    "### Extending broadcast with custom implementations"
   ],
   "cell_type": "markdown",
   "metadata": {}
  },
  {
   "source": [
    "In general, a broadcast operation is represented by a lazy Broadcasted container that holds onto the function to be applied alongside its arguments. Those arguments may themselves be more nested Broadcasted containers, forming a large expression tree to be evaluated. A nested tree of Broadcasted containers is directly constructed by the implicit dot syntax; 5 .+ 2.*x is transiently represented by Broadcasted(+, 5, Broadcasted(*, 2, x)), for example. This is invisible to users as it is immediately realized through a call to copy, but it is this container that provides the basis for broadcast's extensibility for authors of custom types. The built-in broadcast machinery will then determine the result type and size based upon the arguments, allocate it, and then finally copy the realization of the Broadcasted object into it with a default copyto!(::AbstractArray, ::Broadcasted) method. The built-in fallback broadcast and broadcast! methods similarly construct a transient Broadcasted representation of the operation so they can follow the same codepath. This allows custom array implementations to provide their own copyto! specialization to customize and optimize broadcasting. This is again determined by the computed broadcast style. This is such an important part of the operation that it is stored as the first type parameter of the Broadcasted type, allowing for dispatch and specialization.\n",
    "\n",
    "For some types, the machinery to \"fuse\" operations across nested levels of broadcasting is not available or could be done more efficiently incrementally. In such cases, you may need or want to evaluate x .* (x .+ 1) as if it had been written broadcast(*, x, broadcast(+, x, 1)), where the inner operation is evaluated before tackling the outer operation. This sort of eager operation is directly supported by a bit of indirection; instead of directly constructing Broadcasted objects, Julia lowers the fused expression x .* (x .+ 1) to Broadcast.broadcasted(*, x, Broadcast.broadcasted(+, x, 1)). Now, by default, broadcasted just calls the Broadcasted constructor to create the lazy representation of the fused expression tree, but you can choose to override it for a particular combination of function and arguments.\n",
    "\n",
    "As an example, the builtin AbstractRange objects use this machinery to optimize pieces of broadcasted expressions that can be eagerly evaluated purely in terms of the start, step, and length (or stop) instead of computing every single element. Just like all the other machinery, broadcasted also computes and exposes the combined broadcast style of its arguments, so instead of specializing on broadcasted(f, args...), you can specialize on broadcasted(::DestStyle, f, args...) for any combination of style, function, and arguments.\n",
    "\n",
    "For example, the following definition supports the negation of ranges:\n",
    "\n",
    "    broadcasted(::DefaultArrayStyle{1}, ::typeof(-), r::OrdinalRange) = range(-first(r), step=-step(r), length=length(r))"
   ],
   "cell_type": "markdown",
   "metadata": {}
  },
  {
   "source": [
    "### Extending in-place broadcasting"
   ],
   "cell_type": "markdown",
   "metadata": {}
  },
  {
   "source": [
    "In-place broadcasting can be supported by defining the appropriate copyto!(dest, bc::Broadcasted) method. Because you might want to specialize either on dest or the specific subtype of bc, to avoid ambiguities between packages we recommend the following convention.\n",
    "\n",
    "If you wish to specialize on a particular style DestStyle, define a method for\n",
    "\n",
    "    copyto!(dest, bc::Broadcasted{DestStyle})\n",
    "\n",
    "Optionally, with this form you can also specialize on the type of dest.\n",
    "\n",
    "If instead you want to specialize on the destination type DestType without specializing on DestStyle, then you should define a method with the following signature:\n",
    "\n",
    "    copyto!(dest::DestType, bc::Broadcasted{Nothing})\n",
    "\n",
    "This leverages a fallback implementation of copyto! that converts the wrapper into a Broadcasted{Nothing}. Consequently, specializing on DestType has lower precedence than methods that specialize on DestStyle.\n",
    "\n",
    "Similarly, you can completely override out-of-place broadcasting with a copy(::Broadcasted) method."
   ],
   "cell_type": "markdown",
   "metadata": {}
  },
  {
   "cell_type": "code",
   "execution_count": 50,
   "metadata": {},
   "outputs": [
    {
     "output_type": "stream",
     "name": "stdout",
     "text": [
      "search: \u001b[0m\u001b[1mc\u001b[22m\u001b[0m\u001b[1mo\u001b[22m\u001b[0m\u001b[1mp\u001b[22m\u001b[0m\u001b[1my\u001b[22m\u001b[0m\u001b[1mt\u001b[22m\u001b[0m\u001b[1mo\u001b[22m\u001b[0m\u001b[1m!\u001b[22m unsafe_\u001b[0m\u001b[1mc\u001b[22m\u001b[0m\u001b[1mo\u001b[22m\u001b[0m\u001b[1mp\u001b[22m\u001b[0m\u001b[1my\u001b[22m\u001b[0m\u001b[1mt\u001b[22m\u001b[0m\u001b[1mo\u001b[22m\u001b[0m\u001b[1m!\u001b[22m\n",
      "\n"
     ]
    },
    {
     "output_type": "execute_result",
     "data": {
      "text/plain": [
       "\u001b[36m  copyto!(dest, do, src, so, N)\u001b[39m\n",
       "\n",
       "  Copy \u001b[36mN\u001b[39m elements from collection \u001b[36msrc\u001b[39m starting at offset \u001b[36mso\u001b[39m, to array \u001b[36mdest\u001b[39m\n",
       "  starting at offset \u001b[36mdo\u001b[39m. Return \u001b[36mdest\u001b[39m.\n",
       "\n",
       "  ────────────────────────────────────────────────────────────────────────────\n",
       "\n",
       "\u001b[36m  copyto!(dest::AbstractArray, src) -> dest\u001b[39m\n",
       "\n",
       "  Copy all elements from collection \u001b[36msrc\u001b[39m to array \u001b[36mdest\u001b[39m, whose length must be\n",
       "  greater than or equal to the length \u001b[36mn\u001b[39m of \u001b[36msrc\u001b[39m. The first \u001b[36mn\u001b[39m elements of \u001b[36mdest\u001b[39m\n",
       "  are overwritten, the other elements are left untouched.\n",
       "\n",
       "\u001b[1m  Examples\u001b[22m\n",
       "\u001b[1m  ≡≡≡≡≡≡≡≡≡≡\u001b[22m\n",
       "\n",
       "\u001b[36m  julia> x = [1., 0., 3., 0., 5.];\u001b[39m\n",
       "\u001b[36m  \u001b[39m\n",
       "\u001b[36m  julia> y = zeros(7);\u001b[39m\n",
       "\u001b[36m  \u001b[39m\n",
       "\u001b[36m  julia> copyto!(y, x);\u001b[39m\n",
       "\u001b[36m  \u001b[39m\n",
       "\u001b[36m  julia> y\u001b[39m\n",
       "\u001b[36m  7-element Array{Float64,1}:\u001b[39m\n",
       "\u001b[36m   1.0\u001b[39m\n",
       "\u001b[36m   0.0\u001b[39m\n",
       "\u001b[36m   3.0\u001b[39m\n",
       "\u001b[36m   0.0\u001b[39m\n",
       "\u001b[36m   5.0\u001b[39m\n",
       "\u001b[36m   0.0\u001b[39m\n",
       "\u001b[36m   0.0\u001b[39m\n",
       "\n",
       "  ────────────────────────────────────────────────────────────────────────────\n",
       "\n",
       "\u001b[36m  copyto!(dest, Rdest::CartesianIndices, src, Rsrc::CartesianIndices) -> dest\u001b[39m\n",
       "\n",
       "  Copy the block of \u001b[36msrc\u001b[39m in the range of \u001b[36mRsrc\u001b[39m to the block of \u001b[36mdest\u001b[39m in the range\n",
       "  of \u001b[36mRdest\u001b[39m. The sizes of the two regions must match.\n",
       "\n",
       "  ────────────────────────────────────────────────────────────────────────────\n",
       "\n",
       "\u001b[36m  copyto!(dest::AbstractMatrix, src::UniformScaling)\u001b[39m\n",
       "\n",
       "  Copies a \u001b[36mUniformScaling\u001b[39m onto a matrix.\n",
       "\n",
       "\u001b[39m\u001b[1m  │ \u001b[22m\u001b[39m\u001b[1mJulia 1.1\u001b[22m\n",
       "\u001b[39m\u001b[1m  │\u001b[22m\n",
       "\u001b[39m\u001b[1m  │\u001b[22m  In Julia 1.0 this method only supported a square destination\n",
       "\u001b[39m\u001b[1m  │\u001b[22m  matrix. Julia 1.1. added support for a rectangular matrix."
      ],
      "text/markdown": "```\ncopyto!(dest, do, src, so, N)\n```\n\nCopy `N` elements from collection `src` starting at offset `so`, to array `dest` starting at offset `do`. Return `dest`.\n\n---\n\n```\ncopyto!(dest::AbstractArray, src) -> dest\n```\n\nCopy all elements from collection `src` to array `dest`, whose length must be greater than or equal to the length `n` of `src`. The first `n` elements of `dest` are overwritten, the other elements are left untouched.\n\n# Examples\n\n```jldoctest\njulia> x = [1., 0., 3., 0., 5.];\n\njulia> y = zeros(7);\n\njulia> copyto!(y, x);\n\njulia> y\n7-element Array{Float64,1}:\n 1.0\n 0.0\n 3.0\n 0.0\n 5.0\n 0.0\n 0.0\n```\n\n---\n\n```\ncopyto!(dest, Rdest::CartesianIndices, src, Rsrc::CartesianIndices) -> dest\n```\n\nCopy the block of `src` in the range of `Rsrc` to the block of `dest` in the range of `Rdest`. The sizes of the two regions must match.\n\n---\n\n```\ncopyto!(dest::AbstractMatrix, src::UniformScaling)\n```\n\nCopies a [`UniformScaling`](@ref) onto a matrix.\n\n!!! compat \"Julia 1.1\"\n    In Julia 1.0 this method only supported a square destination matrix. Julia 1.1. added support for a rectangular matrix.\n\n",
      "text/latex": "\\begin{verbatim}\ncopyto!(dest, do, src, so, N)\n\\end{verbatim}\nCopy \\texttt{N} elements from collection \\texttt{src} starting at offset \\texttt{so}, to array \\texttt{dest} starting at offset \\texttt{do}. Return \\texttt{dest}.\n\n\\rule{\\textwidth}{1pt}\n\\begin{verbatim}\ncopyto!(dest::AbstractArray, src) -> dest\n\\end{verbatim}\nCopy all elements from collection \\texttt{src} to array \\texttt{dest}, whose length must be greater than or equal to the length \\texttt{n} of \\texttt{src}. The first \\texttt{n} elements of \\texttt{dest} are overwritten, the other elements are left untouched.\n\n\\section{Examples}\n\\begin{verbatim}\njulia> x = [1., 0., 3., 0., 5.];\n\njulia> y = zeros(7);\n\njulia> copyto!(y, x);\n\njulia> y\n7-element Array{Float64,1}:\n 1.0\n 0.0\n 3.0\n 0.0\n 5.0\n 0.0\n 0.0\n\\end{verbatim}\n\\rule{\\textwidth}{1pt}\n\\begin{verbatim}\ncopyto!(dest, Rdest::CartesianIndices, src, Rsrc::CartesianIndices) -> dest\n\\end{verbatim}\nCopy the block of \\texttt{src} in the range of \\texttt{Rsrc} to the block of \\texttt{dest} in the range of \\texttt{Rdest}. The sizes of the two regions must match.\n\n\\rule{\\textwidth}{1pt}\n\\begin{verbatim}\ncopyto!(dest::AbstractMatrix, src::UniformScaling)\n\\end{verbatim}\nCopies a \\href{@ref}{\\texttt{UniformScaling}} onto a matrix.\n\n\\begin{quote}\n\\textbf{compat}\n\nJulia 1.1\n\nIn Julia 1.0 this method only supported a square destination matrix. Julia 1.1. added support for a rectangular matrix.\n\n\\end{quote}\n"
     },
     "metadata": {},
     "execution_count": 50
    }
   ],
   "source": [
    "?copyto!"
   ]
  },
  {
   "source": [
    "#### Working with Broadcasted objects"
   ],
   "cell_type": "markdown",
   "metadata": {}
  },
  {
   "source": [
    "In order to implement such a copy or copyto!, method, of course, you must work with the Broadcasted wrapper to compute each element. There are two main ways of doing so:\n",
    "\n",
    "    Broadcast.flatten recomputes the potentially nested operation into a single function and flat list of arguments. You are responsible for implementing the broadcasting shape rules yourself, but this may be helpful in limited situations.\n",
    "\n",
    "    Iterating over the CartesianIndices of the axes(::Broadcasted) and using indexing with the resulting CartesianIndex object to compute the result."
   ],
   "cell_type": "markdown",
   "metadata": {}
  },
  {
   "source": [
    "### Writing binary broadcasting rules"
   ],
   "cell_type": "markdown",
   "metadata": {}
  },
  {
   "source": [
    "The precedence rules are defined by binary BroadcastStyle calls:\n",
    "\n",
    "    Base.BroadcastStyle(::Style1, ::Style2) = Style12()\n",
    "\n",
    "where Style12 is the BroadcastStyle you want to choose for outputs involving arguments of Style1 and Style2. For example,\n",
    "\n",
    "Base.BroadcastStyle(::Broadcast.Style{Tuple}, ::Broadcast.AbstractArrayStyle{0}) = Broadcast.Style{Tuple}()\n",
    "indicates that Tuple \"wins\" over zero-dimensional arrays (the output container will be a tuple). It is worth noting that you do not need to (and should not) define both argument orders of this call; defining one is sufficient no matter what order the user supplies the arguments in.\n",
    "\n",
    "For AbstractArray types, defining a BroadcastStyle supersedes the fallback choice, Broadcast.DefaultArrayStyle. DefaultArrayStyle and the abstract supertype, AbstractArrayStyle, store the dimensionality as a type parameter to support specialized array types that have fixed dimensionality requirements.\n",
    "\n",
    "DefaultArrayStyle \"loses\" to any other AbstractArrayStyle that has been defined because of the following methods:\n",
    "\n",
    "    BroadcastStyle(a::AbstractArrayStyle{Any}, ::DefaultArrayStyle) = a\n",
    "    BroadcastStyle(a::AbstractArrayStyle{N}, ::DefaultArrayStyle{N}) where N = a\n",
    "    BroadcastStyle(a::AbstractArrayStyle{M}, ::DefaultArrayStyle{N}) where {M,N} =\n",
    "        typeof(a)(_max(Val(M),Val(N)))\n",
    "\n",
    "You do not need to write binary BroadcastStyle rules unless you want to establish precedence for two or more non-DefaultArrayStyle types.\n",
    "\n",
    "If your array type does have fixed dimensionality requirements, then you should subtype AbstractArrayStyle. For example, the sparse array code has the following definitions:\n",
    "\n",
    "    struct SparseVecStyle <: Broadcast.AbstractArrayStyle{1} end\n",
    "    struct SparseMatStyle <: Broadcast.AbstractArrayStyle{2} end\n",
    "    Base.BroadcastStyle(::Type{<:SparseVector}) = SparseVecStyle()\n",
    "    Base.BroadcastStyle(::Type{<:SparseMatrixCSC}) = SparseMatStyle()\n",
    "\n",
    "Whenever you subtype AbstractArrayStyle, you also need to define rules for combining dimensionalities, by creating a constructor for your style that takes a Val(N) argument. For example:\n",
    "\n",
    "    SparseVecStyle(::Val{0}) = SparseVecStyle()\n",
    "    SparseVecStyle(::Val{1}) = SparseVecStyle()\n",
    "    SparseVecStyle(::Val{2}) = SparseMatStyle()\n",
    "    SparseVecStyle(::Val{N}) where N = Broadcast.DefaultArrayStyle{N}()\n",
    "\n",
    "These rules indicate that the combination of a SparseVecStyle with 0- or 1-dimensional arrays yields another SparseVecStyle, that its combination with a 2-dimensional array yields a SparseMatStyle, and anything of higher dimensionality falls back to the dense arbitrary-dimensional framework. These rules allow broadcasting to keep the sparse representation for operations that result in one or two dimensional outputs, but produce an Array for any other dimensionality."
   ],
   "cell_type": "markdown",
   "metadata": {}
  }
 ]
}
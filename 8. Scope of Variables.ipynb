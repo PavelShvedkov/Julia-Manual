{
 "metadata": {
  "language_info": {
   "codemirror_mode": {
    "name": "ipython",
    "version": 3
   },
   "file_extension": ".py",
   "mimetype": "text/x-python",
   "name": "python",
   "nbconvert_exporter": "python",
   "pygments_lexer": "ipython3",
   "version": "3.8.5-final"
  },
  "orig_nbformat": 2,
  "kernelspec": {
   "name": "julia-1.4",
   "display_name": "Julia 1.4.1",
   "language": "julia"
  }
 },
 "nbformat": 4,
 "nbformat_minor": 2,
 "cells": [
  {
   "source": [
    "# Scope of Variables"
   ],
   "cell_type": "markdown",
   "metadata": {}
  },
  {
   "source": [
    "The scope of a variable is the region of code within which a variable is visible. Variable scoping helps avoid variable naming conflicts. The concept is intuitive: two functions can both have arguments called x without the two x's referring to the same thing. Similarly, there are many other cases where different blocks of code can use the same name without referring to the same thing. The rules for when the same variable name does or doesn't refer to the same thing are called scope rules; this section spells them out in detail.\n",
    "\n",
    "Certain constructs in the language introduce scope blocks, which are regions of code that are eligible to be the scope of some set of variables. The scope of a variable cannot be an arbitrary set of source lines; instead, it will always line up with one of these blocks. There are two main types of scopes in Julia, global scope and local scope. The latter can be nested. There is also a distinction in Julia between constructs which introduce a \"hard scope\" and those which only introduce a \"soft scope\", which affects whether shadowing a global variable by the same name is allowed or not."
   ],
   "cell_type": "markdown",
   "metadata": {}
  },
  {
   "source": [
    "### Scope constructs"
   ],
   "cell_type": "markdown",
   "metadata": {}
  },
  {
   "source": [
    "The constructs introducing scope blocks are:\n",
    "\n",
    "    Construct\t                                Scope type\t    Allowed within\n",
    "\n",
    "    module, baremodule\t                        global\t            global\n",
    "\n",
    "    struct\t                                        local (soft)        global\n",
    "\n",
    "    for, while, try\t                                local (soft)\t    global or local\n",
    "\n",
    "    macro\t                                        local (hard)\t    global\n",
    "\n",
    "    let, functions, comprehensions, generators\tlocal (hard)\t    global or local\n",
    "\n",
    "Notably missing from this table are begin blocks and if blocks which do not introduce new scopes. The three types of scopes follow somewhat different rules which will be explained below.\n",
    "\n"
   ],
   "cell_type": "markdown",
   "metadata": {}
  },
  {
   "source": [
    "Julia uses lexical scoping, meaning that a function's scope does not inherit from its caller's scope, but from the scope in which the function was defined. For example, in the following code the x inside foo refers to the x in the global scope of its module Bar:"
   ],
   "cell_type": "markdown",
   "metadata": {}
  },
  {
   "cell_type": "code",
   "execution_count": 1,
   "metadata": {},
   "outputs": [],
   "source": [
    "module Bar\n",
    "    x = 1\n",
    "    foo() = x\n",
    "end;"
   ]
  },
  {
   "source": [
    "and not a x in the scope where foo is used:"
   ],
   "cell_type": "markdown",
   "metadata": {}
  },
  {
   "cell_type": "code",
   "execution_count": 2,
   "metadata": {},
   "outputs": [
    {
     "output_type": "execute_result",
     "data": {
      "text/plain": [
       "1"
      ]
     },
     "metadata": {},
     "execution_count": 2
    }
   ],
   "source": [
    "import .Bar\n",
    "x = -1;\n",
    "Bar.foo()"
   ]
  },
  {
   "source": [
    "Thus lexical scope means that what a variable in a particular piece of code refers to can be deduced from the code in which it appears alone and does not depend on how the program executes. A scope nested inside another scope can \"see\" variables in all the outer scopes in which it is contained. Outer scopes, on the other hand, cannot see variables in inner scopes."
   ],
   "cell_type": "markdown",
   "metadata": {}
  },
  {
   "source": [
    "## Global Scope"
   ],
   "cell_type": "markdown",
   "metadata": {}
  },
  {
   "source": [
    "Each module introduces a new global scope, separate from the global scope of all other modules—there is no all-encompassing global scope. Modules can introduce variables of other modules into their scope through the using or import statements or through qualified access using the dot-notation, i.e. each module is a so-called namespace as well as a first-class data structure associating names with values. Note that while variable bindings can be read externally, they can only be changed within the module to which they belong. As an escape hatch, you can always evaluate code inside that module to modify a variable; this guarantees, in particular, that module bindings cannot be modified externally by code that never calls eval."
   ],
   "cell_type": "markdown",
   "metadata": {}
  },
  {
   "cell_type": "code",
   "execution_count": 3,
   "metadata": {},
   "outputs": [],
   "source": [
    "module A\n",
    "    a = 1 # a global in A's scope\n",
    "end;"
   ]
  },
  {
   "cell_type": "code",
   "execution_count": 4,
   "metadata": {},
   "outputs": [],
   "source": [
    "module B\n",
    "    module C\n",
    "        c = 2\n",
    "    end\n",
    "    b = C.c    # can access the namespace of a nested global scope\n",
    "                      # through a qualified access\n",
    "    import ..A # makes module A available\n",
    "    d = A.a\n",
    "end;"
   ]
  },
  {
   "cell_type": "code",
   "execution_count": 5,
   "metadata": {},
   "outputs": [
    {
     "output_type": "error",
     "ename": "UndefVarError",
     "evalue": "UndefVarError: a not defined",
     "traceback": [
      "UndefVarError: a not defined",
      "",
      "Stacktrace:",
      " [1] top-level scope at In[5]:2"
     ]
    }
   ],
   "source": [
    "module D\n",
    "    b = a # errors as D's global scope is separate from A's\n",
    "end;"
   ]
  },
  {
   "cell_type": "code",
   "execution_count": 6,
   "metadata": {},
   "outputs": [
    {
     "output_type": "error",
     "ename": "ErrorException",
     "evalue": "cannot assign variables in other modules",
     "traceback": [
      "cannot assign variables in other modules",
      "",
      "Stacktrace:",
      " [1] setproperty!(::Module, ::Symbol, ::Int64) at ./Base.jl:27",
      " [2] top-level scope at In[6]:3"
     ]
    }
   ],
   "source": [
    "module E\n",
    "    import ..A # make module A available\n",
    "    A.a = 2    # throws below error\n",
    "end;"
   ]
  },
  {
   "source": [
    "Note that the interactive prompt (aka REPL) is in the global scope of the module Main."
   ],
   "cell_type": "markdown",
   "metadata": {}
  },
  {
   "source": [
    "## Local Scope"
   ],
   "cell_type": "markdown",
   "metadata": {}
  },
  {
   "source": [
    "A new local scope is introduced by most code blocks (see above table for a complete list). Some programming languages require explicitly declaring new variables before using them. Explicit declaration works in Julia too: in any local scope, writing local x declares a new local variable in that scope, regardless of whether there is already a variable named x in an outer scope or not. Declaring each new local like this is somewhat verbose and tedious, however, so Julia, like many other languages, considers assignment to a new variable in a local scope to implicitly declare that variable as a new local. Mostly this is pretty intuitive, but as with many things that behave intuitively, the details are more subtle than one might naïvely imagine.\n",
    "\n",
    "When x = <value> occurs in a local scope, Julia applies the following rules to decide what the expression means based on where the assignment expression occurs and what x already refers to at that location:\n",
    "\n",
    "    1. Existing local: If x is already a local variable, then the existing local x is assigned;\n",
    "    2. Hard scope: If x is not already a local variable and assignment occurs inside of any hard scope construct (i.e. within a let block, function or macro body, comprehension, or generator), a new local named x is created in the scope of the assignment;\n",
    "    3. Soft scope: If x is not already a local variable and all of the scope constructs containing the assignment are soft scopes (loops, try/catch blocks, or struct blocks), the behavior depends on whether the global variable x is defined:\n",
    "    - if global x is undefined, a new local named x is created in the scope of the assignment;\n",
    "    - if global x is defined, the assignment is considered ambiguous:\n",
    "        - in non-interactive contexts (files, eval), an ambiguity warning is printed and a new local is created;\n",
    "        - in interactive contexts (REPL, notebooks), the global variable x is assigned.\n",
    "\n",
    "You may note that in non-interactive contexts the hard and soft scope behaviors are identical except that a warning is printed when an implicitly local variable (i.e. not declared with local x) shadows a global. In interactive contexts, the rules follow a more complex heuristic for the sake of convenience. This is covered in depth in examples that follow.\n",
    "\n",
    "Now that you know the rules, let's look at some examples. Each example is assumed to be evaluated in a fresh REPL session so that the only globals in each snippet are the ones that are assigned in that block of code.\n",
    "\n",
    "We'll begin with a nice and clear-cut situation—assignment inside of a hard scope, in this case a function body, when no local variable by that name already exists:"
   ],
   "cell_type": "markdown",
   "metadata": {}
  },
  {
   "cell_type": "code",
   "execution_count": 7,
   "metadata": {},
   "outputs": [
    {
     "output_type": "execute_result",
     "data": {
      "text/plain": [
       "greet (generic function with 1 method)"
      ]
     },
     "metadata": {},
     "execution_count": 7
    }
   ],
   "source": [
    "function greet()\n",
    "    x = \"hello\" # new local\n",
    "    println(x)\n",
    "end"
   ]
  },
  {
   "cell_type": "code",
   "execution_count": 8,
   "metadata": {},
   "outputs": [
    {
     "output_type": "stream",
     "name": "stdout",
     "text": [
      "hello\n"
     ]
    }
   ],
   "source": [
    "greet()"
   ]
  },
  {
   "cell_type": "code",
   "execution_count": 9,
   "metadata": {},
   "outputs": [
    {
     "output_type": "execute_result",
     "data": {
      "text/plain": [
       "-1"
      ]
     },
     "metadata": {},
     "execution_count": 9
    }
   ],
   "source": [
    "x # global"
   ]
  },
  {
   "source": [
    "Inside of the greet function, the assignment x = \"hello\" causes x to be a new local variable in the function's scope. There are two relevant facts: the assignment occurs in local scope and there is no existing local x variable. Since x is local, it doesn't matter if there is a global named x or not."
   ],
   "cell_type": "markdown",
   "metadata": {}
  },
  {
   "source": [
    "Since the x in greet is local, the value (or lack thereof) of the global x is unaffected by calling greet. The hard scope rule doesn't care whether a global named x exists or not: assignment to x in a hard scope is local (unless x is declared global).\n",
    "\n",
    "The next clear cut situation we'll consider is when there is already a local variable named x, in which case x = <value> always assigns to this existing local x. The function sum_to computes the sum of the numbers from one up to n:"
   ],
   "cell_type": "markdown",
   "metadata": {}
  },
  {
   "cell_type": "code",
   "execution_count": 6,
   "metadata": {},
   "outputs": [
    {
     "output_type": "execute_result",
     "data": {
      "text/plain": [
       "sum_to (generic function with 1 method)"
      ]
     },
     "metadata": {},
     "execution_count": 6
    }
   ],
   "source": [
    "function sum_to(n)\n",
    "    s = 0 # new local\n",
    "    for i = 1:n\n",
    "        s = s + i # assign existing local\n",
    "    end\n",
    "    return s # same local\n",
    "end"
   ]
  },
  {
   "source": [
    "As in the previous example, the first assignment to s at the top of sum_to causes s to be a new local variable in the body of the function. The for loop has its own inner local scope within the function scope. At the point where s = s + i occurs, s is already a local variable, so the assignment updates the existing s instead of creating a new local. We can test this out by calling sum_to in the REPL:"
   ],
   "cell_type": "markdown",
   "metadata": {}
  },
  {
   "cell_type": "code",
   "execution_count": 10,
   "metadata": {},
   "outputs": [
    {
     "output_type": "error",
     "ename": "UndefVarError",
     "evalue": "UndefVarError: sum_to not defined",
     "traceback": [
      "UndefVarError: sum_to not defined",
      "",
      "Stacktrace:",
      " [1] top-level scope at In[10]:1"
     ]
    }
   ],
   "source": [
    "sum_to(10)"
   ]
  },
  {
   "cell_type": "code",
   "execution_count": 8,
   "metadata": {},
   "outputs": [
    {
     "output_type": "error",
     "ename": "UndefVarError",
     "evalue": "UndefVarError: s not defined",
     "traceback": [
      "UndefVarError: s not defined",
      "",
      "Stacktrace:",
      " [1] top-level scope at In[8]:1"
     ]
    }
   ],
   "source": [
    "s # global"
   ]
  },
  {
   "source": [
    "Since s is local to the function sum_to, calling the function has no effect on the global variable s. We can also see that the update s = s + i in the for loop must have updated the same s created by the initialization s = 0 since we get the correct sum of 55 for the integers 1 through 10.\n",
    "\n",
    "Let's dig into the fact that the for loop body has its own scope for a second by writing a slightly more verbose variation which we'll call sum_to′, in which we save the sum s + i in a variable t before updating s:"
   ],
   "cell_type": "markdown",
   "metadata": {}
  },
  {
   "cell_type": "code",
   "execution_count": 11,
   "metadata": {},
   "outputs": [
    {
     "output_type": "execute_result",
     "data": {
      "text/plain": [
       "sum_to′ (generic function with 1 method)"
      ]
     },
     "metadata": {},
     "execution_count": 11
    }
   ],
   "source": [
    "function sum_to′(n)\n",
    "    s = 0 # new local\n",
    "    for i = 1:n\n",
    "        t = s + i # new local `t`\n",
    "        s = t # assign existing local `s`\n",
    "    end\n",
    "    return s, @isdefined(t)\n",
    "end"
   ]
  },
  {
   "cell_type": "code",
   "execution_count": 10,
   "metadata": {},
   "outputs": [
    {
     "output_type": "execute_result",
     "data": {
      "text/plain": [
       "(55, false)"
      ]
     },
     "metadata": {},
     "execution_count": 10
    }
   ],
   "source": [
    "sum_to′(10)"
   ]
  },
  {
   "source": [
    "This version returns s as before but it also uses the @isdefined macro to return a boolean indicating whether there is a local variable named t defined in the function's outermost local scope. As you can see, there is no t defined outside of the for loop body. This is because of the hard scope rule again: since the assignment to t occurs inside of a function, which introduces a hard scope, the assignment causes t to become a new local variable in the local scope where it appears, i.e. inside of the loop body. Even if there were a global named t, it would make no difference—the hard scope rule isn't affected by anything in global scope.\n",
    "\n",
    "Let's move onto some more ambiguous cases covered by the soft scope rule. We'll explore this by extracting the bodies of the greet and sum_to′ functions into soft scope contexts. First, let's put the body of greet in a for loop—which is soft, rather than hard—and evaluate it in the REPL:"
   ],
   "cell_type": "markdown",
   "metadata": {}
  },
  {
   "cell_type": "code",
   "execution_count": 14,
   "metadata": {},
   "outputs": [
    {
     "output_type": "stream",
     "name": "stdout",
     "text": [
      "hello\nhello\nhello\n"
     ]
    }
   ],
   "source": [
    "for i = 1:3\n",
    "    y = \"hello\" # new local\n",
    "    println(x)\n",
    "end"
   ]
  },
  {
   "cell_type": "code",
   "execution_count": 15,
   "metadata": {},
   "outputs": [
    {
     "output_type": "error",
     "ename": "UndefVarError",
     "evalue": "UndefVarError: y not defined",
     "traceback": [
      "UndefVarError: y not defined",
      "",
      "Stacktrace:",
      " [1] top-level scope at In[15]:1"
     ]
    }
   ],
   "source": [
    "y"
   ]
  },
  {
   "source": [
    "Since the global y is not defined when the for loop is evaluated, the first clause of the soft scope rule applies and y is created as local to the for loop and therefore global y remains undefined after the loop executes. Next, let's consider the body of sum_to′ extracted into global scope, fixing its argument to n = 10"
   ],
   "cell_type": "markdown",
   "metadata": {}
  },
  {
   "cell_type": "code",
   "execution_count": 6,
   "metadata": {},
   "outputs": [
    {
     "output_type": "execute_result",
     "data": {
      "text/plain": [
       "55"
      ]
     },
     "metadata": {},
     "execution_count": 6
    }
   ],
   "source": [
    "s = 0\n",
    "for i = 1:10\n",
    "    t = s + i\n",
    "    s = t\n",
    "end\n",
    "# What does this code do? Hint: it's a trick question. The answer is \"it depends.\" If this code is entered interactively, it behaves the same way it does in a function body. But if the code appears in a file, it prints an ambiguity warning and throws an undefined variable error. Let's see it working in the REPL first:\n",
    "s #global"
   ]
  },
  {
   "cell_type": "code",
   "execution_count": 7,
   "metadata": {},
   "outputs": [
    {
     "output_type": "execute_result",
     "data": {
      "text/plain": [
       "false"
      ]
     },
     "metadata": {},
     "execution_count": 7
    }
   ],
   "source": [
    "@isdefined(t)"
   ]
  },
  {
   "source": [
    "The REPL approximates being in the body of a function by deciding whether assignment inside the loop assigns to a global or creates new local based on whether a global variable by that name is defined or not. If a global by the name exists, then the assignment updates it. If no global exists, then the assignment creates a new local variable. In this example we see both cases in action:\n",
    "\n",
    "    - There is no global named t, so t = s + i creates a new t that is local to the for loop;\n",
    "    - There is a global named s, so s = t assigns to it.\n",
    "\n",
    "The second fact is why execution of the loop changes the global value of s and the first fact is why t is still undefined after the loop executes. Now, let's try evaluating this same code as though it were in a file instead:"
   ],
   "cell_type": "markdown",
   "metadata": {}
  },
  {
   "cell_type": "code",
   "execution_count": 6,
   "metadata": {},
   "outputs": [
    {
     "output_type": "execute_result",
     "data": {
      "text/plain": [
       "Main"
      ]
     },
     "metadata": {},
     "execution_count": 6
    }
   ],
   "source": [
    "code = \"\"\"\n",
    "       s = 0 # global\n",
    "       for i = 1:10\n",
    "           t = s + i # new local `t`\n",
    "           s = t # new local `s` with warning\n",
    "       end\n",
    "       s, # global\n",
    "       @isdefined(t) # global\n",
    "       \"\"\";\n",
    "\n",
    "@__MODULE__"
   ]
  },
  {
   "cell_type": "code",
   "execution_count": 7,
   "metadata": {},
   "outputs": [
    {
     "output_type": "error",
     "ename": "LoadError",
     "evalue": "UndefVarError: s not defined",
     "traceback": [
      "UndefVarError: s not defined",
      "",
      "Stacktrace:",
      " [1] top-level scope at ./string:3",
      " [2] include_string(::Module, ::String, ::String) at ./loading.jl:1080",
      " [3] include_string(::Module, ::String) at ./loading.jl:1084",
      " [4] top-level scope at In[7]:1"
     ]
    }
   ],
   "source": [
    "include_string(Main, code)"
   ]
  },
  {
   "cell_type": "code",
   "execution_count": 8,
   "metadata": {},
   "outputs": [
    {
     "output_type": "stream",
     "name": "stdout",
     "text": [
      "search: \u001b[0m\u001b[1mi\u001b[22m\u001b[0m\u001b[1mn\u001b[22m\u001b[0m\u001b[1mc\u001b[22m\u001b[0m\u001b[1ml\u001b[22m\u001b[0m\u001b[1mu\u001b[22m\u001b[0m\u001b[1md\u001b[22m\u001b[0m\u001b[1me\u001b[22m\u001b[0m\u001b[1m_\u001b[22m\u001b[0m\u001b[1ms\u001b[22m\u001b[0m\u001b[1mt\u001b[22m\u001b[0m\u001b[1mr\u001b[22m\u001b[0m\u001b[1mi\u001b[22m\u001b[0m\u001b[1mn\u001b[22m\u001b[0m\u001b[1mg\u001b[22m\n",
      "\n"
     ]
    },
    {
     "output_type": "execute_result",
     "data": {
      "text/plain": [
       "\u001b[36m  include_string(m::Module, code::AbstractString, filename::AbstractString=\"string\")\u001b[39m\n",
       "\n",
       "  Like \u001b[36minclude\u001b[39m, except reads code from the given string rather than from a\n",
       "  file."
      ],
      "text/markdown": "```\ninclude_string(m::Module, code::AbstractString, filename::AbstractString=\"string\")\n```\n\nLike [`include`](@ref), except reads code from the given string rather than from a file.\n",
      "text/latex": "\\begin{verbatim}\ninclude_string(m::Module, code::AbstractString, filename::AbstractString=\"string\")\n\\end{verbatim}\nLike \\href{@ref}{\\texttt{include}}, except reads code from the given string rather than from a file.\n\n"
     },
     "metadata": {},
     "execution_count": 8
    }
   ],
   "source": [
    "?include_string"
   ]
  },
  {
   "source": [
    "Here we use include_string, to evaluate code as though it were the contents of a file. We could also save code to a file and then call include on that file—the result would be the same. As you can see, this behaves quite different from evaluating the same code in the REPL. Let's break down what's happening here:\n",
    "\n",
    "    - global s is defined with the value 0 before the loop is evaluated\n",
    "    - the assignment s = t occurs in a soft scope—a for loop outside of any function body or other hard scope construct\n",
    "    - therefore the second clause of the soft scope rule applies, and the assignment is ambiguous so a warning is emitted\n",
    "    - execution continues, making s local to the for loop body\n",
    "    - since s is local to the for loop, it is undefined when t = s + i is evaluated, causing an error\n",
    "    - evaluation stops there, but if it got to s and @isdefined(t), it would return 0 and false.\n",
    "\n",
    "This demonstrates some important aspects of scope: in a scope, each variable can only have one meaning, and that meaning is determined regardless of the order of expressions. The presence of the expression s = t in the loop causes s to be local to the loop, which means that it is also local when it appears on the right hand side of t = s + i, even though that expression appears first and is evaluated first. One might imagine that the s on the first line of the loop could be global while the s on the second line of the loop is local, but that's not possible since the two lines are in the same scope block and each variable can only mean one thing in a given scope."
   ],
   "cell_type": "markdown",
   "metadata": {}
  },
  {
   "source": [
    "### On Soft Scope"
   ],
   "cell_type": "markdown",
   "metadata": {}
  },
  {
   "source": [
    "We have now covered all the local scope rules, but before wrapping up this section, perhaps a few words should be said about why the ambiguous soft scope case is handled differently in interactive and non-interactive contexts. There are two obvious questions one could ask:\n",
    "\n",
    "    - Why doesn't it just work like the REPL everywhere?\n",
    "    - Why doesn't it just work like in files everywhere? And maybe skip the warning?\n",
    "\n",
    "In Julia ≤ 0.6, all global scopes did work like the current REPL: when x = <value> occurred in a loop (or try/catch, or struct body) but outside of a function body (or let block or comprehension), it was decided based on whether a global named x was defined or not whether x should be local to the loop. This behavior has the advantage of being intuitive and convenient since it approximates the behavior inside of a function body as closely as possible. In particular, it makes it easy to move code back and forth between a function body and the REPL when trying to debug the behavior of a function. However, it has some downsides. First, it's quite a complex behavior: many people over the years were confused about this behavior and complained that it was complicated and hard both to explain and understand. Fair point. Second, and arguably worse, is that it's bad for programming \"at scale.\" When you see a small piece of code in one place like this, it's quite clear what's going on:\n",
    "\n",
    "    s = 0\n",
    "    for i = 1:10\n",
    "        s += i\n",
    "    end\n",
    "\n",
    "Obviously the intention is to modify the existing global variable s. What else could it mean? However, not all real world code is so short or so clear. We found that code like the following often occurs in the wild:\n",
    "\n",
    "    x = 123\n",
    "\n",
    "    # much later\n",
    "    # maybe in a different file\n",
    "\n",
    "    for i = 1:10\n",
    "        x = \"hello\"\n",
    "        println(x)\n",
    "    end\n",
    "\n",
    "    # much later\n",
    "    # maybe in yet another file\n",
    "    # or maybe back in the first one where `x = 123`\n",
    "\n",
    "    y = x + 234\n",
    "\n",
    "It's far less clear what should happen here. Since x + \"hello\" is a method error, it seems probable that the intention is for x to be local to the for loop. But runtime values and what methods happen to exist cannot be used to determine the scopes of variables. With the Julia ≤ 0.6 behavior, it's especially concerning that someone might have written the for loop first, had it working just fine, but later when someone else adds a new global far away—possibly in a different file—the code suddenly changes meaning and either breaks noisily or, worse still, silently does the wrong thing. This kind of \"spooky action at a distance\" is something that good programming language designs should prevent.\n",
    "\n",
    "So in Julia 1.0, we simplified the rules for scope: in any local scope, assignment to a name that wasn't already a local variable created a new local variable. This eliminated the notion of soft scope entirely as well as removing the potential for spooky action. We uncovered and fixed a significant number of bugs due to the removal of soft scope, vindicating the choice to get rid of it. And there was much rejoicing! Well, no, not really. Because some people were angry that they now had to write:\n",
    "\n",
    "    s = 0\n",
    "    for i = 1:10\n",
    "        global s += i\n",
    "    end\n",
    "\n",
    "Do you see that global annotation in there? Hideous. Obviously this situation could not be tolerated. But seriously, there are two main issues with requiring global for this kind of top-level code:\n",
    "\n",
    "- It's no longer convenient to copy and paste the code from inside a function body into the REPL to debug it—you have to add global annotations and then remove them again to go back;\n",
    "\n",
    "- Beginners will write this kind of code without the global and have no idea why their code doesn't work—the error that they get is that s is undefined, which does not seem to enlighten anyone who happens to make this mistake.\n",
    "\n",
    "As of Julia 1.5, this code works without the global annotation in interactive contexts like the REPL or Jupyter notebooks (just like Julia 0.6) and in files and other non-interactive contexts, it prints this very direct warning:\n",
    "\n",
    "    Assignment to s in soft scope is ambiguous because a global variable by the same name exists: s will be treated as a new local. Disambiguate by using local s to suppress this warning or global s to assign to the existing global variable.\n",
    "\n",
    "This addresses both issues while preserving the \"programming at scale\" benefits of the 1.0 behavior: global variables have no spooky effect on the meaning of code that may be far away; in the REPL copy-and-paste debugging works and beginners don't have any issues; any time someone either forgets a global annotation or accidentally shadows an existing global with a local in a soft scope, which would be confusing anyway, they get a nice clear warning.\n",
    "\n",
    "An important property of this design is that any code that executes in a file without a warning will behave the same way in a fresh REPL. And on the flip side, if you take a REPL session and save it to file, if it behaves differently than it did in the REPL, then you will get a warning."
   ],
   "cell_type": "markdown",
   "metadata": {}
  },
  {
   "source": [
    "## Let Blocks"
   ],
   "cell_type": "markdown",
   "metadata": {}
  },
  {
   "source": [
    "Unlike assignments to local variables, let statements allocate new variable bindings each time they run. An assignment modifies an existing value location, and let creates new locations. This difference is usually not important, and is only detectable in the case of variables that outlive their scope via closures. The let syntax accepts a comma-separated series of assignments and variable names:"
   ],
   "cell_type": "markdown",
   "metadata": {}
  },
  {
   "cell_type": "code",
   "execution_count": 10,
   "metadata": {},
   "outputs": [
    {
     "output_type": "stream",
     "name": "stdout",
     "text": [
      "x: 1, y: -1\n"
     ]
    },
    {
     "output_type": "error",
     "ename": "UndefVarError",
     "evalue": "UndefVarError: z not defined",
     "traceback": [
      "UndefVarError: z not defined",
      "",
      "Stacktrace:",
      " [1] top-level scope at In[10]:4"
     ]
    }
   ],
   "source": [
    "x, y, z = -1, -1, -1;\n",
    "let x = 1, z\n",
    "    println(\"x: $x, y: $y\") # x is local variable, y the global\n",
    "    println(\"z: $z\") # errors as z has not been assigned yet but is local\n",
    "end"
   ]
  },
  {
   "source": [
    "The assignments are evaluated in order, with each right-hand side evaluated in the scope before the new variable on the left-hand side has been introduced. Therefore it makes sense to write something like let x = x since the two x variables are distinct and have separate storage. Here is an example where the behavior of let is needed:"
   ],
   "cell_type": "markdown",
   "metadata": {}
  },
  {
   "cell_type": "code",
   "execution_count": 11,
   "metadata": {},
   "outputs": [],
   "source": [
    "Fs = Vector{Any}(undef, 2); i = 1;\n",
    "while i <= 2\n",
    "    Fs[i] = ()->i\n",
    "    global i += 1\n",
    "end"
   ]
  },
  {
   "cell_type": "code",
   "execution_count": 12,
   "metadata": {},
   "outputs": [
    {
     "output_type": "execute_result",
     "data": {
      "text/plain": [
       "3"
      ]
     },
     "metadata": {},
     "execution_count": 12
    }
   ],
   "source": [
    "Fs[1]()"
   ]
  },
  {
   "cell_type": "code",
   "execution_count": 13,
   "metadata": {},
   "outputs": [
    {
     "output_type": "execute_result",
     "data": {
      "text/plain": [
       "3"
      ]
     },
     "metadata": {},
     "execution_count": 13
    }
   ],
   "source": [
    "Fs[2]()"
   ]
  },
  {
   "source": [
    "Here we create and store two closures that return variable i. However, it is always the same variable i, so the two closures behave identically. We can use let to create a new binding for i:"
   ],
   "cell_type": "markdown",
   "metadata": {}
  },
  {
   "cell_type": "code",
   "execution_count": 16,
   "metadata": {},
   "outputs": [],
   "source": [
    "Fs = Vector{Any}(undef, 2); i = 1;\n",
    "while i <= 2\n",
    "    let i = i\n",
    "        Fs[i] = ()->i\n",
    "    end\n",
    "    global i += 1\n",
    "end"
   ]
  },
  {
   "cell_type": "code",
   "execution_count": 17,
   "metadata": {},
   "outputs": [
    {
     "output_type": "execute_result",
     "data": {
      "text/plain": [
       "1"
      ]
     },
     "metadata": {},
     "execution_count": 17
    }
   ],
   "source": [
    "Fs[1]()"
   ]
  },
  {
   "cell_type": "code",
   "execution_count": 18,
   "metadata": {},
   "outputs": [
    {
     "output_type": "execute_result",
     "data": {
      "text/plain": [
       "2"
      ]
     },
     "metadata": {},
     "execution_count": 18
    }
   ],
   "source": [
    "Fs[2]()"
   ]
  },
  {
   "source": [
    "Since the begin construct does not introduce a new scope, it can be useful to use a zero-argument let to just introduce a new scope block without creating any new bindings:"
   ],
   "cell_type": "markdown",
   "metadata": {}
  },
  {
   "cell_type": "code",
   "execution_count": 19,
   "metadata": {},
   "outputs": [
    {
     "output_type": "execute_result",
     "data": {
      "text/plain": [
       "1"
      ]
     },
     "metadata": {},
     "execution_count": 19
    }
   ],
   "source": [
    "let\n",
    "    local x = 1\n",
    "    let\n",
    "        local x = 2\n",
    "    end\n",
    "    x\n",
    "end"
   ]
  },
  {
   "source": [
    "Since let introduces a new scope block, the inner local x is a different variable than the outer local x."
   ],
   "cell_type": "markdown",
   "metadata": {}
  },
  {
   "source": [
    "## Loops and Comprehensions"
   ],
   "cell_type": "markdown",
   "metadata": {}
  },
  {
   "source": [
    "In loops and comprehensions, new variables introduced in their body scopes are freshly allocated for each loop iteration, as if the loop body were surrounded by a let block, as demonstrated by this example:"
   ],
   "cell_type": "markdown",
   "metadata": {}
  },
  {
   "cell_type": "code",
   "execution_count": 20,
   "metadata": {},
   "outputs": [],
   "source": [
    "Fs = Vector{Any}(undef, 2);\n",
    "for j = 1:2\n",
    "    Fs[j] = ()->j\n",
    "end"
   ]
  },
  {
   "cell_type": "code",
   "execution_count": 21,
   "metadata": {},
   "outputs": [
    {
     "output_type": "execute_result",
     "data": {
      "text/plain": [
       "1"
      ]
     },
     "metadata": {},
     "execution_count": 21
    }
   ],
   "source": [
    "Fs[1]()"
   ]
  },
  {
   "cell_type": "code",
   "execution_count": 22,
   "metadata": {},
   "outputs": [
    {
     "output_type": "execute_result",
     "data": {
      "text/plain": [
       "2"
      ]
     },
     "metadata": {},
     "execution_count": 22
    }
   ],
   "source": [
    "Fs[2]()"
   ]
  },
  {
   "source": [
    "A for loop or comprehension iteration variable is always a new variable:"
   ],
   "cell_type": "markdown",
   "metadata": {}
  },
  {
   "cell_type": "code",
   "execution_count": 23,
   "metadata": {},
   "outputs": [
    {
     "output_type": "execute_result",
     "data": {
      "text/plain": [
       "0"
      ]
     },
     "metadata": {},
     "execution_count": 23
    }
   ],
   "source": [
    "function f()\n",
    "    i = 0\n",
    "    for i = 1:3\n",
    "        # empty\n",
    "    end\n",
    "    return i\n",
    "end;\n",
    "f()"
   ]
  },
  {
   "source": [
    "However, it is occasionally useful to reuse an existing local variable as the iteration variable. This can be done conveniently by adding the keyword outer:"
   ],
   "cell_type": "markdown",
   "metadata": {}
  },
  {
   "cell_type": "code",
   "execution_count": 24,
   "metadata": {},
   "outputs": [
    {
     "output_type": "execute_result",
     "data": {
      "text/plain": [
       "3"
      ]
     },
     "metadata": {},
     "execution_count": 24
    }
   ],
   "source": [
    "function f()\n",
    "    i = 0\n",
    "    for outer i = 1:3\n",
    "        # empty\n",
    "    end\n",
    "    return i\n",
    "end;\n",
    "f()"
   ]
  },
  {
   "source": [
    "## Constants"
   ],
   "cell_type": "markdown",
   "metadata": {}
  },
  {
   "source": [
    "A common use of variables is giving names to specific, unchanging values. Such variables are only assigned once. This intent can be conveyed to the compiler using the const keyword:"
   ],
   "cell_type": "markdown",
   "metadata": {}
  },
  {
   "cell_type": "code",
   "execution_count": 26,
   "metadata": {},
   "outputs": [],
   "source": [
    "const e  = 2.71828182845904523536;\n",
    "const pi = 3.14159265358979323846;"
   ]
  },
  {
   "source": [
    "Multiple variables can be declared in a single const statement:"
   ],
   "cell_type": "markdown",
   "metadata": {}
  },
  {
   "cell_type": "code",
   "execution_count": 27,
   "metadata": {},
   "outputs": [
    {
     "output_type": "execute_result",
     "data": {
      "text/plain": [
       "(1, 2)"
      ]
     },
     "metadata": {},
     "execution_count": 27
    }
   ],
   "source": [
    "const a, b = 1, 2"
   ]
  },
  {
   "source": [
    "The const declaration should only be used in global scope on globals. It is difficult for the compiler to optimize code involving global variables, since their values (or even their types) might change at almost any time. If a global variable will not change, adding a const declaration solves this performance problem.\n",
    "\n",
    "Local constants are quite different. The compiler is able to determine automatically when a local variable is constant, so local constant declarations are not necessary, and in fact are currently not supported.\n",
    "\n",
    "Special top-level assignments, such as those performed by the function and struct keywords, are constant by default.\n",
    "\n",
    "Note that const only affects the variable binding; the variable may be bound to a mutable object (such as an array), and that object may still be modified. Additionally when one tries to assign a value to a variable that is declared constant the following scenarios are possible:\n",
    "\n",
    "    - if a new value has a different type than the type of the constant then an error is thrown:"
   ],
   "cell_type": "markdown",
   "metadata": {}
  },
  {
   "cell_type": "code",
   "execution_count": 29,
   "metadata": {},
   "outputs": [
    {
     "output_type": "execute_result",
     "data": {
      "text/plain": [
       "1.0"
      ]
     },
     "metadata": {},
     "execution_count": 29
    }
   ],
   "source": [
    "const x_c = 1.0"
   ]
  },
  {
   "cell_type": "code",
   "execution_count": 30,
   "metadata": {},
   "outputs": [
    {
     "output_type": "error",
     "ename": "ErrorException",
     "evalue": "invalid redefinition of constant x_c",
     "traceback": [
      "invalid redefinition of constant x_c",
      "",
      "Stacktrace:",
      " [1] top-level scope at In[30]:1"
     ]
    }
   ],
   "source": [
    "x_c = 1"
   ]
  },
  {
   "source": [
    "    - if a new value has the same type as the constant then a warning is printed:"
   ],
   "cell_type": "markdown",
   "metadata": {}
  },
  {
   "cell_type": "code",
   "execution_count": 31,
   "metadata": {},
   "outputs": [
    {
     "output_type": "execute_result",
     "data": {
      "text/plain": [
       "1.0"
      ]
     },
     "metadata": {},
     "execution_count": 31
    }
   ],
   "source": [
    "const y_c = 1.0"
   ]
  },
  {
   "cell_type": "code",
   "execution_count": 32,
   "metadata": {},
   "outputs": [
    {
     "output_type": "stream",
     "name": "stderr",
     "text": [
      "WARNING: redefining constant y_c\n"
     ]
    },
    {
     "output_type": "execute_result",
     "data": {
      "text/plain": [
       "2.0"
      ]
     },
     "metadata": {},
     "execution_count": 32
    }
   ],
   "source": [
    "y_c = 2.0"
   ]
  },
  {
   "source": [
    "    - if an assignment would not result in the change of variable value no message is given:"
   ],
   "cell_type": "markdown",
   "metadata": {}
  },
  {
   "cell_type": "code",
   "execution_count": 33,
   "metadata": {},
   "outputs": [
    {
     "output_type": "execute_result",
     "data": {
      "text/plain": [
       "100"
      ]
     },
     "metadata": {},
     "execution_count": 33
    }
   ],
   "source": [
    "const z_c = 100"
   ]
  },
  {
   "cell_type": "code",
   "execution_count": 34,
   "metadata": {},
   "outputs": [
    {
     "output_type": "execute_result",
     "data": {
      "text/plain": [
       "100"
      ]
     },
     "metadata": {},
     "execution_count": 34
    }
   ],
   "source": [
    "z_c = 100"
   ]
  },
  {
   "source": [
    "The last rule applies for immutable objects even if the variable binding would change, e.g.:"
   ],
   "cell_type": "markdown",
   "metadata": {}
  },
  {
   "cell_type": "code",
   "execution_count": 38,
   "metadata": {},
   "outputs": [
    {
     "output_type": "execute_result",
     "data": {
      "text/plain": [
       "\"1\""
      ]
     },
     "metadata": {},
     "execution_count": 38
    }
   ],
   "source": [
    "const s1 = \"1\""
   ]
  },
  {
   "cell_type": "code",
   "execution_count": 39,
   "metadata": {},
   "outputs": [
    {
     "output_type": "execute_result",
     "data": {
      "text/plain": [
       "\"1\""
      ]
     },
     "metadata": {},
     "execution_count": 39
    }
   ],
   "source": [
    "s2 = \"1\""
   ]
  },
  {
   "cell_type": "code",
   "execution_count": 40,
   "metadata": {},
   "outputs": [
    {
     "output_type": "execute_result",
     "data": {
      "text/plain": [
       "2-element Array{Ptr{UInt8},1}:\n",
       " Ptr{UInt8} @0x00007fa5230640d8\n",
       " Ptr{UInt8} @0x00007fa52308a118"
      ]
     },
     "metadata": {},
     "execution_count": 40
    }
   ],
   "source": [
    "pointer.([s1, s2], 1)"
   ]
  },
  {
   "cell_type": "code",
   "execution_count": 41,
   "metadata": {},
   "outputs": [
    {
     "output_type": "execute_result",
     "data": {
      "text/plain": [
       "\"1\""
      ]
     },
     "metadata": {},
     "execution_count": 41
    }
   ],
   "source": [
    "s1 = s2"
   ]
  },
  {
   "cell_type": "code",
   "execution_count": 42,
   "metadata": {},
   "outputs": [
    {
     "output_type": "execute_result",
     "data": {
      "text/plain": [
       "2-element Array{Ptr{UInt8},1}:\n",
       " Ptr{UInt8} @0x00007fa52308a118\n",
       " Ptr{UInt8} @0x00007fa52308a118"
      ]
     },
     "metadata": {},
     "execution_count": 42
    }
   ],
   "source": [
    "pointer.([s1, s2], 1)"
   ]
  },
  {
   "source": [
    "However, for mutable objects the warning is printed as expected:"
   ],
   "cell_type": "markdown",
   "metadata": {}
  },
  {
   "cell_type": "code",
   "execution_count": 44,
   "metadata": {},
   "outputs": [
    {
     "output_type": "execute_result",
     "data": {
      "text/plain": [
       "1-element Array{Int64,1}:\n",
       " 1"
      ]
     },
     "metadata": {},
     "execution_count": 44
    }
   ],
   "source": [
    "const arr = [1]"
   ]
  },
  {
   "cell_type": "code",
   "execution_count": 45,
   "metadata": {},
   "outputs": [
    {
     "output_type": "stream",
     "name": "stderr",
     "text": [
      "WARNING: redefining constant arr\n"
     ]
    },
    {
     "output_type": "execute_result",
     "data": {
      "text/plain": [
       "1-element Array{Int64,1}:\n",
       " 1"
      ]
     },
     "metadata": {},
     "execution_count": 45
    }
   ],
   "source": [
    "arr = [1]"
   ]
  },
  {
   "source": [
    "Note that although sometimes possible, changing the value of a const variable is strongly discouraged, and is intended only for convenience during interactive use. Changing constants can cause various problems or unexpected behaviors. For instance, if a method references a constant and is already compiled before the constant is changed, then it might keep using the old value:"
   ],
   "cell_type": "markdown",
   "metadata": {}
  },
  {
   "cell_type": "code",
   "execution_count": 51,
   "metadata": {},
   "outputs": [
    {
     "output_type": "error",
     "ename": "ErrorException",
     "evalue": "invalid redefinition of constant x_c",
     "traceback": [
      "invalid redefinition of constant x_c",
      "",
      "Stacktrace:",
      " [1] top-level scope at In[51]:1"
     ]
    }
   ],
   "source": [
    "const x_c = 1"
   ]
  },
  {
   "cell_type": "code",
   "execution_count": 52,
   "metadata": {},
   "outputs": [
    {
     "output_type": "execute_result",
     "data": {
      "text/plain": [
       "f (generic function with 1 method)"
      ]
     },
     "metadata": {},
     "execution_count": 52
    }
   ],
   "source": [
    "f() = x_c"
   ]
  },
  {
   "cell_type": "code",
   "execution_count": 53,
   "metadata": {},
   "outputs": [
    {
     "output_type": "execute_result",
     "data": {
      "text/plain": [
       "1.0"
      ]
     },
     "metadata": {},
     "execution_count": 53
    }
   ],
   "source": [
    "f()"
   ]
  },
  {
   "cell_type": "code",
   "execution_count": 54,
   "metadata": {},
   "outputs": [
    {
     "output_type": "error",
     "ename": "ErrorException",
     "evalue": "invalid redefinition of constant x_c",
     "traceback": [
      "invalid redefinition of constant x_c",
      "",
      "Stacktrace:",
      " [1] top-level scope at In[54]:1"
     ]
    }
   ],
   "source": [
    "x_c = 2"
   ]
  },
  {
   "cell_type": "code",
   "execution_count": 55,
   "metadata": {},
   "outputs": [
    {
     "output_type": "execute_result",
     "data": {
      "text/plain": [
       "1.0"
      ]
     },
     "metadata": {},
     "execution_count": 55
    }
   ],
   "source": [
    "f()"
   ]
  }
 ]
}
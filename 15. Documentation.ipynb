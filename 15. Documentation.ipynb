{
 "metadata": {
  "language_info": {
   "codemirror_mode": {
    "name": "ipython",
    "version": 3
   },
   "file_extension": ".py",
   "mimetype": "text/x-python",
   "name": "python",
   "nbconvert_exporter": "python",
   "pygments_lexer": "ipython3",
   "version": 3
  },
  "orig_nbformat": 2,
  "kernelspec": {
   "name": "julia-1.4",
   "display_name": "Julia 1.4.1",
   "language": "julia"
  }
 },
 "nbformat": 4,
 "nbformat_minor": 2,
 "cells": [
  {
   "source": [
    "# Documentation"
   ],
   "cell_type": "markdown",
   "metadata": {}
  },
  {
   "source": [
    "Julia enables package developers and users to document functions, types and other objects easily via a built-in documentation system since Julia 0.4.\n",
    "\n",
    "The basic syntax is simple: any string appearing at the toplevel right before an object (function, macro, type or instance) will be interpreted as documenting it (these are called docstrings). Note that no blank lines or comments may intervene between a docstring and the documented object. Here is a basic example:"
   ],
   "cell_type": "markdown",
   "metadata": {}
  },
  {
   "cell_type": "code",
   "execution_count": 1,
   "metadata": {},
   "outputs": [],
   "source": [
    "\"Tell whether there are too foo items in the array.\"\n",
    "foo(xs::Array);"
   ]
  },
  {
   "cell_type": "code",
   "execution_count": 2,
   "metadata": {},
   "outputs": [
    {
     "output_type": "stream",
     "name": "stdout",
     "text": [
      "search: \u001b[0m\u001b[1mf\u001b[22ml\u001b[0m\u001b[1mo\u001b[22m\u001b[0m\u001b[1mo\u001b[22mr pointer_\u001b[0m\u001b[1mf\u001b[22mr\u001b[0m\u001b[1mo\u001b[22mm_\u001b[0m\u001b[1mo\u001b[22mbjref Over\u001b[0m\u001b[1mf\u001b[22ml\u001b[0m\u001b[1mo\u001b[22mwErr\u001b[0m\u001b[1mo\u001b[22mr Round\u001b[0m\u001b[1mF\u001b[22mr\u001b[0m\u001b[1mo\u001b[22mmZer\u001b[0m\u001b[1mo\u001b[22m unsa\u001b[0m\u001b[1mf\u001b[22me_c\u001b[0m\u001b[1mo\u001b[22mpyt\u001b[0m\u001b[1mo\u001b[22m!\n",
      "\n",
      "Couldn't find \u001b[36mfoo\u001b[39m\n",
      "Perhaps you meant for, floor, fdio, fd, fld, fma, eof, cos, cot, log, mod or xor\n"
     ]
    },
    {
     "output_type": "execute_result",
     "data": {
      "text/plain": [
       "  Tell whether there are too foo items in the array."
      ],
      "text/markdown": "Tell whether there are too foo items in the array.\n",
      "text/latex": "Tell whether there are too foo items in the array.\n\n"
     },
     "metadata": {},
     "execution_count": 2
    }
   ],
   "source": [
    "?foo"
   ]
  },
  {
   "source": [
    "Documentation is interpreted as Markdown, so you can use indentation and code fences to delimit code examples from text. Technically, any object can be associated with any other as metadata; Markdown happens to be the default, but one can construct other string macros and pass them to the @doc macro just as well.\n",
    "\n",
    "Here is a more complex example, still using Markdown:"
   ],
   "cell_type": "markdown",
   "metadata": {}
  },
  {
   "source": [
    "\"\"\"\n",
    "    bar(x[, y])\n",
    "\n",
    "Compute the Bar index between `x` and `y`. If `y` is missing, compute\n",
    "the Bar index between all pairs of columns of `x`.\n",
    "\n",
    "# Examples\n",
    "```julia-repl\n",
    "julia> bar([1, 2], [1, 2])\n",
    "1\n",
    "```\n",
    "\"\"\"\n",
    "function bar(x, y)\n",
    "end;"
   ],
   "cell_type": "code",
   "metadata": {},
   "execution_count": 3,
   "outputs": []
  },
  {
   "cell_type": "code",
   "execution_count": 4,
   "metadata": {},
   "outputs": [
    {
     "output_type": "stream",
     "name": "stdout",
     "text": [
      "search: \u001b[0m\u001b[1mb\u001b[22m\u001b[0m\u001b[1ma\u001b[22m\u001b[0m\u001b[1mr\u001b[22m \u001b[0m\u001b[1mb\u001b[22m\u001b[0m\u001b[1ma\u001b[22m\u001b[0m\u001b[1mr\u001b[22memodule Su\u001b[0m\u001b[1mb\u001b[22m\u001b[0m\u001b[1mA\u001b[22m\u001b[0m\u001b[1mr\u001b[22mray Glo\u001b[0m\u001b[1mb\u001b[22m\u001b[0m\u001b[1ma\u001b[22ml\u001b[0m\u001b[1mR\u001b[22mef clip\u001b[0m\u001b[1mb\u001b[22mo\u001b[0m\u001b[1ma\u001b[22m\u001b[0m\u001b[1mr\u001b[22md \u001b[0m\u001b[1mB\u001b[22mit\u001b[0m\u001b[1mA\u001b[22m\u001b[0m\u001b[1mr\u001b[22mray \u001b[0m\u001b[1mb\u001b[22m\u001b[0m\u001b[1ma\u001b[22mckt\u001b[0m\u001b[1mr\u001b[22mace \u001b[0m\u001b[1mB\u001b[22mitM\u001b[0m\u001b[1ma\u001b[22mt\u001b[0m\u001b[1mr\u001b[22mix\n\n"
     ]
    },
    {
     "output_type": "execute_result",
     "data": {
      "text/plain": [
       "\u001b[36m  bar(x[, y])\u001b[39m\n",
       "\n",
       "  Compute the Bar index between \u001b[36mx\u001b[39m and \u001b[36my\u001b[39m. If \u001b[36my\u001b[39m is missing, compute the Bar\n",
       "  index between all pairs of columns of \u001b[36mx\u001b[39m.\n",
       "\n",
       "\u001b[1m  Examples\u001b[22m\n",
       "\u001b[1m  ≡≡≡≡≡≡≡≡≡≡\u001b[22m\n",
       "\n",
       "\u001b[36m  julia> bar([1, 2], [1, 2])\u001b[39m\n",
       "\u001b[36m  1\u001b[39m"
      ],
      "text/markdown": "```\nbar(x[, y])\n```\n\nCompute the Bar index between `x` and `y`. If `y` is missing, compute the Bar index between all pairs of columns of `x`.\n\n# Examples\n\n```julia-repl\njulia> bar([1, 2], [1, 2])\n1\n```\n",
      "text/latex": "\\begin{verbatim}\nbar(x[, y])\n\\end{verbatim}\nCompute the Bar index between \\texttt{x} and \\texttt{y}. If \\texttt{y} is missing, compute the Bar index between all pairs of columns of \\texttt{x}.\n\n\\section{Examples}\n\\begin{verbatim}\njulia> bar([1, 2], [1, 2])\n1\n\\end{verbatim}\n"
     },
     "metadata": {},
     "execution_count": 4
    }
   ],
   "source": [
    "?bar"
   ]
  },
  {
   "source": [
    "As in the example above, we recommend following some simple conventions when writing documentation:\n",
    "\n",
    "    1. Always show the signature of a function at the top of the documentation, with a four-space indent so that it is printed as Julia code.\n",
    "\n",
    "This can be identical to the signature present in the Julia code (like mean(x::AbstractArray)), or a simplified form. Optional arguments should be represented with their default values (i.e. f(x, y=1)) when possible, following the actual Julia syntax. Optional arguments which do not have a default value should be put in brackets (i.e. f(x\\[, y\\]) and f(x\\[, y\\[, z\\]\\])). An alternative solution is to use several lines: one without optional arguments, the other(s) with them. This solution can also be used to document several related methods of a given function. When a function accepts many keyword arguments, only include a <keyword arguments> placeholder in the signature (i.e. f(x; <keyword arguments>)), and give the complete list under an # Arguments section (see point 4 below).\n",
    "\n",
    "    2. Include a single one-line sentence describing what the function does or what the object represents after the simplified signature block. If needed, provide more details in a second paragraph, after a blank line.\n",
    "\n",
    "The one-line sentence should use the imperative form (\"Do this\", \"Return that\") instead of the third person (do not write \"Returns the length...\") when documenting functions. It should end with a period. If the meaning of a function cannot be summarized easily, splitting it into separate composable parts could be beneficial (this should not be taken as an absolute requirement for every single case though).\n",
    "\n",
    "    3. Do not repeat yourself.\n",
    "\n",
    "Since the function name is given by the signature, there is no need to start the documentation with \"The function bar...\": go straight to the point. Similarly, if the signature specifies the types of the arguments, mentioning them in the description is redundant.\n",
    "\n",
    "    4. Only provide an argument list when really necessary.\n",
    "\n",
    "For simple functions, it is often clearer to mention the role of the arguments directly in the description of the function's purpose. An argument list would only repeat information already provided elsewhere. However, providing an argument list can be a good idea for complex functions with many arguments (in particular keyword arguments). In that case, insert it after the general description of the function, under an # Arguments header, with one - bullet for each argument. The list should mention the types and default values (if any) of the arguments:\n",
    "\n",
    "    \"\"\"\n",
    "    ...\n",
    "    # Arguments\n",
    "    - `n::Integer`: the number of elements to compute.\n",
    "    - `dim::Integer=1`: the dimensions along which to perform the computation.\n",
    "    ...\n",
    "    \"\"\"\n",
    "\n",
    "    5. Provide hints to related functions.\n",
    "\n",
    "Sometimes there are functions of related functionality. To increase discoverability please provide a short list of these in a See also: paragraph.\n",
    "\n",
    "    See also: [`bar!`](@ref), [`baz`](@ref), [`baaz`](@ref)\n",
    "\n",
    "    6. Include any code examples in an # Examples section.\n",
    "\n",
    "Examples should, whenever possible, be written as doctests. A doctest is a fenced code block (see Code blocks) starting with ```jldoctest and contains any number of julia> prompts together with inputs and expected outputs that mimic the Julia REPL.\n",
    "\n",
    "For example in the following docstring a variable a is defined and the expected result, as printed in a Julia REPL, appears afterwards:\n",
    "\n",
    "\"\"\"\n",
    "Some nice documentation here.\n",
    "\n",
    "    # Examples\n",
    "    ```jldoctest\n",
    "    julia> a = [1 2; 3 4]\n",
    "    2×2 Array{Int64,2}:\n",
    "     1  2\n",
    "     3  4\n",
    "    ```\n",
    "    \"\"\"\n",
    "\n",
    "You can then run make -C doc doctest=true to run all the doctests in the Julia Manual and API documentation, which will ensure that your example works.\n",
    "\n",
    "To indicate that the output result is truncated, you may write \\[...\\] at the line where checking should stop. This is useful to hide a stacktrace (which contains non-permanent references to lines of julia code) when the doctest shows that an exception is thrown, for example:\n",
    "\n",
    "    ```jldoctest\n",
    "    julia> div(1, 0)\n",
    "    ERROR: DivideError: integer division error\n",
    "    [...]\n",
    "    ```\n",
    "    \n",
    "Examples that are untestable should be written within fenced code blocks starting with ```julia so that they are highlighted correctly in the generated documentation.\n",
    "\n",
    "    7. Use backticks to identify code and equations.\n",
    "\n",
    "Julia identifiers and code excerpts should always appear between backticks ` to enable highlighting. Equations in the LaTeX syntax can be inserted between double backticks ``. Use Unicode characters rather than their LaTeX escape sequence, i.e. ``α = 1`` rather than ``\\\\alpha = 1``.\n",
    "    \n",
    "    8. Place the starting and ending \"\"\" characters on lines by themselves.\n",
    "\n",
    "That is, write:\n",
    "\n",
    "    \"\"\"\n",
    "    ...\n",
    "\n",
    "    ...\n",
    "    \"\"\"\n",
    "    f(x, y) = ...\n",
    "\n",
    "rather than:\n",
    "\n",
    "    \"\"\"...\n",
    "\n",
    "    ...\"\"\"\n",
    "    f(x, y) = ...\n",
    "\n",
    "This makes it clearer where docstrings start and end.\n",
    "\n",
    "    9. Respect the line length limit used in the surrounding code.\n",
    "\n",
    "Docstrings are edited using the same tools as code. Therefore, the same conventions should apply. It is recommended that lines are at most 92 characters wide.\n",
    "\n",
    "    10. Provide information allowing custom types to implement the function in an # Implementation section. These implementation details are intended for developers rather than users, explaining e.g. which functions should be overridden and which functions automatically use appropriate fallbacks. Such details are best kept separate from the main description of the function's behavior.\n",
    "\n",
    "\n",
    "    11. For long docstrings, consider splitting the documentation with an # Extended help header. The typical help-mode will show only the material above the header; you can access the full help by adding a '?' at the beginning of the expression (i.e., \"??foo\" rather than \"?foo\").    "
   ],
   "cell_type": "markdown",
   "metadata": {}
  },
  {
   "source": [
    "## Accessing Documentation"
   ],
   "cell_type": "markdown",
   "metadata": {}
  },
  {
   "source": [
    "Documentation can be accessed at the REPL or in IJulia by typing ? followed by the name of a function or macro, and pressing Enter. For example,"
   ],
   "cell_type": "markdown",
   "metadata": {}
  },
  {
   "cell_type": "code",
   "execution_count": 5,
   "metadata": {},
   "outputs": [
    {
     "output_type": "stream",
     "name": "stdout",
     "text": [
      "search: \u001b[0m\u001b[1mc\u001b[22m\u001b[0m\u001b[1mo\u001b[22m\u001b[0m\u001b[1ms\u001b[22m \u001b[0m\u001b[1mc\u001b[22m\u001b[0m\u001b[1mo\u001b[22m\u001b[0m\u001b[1ms\u001b[22mh \u001b[0m\u001b[1mc\u001b[22m\u001b[0m\u001b[1mo\u001b[22m\u001b[0m\u001b[1ms\u001b[22md \u001b[0m\u001b[1mc\u001b[22m\u001b[0m\u001b[1mo\u001b[22m\u001b[0m\u001b[1ms\u001b[22mc \u001b[0m\u001b[1mc\u001b[22m\u001b[0m\u001b[1mo\u001b[22m\u001b[0m\u001b[1ms\u001b[22mpi a\u001b[0m\u001b[1mc\u001b[22m\u001b[0m\u001b[1mo\u001b[22m\u001b[0m\u001b[1ms\u001b[22m a\u001b[0m\u001b[1mc\u001b[22m\u001b[0m\u001b[1mo\u001b[22m\u001b[0m\u001b[1ms\u001b[22mh a\u001b[0m\u001b[1mc\u001b[22m\u001b[0m\u001b[1mo\u001b[22m\u001b[0m\u001b[1ms\u001b[22md sin\u001b[0m\u001b[1mc\u001b[22m\u001b[0m\u001b[1mo\u001b[22m\u001b[0m\u001b[1ms\u001b[22m sin\u001b[0m\u001b[1mc\u001b[22m\u001b[0m\u001b[1mo\u001b[22m\u001b[0m\u001b[1ms\u001b[22md \u001b[0m\u001b[1mc\u001b[22m\u001b[0m\u001b[1mo\u001b[22mn\u001b[0m\u001b[1ms\u001b[22mt \u001b[0m\u001b[1mc\u001b[22ml\u001b[0m\u001b[1mo\u001b[22m\u001b[0m\u001b[1ms\u001b[22me\n\n"
     ]
    },
    {
     "output_type": "execute_result",
     "data": {
      "text/plain": [
       "\u001b[36m  cos(x)\u001b[39m\n",
       "\n",
       "  Compute cosine of \u001b[36mx\u001b[39m, where \u001b[36mx\u001b[39m is in radians.\n",
       "\n",
       "  ────────────────────────────────────────────────────────────────────────────\n",
       "\n",
       "\u001b[36m  cos(A::AbstractMatrix)\u001b[39m\n",
       "\n",
       "  Compute the matrix cosine of a square matrix \u001b[36mA\u001b[39m.\n",
       "\n",
       "  If \u001b[36mA\u001b[39m is symmetric or Hermitian, its eigendecomposition (\u001b[36meigen\u001b[39m) is used to\n",
       "  compute the cosine. Otherwise, the cosine is determined by calling \u001b[36mexp\u001b[39m.\n",
       "\n",
       "\u001b[1m  Examples\u001b[22m\n",
       "\u001b[1m  ≡≡≡≡≡≡≡≡≡≡\u001b[22m\n",
       "\n",
       "\u001b[36m  julia> cos(fill(1.0, (2,2)))\u001b[39m\n",
       "\u001b[36m  2×2 Array{Float64,2}:\u001b[39m\n",
       "\u001b[36m    0.291927  -0.708073\u001b[39m\n",
       "\u001b[36m   -0.708073   0.291927\u001b[39m"
      ],
      "text/markdown": "```\ncos(x)\n```\n\nCompute cosine of `x`, where `x` is in radians.\n\n---\n\n```\ncos(A::AbstractMatrix)\n```\n\nCompute the matrix cosine of a square matrix `A`.\n\nIf `A` is symmetric or Hermitian, its eigendecomposition ([`eigen`](@ref)) is used to compute the cosine. Otherwise, the cosine is determined by calling [`exp`](@ref).\n\n# Examples\n\n```jldoctest\njulia> cos(fill(1.0, (2,2)))\n2×2 Array{Float64,2}:\n  0.291927  -0.708073\n -0.708073   0.291927\n```\n",
      "text/latex": "\\begin{verbatim}\ncos(x)\n\\end{verbatim}\nCompute cosine of \\texttt{x}, where \\texttt{x} is in radians.\n\n\\rule{\\textwidth}{1pt}\n\\begin{verbatim}\ncos(A::AbstractMatrix)\n\\end{verbatim}\nCompute the matrix cosine of a square matrix \\texttt{A}.\n\nIf \\texttt{A} is symmetric or Hermitian, its eigendecomposition (\\href{@ref}{\\texttt{eigen}}) is used to compute the cosine. Otherwise, the cosine is determined by calling \\href{@ref}{\\texttt{exp}}.\n\n\\section{Examples}\n\\begin{verbatim}\njulia> cos(fill(1.0, (2,2)))\n2×2 Array{Float64,2}:\n  0.291927  -0.708073\n -0.708073   0.291927\n\\end{verbatim}\n"
     },
     "metadata": {},
     "execution_count": 5
    }
   ],
   "source": [
    "?cos"
   ]
  },
  {
   "cell_type": "code",
   "execution_count": 6,
   "metadata": {},
   "outputs": [
    {
     "output_type": "execute_result",
     "data": {
      "text/plain": [
       "\u001b[36m  @time\u001b[39m\n",
       "\n",
       "  A macro to execute an expression, printing the time it took to execute, the\n",
       "  number of allocations, and the total number of bytes its execution caused to\n",
       "  be allocated, before returning the value of the expression.\n",
       "\n",
       "  See also \u001b[36m@timev\u001b[39m, \u001b[36m@timed\u001b[39m, \u001b[36m@elapsed\u001b[39m, and \u001b[36m@allocated\u001b[39m.\n",
       "\n",
       "\u001b[36m\u001b[1m  │ \u001b[22m\u001b[39m\u001b[36m\u001b[1mNote\u001b[22m\u001b[39m\n",
       "\u001b[36m\u001b[1m  │\u001b[22m\u001b[39m\n",
       "\u001b[36m\u001b[1m  │\u001b[22m\u001b[39m  For more serious benchmarking, consider the \u001b[36m@btime\u001b[39m macro from the\n",
       "\u001b[36m\u001b[1m  │\u001b[22m\u001b[39m  BenchmarkTools.jl package which among other things evaluates the\n",
       "\u001b[36m\u001b[1m  │\u001b[22m\u001b[39m  function multiple times in order to reduce noise.\n",
       "\n",
       "\u001b[36m  julia> @time rand(10^6);\u001b[39m\n",
       "\u001b[36m    0.001525 seconds (7 allocations: 7.630 MiB)\u001b[39m\n",
       "\u001b[36m  \u001b[39m\n",
       "\u001b[36m  julia> @time begin\u001b[39m\n",
       "\u001b[36m             sleep(0.3)\u001b[39m\n",
       "\u001b[36m             1+1\u001b[39m\n",
       "\u001b[36m         end\u001b[39m\n",
       "\u001b[36m    0.301395 seconds (8 allocations: 336 bytes)\u001b[39m\n",
       "\u001b[36m  2\u001b[39m"
      ],
      "text/markdown": "```\n@time\n```\n\nA macro to execute an expression, printing the time it took to execute, the number of allocations, and the total number of bytes its execution caused to be allocated, before returning the value of the expression.\n\nSee also [`@timev`](@ref), [`@timed`](@ref), [`@elapsed`](@ref), and [`@allocated`](@ref).\n\n!!! note\n    For more serious benchmarking, consider the `@btime` macro from the BenchmarkTools.jl package which among other things evaluates the function multiple times in order to reduce noise.\n\n\n```julia-repl\njulia> @time rand(10^6);\n  0.001525 seconds (7 allocations: 7.630 MiB)\n\njulia> @time begin\n           sleep(0.3)\n           1+1\n       end\n  0.301395 seconds (8 allocations: 336 bytes)\n2\n```\n",
      "text/latex": "\\begin{verbatim}\n@time\n\\end{verbatim}\nA macro to execute an expression, printing the time it took to execute, the number of allocations, and the total number of bytes its execution caused to be allocated, before returning the value of the expression.\n\nSee also \\href{@ref}{\\texttt{@timev}}, \\href{@ref}{\\texttt{@timed}}, \\href{@ref}{\\texttt{@elapsed}}, and \\href{@ref}{\\texttt{@allocated}}.\n\n\\begin{quote}\n\\textbf{note}\n\nNote\n\nFor more serious benchmarking, consider the \\texttt{@btime} macro from the BenchmarkTools.jl package which among other things evaluates the function multiple times in order to reduce noise.\n\n\\end{quote}\n\\begin{verbatim}\njulia> @time rand(10^6);\n  0.001525 seconds (7 allocations: 7.630 MiB)\n\njulia> @time begin\n           sleep(0.3)\n           1+1\n       end\n  0.301395 seconds (8 allocations: 336 bytes)\n2\n\\end{verbatim}\n"
     },
     "metadata": {},
     "execution_count": 6
    }
   ],
   "source": [
    "?@time"
   ]
  },
  {
   "cell_type": "code",
   "execution_count": 7,
   "metadata": {},
   "outputs": [
    {
     "output_type": "execute_result",
     "data": {
      "text/plain": [
       "\u001b[36m  @r_str -> Regex\u001b[39m\n",
       "\n",
       "  Construct a regex, such as \u001b[36mr\"^[a-z]*$\"\u001b[39m, without interpolation and unescaping\n",
       "  (except for quotation mark \u001b[36m\"\u001b[39m which still has to be escaped). The regex also\n",
       "  accepts one or more flags, listed after the ending quote, to change its\n",
       "  behaviour:\n",
       "\n",
       "    •    \u001b[36mi\u001b[39m enables case-insensitive matching\n",
       "\n",
       "    •    \u001b[36mm\u001b[39m treats the \u001b[36m^\u001b[39m and \u001b[36m$\u001b[39m tokens as matching the start and end of\n",
       "        individual lines, as opposed to the whole string.\n",
       "\n",
       "    •    \u001b[36ms\u001b[39m allows the \u001b[36m.\u001b[39m modifier to match newlines.\n",
       "\n",
       "    •    \u001b[36mx\u001b[39m enables \"comment mode\": whitespace is enabled except when\n",
       "        escaped with \u001b[36m\\\u001b[39m, and \u001b[36m#\u001b[39m is treated as starting a comment.\n",
       "\n",
       "    •    \u001b[36ma\u001b[39m disables \u001b[36mUCP\u001b[39m mode (enables ASCII mode). By default \u001b[36m\\B\u001b[39m, \u001b[36m\\b\u001b[39m, \u001b[36m\\D\u001b[39m,\n",
       "        \u001b[36m\\d\u001b[39m, \u001b[36m\\S\u001b[39m, \u001b[36m\\s\u001b[39m, \u001b[36m\\W\u001b[39m, \u001b[36m\\w\u001b[39m, etc. match based on Unicode character\n",
       "        properties. With this option, these sequences only match ASCII\n",
       "        characters.\n",
       "\n",
       "  See \u001b[36mRegex\u001b[39m if interpolation is needed.\n",
       "\n",
       "\u001b[1m  Examples\u001b[22m\n",
       "\u001b[1m  ≡≡≡≡≡≡≡≡≡≡\u001b[22m\n",
       "\n",
       "\u001b[36m  julia> match(r\"a+.*b+.*?d$\"ism, \"Goodbye,\\nOh, angry,\\nBad world\\n\")\u001b[39m\n",
       "\u001b[36m  RegexMatch(\"angry,\\nBad world\")\u001b[39m\n",
       "\n",
       "  This regex has the first three flags enabled."
      ],
      "text/markdown": "```\n@r_str -> Regex\n```\n\nConstruct a regex, such as `r\"^[a-z]*$\"`, without interpolation and unescaping (except for quotation mark `\"` which still has to be escaped). The regex also accepts one or more flags, listed after the ending quote, to change its behaviour:\n\n  * `i` enables case-insensitive matching\n  * `m` treats the `^` and `$` tokens as matching the start and end of individual lines, as opposed to the whole string.\n  * `s` allows the `.` modifier to match newlines.\n  * `x` enables \"comment mode\": whitespace is enabled except when escaped with `\\`, and `#` is treated as starting a comment.\n  * `a` disables `UCP` mode (enables ASCII mode). By default `\\B`, `\\b`, `\\D`, `\\d`, `\\S`, `\\s`, `\\W`, `\\w`, etc. match based on Unicode character properties. With this option, these sequences only match ASCII characters.\n\nSee `Regex` if interpolation is needed.\n\n# Examples\n\n```jldoctest\njulia> match(r\"a+.*b+.*?d$\"ism, \"Goodbye,\\nOh, angry,\\nBad world\\n\")\nRegexMatch(\"angry,\\nBad world\")\n```\n\nThis regex has the first three flags enabled.\n",
      "text/latex": "\\begin{verbatim}\n@r_str -> Regex\n\\end{verbatim}\nConstruct a regex, such as \\texttt{r\"\\^{}[a-z]*\\$\"}, without interpolation and unescaping (except for quotation mark \\texttt{\"} which still has to be escaped). The regex also accepts one or more flags, listed after the ending quote, to change its behaviour:\n\n\\begin{itemize}\n\\item \\texttt{i} enables case-insensitive matching\n\n\n\\item \\texttt{m} treats the \\texttt{\\^{}} and \\texttt{\\$} tokens as matching the start and end of individual lines, as opposed to the whole string.\n\n\n\\item \\texttt{s} allows the \\texttt{.} modifier to match newlines.\n\n\n\\item \\texttt{x} enables \"comment mode\": whitespace is enabled except when escaped with \\texttt{{\\textbackslash}}, and \\texttt{\\#} is treated as starting a comment.\n\n\n\\item \\texttt{a} disables \\texttt{UCP} mode (enables ASCII mode). By default \\texttt{{\\textbackslash}B}, \\texttt{{\\textbackslash}b}, \\texttt{{\\textbackslash}D}, \\texttt{{\\textbackslash}d}, \\texttt{{\\textbackslash}S}, \\texttt{{\\textbackslash}s}, \\texttt{{\\textbackslash}W}, \\texttt{{\\textbackslash}w}, etc. match based on Unicode character properties. With this option, these sequences only match ASCII characters.\n\n\\end{itemize}\nSee \\texttt{Regex} if interpolation is needed.\n\n\\section{Examples}\n\\begin{verbatim}\njulia> match(r\"a+.*b+.*?d$\"ism, \"Goodbye,\\nOh, angry,\\nBad world\\n\")\nRegexMatch(\"angry,\\nBad world\")\n\\end{verbatim}\nThis regex has the first three flags enabled.\n\n"
     },
     "metadata": {},
     "execution_count": 7
    }
   ],
   "source": [
    "?r\"\""
   ]
  },
  {
   "source": [
    "will show documentation for the relevant function, macro or string macro respectively."
   ],
   "cell_type": "markdown",
   "metadata": {}
  },
  {
   "source": [
    "## Functions & Methods"
   ],
   "cell_type": "markdown",
   "metadata": {}
  },
  {
   "source": [
    "Functions in Julia may have multiple implementations, known as methods. While it's good practice for generic functions to have a single purpose, Julia allows methods to be documented individually if necessary. In general, only the most generic method should be documented, or even the function itself (i.e. the object created without any methods by function bar end). Specific methods should only be documented if their behaviour differs from the more generic ones. In any case, they should not repeat the information provided elsewhere. For example:"
   ],
   "cell_type": "markdown",
   "metadata": {}
  },
  {
   "cell_type": "code",
   "execution_count": 8,
   "metadata": {},
   "outputs": [],
   "source": [
    "\"\"\"\n",
    "    *(x, y, z...)\n",
    "\n",
    "Multiplication operator. `x * y * z *...` calls this function with multiple\n",
    "arguments, i.e. `*(x, y, z...)`.\n",
    "\"\"\"\n",
    "function *(x, y, z...)\n",
    "    # ... [implementation sold separately] ...\n",
    "end;\n",
    "\n",
    "\"\"\"\n",
    "    *(x::AbstractString, y::AbstractString, z::AbstractString...)\n",
    "\n",
    "When applied to strings, concatenates them.\n",
    "\"\"\"\n",
    "function *(x::AbstractString, y::AbstractString, z::AbstractString...)\n",
    "    # ... [insert secret sauce here] ...\n",
    "end;"
   ]
  },
  {
   "cell_type": "code",
   "execution_count": 9,
   "metadata": {},
   "outputs": [
    {
     "output_type": "stream",
     "name": "stdout",
     "text": [
      "search: \u001b[0m\u001b[1m*\u001b[22m\n\n"
     ]
    },
    {
     "output_type": "execute_result",
     "data": {
      "text/plain": [
       "\u001b[36m  *(x, y, z...)\u001b[39m\n",
       "\n",
       "  Multiplication operator. \u001b[36mx * y * z *...\u001b[39m calls this function with multiple\n",
       "  arguments, i.e. \u001b[36m*(x, y, z...)\u001b[39m.\n",
       "\n",
       "  ────────────────────────────────────────────────────────────────────────────\n",
       "\n",
       "\u001b[36m  *(x::AbstractString, y::AbstractString, z::AbstractString...)\u001b[39m\n",
       "\n",
       "  When applied to strings, concatenates them."
      ],
      "text/markdown": "```\n*(x, y, z...)\n```\n\nMultiplication operator. `x * y * z *...` calls this function with multiple arguments, i.e. `*(x, y, z...)`.\n\n---\n\n```\n*(x::AbstractString, y::AbstractString, z::AbstractString...)\n```\n\nWhen applied to strings, concatenates them.\n",
      "text/latex": "\\begin{verbatim}\n*(x, y, z...)\n\\end{verbatim}\nMultiplication operator. \\texttt{x * y * z *...} calls this function with multiple arguments, i.e. \\texttt{*(x, y, z...)}.\n\n\\rule{\\textwidth}{1pt}\n\\begin{verbatim}\n*(x::AbstractString, y::AbstractString, z::AbstractString...)\n\\end{verbatim}\nWhen applied to strings, concatenates them.\n\n"
     },
     "metadata": {},
     "execution_count": 9
    }
   ],
   "source": [
    "?*"
   ]
  },
  {
   "source": [
    "When retrieving documentation for a generic function, the metadata for each method is concatenated with the catdoc function, which can of course be overridden for custom types."
   ],
   "cell_type": "markdown",
   "metadata": {}
  },
  {
   "source": [
    "## Advanced Usage"
   ],
   "cell_type": "markdown",
   "metadata": {}
  },
  {
   "source": [
    "The @doc macro associates its first argument with its second in a per-module dictionary called META.\n",
    "\n",
    "To make it easier to write documentation, the parser treats the macro name @doc specially: if a call to @doc has one argument, but another expression appears after a single line break, then that additional expression is added as an argument to the macro. Therefore the following syntax is parsed as a 2-argument call to @doc:"
   ],
   "cell_type": "markdown",
   "metadata": {}
  },
  {
   "cell_type": "code",
   "execution_count": 10,
   "metadata": {},
   "outputs": [
    {
     "output_type": "execute_result",
     "data": {
      "text/plain": [
       "f"
      ]
     },
     "metadata": {},
     "execution_count": 10
    }
   ],
   "source": [
    "@doc raw\"\"\"\n",
    "...\n",
    "\"\"\"\n",
    "f(x) = x"
   ]
  },
  {
   "source": [
    "This makes it possible to use expressions other than normal string literals (such as the raw\"\" string macro) as a docstring.\n",
    "\n",
    "When used for retrieving documentation, the @doc macro (or equally, the doc function) will search all META dictionaries for metadata relevant to the given object and return it. The returned object (some Markdown content, for example) will by default display itself intelligently. This design also makes it easy to use the doc system in a programmatic way; for example, to re-use documentation between different versions of a function:"
   ],
   "cell_type": "markdown",
   "metadata": {}
  },
  {
   "cell_type": "code",
   "execution_count": 11,
   "metadata": {},
   "outputs": [],
   "source": [
    "@doc \"...\" foo!;\n",
    "@doc (@doc foo!) foo;"
   ]
  },
  {
   "source": [
    "Or for use with Julia's metaprogramming functionality:"
   ],
   "cell_type": "markdown",
   "metadata": {}
  },
  {
   "cell_type": "code",
   "execution_count": 12,
   "metadata": {},
   "outputs": [],
   "source": [
    "for (f, op) in ((:add, :+), (:subtract, :-), (:multiply, :*), (:divide, :/))\n",
    "    @eval begin\n",
    "        $f(a,b) = $op(a,b)\n",
    "    end\n",
    "end;\n",
    "@doc \"`add(a,b)` adds `a` and `b` together\" add;\n",
    "@doc \"`subtract(a,b)` subtracts `b` from `a`\" subtract;"
   ]
  },
  {
   "source": [
    "Documentation written in non-toplevel blocks, such as begin, if, for, and let, is added to the documentation system as blocks are evaluated. For example:\n",
    "\n",
    "    if condition()\n",
    "        \"...\"\n",
    "        f(x) = x\n",
    "    end\n",
    "\n",
    "will add documentation to f(x) when condition() is true. Note that even if f(x) goes out of scope at the end of the block, its documentation will remain.\n",
    "\n",
    "It is possible to make use of metaprogramming to assist in the creation of documentation. When using string-interpolation within the docstring you will need to use an extra \\$ as shown with \\$(\\$name):\n",
    "\n",
    "    for func in (:day, :dayofmonth)\n",
    "        name = string(func)\n",
    "        @eval begin\n",
    "            @doc \"\"\"\n",
    "                $($name)(dt::TimeType) -> Int64\n",
    "\n",
    "            The day of month of a `Date` or `DateTime` as an `Int64`.\n",
    "            \"\"\" $func(dt::Dates.TimeType)\n",
    "        end\n",
    "    end"
   ],
   "cell_type": "markdown",
   "metadata": {}
  },
  {
   "source": [
    "## Dynamic documentation"
   ],
   "cell_type": "markdown",
   "metadata": {}
  },
  {
   "source": [
    "Sometimes the appropriate documentation for an instance of a type depends on the field values of that instance, rather than just on the type itself. In these cases, you can add a method to Docs.getdoc for your custom type that returns the documentation on a per-instance basis. For instance,"
   ],
   "cell_type": "markdown",
   "metadata": {}
  },
  {
   "cell_type": "code",
   "execution_count": 13,
   "metadata": {},
   "outputs": [],
   "source": [
    "struct MyType\n",
    "    value::String\n",
    "end;\n",
    "\n",
    "Docs.getdoc(t::MyType) = \"Documentation for MyType with value $(t.value)\"\n",
    "\n",
    "x = MyType(\"x\");\n",
    "y = MyType(\"y\");"
   ]
  },
  {
   "cell_type": "code",
   "execution_count": 14,
   "metadata": {},
   "outputs": [
    {
     "output_type": "stream",
     "name": "stdout",
     "text": [
      "search: \u001b[0m\u001b[1mx\u001b[22m \u001b[0m\u001b[1mx\u001b[22mor e\u001b[0m\u001b[1mx\u001b[22mp E\u001b[0m\u001b[1mx\u001b[22mpr e\u001b[0m\u001b[1mx\u001b[22mp2 e\u001b[0m\u001b[1mx\u001b[22mit a\u001b[0m\u001b[1mx\u001b[22mes e\u001b[0m\u001b[1mx\u001b[22mpm1 e\u001b[0m\u001b[1mx\u001b[22mp10 e\u001b[0m\u001b[1mx\u001b[22mport e\u001b[0m\u001b[1mx\u001b[22mtrema e\u001b[0m\u001b[1mx\u001b[22mponent\n\n"
     ]
    },
    {
     "output_type": "execute_result",
     "data": {
      "text/plain": [
       "\"Documentation for MyType with value x\""
      ]
     },
     "metadata": {},
     "execution_count": 14
    }
   ],
   "source": [
    "?x"
   ]
  },
  {
   "cell_type": "code",
   "execution_count": 15,
   "metadata": {},
   "outputs": [
    {
     "output_type": "stream",
     "name": "stdout",
     "text": [
      "search: \u001b[0m\u001b[1my\u001b[22m \u001b[0m\u001b[1my\u001b[22mield \u001b[0m\u001b[1my\u001b[22mieldto S\u001b[0m\u001b[1my\u001b[22ms T\u001b[0m\u001b[1my\u001b[22mpe h\u001b[0m\u001b[1my\u001b[22mpot t\u001b[0m\u001b[1my\u001b[22mpeof S\u001b[0m\u001b[1my\u001b[22mmbol M\u001b[0m\u001b[1my\u001b[22mType T\u001b[0m\u001b[1my\u001b[22mpeVar t\u001b[0m\u001b[1my\u001b[22mpemin\n\n"
     ]
    },
    {
     "output_type": "execute_result",
     "data": {
      "text/plain": [
       "\"Documentation for MyType with value y\""
      ]
     },
     "metadata": {},
     "execution_count": 15
    }
   ],
   "source": [
    "?y"
   ]
  },
  {
   "source": [
    "## Syntax Guide"
   ],
   "cell_type": "markdown",
   "metadata": {}
  },
  {
   "source": [
    "This guide provides a comprehensive overview of how to attach documentation to all Julia syntax constructs for which providing documentation is possible.\n",
    "\n",
    "In the following examples \"...\" is used to illustrate an arbitrary docstring."
   ],
   "cell_type": "markdown",
   "metadata": {}
  },
  {
   "source": [
    "### $ and \\ characters"
   ],
   "cell_type": "markdown",
   "metadata": {}
  },
  {
   "source": [
    "The $ and \\ characters are still parsed as string interpolation or start of an escape sequence in docstrings too. The raw\"\" string macro together with the @doc macro can be used to avoid having to escape them. This is handy when the docstrings include LaTeX or Julia source code examples containing interpolation:"
   ],
   "cell_type": "markdown",
   "metadata": {}
  },
  {
   "cell_type": "code",
   "execution_count": 16,
   "metadata": {},
   "outputs": [],
   "source": [
    "@doc raw\"\"\"\n",
    "```math\n",
    "\\LaTeX\n",
    "```\n",
    "\"\"\"\n",
    "function f end;"
   ]
  },
  {
   "cell_type": "code",
   "execution_count": 17,
   "metadata": {},
   "outputs": [
    {
     "output_type": "stream",
     "name": "stdout",
     "text": [
      "search: \u001b[0m\u001b[1mf\u001b[22m \u001b[0m\u001b[1mf\u001b[22md \u001b[0m\u001b[1mf\u001b[22mor \u001b[0m\u001b[1mf\u001b[22mma \u001b[0m\u001b[1mf\u001b[22mld \u001b[0m\u001b[1mf\u001b[22mld1 \u001b[0m\u001b[1mf\u001b[22mill \u001b[0m\u001b[1mf\u001b[22mdio \u001b[0m\u001b[1mf\u001b[22mrexp \u001b[0m\u001b[1mf\u001b[22moldr \u001b[0m\u001b[1mf\u001b[22moldl \u001b[0m\u001b[1mf\u001b[22mlush \u001b[0m\u001b[1mf\u001b[22mloor \u001b[0m\u001b[1mf\u001b[22mloat\n\n"
     ]
    },
    {
     "output_type": "execute_result",
     "data": {
      "text/plain": [
       "  ...\n",
       "\n",
       "  ────────────────────────────────────────────────────────────────────────────\n",
       "\n",
       "\u001b[35m\\LaTeX\u001b[39m"
      ],
      "text/markdown": "...\n\n---\n\n$$\n\\LaTeX\n$$\n",
      "text/latex": "...\n\n\\rule{\\textwidth}{1pt}\n$$\\LaTeX$$\n"
     },
     "metadata": {},
     "execution_count": 17
    }
   ],
   "source": [
    "?f"
   ]
  },
  {
   "source": [
    "### Functions and Methods"
   ],
   "cell_type": "markdown",
   "metadata": {}
  },
  {
   "cell_type": "code",
   "execution_count": 18,
   "metadata": {},
   "outputs": [],
   "source": [
    "\"...\"\n",
    "function f end;\n",
    "\n",
    "\"...\"\n",
    "f;"
   ]
  },
  {
   "source": [
    "Adds docstring \"...\" to the function f. The first version is the preferred syntax, however both are equivalent."
   ],
   "cell_type": "markdown",
   "metadata": {}
  },
  {
   "cell_type": "code",
   "execution_count": 19,
   "metadata": {},
   "outputs": [],
   "source": [
    "\"...\"\n",
    "f(x) = x;\n",
    "\n",
    "\"...\"\n",
    "function f(x)\n",
    "    x\n",
    "end;\n",
    "\n",
    "\"...\"\n",
    "f(x);"
   ]
  },
  {
   "source": [
    "Adds docstring \"...\" to the method f(::Any)."
   ],
   "cell_type": "markdown",
   "metadata": {}
  },
  {
   "cell_type": "code",
   "execution_count": 20,
   "metadata": {},
   "outputs": [],
   "source": [
    "\"...\"\n",
    "f(x, y = 1) = x + y;"
   ]
  },
  {
   "cell_type": "code",
   "execution_count": 21,
   "metadata": {},
   "outputs": [
    {
     "output_type": "stream",
     "name": "stdout",
     "text": [
      "search: \u001b[0m\u001b[1mf\u001b[22m \u001b[0m\u001b[1mf\u001b[22md \u001b[0m\u001b[1mf\u001b[22mor \u001b[0m\u001b[1mf\u001b[22mma \u001b[0m\u001b[1mf\u001b[22mld \u001b[0m\u001b[1mf\u001b[22mld1 \u001b[0m\u001b[1mf\u001b[22mill \u001b[0m\u001b[1mf\u001b[22mdio \u001b[0m\u001b[1mf\u001b[22mrexp \u001b[0m\u001b[1mf\u001b[22moldr \u001b[0m\u001b[1mf\u001b[22moldl \u001b[0m\u001b[1mf\u001b[22mlush \u001b[0m\u001b[1mf\u001b[22mloor \u001b[0m\u001b[1mf\u001b[22mloat\n\n"
     ]
    },
    {
     "output_type": "execute_result",
     "data": {
      "text/plain": [
       "  ...\n",
       "\n",
       "  ────────────────────────────────────────────────────────────────────────────\n",
       "\n",
       "  ...\n",
       "\n",
       "  ────────────────────────────────────────────────────────────────────────────\n",
       "\n",
       "  ..."
      ],
      "text/markdown": "...\n\n---\n\n...\n\n---\n\n...\n",
      "text/latex": "...\n\n\\rule{\\textwidth}{1pt}\n...\n\n\\rule{\\textwidth}{1pt}\n...\n\n"
     },
     "metadata": {},
     "execution_count": 21
    }
   ],
   "source": [
    "?f"
   ]
  },
  {
   "source": [
    "Adds docstring \"...\" to two Methods, namely f(::Any) and f(::Any, ::Any)."
   ],
   "cell_type": "markdown",
   "metadata": {}
  },
  {
   "source": [
    "### Macros"
   ],
   "cell_type": "markdown",
   "metadata": {}
  },
  {
   "cell_type": "code",
   "execution_count": 22,
   "metadata": {},
   "outputs": [
    {
     "output_type": "execute_result",
     "data": {
      "text/plain": [
       "@m"
      ]
     },
     "metadata": {},
     "execution_count": 22
    }
   ],
   "source": [
    "\"...\"\n",
    "macro m(x) end"
   ]
  },
  {
   "source": [
    "Adds docstring \"...\" to the @m(::Any) macro definition."
   ],
   "cell_type": "markdown",
   "metadata": {}
  },
  {
   "cell_type": "code",
   "execution_count": 23,
   "metadata": {},
   "outputs": [
    {
     "output_type": "execute_result",
     "data": {
      "text/plain": [
       "@m"
      ]
     },
     "metadata": {},
     "execution_count": 23
    }
   ],
   "source": [
    "\"...\"\n",
    ":(@m)"
   ]
  },
  {
   "source": [
    "Adds docstring \"...\" to the macro named @m."
   ],
   "cell_type": "markdown",
   "metadata": {}
  },
  {
   "source": [
    "### Types"
   ],
   "cell_type": "markdown",
   "metadata": {}
  },
  {
   "cell_type": "code",
   "execution_count": 24,
   "metadata": {},
   "outputs": [],
   "source": [
    "\"...\"\n",
    "abstract type T1 end;\n",
    "\n",
    "\"...\"\n",
    "mutable struct T2\n",
    "end;\n",
    "\n",
    "\"...\"\n",
    "struct T3\n",
    "end;"
   ]
  },
  {
   "source": [
    "Adds the docstring \"...\" to types T1, T2, and T3."
   ],
   "cell_type": "markdown",
   "metadata": {}
  },
  {
   "cell_type": "code",
   "execution_count": 25,
   "metadata": {},
   "outputs": [],
   "source": [
    "\"...\"\n",
    "struct T\n",
    "    \"x\"\n",
    "    x\n",
    "    \"y\"\n",
    "    y\n",
    "end;"
   ]
  },
  {
   "source": [
    "Adds docstring \"...\" to type T, \"x\" to field T.x and \"y\" to field T.y. Also applicable to mutable struct types."
   ],
   "cell_type": "markdown",
   "metadata": {}
  },
  {
   "cell_type": "code",
   "execution_count": 26,
   "metadata": {},
   "outputs": [
    {
     "output_type": "stream",
     "name": "stdout",
     "text": [
      "search: \u001b[0m\u001b[1mT\u001b[22m \u001b[0m\u001b[1mT\u001b[22m3 \u001b[0m\u001b[1mT\u001b[22m2 \u001b[0m\u001b[1mT\u001b[22m1 \u001b[0m\u001b[1mt\u001b[22mry \u001b[0m\u001b[1mT\u001b[22mype \u001b[0m\u001b[1mT\u001b[22mask \u001b[0m\u001b[1mt\u001b[22man \u001b[0m\u001b[1mT\u001b[22mext \u001b[0m\u001b[1mT\u001b[22muple \u001b[0m\u001b[1mt\u001b[22mime \u001b[0m\u001b[1mt\u001b[22manh \u001b[0m\u001b[1mt\u001b[22mand \u001b[0m\u001b[1mT\u001b[22mimer \u001b[0m\u001b[1mt\u001b[22muple \u001b[0m\u001b[1mt\u001b[22mhrow\n\n"
     ]
    },
    {
     "output_type": "execute_result",
     "data": {
      "text/plain": [
       "  ..."
      ],
      "text/markdown": "...\n",
      "text/latex": "...\n\n"
     },
     "metadata": {},
     "execution_count": 26
    }
   ],
   "source": [
    "?T"
   ]
  },
  {
   "source": [
    "### Modules"
   ],
   "cell_type": "markdown",
   "metadata": {}
  },
  {
   "cell_type": "code",
   "execution_count": 27,
   "metadata": {},
   "outputs": [
    {
     "output_type": "stream",
     "name": "stderr",
     "text": [
      "WARNING: replacing module M.\n"
     ]
    }
   ],
   "source": [
    "\"...\"\n",
    "module M end;\n",
    "\n",
    "module M\n",
    "\n",
    "\"...\"\n",
    "M\n",
    "\n",
    "end;"
   ]
  },
  {
   "source": [
    "Adds docstring \"...\" to the Module M. Adding the docstring above the Module is the preferred syntax, however both are equivalent."
   ],
   "cell_type": "markdown",
   "metadata": {}
  },
  {
   "cell_type": "code",
   "execution_count": 28,
   "metadata": {},
   "outputs": [
    {
     "output_type": "stream",
     "name": "stderr",
     "text": [
      "WARNING: replacing module M.\nWARNING: replacing module M.\n"
     ]
    },
    {
     "output_type": "execute_result",
     "data": {
      "text/plain": [
       "Main.M"
      ]
     },
     "metadata": {},
     "execution_count": 28
    }
   ],
   "source": [
    "\"...\"\n",
    "baremodule M\n",
    "# ...\n",
    "end\n",
    "\n",
    "baremodule M\n",
    "\n",
    "import Base: @doc\n",
    "\n",
    "\"...\"\n",
    "f(x) = x\n",
    "\n",
    "end"
   ]
  },
  {
   "source": [
    "Documenting a baremodule by placing a docstring above the expression automatically imports @doc into the module. These imports must be done manually when the module expression is not documented. Empty baremodules cannot be documented."
   ],
   "cell_type": "markdown",
   "metadata": {}
  },
  {
   "source": [
    "### Global Variables"
   ],
   "cell_type": "markdown",
   "metadata": {}
  },
  {
   "cell_type": "code",
   "execution_count": 29,
   "metadata": {},
   "outputs": [],
   "source": [
    "\"...\"\n",
    "const a = 1;\n",
    "\n",
    "\"...\"\n",
    "b = 2;\n",
    "\n",
    "\"...\"\n",
    "global c = 3;"
   ]
  },
  {
   "source": [
    "    \"...\"\n",
    "    sym\n",
    "\n",
    "Adds docstring \"...\" to the value associated with sym. However, it is preferred that sym is documented where it is defined."
   ],
   "cell_type": "markdown",
   "metadata": {}
  },
  {
   "source": [
    "### Multiple Objects"
   ],
   "cell_type": "markdown",
   "metadata": {}
  },
  {
   "source": [
    "    \"...\"\n",
    "    a, b\n",
    "\n",
    "Adds docstring \"...\" to a and b each of which should be a documentable expression. This syntax is equivalent to\n",
    "\n",
    "    \"...\"\n",
    "    a\n",
    "\n",
    "    \"...\"\n",
    "    b\n",
    "\n",
    "Any number of expressions many be documented together in this way. This syntax can be useful when two functions are related, such as non-mutating and mutating versions f and f!."
   ],
   "cell_type": "markdown",
   "metadata": {}
  },
  {
   "source": [
    "### Macro-generated code"
   ],
   "cell_type": "markdown",
   "metadata": {}
  },
  {
   "source": [
    "    \"...\"\n",
    "    @m expression\n",
    "\n",
    "Adds docstring \"...\" to the expression generated by expanding @m expression. This allows for expressions decorated with @inline, @noinline, @generated, or any other macro to be documented in the same way as undecorated expressions.\n",
    "\n",
    "Macro authors should take note that only macros that generate a single expression will automatically support docstrings. If a macro returns a block containing multiple subexpressions then the subexpression that should be documented must be marked using the @__doc__ macro.\n",
    "\n",
    "The @enum macro makes use of @__doc__ to allow for documenting Enums. Examining its definition should serve as an example of how to use @__doc__ correctly.\n",
    "\n",
    "    Core.@__doc__ — Macro\n",
    "    \n",
    "        @__doc__(ex)\n",
    "    \n",
    "    Low-level macro used to mark expressions returned by a macro that should be documented. If more than one expression is marked then the same docstring is applied to each expression.\n",
    "\n",
    "        macro example(f)\n",
    "            quote\n",
    "                $(f)() = 0\n",
    "                @__doc__ $(f)(x) = 1\n",
    "                $(f)(x, y) = 2\n",
    "            end |> esc\n",
    "        end\n",
    "\n",
    "    @__doc__ has no effect when a macro that uses it is not documented."
   ],
   "cell_type": "markdown",
   "metadata": {}
  }
 ]
}
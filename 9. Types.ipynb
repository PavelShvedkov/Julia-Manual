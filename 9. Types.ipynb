{
 "metadata": {
  "language_info": {
   "codemirror_mode": {
    "name": "ipython",
    "version": 3
   },
   "file_extension": ".py",
   "mimetype": "text/x-python",
   "name": "python",
   "nbconvert_exporter": "python",
   "pygments_lexer": "ipython3",
   "version": 3
  },
  "orig_nbformat": 2,
  "kernelspec": {
   "name": "julia-1.4",
   "display_name": "Julia 1.4.1",
   "language": "julia"
  }
 },
 "nbformat": 4,
 "nbformat_minor": 2,
 "cells": [
  {
   "source": [
    "# Types"
   ],
   "cell_type": "markdown",
   "metadata": {}
  },
  {
   "source": [
    "Type systems have traditionally fallen into two quite different camps: static type systems, where every program expression must have a type computable before the execution of the program, and dynamic type systems, where nothing is known about types until run time, when the actual values manipulated by the program are available. Object orientation allows some flexibility in statically typed languages by letting code be written without the precise types of values being known at compile time. The ability to write code that can operate on different types is called polymorphism. All code in classic dynamically typed languages is polymorphic: only by explicitly checking types, or when objects fail to support operations at run-time, are the types of any values ever restricted.\n",
    "\n",
    "Julia's type system is dynamic, but gains some of the advantages of static type systems by making it possible to indicate that certain values are of specific types. This can be of great assistance in generating efficient code, but even more significantly, it allows method dispatch on the types of function arguments to be deeply integrated with the language. Method dispatch is explored in detail in Methods, but is rooted in the type system presented here.\n",
    "\n",
    "The default behavior in Julia when types are omitted is to allow values to be of any type. Thus, one can write many useful Julia functions without ever explicitly using types. When additional expressiveness is needed, however, it is easy to gradually introduce explicit type annotations into previously \"untyped\" code. Adding annotations serves three primary purposes: to take advantage of Julia's powerful multiple-dispatch mechanism, to improve human readability, and to catch programmer errors.\n",
    "\n",
    "Describing Julia in the lingo of type systems, it is: dynamic, nominative and parametric. Generic types can be parameterized, and the hierarchical relationships between types are explicitly declared, rather than implied by compatible structure. One particularly distinctive feature of Julia's type system is that concrete types may not subtype each other: all concrete types are final and may only have abstract types as their supertypes. While this might at first seem unduly restrictive, it has many beneficial consequences with surprisingly few drawbacks. It turns out that being able to inherit behavior is much more important than being able to inherit structure, and inheriting both causes significant difficulties in traditional object-oriented languages. Other high-level aspects of Julia's type system that should be mentioned up front are:\n",
    "\n",
    "    - There is no division between object and non-object values: all values in Julia are true objects having a type that belongs to a single, fully connected type graph, all nodes of which are equally first-class as types.\n",
    "    - There is no meaningful concept of a \"compile-time type\": the only type a value has is its actual type when the program is running. This is called a \"run-time type\" in object-oriented languages where the combination of static compilation with polymorphism makes this distinction significant.\n",
    "    - Only values, not variables, have types – variables are simply names bound to values.\n",
    "    - Both abstract and concrete types can be parameterized by other types. They can also be parameterized by symbols, by values of any type for which isbits returns true (essentially, things like numbers and bools that are stored like C types or structs with no pointers to other objects), and also by tuples thereof. Type parameters may be omitted when they do not need to be referenced or restricted.\n",
    "\n",
    "Julia's type system is designed to be powerful and expressive, yet clear, intuitive and unobtrusive. Many Julia programmers may never feel the need to write code that explicitly uses types. Some kinds of programming, however, become clearer, simpler, faster and more robust with declared types."
   ],
   "cell_type": "markdown",
   "metadata": {}
  },
  {
   "source": [
    "## Type Declarations"
   ],
   "cell_type": "markdown",
   "metadata": {}
  },
  {
   "source": [
    "The :: operator can be used to attach type annotations to expressions and variables in programs. There are two primary reasons to do this:\n",
    "\n",
    "    - As an assertion to help confirm that your program works the way you expect,\n",
    "    - To provide extra type information to the compiler, which can then improve performance in some cases\n",
    "    \n",
    "When appended to an expression computing a value, the :: operator is read as \"is an instance of\". It can be used anywhere to assert that the value of the expression on the left is an instance of the type on the right. When the type on the right is concrete, the value on the left must have that type as its implementation – recall that all concrete types are final, so no implementation is a subtype of any other. When the type is abstract, it suffices for the value to be implemented by a concrete type that is a subtype of the abstract type. If the type assertion is not true, an exception is thrown, otherwise, the left-hand value is returned:"
   ],
   "cell_type": "markdown",
   "metadata": {}
  },
  {
   "cell_type": "code",
   "execution_count": 1,
   "metadata": {},
   "outputs": [
    {
     "output_type": "error",
     "ename": "TypeError",
     "evalue": "TypeError: in typeassert, expected AbstractFloat, got Int64",
     "traceback": [
      "TypeError: in typeassert, expected AbstractFloat, got Int64",
      "",
      "Stacktrace:",
      " [1] top-level scope at In[1]:1"
     ]
    }
   ],
   "source": [
    "(1+2)::AbstractFloat"
   ]
  },
  {
   "cell_type": "code",
   "execution_count": 17,
   "metadata": {},
   "outputs": [
    {
     "output_type": "execute_result",
     "data": {
      "text/plain": [
       "3"
      ]
     },
     "metadata": {},
     "execution_count": 17
    }
   ],
   "source": [
    "(1+2)::Int"
   ]
  },
  {
   "source": [
    "This allows a type assertion to be attached to any expression in-place.\n",
    "\n",
    "When appended to a variable on the left-hand side of an assignment, or as part of a local declaration, the :: operator means something a bit different: it declares the variable to always have the specified type, like a type declaration in a statically-typed language such as C. Every value assigned to the variable will be converted to the declared type using convert:"
   ],
   "cell_type": "markdown",
   "metadata": {}
  },
  {
   "cell_type": "code",
   "execution_count": 18,
   "metadata": {},
   "outputs": [
    {
     "output_type": "stream",
     "name": "stdout",
     "text": [
      "search: \u001b[0m\u001b[1mc\u001b[22m\u001b[0m\u001b[1mo\u001b[22m\u001b[0m\u001b[1mn\u001b[22m\u001b[0m\u001b[1mv\u001b[22m\u001b[0m\u001b[1me\u001b[22m\u001b[0m\u001b[1mr\u001b[22m\u001b[0m\u001b[1mt\u001b[22m \u001b[0m\u001b[1mc\u001b[22m\u001b[0m\u001b[1mo\u001b[22mde_\u001b[0m\u001b[1mn\u001b[22mati\u001b[0m\u001b[1mv\u001b[22m\u001b[0m\u001b[1me\u001b[22m @\u001b[0m\u001b[1mc\u001b[22m\u001b[0m\u001b[1mo\u001b[22mde_\u001b[0m\u001b[1mn\u001b[22mati\u001b[0m\u001b[1mv\u001b[22m\u001b[0m\u001b[1me\u001b[22m\n\n"
     ]
    },
    {
     "output_type": "execute_result",
     "data": {
      "text/plain": [
       "\u001b[36m  convert(T, x)\u001b[39m\n",
       "\n",
       "  Convert \u001b[36mx\u001b[39m to a value of type \u001b[36mT\u001b[39m.\n",
       "\n",
       "  If \u001b[36mT\u001b[39m is an \u001b[36mInteger\u001b[39m type, an \u001b[36mInexactError\u001b[39m will be raised if \u001b[36mx\u001b[39m is not\n",
       "  representable by \u001b[36mT\u001b[39m, for example if \u001b[36mx\u001b[39m is not integer-valued, or is outside\n",
       "  the range supported by \u001b[36mT\u001b[39m.\n",
       "\n",
       "\u001b[1m  Examples\u001b[22m\n",
       "\u001b[1m  ≡≡≡≡≡≡≡≡≡≡\u001b[22m\n",
       "\n",
       "\u001b[36m  julia> convert(Int, 3.0)\u001b[39m\n",
       "\u001b[36m  3\u001b[39m\n",
       "\u001b[36m  \u001b[39m\n",
       "\u001b[36m  julia> convert(Int, 3.5)\u001b[39m\n",
       "\u001b[36m  ERROR: InexactError: Int64(3.5)\u001b[39m\n",
       "\u001b[36m  Stacktrace:\u001b[39m\n",
       "\u001b[36m  [...]\u001b[39m\n",
       "\n",
       "  If \u001b[36mT\u001b[39m is a \u001b[36mAbstractFloat\u001b[39m or \u001b[36mRational\u001b[39m type, then it will return the closest\n",
       "  value to \u001b[36mx\u001b[39m representable by \u001b[36mT\u001b[39m.\n",
       "\n",
       "\u001b[36m  julia> x = 1/3\u001b[39m\n",
       "\u001b[36m  0.3333333333333333\u001b[39m\n",
       "\u001b[36m  \u001b[39m\n",
       "\u001b[36m  julia> convert(Float32, x)\u001b[39m\n",
       "\u001b[36m  0.33333334f0\u001b[39m\n",
       "\u001b[36m  \u001b[39m\n",
       "\u001b[36m  julia> convert(Rational{Int32}, x)\u001b[39m\n",
       "\u001b[36m  1//3\u001b[39m\n",
       "\u001b[36m  \u001b[39m\n",
       "\u001b[36m  julia> convert(Rational{Int64}, x)\u001b[39m\n",
       "\u001b[36m  6004799503160661//18014398509481984\u001b[39m\n",
       "\n",
       "  If \u001b[36mT\u001b[39m is a collection type and \u001b[36mx\u001b[39m a collection, the result of \u001b[36mconvert(T, x)\u001b[39m\n",
       "  may alias all or part of \u001b[36mx\u001b[39m.\n",
       "\n",
       "\u001b[36m  julia> x = Int[1, 2, 3];\u001b[39m\n",
       "\u001b[36m  \u001b[39m\n",
       "\u001b[36m  julia> y = convert(Vector{Int}, x);\u001b[39m\n",
       "\u001b[36m  \u001b[39m\n",
       "\u001b[36m  julia> y === x\u001b[39m\n",
       "\u001b[36m  true\u001b[39m"
      ],
      "text/markdown": "```\nconvert(T, x)\n```\n\nConvert `x` to a value of type `T`.\n\nIf `T` is an [`Integer`](@ref) type, an [`InexactError`](@ref) will be raised if `x` is not representable by `T`, for example if `x` is not integer-valued, or is outside the range supported by `T`.\n\n# Examples\n\n```jldoctest\njulia> convert(Int, 3.0)\n3\n\njulia> convert(Int, 3.5)\nERROR: InexactError: Int64(3.5)\nStacktrace:\n[...]\n```\n\nIf `T` is a [`AbstractFloat`](@ref) or [`Rational`](@ref) type, then it will return the closest value to `x` representable by `T`.\n\n```jldoctest\njulia> x = 1/3\n0.3333333333333333\n\njulia> convert(Float32, x)\n0.33333334f0\n\njulia> convert(Rational{Int32}, x)\n1//3\n\njulia> convert(Rational{Int64}, x)\n6004799503160661//18014398509481984\n```\n\nIf `T` is a collection type and `x` a collection, the result of `convert(T, x)` may alias all or part of `x`.\n\n```jldoctest\njulia> x = Int[1, 2, 3];\n\njulia> y = convert(Vector{Int}, x);\n\njulia> y === x\ntrue\n```\n",
      "text/latex": "\\begin{verbatim}\nconvert(T, x)\n\\end{verbatim}\nConvert \\texttt{x} to a value of type \\texttt{T}.\n\nIf \\texttt{T} is an \\href{@ref}{\\texttt{Integer}} type, an \\href{@ref}{\\texttt{InexactError}} will be raised if \\texttt{x} is not representable by \\texttt{T}, for example if \\texttt{x} is not integer-valued, or is outside the range supported by \\texttt{T}.\n\n\\section{Examples}\n\\begin{verbatim}\njulia> convert(Int, 3.0)\n3\n\njulia> convert(Int, 3.5)\nERROR: InexactError: Int64(3.5)\nStacktrace:\n[...]\n\\end{verbatim}\nIf \\texttt{T} is a \\href{@ref}{\\texttt{AbstractFloat}} or \\href{@ref}{\\texttt{Rational}} type, then it will return the closest value to \\texttt{x} representable by \\texttt{T}.\n\n\\begin{verbatim}\njulia> x = 1/3\n0.3333333333333333\n\njulia> convert(Float32, x)\n0.33333334f0\n\njulia> convert(Rational{Int32}, x)\n1//3\n\njulia> convert(Rational{Int64}, x)\n6004799503160661//18014398509481984\n\\end{verbatim}\nIf \\texttt{T} is a collection type and \\texttt{x} a collection, the result of \\texttt{convert(T, x)} may alias all or part of \\texttt{x}.\n\n\\begin{verbatim}\njulia> x = Int[1, 2, 3];\n\njulia> y = convert(Vector{Int}, x);\n\njulia> y === x\ntrue\n\\end{verbatim}\n"
     },
     "metadata": {},
     "execution_count": 18
    }
   ],
   "source": [
    "?convert"
   ]
  },
  {
   "cell_type": "code",
   "execution_count": 19,
   "metadata": {},
   "outputs": [
    {
     "output_type": "execute_result",
     "data": {
      "text/plain": [
       "foo (generic function with 1 method)"
      ]
     },
     "metadata": {},
     "execution_count": 19
    }
   ],
   "source": [
    "function foo()\n",
    "    x::Int8 = 100\n",
    "    x\n",
    "end"
   ]
  },
  {
   "cell_type": "code",
   "execution_count": 20,
   "metadata": {},
   "outputs": [
    {
     "output_type": "execute_result",
     "data": {
      "text/plain": [
       "100"
      ]
     },
     "metadata": {},
     "execution_count": 20
    }
   ],
   "source": [
    "foo()"
   ]
  },
  {
   "cell_type": "code",
   "execution_count": 21,
   "metadata": {},
   "outputs": [
    {
     "output_type": "execute_result",
     "data": {
      "text/plain": [
       "Int8"
      ]
     },
     "metadata": {},
     "execution_count": 21
    }
   ],
   "source": [
    "typeof(ans)"
   ]
  },
  {
   "source": [
    "This feature is useful for avoiding performance \"gotchas\" that could occur if one of the assignments to a variable changed its type unexpectedly.\n",
    "\n",
    "This \"declaration\" behavior only occurs in specific contexts:\n",
    "\n",
    "    local x::Int8  # in a local declaration\n",
    "    x::Int8 = 10   # as the left-hand side of an assignment\n",
    "\n",
    "and applies to the whole current scope, even before the declaration. Currently, type declarations cannot be used in global scope, e.g. in the REPL, since Julia does not yet have constant-type globals.\n",
    "\n",
    "Declarations can also be attached to function definitions:"
   ],
   "cell_type": "markdown",
   "metadata": {}
  },
  {
   "cell_type": "code",
   "execution_count": 22,
   "metadata": {},
   "outputs": [
    {
     "output_type": "execute_result",
     "data": {
      "text/plain": [
       "sinc (generic function with 1 method)"
      ]
     },
     "metadata": {},
     "execution_count": 22
    }
   ],
   "source": [
    "function sinc(x)::Float64\n",
    "    if x == 0\n",
    "        return 1\n",
    "    end\n",
    "    return sin(pi*x)/(pi*x)\n",
    "end"
   ]
  },
  {
   "source": [
    "Returning from this function behaves just like an assignment to a variable with a declared type: the value is always converted to Float64."
   ],
   "cell_type": "markdown",
   "metadata": {}
  },
  {
   "source": [
    "## Abstract Types"
   ],
   "cell_type": "markdown",
   "metadata": {}
  },
  {
   "source": [
    "Abstract types cannot be instantiated, and serve only as nodes in the type graph, thereby describing sets of related concrete types: those concrete types which are their descendants. We begin with abstract types even though they have no instantiation because they are the backbone of the type system: they form the conceptual hierarchy which makes Julia's type system more than just a collection of object implementations.\n",
    "\n",
    "Recall that in Integers and Floating-Point Numbers, we introduced a variety of concrete types of numeric values: Int8, UInt8, Int16, UInt16, Int32, UInt32, Int64, UInt64, Int128, UInt128, Float16, Float32, and Float64. Although they have different representation sizes, Int8, Int16, Int32, Int64 and Int128 all have in common that they are signed integer types. Likewise UInt8, UInt16, UInt32, UInt64 and UInt128 are all unsigned integer types, while Float16, Float32 and Float64 are distinct in being floating-point types rather than integers. It is common for a piece of code to make sense, for example, only if its arguments are some kind of integer, but not really depend on what particular kind of integer. For example, the greatest common denominator algorithm works for all kinds of integers, but will not work for floating-point numbers. Abstract types allow the construction of a hierarchy of types, providing a context into which concrete types can fit. This allows you, for example, to easily program to any type that is an integer, without restricting an algorithm to a specific type of integer.\n",
    "\n",
    "Abstract types are declared using the abstract type keyword. The general syntaxes for declaring an abstract type are:\n",
    "\n",
    "    - abstract type «name» end\n",
    "    - abstract type «name» <: «supertype» end\n",
    "\n",
    "The abstract type keyword introduces a new abstract type, whose name is given by «name». This name can be optionally followed by <: and an already-existing type, indicating that the newly declared abstract type is a subtype of this \"parent\" type.\n",
    "\n",
    "When no supertype is given, the default supertype is Any – a predefined abstract type that all objects are instances of and all types are subtypes of. In type theory, Any is commonly called \"top\" because it is at the apex of the type graph. Julia also has a predefined abstract \"bottom\" type, at the nadir of the type graph, which is written as Union{}. It is the exact opposite of Any: no object is an instance of Union{} and all types are supertypes of Union{}.\n",
    "\n",
    "Let's consider some of the abstract types that make up Julia's numerical hierarchy:\n",
    "\n",
    "    - abstract type Number end\n",
    "    - abstract type Real     <: Number end\n",
    "    - abstract type AbstractFloat <: Real end\n",
    "    - abstract type Integer  <: Real end\n",
    "    - abstract type Signed   <: Integer end\n",
    "    - abstract type Unsigned <: Integer end\n",
    "\n",
    "The Number type is a direct child type of Any, and Real is its child. In turn, Real has two children (it has more, but only two are shown here; we'll get to the others later): Integer and AbstractFloat, separating the world into representations of integers and representations of real numbers. Representations of real numbers include, of course, floating-point types, but also include other types, such as rationals. Hence, AbstractFloat is a proper subtype of Real, including only floating-point representations of real numbers. Integers are further subdivided into Signed and Unsigned varieties.\n",
    "\n",
    "The <: operator in general means \"is a subtype of\", and, used in declarations like this, declares the right-hand type to be an immediate supertype of the newly declared type. It can also be used in expressions as a subtype operator which returns true when its left operand is a subtype of its right operand:"
   ],
   "cell_type": "markdown",
   "metadata": {}
  },
  {
   "cell_type": "code",
   "execution_count": 23,
   "metadata": {},
   "outputs": [
    {
     "output_type": "execute_result",
     "data": {
      "text/plain": [
       "true"
      ]
     },
     "metadata": {},
     "execution_count": 23
    }
   ],
   "source": [
    "Integer <: Number"
   ]
  },
  {
   "cell_type": "code",
   "execution_count": 24,
   "metadata": {},
   "outputs": [
    {
     "output_type": "execute_result",
     "data": {
      "text/plain": [
       "false"
      ]
     },
     "metadata": {},
     "execution_count": 24
    }
   ],
   "source": [
    "Integer <: AbstractFloat"
   ]
  },
  {
   "source": [
    "An important use of abstract types is to provide default implementations for concrete types. To give a simple example, consider:"
   ],
   "cell_type": "markdown",
   "metadata": {}
  },
  {
   "cell_type": "code",
   "execution_count": 25,
   "metadata": {},
   "outputs": [
    {
     "output_type": "execute_result",
     "data": {
      "text/plain": [
       "myplus (generic function with 2 methods)"
      ]
     },
     "metadata": {},
     "execution_count": 25
    }
   ],
   "source": [
    "function myplus(x,y)\n",
    "    x+y\n",
    "end"
   ]
  },
  {
   "source": [
    "The first thing to note is that the above argument declarations are equivalent to x::Any and y::Any. When this function is invoked, say as myplus(2,5), the dispatcher chooses the most specific method named myplus that matches the given arguments. (See Methods for more information on multiple dispatch.)\n",
    "\n",
    "Assuming no method more specific than the above is found, Julia next internally defines and compiles a method called myplus specifically for two Int arguments based on the generic function given above, i.e., it implicitly defines and compiles:"
   ],
   "cell_type": "markdown",
   "metadata": {}
  },
  {
   "cell_type": "code",
   "execution_count": 26,
   "metadata": {},
   "outputs": [
    {
     "output_type": "execute_result",
     "data": {
      "text/plain": [
       "(4.6, 7)"
      ]
     },
     "metadata": {},
     "execution_count": 26
    }
   ],
   "source": [
    "myplus(1.2, 3.4), myplus(2, 5)"
   ]
  },
  {
   "cell_type": "code",
   "execution_count": 27,
   "metadata": {},
   "outputs": [
    {
     "output_type": "execute_result",
     "data": {
      "text/plain": [
       "myplus (generic function with 2 methods)"
      ]
     },
     "metadata": {},
     "execution_count": 27
    }
   ],
   "source": [
    "function myplus(x::Int,y::Int)\n",
    "    x+y\n",
    "end"
   ]
  },
  {
   "source": [
    "and finally, it invokes this specific method.\n",
    "\n",
    "Thus, abstract types allow programmers to write generic functions that can later be used as the default method by many combinations of concrete types. Thanks to multiple dispatch, the programmer has full control over whether the default or more specific method is used.\n",
    "\n",
    "An important point to note is that there is no loss in performance if the programmer relies on a function whose arguments are abstract types, because it is recompiled for each tuple of argument concrete types with which it is invoked. (There may be a performance issue, however, in the case of function arguments that are containers of abstract types; see Performance Tips.)"
   ],
   "cell_type": "markdown",
   "metadata": {}
  },
  {
   "source": [
    "## Primitive Types"
   ],
   "cell_type": "markdown",
   "metadata": {}
  },
  {
   "source": [
    "A primitive type is a concrete type whose data consists of plain old bits. Classic examples of primitive types are integers and floating-point values. Unlike most languages, Julia lets you declare your own primitive types, rather than providing only a fixed set of built-in ones. In fact, the standard primitive types are all defined in the language itself:\n",
    "\n",
    "    primitive type Float16 <: AbstractFloat 16 end\n",
    "    primitive type Float32 <: AbstractFloat 32 end\n",
    "    primitive type Float64 <: AbstractFloat 64 end\n",
    "\n",
    "    primitive type Bool <: Integer 8 end\n",
    "    primitive type Char <: AbstractChar 32 end\n",
    "\n",
    "    primitive type Int8    <: Signed   8 end\n",
    "    primitive type UInt8   <: Unsigned 8 end\n",
    "    primitive type Int16   <: Signed   16 end\n",
    "    primitive type UInt16  <: Unsigned 16 end\n",
    "    primitive type Int32   <: Signed   32 end\n",
    "    primitive type UInt32  <: Unsigned 32 end\n",
    "    primitive type Int64   <: Signed   64 end\n",
    "    primitive type UInt64  <: Unsigned 64 end\n",
    "    primitive type Int128  <: Signed   128 end\n",
    "    primitive type UInt128 <: Unsigned 128 end\n",
    "\n"
   ],
   "cell_type": "markdown",
   "metadata": {}
  },
  {
   "cell_type": "code",
   "execution_count": 28,
   "metadata": {},
   "outputs": [
    {
     "output_type": "stream",
     "name": "stdout",
     "text": [
      "search: \u001b[0m\u001b[1mp\u001b[22m\u001b[0m\u001b[1mr\u001b[22m\u001b[0m\u001b[1mi\u001b[22m\u001b[0m\u001b[1mm\u001b[22m\u001b[0m\u001b[1mi\u001b[22m\u001b[0m\u001b[1mt\u001b[22m\u001b[0m\u001b[1mi\u001b[22m\u001b[0m\u001b[1mv\u001b[22m\u001b[0m\u001b[1me\u001b[22m \u001b[0m\u001b[1mt\u001b[22m\u001b[0m\u001b[1my\u001b[22m\u001b[0m\u001b[1mp\u001b[22m\u001b[0m\u001b[1me\u001b[22m is\u001b[0m\u001b[1mp\u001b[22m\u001b[0m\u001b[1mr\u001b[22m\u001b[0m\u001b[1mi\u001b[22m\u001b[0m\u001b[1mm\u001b[22m\u001b[0m\u001b[1mi\u001b[22m\u001b[0m\u001b[1mt\u001b[22m\u001b[0m\u001b[1mi\u001b[22m\u001b[0m\u001b[1mv\u001b[22m\u001b[0m\u001b[1me\u001b[22m\u001b[0m\u001b[1mt\u001b[22m\u001b[0m\u001b[1my\u001b[22m\u001b[0m\u001b[1mp\u001b[22m\u001b[0m\u001b[1me\u001b[22m\n\n"
     ]
    },
    {
     "output_type": "execute_result",
     "data": {
      "text/plain": [
       "\u001b[36m  primitive type\u001b[39m\n",
       "\n",
       "  \u001b[36mprimitive type\u001b[39m declares a concrete type whose data consists only of a series\n",
       "  of bits. Classic examples of primitive types are integers and floating-point\n",
       "  values. Some example built-in primitive type declarations:\n",
       "\n",
       "\u001b[36m  primitive type Char 32 end\u001b[39m\n",
       "\u001b[36m  primitive type Bool <: Integer 8 end\u001b[39m\n",
       "\n",
       "  The number after the name indicates how many bits of storage the type\n",
       "  requires. Currently, only sizes that are multiples of 8 bits are supported.\n",
       "  The \u001b[36mBool\u001b[39m declaration shows how a primitive type can be optionally declared\n",
       "  to be a subtype of some supertype."
      ],
      "text/markdown": "```\nprimitive type\n```\n\n`primitive type` declares a concrete type whose data consists only of a series of bits. Classic examples of primitive types are integers and floating-point values. Some example built-in primitive type declarations:\n\n```julia\nprimitive type Char 32 end\nprimitive type Bool <: Integer 8 end\n```\n\nThe number after the name indicates how many bits of storage the type requires. Currently, only sizes that are multiples of 8 bits are supported. The [`Bool`](@ref) declaration shows how a primitive type can be optionally declared to be a subtype of some supertype.\n",
      "text/latex": "\\begin{verbatim}\nprimitive type\n\\end{verbatim}\n\\texttt{primitive type} declares a concrete type whose data consists only of a series of bits. Classic examples of primitive types are integers and floating-point values. Some example built-in primitive type declarations:\n\n\\begin{verbatim}\nprimitive type Char 32 end\nprimitive type Bool <: Integer 8 end\n\\end{verbatim}\nThe number after the name indicates how many bits of storage the type requires. Currently, only sizes that are multiples of 8 bits are supported. The \\href{@ref}{\\texttt{Bool}} declaration shows how a primitive type can be optionally declared to be a subtype of some supertype.\n\n"
     },
     "metadata": {},
     "execution_count": 28
    }
   ],
   "source": [
    "?primitive type"
   ]
  },
  {
   "source": [
    "If a supertype is omitted, then the type defaults to having Any as its immediate supertype. The declaration of Bool above therefore means that a boolean value takes eight bits to store, and has Integer as its immediate supertype. Therefore, boolean values, although they really need just a single bit, cannot be declared to be any smaller than eight bits.\n",
    "\n",
    "The types Bool, Int8 and UInt8 all have identical representations: they are eight-bit chunks of memory. Since Julia's type system is nominative, however, they are not interchangeable despite having identical structure. A fundamental difference between them is that they have different supertypes: Bool's direct supertype is Integer, Int8's is Signed, and UInt8's is Unsigned. All other differences between Bool, Int8, and UInt8 are matters of behavior – the way functions are defined to act when given objects of these types as arguments. This is why a nominative type system is necessary: if structure determined type, which in turn dictates behavior, then it would be impossible to make Bool behave any differently than Int8 or UInt8."
   ],
   "cell_type": "markdown",
   "metadata": {}
  },
  {
   "source": [
    "## Composite Types"
   ],
   "cell_type": "markdown",
   "metadata": {}
  },
  {
   "source": [
    "Composite types are called records, structs, or objects in various languages. A composite type is a collection of named fields, an instance of which can be treated as a single value. In many languages, composite types are the only kind of user-definable type, and they are by far the most commonly used user-defined type in Julia as well.\n",
    "\n",
    "In mainstream object oriented languages, such as C++, Java, Python and Ruby, composite types also have named functions associated with them, and the combination is called an \"object\". In purer object-oriented languages, such as Ruby or Smalltalk, all values are objects whether they are composites or not. In less pure object oriented languages, including C++ and Java, some values, such as integers and floating-point values, are not objects, while instances of user-defined composite types are true objects with associated methods. In Julia, all values are objects, but functions are not bundled with the objects they operate on. This is necessary since Julia chooses which method of a function to use by multiple dispatch, meaning that the types of all of a function's arguments are considered when selecting a method, rather than just the first one (see Methods for more information on methods and dispatch). Thus, it would be inappropriate for functions to \"belong\" to only their first argument. Organizing methods into function objects rather than having named bags of methods \"inside\" each object ends up being a highly beneficial aspect of the language design.\n",
    "\n",
    "Composite types are introduced with the struct keyword followed by a block of field names, optionally annotated with types using the :: operator:"
   ],
   "cell_type": "markdown",
   "metadata": {}
  },
  {
   "cell_type": "code",
   "execution_count": 29,
   "metadata": {},
   "outputs": [],
   "source": [
    "struct Foo\n",
    "    bar\n",
    "    baz::Int\n",
    "    qux::Float64\n",
    "end"
   ]
  },
  {
   "source": [
    "Fields with no type annotation default to Any, and can accordingly hold any type of value.\n",
    "\n",
    "New objects of type Foo are created by applying the Foo type object like a function to values for its fields:"
   ],
   "cell_type": "markdown",
   "metadata": {}
  },
  {
   "cell_type": "code",
   "execution_count": 31,
   "metadata": {},
   "outputs": [
    {
     "output_type": "execute_result",
     "data": {
      "text/plain": [
       "Foo(\"Hello, world.\", 23, 1.5)"
      ]
     },
     "metadata": {},
     "execution_count": 31
    }
   ],
   "source": [
    "foo_ob = Foo(\"Hello, world.\", 23, 1.5)"
   ]
  },
  {
   "cell_type": "code",
   "execution_count": 32,
   "metadata": {},
   "outputs": [
    {
     "output_type": "execute_result",
     "data": {
      "text/plain": [
       "Foo"
      ]
     },
     "metadata": {},
     "execution_count": 32
    }
   ],
   "source": [
    "typeof(foo_ob)"
   ]
  },
  {
   "source": [
    "When a type is applied like a function it is called a constructor. Two constructors are generated automatically (these are called default constructors). One accepts any arguments and calls convert to convert them to the types of the fields, and the other accepts arguments that match the field types exactly. The reason both of these are generated is that this makes it easier to add new definitions without inadvertently replacing a default constructor.\n",
    "\n",
    "Since the bar field is unconstrained in type, any value will do. However, the value for baz must be convertible to Int:"
   ],
   "cell_type": "markdown",
   "metadata": {}
  },
  {
   "cell_type": "code",
   "execution_count": 33,
   "metadata": {},
   "outputs": [
    {
     "output_type": "error",
     "ename": "InexactError",
     "evalue": "InexactError: Int64(23.5)",
     "traceback": [
      "InexactError: Int64(23.5)",
      "",
      "Stacktrace:",
      " [1] Int64 at ./float.jl:710 [inlined]",
      " [2] convert at ./number.jl:7 [inlined]",
      " [3] Foo(::Tuple{}, ::Float64, ::Int64) at ./In[29]:2",
      " [4] top-level scope at In[33]:1"
     ]
    }
   ],
   "source": [
    "Foo((), 23.5, 1)"
   ]
  },
  {
   "source": [
    "You may find a list of field names using the fieldnames function."
   ],
   "cell_type": "markdown",
   "metadata": {}
  },
  {
   "cell_type": "code",
   "execution_count": 35,
   "metadata": {},
   "outputs": [
    {
     "output_type": "execute_result",
     "data": {
      "text/plain": [
       "(:bar, :baz, :qux)"
      ]
     },
     "metadata": {},
     "execution_count": 35
    }
   ],
   "source": [
    "fieldnames(Foo)"
   ]
  },
  {
   "cell_type": "code",
   "execution_count": 36,
   "metadata": {},
   "outputs": [
    {
     "output_type": "stream",
     "name": "stdout",
     "text": [
      "search: \u001b[0m\u001b[1mf\u001b[22m\u001b[0m\u001b[1mi\u001b[22m\u001b[0m\u001b[1me\u001b[22m\u001b[0m\u001b[1ml\u001b[22m\u001b[0m\u001b[1md\u001b[22m\u001b[0m\u001b[1mn\u001b[22m\u001b[0m\u001b[1ma\u001b[22m\u001b[0m\u001b[1mm\u001b[22m\u001b[0m\u001b[1me\u001b[22m\u001b[0m\u001b[1ms\u001b[22m \u001b[0m\u001b[1mf\u001b[22m\u001b[0m\u001b[1mi\u001b[22m\u001b[0m\u001b[1me\u001b[22m\u001b[0m\u001b[1ml\u001b[22m\u001b[0m\u001b[1md\u001b[22m\u001b[0m\u001b[1mn\u001b[22m\u001b[0m\u001b[1ma\u001b[22m\u001b[0m\u001b[1mm\u001b[22m\u001b[0m\u001b[1me\u001b[22m\n\n"
     ]
    },
    {
     "output_type": "execute_result",
     "data": {
      "text/plain": [
       "\u001b[36m  fieldnames(x::DataType)\u001b[39m\n",
       "\n",
       "  Get a tuple with the names of the fields of a \u001b[36mDataType\u001b[39m.\n",
       "\n",
       "\u001b[1m  Examples\u001b[22m\n",
       "\u001b[1m  ≡≡≡≡≡≡≡≡≡≡\u001b[22m\n",
       "\n",
       "\u001b[36m  julia> fieldnames(Rational)\u001b[39m\n",
       "\u001b[36m  (:num, :den)\u001b[39m"
      ],
      "text/markdown": "```\nfieldnames(x::DataType)\n```\n\nGet a tuple with the names of the fields of a `DataType`.\n\n# Examples\n\n```jldoctest\njulia> fieldnames(Rational)\n(:num, :den)\n```\n",
      "text/latex": "\\begin{verbatim}\nfieldnames(x::DataType)\n\\end{verbatim}\nGet a tuple with the names of the fields of a \\texttt{DataType}.\n\n\\section{Examples}\n\\begin{verbatim}\njulia> fieldnames(Rational)\n(:num, :den)\n\\end{verbatim}\n"
     },
     "metadata": {},
     "execution_count": 36
    }
   ],
   "source": [
    "?fieldnames"
   ]
  },
  {
   "source": [
    "You can access the field values of a composite object using the traditional foo.bar notation:"
   ],
   "cell_type": "markdown",
   "metadata": {}
  },
  {
   "cell_type": "code",
   "execution_count": 37,
   "metadata": {},
   "outputs": [
    {
     "output_type": "execute_result",
     "data": {
      "text/plain": [
       "(\"Hello, world.\", 23, 1.5)"
      ]
     },
     "metadata": {},
     "execution_count": 37
    }
   ],
   "source": [
    "foo_ob.bar, foo_ob.baz, foo_ob.qux"
   ]
  },
  {
   "source": [
    "Composite objects declared with struct are immutable; they cannot be modified after construction. This may seem odd at first, but it has several advantages:\n",
    "\n",
    "    - It can be more efficient. Some structs can be packed efficiently into arrays, and in some cases the compiler is able to avoid allocating immutable objects entirely.\n",
    "    - It is not possible to violate the invariants provided by the type's constructors.\n",
    "    - Code using immutable objects can be easier to reason about.\n",
    "\n",
    "An immutable object might contain mutable objects, such as arrays, as fields. Those contained objects will remain mutable; only the fields of the immutable object itself cannot be changed to point to different objects.\n",
    "\n",
    "Where required, mutable composite objects can be declared with the keyword mutable struct, to be discussed in the next section.\n",
    "\n",
    "Immutable composite types with no fields are singletons; there can be only one instance of such types:"
   ],
   "cell_type": "markdown",
   "metadata": {}
  },
  {
   "cell_type": "code",
   "execution_count": 38,
   "metadata": {},
   "outputs": [],
   "source": [
    "struct NoFields\n",
    "end"
   ]
  },
  {
   "cell_type": "code",
   "execution_count": 39,
   "metadata": {},
   "outputs": [
    {
     "output_type": "execute_result",
     "data": {
      "text/plain": [
       "true"
      ]
     },
     "metadata": {},
     "execution_count": 39
    }
   ],
   "source": [
    "NoFields() === NoFields()"
   ]
  },
  {
   "source": [
    "The === function confirms that the \"two\" constructed instances of NoFields are actually one and the same. Singleton types are described in further detail below.\n",
    "\n",
    "There is much more to say about how instances of composite types are created, but that discussion depends on both Parametric Types and on Methods, and is sufficiently important to be addressed in its own section: Constructors."
   ],
   "cell_type": "markdown",
   "metadata": {}
  },
  {
   "source": [
    "## Mutable Composite Types"
   ],
   "cell_type": "markdown",
   "metadata": {}
  },
  {
   "source": [
    "If a composite type is declared with mutable struct instead of struct, then instances of it can be modified:"
   ],
   "cell_type": "markdown",
   "metadata": {}
  },
  {
   "cell_type": "code",
   "execution_count": 40,
   "metadata": {},
   "outputs": [],
   "source": [
    "mutable struct Bar\n",
    "    baz\n",
    "    qux::Float64\n",
    "end"
   ]
  },
  {
   "cell_type": "code",
   "execution_count": 41,
   "metadata": {},
   "outputs": [],
   "source": [
    "bar_obj = Bar(\"Hello\", 1.5);"
   ]
  },
  {
   "cell_type": "code",
   "execution_count": 42,
   "metadata": {},
   "outputs": [
    {
     "output_type": "execute_result",
     "data": {
      "text/plain": [
       "2.0"
      ]
     },
     "metadata": {},
     "execution_count": 42
    }
   ],
   "source": [
    "bar_obj.qux = 2.0"
   ]
  },
  {
   "cell_type": "code",
   "execution_count": 43,
   "metadata": {},
   "outputs": [
    {
     "output_type": "execute_result",
     "data": {
      "text/plain": [
       "1//2"
      ]
     },
     "metadata": {},
     "execution_count": 43
    }
   ],
   "source": [
    "bar_obj.baz = 1//2"
   ]
  },
  {
   "source": [
    "In order to support mutation, such objects are generally allocated on the heap, and have stable memory addresses. A mutable object is like a little container that might hold different values over time, and so can only be reliably identified with its address. In contrast, an instance of an immutable type is associated with specific field values –- the field values alone tell you everything about the object. In deciding whether to make a type mutable, ask whether two instances with the same field values would be considered identical, or if they might need to change independently over time. If they would be considered identical, the type should probably be immutable.\n",
    "\n",
    "To recap, two essential properties define immutability in Julia:\n",
    "\n",
    "    - It is not permitted to modify the value of an immutable type.\n",
    "        - For bits types this means that the bit pattern of a value once set will never change and that value is the identity of a bits type.\n",
    "        - For composite types, this means that the identity of the values of its fields will never change. When the fields are bits types, that means their bits will never change, for fields whose values are mutable types like arrays, that means the fields will always refer to the same mutable value even though that mutable value's content may itself be modified.\n",
    "    - An object with an immutable type may be copied freely by the compiler since its immutability makes it impossible to programmatically distinguish between the original object and a copy.\n",
    "        - In particular, this means that small enough immutable values like integers and floats are typically passed to functions in registers (or stack allocated).\n",
    "        - Mutable values, on the other hand are heap-allocated and passed to functions as pointers to heap-allocated values except in cases where the compiler is sure that there's no way to tell that this is not what is happening.\n"
   ],
   "cell_type": "markdown",
   "metadata": {}
  },
  {
   "source": [
    "## Declared Types"
   ],
   "cell_type": "markdown",
   "metadata": {}
  },
  {
   "source": [
    "The three kinds of types (abstract, primitive, composite) discussed in the previous sections are actually all closely related. They share the same key properties:\n",
    "\n",
    "    - They are explicitly declared.\n",
    "    - They have names.\n",
    "    - They have explicitly declared supertypes.\n",
    "    - They may have parameters.\n",
    "\n",
    "Because of these shared properties, these types are internally represented as instances of the same concept, DataType, which is the type of any of these types:"
   ],
   "cell_type": "markdown",
   "metadata": {}
  },
  {
   "cell_type": "code",
   "execution_count": 44,
   "metadata": {},
   "outputs": [
    {
     "output_type": "execute_result",
     "data": {
      "text/plain": [
       "DataType"
      ]
     },
     "metadata": {},
     "execution_count": 44
    }
   ],
   "source": [
    "typeof(Real)"
   ]
  },
  {
   "cell_type": "code",
   "execution_count": 45,
   "metadata": {},
   "outputs": [
    {
     "output_type": "execute_result",
     "data": {
      "text/plain": [
       "DataType"
      ]
     },
     "metadata": {},
     "execution_count": 45
    }
   ],
   "source": [
    "typeof(Int)"
   ]
  },
  {
   "source": [
    "A DataType may be abstract or concrete. If it is concrete, it has a specified size, storage layout, and (optionally) field names. Thus a primitive type is a DataType with nonzero size, but no field names. A composite type is a DataType that has field names or is empty (zero size).\n",
    "\n",
    "Every concrete value in the system is an instance of some DataType."
   ],
   "cell_type": "markdown",
   "metadata": {}
  },
  {
   "source": [
    "##  Type Unions"
   ],
   "cell_type": "markdown",
   "metadata": {}
  },
  {
   "source": [
    "A type union is a special abstract type which includes as objects all instances of any of its argument types, constructed using the special Union keyword:"
   ],
   "cell_type": "markdown",
   "metadata": {}
  },
  {
   "cell_type": "code",
   "execution_count": 46,
   "metadata": {},
   "outputs": [
    {
     "output_type": "execute_result",
     "data": {
      "text/plain": [
       "Union{Int64, AbstractString}"
      ]
     },
     "metadata": {},
     "execution_count": 46
    }
   ],
   "source": [
    "IntOrString = Union{Int, AbstractString}"
   ]
  },
  {
   "cell_type": "code",
   "execution_count": 47,
   "metadata": {},
   "outputs": [
    {
     "output_type": "execute_result",
     "data": {
      "text/plain": [
       "1"
      ]
     },
     "metadata": {},
     "execution_count": 47
    }
   ],
   "source": [
    "1 :: IntOrString"
   ]
  },
  {
   "cell_type": "code",
   "execution_count": 48,
   "metadata": {},
   "outputs": [
    {
     "output_type": "execute_result",
     "data": {
      "text/plain": [
       "\"Hello!\""
      ]
     },
     "metadata": {},
     "execution_count": 48
    }
   ],
   "source": [
    "\"Hello!\" :: IntOrString"
   ]
  },
  {
   "cell_type": "code",
   "execution_count": 49,
   "metadata": {},
   "outputs": [
    {
     "output_type": "error",
     "ename": "TypeError",
     "evalue": "TypeError: in typeassert, expected Union{Int64, AbstractString}, got Float64",
     "traceback": [
      "TypeError: in typeassert, expected Union{Int64, AbstractString}, got Float64",
      "",
      "Stacktrace:",
      " [1] top-level scope at In[49]:1"
     ]
    }
   ],
   "source": [
    "1.0 :: IntOrString"
   ]
  },
  {
   "source": [
    "The compilers for many languages have an internal union construct for reasoning about types; Julia simply exposes it to the programmer. The Julia compiler is able to generate efficient code in the presence of Union types with a small number of types, by generating specialized code in separate branches for each possible type.\n",
    "\n",
    "A particularly useful case of a Union type is Union{T, Nothing}, where T can be any type and Nothing is the singleton type whose only instance is the object nothing. This pattern is the Julia equivalent of Nullable, Option or Maybe types in other languages. Declaring a function argument or a field as Union{T, Nothing} allows setting it either to a value of type T, or to nothing to indicate that there is no value. "
   ],
   "cell_type": "markdown",
   "metadata": {}
  },
  {
   "source": [
    "## Parametric Types"
   ],
   "cell_type": "markdown",
   "metadata": {}
  },
  {
   "source": [
    "An important and powerful feature of Julia's type system is that it is parametric: types can take parameters, so that type declarations actually introduce a whole family of new types – one for each possible combination of parameter values. There are many languages that support some version of generic programming, wherein data structures and algorithms to manipulate them may be specified without specifying the exact types involved. For example, some form of generic programming exists in ML, Haskell, Ada, Eiffel, C++, Java, C#, F#, and Scala, just to name a few. Some of these languages support true parametric polymorphism (e.g. ML, Haskell, Scala), while others support ad-hoc, template-based styles of generic programming (e.g. C++, Java). With so many different varieties of generic programming and parametric types in various languages, we won't even attempt to compare Julia's parametric types to other languages, but will instead focus on explaining Julia's system in its own right. We will note, however, that because Julia is a dynamically typed language and doesn't need to make all type decisions at compile time, many traditional difficulties encountered in static parametric type systems can be relatively easily handled.\n",
    "\n",
    "All declared types (the DataType variety) can be parameterized, with the same syntax in each case. We will discuss them in the following order: first, parametric composite types, then parametric abstract types, and finally parametric primitive types."
   ],
   "cell_type": "markdown",
   "metadata": {}
  },
  {
   "source": [
    "## Parametric Composite Types"
   ],
   "cell_type": "markdown",
   "metadata": {}
  },
  {
   "source": [
    "Type parameters are introduced immediately after the type name, surrounded by curly braces:"
   ],
   "cell_type": "markdown",
   "metadata": {}
  },
  {
   "cell_type": "code",
   "execution_count": 50,
   "metadata": {},
   "outputs": [],
   "source": [
    "struct Point{T}\n",
    "    x::T\n",
    "    y::T\n",
    "end"
   ]
  },
  {
   "source": [
    "This declaration defines a new parametric type, Point{T}, holding two \"coordinates\" of type T. What, one may ask, is T? Well, that's precisely the point of parametric types: it can be any type at all (or a value of any bits type, actually, although here it's clearly used as a type). Point{Float64} is a concrete type equivalent to the type defined by replacing T in the definition of Point with Float64. Thus, this single declaration actually declares an unlimited number of types: Point{Float64}, Point{AbstractString}, Point{Int64}, etc. Each of these is now a usable concrete type:"
   ],
   "cell_type": "markdown",
   "metadata": {}
  },
  {
   "cell_type": "code",
   "execution_count": 51,
   "metadata": {},
   "outputs": [
    {
     "output_type": "execute_result",
     "data": {
      "text/plain": [
       "Point{Float64}"
      ]
     },
     "metadata": {},
     "execution_count": 51
    }
   ],
   "source": [
    "Point{Float64}"
   ]
  },
  {
   "cell_type": "code",
   "execution_count": 52,
   "metadata": {},
   "outputs": [
    {
     "output_type": "execute_result",
     "data": {
      "text/plain": [
       "Point{AbstractString}"
      ]
     },
     "metadata": {},
     "execution_count": 52
    }
   ],
   "source": [
    "Point{AbstractString}"
   ]
  },
  {
   "source": [
    "The type Point{Float64} is a point whose coordinates are 64-bit floating-point values, while the type Point{AbstractString} is a \"point\" whose \"coordinates\" are string objects (see Strings).\n",
    "\n",
    "Point itself is also a valid type object, containing all instances Point{Float64}, Point{AbstractString}, etc. as subtypes:"
   ],
   "cell_type": "markdown",
   "metadata": {}
  },
  {
   "cell_type": "code",
   "execution_count": 53,
   "metadata": {},
   "outputs": [
    {
     "output_type": "execute_result",
     "data": {
      "text/plain": [
       "true"
      ]
     },
     "metadata": {},
     "execution_count": 53
    }
   ],
   "source": [
    "Point{Float64} <: Point"
   ]
  },
  {
   "cell_type": "code",
   "execution_count": 54,
   "metadata": {},
   "outputs": [
    {
     "output_type": "execute_result",
     "data": {
      "text/plain": [
       "true"
      ]
     },
     "metadata": {},
     "execution_count": 54
    }
   ],
   "source": [
    "Point{AbstractString} <: Point"
   ]
  },
  {
   "source": [
    "Other types, of course, are not subtypes of it:"
   ],
   "cell_type": "markdown",
   "metadata": {}
  },
  {
   "cell_type": "code",
   "execution_count": 55,
   "metadata": {},
   "outputs": [
    {
     "output_type": "execute_result",
     "data": {
      "text/plain": [
       "false"
      ]
     },
     "metadata": {},
     "execution_count": 55
    }
   ],
   "source": [
    "Float64 <: Point"
   ]
  },
  {
   "cell_type": "code",
   "execution_count": 56,
   "metadata": {},
   "outputs": [
    {
     "output_type": "execute_result",
     "data": {
      "text/plain": [
       "false"
      ]
     },
     "metadata": {},
     "execution_count": 56
    }
   ],
   "source": [
    "AbstractString <: Point"
   ]
  },
  {
   "source": [
    "Concrete Point types with different values of T are never subtypes of each other:"
   ],
   "cell_type": "markdown",
   "metadata": {}
  },
  {
   "cell_type": "code",
   "execution_count": 57,
   "metadata": {},
   "outputs": [
    {
     "output_type": "execute_result",
     "data": {
      "text/plain": [
       "false"
      ]
     },
     "metadata": {},
     "execution_count": 57
    }
   ],
   "source": [
    "Point{Float64} <: Point{Int64}"
   ]
  },
  {
   "cell_type": "code",
   "execution_count": 59,
   "metadata": {},
   "outputs": [
    {
     "output_type": "execute_result",
     "data": {
      "text/plain": [
       "false"
      ]
     },
     "metadata": {},
     "execution_count": 59
    }
   ],
   "source": [
    "Point{Float64} <: Point{Real} # This last point is very important: even though Float64 <: Real we DO NOT have Point{Float64} <: Point{Real}."
   ]
  },
  {
   "source": [
    "In other words, in the parlance of type theory, Julia's type parameters are invariant, rather than being covariant (or even contravariant). This is for practical reasons: while any instance of Point{Float64} may conceptually be like an instance of Point{Real} as well, the two types have different representations in memory:\n",
    "\n",
    "    - An instance of Point{Float64} can be represented compactly and efficiently as an immediate pair of 64-bit values;\n",
    "    - An instance of Point{Real} must be able to hold any pair of instances of Real. Since objects that are instances of Real can be of arbitrary size and structure, in practice an instance of Point{Real} must be represented as a pair of pointers to individually allocated Real objects.\n",
    "\n",
    "The efficiency gained by being able to store Point{Float64} objects with immediate values is magnified enormously in the case of arrays: an Array{Float64} can be stored as a contiguous memory block of 64-bit floating-point values, whereas an Array{Real} must be an array of pointers to individually allocated Real objects – which may well be boxed 64-bit floating-point values, but also might be arbitrarily large, complex objects, which are declared to be implementations of the Real abstract type.\n",
    "\n",
    "Since Point{Float64} is not a subtype of Point{Real}, the following method can't be applied to arguments of type Point{Float64}:\n",
    "\n",
    "    function norm(p::Point{Real})\n",
    "        sqrt(p.x^2 + p.y^2)\n",
    "    end\n",
    "\n",
    "A correct way to define a method that accepts all arguments of type Point{T} where T is a subtype of Real is:\n",
    "\n",
    "    function norm(p::Point{<:Real})\n",
    "        sqrt(p.x^2 + p.y^2)\n",
    "    end\n",
    "\n",
    "(Equivalently, one could define function norm(p::Point{T} where T<:Real) or function norm(p::Point{T}) where T<:Real; see UnionAll Types.)\n",
    "\n",
    "More examples will be discussed later in Methods.\n",
    "\n",
    "How does one construct a Point object? It is possible to define custom constructors for composite types, which will be discussed in detail in Constructors, but in the absence of any special constructor declarations, there are two default ways of creating new composite objects, one in which the type parameters are explicitly given and the other in which they are implied by the arguments to the object constructor.\n",
    "\n",
    "Since the type Point{Float64} is a concrete type equivalent to Point declared with Float64 in place of T, it can be applied as a constructor accordingly:"
   ],
   "cell_type": "markdown",
   "metadata": {}
  },
  {
   "cell_type": "code",
   "execution_count": 60,
   "metadata": {},
   "outputs": [
    {
     "output_type": "execute_result",
     "data": {
      "text/plain": [
       "Point{Float64}(1.0, 2.0)"
      ]
     },
     "metadata": {},
     "execution_count": 60
    }
   ],
   "source": [
    "Point{Float64}(1.0, 2.0)"
   ]
  },
  {
   "cell_type": "code",
   "execution_count": 61,
   "metadata": {},
   "outputs": [
    {
     "output_type": "execute_result",
     "data": {
      "text/plain": [
       "Point{Float64}"
      ]
     },
     "metadata": {},
     "execution_count": 61
    }
   ],
   "source": [
    "typeof(ans)"
   ]
  },
  {
   "source": [
    "For the default constructor, exactly one argument must be supplied for each field:"
   ],
   "cell_type": "markdown",
   "metadata": {}
  },
  {
   "cell_type": "code",
   "execution_count": 62,
   "metadata": {},
   "outputs": [
    {
     "output_type": "error",
     "ename": "MethodError",
     "evalue": "MethodError: no method matching Point{Float64}(::Float64)\nClosest candidates are:\n  Point{Float64}(::Any, !Matched::Any) where T at In[50]:2",
     "traceback": [
      "MethodError: no method matching Point{Float64}(::Float64)\nClosest candidates are:\n  Point{Float64}(::Any, !Matched::Any) where T at In[50]:2",
      "",
      "Stacktrace:",
      " [1] top-level scope at In[62]:1"
     ]
    }
   ],
   "source": [
    "Point{Float64}(1.0)"
   ]
  },
  {
   "cell_type": "code",
   "execution_count": 63,
   "metadata": {},
   "outputs": [
    {
     "output_type": "error",
     "ename": "MethodError",
     "evalue": "MethodError: no method matching Point{Float64}(::Float64, ::Float64, ::Float64)\nClosest candidates are:\n  Point{Float64}(::Any, ::Any) where T at In[50]:2",
     "traceback": [
      "MethodError: no method matching Point{Float64}(::Float64, ::Float64, ::Float64)\nClosest candidates are:\n  Point{Float64}(::Any, ::Any) where T at In[50]:2",
      "",
      "Stacktrace:",
      " [1] top-level scope at In[63]:1"
     ]
    }
   ],
   "source": [
    "Point{Float64}(1.0,2.0,3.0)"
   ]
  },
  {
   "source": [
    "Only one default constructor is generated for parametric types, since overriding it is not possible. This constructor accepts any arguments and converts them to the field types.\n",
    "\n",
    "In many cases, it is redundant to provide the type of Point object one wants to construct, since the types of arguments to the constructor call already implicitly provide type information. For that reason, you can also apply Point itself as a constructor, provided that the implied value of the parameter type T is unambiguous:"
   ],
   "cell_type": "markdown",
   "metadata": {}
  },
  {
   "cell_type": "code",
   "execution_count": 64,
   "metadata": {},
   "outputs": [
    {
     "output_type": "execute_result",
     "data": {
      "text/plain": [
       "Point{Float64}(1.0, 2.0)"
      ]
     },
     "metadata": {},
     "execution_count": 64
    }
   ],
   "source": [
    "Point(1.0,2.0)"
   ]
  },
  {
   "cell_type": "code",
   "execution_count": 65,
   "metadata": {},
   "outputs": [
    {
     "output_type": "execute_result",
     "data": {
      "text/plain": [
       "Point{Float64}"
      ]
     },
     "metadata": {},
     "execution_count": 65
    }
   ],
   "source": [
    "typeof(ans)"
   ]
  },
  {
   "cell_type": "code",
   "execution_count": 66,
   "metadata": {},
   "outputs": [
    {
     "output_type": "execute_result",
     "data": {
      "text/plain": [
       "Point{Int64}(1, 2)"
      ]
     },
     "metadata": {},
     "execution_count": 66
    }
   ],
   "source": [
    "Point(1,2)"
   ]
  },
  {
   "cell_type": "code",
   "execution_count": 67,
   "metadata": {},
   "outputs": [
    {
     "output_type": "execute_result",
     "data": {
      "text/plain": [
       "Point{Int64}"
      ]
     },
     "metadata": {},
     "execution_count": 67
    }
   ],
   "source": [
    "typeof(ans)"
   ]
  },
  {
   "source": [
    "In the case of Point, the type of T is unambiguously implied if and only if the two arguments to Point have the same type. When this isn't the case, the constructor will fail with a MethodError:"
   ],
   "cell_type": "markdown",
   "metadata": {}
  },
  {
   "cell_type": "code",
   "execution_count": 68,
   "metadata": {},
   "outputs": [
    {
     "output_type": "error",
     "ename": "MethodError",
     "evalue": "MethodError: no method matching Point(::Int64, ::Float64)\nClosest candidates are:\n  Point(::T, !Matched::T) where T at In[50]:2",
     "traceback": [
      "MethodError: no method matching Point(::Int64, ::Float64)\nClosest candidates are:\n  Point(::T, !Matched::T) where T at In[50]:2",
      "",
      "Stacktrace:",
      " [1] top-level scope at In[68]:1"
     ]
    }
   ],
   "source": [
    "Point(1,2.5)"
   ]
  },
  {
   "source": [
    "Constructor methods to appropriately handle such mixed cases can be defined, but that will not be discussed until later on in Constructors."
   ],
   "cell_type": "markdown",
   "metadata": {}
  },
  {
   "source": [
    "## Parametric Abstract Type"
   ],
   "cell_type": "markdown",
   "metadata": {}
  },
  {
   "source": [
    "Parametric abstract type declarations declare a collection of abstract types, in much the same way:"
   ],
   "cell_type": "markdown",
   "metadata": {}
  },
  {
   "cell_type": "code",
   "execution_count": 69,
   "metadata": {},
   "outputs": [],
   "source": [
    "abstract type Pointy{T} end"
   ]
  },
  {
   "source": [
    "With this declaration, Pointy{T} is a distinct abstract type for each type or integer value of T. As with parametric composite types, each such instance is a subtype of Pointy:"
   ],
   "cell_type": "markdown",
   "metadata": {}
  },
  {
   "cell_type": "code",
   "execution_count": 70,
   "metadata": {},
   "outputs": [
    {
     "output_type": "execute_result",
     "data": {
      "text/plain": [
       "true"
      ]
     },
     "metadata": {},
     "execution_count": 70
    }
   ],
   "source": [
    "Pointy{Int64} <: Pointy"
   ]
  },
  {
   "cell_type": "code",
   "execution_count": 71,
   "metadata": {},
   "outputs": [
    {
     "output_type": "execute_result",
     "data": {
      "text/plain": [
       "true"
      ]
     },
     "metadata": {},
     "execution_count": 71
    }
   ],
   "source": [
    "Pointy{1} <: Pointy"
   ]
  },
  {
   "source": [
    "Parametric abstract types are invariant, much as parametric composite types are:"
   ],
   "cell_type": "markdown",
   "metadata": {}
  },
  {
   "cell_type": "code",
   "execution_count": 72,
   "metadata": {},
   "outputs": [
    {
     "output_type": "execute_result",
     "data": {
      "text/plain": [
       "false"
      ]
     },
     "metadata": {},
     "execution_count": 72
    }
   ],
   "source": [
    "Pointy{Float64} <: Pointy{Real}"
   ]
  },
  {
   "cell_type": "code",
   "execution_count": 73,
   "metadata": {},
   "outputs": [
    {
     "output_type": "execute_result",
     "data": {
      "text/plain": [
       "false"
      ]
     },
     "metadata": {},
     "execution_count": 73
    }
   ],
   "source": [
    "Pointy{Real} <: Pointy{Float64}"
   ]
  },
  {
   "source": [
    "The notation Pointy{<:Real} can be used to express the Julia analogue of a covariant type, while Pointy{>:Int} the analogue of a contravariant type, but technically these represent sets of types (see UnionAll Types)."
   ],
   "cell_type": "markdown",
   "metadata": {}
  },
  {
   "cell_type": "code",
   "execution_count": 74,
   "metadata": {},
   "outputs": [
    {
     "output_type": "execute_result",
     "data": {
      "text/plain": [
       "true"
      ]
     },
     "metadata": {},
     "execution_count": 74
    }
   ],
   "source": [
    "Pointy{Float64} <: Pointy{<:Real}"
   ]
  },
  {
   "cell_type": "code",
   "execution_count": 75,
   "metadata": {},
   "outputs": [
    {
     "output_type": "execute_result",
     "data": {
      "text/plain": [
       "true"
      ]
     },
     "metadata": {},
     "execution_count": 75
    }
   ],
   "source": [
    "Pointy{Real} <: Pointy{>:Int}"
   ]
  },
  {
   "source": [
    "Much as plain old abstract types serve to create a useful hierarchy of types over concrete types, parametric abstract types serve the same purpose with respect to parametric composite types. We could, for example, have declared Point{T} to be a subtype of Pointy{T} as follows:"
   ],
   "cell_type": "markdown",
   "metadata": {}
  },
  {
   "cell_type": "code",
   "execution_count": 77,
   "metadata": {},
   "outputs": [],
   "source": [
    "struct Point1{T} <: Pointy{T}\n",
    "    x::T\n",
    "    y::T\n",
    "end"
   ]
  },
  {
   "source": [
    "Given such a declaration, for each choice of T, we have Point{T} as a subtype of Pointy{T}:"
   ],
   "cell_type": "markdown",
   "metadata": {}
  },
  {
   "cell_type": "code",
   "execution_count": 78,
   "metadata": {},
   "outputs": [
    {
     "output_type": "execute_result",
     "data": {
      "text/plain": [
       "true"
      ]
     },
     "metadata": {},
     "execution_count": 78
    }
   ],
   "source": [
    "Point1{Float64} <: Pointy{Float64}"
   ]
  },
  {
   "cell_type": "code",
   "execution_count": 80,
   "metadata": {},
   "outputs": [
    {
     "output_type": "execute_result",
     "data": {
      "text/plain": [
       "true"
      ]
     },
     "metadata": {},
     "execution_count": 80
    }
   ],
   "source": [
    "Point1{Real} <: Pointy{Real}"
   ]
  },
  {
   "cell_type": "code",
   "execution_count": 81,
   "metadata": {},
   "outputs": [
    {
     "output_type": "execute_result",
     "data": {
      "text/plain": [
       "true"
      ]
     },
     "metadata": {},
     "execution_count": 81
    }
   ],
   "source": [
    "Point1{AbstractString} <: Pointy{AbstractString}"
   ]
  },
  {
   "source": [
    "This relationship is also invariant:"
   ],
   "cell_type": "markdown",
   "metadata": {}
  },
  {
   "cell_type": "code",
   "execution_count": 82,
   "metadata": {},
   "outputs": [
    {
     "output_type": "execute_result",
     "data": {
      "text/plain": [
       "false"
      ]
     },
     "metadata": {},
     "execution_count": 82
    }
   ],
   "source": [
    "Point1{Float64} <: Pointy{Real}"
   ]
  },
  {
   "cell_type": "code",
   "execution_count": 83,
   "metadata": {},
   "outputs": [
    {
     "output_type": "execute_result",
     "data": {
      "text/plain": [
       "true"
      ]
     },
     "metadata": {},
     "execution_count": 83
    }
   ],
   "source": [
    "Point1{Float64} <: Pointy{<:Real}"
   ]
  },
  {
   "source": [
    "What purpose do parametric abstract types like Pointy serve? Consider if we create a point-like implementation that only requires a single coordinate because the point is on the diagonal line x = y:"
   ],
   "cell_type": "markdown",
   "metadata": {}
  },
  {
   "cell_type": "code",
   "execution_count": 84,
   "metadata": {},
   "outputs": [],
   "source": [
    "struct DiagPoint{T} <: Pointy{T}\n",
    "    x::T\n",
    "end"
   ]
  },
  {
   "source": [
    "Now both Point{Float64} and DiagPoint{Float64} are implementations of the Pointy{Float64} abstraction, and similarly for every other possible choice of type T. This allows programming to a common interface shared by all Pointy objects, implemented for both Point and DiagPoint. This cannot be fully demonstrated, however, until we have introduced methods and dispatch in the next section, Methods.\n",
    "\n",
    "There are situations where it may not make sense for type parameters to range freely over all possible types. In such situations, one can constrain the range of T like so:"
   ],
   "cell_type": "markdown",
   "metadata": {}
  },
  {
   "cell_type": "code",
   "execution_count": 86,
   "metadata": {},
   "outputs": [],
   "source": [
    "abstract type Pointy1{T<:Real} end"
   ]
  },
  {
   "source": [
    "With such a declaration, it is acceptable to use any type that is a subtype of Real in place of T, but not types that are not subtypes of Real:"
   ],
   "cell_type": "markdown",
   "metadata": {}
  },
  {
   "cell_type": "code",
   "execution_count": 87,
   "metadata": {},
   "outputs": [
    {
     "output_type": "execute_result",
     "data": {
      "text/plain": [
       "Pointy1{Float64}"
      ]
     },
     "metadata": {},
     "execution_count": 87
    }
   ],
   "source": [
    "Pointy1{Float64}"
   ]
  },
  {
   "cell_type": "code",
   "execution_count": 88,
   "metadata": {},
   "outputs": [
    {
     "output_type": "execute_result",
     "data": {
      "text/plain": [
       "Pointy1{Real}"
      ]
     },
     "metadata": {},
     "execution_count": 88
    }
   ],
   "source": [
    "Pointy1{Real}"
   ]
  },
  {
   "cell_type": "code",
   "execution_count": 89,
   "metadata": {},
   "outputs": [
    {
     "output_type": "error",
     "ename": "TypeError",
     "evalue": "TypeError: in Pointy1, in T, expected T<:Real, got Type{AbstractString}",
     "traceback": [
      "TypeError: in Pointy1, in T, expected T<:Real, got Type{AbstractString}",
      "",
      "Stacktrace:",
      " [1] top-level scope at In[89]:1"
     ]
    }
   ],
   "source": [
    "Pointy1{AbstractString}"
   ]
  },
  {
   "cell_type": "code",
   "execution_count": 90,
   "metadata": {},
   "outputs": [
    {
     "output_type": "error",
     "ename": "TypeError",
     "evalue": "TypeError: in Pointy1, in T, expected T<:Real, got Int64",
     "traceback": [
      "TypeError: in Pointy1, in T, expected T<:Real, got Int64",
      "",
      "Stacktrace:",
      " [1] top-level scope at In[90]:1"
     ]
    }
   ],
   "source": [
    "Pointy1{1}"
   ]
  },
  {
   "source": [
    "Type parameters for parametric composite types can be restricted in the same manner:Type parameters for parametric composite types can be restricted in the same manner:\n",
    "\n",
    "    struct Point{T<:Real} <: Pointy{T}\n",
    "        x::T\n",
    "        y::T\n",
    "    end\n",
    "\n",
    "To give a real-world example of how all this parametric type machinery can be useful, here is the actual definition of Julia's Rational immutable type (except that we omit the constructor here for simplicity), representing an exact ratio of integers:\n",
    "\n",
    "    struct Rational{T<:Integer} <: Real\n",
    "        num::T\n",
    "        den::T\n",
    "    end\n",
    "\n",
    "It only makes sense to take ratios of integer values, so the parameter type T is restricted to being a subtype of Integer, and a ratio of integers represents a value on the real number line, so any Rational is an instance of the Real abstraction."
   ],
   "cell_type": "markdown",
   "metadata": {}
  },
  {
   "source": [
    "## Tuple Types"
   ],
   "cell_type": "markdown",
   "metadata": {}
  },
  {
   "source": [
    "Tuples are an abstraction of the arguments of a function – without the function itself. The salient aspects of a function's arguments are their order and their types. Therefore a tuple type is similar to a parameterized immutable type where each parameter is the type of one field. For example, a 2-element tuple type resembles the following immutable type:\n",
    "\n",
    "    struct Tuple2{A,B}\n",
    "        a::A\n",
    "        b::B\n",
    "    end\n",
    "\n",
    "However, there are three key differences:\n",
    "\n",
    "    - Tuple types may have any number of parameters.\n",
    "    - Tuple types are covariant in their parameters: Tuple{Int} is a subtype of Tuple{Any}. Therefore Tuple{Any} is considered an abstract type, and tuple types are only concrete if their parameters are.\n",
    "    - Tuples do not have field names; fields are only accessed by index.\n",
    "    - Tuple values are written with parentheses and commas. When a tuple is constructed, an appropriate tuple type is generated on demand:"
   ],
   "cell_type": "markdown",
   "metadata": {}
  },
  {
   "cell_type": "code",
   "execution_count": 91,
   "metadata": {},
   "outputs": [
    {
     "output_type": "execute_result",
     "data": {
      "text/plain": [
       "Tuple{Int64,String,Float64}"
      ]
     },
     "metadata": {},
     "execution_count": 91
    }
   ],
   "source": [
    "typeof((1,\"foo\",2.5))"
   ]
  },
  {
   "source": [
    "Note the implications of covariance:"
   ],
   "cell_type": "markdown",
   "metadata": {}
  },
  {
   "cell_type": "code",
   "execution_count": 92,
   "metadata": {},
   "outputs": [
    {
     "output_type": "execute_result",
     "data": {
      "text/plain": [
       "true"
      ]
     },
     "metadata": {},
     "execution_count": 92
    }
   ],
   "source": [
    "Tuple{Int,AbstractString} <: Tuple{Real,Any}"
   ]
  },
  {
   "cell_type": "code",
   "execution_count": 93,
   "metadata": {},
   "outputs": [
    {
     "output_type": "execute_result",
     "data": {
      "text/plain": [
       "false"
      ]
     },
     "metadata": {},
     "execution_count": 93
    }
   ],
   "source": [
    "Tuple{Int,AbstractString} <: Tuple{Real,Real}"
   ]
  },
  {
   "cell_type": "code",
   "execution_count": 94,
   "metadata": {},
   "outputs": [
    {
     "output_type": "execute_result",
     "data": {
      "text/plain": [
       "false"
      ]
     },
     "metadata": {},
     "execution_count": 94
    }
   ],
   "source": [
    "Tuple{Int,AbstractString} <: Tuple{Real,}"
   ]
  },
  {
   "source": [
    "Intuitively, this corresponds to the type of a function's arguments being a subtype of the function's signature (when the signature matches)."
   ],
   "cell_type": "markdown",
   "metadata": {}
  },
  {
   "source": [
    "## Vararg Tuple Types"
   ],
   "cell_type": "markdown",
   "metadata": {}
  },
  {
   "source": [
    "The last parameter of a tuple type can be the special type Vararg, which denotes any number of trailing elements:"
   ],
   "cell_type": "markdown",
   "metadata": {}
  },
  {
   "cell_type": "code",
   "execution_count": 95,
   "metadata": {},
   "outputs": [
    {
     "output_type": "execute_result",
     "data": {
      "text/plain": [
       "Tuple{AbstractString,Vararg{Int64,N} where N}"
      ]
     },
     "metadata": {},
     "execution_count": 95
    }
   ],
   "source": [
    "mytupletype = Tuple{AbstractString,Vararg{Int}}"
   ]
  },
  {
   "cell_type": "code",
   "execution_count": 96,
   "metadata": {},
   "outputs": [
    {
     "output_type": "execute_result",
     "data": {
      "text/plain": [
       "true"
      ]
     },
     "metadata": {},
     "execution_count": 96
    }
   ],
   "source": [
    "isa((\"1\",), mytupletype)"
   ]
  },
  {
   "cell_type": "code",
   "execution_count": 97,
   "metadata": {},
   "outputs": [
    {
     "output_type": "execute_result",
     "data": {
      "text/plain": [
       "true"
      ]
     },
     "metadata": {},
     "execution_count": 97
    }
   ],
   "source": [
    "isa((\"1\",1), mytupletype)"
   ]
  },
  {
   "cell_type": "code",
   "execution_count": 98,
   "metadata": {},
   "outputs": [
    {
     "output_type": "execute_result",
     "data": {
      "text/plain": [
       "true"
      ]
     },
     "metadata": {},
     "execution_count": 98
    }
   ],
   "source": [
    "isa((\"1\",1,2), mytupletype)"
   ]
  },
  {
   "cell_type": "code",
   "execution_count": 99,
   "metadata": {},
   "outputs": [
    {
     "output_type": "execute_result",
     "data": {
      "text/plain": [
       "false"
      ]
     },
     "metadata": {},
     "execution_count": 99
    }
   ],
   "source": [
    "isa((\"1\",1,2,3.0), mytupletype)"
   ]
  },
  {
   "source": [
    "Notice that Vararg{T} corresponds to zero or more elements of type T. Vararg tuple types are used to represent the arguments accepted by varargs methods (see Varargs Functions).\n",
    "\n",
    "The type Vararg{T,N} corresponds to exactly N elements of type T. NTuple{N,T} is a convenient alias for Tuple{Vararg{T,N}}, i.e. a tuple type containing exactly N elements of type T."
   ],
   "cell_type": "markdown",
   "metadata": {}
  },
  {
   "source": [
    "## Named Tuple Types"
   ],
   "cell_type": "markdown",
   "metadata": {}
  },
  {
   "source": [
    "### TODO"
   ],
   "cell_type": "markdown",
   "metadata": {}
  },
  {
   "source": [
    "## Singleton Types"
   ],
   "cell_type": "markdown",
   "metadata": {}
  },
  {
   "source": [
    "There is a special kind of abstract parametric type that must be mentioned here: singleton types. For each type, T, the \"singleton type\" Type{T} is an abstract type whose only instance is the object T. Since the definition is a little difficult to parse, let's look at some examples:"
   ],
   "cell_type": "markdown",
   "metadata": {}
  },
  {
   "cell_type": "code",
   "execution_count": 5,
   "metadata": {},
   "outputs": [
    {
     "output_type": "execute_result",
     "data": {
      "text/plain": [
       "true"
      ]
     },
     "metadata": {},
     "execution_count": 5
    }
   ],
   "source": [
    "isa(Float64, Type{Float64})"
   ]
  },
  {
   "cell_type": "code",
   "execution_count": 6,
   "metadata": {},
   "outputs": [
    {
     "output_type": "execute_result",
     "data": {
      "text/plain": [
       "false"
      ]
     },
     "metadata": {},
     "execution_count": 6
    }
   ],
   "source": [
    "isa(Real, Type{Float64})"
   ]
  },
  {
   "cell_type": "code",
   "execution_count": 7,
   "metadata": {},
   "outputs": [
    {
     "output_type": "execute_result",
     "data": {
      "text/plain": [
       "true"
      ]
     },
     "metadata": {},
     "execution_count": 7
    }
   ],
   "source": [
    "isa(Real, Type{Real})"
   ]
  },
  {
   "cell_type": "code",
   "execution_count": 8,
   "metadata": {},
   "outputs": [
    {
     "output_type": "execute_result",
     "data": {
      "text/plain": [
       "false"
      ]
     },
     "metadata": {},
     "execution_count": 8
    }
   ],
   "source": [
    "isa(Float64, Type{Real})"
   ]
  },
  {
   "source": [
    "In other words, isa(A,Type{B}) is true if and only if A and B are the same object and that object is a type. Without the parameter, Type is simply an abstract type which has all type objects as its instances, including, of course, singleton types:"
   ],
   "cell_type": "markdown",
   "metadata": {}
  },
  {
   "cell_type": "code",
   "execution_count": 9,
   "metadata": {},
   "outputs": [
    {
     "output_type": "execute_result",
     "data": {
      "text/plain": [
       "true"
      ]
     },
     "metadata": {},
     "execution_count": 9
    }
   ],
   "source": [
    "isa(Type{Float64}, Type)"
   ]
  },
  {
   "cell_type": "code",
   "execution_count": 10,
   "metadata": {},
   "outputs": [
    {
     "output_type": "execute_result",
     "data": {
      "text/plain": [
       "true"
      ]
     },
     "metadata": {},
     "execution_count": 10
    }
   ],
   "source": [
    "isa(Float64, Type)"
   ]
  },
  {
   "cell_type": "code",
   "execution_count": 11,
   "metadata": {},
   "outputs": [
    {
     "output_type": "execute_result",
     "data": {
      "text/plain": [
       "true"
      ]
     },
     "metadata": {},
     "execution_count": 11
    }
   ],
   "source": [
    "isa(Real, Type)"
   ]
  },
  {
   "source": [
    "Any object that is not a type is not an instance of Type:"
   ],
   "cell_type": "markdown",
   "metadata": {}
  },
  {
   "cell_type": "code",
   "execution_count": 13,
   "metadata": {},
   "outputs": [
    {
     "output_type": "execute_result",
     "data": {
      "text/plain": [
       "false"
      ]
     },
     "metadata": {},
     "execution_count": 13
    }
   ],
   "source": [
    "isa(1, Type)"
   ]
  },
  {
   "cell_type": "code",
   "execution_count": 14,
   "metadata": {},
   "outputs": [
    {
     "output_type": "execute_result",
     "data": {
      "text/plain": [
       "false"
      ]
     },
     "metadata": {},
     "execution_count": 14
    }
   ],
   "source": [
    "isa(\"foo\", Type)"
   ]
  },
  {
   "source": [
    "Until we discuss Parametric Methods and conversions, it is difficult to explain the utility of the singleton type construct, but in short, it allows one to specialize function behavior on specific type values. This is useful for writing methods (especially parametric ones) whose behavior depends on a type that is given as an explicit argument rather than implied by the type of one of its arguments.\n",
    "\n",
    "A few popular languages have singleton types, including Haskell, Scala and Ruby. In general usage, the term \"singleton type\" refers to a type whose only instance is a single value. This meaning applies to Julia's singleton types, but with that caveat that only type objects have singleton types."
   ],
   "cell_type": "markdown",
   "metadata": {}
  },
  {
   "source": [
    "## Parametric Primitive Types"
   ],
   "cell_type": "markdown",
   "metadata": {}
  },
  {
   "source": [
    "Primitive types can also be declared parametrically. For example, pointers are represented as primitive types which would be declared in Julia like this:\n",
    "\n",
    "    # 32-bit system:\n",
    "    primitive type Ptr{T} 32 end\n",
    "\n",
    "    # 64-bit system:\n",
    "    primitive type Ptr{T} 64 end\n",
    "\n",
    "The slightly odd feature of these declarations as compared to typical parametric composite types, is that the type parameter T is not used in the definition of the type itself – it is just an abstract tag, essentially defining an entire family of types with identical structure, differentiated only by their type parameter. Thus, Ptr{Float64} and Ptr{Int64} are distinct types, even though they have identical representations. And of course, all specific pointer types are subtypes of the umbrella Ptr type:"
   ],
   "cell_type": "markdown",
   "metadata": {}
  },
  {
   "cell_type": "code",
   "execution_count": 15,
   "metadata": {},
   "outputs": [
    {
     "output_type": "execute_result",
     "data": {
      "text/plain": [
       "true"
      ]
     },
     "metadata": {},
     "execution_count": 15
    }
   ],
   "source": [
    "Ptr{Float64} <: Ptr"
   ]
  },
  {
   "cell_type": "code",
   "execution_count": 16,
   "metadata": {},
   "outputs": [
    {
     "output_type": "execute_result",
     "data": {
      "text/plain": [
       "true"
      ]
     },
     "metadata": {},
     "execution_count": 16
    }
   ],
   "source": [
    "Ptr{Int64} <: Ptr"
   ]
  },
  {
   "source": [
    "## UnionAll Types"
   ],
   "cell_type": "markdown",
   "metadata": {}
  },
  {
   "source": [
    "We have said that a parametric type like Ptr acts as a supertype of all its instances (Ptr{Int64} etc.). How does this work? Ptr itself cannot be a normal data type, since without knowing the type of the referenced data the type clearly cannot be used for memory operations. The answer is that Ptr (or other parametric types like Array) is a different kind of type called a UnionAll type. Such a type expresses the iterated union of types for all values of some parameter.\n",
    "\n",
    "UnionAll types are usually written using the keyword where. For example Ptr could be more accurately written as Ptr{T} where T, meaning all values whose type is Ptr{T} for some value of T. In this context, the parameter T is also often called a \"type variable\" since it is like a variable that ranges over types. Each where introduces a single type variable, so these expressions are nested for types with multiple parameters, for example Array{T,N} where N where T.\n",
    "\n",
    "The type application syntax A{B,C} requires A to be a UnionAll type, and first substitutes B for the outermost type variable in A. The result is expected to be another UnionAll type, into which C is then substituted. So A{B,C} is equivalent to A{B}{C}. This explains why it is possible to partially instantiate a type, as in Array{Float64}: the first parameter value has been fixed, but the second still ranges over all possible values. Using explicit where syntax, any subset of parameters can be fixed. For example, the type of all 1-dimensional arrays can be written as Array{T,1} where T.\n",
    "\n",
    "Type variables can be restricted with subtype relations. Array{T} where T<:Integer refers to all arrays whose element type is some kind of Integer. The syntax Array{<:Integer} is a convenient shorthand for Array{T} where T<:Integer. Type variables can have both lower and upper bounds. Array{T} where Int<:T<:Number refers to all arrays of Numbers that are able to contain Ints (since T must be at least as big as Int). The syntax where T>:Int also works to specify only the lower bound of a type variable, and Array{>:Int} is equivalent to Array{T} where T>:Int.\n",
    "\n",
    "Since where expressions nest, type variable bounds can refer to outer type variables. For example Tuple{T,Array{S}} where S<:AbstractArray{T} where T<:Real refers to 2-tuples whose first element is some Real, and whose second element is an Array of any kind of array whose element type contains the type of the first tuple element.\n",
    "\n",
    "The where keyword itself can be nested inside a more complex declaration. For example, consider the two types created by the following declarations:"
   ],
   "cell_type": "markdown",
   "metadata": {}
  },
  {
   "cell_type": "code",
   "execution_count": 17,
   "metadata": {},
   "outputs": [
    {
     "output_type": "execute_result",
     "data": {
      "text/plain": [
       "Array{Array{T,1} where T,1}"
      ]
     },
     "metadata": {},
     "execution_count": 17
    }
   ],
   "source": [
    "const T1 = Array{Array{T,1} where T, 1}"
   ]
  },
  {
   "cell_type": "code",
   "execution_count": 18,
   "metadata": {},
   "outputs": [
    {
     "output_type": "execute_result",
     "data": {
      "text/plain": [
       "Array{Array{T,1},1} where T"
      ]
     },
     "metadata": {},
     "execution_count": 18
    }
   ],
   "source": [
    "const T2 = Array{Array{T,1}, 1} where T"
   ]
  },
  {
   "source": [
    "Type T1 defines a 1-dimensional array of 1-dimensional arrays; each of the inner arrays consists of objects of the same type, but this type may vary from one inner array to the next. On the other hand, type T2 defines a 1-dimensional array of 1-dimensional arrays all of whose inner arrays must have the same type. Note that T2 is an abstract type, e.g., Array{Array{Int,1},1} <: T2, whereas T1 is a concrete type. As a consequence, T1 can be constructed with a zero-argument constructor a=T1() but T2 cannot.\n",
    "\n",
    "There is a convenient syntax for naming such types, similar to the short form of function definition syntax:\n",
    "\n",
    "    Vector{T} = Array{T,1}\n",
    "\n",
    "This is equivalent to const Vector = Array{T,1} where T. Writing Vector{Float64} is equivalent to writing Array{Float64,1}, and the umbrella type Vector has as instances all Array objects where the second parameter – the number of array dimensions – is 1, regardless of what the element type is. In languages where parametric types must always be specified in full, this is not especially helpful, but in Julia, this allows one to write just Vector for the abstract type including all one-dimensional dense arrays of any element type."
   ],
   "cell_type": "markdown",
   "metadata": {}
  },
  {
   "source": [
    "## Type Aliases"
   ],
   "cell_type": "markdown",
   "metadata": {}
  },
  {
   "source": [
    "Sometimes it is convenient to introduce a new name for an already expressible type. This can be done with a simple assignment statement. For example, UInt is aliased to either UInt32 or UInt64 as is appropriate for the size of pointers on the system:"
   ],
   "cell_type": "markdown",
   "metadata": {}
  },
  {
   "cell_type": "code",
   "execution_count": 19,
   "metadata": {},
   "outputs": [
    {
     "output_type": "execute_result",
     "data": {
      "text/plain": [
       "UInt64"
      ]
     },
     "metadata": {},
     "execution_count": 19
    }
   ],
   "source": [
    "UInt"
   ]
  },
  {
   "source": [
    "This is accomplished via the following code in base/boot.jl:\n",
    "\n",
    "    if Int === Int64\n",
    "        const UInt = UInt64\n",
    "    else\n",
    "        const UInt = UInt32\n",
    "    end\n",
    "\n",
    "Of course, this depends on what Int is aliased to – but that is predefined to be the correct type – either Int32 or Int64.\n",
    "\n",
    "(Note that unlike Int, Float does not exist as a type alias for a specific sized AbstractFloat. Unlike with integer registers, where the size of Int reflects the size of a native pointer on that machine, the floating point register sizes are specified by the IEEE-754 standard.)"
   ],
   "cell_type": "markdown",
   "metadata": {}
  },
  {
   "source": [
    "## Operations on Types"
   ],
   "cell_type": "markdown",
   "metadata": {}
  },
  {
   "source": [
    "Since types in Julia are themselves objects, ordinary functions can operate on them. Some functions that are particularly useful for working with or exploring types have already been introduced, such as the <: operator, which indicates whether its left hand operand is a subtype of its right hand operand.\n",
    "\n",
    "The isa function tests if an object is of a given type and returns true or false:"
   ],
   "cell_type": "markdown",
   "metadata": {}
  },
  {
   "cell_type": "code",
   "execution_count": 20,
   "metadata": {},
   "outputs": [
    {
     "output_type": "stream",
     "name": "stdout",
     "text": [
      "search: \u001b[0m\u001b[1mi\u001b[22m\u001b[0m\u001b[1ms\u001b[22m\u001b[0m\u001b[1ma\u001b[22m \u001b[0m\u001b[1mi\u001b[22m\u001b[0m\u001b[1ms\u001b[22m\u001b[0m\u001b[1ma\u001b[22mscii \u001b[0m\u001b[1mi\u001b[22m\u001b[0m\u001b[1ms\u001b[22m\u001b[0m\u001b[1ma\u001b[22mpprox \u001b[0m\u001b[1mi\u001b[22m\u001b[0m\u001b[1ms\u001b[22m\u001b[0m\u001b[1ma\u001b[22mbspath \u001b[0m\u001b[1mi\u001b[22m\u001b[0m\u001b[1ms\u001b[22m\u001b[0m\u001b[1ma\u001b[22mssigned \u001b[0m\u001b[1mi\u001b[22m\u001b[0m\u001b[1ms\u001b[22m\u001b[0m\u001b[1ma\u001b[22mbstracttype d\u001b[0m\u001b[1mi\u001b[22m\u001b[0m\u001b[1ms\u001b[22m\u001b[0m\u001b[1ma\u001b[22mble_sigint\n",
      "\n"
     ]
    },
    {
     "output_type": "execute_result",
     "data": {
      "text/plain": [
       "\u001b[36m  isa(x, type) -> Bool\u001b[39m\n",
       "\n",
       "  Determine whether \u001b[36mx\u001b[39m is of the given \u001b[36mtype\u001b[39m. Can also be used as an infix\n",
       "  operator, e.g. \u001b[36mx isa type\u001b[39m.\n",
       "\n",
       "\u001b[1m  Examples\u001b[22m\n",
       "\u001b[1m  ≡≡≡≡≡≡≡≡≡≡\u001b[22m\n",
       "\n",
       "\u001b[36m  julia> isa(1, Int)\u001b[39m\n",
       "\u001b[36m  true\u001b[39m\n",
       "\u001b[36m  \u001b[39m\n",
       "\u001b[36m  julia> isa(1, Matrix)\u001b[39m\n",
       "\u001b[36m  false\u001b[39m\n",
       "\u001b[36m  \u001b[39m\n",
       "\u001b[36m  julia> isa(1, Char)\u001b[39m\n",
       "\u001b[36m  false\u001b[39m\n",
       "\u001b[36m  \u001b[39m\n",
       "\u001b[36m  julia> isa(1, Number)\u001b[39m\n",
       "\u001b[36m  true\u001b[39m\n",
       "\u001b[36m  \u001b[39m\n",
       "\u001b[36m  julia> 1 isa Number\u001b[39m\n",
       "\u001b[36m  true\u001b[39m"
      ],
      "text/markdown": "```\nisa(x, type) -> Bool\n```\n\nDetermine whether `x` is of the given `type`. Can also be used as an infix operator, e.g. `x isa type`.\n\n# Examples\n\n```jldoctest\njulia> isa(1, Int)\ntrue\n\njulia> isa(1, Matrix)\nfalse\n\njulia> isa(1, Char)\nfalse\n\njulia> isa(1, Number)\ntrue\n\njulia> 1 isa Number\ntrue\n```\n",
      "text/latex": "\\begin{verbatim}\nisa(x, type) -> Bool\n\\end{verbatim}\nDetermine whether \\texttt{x} is of the given \\texttt{type}. Can also be used as an infix operator, e.g. \\texttt{x isa type}.\n\n\\section{Examples}\n\\begin{verbatim}\njulia> isa(1, Int)\ntrue\n\njulia> isa(1, Matrix)\nfalse\n\njulia> isa(1, Char)\nfalse\n\njulia> isa(1, Number)\ntrue\n\njulia> 1 isa Number\ntrue\n\\end{verbatim}\n"
     },
     "metadata": {},
     "execution_count": 20
    }
   ],
   "source": [
    "?isa"
   ]
  },
  {
   "source": [
    "The typeof function, already used throughout the manual in examples, returns the type of its argument. Since, as noted above, types are objects, they also have types, and we can ask what their types are:"
   ],
   "cell_type": "markdown",
   "metadata": {}
  },
  {
   "cell_type": "code",
   "execution_count": 21,
   "metadata": {},
   "outputs": [
    {
     "output_type": "stream",
     "name": "stdout",
     "text": [
      "search: \u001b[0m\u001b[1mt\u001b[22m\u001b[0m\u001b[1my\u001b[22m\u001b[0m\u001b[1mp\u001b[22m\u001b[0m\u001b[1me\u001b[22m\u001b[0m\u001b[1mo\u001b[22m\u001b[0m\u001b[1mf\u001b[22m \u001b[0m\u001b[1mt\u001b[22m\u001b[0m\u001b[1my\u001b[22m\u001b[0m\u001b[1mp\u001b[22m\u001b[0m\u001b[1me\u001b[22mj\u001b[0m\u001b[1mo\u001b[22min \u001b[0m\u001b[1mT\u001b[22m\u001b[0m\u001b[1my\u001b[22m\u001b[0m\u001b[1mp\u001b[22m\u001b[0m\u001b[1me\u001b[22mErr\u001b[0m\u001b[1mo\u001b[22mr\n\n"
     ]
    },
    {
     "output_type": "execute_result",
     "data": {
      "text/plain": [
       "\u001b[36m  typeof(x)\u001b[39m\n",
       "\n",
       "  Get the concrete type of \u001b[36mx\u001b[39m.\n",
       "\n",
       "\u001b[1m  Examples\u001b[22m\n",
       "\u001b[1m  ≡≡≡≡≡≡≡≡≡≡\u001b[22m\n",
       "\n",
       "\u001b[36m  julia> a = 1//2;\u001b[39m\n",
       "\u001b[36m  \u001b[39m\n",
       "\u001b[36m  julia> typeof(a)\u001b[39m\n",
       "\u001b[36m  Rational{Int64}\u001b[39m\n",
       "\u001b[36m  \u001b[39m\n",
       "\u001b[36m  julia> M = [1 2; 3.5 4];\u001b[39m\n",
       "\u001b[36m  \u001b[39m\n",
       "\u001b[36m  julia> typeof(M)\u001b[39m\n",
       "\u001b[36m  Array{Float64,2}\u001b[39m"
      ],
      "text/markdown": "```\ntypeof(x)\n```\n\nGet the concrete type of `x`.\n\n# Examples\n\n```jldoctest\njulia> a = 1//2;\n\njulia> typeof(a)\nRational{Int64}\n\njulia> M = [1 2; 3.5 4];\n\njulia> typeof(M)\nArray{Float64,2}\n```\n",
      "text/latex": "\\begin{verbatim}\ntypeof(x)\n\\end{verbatim}\nGet the concrete type of \\texttt{x}.\n\n\\section{Examples}\n\\begin{verbatim}\njulia> a = 1//2;\n\njulia> typeof(a)\nRational{Int64}\n\njulia> M = [1 2; 3.5 4];\n\njulia> typeof(M)\nArray{Float64,2}\n\\end{verbatim}\n"
     },
     "metadata": {},
     "execution_count": 21
    }
   ],
   "source": [
    "?typeof"
   ]
  },
  {
   "source": [
    "What if we repeat the process? What is the type of a type of a type? As it happens, types are all composite values and thus all have a type of DataType:"
   ],
   "cell_type": "markdown",
   "metadata": {}
  },
  {
   "cell_type": "code",
   "execution_count": 22,
   "metadata": {},
   "outputs": [
    {
     "output_type": "execute_result",
     "data": {
      "text/plain": [
       "DataType"
      ]
     },
     "metadata": {},
     "execution_count": 22
    }
   ],
   "source": [
    "typeof(DataType)"
   ]
  },
  {
   "cell_type": "code",
   "execution_count": 23,
   "metadata": {},
   "outputs": [
    {
     "output_type": "execute_result",
     "data": {
      "text/plain": [
       "DataType"
      ]
     },
     "metadata": {},
     "execution_count": 23
    }
   ],
   "source": [
    "typeof(Union)"
   ]
  },
  {
   "source": [
    "DataType is its own type.\n",
    "\n",
    "Another operation that applies to some types is supertype, which reveals a type's supertype. Only declared types (DataType) have unambiguous supertypes:"
   ],
   "cell_type": "markdown",
   "metadata": {}
  },
  {
   "cell_type": "code",
   "execution_count": 25,
   "metadata": {},
   "outputs": [
    {
     "output_type": "stream",
     "name": "stdout",
     "text": [
      "search: \u001b[0m\u001b[1ms\u001b[22m\u001b[0m\u001b[1mu\u001b[22m\u001b[0m\u001b[1mp\u001b[22m\u001b[0m\u001b[1me\u001b[22m\u001b[0m\u001b[1mr\u001b[22m\u001b[0m\u001b[1mt\u001b[22m\u001b[0m\u001b[1my\u001b[22m\u001b[0m\u001b[1mp\u001b[22m\u001b[0m\u001b[1me\u001b[22m\n\n"
     ]
    },
    {
     "output_type": "execute_result",
     "data": {
      "text/plain": [
       "\u001b[36m  supertype(T::DataType)\u001b[39m\n",
       "\n",
       "  Return the supertype of DataType \u001b[36mT\u001b[39m.\n",
       "\n",
       "\u001b[1m  Examples\u001b[22m\n",
       "\u001b[1m  ≡≡≡≡≡≡≡≡≡≡\u001b[22m\n",
       "\n",
       "\u001b[36m  julia> supertype(Int32)\u001b[39m\n",
       "\u001b[36m  Signed\u001b[39m"
      ],
      "text/markdown": "```\nsupertype(T::DataType)\n```\n\nReturn the supertype of DataType `T`.\n\n# Examples\n\n```jldoctest\njulia> supertype(Int32)\nSigned\n```\n",
      "text/latex": "\\begin{verbatim}\nsupertype(T::DataType)\n\\end{verbatim}\nReturn the supertype of DataType \\texttt{T}.\n\n\\section{Examples}\n\\begin{verbatim}\njulia> supertype(Int32)\nSigned\n\\end{verbatim}\n"
     },
     "metadata": {},
     "execution_count": 25
    }
   ],
   "source": [
    "?supertype"
   ]
  },
  {
   "cell_type": "code",
   "execution_count": 24,
   "metadata": {},
   "outputs": [
    {
     "output_type": "execute_result",
     "data": {
      "text/plain": [
       "AbstractFloat"
      ]
     },
     "metadata": {},
     "execution_count": 24
    }
   ],
   "source": [
    "supertype(Float64)"
   ]
  },
  {
   "cell_type": "code",
   "execution_count": 26,
   "metadata": {},
   "outputs": [
    {
     "output_type": "execute_result",
     "data": {
      "text/plain": [
       "Any"
      ]
     },
     "metadata": {},
     "execution_count": 26
    }
   ],
   "source": [
    "supertype(AbstractString)"
   ]
  },
  {
   "cell_type": "code",
   "execution_count": 27,
   "metadata": {},
   "outputs": [
    {
     "output_type": "execute_result",
     "data": {
      "text/plain": [
       "Any"
      ]
     },
     "metadata": {},
     "execution_count": 27
    }
   ],
   "source": [
    "supertype(Any)"
   ]
  },
  {
   "source": [
    "If you apply supertype to other type objects (or non-type objects), a MethodError is raised:"
   ],
   "cell_type": "markdown",
   "metadata": {}
  },
  {
   "cell_type": "code",
   "execution_count": 28,
   "metadata": {},
   "outputs": [
    {
     "output_type": "error",
     "ename": "MethodError",
     "evalue": "MethodError: no method matching supertype(::Type{Union{Float64, Int64}})\nClosest candidates are:\n  supertype(!Matched::DataType) at operators.jl:44\n  supertype(!Matched::UnionAll) at operators.jl:49",
     "traceback": [
      "MethodError: no method matching supertype(::Type{Union{Float64, Int64}})\nClosest candidates are:\n  supertype(!Matched::DataType) at operators.jl:44\n  supertype(!Matched::UnionAll) at operators.jl:49",
      "",
      "Stacktrace:",
      " [1] top-level scope at In[28]:1"
     ]
    }
   ],
   "source": [
    "supertype(Union{Float64,Int64})"
   ]
  },
  {
   "source": [
    "## Custom pretty-printing"
   ],
   "cell_type": "markdown",
   "metadata": {}
  },
  {
   "source": [
    "Often, one wants to customize how instances of a type are displayed. This is accomplished by overloading the show function. For example, suppose we define a type to represent complex numbers in polar form:"
   ],
   "cell_type": "markdown",
   "metadata": {}
  },
  {
   "cell_type": "code",
   "execution_count": 29,
   "metadata": {},
   "outputs": [],
   "source": [
    "struct Polar{T<:Real} <: Number\n",
    "    r::T\n",
    "    Θ::T\n",
    "end"
   ]
  },
  {
   "cell_type": "code",
   "execution_count": 30,
   "metadata": {},
   "outputs": [
    {
     "output_type": "execute_result",
     "data": {
      "text/plain": [
       "Polar"
      ]
     },
     "metadata": {},
     "execution_count": 30
    }
   ],
   "source": [
    "Polar(r::Real,Θ::Real) = Polar(promote(r,Θ)...)"
   ]
  },
  {
   "cell_type": "code",
   "execution_count": 31,
   "metadata": {},
   "outputs": [
    {
     "output_type": "stream",
     "name": "stdout",
     "text": [
      "search: \u001b[0m\u001b[1mp\u001b[22m\u001b[0m\u001b[1mr\u001b[22m\u001b[0m\u001b[1mo\u001b[22m\u001b[0m\u001b[1mm\u001b[22m\u001b[0m\u001b[1mo\u001b[22m\u001b[0m\u001b[1mt\u001b[22m\u001b[0m\u001b[1me\u001b[22m \u001b[0m\u001b[1mp\u001b[22m\u001b[0m\u001b[1mr\u001b[22m\u001b[0m\u001b[1mo\u001b[22m\u001b[0m\u001b[1mm\u001b[22m\u001b[0m\u001b[1mo\u001b[22m\u001b[0m\u001b[1mt\u001b[22m\u001b[0m\u001b[1me\u001b[22m_type \u001b[0m\u001b[1mp\u001b[22m\u001b[0m\u001b[1mr\u001b[22m\u001b[0m\u001b[1mo\u001b[22m\u001b[0m\u001b[1mm\u001b[22m\u001b[0m\u001b[1mo\u001b[22m\u001b[0m\u001b[1mt\u001b[22m\u001b[0m\u001b[1me\u001b[22m_rule \u001b[0m\u001b[1mp\u001b[22m\u001b[0m\u001b[1mr\u001b[22m\u001b[0m\u001b[1mo\u001b[22m\u001b[0m\u001b[1mm\u001b[22m\u001b[0m\u001b[1mo\u001b[22m\u001b[0m\u001b[1mt\u001b[22m\u001b[0m\u001b[1me\u001b[22m_shape \u001b[0m\u001b[1mp\u001b[22mointe\u001b[0m\u001b[1mr\u001b[22m_fr\u001b[0m\u001b[1mo\u001b[22m\u001b[0m\u001b[1mm\u001b[22m_\u001b[0m\u001b[1mo\u001b[22mbjref\n\n"
     ]
    },
    {
     "output_type": "execute_result",
     "data": {
      "text/plain": [
       "\u001b[36m  promote(xs...)\u001b[39m\n",
       "\n",
       "  Convert all arguments to a common type, and return them all (as a tuple). If\n",
       "  no arguments can be converted, an error is raised.\n",
       "\n",
       "\u001b[1m  Examples\u001b[22m\n",
       "\u001b[1m  ≡≡≡≡≡≡≡≡≡≡\u001b[22m\n",
       "\n",
       "\u001b[36m  julia> promote(Int8(1), Float16(4.5), Float32(4.1))\u001b[39m\n",
       "\u001b[36m  (1.0f0, 4.5f0, 4.1f0)\u001b[39m"
      ],
      "text/markdown": "```\npromote(xs...)\n```\n\nConvert all arguments to a common type, and return them all (as a tuple). If no arguments can be converted, an error is raised.\n\n# Examples\n\n```jldoctest\njulia> promote(Int8(1), Float16(4.5), Float32(4.1))\n(1.0f0, 4.5f0, 4.1f0)\n```\n",
      "text/latex": "\\begin{verbatim}\npromote(xs...)\n\\end{verbatim}\nConvert all arguments to a common type, and return them all (as a tuple). If no arguments can be converted, an error is raised.\n\n\\section{Examples}\n\\begin{verbatim}\njulia> promote(Int8(1), Float16(4.5), Float32(4.1))\n(1.0f0, 4.5f0, 4.1f0)\n\\end{verbatim}\n"
     },
     "metadata": {},
     "execution_count": 31
    }
   ],
   "source": [
    "?promote"
   ]
  },
  {
   "source": [
    "Here, we've added a custom constructor function so that it can take arguments of different Real types and promote them to a common type (see Constructors and Conversion and Promotion). (Of course, we would have to define lots of other methods, too, to make it act like a Number, e.g. +, *, one, zero, promotion rules and so on.) By default, instances of this type display rather simply, with information about the type name and the field values, as e.g. Polar{Float64}(3.0,4.0).\n",
    "\n",
    "If we want it to display instead as 3.0 * exp(4.0im), we would define the following method to print the object to a given output object io (representing a file, terminal, buffer, etcetera; see Networking and Streams):"
   ],
   "cell_type": "markdown",
   "metadata": {}
  },
  {
   "cell_type": "code",
   "execution_count": 32,
   "metadata": {},
   "outputs": [],
   "source": [
    "Base.show(io::IO, z::Polar) = print(io, z.r, \" * exp(\", z.Θ, \"im)\")"
   ]
  },
  {
   "source": [
    "More fine-grained control over display of Polar objects is possible. In particular, sometimes one wants both a verbose multi-line printing format, used for displaying a single object in the REPL and other interactive environments, and also a more compact single-line format used for print or for displaying the object as part of another object (e.g. in an array). Although by default the show(io, z) function is called in both cases, you can define a different multi-line format for displaying an object by overloading a three-argument form of show that takes the text/plain MIME type as its second argument (see Multimedia I/O), for example:"
   ],
   "cell_type": "markdown",
   "metadata": {}
  },
  {
   "cell_type": "code",
   "execution_count": 33,
   "metadata": {},
   "outputs": [],
   "source": [
    "Base.show(io::IO, ::MIME\"text/plain\", z::Polar{T}) where{T} =\n",
    "    print(io, \"Polar{$T} complex number:\\n   \", z)"
   ]
  },
  {
   "source": [
    "(Note that print(..., z) here will call the 2-argument show(io, z) method.) This results in:"
   ],
   "cell_type": "markdown",
   "metadata": {}
  },
  {
   "cell_type": "code",
   "execution_count": 34,
   "metadata": {},
   "outputs": [
    {
     "output_type": "execute_result",
     "data": {
      "text/plain": [
       "Polar{Float64} complex number:\n",
       "   3.0 * exp(4.0im)"
      ]
     },
     "metadata": {},
     "execution_count": 34
    }
   ],
   "source": [
    "Polar(3, 4.0)"
   ]
  },
  {
   "cell_type": "code",
   "execution_count": 35,
   "metadata": {},
   "outputs": [
    {
     "output_type": "execute_result",
     "data": {
      "text/plain": [
       "2-element Array{Polar{Float64},1}:\n",
       " 3.0 * exp(4.0im)\n",
       " 4.0 * exp(5.3im)"
      ]
     },
     "metadata": {},
     "execution_count": 35
    }
   ],
   "source": [
    "[Polar(3, 4.0), Polar(4.0,5.3)]"
   ]
  },
  {
   "source": [
    "where the single-line show(io, z) form is still used for an array of Polar values. Technically, the REPL calls display(z) to display the result of executing a line, which defaults to show(stdout, MIME(\"text/plain\"), z), which in turn defaults to show(stdout, z), but you should not define new display methods unless you are defining a new multimedia display handler (see Multimedia I/O).\n",
    "\n",
    "Moreover, you can also define show methods for other MIME types in order to enable richer display (HTML, images, etcetera) of objects in environments that support this (e.g. IJulia). For example, we can define formatted HTML display of Polar objects, with superscripts and italics, via:"
   ],
   "cell_type": "markdown",
   "metadata": {}
  },
  {
   "cell_type": "code",
   "execution_count": 36,
   "metadata": {},
   "outputs": [],
   "source": [
    "Base.show(io::IO, ::MIME\"text/html\", z::Polar{T}) where {T} =\n",
    "    println(io, \"<code>Polar{$T}</code> complex number: \",\n",
    "            z.r, \" <i>e</i><sup>\", z.Θ, \" <i>i</i></sup>\")"
   ]
  },
  {
   "source": [
    "A Polar object will then display automatically using HTML in an environment that supports HTML display, but you can call show manually to get HTML output if you want:"
   ],
   "cell_type": "markdown",
   "metadata": {}
  },
  {
   "cell_type": "code",
   "execution_count": 37,
   "metadata": {},
   "outputs": [
    {
     "output_type": "stream",
     "name": "stdout",
     "text": [
      "<code>Polar{Float64}</code> complex number: 3.0 <i>e</i><sup>4.0 <i>i</i></sup>\n"
     ]
    }
   ],
   "source": [
    "show(stdout, \"text/html\", Polar(3.0,4.0))"
   ]
  },
  {
   "source": [
    "An HTML renderer would display this as: Polar{Float64} complex number: $ 3.0 \\exp^{4.0 i} $\n",
    "\n",
    "As a rule of thumb, the single-line show method should print a valid Julia expression for creating the shown object. When this show method contains infix operators, such as the multiplication operator (*) in our single-line show method for Polar above, it may not parse correctly when printed as part of another object. To see this, consider the expression object (see Program representation) which takes the square of a specific instance of our Polar type:"
   ],
   "cell_type": "markdown",
   "metadata": {}
  },
  {
   "cell_type": "code",
   "execution_count": 40,
   "metadata": {},
   "outputs": [
    {
     "output_type": "execute_result",
     "data": {
      "text/plain": [
       "Polar{Float64} complex number:\n",
       "   3.0 * exp(4.0im)"
      ],
      "text/html": "<code>Polar{Float64}</code> complex number: 3.0 <i>e</i><sup>4.0 <i>i</i></sup>\n"
     },
     "metadata": {},
     "execution_count": 40
    }
   ],
   "source": [
    "a = Polar(3, 4.0)"
   ]
  },
  {
   "cell_type": "code",
   "execution_count": 41,
   "metadata": {},
   "outputs": [
    {
     "output_type": "stream",
     "name": "stdout",
     "text": [
      "3.0 * exp(4.0im) ^ 2"
     ]
    }
   ],
   "source": [
    "print(:($a^2))"
   ]
  },
  {
   "source": [
    "Because the operator ^ has higher precedence than * (see Operator Precedence and Associativity), this output does not faithfully represent the expression a ^ 2 which should be equal to (3.0 * exp(4.0im)) ^ 2. To solve this issue, we must make a custom method for Base.show_unquoted(io::IO, z::Polar, indent::Int, precedence::Int), which is called internally by the expression object when printing:"
   ],
   "cell_type": "markdown",
   "metadata": {}
  },
  {
   "cell_type": "code",
   "execution_count": 42,
   "metadata": {},
   "outputs": [],
   "source": [
    "function Base.show_unquoted(io::IO, z::Polar, ::Int, precedence::Int)\n",
    "    if Base.operator_precedence(:*) <= precedence\n",
    "        print(io, \"(\")\n",
    "        show(io, z)\n",
    "        print(io, \")\")\n",
    "    else\n",
    "        show(io, z)\n",
    "    end\n",
    "end"
   ]
  },
  {
   "cell_type": "code",
   "execution_count": 43,
   "metadata": {},
   "outputs": [
    {
     "output_type": "execute_result",
     "data": {
      "text/plain": [
       ":((3.0 * exp(4.0im)) ^ 2)"
      ]
     },
     "metadata": {},
     "execution_count": 43
    }
   ],
   "source": [
    ":($a^2)"
   ]
  },
  {
   "source": [
    "The method defined above adds parentheses around the call to show when the precedence of the calling operator is higher than or equal to the precedence of multiplication. This check allows expressions which parse correctly without the parentheses (such as :(\\$a + 2) and :(\\$a == 2)) to omit them when printing:"
   ],
   "cell_type": "markdown",
   "metadata": {}
  },
  {
   "cell_type": "code",
   "execution_count": 44,
   "metadata": {},
   "outputs": [
    {
     "output_type": "execute_result",
     "data": {
      "text/plain": [
       ":(3.0 * exp(4.0im) + 2)"
      ]
     },
     "metadata": {},
     "execution_count": 44
    }
   ],
   "source": [
    ":($a + 2)"
   ]
  },
  {
   "cell_type": "code",
   "execution_count": 45,
   "metadata": {},
   "outputs": [
    {
     "output_type": "execute_result",
     "data": {
      "text/plain": [
       ":(3.0 * exp(4.0im) == 2)"
      ]
     },
     "metadata": {},
     "execution_count": 45
    }
   ],
   "source": [
    ":($a == 2)"
   ]
  },
  {
   "source": [
    "In some cases, it is useful to adjust the behavior of show methods depending on the context. This can be achieved via the IOContext type, which allows passing contextual properties together with a wrapped IO stream. For example, we can build a shorter representation in our show method when the :compact property is set to true, falling back to the long representation if the property is false or absent:"
   ],
   "cell_type": "markdown",
   "metadata": {}
  },
  {
   "cell_type": "code",
   "execution_count": 46,
   "metadata": {},
   "outputs": [],
   "source": [
    "function Base.show(io::IO, z::Polar)\n",
    "    if get(io, :compact, false)\n",
    "        print(io, z.r, \"ℯ\", z.Θ, \"im\")\n",
    "    else\n",
    "        print(io, z.r, \" * exp(\", z.Θ, \"im)\")\n",
    "    end\n",
    "end"
   ]
  },
  {
   "source": [
    "This new compact representation will be used when the passed IO stream is an IOContext object with the :compact property set. In particular, this is the case when printing arrays with multiple columns (where horizontal space is limited):"
   ],
   "cell_type": "markdown",
   "metadata": {}
  },
  {
   "cell_type": "code",
   "execution_count": 47,
   "metadata": {},
   "outputs": [
    {
     "output_type": "stream",
     "name": "stdout",
     "text": [
      "3.0ℯ4.0im"
     ]
    }
   ],
   "source": [
    "show(IOContext(stdout, :compact=>true), Polar(3, 4.0))"
   ]
  },
  {
   "cell_type": "code",
   "execution_count": 48,
   "metadata": {},
   "outputs": [
    {
     "output_type": "execute_result",
     "data": {
      "text/plain": [
       "1×2 Array{Polar{Float64},2}:\n",
       " 3.0ℯ4.0im  4.0ℯ5.3im"
      ]
     },
     "metadata": {},
     "execution_count": 48
    }
   ],
   "source": [
    "[Polar(3, 4.0) Polar(4.0,5.3)]"
   ]
  },
  {
   "source": [
    "See the IOContext documentation for a list of common properties which can be used to adjust printing."
   ],
   "cell_type": "markdown",
   "metadata": {}
  },
  {
   "source": [
    "## \"Value types\""
   ],
   "cell_type": "markdown",
   "metadata": {}
  },
  {
   "source": [
    "In Julia, you can't dispatch on a value such as true or false. However, you can dispatch on parametric types, and Julia allows you to include \"plain bits\" values (Types, Symbols, Integers, floating-point numbers, tuples, etc.) as type parameters. A common example is the dimensionality parameter in Array{T,N}, where T is a type (e.g., Float64) but N is just an Int.\n",
    "\n",
    "You can create your own custom types that take values as parameters, and use them to control dispatch of custom types. By way of illustration of this idea, let's introduce a parametric type, Val{x}, and a constructor Val(x) = Val{x}(), which serves as a customary way to exploit this technique for cases where you don't need a more elaborate hierarchy.\n",
    "\n",
    "Val is defined as:"
   ],
   "cell_type": "markdown",
   "metadata": {}
  },
  {
   "cell_type": "code",
   "execution_count": 50,
   "metadata": {},
   "outputs": [],
   "source": [
    "struct Val{x}\n",
    "end"
   ]
  },
  {
   "cell_type": "code",
   "execution_count": 51,
   "metadata": {},
   "outputs": [
    {
     "output_type": "execute_result",
     "data": {
      "text/plain": [
       "Val"
      ]
     },
     "metadata": {},
     "execution_count": 51
    }
   ],
   "source": [
    "Val(x) = Val{x}()"
   ]
  },
  {
   "source": [
    "There is no more to the implementation of Val than this. Some functions in Julia's standard library accept Val instances as arguments, and you can also use it to write your own functions. For example:"
   ],
   "cell_type": "markdown",
   "metadata": {}
  },
  {
   "cell_type": "code",
   "execution_count": 52,
   "metadata": {},
   "outputs": [
    {
     "output_type": "execute_result",
     "data": {
      "text/plain": [
       "firstlast (generic function with 1 method)"
      ]
     },
     "metadata": {},
     "execution_count": 52
    }
   ],
   "source": [
    "firstlast(::Val{true}) = \"First\""
   ]
  },
  {
   "cell_type": "code",
   "execution_count": 53,
   "metadata": {},
   "outputs": [
    {
     "output_type": "execute_result",
     "data": {
      "text/plain": [
       "firstlast (generic function with 2 methods)"
      ]
     },
     "metadata": {},
     "execution_count": 53
    }
   ],
   "source": [
    "firstlast(::Val{false}) = \"Last\""
   ]
  },
  {
   "cell_type": "code",
   "execution_count": 54,
   "metadata": {},
   "outputs": [
    {
     "output_type": "execute_result",
     "data": {
      "text/plain": [
       "\"First\""
      ]
     },
     "metadata": {},
     "execution_count": 54
    }
   ],
   "source": [
    "firstlast(Val(true))"
   ]
  },
  {
   "cell_type": "code",
   "execution_count": 55,
   "metadata": {},
   "outputs": [
    {
     "output_type": "execute_result",
     "data": {
      "text/plain": [
       "\"Last\""
      ]
     },
     "metadata": {},
     "execution_count": 55
    }
   ],
   "source": [
    "firstlast(Val(false))"
   ]
  },
  {
   "source": [
    "For consistency across Julia, the call site should always pass a Val instance rather than using a type, i.e., use foo(Val(:bar)) rather than foo(Val{:bar}).\n",
    "\n",
    "It's worth noting that it's extremely easy to mis-use parametric \"value\" types, including Val; in unfavorable cases, you can easily end up making the performance of your code much worse. In particular, you would never want to write actual code as illustrated above. For more information about the proper (and improper) uses of Val, please read the more extensive discussion in the performance tips."
   ],
   "cell_type": "markdown",
   "metadata": {}
  }
 ]
}
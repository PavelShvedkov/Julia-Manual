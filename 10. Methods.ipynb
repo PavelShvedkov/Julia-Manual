{
 "metadata": {
  "language_info": {
   "codemirror_mode": {
    "name": "ipython",
    "version": 3
   },
   "file_extension": ".py",
   "mimetype": "text/x-python",
   "name": "python",
   "nbconvert_exporter": "python",
   "pygments_lexer": "ipython3",
   "version": 3
  },
  "orig_nbformat": 2,
  "kernelspec": {
   "name": "julia-1.4",
   "display_name": "Julia 1.4.1",
   "language": "julia"
  }
 },
 "nbformat": 4,
 "nbformat_minor": 2,
 "cells": [
  {
   "source": [
    "# Methods"
   ],
   "cell_type": "markdown",
   "metadata": {}
  },
  {
   "source": [
    "Recall from Functions that a function is an object that maps a tuple of arguments to a return value, or throws an exception if no appropriate value can be returned. It is common for the same conceptual function or operation to be implemented quite differently for different types of arguments: adding two integers is very different from adding two floating-point numbers, both of which are distinct from adding an integer to a floating-point number. Despite their implementation differences, these operations all fall under the general concept of \"addition\". Accordingly, in Julia, these behaviors all belong to a single object: the + function.\n",
    "\n",
    "To facilitate using many different implementations of the same concept smoothly, functions need not be defined all at once, but can rather be defined piecewise by providing specific behaviors for certain combinations of argument types and counts. A definition of one possible behavior for a function is called a method. Thus far, we have presented only examples of functions defined with a single method, applicable to all types of arguments. However, the signatures of method definitions can be annotated to indicate the types of arguments in addition to their number, and more than a single method definition may be provided. When a function is applied to a particular tuple of arguments, the most specific method applicable to those arguments is applied. Thus, the overall behavior of a function is a patchwork of the behaviors of its various method definitions. If the patchwork is well designed, even though the implementations of the methods may be quite different, the outward behavior of the function will appear seamless and consistent.\n",
    "\n",
    "The choice of which method to execute when a function is applied is called dispatch. Julia allows the dispatch process to choose which of a function's methods to call based on the number of arguments given, and on the types of all of the function's arguments. This is different than traditional object-oriented languages, where dispatch occurs based only on the first argument, which often has a special argument syntax, and is sometimes implied rather than explicitly written as an argument. Using all of a function's arguments to choose which method should be invoked, rather than just the first, is known as multiple dispatch. Multiple dispatch is particularly useful for mathematical code, where it makes little sense to artificially deem the operations to \"belong\" to one argument more than any of the others: does the addition operation in x + y belong to x any more than it does to y? The implementation of a mathematical operator generally depends on the types of all of its arguments. Even beyond mathematical operations, however, multiple dispatch ends up being a powerful and convenient paradigm for structuring and organizing programs."
   ],
   "cell_type": "markdown",
   "metadata": {}
  },
  {
   "source": [
    "## Defining Methods"
   ],
   "cell_type": "markdown",
   "metadata": {}
  },
  {
   "source": [
    "Until now, we have, in our examples, defined only functions with a single method having unconstrained argument types. Such functions behave just like they would in traditional dynamically typed languages. Nevertheless, we have used multiple dispatch and methods almost continually without being aware of it: all of Julia's standard functions and operators, like the aforementioned + function, have many methods defining their behavior over various possible combinations of argument type and count.\n",
    "\n",
    "When defining a function, one can optionally constrain the types of parameters it is applicable to, using the :: type-assertion operator, introduced in the section on Composite Types:"
   ],
   "cell_type": "markdown",
   "metadata": {}
  },
  {
   "cell_type": "code",
   "execution_count": 1,
   "metadata": {},
   "outputs": [
    {
     "output_type": "execute_result",
     "data": {
      "text/plain": [
       "f (generic function with 1 method)"
      ]
     },
     "metadata": {},
     "execution_count": 1
    }
   ],
   "source": [
    "f(x::Float64, y::Float64) = 2x + y"
   ]
  },
  {
   "source": [
    "This function definition applies only to calls where x and y are both values of type Float64:"
   ],
   "cell_type": "markdown",
   "metadata": {}
  },
  {
   "cell_type": "code",
   "execution_count": 2,
   "metadata": {},
   "outputs": [
    {
     "output_type": "execute_result",
     "data": {
      "text/plain": [
       "7.0"
      ]
     },
     "metadata": {},
     "execution_count": 2
    }
   ],
   "source": [
    "f(2.0, 3.0)"
   ]
  },
  {
   "source": [
    "Applying it to any other types of arguments will result in a MethodError:"
   ],
   "cell_type": "markdown",
   "metadata": {}
  },
  {
   "cell_type": "code",
   "execution_count": 3,
   "metadata": {},
   "outputs": [
    {
     "output_type": "error",
     "ename": "MethodError",
     "evalue": "MethodError: no method matching f(::Float64, ::Int64)\nClosest candidates are:\n  f(::Float64, !Matched::Float64) at In[1]:1",
     "traceback": [
      "MethodError: no method matching f(::Float64, ::Int64)\nClosest candidates are:\n  f(::Float64, !Matched::Float64) at In[1]:1",
      "",
      "Stacktrace:",
      " [1] top-level scope at In[3]:1"
     ]
    }
   ],
   "source": [
    "f(2.0, 3)"
   ]
  },
  {
   "cell_type": "code",
   "execution_count": 4,
   "metadata": {},
   "outputs": [
    {
     "output_type": "error",
     "ename": "MethodError",
     "evalue": "MethodError: no method matching f(::Float32, ::Float64)\nClosest candidates are:\n  f(!Matched::Float64, ::Float64) at In[1]:1",
     "traceback": [
      "MethodError: no method matching f(::Float32, ::Float64)\nClosest candidates are:\n  f(!Matched::Float64, ::Float64) at In[1]:1",
      "",
      "Stacktrace:",
      " [1] top-level scope at In[4]:1"
     ]
    }
   ],
   "source": [
    "f(Float32(2.0), 3.0)"
   ]
  },
  {
   "cell_type": "code",
   "execution_count": 5,
   "metadata": {},
   "outputs": [
    {
     "output_type": "error",
     "ename": "MethodError",
     "evalue": "MethodError: no method matching f(::Float64, ::String)\nClosest candidates are:\n  f(::Float64, !Matched::Float64) at In[1]:1",
     "traceback": [
      "MethodError: no method matching f(::Float64, ::String)\nClosest candidates are:\n  f(::Float64, !Matched::Float64) at In[1]:1",
      "",
      "Stacktrace:",
      " [1] top-level scope at In[5]:1"
     ]
    }
   ],
   "source": [
    "f(2.0, \"3.0\")"
   ]
  },
  {
   "cell_type": "code",
   "execution_count": 6,
   "metadata": {},
   "outputs": [
    {
     "output_type": "error",
     "ename": "MethodError",
     "evalue": "MethodError: no method matching f(::String, ::String)",
     "traceback": [
      "MethodError: no method matching f(::String, ::String)",
      "",
      "Stacktrace:",
      " [1] top-level scope at In[6]:1"
     ]
    }
   ],
   "source": [
    "f(\"2.0\", \"3.0\")"
   ]
  },
  {
   "source": [
    "As you can see, the arguments must be precisely of type Float64. Other numeric types, such as integers or 32-bit floating-point values, are not automatically converted to 64-bit floating-point, nor are strings parsed as numbers. Because Float64 is a concrete type and concrete types cannot be subclassed in Julia, such a definition can only be applied to arguments that are exactly of type Float64. It may often be useful, however, to write more general methods where the declared parameter types are abstract:"
   ],
   "cell_type": "markdown",
   "metadata": {}
  },
  {
   "cell_type": "code",
   "execution_count": 7,
   "metadata": {},
   "outputs": [
    {
     "output_type": "execute_result",
     "data": {
      "text/plain": [
       "f (generic function with 2 methods)"
      ]
     },
     "metadata": {},
     "execution_count": 7
    }
   ],
   "source": [
    "f(x::Number, y::Number) = 2x - y"
   ]
  },
  {
   "cell_type": "code",
   "execution_count": 8,
   "metadata": {},
   "outputs": [
    {
     "output_type": "execute_result",
     "data": {
      "text/plain": [
       "1.0"
      ]
     },
     "metadata": {},
     "execution_count": 8
    }
   ],
   "source": [
    "f(2.0, 3)"
   ]
  },
  {
   "source": [
    "This method definition applies to any pair of arguments that are instances of Number. They need not be of the same type, so long as they are each numeric values. The problem of handling disparate numeric types is delegated to the arithmetic operations in the expression 2x - y.\n",
    "\n",
    "To define a function with multiple methods, one simply defines the function multiple times, with different numbers and types of arguments. The first method definition for a function creates the function object, and subsequent method definitions add new methods to the existing function object. The most specific method definition matching the number and types of the arguments will be executed when the function is applied. Thus, the two method definitions above, taken together, define the behavior for f over all pairs of instances of the abstract type Number – but with a different behavior specific to pairs of Float64 values. If one of the arguments is a 64-bit float but the other one is not, then the f(Float64,Float64) method cannot be called and the more general f(Number,Number) method must be used:"
   ],
   "cell_type": "markdown",
   "metadata": {}
  },
  {
   "cell_type": "code",
   "execution_count": 9,
   "metadata": {},
   "outputs": [
    {
     "output_type": "execute_result",
     "data": {
      "text/plain": [
       "7.0"
      ]
     },
     "metadata": {},
     "execution_count": 9
    }
   ],
   "source": [
    "f(2.0, 3.0)"
   ]
  },
  {
   "cell_type": "code",
   "execution_count": 10,
   "metadata": {},
   "outputs": [
    {
     "output_type": "execute_result",
     "data": {
      "text/plain": [
       "1.0"
      ]
     },
     "metadata": {},
     "execution_count": 10
    }
   ],
   "source": [
    "f(2, 3.0)"
   ]
  },
  {
   "cell_type": "code",
   "execution_count": 11,
   "metadata": {},
   "outputs": [
    {
     "output_type": "execute_result",
     "data": {
      "text/plain": [
       "1.0"
      ]
     },
     "metadata": {},
     "execution_count": 11
    }
   ],
   "source": [
    "f(2.0, 3)"
   ]
  },
  {
   "cell_type": "code",
   "execution_count": 12,
   "metadata": {},
   "outputs": [
    {
     "output_type": "execute_result",
     "data": {
      "text/plain": [
       "1"
      ]
     },
     "metadata": {},
     "execution_count": 12
    }
   ],
   "source": [
    "f(2, 3)"
   ]
  },
  {
   "source": [
    "The 2x + y definition is only used in the first case, while the 2x - y definition is used in the others. No automatic casting or conversion of function arguments is ever performed: all conversion in Julia is non-magical and completely explicit. Conversion and Promotion, however, shows how clever application of sufficiently advanced technology can be indistinguishable from magic.\n",
    "\n",
    "For non-numeric values, and for fewer or more than two arguments, the function f remains undefined, and applying it will still result in a MethodError:"
   ],
   "cell_type": "markdown",
   "metadata": {}
  },
  {
   "cell_type": "code",
   "execution_count": 13,
   "metadata": {},
   "outputs": [
    {
     "output_type": "error",
     "ename": "MethodError",
     "evalue": "MethodError: no method matching f(::String, ::Int64)\nClosest candidates are:\n  f(!Matched::Number, ::Number) at In[7]:1",
     "traceback": [
      "MethodError: no method matching f(::String, ::Int64)\nClosest candidates are:\n  f(!Matched::Number, ::Number) at In[7]:1",
      "",
      "Stacktrace:",
      " [1] top-level scope at In[13]:1"
     ]
    }
   ],
   "source": [
    "f(\"foo\", 3)"
   ]
  },
  {
   "cell_type": "code",
   "execution_count": 14,
   "metadata": {},
   "outputs": [
    {
     "output_type": "error",
     "ename": "MethodError",
     "evalue": "MethodError: no method matching f()\nClosest candidates are:\n  f(!Matched::Float64, !Matched::Float64) at In[1]:1\n  f(!Matched::Number, !Matched::Number) at In[7]:1",
     "traceback": [
      "MethodError: no method matching f()\nClosest candidates are:\n  f(!Matched::Float64, !Matched::Float64) at In[1]:1\n  f(!Matched::Number, !Matched::Number) at In[7]:1",
      "",
      "Stacktrace:",
      " [1] top-level scope at In[14]:1"
     ]
    }
   ],
   "source": [
    "f()"
   ]
  },
  {
   "source": [
    "You can easily see which methods exist for a function by entering the function object itself in an interactive session:"
   ],
   "cell_type": "markdown",
   "metadata": {}
  },
  {
   "cell_type": "code",
   "execution_count": 15,
   "metadata": {},
   "outputs": [
    {
     "output_type": "execute_result",
     "data": {
      "text/plain": [
       "f (generic function with 2 methods)"
      ]
     },
     "metadata": {},
     "execution_count": 15
    }
   ],
   "source": [
    "f"
   ]
  },
  {
   "source": [
    "This output tells us that f is a function object with two methods. To find out what the signatures of those methods are, use the methods function:"
   ],
   "cell_type": "markdown",
   "metadata": {}
  },
  {
   "cell_type": "code",
   "execution_count": 16,
   "metadata": {},
   "outputs": [
    {
     "output_type": "execute_result",
     "data": {
      "text/plain": [
       "# 2 methods for generic function \"f\":\n",
       "[1] f(x::Float64, y::Float64) in Main at In[1]:1\n",
       "[2] f(x::Number, y::Number) in Main at In[7]:1"
      ],
      "text/html": "# 2 methods for generic function <b>f</b>:<ul><li> f(x::<b>Float64</b>, y::<b>Float64</b>) in Main at In[1]:1</li> <li> f(x::<b>Number</b>, y::<b>Number</b>) in Main at In[7]:1</li> </ul>"
     },
     "metadata": {},
     "execution_count": 16
    }
   ],
   "source": [
    "methods(f)"
   ]
  },
  {
   "source": [
    "which shows that f has two methods, one taking two Float64 arguments and one taking arguments of type Number. It also indicates the file and line number where the methods were defined: because these methods were defined at the REPL, we get the apparent line number none:1.\n",
    "\n",
    "In the absence of a type declaration with ::, the type of a method parameter is Any by default, meaning that it is unconstrained since all values in Julia are instances of the abstract type Any. Thus, we can define a catch-all method for f like so:"
   ],
   "cell_type": "markdown",
   "metadata": {}
  },
  {
   "cell_type": "code",
   "execution_count": 17,
   "metadata": {},
   "outputs": [
    {
     "output_type": "execute_result",
     "data": {
      "text/plain": [
       "f (generic function with 3 methods)"
      ]
     },
     "metadata": {},
     "execution_count": 17
    }
   ],
   "source": [
    "f(x,y) = println(\"Whoa there, Nelly.\")"
   ]
  },
  {
   "cell_type": "code",
   "execution_count": 18,
   "metadata": {},
   "outputs": [
    {
     "output_type": "stream",
     "name": "stdout",
     "text": [
      "Whoa there, Nelly.\n"
     ]
    }
   ],
   "source": [
    "f(\"foo\", 1)"
   ]
  },
  {
   "source": [
    "This catch-all is less specific than any other possible method definition for a pair of parameter values, so it will only be called on pairs of arguments to which no other method definition applies.\n",
    "\n",
    "Although it seems a simple concept, multiple dispatch on the types of values is perhaps the single most powerful and central feature of the Julia language. Core operations typically have dozens of methods:"
   ],
   "cell_type": "markdown",
   "metadata": {}
  },
  {
   "cell_type": "code",
   "execution_count": 19,
   "metadata": {},
   "outputs": [
    {
     "output_type": "execute_result",
     "data": {
      "text/plain": [
       "4,N}, Base.ReinterpretArray{#s664,N,S,A} where S where A<:Union{SubArray{T,N,A,I,true} where I<:Union{Tuple{Vararg{Real,N} where N}, Tuple{AbstractUnitRange,Vararg{Any,N} where N}} where A<:DenseArray where N where T, DenseArray}, Base.ReshapedArray{#s664,N,A,MI} where MI<:Tuple{Vararg{Base.MultiplicativeInverses.SignedMultiplicativeInverse{Int64},N} where N} where A<:Union{Base.ReinterpretArray{T,N,S,A} where S where A<:Union{SubArray{T,N,A,I,true} where I<:Union{Tuple{Vararg{Real,N} where N}, Tuple{AbstractUnitRange,Vararg{Any,N} where N}} where A<:DenseArray where N where T, DenseArray} where N where T, SubArray{T,N,A,I,true} where I<:Union{Tuple{Vararg{Real,N} where N}, Tuple{AbstractUnitRange,Vararg{Any,N} where N}} where A<:DenseArray where N where T, DenseArray}, SubArray{#s664,N,A,I,L} where L where I<:Tuple{Vararg{Union{Int64, AbstractRange{Int64}, Base.AbstractCartesianIndex},N} where N} where A<:Union{Base.ReinterpretArray{T,N,S,A} where S where A<:Union{SubArray{T,N,A,I,true} where I<:Union{Tuple{Vararg{Real,N} where N}, Tuple{AbstractUnitRange,Vararg{Any,N} where N}} where A<:DenseArray where N where T, DenseArray} where N where T, Base.ReshapedArray{T,N,A,MI} where MI<:Tuple{Vararg{Base.MultiplicativeInverses.SignedMultiplicativeInverse{Int64},N} where N} where A<:Union{Base.ReinterpretArray{T,N,S,A} where S where A<:Union{SubArray{T,N,A,I,true} where I<:Union{Tuple{Vararg{Real,N} where N}, Tuple{AbstractUnitRange,Vararg{Any,N} where N}} where A<:DenseArray where N where T, DenseArray} where N where T, SubArray{T,N,A,I,true} where I<:Union{Tuple{Vararg{Real,N} where N}, Tuple{AbstractUnitRange,Vararg{Any,N} where N}} where A<:DenseArray where N where T, DenseArray} where N where T, DenseArray}} where N where #s664<:Union{Dates.CompoundPeriod, Dates.Period}, y::Dates.TimeType) in Dates at /usr/share/julia/stdlib/v1.4/Dates/src/deprecated.jl:12\n",
       "[84] +(X::Union{DenseArray{#s664,N}, Base.ReinterpretArray{#s664,N,S,A} where S where A<:Union{SubArray{T,N,A,I,true} where I<:Union{Tuple{Vararg{Real,N} where N}, Tuple{AbstractUnitRange,Vararg{Any,N} where N}} where A<:DenseArray where N where T, DenseArray}, Base.ReshapedArray{#s664,N,A,MI} where MI<:Tuple{Vararg{Base.MultiplicativeInverses.SignedMultiplicativeInverse{Int64},N} where N} where A<:Union{Base.ReinterpretArray{T,N,S,A} where S where A<:Union{SubArray{T,N,A,I,true} where I<:Union{Tuple{Vararg{Real,N} where N}, Tuple{AbstractUnitRange,Vararg{Any,N} where N}} where A<:DenseArray where N where T, DenseArray} where N where T, SubArray{T,N,A,I,true} where I<:Union{Tuple{Vararg{Real,N} where N}, Tuple{AbstractUnitRange,Vararg{Any,N} where N}} where A<:DenseArray where N where T, DenseArray}, SubArray{#s664,N,A,I,L} where L where I<:Tuple{Vararg{Union{Int64, AbstractRange{Int64}, Base.AbstractCartesianIndex},N} where N} where A<:Union{Base.ReinterpretArray{T,N,S,A} where S where A<:Union{SubArray{T,N,A,I,true} where I<:Union{Tuple{Vararg{Real,N} where N}, Tuple{AbstractUnitRange,Vararg{Any,N} where N}} where A<:DenseArray where N where T, DenseArray} where N where T, Base.ReshapedArray{T,N,A,MI} where MI<:Tuple{Vararg{Base.MultiplicativeInverses.SignedMultiplicativeInverse{Int64},N} where N} where A<:Union{Base.ReinterpretArray{T,N,S,A} where S where A<:Union{SubArray{T,N,A,I,true} where I<:Union{Tuple{Vararg{Real,N} where N}, Tuple{AbstractUnitRange,Vararg{Any,N} where N}} where A<:DenseArray where N where T, DenseArray} where N where T, SubArray{T,N,A,I,true} where I<:Union{Tuple{Vararg{Real,N} where N}, Tuple{AbstractUnitRange,Vararg{Any,N} where N}} where A<:DenseArray where N where T, DenseArray} where N where T, DenseArray}} where N where #s664<:Union{Dates.CompoundPeriod, Dates.Period}, Y::Union{DenseArray{#s663,N}, Base.ReinterpretArray{#s663,N,S,A} where S where A<:Union{SubArray{T,N,A,I,true} where I<:Union{Tuple{Vararg{Real,N} where N}, Tuple{AbstractUnitRange,Vararg{Any,N} where N}} where A<:DenseArray where N where T, DenseArray}, Base.ReshapedArray{#s663,N,A,MI} where MI<:Tuple{Vararg{Base.MultiplicativeInverses.SignedMultiplicativeInverse{Int64},N} where N} where A<:Union{Base.ReinterpretArray{T,N,S,A} where S where A<:Union{SubArray{T,N,A,I,true} where I<:Union{Tuple{Vararg{Real,N} where N}, Tuple{AbstractUnitRange,Vararg{Any,N} where N}} where A<:DenseArray where N where T, DenseArray} where N where T, SubArray{T,N,A,I,true} where I<:Union{Tuple{Vararg{Real,N} where N}, Tuple{AbstractUnitRange,Vararg{Any,N} where N}} where A<:DenseArray where N where T, DenseArray}, SubArray{#s663,N,A,I,L} where L where I<:Tuple{Vararg{Union{Int64, AbstractRange{Int64}, Base.AbstractCartesianIndex},N} where N} where A<:Union{Base.ReinterpretArray{T,N,S,A} where S where A<:Union{SubArray{T,N,A,I,true} where I<:Union{Tuple{Vararg{Real,N} where N}, Tuple{AbstractUnitRange,Vararg{Any,N} where N}} where A<:DenseArray where N where T, DenseArray} where N where T, Base.ReshapedArray{T,N,A,MI} where MI<:Tuple{Vararg{Base.MultiplicativeInverses.SignedMultiplicativeInverse{Int64},N} where N} where A<:Union{Base.ReinterpretArray{T,N,S,A} where S where A<:Union{SubArray{T,N,A,I,true} where I<:Union{Tuple{Vararg{Real,N} where N}, Tuple{AbstractUnitRange,Vararg{Any,N} where N}} where A<:DenseArray where N where T, DenseArray} where N where T, SubArray{T,N,A,I,true} where I<:Union{Tuple{Vararg{Real,N} where N}, Tuple{AbstractUnitRange,Vararg{Any,N} where N}} where A<:DenseArray where N where T, DenseArray} where N where T, DenseArray}} where N where #s663<:Union{Dates.CompoundPeriod, Dates.Period}) in Dates at /usr/share/julia/stdlib/v1.4/Dates/src/deprecated.jl:64\n",
       "[85] +(A::LinearAlgebra.SymTridiagonal, B::LinearAlgebra.SymTridiagonal) in LinearAlgebra at /usr/share/julia/stdlib/v1.4/LinearAlgebra/src/tridiag.jl:158\n",
       "[86] +(A::LinearAlgebra.Tridiagonal, B::LinearAlgebra.Tridiagonal) in LinearAlgebra at /usr/share/julia/stdlib/v1.4/LinearAlgebra/src/tridiag.jl:657\n",
       "[87] +(A::LinearAlgebra.UpperTriangular, B::LinearAlgebra.UpperTriangular) in LinearAlgebra at /usr/share/julia/stdlib/v1.4/LinearAlgebra/src/triangular.jl:648\n",
       "[88] +(A::LinearAlgebra.LowerTriangular, B::LinearAlgebra.LowerTriangular) in LinearAlgebra at /usr/share/julia/stdlib/v1.4/LinearAlgebra/src/triangular.jl:649\n",
       "[89] +(A::LinearAlgebra.UpperTriangular, B::LinearAlgebra.UnitUpperTriangular) in LinearAlgebra at /usr/share/julia/stdlib/v1.4/LinearAlgebra/src/triangular.jl:650\n",
       "[90] +(A::LinearAlgebra.LowerTriangular, B::LinearAlgebra.UnitLowerTriangular) in LinearAlgebra at /usr/share/julia/stdlib/v1.4/LinearAlgebra/src/triangular.jl:651\n",
       "[91] +(A::LinearAlgebra.UnitUpperTriangular, B::LinearAlgebra.UpperTriangular) in LinearAlgebra at /usr/share/julia/stdlib/v1.4/LinearAlgebra/src/triangular.jl:652\n",
       "[92] +(A::LinearAlgebra.UnitLowerTriangular, B::LinearAlgebra.LowerTriangular) in LinearAlgebra at /usr/share/julia/stdlib/v1.4/LinearAlgebra/src/triangular.jl:653\n",
       "[93] +(A::LinearAlgebra.UnitUpperTriangular, B::LinearAlgebra.UnitUpperTriangular) in LinearAlgebra at /usr/share/julia/stdlib/v1.4/LinearAlgebra/src/triangular.jl:654\n",
       "[94] +(A::LinearAlgebra.UnitLowerTriangular, B::LinearAlgebra.UnitLowerTriangular) in LinearAlgebra at /usr/share/julia/stdlib/v1.4/LinearAlgebra/src/triangular.jl:655\n",
       "[95] +(A::LinearAlgebra.AbstractTriangular, B::LinearAlgebra.AbstractTriangular) in LinearAlgebra at /usr/share/julia/stdlib/v1.4/LinearAlgebra/src/triangular.jl:656\n",
       "[96] +(A::LinearAlgebra.Symmetric, B::LinearAlgebra.Symmetric) in LinearAlgebra at /usr/share/julia/stdlib/v1.4/LinearAlgebra/src/symmetric.jl:465\n",
       "[97] +(A::LinearAlgebra.Hermitian, B::LinearAlgebra.Hermitian) in LinearAlgebra at /usr/share/julia/stdlib/v1.4/LinearAlgebra/src/symmetric.jl:466\n",
       "[98] +(A::LinearAlgebra.Hermitian, B::LinearAlgebra.Symmetric{#s664,S} where S<:(AbstractArray{#s6641,2} where #s6641<:#s664) where #s664<:Real) in LinearAlgebra at /usr/share/julia/stdlib/v1.4/LinearAlgebra/src/symmetric.jl:467\n",
       "[99] +(A::LinearAlgebra.Symmetric{#s664,S} where S<:(AbstractArray{#s6641,2} where #s6641<:#s664) where #s664<:Real, B::LinearAlgebra.Hermitian) in LinearAlgebra at /usr/share/julia/stdlib/v1.4/LinearAlgebra/src/symmetric.jl:468\n",
       "[100] +(Da::LinearAlgebra.Diagonal, Db::LinearAlgebra.Diagonal) in LinearAlgebra at /usr/share/julia/stdlib/v1.4/LinearAlgebra/src/diagonal.jl:156\n",
       "[101] +(A::LinearAlgebra.Bidiagonal, B::LinearAlgebra.Bidiagonal) in LinearAlgebra at /usr/share/julia/stdlib/v1.4/LinearAlgebra/src/bidiag.jl:309\n",
       "[102] +(UL::LinearAlgebra.UnitUpperTriangular, J::LinearAlgebra.UniformScaling) in LinearAlgebra at /usr/share/julia/stdlib/v1.4/LinearAlgebra/src/uniformscaling.jl:131\n",
       "[103] +(UL::LinearAlgebra.UnitLowerTriangular, J::LinearAlgebra.UniformScaling) in LinearAlgebra at /usr/share/julia/stdlib/v1.4/LinearAlgebra/src/uniformscaling.jl:131\n",
       "[104] +(A::LinearAlgebra.Hermitian, J::LinearAlgebra.UniformScaling{#s664} where #s664<:Complex) in LinearAlgebra at /usr/share/julia/stdlib/v1.4/LinearAlgebra/src/uniformscaling.jl:145\n",
       "[105] +(H::LinearAlgebra.UpperHessenberg, J::LinearAlgebra.UniformScaling) in LinearAlgebra at /usr/share/julia/stdlib/v1.4/LinearAlgebra/src/hessenberg.jl:106\n",
       "[106] +(A::LinearAlgebra.Tridiagonal{#s664,V} where V<:AbstractArray{#s664,1} where #s664<:Number, B::LinearAlgebra.UniformScaling) in LinearAlgebra at /usr/share/julia/stdlib/v1.4/LinearAlgebra/src/special.jl:238\n",
       "[107] +(A::LinearAlgebra.SymTridiagonal{#s664,V} where V<:AbstractArray{#s664,1} where #s664<:Number, B::LinearAlgebra.UniformScaling) in LinearAlgebra at /usr/share/julia/stdlib/v1.4/LinearAlgebra/src/special.jl:243\n",
       "[108] +(A::LinearAlgebra.Bidiagonal{#s664,V} where V<:AbstractArray{#s664,1} where #s664<:Number, B::LinearAlgebra.UniformScaling) in LinearAlgebra at /usr/share/julia/stdlib/v1.4/LinearAlgebra/src/special.jl:248\n",
       "[109] +(A::LinearAlgebra.Diagonal{#s664,V} where V<:AbstractArray{#s664,1} where #s664<:Number, B::LinearAlgebra.UniformScaling) in LinearAlgebra at /usr/share/julia/stdlib/v1.4/LinearAlgebra/src/special.jl:253\n",
       "[110] +(A::SparseArrays.AbstractSparseMatrixCSC, J::LinearAlgebra.UniformScaling) in SparseArrays at /usr/share/julia/stdlib/v1.4/SparseArrays/src/sparsematrix.jl:3610\n",
       "[111] +(A::AbstractArray{T,2} where T, J::LinearAlgebra.UniformScaling) in LinearAlgebra at /usr/share/julia/stdlib/v1.4/LinearAlgebra/src/uniformscaling.jl:164\n",
       "[112] +(A::LinearAlgebra.UpperHessenberg, B::LinearAlgebra.UpperHessenberg) in LinearAlgebra at /usr/share/julia/stdlib/v1.4/LinearAlgebra/src/hessenberg.jl:101\n",
       "[113] +(A::LinearAlgebra.UpperTriangular, B::LinearAlgebra.Bidiagonal) in LinearAlgebra at /usr/share/julia/stdlib/v1.4/LinearAlgebra/src/special.jl:98\n",
       "[114] +(A::LinearAlgebra.Bidiagonal, B::LinearAlgebra.UpperTriangular) in LinearAlgebra at /usr/share/julia/stdlib/v1.4/LinearAlgebra/src/special.jl:106\n",
       "[115] +(A::LinearAlgebra.UnitUpperTriangular, B::LinearAlgebra.Bidiagonal) in LinearAlgebra at /usr/share/julia/stdlib/v1.4/LinearAlgebra/src/special.jl:98\n",
       "[116] +(A::LinearAlgebra.Bidiagonal, B::LinearAlgebra.UnitUpperTriangular) in LinearAlgebra at /usr/share/julia/stdlib/v1.4/LinearAlgebra/src/special.jl:106\n",
       "[117] +(A::LinearAlgebra.LowerTriangular, B::LinearAlgebra.Bidiagonal) in LinearAlgebra at /usr/share/julia/stdlib/v1.4/LinearAlgebra/src/special.jl:98\n",
       "[118] +(A::LinearAlgebra.Bidiagonal, B::LinearAlgebra.LowerTriangular) in LinearAlgebra at /usr/share/julia/stdlib/v1.4/LinearAlgebra/src/special.jl:106\n",
       "[119] +(A::LinearAlgebra.UnitLowerTriangular, B::LinearAlgebra.Bidiagonal) in LinearAlgebra at /usr/share/julia/stdlib/v1.4/LinearAlgebra/src/special.jl:98\n",
       "[120] +(A::LinearAlgebra.Bidiagonal, B::LinearAlgebra.UnitLowerTriangular) in LinearAlgebra at /usr/share/julia/stdlib/v1.4/LinearAlgebra/src/special.jl:106\n",
       "[121] +(A::LinearAlgebra.Bidiagonal, B::LinearAlgebra.Diagonal) in LinearAlgebra at /usr/share/julia/stdlib/v1.4/LinearAlgebra/src/special.jl:127\n",
       "[122] +(A::LinearAlgebra.Diagonal, B::LinearAlgebra.Bidiagonal) in LinearAlgebra at /usr/share/julia/stdlib/v1.4/LinearAlgebra/src/special.jl:137\n",
       "[123] +(A::LinearAlgebra.Diagonal, B::LinearAlgebra.SymTridiagonal) in LinearAlgebra at /usr/share/julia/stdlib/v1.4/LinearAlgebra/src/special.jl:147\n",
       "[124] +(A::LinearAlgebra.SymTridiagonal, B::LinearAlgebra.Diagonal) in LinearAlgebra at /usr/share/julia/stdlib/v1.4/LinearAlgebra/src/special.jl:157\n",
       "[125] +(A::LinearAlgebra.Tridiagonal, B::LinearAlgebra.SymTridiagonal) in LinearAlgebra at /usr/share/julia/stdlib/v1.4/LinearAlgebra/src/special.jl:168\n",
       "[126] +(A::LinearAlgebra.SymTridiagonal, B::LinearAlgebra.Tridiagonal) in LinearAlgebra at /usr/share/julia/stdlib/v1.4/LinearAlgebra/src/special.jl:170\n",
       "[127] +(A::LinearAlgebra.Diagonal, B::LinearAlgebra.Tridiagonal) in LinearAlgebra at /usr/share/julia/stdlib/v1.4/LinearAlgebra/src/special.jl:175\n",
       "[128] +(A::LinearAlgebra.Tridiagonal, B::LinearAlgebra.Diagonal) in LinearAlgebra at /usr/share/julia/stdlib/v1.4/LinearAlgebra/src/special.jl:185\n",
       "[129] +(A::LinearAlgebra.Bidiagonal, B::LinearAlgebra.Tridiagonal) in LinearAlgebra at /usr/share/julia/stdlib/v1.4/LinearAlgebra/src/special.jl:195\n",
       "[130] +(A::LinearAlgebra.Tridiagonal, B::LinearAlgebra.Bidiagonal) in LinearAlgebra at /usr/share/julia/stdlib/v1.4/LinearAlgebra/src/special.jl:205\n",
       "[131] +(A::LinearAlgebra.Bidiagonal, B::LinearAlgebra.SymTridiagonal) in LinearAlgebra at /usr/share/julia/stdlib/v1.4/LinearAlgebra/src/special.jl:215\n",
       "[132] +(A::LinearAlgebra.SymTridiagonal, B::LinearAlgebra.Bidiagonal) in LinearAlgebra at /usr/share/julia/stdlib/v1.4/LinearAlgebra/src/special.jl:225\n",
       "[133] +(A::SparseArrays.AbstractSparseMatrixCSC, B::SparseArrays.AbstractSparseMatrixCSC) in SparseArrays at /usr/share/julia/stdlib/v1.4/SparseArrays/src/sparsematrix.jl:1648\n",
       "[134] +(A::SparseArrays.AbstractSparseMatrixCSC, B::Array) in SparseArrays at /usr/share/julia/stdlib/v1.4/SparseArrays/src/sparsematrix.jl:1651\n",
       "[135] +(x::SparseArrays.AbstractSparseArray{Tv,Ti,1} where Ti where Tv, y::SparseArrays.AbstractSparseArray{Tv,Ti,1} where Ti where Tv) in SparseArrays at /usr/share/julia/stdlib/v1.4/SparseArrays/src/sparsevector.jl:1303\n",
       "[136] +(x::AbstractArray{#s69,N} where N where #s69<:Number) in Base at abstractarraymath.jl:97\n",
       "[137] +(A::AbstractArray, B::AbstractArray) in Base at arraymath.jl:38\n",
       "[138] +(x::T, y::Integer) where T<:AbstractChar in Base at char.jl:223\n",
       "[139] +(index1::CartesianIndex{N}, index2::CartesianIndex{N}) where N in Base.IteratorsMD at multidimensional.jl:111\n",
       "[140] +(::Number, ::Missing) in Base at missing.jl:116\n",
       "[141] +(x::P, y::P) where P<:Dates.Period in Dates at /usr/share/julia/stdlib/v1.4/Dates/src/periods.jl:75\n",
       "[142] +(x::Dates.Period, y::Dates.Period) in Dates at /usr/share/julia/stdlib/v1.4/Dates/src/periods.jl:338\n",
       "[143] +(y::Dates.Period, x::Dates.CompoundPeriod) in Dates at /usr/share/julia/stdlib/v1.4/Dates/src/periods.jl:340\n",
       "[144] +(x::Union{Dates.CompoundPeriod, Dates.Period}) in Dates at /usr/share/julia/stdlib/v1.4/Dates/src/periods.jl:349\n",
       "[145] +(x::Dates.TimeType) in Dates at /usr/share/julia/stdlib/v1.4/Dates/src/arithmetic.jl:8\n",
       "[146] +(a::Dates.TimeType, b::Dates.Period, c::Dates.Period) in Dates at /usr/share/julia/stdlib/v1.4/Dates/src/periods.jl:360\n",
       "[147] +(a::Dates.TimeType, b::Dates.Period, c::Dates.Period, d::Dates.Period...) in Dates at /usr/share/julia/stdlib/v1.4/Dates/src/periods.jl:361\n",
       "[148] +(x::Dates.TimeType, y::Dates.CompoundPeriod) in Dates at /usr/share/julia/stdlib/v1.4/Dates/src/periods.jl:364\n",
       "[149] +(x::Dates.Instant) in Dates at /usr/share/julia/stdlib/v1.4/Dates/src/arithmetic.jl:4\n",
       "[150] +(y::Dates.Period, x::Dates.TimeType) in Dates at /usr/share/julia/stdlib/v1.4/Dates/src/arithmetic.jl:80\n",
       "[151] +(x::Dates.Period, r::AbstractRange{#s664} where #s664<:Dates.TimeType) in Dates at /usr/share/julia/stdlib/v1.4/Dates/src/ranges.jl:58\n",
       "[152] +(x::AbstractArray{#s664,N} where N where #s664<:Dates.TimeType, y::Union{Dates.CompoundPeriod, Dates.Period}) in Dates at /usr/share/julia/stdlib/v1.4/Dates/src/deprecated.jl:8\n",
       "[153] +(y::Union{Dates.CompoundPeriod, Dates.Period}, x::AbstractArray{#s664,N} where N where #s664<:Dates.TimeType) in Dates at /usr/share/julia/stdlib/v1.4/Dates/src/deprecated.jl:16\n",
       "[154] +(y::Dates.TimeType, x::Union{DenseArray{#s664,N}, Base.ReinterpretArray{#s664,N,S,A} where S where A<:Union{SubArray{T,N,A,I,true} where I<:Union{Tuple{Vararg{Real,N} where N}, Tuple{AbstractUnitRange,Vararg{Any,N} where N}} where A<:DenseArray where N where T, DenseArray}, Base.ReshapedArray{#s664,N,A,MI} where MI<:Tuple{Vararg{Base.MultiplicativeInverses.SignedMultiplicativeInverse{Int64},N} where N} where A<:Union{Base.ReinterpretArray{T,N,S,A} where S where A<:Union{SubArray{T,N,A,I,true} where I<:Union{Tuple{Vararg{Real,N} where N}, Tuple{AbstractUnitRange,Vararg{Any,N} where N}} where A<:DenseArray where N where T, DenseArray} where N where T, SubArray{T,N,A,I,true} where I<:Union{Tuple{Vararg{Real,N} where N}, Tuple{AbstractUnitRange,Vararg{Any,N} where N}} where A<:DenseArray where N where T, DenseArray}, SubArray{#s664,N,A,I,L} where L where I<:Tuple{Vararg{Union{Int64, AbstractRange{Int64}, Base.AbstractCartesianIndex},N} where N} where A<:Union{Base.ReinterpretArray{T,N,S,A} where S where A<:Union{SubArray{T,N,A,I,true} where I<:Union{Tuple{Vararg{Real,N} where N}, Tuple{AbstractUnitRange,Vararg{Any,N} where N}} where A<:DenseArray where N where T, DenseArray} where N where T, Base.ReshapedArray{T,N,A,MI} where MI<:Tuple{Vararg{Base.MultiplicativeInverses.SignedMultiplicativeInverse{Int64},N} where N} where A<:Union{Base.ReinterpretArray{T,N,S,A} where S where A<:Union{SubArray{T,N,A,I,true} where I<:Union{Tuple{Vararg{Real,N} where N}, Tuple{AbstractUnitRange,Vararg{Any,N} where N}} where A<:DenseArray where N where T, DenseArray} where N where T, SubArray{T,N,A,I,true} where I<:Union{Tuple{Vararg{Real,N} where N}, Tuple{AbstractUnitRange,Vararg{Any,N} where N}} where A<:DenseArray where N where T, DenseArray} where N where T, DenseArray}} where N where #s664<:Union{Dates.CompoundPeriod, Dates.Period}) in Dates at /usr/share/julia/stdlib/v1.4/Dates/src/deprecated.jl:20\n",
       "[155] +(J::LinearAlgebra.UniformScaling, x::Number) in LinearAlgebra at /usr/share/julia/stdlib/v1.4/LinearAlgebra/src/uniformscaling.jl:109\n",
       "[156] +(x::Number, J::LinearAlgebra.UniformScaling) in LinearAlgebra at /usr/share/julia/stdlib/v1.4/LinearAlgebra/src/uniformscaling.jl:110\n",
       "[157] +(J1::LinearAlgebra.UniformScaling, J2::LinearAlgebra.UniformScaling) in LinearAlgebra at /usr/share/julia/stdlib/v1.4/LinearAlgebra/src/uniformscaling.jl:114\n",
       "[158] +(J::LinearAlgebra.UniformScaling, B::BitArray{2}) in LinearAlgebra at /usr/share/julia/stdlib/v1.4/LinearAlgebra/src/uniformscaling.jl:116\n",
       "[159] +(A::LinearAlgebra.UniformScaling, B::LinearAlgebra.Tridiagonal{#s664,V} where V<:AbstractArray{#s664,1} where #s664<:Number) in LinearAlgebra at /usr/share/julia/stdlib/v1.4/LinearAlgebra/src/special.jl:257\n",
       "[160] +(A::LinearAlgebra.UniformScaling, B::LinearAlgebra.SymTridiagonal{#s664,V} where V<:AbstractArray{#s664,1} where #s664<:Number) in LinearAlgebra at /usr/share/julia/stdlib/v1.4/LinearAlgebra/src/special.jl:262\n",
       "[161] +(A::LinearAlgebra.UniformScaling, B::LinearAlgebra.Bidiagonal{#s664,V} where V<:AbstractArray{#s664,1} where #s664<:Number) in LinearAlgebra at /usr/share/julia/stdlib/v1.4/LinearAlgebra/src/special.jl:267\n",
       "[162] +(A::LinearAlgebra.UniformScaling, B::LinearAlgebra.Diagonal{#s664,V} where V<:AbstractArray{#s664,1} where #s664<:Number) in LinearAlgebra at /usr/share/julia/stdlib/v1.4/LinearAlgebra/src/special.jl:272\n",
       "[163] +(J::LinearAlgebra.UniformScaling, A::AbstractArray{T,2} where T) in LinearAlgebra at /usr/share/julia/stdlib/v1.4/LinearAlgebra/src/uniformscaling.jl:117\n",
       "[164] +(F::LinearAlgebra.Hessenberg, J::LinearAlgebra.UniformScaling) in LinearAlgebra at /usr/share/julia/stdlib/v1.4/LinearAlgebra/src/hessenberg.jl:559\n",
       "[165] +(J::LinearAlgebra.UniformScaling, F::LinearAlgebra.Hessenberg) in LinearAlgebra at /usr/share/julia/stdlib/v1.4/LinearAlgebra/src/hessenberg.jl:560\n",
       "[166] +(a, b, c, xs...) in Base at operators.jl:529"
      ],
      "text/html": "# 166 methods for generic function <b>+</b>:<ul><li> +(x::<b>Bool</b>, z::<b>Complex{Bool}</b>) in Base at <a href=\"https://github.com/JuliaLang/julia/tree/v1.4.1/base/complex.jl#L286\" target=\"_blank\">complex.jl:286</a></li> <li> +(x::<b>Bool</b>, y::<b>Bool</b>) in Base at <a href=\"https://github.com/JuliaLang/julia/tree/v1.4.1/base/bool.jl#L96\" target=\"_blank\">bool.jl:96</a></li> <li> +(x::<b>Bool</b>) in Base at <a href=\"https://github.com/JuliaLang/julia/tree/v1.4.1/base/bool.jl#L93\" target=\"_blank\">bool.jl:93</a></li> <li> +(x::<b>Bool</b>, y::<b>T</b>)<i> where T<:AbstractFloat</i> in Base at <a href=\"https://github.com/JuliaLang/julia/tree/v1.4.1/base/bool.jl#L104\" target=\"_blank\">bool.jl:104</a></li> <li> +(x::<b>Bool</b>, z::<b>Complex</b>) in Base at <a href=\"https://github.com/JuliaLang/julia/tree/v1.4.1/base/complex.jl#L293\" target=\"_blank\">complex.jl:293</a></li> <li> +(a::<b>Float16</b>, b::<b>Float16</b>) in Base at <a href=\"https://github.com/JuliaLang/julia/tree/v1.4.1/base/float.jl#L398\" target=\"_blank\">float.jl:398</a></li> <li> +(x::<b>Float32</b>, y::<b>Float32</b>) in Base at <a href=\"https://github.com/JuliaLang/julia/tree/v1.4.1/base/float.jl#L400\" target=\"_blank\">float.jl:400</a></li> <li> +(x::<b>Float64</b>, y::<b>Float64</b>) in Base at <a href=\"https://github.com/JuliaLang/julia/tree/v1.4.1/base/float.jl#L401\" target=\"_blank\">float.jl:401</a></li> <li> +(z::<b>Complex{Bool}</b>, x::<b>Bool</b>) in Base at <a href=\"https://github.com/JuliaLang/julia/tree/v1.4.1/base/complex.jl#L287\" target=\"_blank\">complex.jl:287</a></li> <li> +(z::<b>Complex{Bool}</b>, x::<b>Real</b>) in Base at <a href=\"https://github.com/JuliaLang/julia/tree/v1.4.1/base/complex.jl#L301\" target=\"_blank\">complex.jl:301</a></li> <li> +(::<b>Missing</b>, ::<b>Missing</b>) in Base at <a href=\"https://github.com/JuliaLang/julia/tree/v1.4.1/base/missing.jl#L114\" target=\"_blank\">missing.jl:114</a></li> <li> +(::<b>Missing</b>) in Base at <a href=\"https://github.com/JuliaLang/julia/tree/v1.4.1/base/missing.jl#L100\" target=\"_blank\">missing.jl:100</a></li> <li> +(::<b>Missing</b>, ::<b>Number</b>) in Base at <a href=\"https://github.com/JuliaLang/julia/tree/v1.4.1/base/missing.jl#L115\" target=\"_blank\">missing.jl:115</a></li> <li> +(level::<b>Base.CoreLogging.LogLevel</b>, inc::<b>Integer</b>) in Base.CoreLogging at <a href=\"https://github.com/JuliaLang/julia/tree/v1.4.1/base/logging.jl#L107\" target=\"_blank\">logging.jl:107</a></li> <li> +(c::<b>BigInt</b>, x::<b>BigFloat</b>) in Base.MPFR at <a href=\"https://github.com/JuliaLang/julia/tree/v1.4.1/base/mpfr.jl#L414\" target=\"_blank\">mpfr.jl:414</a></li> <li> +(a::<b>BigInt</b>, b::<b>BigInt</b>, c::<b>BigInt</b>, d::<b>BigInt</b>, e::<b>BigInt</b>) in Base.GMP at <a href=\"https://github.com/JuliaLang/julia/tree/v1.4.1/base/gmp.jl#L515\" target=\"_blank\">gmp.jl:515</a></li> <li> +(a::<b>BigInt</b>, b::<b>BigInt</b>, c::<b>BigInt</b>, d::<b>BigInt</b>) in Base.GMP at <a href=\"https://github.com/JuliaLang/julia/tree/v1.4.1/base/gmp.jl#L514\" target=\"_blank\">gmp.jl:514</a></li> <li> +(a::<b>BigInt</b>, b::<b>BigInt</b>, c::<b>BigInt</b>) in Base.GMP at <a href=\"https://github.com/JuliaLang/julia/tree/v1.4.1/base/gmp.jl#L513\" target=\"_blank\">gmp.jl:513</a></li> <li> +(x::<b>BigInt</b>, y::<b>BigInt</b>) in Base.GMP at <a href=\"https://github.com/JuliaLang/julia/tree/v1.4.1/base/gmp.jl#L473\" target=\"_blank\">gmp.jl:473</a></li> <li> +(x::<b>BigInt</b>, c::<b>Union{UInt16, UInt32, UInt64, UInt8}</b>) in Base.GMP at <a href=\"https://github.com/JuliaLang/julia/tree/v1.4.1/base/gmp.jl#L521\" target=\"_blank\">gmp.jl:521</a></li> <li> +(x::<b>BigInt</b>, c::<b>Union{Int16, Int32, Int64, Int8}</b>) in Base.GMP at <a href=\"https://github.com/JuliaLang/julia/tree/v1.4.1/base/gmp.jl#L527\" target=\"_blank\">gmp.jl:527</a></li> <li> +(a::<b>BigFloat</b>, b::<b>BigFloat</b>, c::<b>BigFloat</b>, d::<b>BigFloat</b>, e::<b>BigFloat</b>) in Base.MPFR at <a href=\"https://github.com/JuliaLang/julia/tree/v1.4.1/base/mpfr.jl#L564\" target=\"_blank\">mpfr.jl:564</a></li> <li> +(a::<b>BigFloat</b>, b::<b>BigFloat</b>, c::<b>BigFloat</b>, d::<b>BigFloat</b>) in Base.MPFR at <a href=\"https://github.com/JuliaLang/julia/tree/v1.4.1/base/mpfr.jl#L557\" target=\"_blank\">mpfr.jl:557</a></li> <li> +(a::<b>BigFloat</b>, b::<b>BigFloat</b>, c::<b>BigFloat</b>) in Base.MPFR at <a href=\"https://github.com/JuliaLang/julia/tree/v1.4.1/base/mpfr.jl#L551\" target=\"_blank\">mpfr.jl:551</a></li> <li> +(x::<b>BigFloat</b>, c::<b>BigInt</b>) in Base.MPFR at <a href=\"https://github.com/JuliaLang/julia/tree/v1.4.1/base/mpfr.jl#L410\" target=\"_blank\">mpfr.jl:410</a></li> <li> +(x::<b>BigFloat</b>, y::<b>BigFloat</b>) in Base.MPFR at <a href=\"https://github.com/JuliaLang/julia/tree/v1.4.1/base/mpfr.jl#L379\" target=\"_blank\">mpfr.jl:379</a></li> <li> +(x::<b>BigFloat</b>, c::<b>Union{UInt16, UInt32, UInt64, UInt8}</b>) in Base.MPFR at <a href=\"https://github.com/JuliaLang/julia/tree/v1.4.1/base/mpfr.jl#L386\" target=\"_blank\">mpfr.jl:386</a></li> <li> +(x::<b>BigFloat</b>, c::<b>Union{Int16, Int32, Int64, Int8}</b>) in Base.MPFR at <a href=\"https://github.com/JuliaLang/julia/tree/v1.4.1/base/mpfr.jl#L394\" target=\"_blank\">mpfr.jl:394</a></li> <li> +(x::<b>BigFloat</b>, c::<b>Union{Float16, Float32, Float64}</b>) in Base.MPFR at <a href=\"https://github.com/JuliaLang/julia/tree/v1.4.1/base/mpfr.jl#L402\" target=\"_blank\">mpfr.jl:402</a></li> <li> +(x::<b>Dates.CompoundPeriod</b>, y::<b>Dates.CompoundPeriod</b>) in Dates at <a href=\"file:///build/julia-98cBbp/julia-1.4.1+dfsg/usr/share/julia/stdlib/v1.4/Dates/src/periods.jl\" target=\"_blank\">/usr/share/julia/stdlib/v1.4/Dates/src/periods.jl:341</a></li> <li> +(x::<b>Dates.CompoundPeriod</b>, y::<b>Dates.Period</b>) in Dates at <a href=\"file:///build/julia-98cBbp/julia-1.4.1+dfsg/usr/share/julia/stdlib/v1.4/Dates/src/periods.jl\" target=\"_blank\">/usr/share/julia/stdlib/v1.4/Dates/src/periods.jl:339</a></li> <li> +(x::<b>Dates.CompoundPeriod</b>, y::<b>Dates.TimeType</b>) in Dates at <a href=\"file:///build/julia-98cBbp/julia-1.4.1+dfsg/usr/share/julia/stdlib/v1.4/Dates/src/periods.jl\" target=\"_blank\">/usr/share/julia/stdlib/v1.4/Dates/src/periods.jl:369</a></li> <li> +(x::<b>Dates.Date</b>, y::<b>Dates.Day</b>) in Dates at <a href=\"file:///build/julia-98cBbp/julia-1.4.1+dfsg/usr/share/julia/stdlib/v1.4/Dates/src/arithmetic.jl\" target=\"_blank\">/usr/share/julia/stdlib/v1.4/Dates/src/arithmetic.jl:74</a></li> <li> +(x::<b>Dates.Date</b>, y::<b>Dates.Week</b>) in Dates at <a href=\"file:///build/julia-98cBbp/julia-1.4.1+dfsg/usr/share/julia/stdlib/v1.4/Dates/src/arithmetic.jl\" target=\"_blank\">/usr/share/julia/stdlib/v1.4/Dates/src/arithmetic.jl:72</a></li> <li> +(dt::<b>Dates.Date</b>, z::<b>Dates.Month</b>) in Dates at <a href=\"file:///build/julia-98cBbp/julia-1.4.1+dfsg/usr/share/julia/stdlib/v1.4/Dates/src/arithmetic.jl\" target=\"_blank\">/usr/share/julia/stdlib/v1.4/Dates/src/arithmetic.jl:55</a></li> <li> +(dt::<b>Dates.Date</b>, y::<b>Dates.Year</b>) in Dates at <a href=\"file:///build/julia-98cBbp/julia-1.4.1+dfsg/usr/share/julia/stdlib/v1.4/Dates/src/arithmetic.jl\" target=\"_blank\">/usr/share/julia/stdlib/v1.4/Dates/src/arithmetic.jl:28</a></li> <li> +(dt::<b>Dates.Date</b>, t::<b>Dates.Time</b>) in Dates at <a href=\"file:///build/julia-98cBbp/julia-1.4.1+dfsg/usr/share/julia/stdlib/v1.4/Dates/src/arithmetic.jl\" target=\"_blank\">/usr/share/julia/stdlib/v1.4/Dates/src/arithmetic.jl:19</a></li> <li> +(t::<b>Dates.Time</b>, dt::<b>Dates.Date</b>) in Dates at <a href=\"file:///build/julia-98cBbp/julia-1.4.1+dfsg/usr/share/julia/stdlib/v1.4/Dates/src/arithmetic.jl\" target=\"_blank\">/usr/share/julia/stdlib/v1.4/Dates/src/arithmetic.jl:20</a></li> <li> +(x::<b>Dates.Time</b>, y::<b>Dates.TimePeriod</b>) in Dates at <a href=\"file:///build/julia-98cBbp/julia-1.4.1+dfsg/usr/share/julia/stdlib/v1.4/Dates/src/arithmetic.jl\" target=\"_blank\">/usr/share/julia/stdlib/v1.4/Dates/src/arithmetic.jl:78</a></li> <li> +(dt::<b>Dates.DateTime</b>, z::<b>Dates.Month</b>) in Dates at <a href=\"file:///build/julia-98cBbp/julia-1.4.1+dfsg/usr/share/julia/stdlib/v1.4/Dates/src/arithmetic.jl\" target=\"_blank\">/usr/share/julia/stdlib/v1.4/Dates/src/arithmetic.jl:48</a></li> <li> +(dt::<b>Dates.DateTime</b>, y::<b>Dates.Year</b>) in Dates at <a href=\"file:///build/julia-98cBbp/julia-1.4.1+dfsg/usr/share/julia/stdlib/v1.4/Dates/src/arithmetic.jl\" target=\"_blank\">/usr/share/julia/stdlib/v1.4/Dates/src/arithmetic.jl:24</a></li> <li> +(x::<b>Dates.DateTime</b>, y::<b>Dates.Period</b>) in Dates at <a href=\"file:///build/julia-98cBbp/julia-1.4.1+dfsg/usr/share/julia/stdlib/v1.4/Dates/src/arithmetic.jl\" target=\"_blank\">/usr/share/julia/stdlib/v1.4/Dates/src/arithmetic.jl:76</a></li> <li> +(B::<b>BitArray{2}</b>, J::<b>LinearAlgebra.UniformScaling</b>) in LinearAlgebra at <a href=\"file:///build/julia-98cBbp/julia-1.4.1+dfsg/usr/share/julia/stdlib/v1.4/LinearAlgebra/src/uniformscaling.jl\" target=\"_blank\">/usr/share/julia/stdlib/v1.4/LinearAlgebra/src/uniformscaling.jl:115</a></li> <li> +(a::<b>Pkg.Resolve.VersionWeight</b>, b::<b>Pkg.Resolve.VersionWeight</b>) in Pkg.Resolve at <a href=\"file:///build/julia-98cBbp/julia-1.4.1+dfsg/usr/share/julia/stdlib/v1.4/Pkg/src/Resolve/versionweights.jl\" target=\"_blank\">/usr/share/julia/stdlib/v1.4/Pkg/src/Resolve/versionweights.jl:22</a></li> <li> +(a::<b>Pkg.Resolve.FieldValue</b>, b::<b>Pkg.Resolve.FieldValue</b>) in Pkg.Resolve at <a href=\"file:///build/julia-98cBbp/julia-1.4.1+dfsg/usr/share/julia/stdlib/v1.4/Pkg/src/Resolve/fieldvalues.jl\" target=\"_blank\">/usr/share/julia/stdlib/v1.4/Pkg/src/Resolve/fieldvalues.jl:43</a></li> <li> +(y::<b>AbstractFloat</b>, x::<b>Bool</b>) in Base at <a href=\"https://github.com/JuliaLang/julia/tree/v1.4.1/base/bool.jl#L106\" target=\"_blank\">bool.jl:106</a></li> <li> +(x::<b>T</b>, y::<b>T</b>)<i> where T<:Union{Int128, Int16, Int32, Int64, Int8, UInt128, UInt16, UInt32, UInt64, UInt8}</i> in Base at <a href=\"https://github.com/JuliaLang/julia/tree/v1.4.1/base/int.jl#L53\" target=\"_blank\">int.jl:53</a></li> <li> +(c::<b>Union{UInt16, UInt32, UInt64, UInt8}</b>, x::<b>BigInt</b>) in Base.GMP at <a href=\"https://github.com/JuliaLang/julia/tree/v1.4.1/base/gmp.jl#L522\" target=\"_blank\">gmp.jl:522</a></li> <li> +(c::<b>Union{Int16, Int32, Int64, Int8}</b>, x::<b>BigInt</b>) in Base.GMP at <a href=\"https://github.com/JuliaLang/julia/tree/v1.4.1/base/gmp.jl#L528\" target=\"_blank\">gmp.jl:528</a></li> <li> +(a::<b>Integer</b>, b::<b>Integer</b>) in Base at <a href=\"https://github.com/JuliaLang/julia/tree/v1.4.1/base/int.jl#L857\" target=\"_blank\">int.jl:857</a></li> <li> +(x::<b>Integer</b>, y::<b>Ptr</b>) in Base at <a href=\"https://github.com/JuliaLang/julia/tree/v1.4.1/base/pointer.jl#L161\" target=\"_blank\">pointer.jl:161</a></li> <li> +(z::<b>Complex</b>) in Base at <a href=\"https://github.com/JuliaLang/julia/tree/v1.4.1/base/complex.jl#L273\" target=\"_blank\">complex.jl:273</a></li> <li> +(z::<b>Complex</b>, w::<b>Complex</b>) in Base at <a href=\"https://github.com/JuliaLang/julia/tree/v1.4.1/base/complex.jl#L275\" target=\"_blank\">complex.jl:275</a></li> <li> +(z::<b>Complex</b>, x::<b>Bool</b>) in Base at <a href=\"https://github.com/JuliaLang/julia/tree/v1.4.1/base/complex.jl#L294\" target=\"_blank\">complex.jl:294</a></li> <li> +(x::<b>Rational</b>) in Base at <a href=\"https://github.com/JuliaLang/julia/tree/v1.4.1/base/rational.jl#L247\" target=\"_blank\">rational.jl:247</a></li> <li> +(x::<b>Real</b>, z::<b>Complex{Bool}</b>) in Base at <a href=\"https://github.com/JuliaLang/julia/tree/v1.4.1/base/complex.jl#L300\" target=\"_blank\">complex.jl:300</a></li> <li> +(x::<b>Real</b>, z::<b>Complex</b>) in Base at <a href=\"https://github.com/JuliaLang/julia/tree/v1.4.1/base/complex.jl#L312\" target=\"_blank\">complex.jl:312</a></li> <li> +(z::<b>Complex</b>, x::<b>Real</b>) in Base at <a href=\"https://github.com/JuliaLang/julia/tree/v1.4.1/base/complex.jl#L313\" target=\"_blank\">complex.jl:313</a></li> <li> +(x::<b>Rational</b>, y::<b>Rational</b>) in Base at <a href=\"https://github.com/JuliaLang/julia/tree/v1.4.1/base/rational.jl#L263\" target=\"_blank\">rational.jl:263</a></li> <li> +(x::<b>Integer</b>, y::<b>AbstractChar</b>) in Base at <a href=\"https://github.com/JuliaLang/julia/tree/v1.4.1/base/char.jl#L224\" target=\"_blank\">char.jl:224</a></li> <li> +(c::<b>Union{UInt16, UInt32, UInt64, UInt8}</b>, x::<b>BigFloat</b>) in Base.MPFR at <a href=\"https://github.com/JuliaLang/julia/tree/v1.4.1/base/mpfr.jl#L390\" target=\"_blank\">mpfr.jl:390</a></li> <li> +(c::<b>Union{Int16, Int32, Int64, Int8}</b>, x::<b>BigFloat</b>) in Base.MPFR at <a href=\"https://github.com/JuliaLang/julia/tree/v1.4.1/base/mpfr.jl#L398\" target=\"_blank\">mpfr.jl:398</a></li> <li> +(c::<b>Union{Float16, Float32, Float64}</b>, x::<b>BigFloat</b>) in Base.MPFR at <a href=\"https://github.com/JuliaLang/julia/tree/v1.4.1/base/mpfr.jl#L406\" target=\"_blank\">mpfr.jl:406</a></li> <li> +(x::<b>AbstractIrrational</b>, y::<b>AbstractIrrational</b>) in Base at <a href=\"https://github.com/JuliaLang/julia/tree/v1.4.1/base/irrationals.jl#L137\" target=\"_blank\">irrationals.jl:137</a></li> <li> +(x::<b>Number</b>) in Base at <a href=\"https://github.com/JuliaLang/julia/tree/v1.4.1/base/operators.jl#L504\" target=\"_blank\">operators.jl:504</a></li> <li> +(x::<b>T</b>, y::<b>T</b>)<i> where T<:Number</i> in Base at <a href=\"https://github.com/JuliaLang/julia/tree/v1.4.1/base/promotion.jl#L384\" target=\"_blank\">promotion.jl:384</a></li> <li> +(x::<b>Number</b>, y::<b>Number</b>) in Base at <a href=\"https://github.com/JuliaLang/julia/tree/v1.4.1/base/promotion.jl#L311\" target=\"_blank\">promotion.jl:311</a></li> <li> +(r1::<b>OrdinalRange</b>, r2::<b>OrdinalRange</b>) in Base at <a href=\"https://github.com/JuliaLang/julia/tree/v1.4.1/base/range.jl#L1011\" target=\"_blank\">range.jl:1011</a></li> <li> +(r1::<b>LinRange{T}</b>, r2::<b>LinRange{T}</b>)<i> where T</i> in Base at <a href=\"https://github.com/JuliaLang/julia/tree/v1.4.1/base/range.jl#L1018\" target=\"_blank\">range.jl:1018</a></li> <li> +(r1::<b>StepRangeLen{T,R,S} where S</b>, r2::<b>StepRangeLen{T,R,S} where S</b>)<i> where {R<:Base.TwicePrecision, T}</i> in Base at <a href=\"https://github.com/JuliaLang/julia/tree/v1.4.1/base/twiceprecision.jl#L557\" target=\"_blank\">twiceprecision.jl:557</a></li> <li> +(r1::<b>StepRangeLen{T,S,S1} where S1</b>, r2::<b>StepRangeLen{T,S,S1} where S1</b>)<i> where {T, S}</i> in Base at <a href=\"https://github.com/JuliaLang/julia/tree/v1.4.1/base/range.jl#L1034\" target=\"_blank\">range.jl:1034</a></li> <li> +(r1::<b>Union{LinRange, OrdinalRange, StepRangeLen}</b>, r2::<b>Union{LinRange, OrdinalRange, StepRangeLen}</b>) in Base at <a href=\"https://github.com/JuliaLang/julia/tree/v1.4.1/base/range.jl#L1026\" target=\"_blank\">range.jl:1026</a></li> <li> +(x::<b>Ptr</b>, y::<b>Integer</b>) in Base at <a href=\"https://github.com/JuliaLang/julia/tree/v1.4.1/base/pointer.jl#L159\" target=\"_blank\">pointer.jl:159</a></li> <li> +(x::<b>Base.TwicePrecision</b>, y::<b>Number</b>) in Base at <a href=\"https://github.com/JuliaLang/julia/tree/v1.4.1/base/twiceprecision.jl#L265\" target=\"_blank\">twiceprecision.jl:265</a></li> <li> +(x::<b>Number</b>, y::<b>Base.TwicePrecision</b>) in Base at <a href=\"https://github.com/JuliaLang/julia/tree/v1.4.1/base/twiceprecision.jl#L268\" target=\"_blank\">twiceprecision.jl:268</a></li> <li> +(x::<b>Base.TwicePrecision{T}</b>, y::<b>Base.TwicePrecision{T}</b>)<i> where T</i> in Base at <a href=\"https://github.com/JuliaLang/julia/tree/v1.4.1/base/twiceprecision.jl#L271\" target=\"_blank\">twiceprecision.jl:271</a></li> <li> +(x::<b>Base.TwicePrecision</b>, y::<b>Base.TwicePrecision</b>) in Base at <a href=\"https://github.com/JuliaLang/julia/tree/v1.4.1/base/twiceprecision.jl#L275\" target=\"_blank\">twiceprecision.jl:275</a></li> <li> +(A::<b>Array</b>, Bs::<b>Array...</b>) in Base at <a href=\"https://github.com/JuliaLang/julia/tree/v1.4.1/base/arraymath.jl#L44\" target=\"_blank\">arraymath.jl:44</a></li> <li> +(A::<b>BitArray</b>, B::<b>BitArray</b>) in Base at <a href=\"https://github.com/JuliaLang/julia/tree/v1.4.1/base/bitarray.jl#L1106\" target=\"_blank\">bitarray.jl:1106</a></li> <li> +(r::<b>AbstractRange{#s664} where #s664<:Dates.TimeType</b>, x::<b>Dates.Period</b>) in Dates at <a href=\"file:///build/julia-98cBbp/julia-1.4.1+dfsg/usr/share/julia/stdlib/v1.4/Dates/src/ranges.jl\" target=\"_blank\">/usr/share/julia/stdlib/v1.4/Dates/src/ranges.jl:59</a></li> <li> +(A::<b>Array</b>, B::<b>SparseArrays.AbstractSparseMatrixCSC</b>) in SparseArrays at <a href=\"file:///build/julia-98cBbp/julia-1.4.1+dfsg/usr/share/julia/stdlib/v1.4/SparseArrays/src/sparsematrix.jl\" target=\"_blank\">/usr/share/julia/stdlib/v1.4/SparseArrays/src/sparsematrix.jl:1652</a></li> <li> +(x::<b>Union{DenseArray{#s664,N}, Base.ReinterpretArray{#s664,N,S,A} where S where A<:Union{SubArray{T,N,A,I,true} where I<:Union{Tuple{Vararg{Real,N} where N}, Tuple{AbstractUnitRange,Vararg{Any,N} where N}} where A<:DenseArray where N where T, DenseArray}, Base.ReshapedArray{#s664,N,A,MI} where MI<:Tuple{Vararg{Base.MultiplicativeInverses.SignedMultiplicativeInverse{Int64},N} where N} where A<:Union{Base.ReinterpretArray{T,N,S,A} where S where A<:Union{SubArray{T,N,A,I,true} where I<:Union{Tuple{Vararg{Real,N} where N}, Tuple{AbstractUnitRange,Vararg{Any,N} where N}} where A<:DenseArray where N where T, DenseArray} where N where T, SubArray{T,N,A,I,true} where I<:Union{Tuple{Vararg{Real,N} where N}, Tuple{AbstractUnitRange,Vararg{Any,N} where N}} where A<:DenseArray where N where T, DenseArray}, SubArray{#s664,N,A,I,L} where L where I<:Tuple{Vararg{Union{Int64, AbstractRange{Int64}, Base.AbstractCartesianIndex},N} where N} where A<:Union{Base.ReinterpretArray{T,N,S,A} where S where A<:Union{SubArray{T,N,A,I,true} where I<:Union{Tuple{Vararg{Real,N} where N}, Tuple{AbstractUnitRange,Vararg{Any,N} where N}} where A<:DenseArray where N where T, DenseArray} where N where T, Base.ReshapedArray{T,N,A,MI} where MI<:Tuple{Vararg{Base.MultiplicativeInverses.SignedMultiplicativeInverse{Int64},N} where N} where A<:Union{Base.ReinterpretArray{T,N,S,A} where S where A<:Union{SubArray{T,N,A,I,true} where I<:Union{Tuple{Vararg{Real,N} where N}, Tuple{AbstractUnitRange,Vararg{Any,N} where N}} where A<:DenseArray where N where T, DenseArray} where N where T, SubArray{T,N,A,I,true} where I<:Union{Tuple{Vararg{Real,N} where N}, Tuple{AbstractUnitRange,Vararg{Any,N} where N}} where A<:DenseArray where N where T, DenseArray} where N where T, DenseArray}} where N where #s664<:Union{Dates.CompoundPeriod, Dates.Period}</b>) in Dates at <a href=\"file:///build/julia-98cBbp/julia-1.4.1+dfsg/usr/share/julia/stdlib/v1.4/Dates/src/deprecated.jl\" target=\"_blank\">/usr/share/julia/stdlib/v1.4/Dates/src/deprecated.jl:57</a></li> <li> +(x::<b>Union{DenseArray{#s664,N}, Base.ReinterpretArray{#s664,N,S,A} where S where A<:Union{SubArray{T,N,A,I,true} where I<:Union{Tuple{Vararg{Real,N} where N}, Tuple{AbstractUnitRange,Vararg{Any,N} where N}} where A<:DenseArray where N where T, DenseArray}, Base.ReshapedArray{#s664,N,A,MI} where MI<:Tuple{Vararg{Base.MultiplicativeInverses.SignedMultiplicativeInverse{Int64},N} where N} where A<:Union{Base.ReinterpretArray{T,N,S,A} where S where A<:Union{SubArray{T,N,A,I,true} where I<:Union{Tuple{Vararg{Real,N} where N}, Tuple{AbstractUnitRange,Vararg{Any,N} where N}} where A<:DenseArray where N where T, DenseArray} where N where T, SubArray{T,N,A,I,true} where I<:Union{Tuple{Vararg{Real,N} where N}, Tuple{AbstractUnitRange,Vararg{Any,N} where N}} where A<:DenseArray where N where T, DenseArray}, SubArray{#s664,N,A,I,L} where L where I<:Tuple{Vararg{Union{Int64, AbstractRange{Int64}, Base.AbstractCartesianIndex},N} where N} where A<:Union{Base.ReinterpretArray{T,N,S,A} where S where A<:Union{SubArray{T,N,A,I,true} where I<:Union{Tuple{Vararg{Real,N} where N}, Tuple{AbstractUnitRange,Vararg{Any,N} where N}} where A<:DenseArray where N where T, DenseArray} where N where T, Base.ReshapedArray{T,N,A,MI} where MI<:Tuple{Vararg{Base.MultiplicativeInverses.SignedMultiplicativeInverse{Int64},N} where N} where A<:Union{Base.ReinterpretArray{T,N,S,A} where S where A<:Union{SubArray{T,N,A,I,true} where I<:Union{Tuple{Vararg{Real,N} where N}, Tuple{AbstractUnitRange,Vararg{Any,N} where N}} where A<:DenseArray where N where T, DenseArray} where N where T, SubArray{T,N,A,I,true} where I<:Union{Tuple{Vararg{Real,N} where N}, Tuple{AbstractUnitRange,Vararg{Any,N} where N}} where A<:DenseArray where N where T, DenseArray} where N where T, DenseArray}} where N where #s664<:Union{Dates.CompoundPeriod, Dates.Period}</b>, y::<b>Dates.TimeType</b>) in Dates at <a href=\"file:///build/julia-98cBbp/julia-1.4.1+dfsg/usr/share/julia/stdlib/v1.4/Dates/src/deprecated.jl\" target=\"_blank\">/usr/share/julia/stdlib/v1.4/Dates/src/deprecated.jl:12</a></li> <li> +(X::<b>Union{DenseArray{#s664,N}, Base.ReinterpretArray{#s664,N,S,A} where S where A<:Union{SubArray{T,N,A,I,true} where I<:Union{Tuple{Vararg{Real,N} where N}, Tuple{AbstractUnitRange,Vararg{Any,N} where N}} where A<:DenseArray where N where T, DenseArray}, Base.ReshapedArray{#s664,N,A,MI} where MI<:Tuple{Vararg{Base.MultiplicativeInverses.SignedMultiplicativeInverse{Int64},N} where N} where A<:Union{Base.ReinterpretArray{T,N,S,A} where S where A<:Union{SubArray{T,N,A,I,true} where I<:Union{Tuple{Vararg{Real,N} where N}, Tuple{AbstractUnitRange,Vararg{Any,N} where N}} where A<:DenseArray where N where T, DenseArray} where N where T, SubArray{T,N,A,I,true} where I<:Union{Tuple{Vararg{Real,N} where N}, Tuple{AbstractUnitRange,Vararg{Any,N} where N}} where A<:DenseArray where N where T, DenseArray}, SubArray{#s664,N,A,I,L} where L where I<:Tuple{Vararg{Union{Int64, AbstractRange{Int64}, Base.AbstractCartesianIndex},N} where N} where A<:Union{Base.ReinterpretArray{T,N,S,A} where S where A<:Union{SubArray{T,N,A,I,true} where I<:Union{Tuple{Vararg{Real,N} where N}, Tuple{AbstractUnitRange,Vararg{Any,N} where N}} where A<:DenseArray where N where T, DenseArray} where N where T, Base.ReshapedArray{T,N,A,MI} where MI<:Tuple{Vararg{Base.MultiplicativeInverses.SignedMultiplicativeInverse{Int64},N} where N} where A<:Union{Base.ReinterpretArray{T,N,S,A} where S where A<:Union{SubArray{T,N,A,I,true} where I<:Union{Tuple{Vararg{Real,N} where N}, Tuple{AbstractUnitRange,Vararg{Any,N} where N}} where A<:DenseArray where N where T, DenseArray} where N where T, SubArray{T,N,A,I,true} where I<:Union{Tuple{Vararg{Real,N} where N}, Tuple{AbstractUnitRange,Vararg{Any,N} where N}} where A<:DenseArray where N where T, DenseArray} where N where T, DenseArray}} where N where #s664<:Union{Dates.CompoundPeriod, Dates.Period}</b>, Y::<b>Union{DenseArray{#s663,N}, Base.ReinterpretArray{#s663,N,S,A} where S where A<:Union{SubArray{T,N,A,I,true} where I<:Union{Tuple{Vararg{Real,N} where N}, Tuple{AbstractUnitRange,Vararg{Any,N} where N}} where A<:DenseArray where N where T, DenseArray}, Base.ReshapedArray{#s663,N,A,MI} where MI<:Tuple{Vararg{Base.MultiplicativeInverses.SignedMultiplicativeInverse{Int64},N} where N} where A<:Union{Base.ReinterpretArray{T,N,S,A} where S where A<:Union{SubArray{T,N,A,I,true} where I<:Union{Tuple{Vararg{Real,N} where N}, Tuple{AbstractUnitRange,Vararg{Any,N} where N}} where A<:DenseArray where N where T, DenseArray} where N where T, SubArray{T,N,A,I,true} where I<:Union{Tuple{Vararg{Real,N} where N}, Tuple{AbstractUnitRange,Vararg{Any,N} where N}} where A<:DenseArray where N where T, DenseArray}, SubArray{#s663,N,A,I,L} where L where I<:Tuple{Vararg{Union{Int64, AbstractRange{Int64}, Base.AbstractCartesianIndex},N} where N} where A<:Union{Base.ReinterpretArray{T,N,S,A} where S where A<:Union{SubArray{T,N,A,I,true} where I<:Union{Tuple{Vararg{Real,N} where N}, Tuple{AbstractUnitRange,Vararg{Any,N} where N}} where A<:DenseArray where N where T, DenseArray} where N where T, Base.ReshapedArray{T,N,A,MI} where MI<:Tuple{Vararg{Base.MultiplicativeInverses.SignedMultiplicativeInverse{Int64},N} where N} where A<:Union{Base.ReinterpretArray{T,N,S,A} where S where A<:Union{SubArray{T,N,A,I,true} where I<:Union{Tuple{Vararg{Real,N} where N}, Tuple{AbstractUnitRange,Vararg{Any,N} where N}} where A<:DenseArray where N where T, DenseArray} where N where T, SubArray{T,N,A,I,true} where I<:Union{Tuple{Vararg{Real,N} where N}, Tuple{AbstractUnitRange,Vararg{Any,N} where N}} where A<:DenseArray where N where T, DenseArray} where N where T, DenseArray}} where N where #s663<:Union{Dates.CompoundPeriod, Dates.Period}</b>) in Dates at <a href=\"file:///build/julia-98cBbp/julia-1.4.1+dfsg/usr/share/julia/stdlib/v1.4/Dates/src/deprecated.jl\" target=\"_blank\">/usr/share/julia/stdlib/v1.4/Dates/src/deprecated.jl:64</a></li> <li> +(A::<b>LinearAlgebra.SymTridiagonal</b>, B::<b>LinearAlgebra.SymTridiagonal</b>) in LinearAlgebra at <a href=\"file:///build/julia-98cBbp/julia-1.4.1+dfsg/usr/share/julia/stdlib/v1.4/LinearAlgebra/src/tridiag.jl\" target=\"_blank\">/usr/share/julia/stdlib/v1.4/LinearAlgebra/src/tridiag.jl:158</a></li> <li> +(A::<b>LinearAlgebra.Tridiagonal</b>, B::<b>LinearAlgebra.Tridiagonal</b>) in LinearAlgebra at <a href=\"file:///build/julia-98cBbp/julia-1.4.1+dfsg/usr/share/julia/stdlib/v1.4/LinearAlgebra/src/tridiag.jl\" target=\"_blank\">/usr/share/julia/stdlib/v1.4/LinearAlgebra/src/tridiag.jl:657</a></li> <li> +(A::<b>LinearAlgebra.UpperTriangular</b>, B::<b>LinearAlgebra.UpperTriangular</b>) in LinearAlgebra at <a href=\"file:///build/julia-98cBbp/julia-1.4.1+dfsg/usr/share/julia/stdlib/v1.4/LinearAlgebra/src/triangular.jl\" target=\"_blank\">/usr/share/julia/stdlib/v1.4/LinearAlgebra/src/triangular.jl:648</a></li> <li> +(A::<b>LinearAlgebra.LowerTriangular</b>, B::<b>LinearAlgebra.LowerTriangular</b>) in LinearAlgebra at <a href=\"file:///build/julia-98cBbp/julia-1.4.1+dfsg/usr/share/julia/stdlib/v1.4/LinearAlgebra/src/triangular.jl\" target=\"_blank\">/usr/share/julia/stdlib/v1.4/LinearAlgebra/src/triangular.jl:649</a></li> <li> +(A::<b>LinearAlgebra.UpperTriangular</b>, B::<b>LinearAlgebra.UnitUpperTriangular</b>) in LinearAlgebra at <a href=\"file:///build/julia-98cBbp/julia-1.4.1+dfsg/usr/share/julia/stdlib/v1.4/LinearAlgebra/src/triangular.jl\" target=\"_blank\">/usr/share/julia/stdlib/v1.4/LinearAlgebra/src/triangular.jl:650</a></li> <li> +(A::<b>LinearAlgebra.LowerTriangular</b>, B::<b>LinearAlgebra.UnitLowerTriangular</b>) in LinearAlgebra at <a href=\"file:///build/julia-98cBbp/julia-1.4.1+dfsg/usr/share/julia/stdlib/v1.4/LinearAlgebra/src/triangular.jl\" target=\"_blank\">/usr/share/julia/stdlib/v1.4/LinearAlgebra/src/triangular.jl:651</a></li> <li> +(A::<b>LinearAlgebra.UnitUpperTriangular</b>, B::<b>LinearAlgebra.UpperTriangular</b>) in LinearAlgebra at <a href=\"file:///build/julia-98cBbp/julia-1.4.1+dfsg/usr/share/julia/stdlib/v1.4/LinearAlgebra/src/triangular.jl\" target=\"_blank\">/usr/share/julia/stdlib/v1.4/LinearAlgebra/src/triangular.jl:652</a></li> <li> +(A::<b>LinearAlgebra.UnitLowerTriangular</b>, B::<b>LinearAlgebra.LowerTriangular</b>) in LinearAlgebra at <a href=\"file:///build/julia-98cBbp/julia-1.4.1+dfsg/usr/share/julia/stdlib/v1.4/LinearAlgebra/src/triangular.jl\" target=\"_blank\">/usr/share/julia/stdlib/v1.4/LinearAlgebra/src/triangular.jl:653</a></li> <li> +(A::<b>LinearAlgebra.UnitUpperTriangular</b>, B::<b>LinearAlgebra.UnitUpperTriangular</b>) in LinearAlgebra at <a href=\"file:///build/julia-98cBbp/julia-1.4.1+dfsg/usr/share/julia/stdlib/v1.4/LinearAlgebra/src/triangular.jl\" target=\"_blank\">/usr/share/julia/stdlib/v1.4/LinearAlgebra/src/triangular.jl:654</a></li> <li> +(A::<b>LinearAlgebra.UnitLowerTriangular</b>, B::<b>LinearAlgebra.UnitLowerTriangular</b>) in LinearAlgebra at <a href=\"file:///build/julia-98cBbp/julia-1.4.1+dfsg/usr/share/julia/stdlib/v1.4/LinearAlgebra/src/triangular.jl\" target=\"_blank\">/usr/share/julia/stdlib/v1.4/LinearAlgebra/src/triangular.jl:655</a></li> <li> +(A::<b>LinearAlgebra.AbstractTriangular</b>, B::<b>LinearAlgebra.AbstractTriangular</b>) in LinearAlgebra at <a href=\"file:///build/julia-98cBbp/julia-1.4.1+dfsg/usr/share/julia/stdlib/v1.4/LinearAlgebra/src/triangular.jl\" target=\"_blank\">/usr/share/julia/stdlib/v1.4/LinearAlgebra/src/triangular.jl:656</a></li> <li> +(A::<b>LinearAlgebra.Symmetric</b>, B::<b>LinearAlgebra.Symmetric</b>) in LinearAlgebra at <a href=\"file:///build/julia-98cBbp/julia-1.4.1+dfsg/usr/share/julia/stdlib/v1.4/LinearAlgebra/src/symmetric.jl\" target=\"_blank\">/usr/share/julia/stdlib/v1.4/LinearAlgebra/src/symmetric.jl:465</a></li> <li> +(A::<b>LinearAlgebra.Hermitian</b>, B::<b>LinearAlgebra.Hermitian</b>) in LinearAlgebra at <a href=\"file:///build/julia-98cBbp/julia-1.4.1+dfsg/usr/share/julia/stdlib/v1.4/LinearAlgebra/src/symmetric.jl\" target=\"_blank\">/usr/share/julia/stdlib/v1.4/LinearAlgebra/src/symmetric.jl:466</a></li> <li> +(A::<b>LinearAlgebra.Hermitian</b>, B::<b>LinearAlgebra.Symmetric{#s664,S} where S<:(AbstractArray{#s6641,2} where #s6641<:#s664) where #s664<:Real</b>) in LinearAlgebra at <a href=\"file:///build/julia-98cBbp/julia-1.4.1+dfsg/usr/share/julia/stdlib/v1.4/LinearAlgebra/src/symmetric.jl\" target=\"_blank\">/usr/share/julia/stdlib/v1.4/LinearAlgebra/src/symmetric.jl:467</a></li> <li> +(A::<b>LinearAlgebra.Symmetric{#s664,S} where S<:(AbstractArray{#s6641,2} where #s6641<:#s664) where #s664<:Real</b>, B::<b>LinearAlgebra.Hermitian</b>) in LinearAlgebra at <a href=\"file:///build/julia-98cBbp/julia-1.4.1+dfsg/usr/share/julia/stdlib/v1.4/LinearAlgebra/src/symmetric.jl\" target=\"_blank\">/usr/share/julia/stdlib/v1.4/LinearAlgebra/src/symmetric.jl:468</a></li> <li> +(Da::<b>LinearAlgebra.Diagonal</b>, Db::<b>LinearAlgebra.Diagonal</b>) in LinearAlgebra at <a href=\"file:///build/julia-98cBbp/julia-1.4.1+dfsg/usr/share/julia/stdlib/v1.4/LinearAlgebra/src/diagonal.jl\" target=\"_blank\">/usr/share/julia/stdlib/v1.4/LinearAlgebra/src/diagonal.jl:156</a></li> <li> +(A::<b>LinearAlgebra.Bidiagonal</b>, B::<b>LinearAlgebra.Bidiagonal</b>) in LinearAlgebra at <a href=\"file:///build/julia-98cBbp/julia-1.4.1+dfsg/usr/share/julia/stdlib/v1.4/LinearAlgebra/src/bidiag.jl\" target=\"_blank\">/usr/share/julia/stdlib/v1.4/LinearAlgebra/src/bidiag.jl:309</a></li> <li> +(UL::<b>LinearAlgebra.UnitUpperTriangular</b>, J::<b>LinearAlgebra.UniformScaling</b>) in LinearAlgebra at <a href=\"file:///build/julia-98cBbp/julia-1.4.1+dfsg/usr/share/julia/stdlib/v1.4/LinearAlgebra/src/uniformscaling.jl\" target=\"_blank\">/usr/share/julia/stdlib/v1.4/LinearAlgebra/src/uniformscaling.jl:131</a></li> <li> +(UL::<b>LinearAlgebra.UnitLowerTriangular</b>, J::<b>LinearAlgebra.UniformScaling</b>) in LinearAlgebra at <a href=\"file:///build/julia-98cBbp/julia-1.4.1+dfsg/usr/share/julia/stdlib/v1.4/LinearAlgebra/src/uniformscaling.jl\" target=\"_blank\">/usr/share/julia/stdlib/v1.4/LinearAlgebra/src/uniformscaling.jl:131</a></li> <li> +(A::<b>LinearAlgebra.Hermitian</b>, J::<b>LinearAlgebra.UniformScaling{#s664} where #s664<:Complex</b>) in LinearAlgebra at <a href=\"file:///build/julia-98cBbp/julia-1.4.1+dfsg/usr/share/julia/stdlib/v1.4/LinearAlgebra/src/uniformscaling.jl\" target=\"_blank\">/usr/share/julia/stdlib/v1.4/LinearAlgebra/src/uniformscaling.jl:145</a></li> <li> +(H::<b>LinearAlgebra.UpperHessenberg</b>, J::<b>LinearAlgebra.UniformScaling</b>) in LinearAlgebra at <a href=\"file:///build/julia-98cBbp/julia-1.4.1+dfsg/usr/share/julia/stdlib/v1.4/LinearAlgebra/src/hessenberg.jl\" target=\"_blank\">/usr/share/julia/stdlib/v1.4/LinearAlgebra/src/hessenberg.jl:106</a></li> <li> +(A::<b>LinearAlgebra.Tridiagonal{#s664,V} where V<:AbstractArray{#s664,1} where #s664<:Number</b>, B::<b>LinearAlgebra.UniformScaling</b>) in LinearAlgebra at <a href=\"file:///build/julia-98cBbp/julia-1.4.1+dfsg/usr/share/julia/stdlib/v1.4/LinearAlgebra/src/special.jl\" target=\"_blank\">/usr/share/julia/stdlib/v1.4/LinearAlgebra/src/special.jl:238</a></li> <li> +(A::<b>LinearAlgebra.SymTridiagonal{#s664,V} where V<:AbstractArray{#s664,1} where #s664<:Number</b>, B::<b>LinearAlgebra.UniformScaling</b>) in LinearAlgebra at <a href=\"file:///build/julia-98cBbp/julia-1.4.1+dfsg/usr/share/julia/stdlib/v1.4/LinearAlgebra/src/special.jl\" target=\"_blank\">/usr/share/julia/stdlib/v1.4/LinearAlgebra/src/special.jl:243</a></li> <li> +(A::<b>LinearAlgebra.Bidiagonal{#s664,V} where V<:AbstractArray{#s664,1} where #s664<:Number</b>, B::<b>LinearAlgebra.UniformScaling</b>) in LinearAlgebra at <a href=\"file:///build/julia-98cBbp/julia-1.4.1+dfsg/usr/share/julia/stdlib/v1.4/LinearAlgebra/src/special.jl\" target=\"_blank\">/usr/share/julia/stdlib/v1.4/LinearAlgebra/src/special.jl:248</a></li> <li> +(A::<b>LinearAlgebra.Diagonal{#s664,V} where V<:AbstractArray{#s664,1} where #s664<:Number</b>, B::<b>LinearAlgebra.UniformScaling</b>) in LinearAlgebra at <a href=\"file:///build/julia-98cBbp/julia-1.4.1+dfsg/usr/share/julia/stdlib/v1.4/LinearAlgebra/src/special.jl\" target=\"_blank\">/usr/share/julia/stdlib/v1.4/LinearAlgebra/src/special.jl:253</a></li> <li> +(A::<b>SparseArrays.AbstractSparseMatrixCSC</b>, J::<b>LinearAlgebra.UniformScaling</b>) in SparseArrays at <a href=\"file:///build/julia-98cBbp/julia-1.4.1+dfsg/usr/share/julia/stdlib/v1.4/SparseArrays/src/sparsematrix.jl\" target=\"_blank\">/usr/share/julia/stdlib/v1.4/SparseArrays/src/sparsematrix.jl:3610</a></li> <li> +(A::<b>AbstractArray{T,2} where T</b>, J::<b>LinearAlgebra.UniformScaling</b>) in LinearAlgebra at <a href=\"file:///build/julia-98cBbp/julia-1.4.1+dfsg/usr/share/julia/stdlib/v1.4/LinearAlgebra/src/uniformscaling.jl\" target=\"_blank\">/usr/share/julia/stdlib/v1.4/LinearAlgebra/src/uniformscaling.jl:164</a></li> <li> +(A::<b>LinearAlgebra.UpperHessenberg</b>, B::<b>LinearAlgebra.UpperHessenberg</b>) in LinearAlgebra at <a href=\"file:///build/julia-98cBbp/julia-1.4.1+dfsg/usr/share/julia/stdlib/v1.4/LinearAlgebra/src/hessenberg.jl\" target=\"_blank\">/usr/share/julia/stdlib/v1.4/LinearAlgebra/src/hessenberg.jl:101</a></li> <li> +(A::<b>LinearAlgebra.UpperTriangular</b>, B::<b>LinearAlgebra.Bidiagonal</b>) in LinearAlgebra at <a href=\"file:///build/julia-98cBbp/julia-1.4.1+dfsg/usr/share/julia/stdlib/v1.4/LinearAlgebra/src/special.jl\" target=\"_blank\">/usr/share/julia/stdlib/v1.4/LinearAlgebra/src/special.jl:98</a></li> <li> +(A::<b>LinearAlgebra.Bidiagonal</b>, B::<b>LinearAlgebra.UpperTriangular</b>) in LinearAlgebra at <a href=\"file:///build/julia-98cBbp/julia-1.4.1+dfsg/usr/share/julia/stdlib/v1.4/LinearAlgebra/src/special.jl\" target=\"_blank\">/usr/share/julia/stdlib/v1.4/LinearAlgebra/src/special.jl:106</a></li> <li> +(A::<b>LinearAlgebra.UnitUpperTriangular</b>, B::<b>LinearAlgebra.Bidiagonal</b>) in LinearAlgebra at <a href=\"file:///build/julia-98cBbp/julia-1.4.1+dfsg/usr/share/julia/stdlib/v1.4/LinearAlgebra/src/special.jl\" target=\"_blank\">/usr/share/julia/stdlib/v1.4/LinearAlgebra/src/special.jl:98</a></li> <li> +(A::<b>LinearAlgebra.Bidiagonal</b>, B::<b>LinearAlgebra.UnitUpperTriangular</b>) in LinearAlgebra at <a href=\"file:///build/julia-98cBbp/julia-1.4.1+dfsg/usr/share/julia/stdlib/v1.4/LinearAlgebra/src/special.jl\" target=\"_blank\">/usr/share/julia/stdlib/v1.4/LinearAlgebra/src/special.jl:106</a></li> <li> +(A::<b>LinearAlgebra.LowerTriangular</b>, B::<b>LinearAlgebra.Bidiagonal</b>) in LinearAlgebra at <a href=\"file:///build/julia-98cBbp/julia-1.4.1+dfsg/usr/share/julia/stdlib/v1.4/LinearAlgebra/src/special.jl\" target=\"_blank\">/usr/share/julia/stdlib/v1.4/LinearAlgebra/src/special.jl:98</a></li> <li> +(A::<b>LinearAlgebra.Bidiagonal</b>, B::<b>LinearAlgebra.LowerTriangular</b>) in LinearAlgebra at <a href=\"file:///build/julia-98cBbp/julia-1.4.1+dfsg/usr/share/julia/stdlib/v1.4/LinearAlgebra/src/special.jl\" target=\"_blank\">/usr/share/julia/stdlib/v1.4/LinearAlgebra/src/special.jl:106</a></li> <li> +(A::<b>LinearAlgebra.UnitLowerTriangular</b>, B::<b>LinearAlgebra.Bidiagonal</b>) in LinearAlgebra at <a href=\"file:///build/julia-98cBbp/julia-1.4.1+dfsg/usr/share/julia/stdlib/v1.4/LinearAlgebra/src/special.jl\" target=\"_blank\">/usr/share/julia/stdlib/v1.4/LinearAlgebra/src/special.jl:98</a></li> <li> +(A::<b>LinearAlgebra.Bidiagonal</b>, B::<b>LinearAlgebra.UnitLowerTriangular</b>) in LinearAlgebra at <a href=\"file:///build/julia-98cBbp/julia-1.4.1+dfsg/usr/share/julia/stdlib/v1.4/LinearAlgebra/src/special.jl\" target=\"_blank\">/usr/share/julia/stdlib/v1.4/LinearAlgebra/src/special.jl:106</a></li> <li> +(A::<b>LinearAlgebra.Bidiagonal</b>, B::<b>LinearAlgebra.Diagonal</b>) in LinearAlgebra at <a href=\"file:///build/julia-98cBbp/julia-1.4.1+dfsg/usr/share/julia/stdlib/v1.4/LinearAlgebra/src/special.jl\" target=\"_blank\">/usr/share/julia/stdlib/v1.4/LinearAlgebra/src/special.jl:127</a></li> <li> +(A::<b>LinearAlgebra.Diagonal</b>, B::<b>LinearAlgebra.Bidiagonal</b>) in LinearAlgebra at <a href=\"file:///build/julia-98cBbp/julia-1.4.1+dfsg/usr/share/julia/stdlib/v1.4/LinearAlgebra/src/special.jl\" target=\"_blank\">/usr/share/julia/stdlib/v1.4/LinearAlgebra/src/special.jl:137</a></li> <li> +(A::<b>LinearAlgebra.Diagonal</b>, B::<b>LinearAlgebra.SymTridiagonal</b>) in LinearAlgebra at <a href=\"file:///build/julia-98cBbp/julia-1.4.1+dfsg/usr/share/julia/stdlib/v1.4/LinearAlgebra/src/special.jl\" target=\"_blank\">/usr/share/julia/stdlib/v1.4/LinearAlgebra/src/special.jl:147</a></li> <li> +(A::<b>LinearAlgebra.SymTridiagonal</b>, B::<b>LinearAlgebra.Diagonal</b>) in LinearAlgebra at <a href=\"file:///build/julia-98cBbp/julia-1.4.1+dfsg/usr/share/julia/stdlib/v1.4/LinearAlgebra/src/special.jl\" target=\"_blank\">/usr/share/julia/stdlib/v1.4/LinearAlgebra/src/special.jl:157</a></li> <li> +(A::<b>LinearAlgebra.Tridiagonal</b>, B::<b>LinearAlgebra.SymTridiagonal</b>) in LinearAlgebra at <a href=\"file:///build/julia-98cBbp/julia-1.4.1+dfsg/usr/share/julia/stdlib/v1.4/LinearAlgebra/src/special.jl\" target=\"_blank\">/usr/share/julia/stdlib/v1.4/LinearAlgebra/src/special.jl:168</a></li> <li> +(A::<b>LinearAlgebra.SymTridiagonal</b>, B::<b>LinearAlgebra.Tridiagonal</b>) in LinearAlgebra at <a href=\"file:///build/julia-98cBbp/julia-1.4.1+dfsg/usr/share/julia/stdlib/v1.4/LinearAlgebra/src/special.jl\" target=\"_blank\">/usr/share/julia/stdlib/v1.4/LinearAlgebra/src/special.jl:170</a></li> <li> +(A::<b>LinearAlgebra.Diagonal</b>, B::<b>LinearAlgebra.Tridiagonal</b>) in LinearAlgebra at <a href=\"file:///build/julia-98cBbp/julia-1.4.1+dfsg/usr/share/julia/stdlib/v1.4/LinearAlgebra/src/special.jl\" target=\"_blank\">/usr/share/julia/stdlib/v1.4/LinearAlgebra/src/special.jl:175</a></li> <li> +(A::<b>LinearAlgebra.Tridiagonal</b>, B::<b>LinearAlgebra.Diagonal</b>) in LinearAlgebra at <a href=\"file:///build/julia-98cBbp/julia-1.4.1+dfsg/usr/share/julia/stdlib/v1.4/LinearAlgebra/src/special.jl\" target=\"_blank\">/usr/share/julia/stdlib/v1.4/LinearAlgebra/src/special.jl:185</a></li> <li> +(A::<b>LinearAlgebra.Bidiagonal</b>, B::<b>LinearAlgebra.Tridiagonal</b>) in LinearAlgebra at <a href=\"file:///build/julia-98cBbp/julia-1.4.1+dfsg/usr/share/julia/stdlib/v1.4/LinearAlgebra/src/special.jl\" target=\"_blank\">/usr/share/julia/stdlib/v1.4/LinearAlgebra/src/special.jl:195</a></li> <li> +(A::<b>LinearAlgebra.Tridiagonal</b>, B::<b>LinearAlgebra.Bidiagonal</b>) in LinearAlgebra at <a href=\"file:///build/julia-98cBbp/julia-1.4.1+dfsg/usr/share/julia/stdlib/v1.4/LinearAlgebra/src/special.jl\" target=\"_blank\">/usr/share/julia/stdlib/v1.4/LinearAlgebra/src/special.jl:205</a></li> <li> +(A::<b>LinearAlgebra.Bidiagonal</b>, B::<b>LinearAlgebra.SymTridiagonal</b>) in LinearAlgebra at <a href=\"file:///build/julia-98cBbp/julia-1.4.1+dfsg/usr/share/julia/stdlib/v1.4/LinearAlgebra/src/special.jl\" target=\"_blank\">/usr/share/julia/stdlib/v1.4/LinearAlgebra/src/special.jl:215</a></li> <li> +(A::<b>LinearAlgebra.SymTridiagonal</b>, B::<b>LinearAlgebra.Bidiagonal</b>) in LinearAlgebra at <a href=\"file:///build/julia-98cBbp/julia-1.4.1+dfsg/usr/share/julia/stdlib/v1.4/LinearAlgebra/src/special.jl\" target=\"_blank\">/usr/share/julia/stdlib/v1.4/LinearAlgebra/src/special.jl:225</a></li> <li> +(A::<b>SparseArrays.AbstractSparseMatrixCSC</b>, B::<b>SparseArrays.AbstractSparseMatrixCSC</b>) in SparseArrays at <a href=\"file:///build/julia-98cBbp/julia-1.4.1+dfsg/usr/share/julia/stdlib/v1.4/SparseArrays/src/sparsematrix.jl\" target=\"_blank\">/usr/share/julia/stdlib/v1.4/SparseArrays/src/sparsematrix.jl:1648</a></li> <li> +(A::<b>SparseArrays.AbstractSparseMatrixCSC</b>, B::<b>Array</b>) in SparseArrays at <a href=\"file:///build/julia-98cBbp/julia-1.4.1+dfsg/usr/share/julia/stdlib/v1.4/SparseArrays/src/sparsematrix.jl\" target=\"_blank\">/usr/share/julia/stdlib/v1.4/SparseArrays/src/sparsematrix.jl:1651</a></li> <li> +(x::<b>SparseArrays.AbstractSparseArray{Tv,Ti,1} where Ti where Tv</b>, y::<b>SparseArrays.AbstractSparseArray{Tv,Ti,1} where Ti where Tv</b>) in SparseArrays at <a href=\"file:///build/julia-98cBbp/julia-1.4.1+dfsg/usr/share/julia/stdlib/v1.4/SparseArrays/src/sparsevector.jl\" target=\"_blank\">/usr/share/julia/stdlib/v1.4/SparseArrays/src/sparsevector.jl:1303</a></li> <li> +(x::<b>AbstractArray{#s69,N} where N where #s69<:Number</b>) in Base at <a href=\"https://github.com/JuliaLang/julia/tree/v1.4.1/base/abstractarraymath.jl#L97\" target=\"_blank\">abstractarraymath.jl:97</a></li> <li> +(A::<b>AbstractArray</b>, B::<b>AbstractArray</b>) in Base at <a href=\"https://github.com/JuliaLang/julia/tree/v1.4.1/base/arraymath.jl#L38\" target=\"_blank\">arraymath.jl:38</a></li> <li> +(x::<b>T</b>, y::<b>Integer</b>)<i> where T<:AbstractChar</i> in Base at <a href=\"https://github.com/JuliaLang/julia/tree/v1.4.1/base/char.jl#L223\" target=\"_blank\">char.jl:223</a></li> <li> +(index1::<b>CartesianIndex{N}</b>, index2::<b>CartesianIndex{N}</b>)<i> where N</i> in Base.IteratorsMD at <a href=\"https://github.com/JuliaLang/julia/tree/v1.4.1/base/multidimensional.jl#L111\" target=\"_blank\">multidimensional.jl:111</a></li> <li> +(::<b>Number</b>, ::<b>Missing</b>) in Base at <a href=\"https://github.com/JuliaLang/julia/tree/v1.4.1/base/missing.jl#L116\" target=\"_blank\">missing.jl:116</a></li> <li> +(x::<b>P</b>, y::<b>P</b>)<i> where P<:Dates.Period</i> in Dates at <a href=\"file:///build/julia-98cBbp/julia-1.4.1+dfsg/usr/share/julia/stdlib/v1.4/Dates/src/periods.jl\" target=\"_blank\">/usr/share/julia/stdlib/v1.4/Dates/src/periods.jl:75</a></li> <li> +(x::<b>Dates.Period</b>, y::<b>Dates.Period</b>) in Dates at <a href=\"file:///build/julia-98cBbp/julia-1.4.1+dfsg/usr/share/julia/stdlib/v1.4/Dates/src/periods.jl\" target=\"_blank\">/usr/share/julia/stdlib/v1.4/Dates/src/periods.jl:338</a></li> <li> +(y::<b>Dates.Period</b>, x::<b>Dates.CompoundPeriod</b>) in Dates at <a href=\"file:///build/julia-98cBbp/julia-1.4.1+dfsg/usr/share/julia/stdlib/v1.4/Dates/src/periods.jl\" target=\"_blank\">/usr/share/julia/stdlib/v1.4/Dates/src/periods.jl:340</a></li> <li> +(x::<b>Union{Dates.CompoundPeriod, Dates.Period}</b>) in Dates at <a href=\"file:///build/julia-98cBbp/julia-1.4.1+dfsg/usr/share/julia/stdlib/v1.4/Dates/src/periods.jl\" target=\"_blank\">/usr/share/julia/stdlib/v1.4/Dates/src/periods.jl:349</a></li> <li> +(x::<b>Dates.TimeType</b>) in Dates at <a href=\"file:///build/julia-98cBbp/julia-1.4.1+dfsg/usr/share/julia/stdlib/v1.4/Dates/src/arithmetic.jl\" target=\"_blank\">/usr/share/julia/stdlib/v1.4/Dates/src/arithmetic.jl:8</a></li> <li> +(a::<b>Dates.TimeType</b>, b::<b>Dates.Period</b>, c::<b>Dates.Period</b>) in Dates at <a href=\"file:///build/julia-98cBbp/julia-1.4.1+dfsg/usr/share/julia/stdlib/v1.4/Dates/src/periods.jl\" target=\"_blank\">/usr/share/julia/stdlib/v1.4/Dates/src/periods.jl:360</a></li> <li> +(a::<b>Dates.TimeType</b>, b::<b>Dates.Period</b>, c::<b>Dates.Period</b>, d::<b>Dates.Period...</b>) in Dates at <a href=\"file:///build/julia-98cBbp/julia-1.4.1+dfsg/usr/share/julia/stdlib/v1.4/Dates/src/periods.jl\" target=\"_blank\">/usr/share/julia/stdlib/v1.4/Dates/src/periods.jl:361</a></li> <li> +(x::<b>Dates.TimeType</b>, y::<b>Dates.CompoundPeriod</b>) in Dates at <a href=\"file:///build/julia-98cBbp/julia-1.4.1+dfsg/usr/share/julia/stdlib/v1.4/Dates/src/periods.jl\" target=\"_blank\">/usr/share/julia/stdlib/v1.4/Dates/src/periods.jl:364</a></li> <li> +(x::<b>Dates.Instant</b>) in Dates at <a href=\"file:///build/julia-98cBbp/julia-1.4.1+dfsg/usr/share/julia/stdlib/v1.4/Dates/src/arithmetic.jl\" target=\"_blank\">/usr/share/julia/stdlib/v1.4/Dates/src/arithmetic.jl:4</a></li> <li> +(y::<b>Dates.Period</b>, x::<b>Dates.TimeType</b>) in Dates at <a href=\"file:///build/julia-98cBbp/julia-1.4.1+dfsg/usr/share/julia/stdlib/v1.4/Dates/src/arithmetic.jl\" target=\"_blank\">/usr/share/julia/stdlib/v1.4/Dates/src/arithmetic.jl:80</a></li> <li> +(x::<b>Dates.Period</b>, r::<b>AbstractRange{#s664} where #s664<:Dates.TimeType</b>) in Dates at <a href=\"file:///build/julia-98cBbp/julia-1.4.1+dfsg/usr/share/julia/stdlib/v1.4/Dates/src/ranges.jl\" target=\"_blank\">/usr/share/julia/stdlib/v1.4/Dates/src/ranges.jl:58</a></li> <li> +(x::<b>AbstractArray{#s664,N} where N where #s664<:Dates.TimeType</b>, y::<b>Union{Dates.CompoundPeriod, Dates.Period}</b>) in Dates at <a href=\"file:///build/julia-98cBbp/julia-1.4.1+dfsg/usr/share/julia/stdlib/v1.4/Dates/src/deprecated.jl\" target=\"_blank\">/usr/share/julia/stdlib/v1.4/Dates/src/deprecated.jl:8</a></li> <li> +(y::<b>Union{Dates.CompoundPeriod, Dates.Period}</b>, x::<b>AbstractArray{#s664,N} where N where #s664<:Dates.TimeType</b>) in Dates at <a href=\"file:///build/julia-98cBbp/julia-1.4.1+dfsg/usr/share/julia/stdlib/v1.4/Dates/src/deprecated.jl\" target=\"_blank\">/usr/share/julia/stdlib/v1.4/Dates/src/deprecated.jl:16</a></li> <li> +(y::<b>Dates.TimeType</b>, x::<b>Union{DenseArray{#s664,N}, Base.ReinterpretArray{#s664,N,S,A} where S where A<:Union{SubArray{T,N,A,I,true} where I<:Union{Tuple{Vararg{Real,N} where N}, Tuple{AbstractUnitRange,Vararg{Any,N} where N}} where A<:DenseArray where N where T, DenseArray}, Base.ReshapedArray{#s664,N,A,MI} where MI<:Tuple{Vararg{Base.MultiplicativeInverses.SignedMultiplicativeInverse{Int64},N} where N} where A<:Union{Base.ReinterpretArray{T,N,S,A} where S where A<:Union{SubArray{T,N,A,I,true} where I<:Union{Tuple{Vararg{Real,N} where N}, Tuple{AbstractUnitRange,Vararg{Any,N} where N}} where A<:DenseArray where N where T, DenseArray} where N where T, SubArray{T,N,A,I,true} where I<:Union{Tuple{Vararg{Real,N} where N}, Tuple{AbstractUnitRange,Vararg{Any,N} where N}} where A<:DenseArray where N where T, DenseArray}, SubArray{#s664,N,A,I,L} where L where I<:Tuple{Vararg{Union{Int64, AbstractRange{Int64}, Base.AbstractCartesianIndex},N} where N} where A<:Union{Base.ReinterpretArray{T,N,S,A} where S where A<:Union{SubArray{T,N,A,I,true} where I<:Union{Tuple{Vararg{Real,N} where N}, Tuple{AbstractUnitRange,Vararg{Any,N} where N}} where A<:DenseArray where N where T, DenseArray} where N where T, Base.ReshapedArray{T,N,A,MI} where MI<:Tuple{Vararg{Base.MultiplicativeInverses.SignedMultiplicativeInverse{Int64},N} where N} where A<:Union{Base.ReinterpretArray{T,N,S,A} where S where A<:Union{SubArray{T,N,A,I,true} where I<:Union{Tuple{Vararg{Real,N} where N}, Tuple{AbstractUnitRange,Vararg{Any,N} where N}} where A<:DenseArray where N where T, DenseArray} where N where T, SubArray{T,N,A,I,true} where I<:Union{Tuple{Vararg{Real,N} where N}, Tuple{AbstractUnitRange,Vararg{Any,N} where N}} where A<:DenseArray where N where T, DenseArray} where N where T, DenseArray}} where N where #s664<:Union{Dates.CompoundPeriod, Dates.Period}</b>) in Dates at <a href=\"file:///build/julia-98cBbp/julia-1.4.1+dfsg/usr/share/julia/stdlib/v1.4/Dates/src/deprecated.jl\" target=\"_blank\">/usr/share/julia/stdlib/v1.4/Dates/src/deprecated.jl:20</a></li> <li> +(J::<b>LinearAlgebra.UniformScaling</b>, x::<b>Number</b>) in LinearAlgebra at <a href=\"file:///build/julia-98cBbp/julia-1.4.1+dfsg/usr/share/julia/stdlib/v1.4/LinearAlgebra/src/uniformscaling.jl\" target=\"_blank\">/usr/share/julia/stdlib/v1.4/LinearAlgebra/src/uniformscaling.jl:109</a></li> <li> +(x::<b>Number</b>, J::<b>LinearAlgebra.UniformScaling</b>) in LinearAlgebra at <a href=\"file:///build/julia-98cBbp/julia-1.4.1+dfsg/usr/share/julia/stdlib/v1.4/LinearAlgebra/src/uniformscaling.jl\" target=\"_blank\">/usr/share/julia/stdlib/v1.4/LinearAlgebra/src/uniformscaling.jl:110</a></li> <li> +(J1::<b>LinearAlgebra.UniformScaling</b>, J2::<b>LinearAlgebra.UniformScaling</b>) in LinearAlgebra at <a href=\"file:///build/julia-98cBbp/julia-1.4.1+dfsg/usr/share/julia/stdlib/v1.4/LinearAlgebra/src/uniformscaling.jl\" target=\"_blank\">/usr/share/julia/stdlib/v1.4/LinearAlgebra/src/uniformscaling.jl:114</a></li> <li> +(J::<b>LinearAlgebra.UniformScaling</b>, B::<b>BitArray{2}</b>) in LinearAlgebra at <a href=\"file:///build/julia-98cBbp/julia-1.4.1+dfsg/usr/share/julia/stdlib/v1.4/LinearAlgebra/src/uniformscaling.jl\" target=\"_blank\">/usr/share/julia/stdlib/v1.4/LinearAlgebra/src/uniformscaling.jl:116</a></li> <li> +(A::<b>LinearAlgebra.UniformScaling</b>, B::<b>LinearAlgebra.Tridiagonal{#s664,V} where V<:AbstractArray{#s664,1} where #s664<:Number</b>) in LinearAlgebra at <a href=\"file:///build/julia-98cBbp/julia-1.4.1+dfsg/usr/share/julia/stdlib/v1.4/LinearAlgebra/src/special.jl\" target=\"_blank\">/usr/share/julia/stdlib/v1.4/LinearAlgebra/src/special.jl:257</a></li> <li> +(A::<b>LinearAlgebra.UniformScaling</b>, B::<b>LinearAlgebra.SymTridiagonal{#s664,V} where V<:AbstractArray{#s664,1} where #s664<:Number</b>) in LinearAlgebra at <a href=\"file:///build/julia-98cBbp/julia-1.4.1+dfsg/usr/share/julia/stdlib/v1.4/LinearAlgebra/src/special.jl\" target=\"_blank\">/usr/share/julia/stdlib/v1.4/LinearAlgebra/src/special.jl:262</a></li> <li> +(A::<b>LinearAlgebra.UniformScaling</b>, B::<b>LinearAlgebra.Bidiagonal{#s664,V} where V<:AbstractArray{#s664,1} where #s664<:Number</b>) in LinearAlgebra at <a href=\"file:///build/julia-98cBbp/julia-1.4.1+dfsg/usr/share/julia/stdlib/v1.4/LinearAlgebra/src/special.jl\" target=\"_blank\">/usr/share/julia/stdlib/v1.4/LinearAlgebra/src/special.jl:267</a></li> <li> +(A::<b>LinearAlgebra.UniformScaling</b>, B::<b>LinearAlgebra.Diagonal{#s664,V} where V<:AbstractArray{#s664,1} where #s664<:Number</b>) in LinearAlgebra at <a href=\"file:///build/julia-98cBbp/julia-1.4.1+dfsg/usr/share/julia/stdlib/v1.4/LinearAlgebra/src/special.jl\" target=\"_blank\">/usr/share/julia/stdlib/v1.4/LinearAlgebra/src/special.jl:272</a></li> <li> +(J::<b>LinearAlgebra.UniformScaling</b>, A::<b>AbstractArray{T,2} where T</b>) in LinearAlgebra at <a href=\"file:///build/julia-98cBbp/julia-1.4.1+dfsg/usr/share/julia/stdlib/v1.4/LinearAlgebra/src/uniformscaling.jl\" target=\"_blank\">/usr/share/julia/stdlib/v1.4/LinearAlgebra/src/uniformscaling.jl:117</a></li> <li> +(F::<b>LinearAlgebra.Hessenberg</b>, J::<b>LinearAlgebra.UniformScaling</b>) in LinearAlgebra at <a href=\"file:///build/julia-98cBbp/julia-1.4.1+dfsg/usr/share/julia/stdlib/v1.4/LinearAlgebra/src/hessenberg.jl\" target=\"_blank\">/usr/share/julia/stdlib/v1.4/LinearAlgebra/src/hessenberg.jl:559</a></li> <li> +(J::<b>LinearAlgebra.UniformScaling</b>, F::<b>LinearAlgebra.Hessenberg</b>) in LinearAlgebra at <a href=\"file:///build/julia-98cBbp/julia-1.4.1+dfsg/usr/share/julia/stdlib/v1.4/LinearAlgebra/src/hessenberg.jl\" target=\"_blank\">/usr/share/julia/stdlib/v1.4/LinearAlgebra/src/hessenberg.jl:560</a></li> <li> +(a, b, c, xs...) in Base at <a href=\"https://github.com/JuliaLang/julia/tree/v1.4.1/base/operators.jl#L529\" target=\"_blank\">operators.jl:529</a></li> </ul>"
     },
     "metadata": {},
     "execution_count": 19
    }
   ],
   "source": [
    "methods(+)"
   ]
  },
  {
   "source": [
    "Multiple dispatch together with the flexible parametric type system give Julia its ability to abstractly express high-level algorithms decoupled from implementation details, yet generate efficient, specialized code to handle each case at run time."
   ],
   "cell_type": "markdown",
   "metadata": {}
  },
  {
   "source": [
    "## Method Ambiguities"
   ],
   "cell_type": "markdown",
   "metadata": {}
  },
  {
   "source": [
    "It is possible to define a set of function methods such that there is no unique most specific method applicable to some combinations of arguments:"
   ],
   "cell_type": "markdown",
   "metadata": {}
  },
  {
   "cell_type": "code",
   "execution_count": 20,
   "metadata": {},
   "outputs": [
    {
     "output_type": "execute_result",
     "data": {
      "text/plain": [
       "g (generic function with 1 method)"
      ]
     },
     "metadata": {},
     "execution_count": 20
    }
   ],
   "source": [
    "g(x::Float64, y) = 2x + y"
   ]
  },
  {
   "cell_type": "code",
   "execution_count": 21,
   "metadata": {},
   "outputs": [
    {
     "output_type": "execute_result",
     "data": {
      "text/plain": [
       "g (generic function with 2 methods)"
      ]
     },
     "metadata": {},
     "execution_count": 21
    }
   ],
   "source": [
    "g(x, y::Float64) = x + 2y"
   ]
  },
  {
   "cell_type": "code",
   "execution_count": 22,
   "metadata": {},
   "outputs": [
    {
     "output_type": "execute_result",
     "data": {
      "text/plain": [
       "7.0"
      ]
     },
     "metadata": {},
     "execution_count": 22
    }
   ],
   "source": [
    "g(2.0, 3)"
   ]
  },
  {
   "cell_type": "code",
   "execution_count": 23,
   "metadata": {},
   "outputs": [
    {
     "output_type": "execute_result",
     "data": {
      "text/plain": [
       "8.0"
      ]
     },
     "metadata": {},
     "execution_count": 23
    }
   ],
   "source": [
    "g(2, 3.0)"
   ]
  },
  {
   "cell_type": "code",
   "execution_count": 24,
   "metadata": {},
   "outputs": [
    {
     "output_type": "error",
     "ename": "MethodError",
     "evalue": "MethodError: g(::Float64, ::Float64) is ambiguous. Candidates:\n  g(x::Float64, y) in Main at In[20]:1\n  g(x, y::Float64) in Main at In[21]:1\nPossible fix, define\n  g(::Float64, ::Float64)",
     "traceback": [
      "MethodError: g(::Float64, ::Float64) is ambiguous. Candidates:\n  g(x::Float64, y) in Main at In[20]:1\n  g(x, y::Float64) in Main at In[21]:1\nPossible fix, define\n  g(::Float64, ::Float64)",
      "",
      "Stacktrace:",
      " [1] top-level scope at In[24]:1"
     ]
    }
   ],
   "source": [
    "g(2.0, 3.0)"
   ]
  },
  {
   "source": [
    "Here the call g(2.0, 3.0) could be handled by either the g(Float64, Any) or the g(Any, Float64) method, and neither is more specific than the other. In such cases, Julia raises a MethodError rather than arbitrarily picking a method. You can avoid method ambiguities by specifying an appropriate method for the intersection case:"
   ],
   "cell_type": "markdown",
   "metadata": {}
  },
  {
   "cell_type": "code",
   "execution_count": 25,
   "metadata": {},
   "outputs": [
    {
     "output_type": "execute_result",
     "data": {
      "text/plain": [
       "g (generic function with 3 methods)"
      ]
     },
     "metadata": {},
     "execution_count": 25
    }
   ],
   "source": [
    "g(x::Float64, y::Float64) = 2x + 2y"
   ]
  },
  {
   "cell_type": "code",
   "execution_count": 26,
   "metadata": {},
   "outputs": [
    {
     "output_type": "execute_result",
     "data": {
      "text/plain": [
       "7.0"
      ]
     },
     "metadata": {},
     "execution_count": 26
    }
   ],
   "source": [
    "g(2.0, 3)"
   ]
  },
  {
   "cell_type": "code",
   "execution_count": 27,
   "metadata": {},
   "outputs": [
    {
     "output_type": "execute_result",
     "data": {
      "text/plain": [
       "8.0"
      ]
     },
     "metadata": {},
     "execution_count": 27
    }
   ],
   "source": [
    "g(2, 3.0)"
   ]
  },
  {
   "cell_type": "code",
   "execution_count": 28,
   "metadata": {},
   "outputs": [
    {
     "output_type": "execute_result",
     "data": {
      "text/plain": [
       "10.0"
      ]
     },
     "metadata": {},
     "execution_count": 28
    }
   ],
   "source": [
    "g(2.0, 3.0)"
   ]
  },
  {
   "source": [
    "It is recommended that the disambiguating method be defined first, since otherwise the ambiguity exists, if transiently, until the more specific method is defined.\n",
    "\n",
    "In more complex cases, resolving method ambiguities involves a certain element of design; this topic is explored further below."
   ],
   "cell_type": "markdown",
   "metadata": {}
  },
  {
   "source": [
    "## Parametric Methods"
   ],
   "cell_type": "markdown",
   "metadata": {}
  },
  {
   "source": [
    "Method definitions can optionally have type parameters qualifying the signature:"
   ],
   "cell_type": "markdown",
   "metadata": {}
  },
  {
   "cell_type": "code",
   "execution_count": 29,
   "metadata": {},
   "outputs": [
    {
     "output_type": "execute_result",
     "data": {
      "text/plain": [
       "same_type (generic function with 1 method)"
      ]
     },
     "metadata": {},
     "execution_count": 29
    }
   ],
   "source": [
    "same_type(x::T, y::T) where {T} = true"
   ]
  },
  {
   "cell_type": "code",
   "execution_count": 30,
   "metadata": {},
   "outputs": [
    {
     "output_type": "execute_result",
     "data": {
      "text/plain": [
       "same_type (generic function with 2 methods)"
      ]
     },
     "metadata": {},
     "execution_count": 30
    }
   ],
   "source": [
    "same_type(x,y) = false"
   ]
  },
  {
   "source": [
    "The first method applies whenever both arguments are of the same concrete type, regardless of what type that is, while the second method acts as a catch-all, covering all other cases. Thus, overall, this defines a boolean function that checks whether its two arguments are of the same type:"
   ],
   "cell_type": "markdown",
   "metadata": {}
  },
  {
   "cell_type": "code",
   "execution_count": 31,
   "metadata": {},
   "outputs": [
    {
     "output_type": "execute_result",
     "data": {
      "text/plain": [
       "true"
      ]
     },
     "metadata": {},
     "execution_count": 31
    }
   ],
   "source": [
    "same_type(1, 2)"
   ]
  },
  {
   "cell_type": "code",
   "execution_count": 32,
   "metadata": {},
   "outputs": [
    {
     "output_type": "execute_result",
     "data": {
      "text/plain": [
       "false"
      ]
     },
     "metadata": {},
     "execution_count": 32
    }
   ],
   "source": [
    "same_type(1, 2.0)"
   ]
  },
  {
   "cell_type": "code",
   "execution_count": 33,
   "metadata": {},
   "outputs": [
    {
     "output_type": "execute_result",
     "data": {
      "text/plain": [
       "true"
      ]
     },
     "metadata": {},
     "execution_count": 33
    }
   ],
   "source": [
    "same_type(1.0, 2.0)"
   ]
  },
  {
   "cell_type": "code",
   "execution_count": 34,
   "metadata": {},
   "outputs": [
    {
     "output_type": "execute_result",
     "data": {
      "text/plain": [
       "false"
      ]
     },
     "metadata": {},
     "execution_count": 34
    }
   ],
   "source": [
    "same_type(\"foo\", 2.0)"
   ]
  },
  {
   "cell_type": "code",
   "execution_count": 35,
   "metadata": {},
   "outputs": [
    {
     "output_type": "execute_result",
     "data": {
      "text/plain": [
       "true"
      ]
     },
     "metadata": {},
     "execution_count": 35
    }
   ],
   "source": [
    "same_type(\"foo\", \"bar\")"
   ]
  },
  {
   "cell_type": "code",
   "execution_count": 36,
   "metadata": {},
   "outputs": [
    {
     "output_type": "execute_result",
     "data": {
      "text/plain": [
       "false"
      ]
     },
     "metadata": {},
     "execution_count": 36
    }
   ],
   "source": [
    "same_type(Int32(1), Int64(2))"
   ]
  },
  {
   "source": [
    "Such definitions correspond to methods whose type signatures are UnionAll types (see UnionAll Types).\n",
    "\n",
    "This kind of definition of function behavior by dispatch is quite common – idiomatic, even – in Julia. Method type parameters are not restricted to being used as the types of arguments: they can be used anywhere a value would be in the signature of the function or body of the function. Here's an example where the method type parameter T is used as the type parameter to the parametric type Vector{T} in the method signature:"
   ],
   "cell_type": "markdown",
   "metadata": {}
  },
  {
   "cell_type": "code",
   "execution_count": 37,
   "metadata": {},
   "outputs": [
    {
     "output_type": "execute_result",
     "data": {
      "text/plain": [
       "myappend (generic function with 1 method)"
      ]
     },
     "metadata": {},
     "execution_count": 37
    }
   ],
   "source": [
    "myappend(v::Vector{T}, x::T) where {T} = [v..., x]"
   ]
  },
  {
   "cell_type": "code",
   "execution_count": 38,
   "metadata": {},
   "outputs": [
    {
     "output_type": "execute_result",
     "data": {
      "text/plain": [
       "4-element Array{Int64,1}:\n",
       " 1\n",
       " 2\n",
       " 3\n",
       " 4"
      ]
     },
     "metadata": {},
     "execution_count": 38
    }
   ],
   "source": [
    "myappend([1,2,3],4)"
   ]
  },
  {
   "cell_type": "code",
   "execution_count": 39,
   "metadata": {},
   "outputs": [
    {
     "output_type": "error",
     "ename": "MethodError",
     "evalue": "MethodError: no method matching myappend(::Array{Int64,1}, ::Float64)\nClosest candidates are:\n  myappend(::Array{T,1}, !Matched::T) where T at In[37]:1",
     "traceback": [
      "MethodError: no method matching myappend(::Array{Int64,1}, ::Float64)\nClosest candidates are:\n  myappend(::Array{T,1}, !Matched::T) where T at In[37]:1",
      "",
      "Stacktrace:",
      " [1] top-level scope at In[39]:1"
     ]
    }
   ],
   "source": [
    "myappend([1,2,3],2.5)"
   ]
  },
  {
   "cell_type": "code",
   "execution_count": 40,
   "metadata": {},
   "outputs": [
    {
     "output_type": "execute_result",
     "data": {
      "text/plain": [
       "4-element Array{Float64,1}:\n",
       " 1.0\n",
       " 2.0\n",
       " 3.0\n",
       " 4.0"
      ]
     },
     "metadata": {},
     "execution_count": 40
    }
   ],
   "source": [
    "myappend([1.0,2.0,3.0],4.0)"
   ]
  },
  {
   "cell_type": "code",
   "execution_count": 41,
   "metadata": {},
   "outputs": [
    {
     "output_type": "error",
     "ename": "MethodError",
     "evalue": "MethodError: no method matching myappend(::Array{Float64,1}, ::Int64)\nClosest candidates are:\n  myappend(::Array{T,1}, !Matched::T) where T at In[37]:1",
     "traceback": [
      "MethodError: no method matching myappend(::Array{Float64,1}, ::Int64)\nClosest candidates are:\n  myappend(::Array{T,1}, !Matched::T) where T at In[37]:1",
      "",
      "Stacktrace:",
      " [1] top-level scope at In[41]:1"
     ]
    }
   ],
   "source": [
    "myappend([1.0,2.0,3.0],4)"
   ]
  },
  {
   "source": [
    "As you can see, the type of the appended element must match the element type of the vector it is appended to, or else a MethodError is raised. In the following example, the method type parameter T is used as the return value:"
   ],
   "cell_type": "markdown",
   "metadata": {}
  },
  {
   "cell_type": "code",
   "execution_count": 42,
   "metadata": {},
   "outputs": [
    {
     "output_type": "execute_result",
     "data": {
      "text/plain": [
       "mytypeof (generic function with 1 method)"
      ]
     },
     "metadata": {},
     "execution_count": 42
    }
   ],
   "source": [
    "mytypeof(x::T) where {T} = T"
   ]
  },
  {
   "cell_type": "code",
   "execution_count": 43,
   "metadata": {},
   "outputs": [
    {
     "output_type": "execute_result",
     "data": {
      "text/plain": [
       "Int64"
      ]
     },
     "metadata": {},
     "execution_count": 43
    }
   ],
   "source": [
    "mytypeof(1)"
   ]
  },
  {
   "cell_type": "code",
   "execution_count": 44,
   "metadata": {},
   "outputs": [
    {
     "output_type": "execute_result",
     "data": {
      "text/plain": [
       "Float64"
      ]
     },
     "metadata": {},
     "execution_count": 44
    }
   ],
   "source": [
    "mytypeof(1.0)"
   ]
  },
  {
   "source": [
    "Just as you can put subtype constraints on type parameters in type declarations (see Parametric Types), you can also constrain type parameters of methods:"
   ],
   "cell_type": "markdown",
   "metadata": {}
  },
  {
   "cell_type": "code",
   "execution_count": 45,
   "metadata": {},
   "outputs": [
    {
     "output_type": "execute_result",
     "data": {
      "text/plain": [
       "same_type_numeric (generic function with 1 method)"
      ]
     },
     "metadata": {},
     "execution_count": 45
    }
   ],
   "source": [
    "same_type_numeric(x::T, y::T) where {T<:Number} = true"
   ]
  },
  {
   "cell_type": "code",
   "execution_count": 46,
   "metadata": {},
   "outputs": [
    {
     "output_type": "execute_result",
     "data": {
      "text/plain": [
       "same_type_numeric (generic function with 2 methods)"
      ]
     },
     "metadata": {},
     "execution_count": 46
    }
   ],
   "source": [
    "same_type_numeric(x::Number, y::Number) = false"
   ]
  },
  {
   "cell_type": "code",
   "execution_count": 47,
   "metadata": {},
   "outputs": [
    {
     "output_type": "execute_result",
     "data": {
      "text/plain": [
       "true"
      ]
     },
     "metadata": {},
     "execution_count": 47
    }
   ],
   "source": [
    "same_type_numeric(1, 2)"
   ]
  },
  {
   "cell_type": "code",
   "execution_count": 48,
   "metadata": {},
   "outputs": [
    {
     "output_type": "execute_result",
     "data": {
      "text/plain": [
       "false"
      ]
     },
     "metadata": {},
     "execution_count": 48
    }
   ],
   "source": [
    "same_type_numeric(1, 2.0)"
   ]
  },
  {
   "cell_type": "code",
   "execution_count": 49,
   "metadata": {},
   "outputs": [
    {
     "output_type": "execute_result",
     "data": {
      "text/plain": [
       "true"
      ]
     },
     "metadata": {},
     "execution_count": 49
    }
   ],
   "source": [
    "same_type_numeric(1.0, 2.0)"
   ]
  },
  {
   "cell_type": "code",
   "execution_count": 50,
   "metadata": {},
   "outputs": [
    {
     "output_type": "error",
     "ename": "MethodError",
     "evalue": "MethodError: no method matching same_type_numeric(::String, ::Float64)\nClosest candidates are:\n  same_type_numeric(!Matched::T, ::T) where T<:Number at In[45]:1\n  same_type_numeric(!Matched::Number, ::Number) at In[46]:1",
     "traceback": [
      "MethodError: no method matching same_type_numeric(::String, ::Float64)\nClosest candidates are:\n  same_type_numeric(!Matched::T, ::T) where T<:Number at In[45]:1\n  same_type_numeric(!Matched::Number, ::Number) at In[46]:1",
      "",
      "Stacktrace:",
      " [1] top-level scope at In[50]:1"
     ]
    }
   ],
   "source": [
    "same_type_numeric(\"foo\", 2.0)"
   ]
  },
  {
   "cell_type": "code",
   "execution_count": 51,
   "metadata": {},
   "outputs": [
    {
     "output_type": "error",
     "ename": "MethodError",
     "evalue": "MethodError: no method matching same_type_numeric(::String, ::String)",
     "traceback": [
      "MethodError: no method matching same_type_numeric(::String, ::String)",
      "",
      "Stacktrace:",
      " [1] top-level scope at In[51]:1"
     ]
    }
   ],
   "source": [
    "same_type_numeric(\"foo\", \"bar\")"
   ]
  },
  {
   "cell_type": "code",
   "execution_count": 52,
   "metadata": {},
   "outputs": [
    {
     "output_type": "execute_result",
     "data": {
      "text/plain": [
       "false"
      ]
     },
     "metadata": {},
     "execution_count": 52
    }
   ],
   "source": [
    "same_type_numeric(Int32(1), Int64(2))"
   ]
  },
  {
   "source": [
    "The same_type_numeric function behaves much like the same_type function defined above, but is only defined for pairs of numbers.\n",
    "\n",
    "Parametric methods allow the same syntax as where expressions used to write types (see UnionAll Types). If there is only a single parameter, the enclosing curly braces (in where {T}) can be omitted, but are often preferred for clarity. Multiple parameters can be separated with commas, e.g. where {T, S<:Real}, or written using nested where, e.g. where S<:Real where T."
   ],
   "cell_type": "markdown",
   "metadata": {}
  },
  {
   "source": [
    "## Redefining Methods"
   ],
   "cell_type": "markdown",
   "metadata": {}
  },
  {
   "source": [
    "When redefining a method or adding new methods, it is important to realize that these changes don't take effect immediately. This is key to Julia's ability to statically infer and compile code to run fast, without the usual JIT tricks and overhead. Indeed, any new method definition won't be visible to the current runtime environment, including Tasks and Threads (and any previously defined @generated functions). Let's start with an example to see what this means:"
   ],
   "cell_type": "markdown",
   "metadata": {}
  },
  {
   "cell_type": "code",
   "execution_count": 53,
   "metadata": {},
   "outputs": [
    {
     "output_type": "execute_result",
     "data": {
      "text/plain": [
       "tryeval (generic function with 1 method)"
      ]
     },
     "metadata": {},
     "execution_count": 53
    }
   ],
   "source": [
    "function tryeval()\n",
    "    @eval newfun() = 1\n",
    "    newfun()\n",
    "end"
   ]
  },
  {
   "cell_type": "code",
   "execution_count": 54,
   "metadata": {},
   "outputs": [
    {
     "output_type": "error",
     "ename": "MethodError",
     "evalue": "MethodError: no method matching newfun()\nThe applicable method may be too new: running in world age 27161, while current world is 27162.\nClosest candidates are:\n  newfun() at In[53]:2 (method too new to be called from this world context.)",
     "traceback": [
      "MethodError: no method matching newfun()\nThe applicable method may be too new: running in world age 27161, while current world is 27162.\nClosest candidates are:\n  newfun() at In[53]:2 (method too new to be called from this world context.)",
      "",
      "Stacktrace:",
      " [1] tryeval() at ./In[53]:3",
      " [2] top-level scope at In[54]:1"
     ]
    }
   ],
   "source": [
    "tryeval()"
   ]
  },
  {
   "cell_type": "code",
   "execution_count": 55,
   "metadata": {},
   "outputs": [
    {
     "output_type": "execute_result",
     "data": {
      "text/plain": [
       "1"
      ]
     },
     "metadata": {},
     "execution_count": 55
    }
   ],
   "source": [
    "newfun()"
   ]
  },
  {
   "source": [
    "In this example, observe that the new definition for newfun has been created, but can't be immediately called. The new global is immediately visible to the tryeval function, so you could write return newfun (without parentheses). But neither you, nor any of your callers, nor the functions they call, or etc. can call this new method definition!\n",
    "\n",
    "But there's an exception: future calls to newfun from the REPL work as expected, being able to both see and call the new definition of newfun.\n",
    "\n",
    "However, future calls to tryeval will continue to see the definition of newfun as it was at the previous statement at the REPL, and thus before that call to tryeval.\n",
    "\n",
    "The implementation of this behavior is a \"world age counter\". This monotonically increasing value tracks each method definition operation. This allows describing \"the set of method definitions visible to a given runtime environment\" as a single number, or \"world age\". It also allows comparing the methods available in two worlds just by comparing their ordinal value. In the example above, we see that the \"current world\" (in which the method newfun exists), is one greater than the task-local \"runtime world\" that was fixed when the execution of tryeval started.\n",
    "\n",
    "Sometimes it is necessary to get around this (for example, if you are implementing the above REPL). Fortunately, there is an easy solution: call the function using Base.invokelatest:"
   ],
   "cell_type": "markdown",
   "metadata": {}
  },
  {
   "cell_type": "code",
   "execution_count": 56,
   "metadata": {},
   "outputs": [
    {
     "output_type": "execute_result",
     "data": {
      "text/plain": [
       "tryeval2 (generic function with 1 method)"
      ]
     },
     "metadata": {},
     "execution_count": 56
    }
   ],
   "source": [
    "function tryeval2()\n",
    "    @eval newfun2() = 2\n",
    "    Base.invokelatest(newfun2)\n",
    "end"
   ]
  },
  {
   "cell_type": "code",
   "execution_count": 57,
   "metadata": {},
   "outputs": [
    {
     "output_type": "execute_result",
     "data": {
      "text/plain": [
       "2"
      ]
     },
     "metadata": {},
     "execution_count": 57
    }
   ],
   "source": [
    "tryeval2()"
   ]
  },
  {
   "source": [
    "Finally, let's take a look at some more complex examples where this rule comes into play. Define a function f(x), which initially has one method:"
   ],
   "cell_type": "markdown",
   "metadata": {}
  },
  {
   "cell_type": "code",
   "execution_count": 58,
   "metadata": {},
   "outputs": [
    {
     "output_type": "execute_result",
     "data": {
      "text/plain": [
       "F (generic function with 1 method)"
      ]
     },
     "metadata": {},
     "execution_count": 58
    }
   ],
   "source": [
    "F(x) = \"original definition\""
   ]
  },
  {
   "source": [
    "Start some other operations that use f(x):"
   ],
   "cell_type": "markdown",
   "metadata": {}
  },
  {
   "cell_type": "code",
   "execution_count": 59,
   "metadata": {},
   "outputs": [
    {
     "output_type": "execute_result",
     "data": {
      "text/plain": [
       "G (generic function with 1 method)"
      ]
     },
     "metadata": {},
     "execution_count": 59
    }
   ],
   "source": [
    "G(x) = F(x)"
   ]
  },
  {
   "cell_type": "code",
   "execution_count": 60,
   "metadata": {},
   "outputs": [],
   "source": [
    "t = @async F(wait()); yield();"
   ]
  },
  {
   "source": [
    "Now we add some new methods to f(x):"
   ],
   "cell_type": "markdown",
   "metadata": {}
  },
  {
   "cell_type": "code",
   "execution_count": 61,
   "metadata": {},
   "outputs": [
    {
     "output_type": "execute_result",
     "data": {
      "text/plain": [
       "F (generic function with 2 methods)"
      ]
     },
     "metadata": {},
     "execution_count": 61
    }
   ],
   "source": [
    "F(x::Int) = \"definition for Int\""
   ]
  },
  {
   "cell_type": "code",
   "execution_count": 62,
   "metadata": {},
   "outputs": [
    {
     "output_type": "execute_result",
     "data": {
      "text/plain": [
       "F (generic function with 3 methods)"
      ]
     },
     "metadata": {},
     "execution_count": 62
    }
   ],
   "source": [
    "F(x::Type{Int}) = \"definition for Type{Int}\""
   ]
  },
  {
   "cell_type": "code",
   "execution_count": 63,
   "metadata": {},
   "outputs": [
    {
     "output_type": "execute_result",
     "data": {
      "text/plain": [
       "\"definition for Int\""
      ]
     },
     "metadata": {},
     "execution_count": 63
    }
   ],
   "source": [
    "F(1)"
   ]
  },
  {
   "cell_type": "code",
   "execution_count": 64,
   "metadata": {},
   "outputs": [
    {
     "output_type": "execute_result",
     "data": {
      "text/plain": [
       "\"definition for Int\""
      ]
     },
     "metadata": {},
     "execution_count": 64
    }
   ],
   "source": [
    "G(1)"
   ]
  },
  {
   "cell_type": "code",
   "execution_count": 65,
   "metadata": {},
   "outputs": [
    {
     "output_type": "execute_result",
     "data": {
      "text/plain": [
       "\"original definition\""
      ]
     },
     "metadata": {},
     "execution_count": 65
    }
   ],
   "source": [
    "fetch(schedule(t, 1))"
   ]
  },
  {
   "cell_type": "code",
   "execution_count": 66,
   "metadata": {},
   "outputs": [],
   "source": [
    "t = @async F(wait()); yield();"
   ]
  },
  {
   "cell_type": "code",
   "execution_count": 67,
   "metadata": {},
   "outputs": [
    {
     "output_type": "execute_result",
     "data": {
      "text/plain": [
       "\"definition for Int\""
      ]
     },
     "metadata": {},
     "execution_count": 67
    }
   ],
   "source": [
    "fetch(schedule(t, 1))"
   ]
  },
  {
   "source": [
    "## Design Patterns with Parametric Methods"
   ],
   "cell_type": "markdown",
   "metadata": {}
  },
  {
   "source": [
    "While complex dispatch logic is not required for performance or usability, sometimes it can be the best way to express some algorithm. Here are a few common design patterns that come up sometimes when using dispatch in this way."
   ],
   "cell_type": "markdown",
   "metadata": {}
  },
  {
   "source": [
    "### Extracting the type parameter from a super-type"
   ],
   "cell_type": "markdown",
   "metadata": {}
  },
  {
   "source": [
    "Here is the correct code template for returning the element-type T of any arbitrary subtype of AbstractArray:\n",
    "\n",
    "    abstract type AbstractArray{T, N} end\n",
    "    eltype(::Type{<:AbstractArray{T}}) where {T} = T\n",
    "\n",
    "using so-called triangular dispatch. Note that if T is a UnionAll type, as e.g. eltype(Array{T} where T <: Integer), then Any is returned (as does the version of eltype in Base).\n",
    "\n",
    "Another way, which used to be the only correct way before the advent of triangular dispatch in Julia v0.6, is:\n",
    "\n",
    "    abstract type AbstractArray{T, N} end\n",
    "    eltype(::Type{AbstractArray}) = Any\n",
    "    eltype(::Type{AbstractArray{T}}) where {T} = T\n",
    "    eltype(::Type{AbstractArray{T, N}}) where {T, N} = T\n",
    "    eltype(::Type{A}) where {A<:AbstractArray} = eltype(supertype(A))\n",
    "\n",
    "Another possibility is the following, which could useful to adapt to cases where the parameter T would need to be matched more narrowly:\n",
    "\n",
    "    eltype(::Type{AbstractArray{T, N} where {T<:S, N<:M}}) where {M, S} = Any\n",
    "    eltype(::Type{AbstractArray{T, N} where {T<:S}}) where {N, S} = Any\n",
    "    eltype(::Type{AbstractArray{T, N} where {N<:M}}) where {M, T} = T\n",
    "    eltype(::Type{AbstractArray{T, N}}) where {T, N} = T\n",
    "    eltype(::Type{A}) where {A <: AbstractArray} = eltype(supertype(A))\n",
    "\n",
    "One common mistake is to try and get the element-type by using introspection:\n",
    "\n",
    "    eltype_wrong(::Type{A}) where {A<:AbstractArray} = A.parameters[1]\n",
    "\n",
    "However, it is not hard to construct cases where this will fail:\n",
    "\n",
    "    struct BitVector <: AbstractArray{Bool, 1}; end\n",
    "\n",
    "Here we have created a type BitVector which has no parameters, but where the element-type is still fully specified, with T equal to Bool!"
   ],
   "cell_type": "markdown",
   "metadata": {}
  },
  {
   "source": [
    "### Building a similar type with a different type parameter"
   ],
   "cell_type": "markdown",
   "metadata": {}
  },
  {
   "source": [
    "When building generic code, there is often a need for constructing a similar object with some change made to the layout of the type, also necessitating a change of the type parameters. For instance, you might have some sort of abstract array with an arbitrary element type and want to write your computation on it with a specific element type. We must implement a method for each AbstractArray{T} subtype that describes how to compute this type transform. There is no general transform of one subtype into another subtype with a different parameter. (Quick review: do you see why this is?)\n",
    "\n",
    "The subtypes of AbstractArray typically implement two methods to achieve this: A method to convert the input array to a subtype of a specific AbstractArray{T, N} abstract type; and a method to make a new uninitialized array with a specific element type. Sample implementations of these can be found in Julia Base. Here is a basic example usage of them, guaranteeing that input and output are of the same type:\n",
    "\n",
    "    input = convert(AbstractArray{Eltype}, input)\n",
    "    output = similar(input, Eltype)\n",
    "\n",
    "As an extension of this, in cases where the algorithm needs a copy of the input array, convert is insufficient as the return value may alias the original input. Combining similar (to make the output array) and copyto! (to fill it with the input data) is a generic way to express the requirement for a mutable copy of the input argument:\n",
    "\n",
    "    copy_with_eltype(input, Eltype) = copyto!(similar(input, Eltype), input)"
   ],
   "cell_type": "markdown",
   "metadata": {}
  },
  {
   "cell_type": "code",
   "execution_count": 68,
   "metadata": {},
   "outputs": [
    {
     "output_type": "stream",
     "name": "stdout",
     "text": [
      "search: \u001b[0m\u001b[1ms\u001b[22m\u001b[0m\u001b[1mi\u001b[22m\u001b[0m\u001b[1mm\u001b[22m\u001b[0m\u001b[1mi\u001b[22m\u001b[0m\u001b[1ml\u001b[22m\u001b[0m\u001b[1ma\u001b[22m\u001b[0m\u001b[1mr\u001b[22m\n",
      "\n"
     ]
    },
    {
     "output_type": "execute_result",
     "data": {
      "text/plain": [
       "\u001b[36m  similar(array, [element_type=eltype(array)], [dims=size(array)])\u001b[39m\n",
       "\n",
       "  Create an uninitialized mutable array with the given element type and size,\n",
       "  based upon the given source array. The second and third arguments are both\n",
       "  optional, defaulting to the given array's \u001b[36meltype\u001b[39m and \u001b[36msize\u001b[39m. The dimensions\n",
       "  may be specified either as a single tuple argument or as a series of integer\n",
       "  arguments.\n",
       "\n",
       "  Custom AbstractArray subtypes may choose which specific array type is\n",
       "  best-suited to return for the given element type and dimensionality. If they\n",
       "  do not specialize this method, the default is an \u001b[36mArray{element_type}(undef,\n",
       "  dims...)\u001b[39m.\n",
       "\n",
       "  For example, \u001b[36msimilar(1:10, 1, 4)\u001b[39m returns an uninitialized \u001b[36mArray{Int,2}\u001b[39m since\n",
       "  ranges are neither mutable nor support 2 dimensions:\n",
       "\n",
       "\u001b[36m  julia> similar(1:10, 1, 4)\u001b[39m\n",
       "\u001b[36m  1×4 Array{Int64,2}:\u001b[39m\n",
       "\u001b[36m   4419743872  4374413872  4419743888  0\u001b[39m\n",
       "\n",
       "  Conversely, \u001b[36msimilar(trues(10,10), 2)\u001b[39m returns an uninitialized \u001b[36mBitVector\u001b[39m with\n",
       "  two elements since \u001b[36mBitArray\u001b[39ms are both mutable and can support 1-dimensional\n",
       "  arrays:\n",
       "\n",
       "\u001b[36m  julia> similar(trues(10,10), 2)\u001b[39m\n",
       "\u001b[36m  2-element BitArray{1}:\u001b[39m\n",
       "\u001b[36m   0\u001b[39m\n",
       "\u001b[36m   0\u001b[39m\n",
       "\n",
       "  Since \u001b[36mBitArray\u001b[39ms can only store elements of type \u001b[36mBool\u001b[39m, however, if you\n",
       "  request a different element type it will create a regular \u001b[36mArray\u001b[39m instead:\n",
       "\n",
       "\u001b[36m  julia> similar(falses(10), Float64, 2, 4)\u001b[39m\n",
       "\u001b[36m  2×4 Array{Float64,2}:\u001b[39m\n",
       "\u001b[36m   2.18425e-314  2.18425e-314  2.18425e-314  2.18425e-314\u001b[39m\n",
       "\u001b[36m   2.18425e-314  2.18425e-314  2.18425e-314  2.18425e-314\u001b[39m\n",
       "\n",
       "  ────────────────────────────────────────────────────────────────────────────\n",
       "\n",
       "\u001b[36m  similar(storagetype, axes)\u001b[39m\n",
       "\n",
       "  Create an uninitialized mutable array analogous to that specified by\n",
       "  \u001b[36mstoragetype\u001b[39m, but with \u001b[36maxes\u001b[39m specified by the last argument. \u001b[36mstoragetype\u001b[39m might\n",
       "  be a type or a function.\n",
       "\n",
       "  \u001b[1mExamples\u001b[22m:\n",
       "\n",
       "\u001b[36m  similar(Array{Int}, axes(A))\u001b[39m\n",
       "\n",
       "  creates an array that \"acts like\" an \u001b[36mArray{Int}\u001b[39m (and might indeed be backed\n",
       "  by one), but which is indexed identically to \u001b[36mA\u001b[39m. If \u001b[36mA\u001b[39m has conventional\n",
       "  indexing, this will be identical to \u001b[36mArray{Int}(undef, size(A))\u001b[39m, but if \u001b[36mA\u001b[39m has\n",
       "  unconventional indexing then the indices of the result will match \u001b[36mA\u001b[39m.\n",
       "\n",
       "\u001b[36m  similar(BitArray, (axes(A, 2),))\u001b[39m\n",
       "\n",
       "  would create a 1-dimensional logical array whose indices match those of the\n",
       "  columns of \u001b[36mA\u001b[39m."
      ],
      "text/markdown": "```\nsimilar(array, [element_type=eltype(array)], [dims=size(array)])\n```\n\nCreate an uninitialized mutable array with the given element type and size, based upon the given source array. The second and third arguments are both optional, defaulting to the given array's `eltype` and `size`. The dimensions may be specified either as a single tuple argument or as a series of integer arguments.\n\nCustom AbstractArray subtypes may choose which specific array type is best-suited to return for the given element type and dimensionality. If they do not specialize this method, the default is an `Array{element_type}(undef, dims...)`.\n\nFor example, `similar(1:10, 1, 4)` returns an uninitialized `Array{Int,2}` since ranges are neither mutable nor support 2 dimensions:\n\n```julia-repl\njulia> similar(1:10, 1, 4)\n1×4 Array{Int64,2}:\n 4419743872  4374413872  4419743888  0\n```\n\nConversely, `similar(trues(10,10), 2)` returns an uninitialized `BitVector` with two elements since `BitArray`s are both mutable and can support 1-dimensional arrays:\n\n```julia-repl\njulia> similar(trues(10,10), 2)\n2-element BitArray{1}:\n 0\n 0\n```\n\nSince `BitArray`s can only store elements of type [`Bool`](@ref), however, if you request a different element type it will create a regular `Array` instead:\n\n```julia-repl\njulia> similar(falses(10), Float64, 2, 4)\n2×4 Array{Float64,2}:\n 2.18425e-314  2.18425e-314  2.18425e-314  2.18425e-314\n 2.18425e-314  2.18425e-314  2.18425e-314  2.18425e-314\n```\n\n---\n\n```\nsimilar(storagetype, axes)\n```\n\nCreate an uninitialized mutable array analogous to that specified by `storagetype`, but with `axes` specified by the last argument. `storagetype` might be a type or a function.\n\n**Examples**:\n\n```\nsimilar(Array{Int}, axes(A))\n```\n\ncreates an array that \"acts like\" an `Array{Int}` (and might indeed be backed by one), but which is indexed identically to `A`. If `A` has conventional indexing, this will be identical to `Array{Int}(undef, size(A))`, but if `A` has unconventional indexing then the indices of the result will match `A`.\n\n```\nsimilar(BitArray, (axes(A, 2),))\n```\n\nwould create a 1-dimensional logical array whose indices match those of the columns of `A`.\n",
      "text/latex": "\\begin{verbatim}\nsimilar(array, [element_type=eltype(array)], [dims=size(array)])\n\\end{verbatim}\nCreate an uninitialized mutable array with the given element type and size, based upon the given source array. The second and third arguments are both optional, defaulting to the given array's \\texttt{eltype} and \\texttt{size}. The dimensions may be specified either as a single tuple argument or as a series of integer arguments.\n\nCustom AbstractArray subtypes may choose which specific array type is best-suited to return for the given element type and dimensionality. If they do not specialize this method, the default is an \\texttt{Array\\{element\\_type\\}(undef, dims...)}.\n\nFor example, \\texttt{similar(1:10, 1, 4)} returns an uninitialized \\texttt{Array\\{Int,2\\}} since ranges are neither mutable nor support 2 dimensions:\n\n\\begin{verbatim}\njulia> similar(1:10, 1, 4)\n1×4 Array{Int64,2}:\n 4419743872  4374413872  4419743888  0\n\\end{verbatim}\nConversely, \\texttt{similar(trues(10,10), 2)} returns an uninitialized \\texttt{BitVector} with two elements since \\texttt{BitArray}s are both mutable and can support 1-dimensional arrays:\n\n\\begin{verbatim}\njulia> similar(trues(10,10), 2)\n2-element BitArray{1}:\n 0\n 0\n\\end{verbatim}\nSince \\texttt{BitArray}s can only store elements of type \\href{@ref}{\\texttt{Bool}}, however, if you request a different element type it will create a regular \\texttt{Array} instead:\n\n\\begin{verbatim}\njulia> similar(falses(10), Float64, 2, 4)\n2×4 Array{Float64,2}:\n 2.18425e-314  2.18425e-314  2.18425e-314  2.18425e-314\n 2.18425e-314  2.18425e-314  2.18425e-314  2.18425e-314\n\\end{verbatim}\n\\rule{\\textwidth}{1pt}\n\\begin{verbatim}\nsimilar(storagetype, axes)\n\\end{verbatim}\nCreate an uninitialized mutable array analogous to that specified by \\texttt{storagetype}, but with \\texttt{axes} specified by the last argument. \\texttt{storagetype} might be a type or a function.\n\n\\textbf{Examples}:\n\n\\begin{verbatim}\nsimilar(Array{Int}, axes(A))\n\\end{verbatim}\ncreates an array that \"acts like\" an \\texttt{Array\\{Int\\}} (and might indeed be backed by one), but which is indexed identically to \\texttt{A}. If \\texttt{A} has conventional indexing, this will be identical to \\texttt{Array\\{Int\\}(undef, size(A))}, but if \\texttt{A} has unconventional indexing then the indices of the result will match \\texttt{A}.\n\n\\begin{verbatim}\nsimilar(BitArray, (axes(A, 2),))\n\\end{verbatim}\nwould create a 1-dimensional logical array whose indices match those of the columns of \\texttt{A}.\n\n"
     },
     "metadata": {},
     "execution_count": 68
    }
   ],
   "source": [
    "?similar"
   ]
  },
  {
   "source": [
    "### Iterated dispatch"
   ],
   "cell_type": "markdown",
   "metadata": {}
  },
  {
   "source": [
    "In order to dispatch a multi-level parametric argument list, often it is best to separate each level of dispatch into distinct functions. This may sound similar in approach to single-dispatch, but as we shall see below, it is still more flexible.\n",
    "\n",
    "For example, trying to dispatch on the element-type of an array will often run into ambiguous situations. Instead, commonly code will dispatch first on the container type, then recurse down to a more specific method based on eltype. In most cases, the algorithms lend themselves conveniently to this hierarchical approach, while in other cases, this rigor must be resolved manually. This dispatching branching can be observed, for example, in the logic to sum two matrices:\n",
    "\n",
    "    # First dispatch selects the map algorithm for element-wise summation.\n",
    "    +(a::Matrix, b::Matrix) = map(+, a, b)\n",
    "    # Then dispatch handles each element and selects the appropriate\n",
    "    # common element type for the computation.\n",
    "    +(a, b) = +(promote(a, b)...)\n",
    "    # Once the elements have the same type, they can be added.\n",
    "    # For example, via primitive operations exposed by the processor.\n",
    "    +(a::Float64, b::Float64) = Core.add(a, b)"
   ],
   "cell_type": "markdown",
   "metadata": {}
  },
  {
   "source": [
    "### Trait-based dispatch"
   ],
   "cell_type": "markdown",
   "metadata": {}
  },
  {
   "source": [
    "A natural extension to the iterated dispatch above is to add a layer to method selection that allows to dispatch on sets of types which are independent from the sets defined by the type hierarchy. We could construct such a set by writing out a Union of the types in question, but then this set would not be extensible as Union-types cannot be altered after creation. However, such an extensible set can be programmed with a design pattern often referred to as a \"Holy-trait\".\n",
    "\n",
    "This pattern is implemented by defining a generic function which computes a different singleton value (or type) for each trait-set to which the function arguments may belong to. If this function is pure there is no impact on performance compared to normal dispatch.\n",
    "\n",
    "The example in the previous section glossed over the implementation details of map and promote, which both operate in terms of these traits. When iterating over a matrix, such as in the implementation of map, one important question is what order to use to traverse the data. When AbstractArray subtypes implement the Base.IndexStyle trait, other functions such as map can dispatch on this information to pick the best algorithm (see Abstract Array Interface). This means that each subtype does not need to implement a custom version of map, since the generic definitions + trait classes will enable the system to select the fastest version. Here a toy implementation of map illustrating the trait-based dispatch:\n",
    "\n",
    "    map(f, a::AbstractArray, b::AbstractArray) = map(Base.IndexStyle(a, b), f, a, b)\n",
    "    # generic implementation:\n",
    "    map(::Base.IndexCartesian, f, a::AbstractArray, b::AbstractArray) = ...\n",
    "    # linear-indexing implementation (faster)\n",
    "    map(::Base.IndexLinear, f, a::AbstractArray, b::AbstractArray) = ...\n",
    "\n",
    "This trait-based approach is also present in the promote mechanism employed by the scalar +. It uses promote_type, which returns the optimal common type to compute the operation given the two types of the operands. This makes it possible to reduce the problem of implementing every function for every pair of possible type arguments, to the much smaller problem of implementing a conversion operation from each type to a common type, plus a table of preferred pair-wise promotion rules."
   ],
   "cell_type": "markdown",
   "metadata": {}
  },
  {
   "source": [
    "### Output-type computation"
   ],
   "cell_type": "markdown",
   "metadata": {}
  },
  {
   "source": [
    "The discussion of trait-based promotion provides a transition into our next design pattern: computing the output element type for a matrix operation.\n",
    "\n",
    "For implementing primitive operations, such as addition, we use the promote_type function to compute the desired output type. (As before, we saw this at work in the promote call in the call to +).\n",
    "\n",
    "For more complex functions on matrices, it may be necessary to compute the expected return type for a more complex sequence of operations. This is often performed by the following steps:\n",
    "\n",
    "Write a small function op that expresses the set of operations performed by the kernel of the algorithm.\n",
    "Compute the element type R of the result matrix as promote_op(op, argument_types...), where argument_types is computed from eltype applied to each input array.\n",
    "Build the output matrix as similar(R, dims), where dims are the desired dimensions of the output array.\n",
    "For a more specific example, a generic square-matrix multiply pseudo-code might look like:\n",
    "\n",
    "    function matmul(a::AbstractMatrix, b::AbstractMatrix)\n",
    "        op = (ai, bi) -> ai * bi + ai * bi\n",
    "\n",
    "        ## this is insufficient because it assumes `one(eltype(a))` is constructable:\n",
    "        # R = typeof(op(one(eltype(a)), one(eltype(b))))\n",
    "    \n",
    "        ## this fails because it assumes `a[1]` exists and is representative of all elements of the array\n",
    "        # R = typeof(op(a[1], b[1]))\n",
    "    \n",
    "        ## this is incorrect because it assumes that `+` calls `promote_type`\n",
    "        ## but this is not true for some types, such as Bool:\n",
    "        # R = promote_type(ai, bi)\n",
    "    \n",
    "        # this is wrong, since depending on the return value\n",
    "        # of type-inference is very brittle (as well as not being optimizable):\n",
    "        # R = Base.return_types(op, (eltype(a), eltype(b)))\n",
    "    \n",
    "        ## but, finally, this works:\n",
    "        R = promote_op(op, eltype(a), eltype(b))\n",
    "        ## although sometimes it may give a larger type than desired\n",
    "        ## it will always give a correct type\n",
    "    \n",
    "        output = similar(b, R, (size(a, 1), size(b, 2)))\n",
    "        if size(a, 2) > 0\n",
    "            for j in 1:size(b, 2)\n",
    "                for i in 1:size(a, 1)\n",
    "                    ## here we don't use `ab = zero(R)`,\n",
    "                    ## since `R` might be `Any` and `zero(Any)` is not defined\n",
    "                    ## we also must declare `ab::R` to make the type of `ab` constant in the loop,\n",
    "                    ## since it is possible that typeof(a * b) != typeof(a * b + a * b) == R\n",
    "                    ab::R = a[i, 1] * b[1, j]\n",
    "                    for k in 2:size(a, 2)\n",
    "                        ab += a[i, k] * b[k, j]\n",
    "                    end\n",
    "                    output[i, j] = ab\n",
    "                end\n",
    "            end\n",
    "        end\n",
    "        return output\n",
    "    end"
   ],
   "cell_type": "markdown",
   "metadata": {}
  },
  {
   "source": [
    "### Separate convert and kernel logic"
   ],
   "cell_type": "markdown",
   "metadata": {}
  },
  {
   "source": [
    "One way to significantly cut down on compile-times and testing complexity is to isolate the logic for converting to the desired type and the computation. This lets the compiler specialize and inline the conversion logic independent from the rest of the body of the larger kernel.\n",
    "\n",
    "This is a common pattern seen when converting from a larger class of types to the one specific argument type that is actually supported by the algorithm:\n",
    "\n",
    "    complexfunction(arg::Int) = ...\n",
    "    complexfunction(arg::Any) = complexfunction(convert(Int, arg))\n",
    "\n",
    "    matmul(a::T, b::T) = ...\n",
    "    matmul(a, b) = matmul(promote(a, b)...)"
   ],
   "cell_type": "markdown",
   "metadata": {}
  },
  {
   "source": [
    "## Parametrically-constrained Varargs methods"
   ],
   "cell_type": "markdown",
   "metadata": {}
  },
  {
   "source": [
    "Function parameters can also be used to constrain the number of arguments that may be supplied to a \"varargs\" function (Varargs Functions). The notation Vararg{T,N} is used to indicate such a constraint. For example:"
   ],
   "cell_type": "markdown",
   "metadata": {}
  },
  {
   "cell_type": "code",
   "execution_count": 69,
   "metadata": {},
   "outputs": [
    {
     "output_type": "execute_result",
     "data": {
      "text/plain": [
       "bar (generic function with 1 method)"
      ]
     },
     "metadata": {},
     "execution_count": 69
    }
   ],
   "source": [
    "bar(a,b,x::Vararg{Any,2}) = (a,b,x)"
   ]
  },
  {
   "cell_type": "code",
   "execution_count": 70,
   "metadata": {},
   "outputs": [
    {
     "output_type": "error",
     "ename": "MethodError",
     "evalue": "MethodError: no method matching bar(::Int64, ::Int64, ::Int64)\nClosest candidates are:\n  bar(::Any, ::Any, ::Any, !Matched::Any) at In[69]:1",
     "traceback": [
      "MethodError: no method matching bar(::Int64, ::Int64, ::Int64)\nClosest candidates are:\n  bar(::Any, ::Any, ::Any, !Matched::Any) at In[69]:1",
      "",
      "Stacktrace:",
      " [1] top-level scope at In[70]:1"
     ]
    }
   ],
   "source": [
    "bar(1,2,3)"
   ]
  },
  {
   "cell_type": "code",
   "execution_count": 71,
   "metadata": {},
   "outputs": [
    {
     "output_type": "execute_result",
     "data": {
      "text/plain": [
       "(1, 2, (3, 4))"
      ]
     },
     "metadata": {},
     "execution_count": 71
    }
   ],
   "source": [
    "bar(1,2,3,4)"
   ]
  },
  {
   "cell_type": "code",
   "execution_count": 72,
   "metadata": {},
   "outputs": [
    {
     "output_type": "error",
     "ename": "MethodError",
     "evalue": "MethodError: no method matching bar(::Int64, ::Int64, ::Int64, ::Int64, ::Int64)\nClosest candidates are:\n  bar(::Any, ::Any, ::Any, ::Any) at In[69]:1",
     "traceback": [
      "MethodError: no method matching bar(::Int64, ::Int64, ::Int64, ::Int64, ::Int64)\nClosest candidates are:\n  bar(::Any, ::Any, ::Any, ::Any) at In[69]:1",
      "",
      "Stacktrace:",
      " [1] top-level scope at In[72]:1"
     ]
    }
   ],
   "source": [
    "bar(1,2,3,4,5)"
   ]
  },
  {
   "source": [
    "More usefully, it is possible to constrain varargs methods by a parameter. For example:\n",
    "\n",
    "    function getindex(A::AbstractArray{T,N}, indices::Vararg{Number,N}) where {T,N}\n",
    "\n",
    "would be called only when the number of indices matches the dimensionality of the array.\n",
    "\n",
    "When only the type of supplied arguments needs to be constrained Vararg{T} can be equivalently written as T.... For instance f(x::Int...) = x is a shorthand for f(x::Vararg{Int}) = x."
   ],
   "cell_type": "markdown",
   "metadata": {}
  },
  {
   "source": [
    "## Note on Optional and keyword Arguments"
   ],
   "cell_type": "markdown",
   "metadata": {}
  },
  {
   "source": [
    "As mentioned briefly in Functions, optional arguments are implemented as syntax for multiple method definitions. For example, this definition:\n",
    "\n",
    "    f(a=1,b=2) = a+2b\n",
    "\n",
    "translates to the following three methods:\n",
    "\n",
    "    f(a,b) = a+2b\n",
    "    f(a) = f(a,2)\n",
    "    f() = f(1,2)\n",
    "\n",
    "This means that calling f() is equivalent to calling f(1,2). In this case the result is 5, because f(1,2) invokes the first method of f above. However, this need not always be the case. If you define a fourth method that is more specialized for integers:\n",
    "\n",
    "    f(a::Int,b::Int) = a-2b\n",
    "\n",
    "then the result of both f() and f(1,2) is -3. In other words, optional arguments are tied to a function, not to any specific method of that function. It depends on the types of the optional arguments which method is invoked. When optional arguments are defined in terms of a global variable, the type of the optional argument may even change at run-time.\n",
    "\n",
    "Keyword arguments behave quite differently from ordinary positional arguments. In particular, they do not participate in method dispatch. Methods are dispatched based only on positional arguments, with keyword arguments processed after the matching method is identified."
   ],
   "cell_type": "markdown",
   "metadata": {}
  },
  {
   "source": [
    "## Function-like objects"
   ],
   "cell_type": "markdown",
   "metadata": {}
  },
  {
   "source": [
    "Methods are associated with types, so it is possible to make any arbitrary Julia object \"callable\" by adding methods to its type. (Such \"callable\" objects are sometimes called \"functors.\")\n",
    "\n",
    "For example, you can define a type that stores the coefficients of a polynomial, but behaves like a function evaluating the polynomial:"
   ],
   "cell_type": "markdown",
   "metadata": {}
  },
  {
   "cell_type": "code",
   "execution_count": 73,
   "metadata": {},
   "outputs": [],
   "source": [
    "struct Polynomial{R}\n",
    "    coeffs::Vector{R}\n",
    "end"
   ]
  },
  {
   "cell_type": "code",
   "execution_count": 74,
   "metadata": {},
   "outputs": [],
   "source": [
    "function (p::Polynomial)(x)\n",
    "    v = p.coeffs[end]\n",
    "    for i = (length(p.coeffs)-1):-1:1\n",
    "        v = v*x + p.coeffs[i]\n",
    "    end\n",
    "    return v\n",
    "end"
   ]
  },
  {
   "cell_type": "code",
   "execution_count": 75,
   "metadata": {},
   "outputs": [],
   "source": [
    "(p::Polynomial)() = p(5)"
   ]
  },
  {
   "source": [
    "Notice that the function is specified by type instead of by name. As with normal functions there is a terse syntax form. In the function body, p will refer to the object that was called. A Polynomial can be used as follows:"
   ],
   "cell_type": "markdown",
   "metadata": {}
  },
  {
   "cell_type": "code",
   "execution_count": 76,
   "metadata": {},
   "outputs": [
    {
     "output_type": "execute_result",
     "data": {
      "text/plain": [
       "Polynomial{Int64}([1, 10, 100])"
      ]
     },
     "metadata": {},
     "execution_count": 76
    }
   ],
   "source": [
    "p = Polynomial([1,10,100])"
   ]
  },
  {
   "cell_type": "code",
   "execution_count": 77,
   "metadata": {},
   "outputs": [
    {
     "output_type": "execute_result",
     "data": {
      "text/plain": [
       "931"
      ]
     },
     "metadata": {},
     "execution_count": 77
    }
   ],
   "source": [
    "p(3)"
   ]
  },
  {
   "cell_type": "code",
   "execution_count": 78,
   "metadata": {},
   "outputs": [
    {
     "output_type": "execute_result",
     "data": {
      "text/plain": [
       "2551"
      ]
     },
     "metadata": {},
     "execution_count": 78
    }
   ],
   "source": [
    "p()"
   ]
  },
  {
   "source": [
    "This mechanism is also the key to how type constructors and closures (inner functions that refer to their surrounding environment) work in Julia."
   ],
   "cell_type": "markdown",
   "metadata": {}
  },
  {
   "source": [
    "## Empty generic functions"
   ],
   "cell_type": "markdown",
   "metadata": {}
  },
  {
   "source": [
    "Occasionally it is useful to introduce a generic function without yet adding methods. This can be used to separate interface definitions from implementations. It might also be done for the purpose of documentation or code readability. The syntax for this is an empty function block without a tuple of arguments:\n",
    "\n",
    "    function emptyfunc\n",
    "    end"
   ],
   "cell_type": "markdown",
   "metadata": {}
  },
  {
   "source": [
    "## Method design and the avoidance of ambiguities"
   ],
   "cell_type": "markdown",
   "metadata": {}
  },
  {
   "source": [
    "Julia's method polymorphism is one of its most powerful features, yet exploiting this power can pose design challenges. In particular, in more complex method hierarchies it is not uncommon for ambiguities to arise.\n",
    "\n",
    "Above, it was pointed out that one can resolve ambiguities like\n",
    "\n",
    "    f(x, y::Int) = 1\n",
    "    f(x::Int, y) = 2\n",
    "\n",
    "by defining a method\n",
    "\n",
    "    f(x::Int, y::Int) = 3\n",
    "\n",
    "This is often the right strategy; however, there are circumstances where following this advice blindly can be counterproductive. In particular, the more methods a generic function has, the more possibilities there are for ambiguities. When your method hierarchies get more complicated than this simple example, it can be worth your while to think carefully about alternative strategies.\n",
    "\n",
    "Below we discuss particular challenges and some alternative ways to resolve such issues."
   ],
   "cell_type": "markdown",
   "metadata": {}
  },
  {
   "source": [
    "### Tuple and NTuple arguments"
   ],
   "cell_type": "markdown",
   "metadata": {}
  },
  {
   "source": [
    "Tuple (and NTuple) arguments present special challenges. For example,\n",
    "\n",
    "    f(x::NTuple{N,Int}) where {N} = 1\n",
    "    f(x::NTuple{N,Float64}) where {N} = 2\n",
    "\n",
    "are ambiguous because of the possibility that N == 0: there are no elements to determine whether the Int or Float64 variant should be called. To resolve the ambiguity, one approach is define a method for the empty tuple:\n",
    "\n",
    "    f(x::Tuple{}) = 3\n",
    "\n",
    "Alternatively, for all methods but one you can insist that there is at least one element in the tuple:\n",
    "\n",
    "    f(x::NTuple{N,Int}) where {N} = 1           # this is the fallback\n",
    "    f(x::Tuple{Float64, Vararg{Float64}}) = 2   # this requires at least one Float64\n"
   ],
   "cell_type": "markdown",
   "metadata": {}
  },
  {
   "source": [
    "### Orthogonalize your design"
   ],
   "cell_type": "markdown",
   "metadata": {}
  },
  {
   "source": [
    "When you might be tempted to dispatch on two or more arguments, consider whether a \"wrapper\" function might make for a simpler design. For example, instead of writing multiple variants:\n",
    "\n",
    "    f(x::A, y::A) = ...\n",
    "    f(x::A, y::B) = ...\n",
    "    f(x::B, y::A) = ...\n",
    "    f(x::B, y::B) = ...\n",
    "\n",
    "you might consider defining\n",
    "\n",
    "    f(x::A, y::A) = ...\n",
    "    f(x, y) = f(g(x), g(y))\n",
    "\n",
    "where g converts the argument to type A. This is a very specific example of the more general principle of orthogonal design, in which separate concepts are assigned to separate methods. Here, g will most likely need a fallback definition\n",
    "\n",
    "    g(x::A) = x\n",
    "\n",
    "A related strategy exploits promote to bring x and y to a common type:\n",
    "\n",
    "    f(x::T, y::T) where {T} = ...\n",
    "    f(x, y) = f(promote(x, y)...)\n",
    "\n",
    "One risk with this design is the possibility that if there is no suitable promotion method converting x and y to the same type, the second method will recurse on itself infinitely and trigger a stack overflow."
   ],
   "cell_type": "markdown",
   "metadata": {}
  },
  {
   "source": [
    "### Dispatch on one argument at a time"
   ],
   "cell_type": "markdown",
   "metadata": {}
  },
  {
   "source": [
    "If you need to dispatch on multiple arguments, and there are many fallbacks with too many combinations to make it practical to define all possible variants, then consider introducing a \"name cascade\" where (for example) you dispatch on the first argument and then call an internal method:\n",
    "\n",
    "    f(x::A, y) = _fA(x, y)\n",
    "    f(x::B, y) = _fB(x, y)\n",
    "\n",
    "Then the internal methods _fA and _fB can dispatch on y without concern about ambiguities with each other with respect to x.\n",
    "\n",
    "Be aware that this strategy has at least one major disadvantage: in many cases, it is not possible for users to further customize the behavior of f by defining further specializations of your exported function f. Instead, they have to define specializations for your internal methods _fA and _fB, and this blurs the lines between exported and internal methods."
   ],
   "cell_type": "markdown",
   "metadata": {}
  },
  {
   "source": [
    "### Abstract containers and element types"
   ],
   "cell_type": "markdown",
   "metadata": {}
  },
  {
   "source": [
    "Where possible, try to avoid defining methods that dispatch on specific element types of abstract containers. For example,\n",
    "\n",
    "    -(A::AbstractArray{T}, b::Date) where {T<:Date}\n",
    "\n",
    "generates ambiguities for anyone who defines a method\n",
    "\n",
    "    -(A::MyArrayType{T}, b::T) where {T}\n",
    "\n",
    "The best approach is to avoid defining either of these methods: instead, rely on a generic method -(A::AbstractArray, b) and make sure this method is implemented with generic calls (like similar and -) that do the right thing for each container type and element type separately. This is just a more complex variant of the advice to orthogonalize your methods.\n",
    "\n",
    "When this approach is not possible, it may be worth starting a discussion with other developers about resolving the ambiguity; just because one method was defined first does not necessarily mean that it can't be modified or eliminated. As a last resort, one developer can define the \"band-aid\" method\n",
    "\n",
    "    -(A::MyArrayType{T}, b::Date) where {T<:Date} = ...\n",
    "\n",
    "that resolves the ambiguity by brute force."
   ],
   "cell_type": "markdown",
   "metadata": {}
  },
  {
   "source": [
    "### Complex method \"cascades\" with default arguments"
   ],
   "cell_type": "markdown",
   "metadata": {}
  },
  {
   "source": [
    "If you are defining a method \"cascade\" that supplies defaults, be careful about dropping any arguments that correspond to potential defaults. For example, suppose you're writing a digital filtering algorithm and you have a method that handles the edges of the signal by applying padding:\n",
    "\n",
    "    function myfilter(A, kernel, ::Replicate)\n",
    "        Apadded = replicate_edges(A, size(kernel))\n",
    "        myfilter(Apadded, kernel)  # now perform the \"real\" computation\n",
    "    end\n",
    "\n",
    "This will run afoul of a method that supplies default padding:\n",
    "\n",
    "    myfilter(A, kernel) = myfilter(A, kernel, Replicate()) # replicate the edge by default\n",
    "\n",
    "Together, these two methods generate an infinite recursion with A constantly growing bigger.\n",
    "\n",
    "The better design would be to define your call hierarchy like this:\n",
    "\n",
    "    struct NoPad end  # indicate that no padding is desired, or that it's already applied\n",
    "\n",
    "    myfilter(A, kernel) = myfilter(A, kernel, Replicate())  # default boundary conditions\n",
    "\n",
    "    function myfilter(A, kernel, ::Replicate)\n",
    "        Apadded = replicate_edges(A, size(kernel))\n",
    "        myfilter(Apadded, kernel, NoPad())  # indicate the new boundary conditions\n",
    "    end\n",
    "\n",
    "    # other padding methods go here\n",
    "\n",
    "    function myfilter(A, kernel, ::NoPad)\n",
    "        # Here's the \"real\" implementation of the core computation\n",
    "    end\n",
    "\n",
    "NoPad is supplied in the same argument position as any other kind of padding, so it keeps the dispatch hierarchy well organized and with reduced likelihood of ambiguities. Moreover, it extends the \"public\" myfilter interface: a user who wants to control the padding explicitly can call the NoPad variant directly."
   ],
   "cell_type": "markdown",
   "metadata": {}
  }
 ]
}
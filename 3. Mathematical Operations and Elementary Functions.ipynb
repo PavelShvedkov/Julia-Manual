{
 "metadata": {
  "language_info": {
   "codemirror_mode": {
    "name": "ipython",
    "version": 3
   },
   "file_extension": ".py",
   "mimetype": "text/x-python",
   "name": "python",
   "nbconvert_exporter": "python",
   "pygments_lexer": "ipython3",
   "version": 3
  },
  "orig_nbformat": 2,
  "kernelspec": {
   "name": "julia-1.4",
   "display_name": "Julia 1.4.1",
   "language": "julia"
  }
 },
 "nbformat": 4,
 "nbformat_minor": 2,
 "cells": [
  {
   "source": [
    "# Mathematical Operations and Elementary Functions"
   ],
   "cell_type": "markdown",
   "metadata": {}
  },
  {
   "source": [
    "Julia provides a complete collection of basic arithmetic and bitwise operators across all of its numeric primitive types, as well as providing portable, efficient implementations of a comprehensive collection of standard mathematical functions."
   ],
   "cell_type": "markdown",
   "metadata": {}
  },
  {
   "source": [
    "## Arithmetic Operations"
   ],
   "cell_type": "markdown",
   "metadata": {}
  },
  {
   "source": [
    "The following arithmetic operators are supported on all primitive numeric types:"
   ],
   "cell_type": "markdown",
   "metadata": {}
  },
  {
   "cell_type": "code",
   "execution_count": 1,
   "metadata": {},
   "outputs": [
    {
     "output_type": "stream",
     "name": "stdout",
     "text": [
      "search: \u001b[0m\u001b[1m+\u001b[22m\n",
      "\n"
     ]
    },
    {
     "output_type": "execute_result",
     "data": {
      "text/plain": [
       "\u001b[36m  +(x, y...)\u001b[39m\n",
       "\n",
       "  Addition operator. \u001b[36mx+y+z+...\u001b[39m calls this function with all arguments, i.e.\n",
       "  \u001b[36m+(x, y, z, ...)\u001b[39m.\n",
       "\n",
       "\u001b[1m  Examples\u001b[22m\n",
       "\u001b[1m  ≡≡≡≡≡≡≡≡≡≡\u001b[22m\n",
       "\n",
       "\u001b[36m  julia> 1 + 20 + 4\u001b[39m\n",
       "\u001b[36m  25\u001b[39m\n",
       "\u001b[36m  \u001b[39m\n",
       "\u001b[36m  julia> +(1, 20, 4)\u001b[39m\n",
       "\u001b[36m  25\u001b[39m\n",
       "\n",
       "  ────────────────────────────────────────────────────────────────────────────\n",
       "\n",
       "\u001b[36m  dt::Date + t::Time -> DateTime\u001b[39m\n",
       "\n",
       "  The addition of a \u001b[36mDate\u001b[39m with a \u001b[36mTime\u001b[39m produces a \u001b[36mDateTime\u001b[39m. The hour, minute,\n",
       "  second, and millisecond parts of the \u001b[36mTime\u001b[39m are used along with the year,\n",
       "  month, and day of the \u001b[36mDate\u001b[39m to create the new \u001b[36mDateTime\u001b[39m. Non-zero microseconds\n",
       "  or nanoseconds in the \u001b[36mTime\u001b[39m type will result in an \u001b[36mInexactError\u001b[39m being thrown."
      ],
      "text/markdown": "```\n+(x, y...)\n```\n\nAddition operator. `x+y+z+...` calls this function with all arguments, i.e. `+(x, y, z, ...)`.\n\n# Examples\n\n```jldoctest\njulia> 1 + 20 + 4\n25\n\njulia> +(1, 20, 4)\n25\n```\n\n---\n\n```\ndt::Date + t::Time -> DateTime\n```\n\nThe addition of a `Date` with a `Time` produces a `DateTime`. The hour, minute, second, and millisecond parts of the `Time` are used along with the year, month, and day of the `Date` to create the new `DateTime`. Non-zero microseconds or nanoseconds in the `Time` type will result in an `InexactError` being thrown.\n",
      "text/latex": "\\begin{verbatim}\n+(x, y...)\n\\end{verbatim}\nAddition operator. \\texttt{x+y+z+...} calls this function with all arguments, i.e. \\texttt{+(x, y, z, ...)}.\n\n\\section{Examples}\n\\begin{verbatim}\njulia> 1 + 20 + 4\n25\n\njulia> +(1, 20, 4)\n25\n\\end{verbatim}\n\\rule{\\textwidth}{1pt}\n\\begin{verbatim}\ndt::Date + t::Time -> DateTime\n\\end{verbatim}\nThe addition of a \\texttt{Date} with a \\texttt{Time} produces a \\texttt{DateTime}. The hour, minute, second, and millisecond parts of the \\texttt{Time} are used along with the year, month, and day of the \\texttt{Date} to create the new \\texttt{DateTime}. Non-zero microseconds or nanoseconds in the \\texttt{Time} type will result in an \\texttt{InexactError} being thrown.\n\n"
     },
     "metadata": {},
     "execution_count": 1
    }
   ],
   "source": [
    "?+"
   ]
  },
  {
   "cell_type": "code",
   "execution_count": 2,
   "metadata": {},
   "outputs": [
    {
     "output_type": "stream",
     "name": "stdout",
     "text": [
      "search: \u001b[0m\u001b[1m-\u001b[22m\n\n"
     ]
    },
    {
     "output_type": "execute_result",
     "data": {
      "text/plain": [
       "\u001b[36m  -(x)\u001b[39m\n",
       "\n",
       "  Unary minus operator.\n",
       "\n",
       "\u001b[1m  Examples\u001b[22m\n",
       "\u001b[1m  ≡≡≡≡≡≡≡≡≡≡\u001b[22m\n",
       "\n",
       "\u001b[36m  julia> -1\u001b[39m\n",
       "\u001b[36m  -1\u001b[39m\n",
       "\u001b[36m  \u001b[39m\n",
       "\u001b[36m  julia> -(2)\u001b[39m\n",
       "\u001b[36m  -2\u001b[39m\n",
       "\u001b[36m  \u001b[39m\n",
       "\u001b[36m  julia> -[1 2; 3 4]\u001b[39m\n",
       "\u001b[36m  2×2 Array{Int64,2}:\u001b[39m\n",
       "\u001b[36m   -1  -2\u001b[39m\n",
       "\u001b[36m   -3  -4\u001b[39m\n",
       "\n",
       "  ────────────────────────────────────────────────────────────────────────────\n",
       "\n",
       "\u001b[36m  -(x, y)\u001b[39m\n",
       "\n",
       "  Subtraction operator.\n",
       "\n",
       "\u001b[1m  Examples\u001b[22m\n",
       "\u001b[1m  ≡≡≡≡≡≡≡≡≡≡\u001b[22m\n",
       "\n",
       "\u001b[36m  julia> 2 - 3\u001b[39m\n",
       "\u001b[36m  -1\u001b[39m\n",
       "\u001b[36m  \u001b[39m\n",
       "\u001b[36m  julia> -(2, 4.5)\u001b[39m\n",
       "\u001b[36m  -2.5\u001b[39m"
      ],
      "text/markdown": "```\n-(x)\n```\n\nUnary minus operator.\n\n# Examples\n\n```jldoctest\njulia> -1\n-1\n\njulia> -(2)\n-2\n\njulia> -[1 2; 3 4]\n2×2 Array{Int64,2}:\n -1  -2\n -3  -4\n```\n\n---\n\n```\n-(x, y)\n```\n\nSubtraction operator.\n\n# Examples\n\n```jldoctest\njulia> 2 - 3\n-1\n\njulia> -(2, 4.5)\n-2.5\n```\n",
      "text/latex": "\\begin{verbatim}\n-(x)\n\\end{verbatim}\nUnary minus operator.\n\n\\section{Examples}\n\\begin{verbatim}\njulia> -1\n-1\n\njulia> -(2)\n-2\n\njulia> -[1 2; 3 4]\n2×2 Array{Int64,2}:\n -1  -2\n -3  -4\n\\end{verbatim}\n\\rule{\\textwidth}{1pt}\n\\begin{verbatim}\n-(x, y)\n\\end{verbatim}\nSubtraction operator.\n\n\\section{Examples}\n\\begin{verbatim}\njulia> 2 - 3\n-1\n\njulia> -(2, 4.5)\n-2.5\n\\end{verbatim}\n"
     },
     "metadata": {},
     "execution_count": 2
    }
   ],
   "source": [
    "?-"
   ]
  },
  {
   "cell_type": "code",
   "execution_count": 3,
   "metadata": {},
   "outputs": [
    {
     "output_type": "stream",
     "name": "stdout",
     "text": [
      "search: \u001b[0m\u001b[1m*\u001b[22m\n\n"
     ]
    },
    {
     "output_type": "execute_result",
     "data": {
      "text/plain": [
       "\u001b[36m  *(s::Union{AbstractString, AbstractChar}, t::Union{AbstractString, AbstractChar}...) -> AbstractString\u001b[39m\n",
       "\n",
       "  Concatenate strings and/or characters, producing a \u001b[36mString\u001b[39m. This is\n",
       "  equivalent to calling the \u001b[36mstring\u001b[39m function on the arguments. Concatenation of\n",
       "  built-in string types always produces a value of type \u001b[36mString\u001b[39m but other\n",
       "  string types may choose to return a string of a different type as\n",
       "  appropriate.\n",
       "\n",
       "\u001b[1m  Examples\u001b[22m\n",
       "\u001b[1m  ≡≡≡≡≡≡≡≡≡≡\u001b[22m\n",
       "\n",
       "\u001b[36m  julia> \"Hello \" * \"world\"\u001b[39m\n",
       "\u001b[36m  \"Hello world\"\u001b[39m\n",
       "\u001b[36m  \u001b[39m\n",
       "\u001b[36m  julia> 'j' * \"ulia\"\u001b[39m\n",
       "\u001b[36m  \"julia\"\u001b[39m\n",
       "\n",
       "  ────────────────────────────────────────────────────────────────────────────\n",
       "\n",
       "\u001b[36m  *(s::Regex, t::Union{Regex,AbstractString,AbstractChar}) -> Regex\u001b[39m\n",
       "\u001b[36m  *(s::Union{Regex,AbstractString,AbstractChar}, t::Regex) -> Regex\u001b[39m\n",
       "\n",
       "  Concatenate regexes, strings and/or characters, producing a \u001b[36mRegex\u001b[39m. String\n",
       "  and character arguments must be matched exactly in the resulting regex,\n",
       "  meaning that the contained characters are devoid of any special meaning\n",
       "  (they are quoted with \"\\Q\" and \"\\E\").\n",
       "\n",
       "\u001b[39m\u001b[1m  │ \u001b[22m\u001b[39m\u001b[1mJulia 1.3\u001b[22m\n",
       "\u001b[39m\u001b[1m  │\u001b[22m\n",
       "\u001b[39m\u001b[1m  │\u001b[22m  This method requires at least Julia 1.3.\n",
       "\n",
       "\u001b[1m  Examples\u001b[22m\n",
       "\u001b[1m  ≡≡≡≡≡≡≡≡≡≡\u001b[22m\n",
       "\n",
       "\u001b[36m  julia> match(r\"Hello|Good bye\" * ' ' * \"world\", \"Hello world\")\u001b[39m\n",
       "\u001b[36m  RegexMatch(\"Hello world\")\u001b[39m\n",
       "\u001b[36m  \u001b[39m\n",
       "\u001b[36m  julia> r = r\"a|b\" * \"c|d\"\u001b[39m\n",
       "\u001b[36m  r\"(?:a|b)\\Qc|d\\E\"\u001b[39m\n",
       "\u001b[36m  \u001b[39m\n",
       "\u001b[36m  julia> match(r, \"ac\") == nothing\u001b[39m\n",
       "\u001b[36m  true\u001b[39m\n",
       "\u001b[36m  \u001b[39m\n",
       "\u001b[36m  julia> match(r, \"ac|d\")\u001b[39m\n",
       "\u001b[36m  RegexMatch(\"ac|d\")\u001b[39m\n",
       "\n",
       "  ────────────────────────────────────────────────────────────────────────────\n",
       "\n",
       "\u001b[36m  *(x, y...)\u001b[39m\n",
       "\n",
       "  Multiplication operator. \u001b[36mx*y*z*...\u001b[39m calls this function with all arguments,\n",
       "  i.e. \u001b[36m*(x, y, z, ...)\u001b[39m.\n",
       "\n",
       "\u001b[1m  Examples\u001b[22m\n",
       "\u001b[1m  ≡≡≡≡≡≡≡≡≡≡\u001b[22m\n",
       "\n",
       "\u001b[36m  julia> 2 * 7 * 8\u001b[39m\n",
       "\u001b[36m  112\u001b[39m\n",
       "\u001b[36m  \u001b[39m\n",
       "\u001b[36m  julia> *(2, 7, 8)\u001b[39m\n",
       "\u001b[36m  112\u001b[39m\n",
       "\n",
       "  ────────────────────────────────────────────────────────────────────────────\n",
       "\n",
       "\u001b[36m  *(A::AbstractMatrix, B::AbstractMatrix)\u001b[39m\n",
       "\n",
       "  Matrix multiplication.\n",
       "\n",
       "\u001b[1m  Examples\u001b[22m\n",
       "\u001b[1m  ≡≡≡≡≡≡≡≡≡≡\u001b[22m\n",
       "\n",
       "\u001b[36m  julia> [1 1; 0 1] * [1 0; 1 1]\u001b[39m\n",
       "\u001b[36m  2×2 Array{Int64,2}:\u001b[39m\n",
       "\u001b[36m   2  1\u001b[39m\n",
       "\u001b[36m   1  1\u001b[39m"
      ],
      "text/markdown": "```\n*(s::Union{AbstractString, AbstractChar}, t::Union{AbstractString, AbstractChar}...) -> AbstractString\n```\n\nConcatenate strings and/or characters, producing a [`String`](@ref). This is equivalent to calling the [`string`](@ref) function on the arguments. Concatenation of built-in string types always produces a value of type `String` but other string types may choose to return a string of a different type as appropriate.\n\n# Examples\n\n```jldoctest\njulia> \"Hello \" * \"world\"\n\"Hello world\"\n\njulia> 'j' * \"ulia\"\n\"julia\"\n```\n\n---\n\n```\n*(s::Regex, t::Union{Regex,AbstractString,AbstractChar}) -> Regex\n*(s::Union{Regex,AbstractString,AbstractChar}, t::Regex) -> Regex\n```\n\nConcatenate regexes, strings and/or characters, producing a [`Regex`](@ref). String and character arguments must be matched exactly in the resulting regex, meaning that the contained characters are devoid of any special meaning (they are quoted with \"\\Q\" and \"\\E\").\n\n!!! compat \"Julia 1.3\"\n    This method requires at least Julia 1.3.\n\n\n# Examples\n\n```jldoctest\njulia> match(r\"Hello|Good bye\" * ' ' * \"world\", \"Hello world\")\nRegexMatch(\"Hello world\")\n\njulia> r = r\"a|b\" * \"c|d\"\nr\"(?:a|b)\\Qc|d\\E\"\n\njulia> match(r, \"ac\") == nothing\ntrue\n\njulia> match(r, \"ac|d\")\nRegexMatch(\"ac|d\")\n```\n\n---\n\n```\n*(x, y...)\n```\n\nMultiplication operator. `x*y*z*...` calls this function with all arguments, i.e. `*(x, y, z, ...)`.\n\n# Examples\n\n```jldoctest\njulia> 2 * 7 * 8\n112\n\njulia> *(2, 7, 8)\n112\n```\n\n---\n\n```\n*(A::AbstractMatrix, B::AbstractMatrix)\n```\n\nMatrix multiplication.\n\n# Examples\n\n```jldoctest\njulia> [1 1; 0 1] * [1 0; 1 1]\n2×2 Array{Int64,2}:\n 2  1\n 1  1\n```\n",
      "text/latex": "\\begin{verbatim}\n*(s::Union{AbstractString, AbstractChar}, t::Union{AbstractString, AbstractChar}...) -> AbstractString\n\\end{verbatim}\nConcatenate strings and/or characters, producing a \\href{@ref}{\\texttt{String}}. This is equivalent to calling the \\href{@ref}{\\texttt{string}} function on the arguments. Concatenation of built-in string types always produces a value of type \\texttt{String} but other string types may choose to return a string of a different type as appropriate.\n\n\\section{Examples}\n\\begin{verbatim}\njulia> \"Hello \" * \"world\"\n\"Hello world\"\n\njulia> 'j' * \"ulia\"\n\"julia\"\n\\end{verbatim}\n\\rule{\\textwidth}{1pt}\n\\begin{verbatim}\n*(s::Regex, t::Union{Regex,AbstractString,AbstractChar}) -> Regex\n*(s::Union{Regex,AbstractString,AbstractChar}, t::Regex) -> Regex\n\\end{verbatim}\nConcatenate regexes, strings and/or characters, producing a \\href{@ref}{\\texttt{Regex}}. String and character arguments must be matched exactly in the resulting regex, meaning that the contained characters are devoid of any special meaning (they are quoted with \"{\\textbackslash}Q\" and \"{\\textbackslash}E\").\n\n\\begin{quote}\n\\textbf{compat}\n\nJulia 1.3\n\nThis method requires at least Julia 1.3.\n\n\\end{quote}\n\\section{Examples}\n\\begin{verbatim}\njulia> match(r\"Hello|Good bye\" * ' ' * \"world\", \"Hello world\")\nRegexMatch(\"Hello world\")\n\njulia> r = r\"a|b\" * \"c|d\"\nr\"(?:a|b)\\Qc|d\\E\"\n\njulia> match(r, \"ac\") == nothing\ntrue\n\njulia> match(r, \"ac|d\")\nRegexMatch(\"ac|d\")\n\\end{verbatim}\n\\rule{\\textwidth}{1pt}\n\\begin{verbatim}\n*(x, y...)\n\\end{verbatim}\nMultiplication operator. \\texttt{x*y*z*...} calls this function with all arguments, i.e. \\texttt{*(x, y, z, ...)}.\n\n\\section{Examples}\n\\begin{verbatim}\njulia> 2 * 7 * 8\n112\n\njulia> *(2, 7, 8)\n112\n\\end{verbatim}\n\\rule{\\textwidth}{1pt}\n\\begin{verbatim}\n*(A::AbstractMatrix, B::AbstractMatrix)\n\\end{verbatim}\nMatrix multiplication.\n\n\\section{Examples}\n\\begin{verbatim}\njulia> [1 1; 0 1] * [1 0; 1 1]\n2×2 Array{Int64,2}:\n 2  1\n 1  1\n\\end{verbatim}\n"
     },
     "metadata": {},
     "execution_count": 3
    }
   ],
   "source": [
    "?*"
   ]
  },
  {
   "cell_type": "code",
   "execution_count": 4,
   "metadata": {},
   "outputs": [
    {
     "output_type": "stream",
     "name": "stdout",
     "text": [
      "search: \u001b[0m\u001b[1m/\u001b[22m \u001b[0m\u001b[1m/\u001b[22m/\n\n"
     ]
    },
    {
     "output_type": "execute_result",
     "data": {
      "text/plain": [
       "\u001b[36m  /(x, y)\u001b[39m\n",
       "\n",
       "  Right division operator: multiplication of \u001b[36mx\u001b[39m by the inverse of \u001b[36my\u001b[39m on the\n",
       "  right. Gives floating-point results for integer arguments.\n",
       "\n",
       "\u001b[1m  Examples\u001b[22m\n",
       "\u001b[1m  ≡≡≡≡≡≡≡≡≡≡\u001b[22m\n",
       "\n",
       "\u001b[36m  julia> 1/2\u001b[39m\n",
       "\u001b[36m  0.5\u001b[39m\n",
       "\u001b[36m  \u001b[39m\n",
       "\u001b[36m  julia> 4/2\u001b[39m\n",
       "\u001b[36m  2.0\u001b[39m\n",
       "\u001b[36m  \u001b[39m\n",
       "\u001b[36m  julia> 4.5/2\u001b[39m\n",
       "\u001b[36m  2.25\u001b[39m"
      ],
      "text/markdown": "```\n/(x, y)\n```\n\nRight division operator: multiplication of `x` by the inverse of `y` on the right. Gives floating-point results for integer arguments.\n\n# Examples\n\n```jldoctest\njulia> 1/2\n0.5\n\njulia> 4/2\n2.0\n\njulia> 4.5/2\n2.25\n```\n",
      "text/latex": "\\begin{verbatim}\n/(x, y)\n\\end{verbatim}\nRight division operator: multiplication of \\texttt{x} by the inverse of \\texttt{y} on the right. Gives floating-point results for integer arguments.\n\n\\section{Examples}\n\\begin{verbatim}\njulia> 1/2\n0.5\n\njulia> 4/2\n2.0\n\njulia> 4.5/2\n2.25\n\\end{verbatim}\n"
     },
     "metadata": {},
     "execution_count": 4
    }
   ],
   "source": [
    "?/"
   ]
  },
  {
   "cell_type": "code",
   "execution_count": 5,
   "metadata": {},
   "outputs": [
    {
     "output_type": "stream",
     "name": "stdout",
     "text": [
      "\"\u001b[36m÷\u001b[39m\" can be typed by \u001b[36m\\div<tab>\u001b[39m\n",
      "\n",
      "search: \u001b[0m\u001b[1m÷\u001b[22m\n",
      "\n"
     ]
    },
    {
     "output_type": "execute_result",
     "data": {
      "text/plain": [
       "\u001b[36m  div(x, y)\u001b[39m\n",
       "\u001b[36m  ÷(x, y)\u001b[39m\n",
       "\n",
       "  The quotient from Euclidean division. Computes \u001b[36mx/y\u001b[39m, truncated to an integer.\n",
       "\n",
       "\u001b[1m  Examples\u001b[22m\n",
       "\u001b[1m  ≡≡≡≡≡≡≡≡≡≡\u001b[22m\n",
       "\n",
       "\u001b[36m  julia> 9 ÷ 4\u001b[39m\n",
       "\u001b[36m  2\u001b[39m\n",
       "\u001b[36m  \u001b[39m\n",
       "\u001b[36m  julia> -5 ÷ 3\u001b[39m\n",
       "\u001b[36m  -1\u001b[39m\n",
       "\u001b[36m  \u001b[39m\n",
       "\u001b[36m  julia> 5.0 ÷ 2\u001b[39m\n",
       "\u001b[36m  2.0\u001b[39m\n",
       "\n",
       "  ────────────────────────────────────────────────────────────────────────────\n",
       "\n",
       "\u001b[36m  div(x, y, r::RoundingMode=RoundToZero)\u001b[39m\n",
       "\n",
       "  The quotient from Euclidean division. Computes x/y, rounded to an integer\n",
       "  according to the rounding mode \u001b[36mr\u001b[39m. In other words, the quantity\n",
       "\n",
       "\u001b[36m  round(x/y,r)\u001b[39m\n",
       "\n",
       "  without any intermediate rounding.\n",
       "\n",
       "  See also: \u001b[36mfld\u001b[39m, \u001b[36mcld\u001b[39m which are special cases of this function\n",
       "\n",
       "\u001b[1m  Examples:\u001b[22m\n",
       "\u001b[1m  ≡≡≡≡≡≡≡≡≡≡≡\u001b[22m\n",
       "\n",
       "\u001b[36m  julia> div(4, 3, RoundDown) # Matches fld(4, 3)\u001b[39m\n",
       "\u001b[36m  1\u001b[39m\n",
       "\u001b[36m  julia> div(4, 3, RoundUp) # Matches cld(4, 3)\u001b[39m\n",
       "\u001b[36m  2\u001b[39m\n",
       "\u001b[36m  julia> div(5, 2, RoundNearest)\u001b[39m\n",
       "\u001b[36m  2\u001b[39m\n",
       "\u001b[36m  julia> div(5, 2, RoundNearestTiesAway)\u001b[39m\n",
       "\u001b[36m  3\u001b[39m\n",
       "\u001b[36m  julia> div(-5, 2, RoundNearest)\u001b[39m\n",
       "\u001b[36m  -2\u001b[39m\n",
       "\u001b[36m  julia> div(-5, 2, RoundNearestTiesAway)\u001b[39m\n",
       "\u001b[36m  -3\u001b[39m\n",
       "\u001b[36m  julia> div(-5, 2, RoundNearestTiesUp)\u001b[39m\n",
       "\u001b[36m  -2\u001b[39m"
      ],
      "text/markdown": "```\ndiv(x, y)\n÷(x, y)\n```\n\nThe quotient from Euclidean division. Computes `x/y`, truncated to an integer.\n\n# Examples\n\n```jldoctest\njulia> 9 ÷ 4\n2\n\njulia> -5 ÷ 3\n-1\n\njulia> 5.0 ÷ 2\n2.0\n```\n\n---\n\n```\ndiv(x, y, r::RoundingMode=RoundToZero)\n```\n\nThe quotient from Euclidean division. Computes x/y, rounded to an integer according to the rounding mode `r`. In other words, the quantity\n\n```\nround(x/y,r)\n```\n\nwithout any intermediate rounding.\n\nSee also: [`fld`](@ref), [`cld`](@ref) which are special cases of this function\n\n# Examples:\n\n```jldoctest\njulia> div(4, 3, RoundDown) # Matches fld(4, 3)\n1\njulia> div(4, 3, RoundUp) # Matches cld(4, 3)\n2\njulia> div(5, 2, RoundNearest)\n2\njulia> div(5, 2, RoundNearestTiesAway)\n3\njulia> div(-5, 2, RoundNearest)\n-2\njulia> div(-5, 2, RoundNearestTiesAway)\n-3\njulia> div(-5, 2, RoundNearestTiesUp)\n-2\n```\n",
      "text/latex": "\\begin{verbatim}\ndiv(x, y)\n÷(x, y)\n\\end{verbatim}\nThe quotient from Euclidean division. Computes \\texttt{x/y}, truncated to an integer.\n\n\\section{Examples}\n\\begin{verbatim}\njulia> 9 ÷ 4\n2\n\njulia> -5 ÷ 3\n-1\n\njulia> 5.0 ÷ 2\n2.0\n\\end{verbatim}\n\\rule{\\textwidth}{1pt}\n\\begin{verbatim}\ndiv(x, y, r::RoundingMode=RoundToZero)\n\\end{verbatim}\nThe quotient from Euclidean division. Computes x/y, rounded to an integer according to the rounding mode \\texttt{r}. In other words, the quantity\n\n\\begin{verbatim}\nround(x/y,r)\n\\end{verbatim}\nwithout any intermediate rounding.\n\nSee also: \\href{@ref}{\\texttt{fld}}, \\href{@ref}{\\texttt{cld}} which are special cases of this function\n\n\\section{Examples:}\n\\begin{verbatim}\njulia> div(4, 3, RoundDown) # Matches fld(4, 3)\n1\njulia> div(4, 3, RoundUp) # Matches cld(4, 3)\n2\njulia> div(5, 2, RoundNearest)\n2\njulia> div(5, 2, RoundNearestTiesAway)\n3\njulia> div(-5, 2, RoundNearest)\n-2\njulia> div(-5, 2, RoundNearestTiesAway)\n-3\njulia> div(-5, 2, RoundNearestTiesUp)\n-2\n\\end{verbatim}\n"
     },
     "metadata": {},
     "execution_count": 5
    }
   ],
   "source": [
    "?÷"
   ]
  },
  {
   "cell_type": "code",
   "execution_count": 6,
   "metadata": {},
   "outputs": [
    {
     "output_type": "stream",
     "name": "stdout",
     "text": [
      "search: \u001b[0m\u001b[1m\\\u001b[22m\n\n"
     ]
    },
    {
     "output_type": "execute_result",
     "data": {
      "text/plain": [
       "\u001b[36m  \\(x, y)\u001b[39m\n",
       "\n",
       "  Left division operator: multiplication of \u001b[36my\u001b[39m by the inverse of \u001b[36mx\u001b[39m on the left.\n",
       "  Gives floating-point results for integer arguments.\n",
       "\n",
       "\u001b[1m  Examples\u001b[22m\n",
       "\u001b[1m  ≡≡≡≡≡≡≡≡≡≡\u001b[22m\n",
       "\n",
       "\u001b[36m  julia> 3 \\ 6\u001b[39m\n",
       "\u001b[36m  2.0\u001b[39m\n",
       "\u001b[36m  \u001b[39m\n",
       "\u001b[36m  julia> inv(3) * 6\u001b[39m\n",
       "\u001b[36m  2.0\u001b[39m\n",
       "\u001b[36m  \u001b[39m\n",
       "\u001b[36m  julia> A = [4 3; 2 1]; x = [5, 6];\u001b[39m\n",
       "\u001b[36m  \u001b[39m\n",
       "\u001b[36m  julia> A \\ x\u001b[39m\n",
       "\u001b[36m  2-element Array{Float64,1}:\u001b[39m\n",
       "\u001b[36m    6.5\u001b[39m\n",
       "\u001b[36m   -7.0\u001b[39m\n",
       "\u001b[36m  \u001b[39m\n",
       "\u001b[36m  julia> inv(A) * x\u001b[39m\n",
       "\u001b[36m  2-element Array{Float64,1}:\u001b[39m\n",
       "\u001b[36m    6.5\u001b[39m\n",
       "\u001b[36m   -7.0\u001b[39m\n",
       "\n",
       "  ────────────────────────────────────────────────────────────────────────────\n",
       "\n",
       "\u001b[36m  \\(A, B)\u001b[39m\n",
       "\n",
       "  Matrix division using a polyalgorithm. For input matrices \u001b[36mA\u001b[39m and \u001b[36mB\u001b[39m, the\n",
       "  result \u001b[36mX\u001b[39m is such that \u001b[36mA*X == B\u001b[39m when \u001b[36mA\u001b[39m is square. The solver that is used\n",
       "  depends upon the structure of \u001b[36mA\u001b[39m. If \u001b[36mA\u001b[39m is upper or lower triangular (or\n",
       "  diagonal), no factorization of \u001b[36mA\u001b[39m is required and the system is solved with\n",
       "  either forward or backward substitution. For non-triangular square matrices,\n",
       "  an LU factorization is used.\n",
       "\n",
       "  For rectangular \u001b[36mA\u001b[39m the result is the minimum-norm least squares solution\n",
       "  computed by a pivoted QR factorization of \u001b[36mA\u001b[39m and a rank estimate of \u001b[36mA\u001b[39m based\n",
       "  on the R factor.\n",
       "\n",
       "  When \u001b[36mA\u001b[39m is sparse, a similar polyalgorithm is used. For indefinite matrices,\n",
       "  the \u001b[36mLDLt\u001b[39m factorization does not use pivoting during the numerical\n",
       "  factorization and therefore the procedure can fail even for invertible\n",
       "  matrices.\n",
       "\n",
       "\u001b[1m  Examples\u001b[22m\n",
       "\u001b[1m  ≡≡≡≡≡≡≡≡≡≡\u001b[22m\n",
       "\n",
       "\u001b[36m  julia> A = [1 0; 1 -2]; B = [32; -4];\u001b[39m\n",
       "\u001b[36m  \u001b[39m\n",
       "\u001b[36m  julia> X = A \\ B\u001b[39m\n",
       "\u001b[36m  2-element Array{Float64,1}:\u001b[39m\n",
       "\u001b[36m   32.0\u001b[39m\n",
       "\u001b[36m   18.0\u001b[39m\n",
       "\u001b[36m  \u001b[39m\n",
       "\u001b[36m  julia> A * X == B\u001b[39m\n",
       "\u001b[36m  true\u001b[39m\n",
       "\n",
       "  ────────────────────────────────────────────────────────────────────────────\n",
       "\n",
       "\u001b[36m  (\\)(F::QRSparse, B::StridedVecOrMat)\u001b[39m\n",
       "\n",
       "  Solve the least squares problem \u001b[35m\\min\\|Ax - b\\|^2\u001b[39m or the linear system of\n",
       "  equations \u001b[35mAx=b\u001b[39m when \u001b[36mF\u001b[39m is the sparse QR factorization of \u001b[35mA\u001b[39m. A basic solution\n",
       "  is returned when the problem is underdetermined.\n",
       "\n",
       "\u001b[1m  Examples\u001b[22m\n",
       "\u001b[1m  ≡≡≡≡≡≡≡≡≡≡\u001b[22m\n",
       "\n",
       "\u001b[36m  julia> A = sparse([1,2,4], [1,1,1], [1.0,1.0,1.0], 4, 2)\u001b[39m\n",
       "\u001b[36m  4×2 SparseMatrixCSC{Float64,Int64} with 3 stored entries:\u001b[39m\n",
       "\u001b[36m    [1, 1]  =  1.0\u001b[39m\n",
       "\u001b[36m    [2, 1]  =  1.0\u001b[39m\n",
       "\u001b[36m    [4, 1]  =  1.0\u001b[39m\n",
       "\u001b[36m  \u001b[39m\n",
       "\u001b[36m  julia> qr(A)\\fill(1.0, 4)\u001b[39m\n",
       "\u001b[36m  2-element Array{Float64,1}:\u001b[39m\n",
       "\u001b[36m   1.0\u001b[39m\n",
       "\u001b[36m   0.0\u001b[39m"
      ],
      "text/markdown": "```\n\\(x, y)\n```\n\nLeft division operator: multiplication of `y` by the inverse of `x` on the left. Gives floating-point results for integer arguments.\n\n# Examples\n\n```jldoctest\njulia> 3 \\ 6\n2.0\n\njulia> inv(3) * 6\n2.0\n\njulia> A = [4 3; 2 1]; x = [5, 6];\n\njulia> A \\ x\n2-element Array{Float64,1}:\n  6.5\n -7.0\n\njulia> inv(A) * x\n2-element Array{Float64,1}:\n  6.5\n -7.0\n```\n\n---\n\n```\n\\(A, B)\n```\n\nMatrix division using a polyalgorithm. For input matrices `A` and `B`, the result `X` is such that `A*X == B` when `A` is square. The solver that is used depends upon the structure of `A`.  If `A` is upper or lower triangular (or diagonal), no factorization of `A` is required and the system is solved with either forward or backward substitution. For non-triangular square matrices, an LU factorization is used.\n\nFor rectangular `A` the result is the minimum-norm least squares solution computed by a pivoted QR factorization of `A` and a rank estimate of `A` based on the R factor.\n\nWhen `A` is sparse, a similar polyalgorithm is used. For indefinite matrices, the `LDLt` factorization does not use pivoting during the numerical factorization and therefore the procedure can fail even for invertible matrices.\n\n# Examples\n\n```jldoctest\njulia> A = [1 0; 1 -2]; B = [32; -4];\n\njulia> X = A \\ B\n2-element Array{Float64,1}:\n 32.0\n 18.0\n\njulia> A * X == B\ntrue\n```\n\n---\n\n```\n(\\)(F::QRSparse, B::StridedVecOrMat)\n```\n\nSolve the least squares problem $\\min\\|Ax - b\\|^2$ or the linear system of equations $Ax=b$ when `F` is the sparse QR factorization of $A$. A basic solution is returned when the problem is underdetermined.\n\n# Examples\n\n```jldoctest\njulia> A = sparse([1,2,4], [1,1,1], [1.0,1.0,1.0], 4, 2)\n4×2 SparseMatrixCSC{Float64,Int64} with 3 stored entries:\n  [1, 1]  =  1.0\n  [2, 1]  =  1.0\n  [4, 1]  =  1.0\n\njulia> qr(A)\\fill(1.0, 4)\n2-element Array{Float64,1}:\n 1.0\n 0.0\n```\n",
      "text/latex": "\\begin{verbatim}\n\\(x, y)\n\\end{verbatim}\nLeft division operator: multiplication of \\texttt{y} by the inverse of \\texttt{x} on the left. Gives floating-point results for integer arguments.\n\n\\section{Examples}\n\\begin{verbatim}\njulia> 3 \\ 6\n2.0\n\njulia> inv(3) * 6\n2.0\n\njulia> A = [4 3; 2 1]; x = [5, 6];\n\njulia> A \\ x\n2-element Array{Float64,1}:\n  6.5\n -7.0\n\njulia> inv(A) * x\n2-element Array{Float64,1}:\n  6.5\n -7.0\n\\end{verbatim}\n\\rule{\\textwidth}{1pt}\n\\begin{verbatim}\n\\(A, B)\n\\end{verbatim}\nMatrix division using a polyalgorithm. For input matrices \\texttt{A} and \\texttt{B}, the result \\texttt{X} is such that \\texttt{A*X == B} when \\texttt{A} is square. The solver that is used depends upon the structure of \\texttt{A}.  If \\texttt{A} is upper or lower triangular (or diagonal), no factorization of \\texttt{A} is required and the system is solved with either forward or backward substitution. For non-triangular square matrices, an LU factorization is used.\n\nFor rectangular \\texttt{A} the result is the minimum-norm least squares solution computed by a pivoted QR factorization of \\texttt{A} and a rank estimate of \\texttt{A} based on the R factor.\n\nWhen \\texttt{A} is sparse, a similar polyalgorithm is used. For indefinite matrices, the \\texttt{LDLt} factorization does not use pivoting during the numerical factorization and therefore the procedure can fail even for invertible matrices.\n\n\\section{Examples}\n\\begin{verbatim}\njulia> A = [1 0; 1 -2]; B = [32; -4];\n\njulia> X = A \\ B\n2-element Array{Float64,1}:\n 32.0\n 18.0\n\njulia> A * X == B\ntrue\n\\end{verbatim}\n\\rule{\\textwidth}{1pt}\n\\begin{verbatim}\n(\\)(F::QRSparse, B::StridedVecOrMat)\n\\end{verbatim}\nSolve the least squares problem $\\min\\|Ax - b\\|^2$ or the linear system of equations $Ax=b$ when \\texttt{F} is the sparse QR factorization of $A$. A basic solution is returned when the problem is underdetermined.\n\n\\section{Examples}\n\\begin{verbatim}\njulia> A = sparse([1,2,4], [1,1,1], [1.0,1.0,1.0], 4, 2)\n4×2 SparseMatrixCSC{Float64,Int64} with 3 stored entries:\n  [1, 1]  =  1.0\n  [2, 1]  =  1.0\n  [4, 1]  =  1.0\n\njulia> qr(A)\\fill(1.0, 4)\n2-element Array{Float64,1}:\n 1.0\n 0.0\n\\end{verbatim}\n"
     },
     "metadata": {},
     "execution_count": 6
    }
   ],
   "source": [
    "?\\"
   ]
  },
  {
   "cell_type": "code",
   "execution_count": 7,
   "metadata": {},
   "outputs": [
    {
     "output_type": "stream",
     "name": "stdout",
     "text": [
      "search: \u001b[0m\u001b[1m^\u001b[22m\n\n"
     ]
    },
    {
     "output_type": "execute_result",
     "data": {
      "text/plain": [
       "\u001b[36m  ^(x, y)\u001b[39m\n",
       "\n",
       "  Exponentiation operator. If \u001b[36mx\u001b[39m is a matrix, computes matrix exponentiation.\n",
       "\n",
       "  If \u001b[36my\u001b[39m is an \u001b[36mInt\u001b[39m literal (e.g. \u001b[36m2\u001b[39m in \u001b[36mx^2\u001b[39m or \u001b[36m-3\u001b[39m in \u001b[36mx^-3\u001b[39m), the Julia code \u001b[36mx^y\u001b[39m is\n",
       "  transformed by the compiler to \u001b[36mBase.literal_pow(^, x, Val(y))\u001b[39m, to enable\n",
       "  compile-time specialization on the value of the exponent. (As a default\n",
       "  fallback we have \u001b[36mBase.literal_pow(^, x, Val(y)) = ^(x,y)\u001b[39m, where usually \u001b[36m^ ==\n",
       "  Base.^\u001b[39m unless \u001b[36m^\u001b[39m has been defined in the calling namespace.)\n",
       "\n",
       "\u001b[36m  julia> 3^5\u001b[39m\n",
       "\u001b[36m  243\u001b[39m\n",
       "\u001b[36m  \u001b[39m\n",
       "\u001b[36m  julia> A = [1 2; 3 4]\u001b[39m\n",
       "\u001b[36m  2×2 Array{Int64,2}:\u001b[39m\n",
       "\u001b[36m   1  2\u001b[39m\n",
       "\u001b[36m   3  4\u001b[39m\n",
       "\u001b[36m  \u001b[39m\n",
       "\u001b[36m  julia> A^3\u001b[39m\n",
       "\u001b[36m  2×2 Array{Int64,2}:\u001b[39m\n",
       "\u001b[36m   37   54\u001b[39m\n",
       "\u001b[36m   81  118\u001b[39m\n",
       "\n",
       "  ────────────────────────────────────────────────────────────────────────────\n",
       "\n",
       "\u001b[36m  ^(s::Union{AbstractString,AbstractChar}, n::Integer)\u001b[39m\n",
       "\n",
       "  Repeat a string or character \u001b[36mn\u001b[39m times. This can also be written as \u001b[36mrepeat(s,\n",
       "  n)\u001b[39m.\n",
       "\n",
       "  See also: \u001b[36mrepeat\u001b[39m\n",
       "\n",
       "\u001b[1m  Examples\u001b[22m\n",
       "\u001b[1m  ≡≡≡≡≡≡≡≡≡≡\u001b[22m\n",
       "\n",
       "\u001b[36m  julia> \"Test \"^3\u001b[39m\n",
       "\u001b[36m  \"Test Test Test \"\u001b[39m\n",
       "\n",
       "  ────────────────────────────────────────────────────────────────────────────\n",
       "\n",
       "\u001b[36m  ^(s::Regex, n::Integer)\u001b[39m\n",
       "\n",
       "  Repeat a regex \u001b[36mn\u001b[39m times.\n",
       "\n",
       "\u001b[39m\u001b[1m  │ \u001b[22m\u001b[39m\u001b[1mJulia 1.3\u001b[22m\n",
       "\u001b[39m\u001b[1m  │\u001b[22m\n",
       "\u001b[39m\u001b[1m  │\u001b[22m  This method requires at least Julia 1.3.\n",
       "\n",
       "\u001b[1m  Examples\u001b[22m\n",
       "\u001b[1m  ≡≡≡≡≡≡≡≡≡≡\u001b[22m\n",
       "\n",
       "\u001b[36m  julia> r\"Test \"^2\u001b[39m\n",
       "\u001b[36m  r\"(?:Test ){2}\"\u001b[39m\n",
       "\u001b[36m  \u001b[39m\n",
       "\u001b[36m  julia> match(r\"Test \"^2, \"Test Test \")\u001b[39m\n",
       "\u001b[36m  RegexMatch(\"Test Test \")\u001b[39m\n",
       "\n",
       "  ────────────────────────────────────────────────────────────────────────────\n",
       "\n",
       "\u001b[36m  ^(A::AbstractMatrix, p::Number)\u001b[39m\n",
       "\n",
       "  Matrix power, equivalent to \u001b[35m\\exp(p\\log(A))\u001b[39m\n",
       "\n",
       "\u001b[1m  Examples\u001b[22m\n",
       "\u001b[1m  ≡≡≡≡≡≡≡≡≡≡\u001b[22m\n",
       "\n",
       "\u001b[36m  julia> [1 2; 0 3]^3\u001b[39m\n",
       "\u001b[36m  2×2 Array{Int64,2}:\u001b[39m\n",
       "\u001b[36m   1  26\u001b[39m\n",
       "\u001b[36m   0  27\u001b[39m\n",
       "\n",
       "  ────────────────────────────────────────────────────────────────────────────\n",
       "\n",
       "\u001b[36m  ^(b::Number, A::AbstractMatrix)\u001b[39m\n",
       "\n",
       "  Matrix exponential, equivalent to \u001b[35m\\exp(\\log(b)A)\u001b[39m.\n",
       "\n",
       "\u001b[39m\u001b[1m  │ \u001b[22m\u001b[39m\u001b[1mJulia 1.1\u001b[22m\n",
       "\u001b[39m\u001b[1m  │\u001b[22m\n",
       "\u001b[39m\u001b[1m  │\u001b[22m  Support for raising \u001b[36mIrrational\u001b[39m numbers (like \u001b[36mℯ\u001b[39m) to a matrix was\n",
       "\u001b[39m\u001b[1m  │\u001b[22m  added in Julia 1.1.\n",
       "\n",
       "\u001b[1m  Examples\u001b[22m\n",
       "\u001b[1m  ≡≡≡≡≡≡≡≡≡≡\u001b[22m\n",
       "\n",
       "\u001b[36m  julia> 2^[1 2; 0 3]\u001b[39m\n",
       "\u001b[36m  2×2 Array{Float64,2}:\u001b[39m\n",
       "\u001b[36m   2.0  6.0\u001b[39m\n",
       "\u001b[36m   0.0  8.0\u001b[39m\n",
       "\u001b[36m  \u001b[39m\n",
       "\u001b[36m  julia> ℯ^[1 2; 0 3]\u001b[39m\n",
       "\u001b[36m  2×2 Array{Float64,2}:\u001b[39m\n",
       "\u001b[36m   2.71828  17.3673\u001b[39m\n",
       "\u001b[36m   0.0      20.0855\u001b[39m"
      ],
      "text/markdown": "```\n^(x, y)\n```\n\nExponentiation operator. If `x` is a matrix, computes matrix exponentiation.\n\nIf `y` is an `Int` literal (e.g. `2` in `x^2` or `-3` in `x^-3`), the Julia code `x^y` is transformed by the compiler to `Base.literal_pow(^, x, Val(y))`, to enable compile-time specialization on the value of the exponent. (As a default fallback we have `Base.literal_pow(^, x, Val(y)) = ^(x,y)`, where usually `^ == Base.^` unless `^` has been defined in the calling namespace.)\n\n```jldoctest\njulia> 3^5\n243\n\njulia> A = [1 2; 3 4]\n2×2 Array{Int64,2}:\n 1  2\n 3  4\n\njulia> A^3\n2×2 Array{Int64,2}:\n 37   54\n 81  118\n```\n\n---\n\n```\n^(s::Union{AbstractString,AbstractChar}, n::Integer)\n```\n\nRepeat a string or character `n` times. This can also be written as `repeat(s, n)`.\n\nSee also: [`repeat`](@ref)\n\n# Examples\n\n```jldoctest\njulia> \"Test \"^3\n\"Test Test Test \"\n```\n\n---\n\n```\n^(s::Regex, n::Integer)\n```\n\nRepeat a regex `n` times.\n\n!!! compat \"Julia 1.3\"\n    This method requires at least Julia 1.3.\n\n\n# Examples\n\n```jldoctest\njulia> r\"Test \"^2\nr\"(?:Test ){2}\"\n\njulia> match(r\"Test \"^2, \"Test Test \")\nRegexMatch(\"Test Test \")\n```\n\n---\n\n```\n^(A::AbstractMatrix, p::Number)\n```\n\nMatrix power, equivalent to $\\exp(p\\log(A))$\n\n# Examples\n\n```jldoctest\njulia> [1 2; 0 3]^3\n2×2 Array{Int64,2}:\n 1  26\n 0  27\n```\n\n---\n\n```\n^(b::Number, A::AbstractMatrix)\n```\n\nMatrix exponential, equivalent to $\\exp(\\log(b)A)$.\n\n!!! compat \"Julia 1.1\"\n    Support for raising `Irrational` numbers (like `ℯ`) to a matrix was added in Julia 1.1.\n\n\n# Examples\n\n```jldoctest\njulia> 2^[1 2; 0 3]\n2×2 Array{Float64,2}:\n 2.0  6.0\n 0.0  8.0\n\njulia> ℯ^[1 2; 0 3]\n2×2 Array{Float64,2}:\n 2.71828  17.3673\n 0.0      20.0855\n```\n",
      "text/latex": "\\begin{verbatim}\n^(x, y)\n\\end{verbatim}\nExponentiation operator. If \\texttt{x} is a matrix, computes matrix exponentiation.\n\nIf \\texttt{y} is an \\texttt{Int} literal (e.g. \\texttt{2} in \\texttt{x\\^{}2} or \\texttt{-3} in \\texttt{x\\^{}-3}), the Julia code \\texttt{x\\^{}y} is transformed by the compiler to \\texttt{Base.literal\\_pow(\\^{}, x, Val(y))}, to enable compile-time specialization on the value of the exponent. (As a default fallback we have \\texttt{Base.literal\\_pow(\\^{}, x, Val(y)) = \\^{}(x,y)}, where usually \\texttt{\\^{} == Base.\\^{}} unless \\texttt{\\^{}} has been defined in the calling namespace.)\n\n\\begin{verbatim}\njulia> 3^5\n243\n\njulia> A = [1 2; 3 4]\n2×2 Array{Int64,2}:\n 1  2\n 3  4\n\njulia> A^3\n2×2 Array{Int64,2}:\n 37   54\n 81  118\n\\end{verbatim}\n\\rule{\\textwidth}{1pt}\n\\begin{verbatim}\n^(s::Union{AbstractString,AbstractChar}, n::Integer)\n\\end{verbatim}\nRepeat a string or character \\texttt{n} times. This can also be written as \\texttt{repeat(s, n)}.\n\nSee also: \\href{@ref}{\\texttt{repeat}}\n\n\\section{Examples}\n\\begin{verbatim}\njulia> \"Test \"^3\n\"Test Test Test \"\n\\end{verbatim}\n\\rule{\\textwidth}{1pt}\n\\begin{verbatim}\n^(s::Regex, n::Integer)\n\\end{verbatim}\nRepeat a regex \\texttt{n} times.\n\n\\begin{quote}\n\\textbf{compat}\n\nJulia 1.3\n\nThis method requires at least Julia 1.3.\n\n\\end{quote}\n\\section{Examples}\n\\begin{verbatim}\njulia> r\"Test \"^2\nr\"(?:Test ){2}\"\n\njulia> match(r\"Test \"^2, \"Test Test \")\nRegexMatch(\"Test Test \")\n\\end{verbatim}\n\\rule{\\textwidth}{1pt}\n\\begin{verbatim}\n^(A::AbstractMatrix, p::Number)\n\\end{verbatim}\nMatrix power, equivalent to $\\exp(p\\log(A))$\n\n\\section{Examples}\n\\begin{verbatim}\njulia> [1 2; 0 3]^3\n2×2 Array{Int64,2}:\n 1  26\n 0  27\n\\end{verbatim}\n\\rule{\\textwidth}{1pt}\n\\begin{verbatim}\n^(b::Number, A::AbstractMatrix)\n\\end{verbatim}\nMatrix exponential, equivalent to $\\exp(\\log(b)A)$.\n\n\\begin{quote}\n\\textbf{compat}\n\nJulia 1.1\n\nSupport for raising \\texttt{Irrational} numbers (like \\texttt{ℯ}) to a matrix was added in Julia 1.1.\n\n\\end{quote}\n\\section{Examples}\n\\begin{verbatim}\njulia> 2^[1 2; 0 3]\n2×2 Array{Float64,2}:\n 2.0  6.0\n 0.0  8.0\n\njulia> ℯ^[1 2; 0 3]\n2×2 Array{Float64,2}:\n 2.71828  17.3673\n 0.0      20.0855\n\\end{verbatim}\n"
     },
     "metadata": {},
     "execution_count": 7
    }
   ],
   "source": [
    "?^"
   ]
  },
  {
   "cell_type": "code",
   "execution_count": 8,
   "metadata": {},
   "outputs": [
    {
     "output_type": "stream",
     "name": "stdout",
     "text": [
      "search: \u001b[0m\u001b[1m%\u001b[22m\n\n"
     ]
    },
    {
     "output_type": "execute_result",
     "data": {
      "text/plain": [
       "\u001b[36m  rem(x::Integer, T::Type{<:Integer}) -> T\u001b[39m\n",
       "\u001b[36m  mod(x::Integer, T::Type{<:Integer}) -> T\u001b[39m\n",
       "\u001b[36m  %(x::Integer, T::Type{<:Integer}) -> T\u001b[39m\n",
       "\n",
       "  Find \u001b[36my::T\u001b[39m such that \u001b[36mx\u001b[39m ≡ \u001b[36my\u001b[39m (mod n), where n is the number of integers\n",
       "  representable in \u001b[36mT\u001b[39m, and \u001b[36my\u001b[39m is an integer in \u001b[36m[typemin(T),typemax(T)]\u001b[39m. If \u001b[36mT\u001b[39m can\n",
       "  represent any integer (e.g. \u001b[36mT == BigInt\u001b[39m), then this operation corresponds to\n",
       "  a conversion to \u001b[36mT\u001b[39m.\n",
       "\n",
       "\u001b[1m  Examples\u001b[22m\n",
       "\u001b[1m  ≡≡≡≡≡≡≡≡≡≡\u001b[22m\n",
       "\n",
       "\u001b[36m  julia> 129 % Int8\u001b[39m\n",
       "\u001b[36m  -127\u001b[39m\n",
       "\n",
       "  ────────────────────────────────────────────────────────────────────────────\n",
       "\n",
       "\u001b[36m  rem(x, y)\u001b[39m\n",
       "\u001b[36m  %(x, y)\u001b[39m\n",
       "\n",
       "  Remainder from Euclidean division, returning a value of the same sign as \u001b[36mx\u001b[39m,\n",
       "  and smaller in magnitude than \u001b[36my\u001b[39m. This value is always exact.\n",
       "\n",
       "\u001b[1m  Examples\u001b[22m\n",
       "\u001b[1m  ≡≡≡≡≡≡≡≡≡≡\u001b[22m\n",
       "\n",
       "\u001b[36m  julia> x = 15; y = 4;\u001b[39m\n",
       "\u001b[36m  \u001b[39m\n",
       "\u001b[36m  julia> x % y\u001b[39m\n",
       "\u001b[36m  3\u001b[39m\n",
       "\u001b[36m  \u001b[39m\n",
       "\u001b[36m  julia> x == div(x, y) * y + rem(x, y)\u001b[39m\n",
       "\u001b[36m  true\u001b[39m\n",
       "\n",
       "  ────────────────────────────────────────────────────────────────────────────\n",
       "\n",
       "\u001b[36m  rem(x, y, r::RoundingMode=RoundToZero)\u001b[39m\n",
       "\n",
       "  Compute the remainder of \u001b[36mx\u001b[39m after integer division by \u001b[36my\u001b[39m, with the quotient\n",
       "  rounded according to the rounding mode \u001b[36mr\u001b[39m. In other words, the quantity\n",
       "\n",
       "\u001b[36m  x - y*round(x/y,r)\u001b[39m\n",
       "\n",
       "  without any intermediate rounding.\n",
       "\n",
       "    •    if \u001b[36mr == RoundNearest\u001b[39m, then the result is exact, and in the\n",
       "        interval \u001b[35m[-|y|/2, |y|/2]\u001b[39m. See also \u001b[36mRoundNearest\u001b[39m.\n",
       "\n",
       "    •    if \u001b[36mr == RoundToZero\u001b[39m (default), then the result is exact, and in\n",
       "        the interval \u001b[35m[0, |y|)\u001b[39m if \u001b[36mx\u001b[39m is positive, or \u001b[35m(-|y|, 0]\u001b[39m otherwise.\n",
       "        See also \u001b[36mRoundToZero\u001b[39m.\n",
       "\n",
       "    •    if \u001b[36mr == RoundDown\u001b[39m, then the result is in the interval \u001b[35m[0, y)\u001b[39m if \u001b[36my\u001b[39m\n",
       "        is positive, or \u001b[35m(y, 0]\u001b[39m otherwise. The result may not be exact if \u001b[36mx\u001b[39m\n",
       "        and \u001b[36my\u001b[39m have different signs, and \u001b[36mabs(x) < abs(y)\u001b[39m. See also\n",
       "        \u001b[36mRoundDown\u001b[39m.\n",
       "\n",
       "    •    if \u001b[36mr == RoundUp\u001b[39m, then the result is in the interval \u001b[36m(-y,0]\u001b[39m if \u001b[36my\u001b[39m is\n",
       "        positive, or \u001b[36m[0,-y)\u001b[39m otherwise. The result may not be exact if \u001b[36mx\u001b[39m\n",
       "        and \u001b[36my\u001b[39m have the same sign, and \u001b[36mabs(x) < abs(y)\u001b[39m. See also \u001b[36mRoundUp\u001b[39m."
      ],
      "text/markdown": "```\nrem(x::Integer, T::Type{<:Integer}) -> T\nmod(x::Integer, T::Type{<:Integer}) -> T\n%(x::Integer, T::Type{<:Integer}) -> T\n```\n\nFind `y::T` such that `x` ≡ `y` (mod n), where n is the number of integers representable in `T`, and `y` is an integer in `[typemin(T),typemax(T)]`. If `T` can represent any integer (e.g. `T == BigInt`), then this operation corresponds to a conversion to `T`.\n\n# Examples\n\n```jldoctest\njulia> 129 % Int8\n-127\n```\n\n---\n\n```\nrem(x, y)\n%(x, y)\n```\n\nRemainder from Euclidean division, returning a value of the same sign as `x`, and smaller in magnitude than `y`. This value is always exact.\n\n# Examples\n\n```jldoctest\njulia> x = 15; y = 4;\n\njulia> x % y\n3\n\njulia> x == div(x, y) * y + rem(x, y)\ntrue\n```\n\n---\n\n```\nrem(x, y, r::RoundingMode=RoundToZero)\n```\n\nCompute the remainder of `x` after integer division by `y`, with the quotient rounded according to the rounding mode `r`. In other words, the quantity\n\n```\nx - y*round(x/y,r)\n```\n\nwithout any intermediate rounding.\n\n  * if `r == RoundNearest`, then the result is exact, and in the interval $[-|y|/2, |y|/2]$. See also [`RoundNearest`](@ref).\n  * if `r == RoundToZero` (default), then the result is exact, and in the interval $[0, |y|)$ if `x` is positive, or $(-|y|, 0]$ otherwise. See also [`RoundToZero`](@ref).\n  * if `r == RoundDown`, then the result is in the interval $[0, y)$ if `y` is positive, or $(y, 0]$ otherwise. The result may not be exact if `x` and `y` have different signs, and `abs(x) < abs(y)`. See also [`RoundDown`](@ref).\n  * if `r == RoundUp`, then the result is in the interval `(-y,0]` if `y` is positive, or `[0,-y)` otherwise. The result may not be exact if `x` and `y` have the same sign, and `abs(x) < abs(y)`. See also [`RoundUp`](@ref).\n",
      "text/latex": "\\begin{verbatim}\nrem(x::Integer, T::Type{<:Integer}) -> T\nmod(x::Integer, T::Type{<:Integer}) -> T\n%(x::Integer, T::Type{<:Integer}) -> T\n\\end{verbatim}\nFind \\texttt{y::T} such that \\texttt{x} ≡ \\texttt{y} (mod n), where n is the number of integers representable in \\texttt{T}, and \\texttt{y} is an integer in \\texttt{[typemin(T),typemax(T)]}. If \\texttt{T} can represent any integer (e.g. \\texttt{T == BigInt}), then this operation corresponds to a conversion to \\texttt{T}.\n\n\\section{Examples}\n\\begin{verbatim}\njulia> 129 % Int8\n-127\n\\end{verbatim}\n\\rule{\\textwidth}{1pt}\n\\begin{verbatim}\nrem(x, y)\n%(x, y)\n\\end{verbatim}\nRemainder from Euclidean division, returning a value of the same sign as \\texttt{x}, and smaller in magnitude than \\texttt{y}. This value is always exact.\n\n\\section{Examples}\n\\begin{verbatim}\njulia> x = 15; y = 4;\n\njulia> x % y\n3\n\njulia> x == div(x, y) * y + rem(x, y)\ntrue\n\\end{verbatim}\n\\rule{\\textwidth}{1pt}\n\\begin{verbatim}\nrem(x, y, r::RoundingMode=RoundToZero)\n\\end{verbatim}\nCompute the remainder of \\texttt{x} after integer division by \\texttt{y}, with the quotient rounded according to the rounding mode \\texttt{r}. In other words, the quantity\n\n\\begin{verbatim}\nx - y*round(x/y,r)\n\\end{verbatim}\nwithout any intermediate rounding.\n\n\\begin{itemize}\n\\item if \\texttt{r == RoundNearest}, then the result is exact, and in the interval $[-|y|/2, |y|/2]$. See also \\href{@ref}{\\texttt{RoundNearest}}.\n\n\n\\item if \\texttt{r == RoundToZero} (default), then the result is exact, and in the interval $[0, |y|)$ if \\texttt{x} is positive, or $(-|y|, 0]$ otherwise. See also \\href{@ref}{\\texttt{RoundToZero}}.\n\n\n\\item if \\texttt{r == RoundDown}, then the result is in the interval $[0, y)$ if \\texttt{y} is positive, or $(y, 0]$ otherwise. The result may not be exact if \\texttt{x} and \\texttt{y} have different signs, and \\texttt{abs(x) < abs(y)}. See also \\href{@ref}{\\texttt{RoundDown}}.\n\n\n\\item if \\texttt{r == RoundUp}, then the result is in the interval \\texttt{(-y,0]} if \\texttt{y} is positive, or \\texttt{[0,-y)} otherwise. The result may not be exact if \\texttt{x} and \\texttt{y} have the same sign, and \\texttt{abs(x) < abs(y)}. See also \\href{@ref}{\\texttt{RoundUp}}.\n\n\\end{itemize}\n"
     },
     "metadata": {},
     "execution_count": 8
    }
   ],
   "source": [
    "?%"
   ]
  },
  {
   "source": [
    "as well as the negation on Bool types:"
   ],
   "cell_type": "markdown",
   "metadata": {}
  },
  {
   "cell_type": "code",
   "execution_count": 9,
   "metadata": {},
   "outputs": [
    {
     "output_type": "stream",
     "name": "stdout",
     "text": [
      "search: \u001b[0m\u001b[1m!\u001b[22m \u001b[0m\u001b[1m!\u001b[22m= \u001b[0m\u001b[1m!\u001b[22m== sum\u001b[0m\u001b[1m!\u001b[22m put\u001b[0m\u001b[1m!\u001b[22m pop\u001b[0m\u001b[1m!\u001b[22m map\u001b[0m\u001b[1m!\u001b[22m get\u001b[0m\u001b[1m!\u001b[22m any\u001b[0m\u001b[1m!\u001b[22m all\u001b[0m\u001b[1m!\u001b[22m take\u001b[0m\u001b[1m!\u001b[22m sort\u001b[0m\u001b[1m!\u001b[22m read\u001b[0m\u001b[1m!\u001b[22m push\u001b[0m\u001b[1m!\u001b[22m\n\n"
     ]
    },
    {
     "output_type": "execute_result",
     "data": {
      "text/plain": [
       "\u001b[36m  !(x)\u001b[39m\n",
       "\n",
       "  Boolean not. Implements three-valued logic\n",
       "  (https://en.wikipedia.org/wiki/Three-valued_logic), returning \u001b[36mmissing\u001b[39m if \u001b[36mx\u001b[39m\n",
       "  is \u001b[36mmissing\u001b[39m.\n",
       "\n",
       "\u001b[1m  Examples\u001b[22m\n",
       "\u001b[1m  ≡≡≡≡≡≡≡≡≡≡\u001b[22m\n",
       "\n",
       "\u001b[36m  julia> !true\u001b[39m\n",
       "\u001b[36m  false\u001b[39m\n",
       "\u001b[36m  \u001b[39m\n",
       "\u001b[36m  julia> !false\u001b[39m\n",
       "\u001b[36m  true\u001b[39m\n",
       "\u001b[36m  \u001b[39m\n",
       "\u001b[36m  julia> !missing\u001b[39m\n",
       "\u001b[36m  missing\u001b[39m\n",
       "\u001b[36m  \u001b[39m\n",
       "\u001b[36m  julia> .![true false true]\u001b[39m\n",
       "\u001b[36m  1×3 BitArray{2}:\u001b[39m\n",
       "\u001b[36m   0  1  0\u001b[39m\n",
       "\n",
       "  ────────────────────────────────────────────────────────────────────────────\n",
       "\n",
       "\u001b[36m  !f::Function\u001b[39m\n",
       "\n",
       "  Predicate function negation: when the argument of \u001b[36m!\u001b[39m is a function, it\n",
       "  returns a function which computes the boolean negation of \u001b[36mf\u001b[39m.\n",
       "\n",
       "\u001b[1m  Examples\u001b[22m\n",
       "\u001b[1m  ≡≡≡≡≡≡≡≡≡≡\u001b[22m\n",
       "\n",
       "\u001b[36m  julia> str = \"∀ ε > 0, ∃ δ > 0: |x-y| < δ ⇒ |f(x)-f(y)| < ε\"\u001b[39m\n",
       "\u001b[36m  \"∀ ε > 0, ∃ δ > 0: |x-y| < δ ⇒ |f(x)-f(y)| < ε\"\u001b[39m\n",
       "\u001b[36m  \u001b[39m\n",
       "\u001b[36m  julia> filter(isletter, str)\u001b[39m\n",
       "\u001b[36m  \"εδxyδfxfyε\"\u001b[39m\n",
       "\u001b[36m  \u001b[39m\n",
       "\u001b[36m  julia> filter(!isletter, str)\u001b[39m\n",
       "\u001b[36m  \"∀  > 0, ∃  > 0: |-| <  ⇒ |()-()| < \"\u001b[39m"
      ],
      "text/markdown": "```\n!(x)\n```\n\nBoolean not. Implements [three-valued logic](https://en.wikipedia.org/wiki/Three-valued_logic), returning [`missing`](@ref) if `x` is `missing`.\n\n# Examples\n\n```jldoctest\njulia> !true\nfalse\n\njulia> !false\ntrue\n\njulia> !missing\nmissing\n\njulia> .![true false true]\n1×3 BitArray{2}:\n 0  1  0\n```\n\n---\n\n```\n!f::Function\n```\n\nPredicate function negation: when the argument of `!` is a function, it returns a function which computes the boolean negation of `f`.\n\n# Examples\n\n```jldoctest\njulia> str = \"∀ ε > 0, ∃ δ > 0: |x-y| < δ ⇒ |f(x)-f(y)| < ε\"\n\"∀ ε > 0, ∃ δ > 0: |x-y| < δ ⇒ |f(x)-f(y)| < ε\"\n\njulia> filter(isletter, str)\n\"εδxyδfxfyε\"\n\njulia> filter(!isletter, str)\n\"∀  > 0, ∃  > 0: |-| <  ⇒ |()-()| < \"\n```\n",
      "text/latex": "\\begin{verbatim}\n!(x)\n\\end{verbatim}\nBoolean not. Implements \\href{https://en.wikipedia.org/wiki/Three-valued_logic}{three-valued logic}, returning \\href{@ref}{\\texttt{missing}} if \\texttt{x} is \\texttt{missing}.\n\n\\section{Examples}\n\\begin{verbatim}\njulia> !true\nfalse\n\njulia> !false\ntrue\n\njulia> !missing\nmissing\n\njulia> .![true false true]\n1×3 BitArray{2}:\n 0  1  0\n\\end{verbatim}\n\\rule{\\textwidth}{1pt}\n\\begin{verbatim}\n!f::Function\n\\end{verbatim}\nPredicate function negation: when the argument of \\texttt{!} is a function, it returns a function which computes the boolean negation of \\texttt{f}.\n\n\\section{Examples}\n\\begin{verbatim}\njulia> str = \"∀ ε > 0, ∃ δ > 0: |x-y| < δ ⇒ |f(x)-f(y)| < ε\"\n\"∀ ε > 0, ∃ δ > 0: |x-y| < δ ⇒ |f(x)-f(y)| < ε\"\n\njulia> filter(isletter, str)\n\"εδxyδfxfyε\"\n\njulia> filter(!isletter, str)\n\"∀  > 0, ∃  > 0: |-| <  ⇒ |()-()| < \"\n\\end{verbatim}\n"
     },
     "metadata": {},
     "execution_count": 9
    }
   ],
   "source": [
    "?!"
   ]
  },
  {
   "source": [
    "A numeric literal placed directly before an identifier or parentheses, e.g. 2x or 2(x+y), is treated as a multiplication, except with higher precedence than other binary operations. See Numeric Literal Coefficients for details.\n",
    "\n",
    "Julia's promotion system makes arithmetic operations on mixtures of argument types \"just work\" naturally and automatically. See Conversion and Promotion for details of the promotion system."
   ],
   "cell_type": "markdown",
   "metadata": {}
  },
  {
   "cell_type": "code",
   "execution_count": 10,
   "metadata": {},
   "outputs": [
    {
     "output_type": "execute_result",
     "data": {
      "text/plain": [
       "0.0"
      ]
     },
     "metadata": {},
     "execution_count": 10
    }
   ],
   "source": [
    "NaN * false"
   ]
  },
  {
   "cell_type": "code",
   "execution_count": 11,
   "metadata": {},
   "outputs": [
    {
     "output_type": "execute_result",
     "data": {
      "text/plain": [
       "0.0"
      ]
     },
     "metadata": {},
     "execution_count": 11
    }
   ],
   "source": [
    "false * Inf"
   ]
  },
  {
   "source": [
    "## Bitwise Operators"
   ],
   "cell_type": "markdown",
   "metadata": {}
  },
  {
   "source": [
    "The following bitwise operators are supported on all primitive integer types:"
   ],
   "cell_type": "markdown",
   "metadata": {}
  },
  {
   "cell_type": "code",
   "execution_count": 12,
   "metadata": {},
   "outputs": [
    {
     "output_type": "stream",
     "name": "stdout",
     "text": [
      "search: \u001b[0m\u001b[1m~\u001b[22m\n\n"
     ]
    },
    {
     "output_type": "execute_result",
     "data": {
      "text/plain": [
       "\u001b[36m  ~(x)\u001b[39m\n",
       "\n",
       "  Bitwise not.\n",
       "\n",
       "\u001b[1m  Examples\u001b[22m\n",
       "\u001b[1m  ≡≡≡≡≡≡≡≡≡≡\u001b[22m\n",
       "\n",
       "\u001b[36m  julia> ~4\u001b[39m\n",
       "\u001b[36m  -5\u001b[39m\n",
       "\u001b[36m  \u001b[39m\n",
       "\u001b[36m  julia> ~10\u001b[39m\n",
       "\u001b[36m  -11\u001b[39m\n",
       "\u001b[36m  \u001b[39m\n",
       "\u001b[36m  julia> ~true\u001b[39m\n",
       "\u001b[36m  false\u001b[39m"
      ],
      "text/markdown": "```\n~(x)\n```\n\nBitwise not.\n\n# Examples\n\n```jldoctest\njulia> ~4\n-5\n\njulia> ~10\n-11\n\njulia> ~true\nfalse\n```\n",
      "text/latex": "\\begin{verbatim}\n~(x)\n\\end{verbatim}\nBitwise not.\n\n\\section{Examples}\n\\begin{verbatim}\njulia> ~4\n-5\n\njulia> ~10\n-11\n\njulia> ~true\nfalse\n\\end{verbatim}\n"
     },
     "metadata": {},
     "execution_count": 12
    }
   ],
   "source": [
    "?~"
   ]
  },
  {
   "cell_type": "code",
   "execution_count": 13,
   "metadata": {},
   "outputs": [
    {
     "output_type": "stream",
     "name": "stdout",
     "text": [
      "search: \u001b[0m\u001b[1m&\u001b[22m\n\n"
     ]
    },
    {
     "output_type": "execute_result",
     "data": {
      "text/plain": [
       "\u001b[36m  &(x, y)\u001b[39m\n",
       "\n",
       "  Bitwise and. Implements three-valued logic\n",
       "  (https://en.wikipedia.org/wiki/Three-valued_logic), returning \u001b[36mmissing\u001b[39m if one\n",
       "  operand is \u001b[36mmissing\u001b[39m and the other is \u001b[36mtrue\u001b[39m.\n",
       "\n",
       "\u001b[1m  Examples\u001b[22m\n",
       "\u001b[1m  ≡≡≡≡≡≡≡≡≡≡\u001b[22m\n",
       "\n",
       "\u001b[36m  julia> 4 & 10\u001b[39m\n",
       "\u001b[36m  0\u001b[39m\n",
       "\u001b[36m  \u001b[39m\n",
       "\u001b[36m  julia> 4 & 12\u001b[39m\n",
       "\u001b[36m  4\u001b[39m\n",
       "\u001b[36m  \u001b[39m\n",
       "\u001b[36m  julia> true & missing\u001b[39m\n",
       "\u001b[36m  missing\u001b[39m\n",
       "\u001b[36m  \u001b[39m\n",
       "\u001b[36m  julia> false & missing\u001b[39m\n",
       "\u001b[36m  false\u001b[39m"
      ],
      "text/markdown": "```\n&(x, y)\n```\n\nBitwise and. Implements [three-valued logic](https://en.wikipedia.org/wiki/Three-valued_logic), returning [`missing`](@ref) if one operand is `missing` and the other is `true`.\n\n# Examples\n\n```jldoctest\njulia> 4 & 10\n0\n\njulia> 4 & 12\n4\n\njulia> true & missing\nmissing\n\njulia> false & missing\nfalse\n```\n",
      "text/latex": "\\begin{verbatim}\n&(x, y)\n\\end{verbatim}\nBitwise and. Implements \\href{https://en.wikipedia.org/wiki/Three-valued_logic}{three-valued logic}, returning \\href{@ref}{\\texttt{missing}} if one operand is \\texttt{missing} and the other is \\texttt{true}.\n\n\\section{Examples}\n\\begin{verbatim}\njulia> 4 & 10\n0\n\njulia> 4 & 12\n4\n\njulia> true & missing\nmissing\n\njulia> false & missing\nfalse\n\\end{verbatim}\n"
     },
     "metadata": {},
     "execution_count": 13
    }
   ],
   "source": [
    "?&"
   ]
  },
  {
   "cell_type": "code",
   "execution_count": 14,
   "metadata": {},
   "outputs": [
    {
     "output_type": "stream",
     "name": "stdout",
     "text": [
      "search: \u001b[0m\u001b[1m|\u001b[22m \u001b[0m\u001b[1m|\u001b[22m>\n\n"
     ]
    },
    {
     "output_type": "execute_result",
     "data": {
      "text/plain": [
       "\u001b[36m  |(x, y)\u001b[39m\n",
       "\n",
       "  Bitwise or. Implements three-valued logic\n",
       "  (https://en.wikipedia.org/wiki/Three-valued_logic), returning \u001b[36mmissing\u001b[39m if one\n",
       "  operand is \u001b[36mmissing\u001b[39m and the other is \u001b[36mfalse\u001b[39m.\n",
       "\n",
       "\u001b[1m  Examples\u001b[22m\n",
       "\u001b[1m  ≡≡≡≡≡≡≡≡≡≡\u001b[22m\n",
       "\n",
       "\u001b[36m  julia> 4 | 10\u001b[39m\n",
       "\u001b[36m  14\u001b[39m\n",
       "\u001b[36m  \u001b[39m\n",
       "\u001b[36m  julia> 4 | 1\u001b[39m\n",
       "\u001b[36m  5\u001b[39m\n",
       "\u001b[36m  \u001b[39m\n",
       "\u001b[36m  julia> true | missing\u001b[39m\n",
       "\u001b[36m  true\u001b[39m\n",
       "\u001b[36m  \u001b[39m\n",
       "\u001b[36m  julia> false | missing\u001b[39m\n",
       "\u001b[36m  missing\u001b[39m"
      ],
      "text/markdown": "```\n|(x, y)\n```\n\nBitwise or. Implements [three-valued logic](https://en.wikipedia.org/wiki/Three-valued_logic), returning [`missing`](@ref) if one operand is `missing` and the other is `false`.\n\n# Examples\n\n```jldoctest\njulia> 4 | 10\n14\n\njulia> 4 | 1\n5\n\njulia> true | missing\ntrue\n\njulia> false | missing\nmissing\n```\n",
      "text/latex": "\\begin{verbatim}\n|(x, y)\n\\end{verbatim}\nBitwise or. Implements \\href{https://en.wikipedia.org/wiki/Three-valued_logic}{three-valued logic}, returning \\href{@ref}{\\texttt{missing}} if one operand is \\texttt{missing} and the other is \\texttt{false}.\n\n\\section{Examples}\n\\begin{verbatim}\njulia> 4 | 10\n14\n\njulia> 4 | 1\n5\n\njulia> true | missing\ntrue\n\njulia> false | missing\nmissing\n\\end{verbatim}\n"
     },
     "metadata": {},
     "execution_count": 14
    }
   ],
   "source": [
    "?|"
   ]
  },
  {
   "cell_type": "code",
   "execution_count": 15,
   "metadata": {},
   "outputs": [
    {
     "output_type": "stream",
     "name": "stdout",
     "text": [
      "\"\u001b[36m⊻\u001b[39m\" can be typed by \u001b[36m\\xor<tab>\u001b[39m\n\nsearch: \u001b[0m\u001b[1m⊻\u001b[22m\n\n"
     ]
    },
    {
     "output_type": "execute_result",
     "data": {
      "text/plain": [
       "\u001b[36m  xor(x, y)\u001b[39m\n",
       "\u001b[36m  ⊻(x, y)\u001b[39m\n",
       "\n",
       "  Bitwise exclusive or of \u001b[36mx\u001b[39m and \u001b[36my\u001b[39m. Implements three-valued logic\n",
       "  (https://en.wikipedia.org/wiki/Three-valued_logic), returning \u001b[36mmissing\u001b[39m if one\n",
       "  of the arguments is \u001b[36mmissing\u001b[39m.\n",
       "\n",
       "  The infix operation \u001b[36ma ⊻ b\u001b[39m is a synonym for \u001b[36mxor(a,b)\u001b[39m, and \u001b[36m⊻\u001b[39m can be typed by\n",
       "  tab-completing \u001b[36m\\xor\u001b[39m or \u001b[36m\\veebar\u001b[39m in the Julia REPL.\n",
       "\n",
       "\u001b[1m  Examples\u001b[22m\n",
       "\u001b[1m  ≡≡≡≡≡≡≡≡≡≡\u001b[22m\n",
       "\n",
       "\u001b[36m  julia> xor(true, false)\u001b[39m\n",
       "\u001b[36m  true\u001b[39m\n",
       "\u001b[36m  \u001b[39m\n",
       "\u001b[36m  julia> xor(true, true)\u001b[39m\n",
       "\u001b[36m  false\u001b[39m\n",
       "\u001b[36m  \u001b[39m\n",
       "\u001b[36m  julia> xor(true, missing)\u001b[39m\n",
       "\u001b[36m  missing\u001b[39m\n",
       "\u001b[36m  \u001b[39m\n",
       "\u001b[36m  julia> false ⊻ false\u001b[39m\n",
       "\u001b[36m  false\u001b[39m\n",
       "\u001b[36m  \u001b[39m\n",
       "\u001b[36m  julia> [true; true; false] .⊻ [true; false; false]\u001b[39m\n",
       "\u001b[36m  3-element BitArray{1}:\u001b[39m\n",
       "\u001b[36m   0\u001b[39m\n",
       "\u001b[36m   1\u001b[39m\n",
       "\u001b[36m   0\u001b[39m"
      ],
      "text/markdown": "```\nxor(x, y)\n⊻(x, y)\n```\n\nBitwise exclusive or of `x` and `y`. Implements [three-valued logic](https://en.wikipedia.org/wiki/Three-valued_logic), returning [`missing`](@ref) if one of the arguments is `missing`.\n\nThe infix operation `a ⊻ b` is a synonym for `xor(a,b)`, and `⊻` can be typed by tab-completing `\\xor` or `\\veebar` in the Julia REPL.\n\n# Examples\n\n```jldoctest\njulia> xor(true, false)\ntrue\n\njulia> xor(true, true)\nfalse\n\njulia> xor(true, missing)\nmissing\n\njulia> false ⊻ false\nfalse\n\njulia> [true; true; false] .⊻ [true; false; false]\n3-element BitArray{1}:\n 0\n 1\n 0\n```\n",
      "text/latex": "\\begin{verbatim}\nxor(x, y)\n⊻(x, y)\n\\end{verbatim}\nBitwise exclusive or of \\texttt{x} and \\texttt{y}. Implements \\href{https://en.wikipedia.org/wiki/Three-valued_logic}{three-valued logic}, returning \\href{@ref}{\\texttt{missing}} if one of the arguments is \\texttt{missing}.\n\nThe infix operation \\texttt{a ⊻ b} is a synonym for \\texttt{xor(a,b)}, and \\texttt{⊻} can be typed by tab-completing \\texttt{{\\textbackslash}xor} or \\texttt{{\\textbackslash}veebar} in the Julia REPL.\n\n\\section{Examples}\n\\begin{verbatim}\njulia> xor(true, false)\ntrue\n\njulia> xor(true, true)\nfalse\n\njulia> xor(true, missing)\nmissing\n\njulia> false ⊻ false\nfalse\n\njulia> [true; true; false] .⊻ [true; false; false]\n3-element BitArray{1}:\n 0\n 1\n 0\n\\end{verbatim}\n"
     },
     "metadata": {},
     "execution_count": 15
    }
   ],
   "source": [
    "?⊻"
   ]
  },
  {
   "cell_type": "code",
   "execution_count": 16,
   "metadata": {},
   "outputs": [
    {
     "output_type": "stream",
     "name": "stdout",
     "text": [
      "search: \u001b[0m\u001b[1m>\u001b[22m\u001b[0m\u001b[1m>\u001b[22m\u001b[0m\u001b[1m>\u001b[22m \u001b[0m\u001b[1m>\u001b[22m\u001b[0m\u001b[1m>\u001b[22m\n\n"
     ]
    },
    {
     "output_type": "execute_result",
     "data": {
      "text/plain": [
       "\u001b[36m  >>>(x, n)\u001b[39m\n",
       "\n",
       "  Unsigned right bit shift operator, \u001b[36mx >>> n\u001b[39m. For \u001b[36mn >= 0\u001b[39m, the result is \u001b[36mx\u001b[39m\n",
       "  shifted right by \u001b[36mn\u001b[39m bits, where \u001b[36mn >= 0\u001b[39m, filling with \u001b[36m0\u001b[39ms. For \u001b[36mn < 0\u001b[39m, this is\n",
       "  equivalent to \u001b[36mx << -n\u001b[39m.\n",
       "\n",
       "  For \u001b[36mUnsigned\u001b[39m integer types, this is equivalent to \u001b[36m>>\u001b[39m. For \u001b[36mSigned\u001b[39m integer\n",
       "  types, this is equivalent to \u001b[36msigned(unsigned(x) >> n)\u001b[39m.\n",
       "\n",
       "\u001b[1m  Examples\u001b[22m\n",
       "\u001b[1m  ≡≡≡≡≡≡≡≡≡≡\u001b[22m\n",
       "\n",
       "\u001b[36m  julia> Int8(-14) >>> 2\u001b[39m\n",
       "\u001b[36m  60\u001b[39m\n",
       "\u001b[36m  \u001b[39m\n",
       "\u001b[36m  julia> bitstring(Int8(-14))\u001b[39m\n",
       "\u001b[36m  \"11110010\"\u001b[39m\n",
       "\u001b[36m  \u001b[39m\n",
       "\u001b[36m  julia> bitstring(Int8(60))\u001b[39m\n",
       "\u001b[36m  \"00111100\"\u001b[39m\n",
       "\n",
       "  \u001b[36mBigInt\u001b[39ms are treated as if having infinite size, so no filling is required\n",
       "  and this is equivalent to \u001b[36m>>\u001b[39m.\n",
       "\n",
       "  See also \u001b[36m>>\u001b[39m, \u001b[36m<<\u001b[39m.\n",
       "\n",
       "  ────────────────────────────────────────────────────────────────────────────\n",
       "\n",
       "\u001b[36m  >>>(B::BitVector, n) -> BitVector\u001b[39m\n",
       "\n",
       "  Unsigned right bitshift operator, \u001b[36mB >>> n\u001b[39m. Equivalent to \u001b[36mB >> n\u001b[39m. See \u001b[36m>>\u001b[39m for\n",
       "  details and examples."
      ],
      "text/markdown": "```\n>>>(x, n)\n```\n\nUnsigned right bit shift operator, `x >>> n`. For `n >= 0`, the result is `x` shifted right by `n` bits, where `n >= 0`, filling with `0`s. For `n < 0`, this is equivalent to `x << -n`.\n\nFor [`Unsigned`](@ref) integer types, this is equivalent to [`>>`](@ref). For [`Signed`](@ref) integer types, this is equivalent to `signed(unsigned(x) >> n)`.\n\n# Examples\n\n```jldoctest\njulia> Int8(-14) >>> 2\n60\n\njulia> bitstring(Int8(-14))\n\"11110010\"\n\njulia> bitstring(Int8(60))\n\"00111100\"\n```\n\n[`BigInt`](@ref)s are treated as if having infinite size, so no filling is required and this is equivalent to [`>>`](@ref).\n\nSee also [`>>`](@ref), [`<<`](@ref).\n\n---\n\n```\n>>>(B::BitVector, n) -> BitVector\n```\n\nUnsigned right bitshift operator, `B >>> n`. Equivalent to `B >> n`. See [`>>`](@ref) for details and examples.\n",
      "text/latex": "\\begin{verbatim}\n>>>(x, n)\n\\end{verbatim}\nUnsigned right bit shift operator, \\texttt{x >>> n}. For \\texttt{n >= 0}, the result is \\texttt{x} shifted right by \\texttt{n} bits, where \\texttt{n >= 0}, filling with \\texttt{0}s. For \\texttt{n < 0}, this is equivalent to \\texttt{x << -n}.\n\nFor \\href{@ref}{\\texttt{Unsigned}} integer types, this is equivalent to \\href{@ref}{\\texttt{>>}}. For \\href{@ref}{\\texttt{Signed}} integer types, this is equivalent to \\texttt{signed(unsigned(x) >> n)}.\n\n\\section{Examples}\n\\begin{verbatim}\njulia> Int8(-14) >>> 2\n60\n\njulia> bitstring(Int8(-14))\n\"11110010\"\n\njulia> bitstring(Int8(60))\n\"00111100\"\n\\end{verbatim}\n\\href{@ref}{\\texttt{BigInt}}s are treated as if having infinite size, so no filling is required and this is equivalent to \\href{@ref}{\\texttt{>>}}.\n\nSee also \\href{@ref}{\\texttt{>>}}, \\href{@ref}{\\texttt{<<}}.\n\n\\rule{\\textwidth}{1pt}\n\\begin{verbatim}\n>>>(B::BitVector, n) -> BitVector\n\\end{verbatim}\nUnsigned right bitshift operator, \\texttt{B >>> n}. Equivalent to \\texttt{B >> n}. See \\href{@ref}{\\texttt{>>}} for details and examples.\n\n"
     },
     "metadata": {},
     "execution_count": 16
    }
   ],
   "source": [
    "?>>>"
   ]
  },
  {
   "cell_type": "code",
   "execution_count": 17,
   "metadata": {},
   "outputs": [
    {
     "output_type": "stream",
     "name": "stdout",
     "text": [
      "search: \u001b[0m\u001b[1m>\u001b[22m\u001b[0m\u001b[1m>\u001b[22m \u001b[0m\u001b[1m>\u001b[22m\u001b[0m\u001b[1m>\u001b[22m>\n\n"
     ]
    },
    {
     "output_type": "execute_result",
     "data": {
      "text/plain": [
       "\u001b[36m  >>(x, n)\u001b[39m\n",
       "\n",
       "  Right bit shift operator, \u001b[36mx >> n\u001b[39m. For \u001b[36mn >= 0\u001b[39m, the result is \u001b[36mx\u001b[39m shifted right\n",
       "  by \u001b[36mn\u001b[39m bits, where \u001b[36mn >= 0\u001b[39m, filling with \u001b[36m0\u001b[39ms if \u001b[36mx >= 0\u001b[39m, \u001b[36m1\u001b[39ms if \u001b[36mx < 0\u001b[39m, preserving\n",
       "  the sign of \u001b[36mx\u001b[39m. This is equivalent to \u001b[36mfld(x, 2^n)\u001b[39m. For \u001b[36mn < 0\u001b[39m, this is\n",
       "  equivalent to \u001b[36mx << -n\u001b[39m.\n",
       "\n",
       "\u001b[1m  Examples\u001b[22m\n",
       "\u001b[1m  ≡≡≡≡≡≡≡≡≡≡\u001b[22m\n",
       "\n",
       "\u001b[36m  julia> Int8(13) >> 2\u001b[39m\n",
       "\u001b[36m  3\u001b[39m\n",
       "\u001b[36m  \u001b[39m\n",
       "\u001b[36m  julia> bitstring(Int8(13))\u001b[39m\n",
       "\u001b[36m  \"00001101\"\u001b[39m\n",
       "\u001b[36m  \u001b[39m\n",
       "\u001b[36m  julia> bitstring(Int8(3))\u001b[39m\n",
       "\u001b[36m  \"00000011\"\u001b[39m\n",
       "\u001b[36m  \u001b[39m\n",
       "\u001b[36m  julia> Int8(-14) >> 2\u001b[39m\n",
       "\u001b[36m  -4\u001b[39m\n",
       "\u001b[36m  \u001b[39m\n",
       "\u001b[36m  julia> bitstring(Int8(-14))\u001b[39m\n",
       "\u001b[36m  \"11110010\"\u001b[39m\n",
       "\u001b[36m  \u001b[39m\n",
       "\u001b[36m  julia> bitstring(Int8(-4))\u001b[39m\n",
       "\u001b[36m  \"11111100\"\u001b[39m\n",
       "\n",
       "  See also \u001b[36m>>>\u001b[39m, \u001b[36m<<\u001b[39m.\n",
       "\n",
       "  ────────────────────────────────────────────────────────────────────────────\n",
       "\n",
       "\u001b[36m  >>(B::BitVector, n) -> BitVector\u001b[39m\n",
       "\n",
       "  Right bit shift operator, \u001b[36mB >> n\u001b[39m. For \u001b[36mn >= 0\u001b[39m, the result is \u001b[36mB\u001b[39m with elements\n",
       "  shifted \u001b[36mn\u001b[39m positions forward, filling with \u001b[36mfalse\u001b[39m values. If \u001b[36mn < 0\u001b[39m, elements\n",
       "  are shifted backwards. Equivalent to \u001b[36mB << -n\u001b[39m.\n",
       "\n",
       "\u001b[1m  Examples\u001b[22m\n",
       "\u001b[1m  ≡≡≡≡≡≡≡≡≡≡\u001b[22m\n",
       "\n",
       "\u001b[36m  julia> B = BitVector([true, false, true, false, false])\u001b[39m\n",
       "\u001b[36m  5-element BitArray{1}:\u001b[39m\n",
       "\u001b[36m   1\u001b[39m\n",
       "\u001b[36m   0\u001b[39m\n",
       "\u001b[36m   1\u001b[39m\n",
       "\u001b[36m   0\u001b[39m\n",
       "\u001b[36m   0\u001b[39m\n",
       "\u001b[36m  \u001b[39m\n",
       "\u001b[36m  julia> B >> 1\u001b[39m\n",
       "\u001b[36m  5-element BitArray{1}:\u001b[39m\n",
       "\u001b[36m   0\u001b[39m\n",
       "\u001b[36m   1\u001b[39m\n",
       "\u001b[36m   0\u001b[39m\n",
       "\u001b[36m   1\u001b[39m\n",
       "\u001b[36m   0\u001b[39m\n",
       "\u001b[36m  \u001b[39m\n",
       "\u001b[36m  julia> B >> -1\u001b[39m\n",
       "\u001b[36m  5-element BitArray{1}:\u001b[39m\n",
       "\u001b[36m   0\u001b[39m\n",
       "\u001b[36m   1\u001b[39m\n",
       "\u001b[36m   0\u001b[39m\n",
       "\u001b[36m   0\u001b[39m\n",
       "\u001b[36m   0\u001b[39m"
      ],
      "text/markdown": "```\n>>(x, n)\n```\n\nRight bit shift operator, `x >> n`. For `n >= 0`, the result is `x` shifted right by `n` bits, where `n >= 0`, filling with `0`s if `x >= 0`, `1`s if `x < 0`, preserving the sign of `x`. This is equivalent to `fld(x, 2^n)`. For `n < 0`, this is equivalent to `x << -n`.\n\n# Examples\n\n```jldoctest\njulia> Int8(13) >> 2\n3\n\njulia> bitstring(Int8(13))\n\"00001101\"\n\njulia> bitstring(Int8(3))\n\"00000011\"\n\njulia> Int8(-14) >> 2\n-4\n\njulia> bitstring(Int8(-14))\n\"11110010\"\n\njulia> bitstring(Int8(-4))\n\"11111100\"\n```\n\nSee also [`>>>`](@ref), [`<<`](@ref).\n\n---\n\n```\n>>(B::BitVector, n) -> BitVector\n```\n\nRight bit shift operator, `B >> n`. For `n >= 0`, the result is `B` with elements shifted `n` positions forward, filling with `false` values. If `n < 0`, elements are shifted backwards. Equivalent to `B << -n`.\n\n# Examples\n\n```jldoctest\njulia> B = BitVector([true, false, true, false, false])\n5-element BitArray{1}:\n 1\n 0\n 1\n 0\n 0\n\njulia> B >> 1\n5-element BitArray{1}:\n 0\n 1\n 0\n 1\n 0\n\njulia> B >> -1\n5-element BitArray{1}:\n 0\n 1\n 0\n 0\n 0\n```\n",
      "text/latex": "\\begin{verbatim}\n>>(x, n)\n\\end{verbatim}\nRight bit shift operator, \\texttt{x >> n}. For \\texttt{n >= 0}, the result is \\texttt{x} shifted right by \\texttt{n} bits, where \\texttt{n >= 0}, filling with \\texttt{0}s if \\texttt{x >= 0}, \\texttt{1}s if \\texttt{x < 0}, preserving the sign of \\texttt{x}. This is equivalent to \\texttt{fld(x, 2\\^{}n)}. For \\texttt{n < 0}, this is equivalent to \\texttt{x << -n}.\n\n\\section{Examples}\n\\begin{verbatim}\njulia> Int8(13) >> 2\n3\n\njulia> bitstring(Int8(13))\n\"00001101\"\n\njulia> bitstring(Int8(3))\n\"00000011\"\n\njulia> Int8(-14) >> 2\n-4\n\njulia> bitstring(Int8(-14))\n\"11110010\"\n\njulia> bitstring(Int8(-4))\n\"11111100\"\n\\end{verbatim}\nSee also \\href{@ref}{\\texttt{>>>}}, \\href{@ref}{\\texttt{<<}}.\n\n\\rule{\\textwidth}{1pt}\n\\begin{verbatim}\n>>(B::BitVector, n) -> BitVector\n\\end{verbatim}\nRight bit shift operator, \\texttt{B >> n}. For \\texttt{n >= 0}, the result is \\texttt{B} with elements shifted \\texttt{n} positions forward, filling with \\texttt{false} values. If \\texttt{n < 0}, elements are shifted backwards. Equivalent to \\texttt{B << -n}.\n\n\\section{Examples}\n\\begin{verbatim}\njulia> B = BitVector([true, false, true, false, false])\n5-element BitArray{1}:\n 1\n 0\n 1\n 0\n 0\n\njulia> B >> 1\n5-element BitArray{1}:\n 0\n 1\n 0\n 1\n 0\n\njulia> B >> -1\n5-element BitArray{1}:\n 0\n 1\n 0\n 0\n 0\n\\end{verbatim}\n"
     },
     "metadata": {},
     "execution_count": 17
    }
   ],
   "source": [
    "?>>"
   ]
  },
  {
   "cell_type": "code",
   "execution_count": 18,
   "metadata": {},
   "outputs": [
    {
     "output_type": "stream",
     "name": "stdout",
     "text": [
      "search: \u001b[0m\u001b[1m<\u001b[22m\u001b[0m\u001b[1m<\u001b[22m\n\n"
     ]
    },
    {
     "output_type": "execute_result",
     "data": {
      "text/plain": [
       "\u001b[36m  <<(x, n)\u001b[39m\n",
       "\n",
       "  Left bit shift operator, \u001b[36mx << n\u001b[39m. For \u001b[36mn >= 0\u001b[39m, the result is \u001b[36mx\u001b[39m shifted left by\n",
       "  \u001b[36mn\u001b[39m bits, filling with \u001b[36m0\u001b[39ms. This is equivalent to \u001b[36mx * 2^n\u001b[39m. For \u001b[36mn < 0\u001b[39m, this is\n",
       "  equivalent to \u001b[36mx >> -n\u001b[39m.\n",
       "\n",
       "\u001b[1m  Examples\u001b[22m\n",
       "\u001b[1m  ≡≡≡≡≡≡≡≡≡≡\u001b[22m\n",
       "\n",
       "\u001b[36m  julia> Int8(3) << 2\u001b[39m\n",
       "\u001b[36m  12\u001b[39m\n",
       "\u001b[36m  \u001b[39m\n",
       "\u001b[36m  julia> bitstring(Int8(3))\u001b[39m\n",
       "\u001b[36m  \"00000011\"\u001b[39m\n",
       "\u001b[36m  \u001b[39m\n",
       "\u001b[36m  julia> bitstring(Int8(12))\u001b[39m\n",
       "\u001b[36m  \"00001100\"\u001b[39m\n",
       "\n",
       "  See also \u001b[36m>>\u001b[39m, \u001b[36m>>>\u001b[39m.\n",
       "\n",
       "  ────────────────────────────────────────────────────────────────────────────\n",
       "\n",
       "\u001b[36m  <<(B::BitVector, n) -> BitVector\u001b[39m\n",
       "\n",
       "  Left bit shift operator, \u001b[36mB << n\u001b[39m. For \u001b[36mn >= 0\u001b[39m, the result is \u001b[36mB\u001b[39m with elements\n",
       "  shifted \u001b[36mn\u001b[39m positions backwards, filling with \u001b[36mfalse\u001b[39m values. If \u001b[36mn < 0\u001b[39m, elements\n",
       "  are shifted forwards. Equivalent to \u001b[36mB >> -n\u001b[39m.\n",
       "\n",
       "\u001b[1m  Examples\u001b[22m\n",
       "\u001b[1m  ≡≡≡≡≡≡≡≡≡≡\u001b[22m\n",
       "\n",
       "\u001b[36m  julia> B = BitVector([true, false, true, false, false])\u001b[39m\n",
       "\u001b[36m  5-element BitArray{1}:\u001b[39m\n",
       "\u001b[36m   1\u001b[39m\n",
       "\u001b[36m   0\u001b[39m\n",
       "\u001b[36m   1\u001b[39m\n",
       "\u001b[36m   0\u001b[39m\n",
       "\u001b[36m   0\u001b[39m\n",
       "\u001b[36m  \u001b[39m\n",
       "\u001b[36m  julia> B << 1\u001b[39m\n",
       "\u001b[36m  5-element BitArray{1}:\u001b[39m\n",
       "\u001b[36m   0\u001b[39m\n",
       "\u001b[36m   1\u001b[39m\n",
       "\u001b[36m   0\u001b[39m\n",
       "\u001b[36m   0\u001b[39m\n",
       "\u001b[36m   0\u001b[39m\n",
       "\u001b[36m  \u001b[39m\n",
       "\u001b[36m  julia> B << -1\u001b[39m\n",
       "\u001b[36m  5-element BitArray{1}:\u001b[39m\n",
       "\u001b[36m   0\u001b[39m\n",
       "\u001b[36m   1\u001b[39m\n",
       "\u001b[36m   0\u001b[39m\n",
       "\u001b[36m   1\u001b[39m\n",
       "\u001b[36m   0\u001b[39m"
      ],
      "text/markdown": "```\n<<(x, n)\n```\n\nLeft bit shift operator, `x << n`. For `n >= 0`, the result is `x` shifted left by `n` bits, filling with `0`s. This is equivalent to `x * 2^n`. For `n < 0`, this is equivalent to `x >> -n`.\n\n# Examples\n\n```jldoctest\njulia> Int8(3) << 2\n12\n\njulia> bitstring(Int8(3))\n\"00000011\"\n\njulia> bitstring(Int8(12))\n\"00001100\"\n```\n\nSee also [`>>`](@ref), [`>>>`](@ref).\n\n---\n\n```\n<<(B::BitVector, n) -> BitVector\n```\n\nLeft bit shift operator, `B << n`. For `n >= 0`, the result is `B` with elements shifted `n` positions backwards, filling with `false` values. If `n < 0`, elements are shifted forwards. Equivalent to `B >> -n`.\n\n# Examples\n\n```jldoctest\njulia> B = BitVector([true, false, true, false, false])\n5-element BitArray{1}:\n 1\n 0\n 1\n 0\n 0\n\njulia> B << 1\n5-element BitArray{1}:\n 0\n 1\n 0\n 0\n 0\n\njulia> B << -1\n5-element BitArray{1}:\n 0\n 1\n 0\n 1\n 0\n```\n",
      "text/latex": "\\begin{verbatim}\n<<(x, n)\n\\end{verbatim}\nLeft bit shift operator, \\texttt{x << n}. For \\texttt{n >= 0}, the result is \\texttt{x} shifted left by \\texttt{n} bits, filling with \\texttt{0}s. This is equivalent to \\texttt{x * 2\\^{}n}. For \\texttt{n < 0}, this is equivalent to \\texttt{x >> -n}.\n\n\\section{Examples}\n\\begin{verbatim}\njulia> Int8(3) << 2\n12\n\njulia> bitstring(Int8(3))\n\"00000011\"\n\njulia> bitstring(Int8(12))\n\"00001100\"\n\\end{verbatim}\nSee also \\href{@ref}{\\texttt{>>}}, \\href{@ref}{\\texttt{>>>}}.\n\n\\rule{\\textwidth}{1pt}\n\\begin{verbatim}\n<<(B::BitVector, n) -> BitVector\n\\end{verbatim}\nLeft bit shift operator, \\texttt{B << n}. For \\texttt{n >= 0}, the result is \\texttt{B} with elements shifted \\texttt{n} positions backwards, filling with \\texttt{false} values. If \\texttt{n < 0}, elements are shifted forwards. Equivalent to \\texttt{B >> -n}.\n\n\\section{Examples}\n\\begin{verbatim}\njulia> B = BitVector([true, false, true, false, false])\n5-element BitArray{1}:\n 1\n 0\n 1\n 0\n 0\n\njulia> B << 1\n5-element BitArray{1}:\n 0\n 1\n 0\n 0\n 0\n\njulia> B << -1\n5-element BitArray{1}:\n 0\n 1\n 0\n 1\n 0\n\\end{verbatim}\n"
     },
     "metadata": {},
     "execution_count": 18
    }
   ],
   "source": [
    "?<<"
   ]
  },
  {
   "source": [
    "## Updating Operators"
   ],
   "cell_type": "markdown",
   "metadata": {}
  },
  {
   "source": [
    "Every binary arithmetic and bitwise operator also has an updating version that assigns the result of the operation back into its left operand. The updating version of the binary operator is formed by placing a = immediately after the operator. For example, writing x += 3 is equivalent to writing x = x + 3:"
   ],
   "cell_type": "markdown",
   "metadata": {}
  },
  {
   "cell_type": "code",
   "execution_count": 19,
   "metadata": {},
   "outputs": [
    {
     "output_type": "stream",
     "name": "stdout",
     "text": [
      "search: \u001b[0m\u001b[1m=\u001b[22m> \u001b[0m\u001b[1m=\u001b[22m= \u001b[0m\u001b[1m=\u001b[22m== >\u001b[0m\u001b[1m=\u001b[22m <\u001b[0m\u001b[1m=\u001b[22m !\u001b[0m\u001b[1m=\u001b[22m !\u001b[0m\u001b[1m=\u001b[22m=\n\n"
     ]
    },
    {
     "output_type": "execute_result",
     "data": {
      "text/plain": [
       "\u001b[36m  =\u001b[39m\n",
       "\n",
       "  \u001b[36m=\u001b[39m is the assignment operator.\n",
       "\n",
       "    •    For variable \u001b[36ma\u001b[39m and expression \u001b[36mb\u001b[39m, \u001b[36ma = b\u001b[39m makes \u001b[36ma\u001b[39m refer to the value\n",
       "        of \u001b[36mb\u001b[39m.\n",
       "\n",
       "    •    For functions \u001b[36mf(x)\u001b[39m, \u001b[36mf(x) = x\u001b[39m defines a new function constant \u001b[36mf\u001b[39m, or\n",
       "        adds a new method to \u001b[36mf\u001b[39m if \u001b[36mf\u001b[39m is already defined; this usage is\n",
       "        equivalent to \u001b[36mfunction f(x); x; end\u001b[39m.\n",
       "\n",
       "    •    \u001b[36ma[i] = v\u001b[39m calls \u001b[36msetindex!\u001b[39m\u001b[36m(a,v,i)\u001b[39m.\n",
       "\n",
       "    •    \u001b[36ma.b = c\u001b[39m calls \u001b[36msetproperty!\u001b[39m\u001b[36m(a,:b,c)\u001b[39m.\n",
       "\n",
       "    •    Inside a function call, \u001b[36mf(a=b)\u001b[39m passes \u001b[36mb\u001b[39m as the value of keyword\n",
       "        argument \u001b[36ma\u001b[39m.\n",
       "\n",
       "    •    Inside parentheses with commas, \u001b[36m(a=1,)\u001b[39m constructs a \u001b[36mNamedTuple\u001b[39m.\n",
       "\n",
       "\u001b[1m  Examples\u001b[22m\n",
       "\u001b[1m  ≡≡≡≡≡≡≡≡≡≡\u001b[22m\n",
       "\n",
       "  Assigning \u001b[36ma\u001b[39m to \u001b[36mb\u001b[39m does not create a copy of \u001b[36mb\u001b[39m; instead use \u001b[36mcopy\u001b[39m or \u001b[36mdeepcopy\u001b[39m.\n",
       "\n",
       "\u001b[36m  julia> b = [1]; a = b; b[1] = 2; a\u001b[39m\n",
       "\u001b[36m  1-element Array{Int64,1}:\u001b[39m\n",
       "\u001b[36m   2\u001b[39m\n",
       "\u001b[36m  \u001b[39m\n",
       "\u001b[36m  julia> b = [1]; a = copy(b); b[1] = 2; a\u001b[39m\n",
       "\u001b[36m  1-element Array{Int64,1}:\u001b[39m\n",
       "\u001b[36m   1\u001b[39m\n",
       "\u001b[36m  \u001b[39m\n",
       "\n",
       "  Collections passed to functions are also not copied. Functions can modify\n",
       "  (mutate) the contents of the objects their arguments refer to. (The names of\n",
       "  functions which do this are conventionally suffixed with '!'.)\n",
       "\n",
       "\u001b[36m  julia> function f!(x); x[:] .+= 1; end\u001b[39m\n",
       "\u001b[36m  f! (generic function with 1 method)\u001b[39m\n",
       "\u001b[36m  \u001b[39m\n",
       "\u001b[36m  julia> a = [1]; f!(a); a\u001b[39m\n",
       "\u001b[36m  1-element Array{Int64,1}:\u001b[39m\n",
       "\u001b[36m   2\u001b[39m\n",
       "\u001b[36m  \u001b[39m\n",
       "\n",
       "  Assignment can operate on multiple variables in parallel, taking values from\n",
       "  an iterable:\n",
       "\n",
       "\u001b[36m  julia> a, b = 4, 5\u001b[39m\n",
       "\u001b[36m  (4, 5)\u001b[39m\n",
       "\u001b[36m  \u001b[39m\n",
       "\u001b[36m  julia> a, b = 1:3\u001b[39m\n",
       "\u001b[36m  1:3\u001b[39m\n",
       "\u001b[36m  \u001b[39m\n",
       "\u001b[36m  julia> a, b\u001b[39m\n",
       "\u001b[36m  (1, 2)\u001b[39m\n",
       "\u001b[36m  \u001b[39m\n",
       "\n",
       "  Assignment can operate on multiple variables in series, and will return the\n",
       "  value of the right-hand-most expression:\n",
       "\n",
       "\u001b[36m  julia> a = [1]; b = [2]; c = [3]; a = b = c\u001b[39m\n",
       "\u001b[36m  1-element Array{Int64,1}:\u001b[39m\n",
       "\u001b[36m   3\u001b[39m\n",
       "\u001b[36m  \u001b[39m\n",
       "\u001b[36m  julia> b[1] = 2; a, b, c\u001b[39m\n",
       "\u001b[36m  ([2], [2], [2])\u001b[39m\n",
       "\u001b[36m  \u001b[39m\n",
       "\n",
       "  Assignment at out-of-bounds indices does not grow a collection. If the\n",
       "  collection is a \u001b[36mVector\u001b[39m it can instead be grown with \u001b[36mpush!\u001b[39m or \u001b[36mappend!\u001b[39m.\n",
       "\n",
       "\u001b[36m  julia> a = [1, 1]; a[3] = 2\u001b[39m\n",
       "\u001b[36m  ERROR: BoundsError: attempt to access 2-element Array{Int64,1} at index [3]\u001b[39m\n",
       "\u001b[36m  [...]\u001b[39m\n",
       "\u001b[36m  \u001b[39m\n",
       "\u001b[36m  julia> push!(a, 2, 3)\u001b[39m\n",
       "\u001b[36m  4-element Array{Int64,1}:\u001b[39m\n",
       "\u001b[36m   1\u001b[39m\n",
       "\u001b[36m   1\u001b[39m\n",
       "\u001b[36m   2\u001b[39m\n",
       "\u001b[36m   3\u001b[39m\n",
       "\u001b[36m  \u001b[39m\n",
       "\n",
       "  Assigning \u001b[36m[]\u001b[39m does not eliminate elements from a collection; instead use\n",
       "  \u001b[36mfilter!\u001b[39m.\n",
       "\n",
       "\u001b[36m  julia> a = collect(1:3); a[a .<= 1] = []\u001b[39m\n",
       "\u001b[36m  ERROR: DimensionMismatch(\"tried to assign 0 elements to 1 destinations\")\u001b[39m\n",
       "\u001b[36m  [...]\u001b[39m\n",
       "\u001b[36m  \u001b[39m\n",
       "\u001b[36m  julia> filter!(x -> x > 1, a) # in-place & thus more efficient than a = a[a .> 1]\u001b[39m\n",
       "\u001b[36m  2-element Array{Int64,1}:\u001b[39m\n",
       "\u001b[36m   2\u001b[39m\n",
       "\u001b[36m   3\u001b[39m\n",
       "\u001b[36m  \u001b[39m"
      ],
      "text/markdown": "```\n=\n```\n\n`=` is the assignment operator.\n\n  * For variable `a` and expression `b`, `a = b` makes `a` refer to the value of `b`.\n  * For functions `f(x)`, `f(x) = x` defines a new function constant `f`, or adds a new method to `f` if `f` is already defined; this usage is equivalent to `function f(x); x; end`.\n  * `a[i] = v` calls [`setindex!`](@ref)`(a,v,i)`.\n  * `a.b = c` calls [`setproperty!`](@ref)`(a,:b,c)`.\n  * Inside a function call, `f(a=b)` passes `b` as the value of keyword argument `a`.\n  * Inside parentheses with commas, `(a=1,)` constructs a [`NamedTuple`](@ref).\n\n# Examples\n\nAssigning `a` to `b` does not create a copy of `b`; instead use [`copy`](@ref) or [`deepcopy`](@ref).\n\n```jldoctest\njulia> b = [1]; a = b; b[1] = 2; a\n1-element Array{Int64,1}:\n 2\n\njulia> b = [1]; a = copy(b); b[1] = 2; a\n1-element Array{Int64,1}:\n 1\n\n```\n\nCollections passed to functions are also not copied. Functions can modify (mutate) the contents of the objects their arguments refer to. (The names of functions which do this are conventionally suffixed with '!'.)\n\n```jldoctest\njulia> function f!(x); x[:] .+= 1; end\nf! (generic function with 1 method)\n\njulia> a = [1]; f!(a); a\n1-element Array{Int64,1}:\n 2\n\n```\n\nAssignment can operate on multiple variables in parallel, taking values from an iterable:\n\n```jldoctest\njulia> a, b = 4, 5\n(4, 5)\n\njulia> a, b = 1:3\n1:3\n\njulia> a, b\n(1, 2)\n\n```\n\nAssignment can operate on multiple variables in series, and will return the value of the right-hand-most expression:\n\n```jldoctest\njulia> a = [1]; b = [2]; c = [3]; a = b = c\n1-element Array{Int64,1}:\n 3\n\njulia> b[1] = 2; a, b, c\n([2], [2], [2])\n\n```\n\nAssignment at out-of-bounds indices does not grow a collection. If the collection is a [`Vector`](@ref) it can instead be grown with [`push!`](@ref) or [`append!`](@ref).\n\n```jldoctest\njulia> a = [1, 1]; a[3] = 2\nERROR: BoundsError: attempt to access 2-element Array{Int64,1} at index [3]\n[...]\n\njulia> push!(a, 2, 3)\n4-element Array{Int64,1}:\n 1\n 1\n 2\n 3\n\n```\n\nAssigning `[]` does not eliminate elements from a collection; instead use [`filter!`](@ref).\n\n```jldoctest\njulia> a = collect(1:3); a[a .<= 1] = []\nERROR: DimensionMismatch(\"tried to assign 0 elements to 1 destinations\")\n[...]\n\njulia> filter!(x -> x > 1, a) # in-place & thus more efficient than a = a[a .> 1]\n2-element Array{Int64,1}:\n 2\n 3\n\n```\n",
      "text/latex": "\\begin{verbatim}\n=\n\\end{verbatim}\n\\texttt{=} is the assignment operator.\n\n\\begin{itemize}\n\\item For variable \\texttt{a} and expression \\texttt{b}, \\texttt{a = b} makes \\texttt{a} refer to the value of \\texttt{b}.\n\n\n\\item For functions \\texttt{f(x)}, \\texttt{f(x) = x} defines a new function constant \\texttt{f}, or adds a new method to \\texttt{f} if \\texttt{f} is already defined; this usage is equivalent to \\texttt{function f(x); x; end}.\n\n\n\\item \\texttt{a[i] = v} calls \\href{@ref}{\\texttt{setindex!}}\\texttt{(a,v,i)}.\n\n\n\\item \\texttt{a.b = c} calls \\href{@ref}{\\texttt{setproperty!}}\\texttt{(a,:b,c)}.\n\n\n\\item Inside a function call, \\texttt{f(a=b)} passes \\texttt{b} as the value of keyword argument \\texttt{a}.\n\n\n\\item Inside parentheses with commas, \\texttt{(a=1,)} constructs a \\href{@ref}{\\texttt{NamedTuple}}.\n\n\\end{itemize}\n\\section{Examples}\nAssigning \\texttt{a} to \\texttt{b} does not create a copy of \\texttt{b}; instead use \\href{@ref}{\\texttt{copy}} or \\href{@ref}{\\texttt{deepcopy}}.\n\n\\begin{verbatim}\njulia> b = [1]; a = b; b[1] = 2; a\n1-element Array{Int64,1}:\n 2\n\njulia> b = [1]; a = copy(b); b[1] = 2; a\n1-element Array{Int64,1}:\n 1\n\n\\end{verbatim}\nCollections passed to functions are also not copied. Functions can modify (mutate) the contents of the objects their arguments refer to. (The names of functions which do this are conventionally suffixed with '!'.)\n\n\\begin{verbatim}\njulia> function f!(x); x[:] .+= 1; end\nf! (generic function with 1 method)\n\njulia> a = [1]; f!(a); a\n1-element Array{Int64,1}:\n 2\n\n\\end{verbatim}\nAssignment can operate on multiple variables in parallel, taking values from an iterable:\n\n\\begin{verbatim}\njulia> a, b = 4, 5\n(4, 5)\n\njulia> a, b = 1:3\n1:3\n\njulia> a, b\n(1, 2)\n\n\\end{verbatim}\nAssignment can operate on multiple variables in series, and will return the value of the right-hand-most expression:\n\n\\begin{verbatim}\njulia> a = [1]; b = [2]; c = [3]; a = b = c\n1-element Array{Int64,1}:\n 3\n\njulia> b[1] = 2; a, b, c\n([2], [2], [2])\n\n\\end{verbatim}\nAssignment at out-of-bounds indices does not grow a collection. If the collection is a \\href{@ref}{\\texttt{Vector}} it can instead be grown with \\href{@ref}{\\texttt{push!}} or \\href{@ref}{\\texttt{append!}}.\n\n\\begin{verbatim}\njulia> a = [1, 1]; a[3] = 2\nERROR: BoundsError: attempt to access 2-element Array{Int64,1} at index [3]\n[...]\n\njulia> push!(a, 2, 3)\n4-element Array{Int64,1}:\n 1\n 1\n 2\n 3\n\n\\end{verbatim}\nAssigning \\texttt{[]} does not eliminate elements from a collection; instead use \\href{@ref}{\\texttt{filter!}}.\n\n\\begin{verbatim}\njulia> a = collect(1:3); a[a .<= 1] = []\nERROR: DimensionMismatch(\"tried to assign 0 elements to 1 destinations\")\n[...]\n\njulia> filter!(x -> x > 1, a) # in-place & thus more efficient than a = a[a .> 1]\n2-element Array{Int64,1}:\n 2\n 3\n\n\\end{verbatim}\n"
     },
     "metadata": {},
     "execution_count": 19
    }
   ],
   "source": [
    "?="
   ]
  },
  {
   "source": [
    "An updating operator rebinds the variable on the left-hand side. As a result, the type of the variable may change."
   ],
   "cell_type": "markdown",
   "metadata": {}
  },
  {
   "source": [
    "## Vectorized \"dot\" operators"
   ],
   "cell_type": "markdown",
   "metadata": {}
  },
  {
   "source": [
    "For every binary operation like ^, there is a corresponding \"dot\" operation .^ that is automatically defined to perform ^ element-by-element on arrays. For example, [1,2,3] ^ 3 is not defined, since there is no standard mathematical meaning to \"cubing\" a (non-square) array, but [1,2,3] .^ 3 is defined as computing the elementwise (or \"vectorized\") result [1^3, 2^3, 3^3]. Similarly for unary operators like ! or √, there is a corresponding .√ that applies the operator elementwise."
   ],
   "cell_type": "markdown",
   "metadata": {}
  },
  {
   "cell_type": "code",
   "execution_count": 20,
   "metadata": {},
   "outputs": [
    {
     "output_type": "execute_result",
     "data": {
      "text/plain": [
       "3-element Array{Int64,1}:\n",
       "  1\n",
       "  8\n",
       " 27"
      ]
     },
     "metadata": {},
     "execution_count": 20
    }
   ],
   "source": [
    "[1,2,3].^3"
   ]
  },
  {
   "source": [
    "More specifically, a .^ b is parsed as the \"dot\" call (^).(a,b), which performs a broadcast operation: it can combine arrays and scalars, arrays of the same size (performing the operation elementwise), and even arrays of different shapes (e.g. combining row and column vectors to produce a matrix). Moreover, like all vectorized \"dot calls,\" these \"dot operators\" are fusing. For example, if you compute 2 .* A.^2 .+ sin.(A) (or equivalently @. 2A^2 + sin(A), using the @. macro) for an array A, it performs a single loop over A, computing 2a^2 + sin(a) for each element of A. In particular, nested dot calls like f.(g.(x)) are fused, and \"adjacent\" binary operators like x .+ 3 .* x.^2 are equivalent to nested dot calls (+).(x, (*).(3, (^).(x, 2))).\n",
    "\n",
    "Furthermore, \"dotted\" updating operators like a .+= b (or @. a += b) are parsed as a .= a .+ b, where .= is a fused in-place assignment operation (see the dot syntax documentation).\n",
    "\n",
    "Note the dot syntax is also applicable to user-defined operators. For example, if you define ⊗(A,B) = kron(A,B) to give a convenient infix syntax A ⊗ B for Kronecker products (kron), then [A,B] .⊗ [C,D] will compute [A⊗C, B⊗D] with no additional coding.\n",
    "\n",
    "Combining dot operators with numeric literals can be ambiguous. For example, it is not clear whether 1.+x means 1. + x or 1 .+ x. Therefore this syntax is disallowed, and spaces must be used around the operator in such cases."
   ],
   "cell_type": "markdown",
   "metadata": {}
  },
  {
   "source": [
    "## Numeric Comparison"
   ],
   "cell_type": "markdown",
   "metadata": {}
  },
  {
   "cell_type": "code",
   "execution_count": 21,
   "metadata": {},
   "outputs": [
    {
     "output_type": "stream",
     "name": "stdout",
     "text": [
      "search: \u001b[0m\u001b[1m=\u001b[22m\u001b[0m\u001b[1m=\u001b[22m \u001b[0m\u001b[1m=\u001b[22m\u001b[0m\u001b[1m=\u001b[22m= !\u001b[0m\u001b[1m=\u001b[22m\u001b[0m\u001b[1m=\u001b[22m\n\n"
     ]
    },
    {
     "output_type": "execute_result",
     "data": {
      "text/plain": [
       "\u001b[36m  ==(x, y)\u001b[39m\n",
       "\n",
       "  Generic equality operator. Falls back to \u001b[36m===\u001b[39m. Should be implemented for all\n",
       "  types with a notion of equality, based on the abstract value that an\n",
       "  instance represents. For example, all numeric types are compared by numeric\n",
       "  value, ignoring type. Strings are compared as sequences of characters,\n",
       "  ignoring encoding. For collections, \u001b[36m==\u001b[39m is generally called recursively on\n",
       "  all contents, though other properties (like the shape for arrays) may also\n",
       "  be taken into account.\n",
       "\n",
       "  This operator follows IEEE semantics for floating-point numbers: \u001b[36m0.0 == -0.0\u001b[39m\n",
       "  and \u001b[36mNaN != NaN\u001b[39m.\n",
       "\n",
       "  The result is of type \u001b[36mBool\u001b[39m, except when one of the operands is \u001b[36mmissing\u001b[39m, in\n",
       "  which case \u001b[36mmissing\u001b[39m is returned (three-valued logic\n",
       "  (https://en.wikipedia.org/wiki/Three-valued_logic)). For collections,\n",
       "  \u001b[36mmissing\u001b[39m is returned if at least one of the operands contains a \u001b[36mmissing\u001b[39m value\n",
       "  and all non-missing values are equal. Use \u001b[36misequal\u001b[39m or \u001b[36m===\u001b[39m to always get a\n",
       "  \u001b[36mBool\u001b[39m result.\n",
       "\n",
       "\u001b[1m  Implementation\u001b[22m\n",
       "\u001b[1m  ≡≡≡≡≡≡≡≡≡≡≡≡≡≡≡≡\u001b[22m\n",
       "\n",
       "  New numeric types should implement this function for two arguments of the\n",
       "  new type, and handle comparison to other types via promotion rules where\n",
       "  possible.\n",
       "\n",
       "  \u001b[36misequal\u001b[39m falls back to \u001b[36m==\u001b[39m, so new methods of \u001b[36m==\u001b[39m will be used by the \u001b[36mDict\u001b[39m type\n",
       "  to compare keys. If your type will be used as a dictionary key, it should\n",
       "  therefore also implement \u001b[36mhash\u001b[39m.\n",
       "\n",
       "  ────────────────────────────────────────────────────────────────────────────\n",
       "\n",
       "\u001b[36m  ==(x)\u001b[39m\n",
       "\n",
       "  Create a function that compares its argument to \u001b[36mx\u001b[39m using \u001b[36m==\u001b[39m, i.e. a function\n",
       "  equivalent to \u001b[36my -> y == x\u001b[39m.\n",
       "\n",
       "  The returned function is of type \u001b[36mBase.Fix2{typeof(==)}\u001b[39m, which can be used to\n",
       "  implement specialized methods.\n",
       "\n",
       "  ────────────────────────────────────────────────────────────────────────────\n",
       "\n",
       "\u001b[36m  ==(a::AbstractString, b::AbstractString) -> Bool\u001b[39m\n",
       "\n",
       "  Test whether two strings are equal character by character (technically,\n",
       "  Unicode code point by code point).\n",
       "\n",
       "\u001b[1m  Examples\u001b[22m\n",
       "\u001b[1m  ≡≡≡≡≡≡≡≡≡≡\u001b[22m\n",
       "\n",
       "\u001b[36m  julia> \"abc\" == \"abc\"\u001b[39m\n",
       "\u001b[36m  true\u001b[39m\n",
       "\u001b[36m  \u001b[39m\n",
       "\u001b[36m  julia> \"abc\" == \"αβγ\"\u001b[39m\n",
       "\u001b[36m  false\u001b[39m"
      ],
      "text/markdown": "```\n==(x, y)\n```\n\nGeneric equality operator. Falls back to [`===`](@ref). Should be implemented for all types with a notion of equality, based on the abstract value that an instance represents. For example, all numeric types are compared by numeric value, ignoring type. Strings are compared as sequences of characters, ignoring encoding. For collections, `==` is generally called recursively on all contents, though other properties (like the shape for arrays) may also be taken into account.\n\nThis operator follows IEEE semantics for floating-point numbers: `0.0 == -0.0` and `NaN != NaN`.\n\nThe result is of type `Bool`, except when one of the operands is [`missing`](@ref), in which case `missing` is returned ([three-valued logic](https://en.wikipedia.org/wiki/Three-valued_logic)). For collections, `missing` is returned if at least one of the operands contains a `missing` value and all non-missing values are equal. Use [`isequal`](@ref) or [`===`](@ref) to always get a `Bool` result.\n\n# Implementation\n\nNew numeric types should implement this function for two arguments of the new type, and handle comparison to other types via promotion rules where possible.\n\n[`isequal`](@ref) falls back to `==`, so new methods of `==` will be used by the [`Dict`](@ref) type to compare keys. If your type will be used as a dictionary key, it should therefore also implement [`hash`](@ref).\n\n---\n\n```\n==(x)\n```\n\nCreate a function that compares its argument to `x` using [`==`](@ref), i.e. a function equivalent to `y -> y == x`.\n\nThe returned function is of type `Base.Fix2{typeof(==)}`, which can be used to implement specialized methods.\n\n---\n\n```\n==(a::AbstractString, b::AbstractString) -> Bool\n```\n\nTest whether two strings are equal character by character (technically, Unicode code point by code point).\n\n# Examples\n\n```jldoctest\njulia> \"abc\" == \"abc\"\ntrue\n\njulia> \"abc\" == \"αβγ\"\nfalse\n```\n",
      "text/latex": "\\begin{verbatim}\n==(x, y)\n\\end{verbatim}\nGeneric equality operator. Falls back to \\href{@ref}{\\texttt{===}}. Should be implemented for all types with a notion of equality, based on the abstract value that an instance represents. For example, all numeric types are compared by numeric value, ignoring type. Strings are compared as sequences of characters, ignoring encoding. For collections, \\texttt{==} is generally called recursively on all contents, though other properties (like the shape for arrays) may also be taken into account.\n\nThis operator follows IEEE semantics for floating-point numbers: \\texttt{0.0 == -0.0} and \\texttt{NaN != NaN}.\n\nThe result is of type \\texttt{Bool}, except when one of the operands is \\href{@ref}{\\texttt{missing}}, in which case \\texttt{missing} is returned (\\href{https://en.wikipedia.org/wiki/Three-valued_logic}{three-valued logic}). For collections, \\texttt{missing} is returned if at least one of the operands contains a \\texttt{missing} value and all non-missing values are equal. Use \\href{@ref}{\\texttt{isequal}} or \\href{@ref}{\\texttt{===}} to always get a \\texttt{Bool} result.\n\n\\section{Implementation}\nNew numeric types should implement this function for two arguments of the new type, and handle comparison to other types via promotion rules where possible.\n\n\\href{@ref}{\\texttt{isequal}} falls back to \\texttt{==}, so new methods of \\texttt{==} will be used by the \\href{@ref}{\\texttt{Dict}} type to compare keys. If your type will be used as a dictionary key, it should therefore also implement \\href{@ref}{\\texttt{hash}}.\n\n\\rule{\\textwidth}{1pt}\n\\begin{verbatim}\n==(x)\n\\end{verbatim}\nCreate a function that compares its argument to \\texttt{x} using \\href{@ref}{\\texttt{==}}, i.e. a function equivalent to \\texttt{y -> y == x}.\n\nThe returned function is of type \\texttt{Base.Fix2\\{typeof(==)\\}}, which can be used to implement specialized methods.\n\n\\rule{\\textwidth}{1pt}\n\\begin{verbatim}\n==(a::AbstractString, b::AbstractString) -> Bool\n\\end{verbatim}\nTest whether two strings are equal character by character (technically, Unicode code point by code point).\n\n\\section{Examples}\n\\begin{verbatim}\njulia> \"abc\" == \"abc\"\ntrue\n\njulia> \"abc\" == \"αβγ\"\nfalse\n\\end{verbatim}\n"
     },
     "metadata": {},
     "execution_count": 21
    }
   ],
   "source": [
    "?=="
   ]
  },
  {
   "cell_type": "code",
   "execution_count": 22,
   "metadata": {},
   "outputs": [
    {
     "output_type": "stream",
     "name": "stdout",
     "text": [
      "search: \u001b[0m\u001b[1m!\u001b[22m\u001b[0m\u001b[1m=\u001b[22m \u001b[0m\u001b[1m!\u001b[22m\u001b[0m\u001b[1m=\u001b[22m=\n\n"
     ]
    },
    {
     "output_type": "execute_result",
     "data": {
      "text/plain": [
       "\u001b[36m  !=(x, y)\u001b[39m\n",
       "\u001b[36m  ≠(x,y)\u001b[39m\n",
       "\n",
       "  Not-equals comparison operator. Always gives the opposite answer as \u001b[36m==\u001b[39m.\n",
       "\n",
       "\u001b[1m  Implementation\u001b[22m\n",
       "\u001b[1m  ≡≡≡≡≡≡≡≡≡≡≡≡≡≡≡≡\u001b[22m\n",
       "\n",
       "  New types should generally not implement this, and rely on the fallback\n",
       "  definition \u001b[36m!=(x,y) = !(x==y)\u001b[39m instead.\n",
       "\n",
       "\u001b[1m  Examples\u001b[22m\n",
       "\u001b[1m  ≡≡≡≡≡≡≡≡≡≡\u001b[22m\n",
       "\n",
       "\u001b[36m  julia> 3 != 2\u001b[39m\n",
       "\u001b[36m  true\u001b[39m\n",
       "\u001b[36m  \u001b[39m\n",
       "\u001b[36m  julia> \"foo\" ≠ \"foo\"\u001b[39m\n",
       "\u001b[36m  false\u001b[39m\n",
       "\n",
       "  ────────────────────────────────────────────────────────────────────────────\n",
       "\n",
       "\u001b[36m  !=(x)\u001b[39m\n",
       "\n",
       "  Create a function that compares its argument to \u001b[36mx\u001b[39m using \u001b[36m!=\u001b[39m, i.e. a function\n",
       "  equivalent to \u001b[36my -> y != x\u001b[39m. The returned function is of type\n",
       "  \u001b[36mBase.Fix2{typeof(!=)}\u001b[39m, which can be used to implement specialized methods.\n",
       "\n",
       "\u001b[39m\u001b[1m  │ \u001b[22m\u001b[39m\u001b[1mJulia 1.2\u001b[22m\n",
       "\u001b[39m\u001b[1m  │\u001b[22m\n",
       "\u001b[39m\u001b[1m  │\u001b[22m  This functionality requires at least Julia 1.2."
      ],
      "text/markdown": "```\n!=(x, y)\n≠(x,y)\n```\n\nNot-equals comparison operator. Always gives the opposite answer as [`==`](@ref).\n\n# Implementation\n\nNew types should generally not implement this, and rely on the fallback definition `!=(x,y) = !(x==y)` instead.\n\n# Examples\n\n```jldoctest\njulia> 3 != 2\ntrue\n\njulia> \"foo\" ≠ \"foo\"\nfalse\n```\n\n---\n\n```\n!=(x)\n```\n\nCreate a function that compares its argument to `x` using [`!=`](@ref), i.e. a function equivalent to `y -> y != x`. The returned function is of type `Base.Fix2{typeof(!=)}`, which can be used to implement specialized methods.\n\n!!! compat \"Julia 1.2\"\n    This functionality requires at least Julia 1.2.\n\n",
      "text/latex": "\\begin{verbatim}\n!=(x, y)\n≠(x,y)\n\\end{verbatim}\nNot-equals comparison operator. Always gives the opposite answer as \\href{@ref}{\\texttt{==}}.\n\n\\section{Implementation}\nNew types should generally not implement this, and rely on the fallback definition \\texttt{!=(x,y) = !(x==y)} instead.\n\n\\section{Examples}\n\\begin{verbatim}\njulia> 3 != 2\ntrue\n\njulia> \"foo\" ≠ \"foo\"\nfalse\n\\end{verbatim}\n\\rule{\\textwidth}{1pt}\n\\begin{verbatim}\n!=(x)\n\\end{verbatim}\nCreate a function that compares its argument to \\texttt{x} using \\href{@ref}{\\texttt{!=}}, i.e. a function equivalent to \\texttt{y -> y != x}. The returned function is of type \\texttt{Base.Fix2\\{typeof(!=)\\}}, which can be used to implement specialized methods.\n\n\\begin{quote}\n\\textbf{compat}\n\nJulia 1.2\n\nThis functionality requires at least Julia 1.2.\n\n\\end{quote}\n"
     },
     "metadata": {},
     "execution_count": 22
    }
   ],
   "source": [
    "?!="
   ]
  },
  {
   "cell_type": "code",
   "execution_count": 23,
   "metadata": {},
   "outputs": [
    {
     "output_type": "stream",
     "name": "stdout",
     "text": [
      "search: \u001b[0m\u001b[1m<\u001b[22m \u001b[0m\u001b[1m<\u001b[22m= \u001b[0m\u001b[1m<\u001b[22m< \u001b[0m\u001b[1m<\u001b[22m:\n\n"
     ]
    },
    {
     "output_type": "execute_result",
     "data": {
      "text/plain": [
       "\u001b[36m  <(x, y)\u001b[39m\n",
       "\n",
       "  Less-than comparison operator. Falls back to \u001b[36misless\u001b[39m. Because of the behavior\n",
       "  of floating-point NaN values, this operator implements a partial order.\n",
       "\n",
       "\u001b[1m  Implementation\u001b[22m\n",
       "\u001b[1m  ≡≡≡≡≡≡≡≡≡≡≡≡≡≡≡≡\u001b[22m\n",
       "\n",
       "  New numeric types with a canonical partial order should implement this\n",
       "  function for two arguments of the new type. Types with a canonical total\n",
       "  order should implement \u001b[36misless\u001b[39m instead. (x < y) | (x == y)\n",
       "\n",
       "\u001b[1m  Examples\u001b[22m\n",
       "\u001b[1m  ≡≡≡≡≡≡≡≡≡≡\u001b[22m\n",
       "\n",
       "\u001b[36m  julia> 'a' < 'b'\u001b[39m\n",
       "\u001b[36m  true\u001b[39m\n",
       "\u001b[36m  \u001b[39m\n",
       "\u001b[36m  julia> \"abc\" < \"abd\"\u001b[39m\n",
       "\u001b[36m  true\u001b[39m\n",
       "\u001b[36m  \u001b[39m\n",
       "\u001b[36m  julia> 5 < 3\u001b[39m\n",
       "\u001b[36m  false\u001b[39m\n",
       "\n",
       "  ────────────────────────────────────────────────────────────────────────────\n",
       "\n",
       "\u001b[36m  <(x)\u001b[39m\n",
       "\n",
       "  Create a function that compares its argument to \u001b[36mx\u001b[39m using \u001b[36m<\u001b[39m, i.e. a function\n",
       "  equivalent to \u001b[36my -> y < x\u001b[39m. The returned function is of type\n",
       "  \u001b[36mBase.Fix2{typeof(<)}\u001b[39m, which can be used to implement specialized methods.\n",
       "\n",
       "\u001b[39m\u001b[1m  │ \u001b[22m\u001b[39m\u001b[1mJulia 1.2\u001b[22m\n",
       "\u001b[39m\u001b[1m  │\u001b[22m\n",
       "\u001b[39m\u001b[1m  │\u001b[22m  This functionality requires at least Julia 1.2."
      ],
      "text/markdown": "```\n<(x, y)\n```\n\nLess-than comparison operator. Falls back to [`isless`](@ref). Because of the behavior of floating-point NaN values, this operator implements a partial order.\n\n# Implementation\n\nNew numeric types with a canonical partial order should implement this function for two arguments of the new type. Types with a canonical total order should implement [`isless`](@ref) instead. (x < y) | (x == y)\n\n# Examples\n\n```jldoctest\njulia> 'a' < 'b'\ntrue\n\njulia> \"abc\" < \"abd\"\ntrue\n\njulia> 5 < 3\nfalse\n```\n\n---\n\n```\n<(x)\n```\n\nCreate a function that compares its argument to `x` using [`<`](@ref), i.e. a function equivalent to `y -> y < x`. The returned function is of type `Base.Fix2{typeof(<)}`, which can be used to implement specialized methods.\n\n!!! compat \"Julia 1.2\"\n    This functionality requires at least Julia 1.2.\n\n",
      "text/latex": "\\begin{verbatim}\n<(x, y)\n\\end{verbatim}\nLess-than comparison operator. Falls back to \\href{@ref}{\\texttt{isless}}. Because of the behavior of floating-point NaN values, this operator implements a partial order.\n\n\\section{Implementation}\nNew numeric types with a canonical partial order should implement this function for two arguments of the new type. Types with a canonical total order should implement \\href{@ref}{\\texttt{isless}} instead. (x < y) | (x == y)\n\n\\section{Examples}\n\\begin{verbatim}\njulia> 'a' < 'b'\ntrue\n\njulia> \"abc\" < \"abd\"\ntrue\n\njulia> 5 < 3\nfalse\n\\end{verbatim}\n\\rule{\\textwidth}{1pt}\n\\begin{verbatim}\n<(x)\n\\end{verbatim}\nCreate a function that compares its argument to \\texttt{x} using \\href{@ref}{\\texttt{<}}, i.e. a function equivalent to \\texttt{y -> y < x}. The returned function is of type \\texttt{Base.Fix2\\{typeof(<)\\}}, which can be used to implement specialized methods.\n\n\\begin{quote}\n\\textbf{compat}\n\nJulia 1.2\n\nThis functionality requires at least Julia 1.2.\n\n\\end{quote}\n"
     },
     "metadata": {},
     "execution_count": 23
    }
   ],
   "source": [
    "?<"
   ]
  },
  {
   "cell_type": "code",
   "execution_count": 24,
   "metadata": {},
   "outputs": [
    {
     "output_type": "stream",
     "name": "stdout",
     "text": [
      "search: \u001b[0m\u001b[1m<\u001b[22m\u001b[0m\u001b[1m=\u001b[22m\n\n"
     ]
    },
    {
     "output_type": "execute_result",
     "data": {
      "text/plain": [
       "\u001b[36m  <=(x, y)\u001b[39m\n",
       "\u001b[36m  ≤(x,y)\u001b[39m\n",
       "\n",
       "  Less-than-or-equals comparison operator. Falls back to \u001b[36m(x < y) | (x == y)\u001b[39m.\n",
       "\n",
       "\u001b[1m  Examples\u001b[22m\n",
       "\u001b[1m  ≡≡≡≡≡≡≡≡≡≡\u001b[22m\n",
       "\n",
       "\u001b[36m  julia> 'a' <= 'b'\u001b[39m\n",
       "\u001b[36m  true\u001b[39m\n",
       "\u001b[36m  \u001b[39m\n",
       "\u001b[36m  julia> 7 ≤ 7 ≤ 9\u001b[39m\n",
       "\u001b[36m  true\u001b[39m\n",
       "\u001b[36m  \u001b[39m\n",
       "\u001b[36m  julia> \"abc\" ≤ \"abc\"\u001b[39m\n",
       "\u001b[36m  true\u001b[39m\n",
       "\u001b[36m  \u001b[39m\n",
       "\u001b[36m  julia> 5 <= 3\u001b[39m\n",
       "\u001b[36m  false\u001b[39m\n",
       "\n",
       "  ────────────────────────────────────────────────────────────────────────────\n",
       "\n",
       "\u001b[36m  <=(x)\u001b[39m\n",
       "\n",
       "  Create a function that compares its argument to \u001b[36mx\u001b[39m using \u001b[36m<=\u001b[39m, i.e. a function\n",
       "  equivalent to \u001b[36my -> y <= x\u001b[39m. The returned function is of type\n",
       "  \u001b[36mBase.Fix2{typeof(<=)}\u001b[39m, which can be used to implement specialized methods.\n",
       "\n",
       "\u001b[39m\u001b[1m  │ \u001b[22m\u001b[39m\u001b[1mJulia 1.2\u001b[22m\n",
       "\u001b[39m\u001b[1m  │\u001b[22m\n",
       "\u001b[39m\u001b[1m  │\u001b[22m  This functionality requires at least Julia 1.2."
      ],
      "text/markdown": "```\n<=(x, y)\n≤(x,y)\n```\n\nLess-than-or-equals comparison operator. Falls back to `(x < y) | (x == y)`.\n\n# Examples\n\n```jldoctest\njulia> 'a' <= 'b'\ntrue\n\njulia> 7 ≤ 7 ≤ 9\ntrue\n\njulia> \"abc\" ≤ \"abc\"\ntrue\n\njulia> 5 <= 3\nfalse\n```\n\n---\n\n```\n<=(x)\n```\n\nCreate a function that compares its argument to `x` using [`<=`](@ref), i.e. a function equivalent to `y -> y <= x`. The returned function is of type `Base.Fix2{typeof(<=)}`, which can be used to implement specialized methods.\n\n!!! compat \"Julia 1.2\"\n    This functionality requires at least Julia 1.2.\n\n",
      "text/latex": "\\begin{verbatim}\n<=(x, y)\n≤(x,y)\n\\end{verbatim}\nLess-than-or-equals comparison operator. Falls back to \\texttt{(x < y) | (x == y)}.\n\n\\section{Examples}\n\\begin{verbatim}\njulia> 'a' <= 'b'\ntrue\n\njulia> 7 ≤ 7 ≤ 9\ntrue\n\njulia> \"abc\" ≤ \"abc\"\ntrue\n\njulia> 5 <= 3\nfalse\n\\end{verbatim}\n\\rule{\\textwidth}{1pt}\n\\begin{verbatim}\n<=(x)\n\\end{verbatim}\nCreate a function that compares its argument to \\texttt{x} using \\href{@ref}{\\texttt{<=}}, i.e. a function equivalent to \\texttt{y -> y <= x}. The returned function is of type \\texttt{Base.Fix2\\{typeof(<=)\\}}, which can be used to implement specialized methods.\n\n\\begin{quote}\n\\textbf{compat}\n\nJulia 1.2\n\nThis functionality requires at least Julia 1.2.\n\n\\end{quote}\n"
     },
     "metadata": {},
     "execution_count": 24
    }
   ],
   "source": [
    "?<="
   ]
  },
  {
   "cell_type": "code",
   "execution_count": 25,
   "metadata": {},
   "outputs": [
    {
     "output_type": "stream",
     "name": "stdout",
     "text": [
      "search: \u001b[0m\u001b[1m>\u001b[22m \u001b[0m\u001b[1m>\u001b[22m> \u001b[0m\u001b[1m>\u001b[22m= \u001b[0m\u001b[1m>\u001b[22m: \u001b[0m\u001b[1m>\u001b[22m>> |\u001b[0m\u001b[1m>\u001b[22m =\u001b[0m\u001b[1m>\u001b[22m\n\n"
     ]
    },
    {
     "output_type": "execute_result",
     "data": {
      "text/plain": [
       "\u001b[36m  >(x, y)\u001b[39m\n",
       "\n",
       "  Greater-than comparison operator. Falls back to \u001b[36my < x\u001b[39m.\n",
       "\n",
       "\u001b[1m  Implementation\u001b[22m\n",
       "\u001b[1m  ≡≡≡≡≡≡≡≡≡≡≡≡≡≡≡≡\u001b[22m\n",
       "\n",
       "  Generally, new types should implement \u001b[36m<\u001b[39m instead of this function, and rely\n",
       "  on the fallback definition \u001b[36m>(x, y) = y < x\u001b[39m.\n",
       "\n",
       "\u001b[1m  Examples\u001b[22m\n",
       "\u001b[1m  ≡≡≡≡≡≡≡≡≡≡\u001b[22m\n",
       "\n",
       "\u001b[36m  julia> 'a' > 'b'\u001b[39m\n",
       "\u001b[36m  false\u001b[39m\n",
       "\u001b[36m  \u001b[39m\n",
       "\u001b[36m  julia> 7 > 3 > 1\u001b[39m\n",
       "\u001b[36m  true\u001b[39m\n",
       "\u001b[36m  \u001b[39m\n",
       "\u001b[36m  julia> \"abc\" > \"abd\"\u001b[39m\n",
       "\u001b[36m  false\u001b[39m\n",
       "\u001b[36m  \u001b[39m\n",
       "\u001b[36m  julia> 5 > 3\u001b[39m\n",
       "\u001b[36m  true\u001b[39m\n",
       "\n",
       "  ────────────────────────────────────────────────────────────────────────────\n",
       "\n",
       "\u001b[36m  >(x)\u001b[39m\n",
       "\n",
       "  Create a function that compares its argument to \u001b[36mx\u001b[39m using \u001b[36m>\u001b[39m, i.e. a function\n",
       "  equivalent to \u001b[36my -> y > x\u001b[39m. The returned function is of type\n",
       "  \u001b[36mBase.Fix2{typeof(>)}\u001b[39m, which can be used to implement specialized methods.\n",
       "\n",
       "\u001b[39m\u001b[1m  │ \u001b[22m\u001b[39m\u001b[1mJulia 1.2\u001b[22m\n",
       "\u001b[39m\u001b[1m  │\u001b[22m\n",
       "\u001b[39m\u001b[1m  │\u001b[22m  This functionality requires at least Julia 1.2."
      ],
      "text/markdown": "```\n>(x, y)\n```\n\nGreater-than comparison operator. Falls back to `y < x`.\n\n# Implementation\n\nGenerally, new types should implement [`<`](@ref) instead of this function, and rely on the fallback definition `>(x, y) = y < x`.\n\n# Examples\n\n```jldoctest\njulia> 'a' > 'b'\nfalse\n\njulia> 7 > 3 > 1\ntrue\n\njulia> \"abc\" > \"abd\"\nfalse\n\njulia> 5 > 3\ntrue\n```\n\n---\n\n```\n>(x)\n```\n\nCreate a function that compares its argument to `x` using [`>`](@ref), i.e. a function equivalent to `y -> y > x`. The returned function is of type `Base.Fix2{typeof(>)}`, which can be used to implement specialized methods.\n\n!!! compat \"Julia 1.2\"\n    This functionality requires at least Julia 1.2.\n\n",
      "text/latex": "\\begin{verbatim}\n>(x, y)\n\\end{verbatim}\nGreater-than comparison operator. Falls back to \\texttt{y < x}.\n\n\\section{Implementation}\nGenerally, new types should implement \\href{@ref}{\\texttt{<}} instead of this function, and rely on the fallback definition \\texttt{>(x, y) = y < x}.\n\n\\section{Examples}\n\\begin{verbatim}\njulia> 'a' > 'b'\nfalse\n\njulia> 7 > 3 > 1\ntrue\n\njulia> \"abc\" > \"abd\"\nfalse\n\njulia> 5 > 3\ntrue\n\\end{verbatim}\n\\rule{\\textwidth}{1pt}\n\\begin{verbatim}\n>(x)\n\\end{verbatim}\nCreate a function that compares its argument to \\texttt{x} using \\href{@ref}{\\texttt{>}}, i.e. a function equivalent to \\texttt{y -> y > x}. The returned function is of type \\texttt{Base.Fix2\\{typeof(>)\\}}, which can be used to implement specialized methods.\n\n\\begin{quote}\n\\textbf{compat}\n\nJulia 1.2\n\nThis functionality requires at least Julia 1.2.\n\n\\end{quote}\n"
     },
     "metadata": {},
     "execution_count": 25
    }
   ],
   "source": [
    "?>"
   ]
  },
  {
   "cell_type": "code",
   "execution_count": 26,
   "metadata": {},
   "outputs": [
    {
     "output_type": "stream",
     "name": "stdout",
     "text": [
      "search: \u001b[0m\u001b[1m>\u001b[22m\u001b[0m\u001b[1m=\u001b[22m\n\n"
     ]
    },
    {
     "output_type": "execute_result",
     "data": {
      "text/plain": [
       "\u001b[36m  >=(x, y)\u001b[39m\n",
       "\u001b[36m  ≥(x,y)\u001b[39m\n",
       "\n",
       "  Greater-than-or-equals comparison operator. Falls back to \u001b[36my <= x\u001b[39m.\n",
       "\n",
       "\u001b[1m  Examples\u001b[22m\n",
       "\u001b[1m  ≡≡≡≡≡≡≡≡≡≡\u001b[22m\n",
       "\n",
       "\u001b[36m  julia> 'a' >= 'b'\u001b[39m\n",
       "\u001b[36m  false\u001b[39m\n",
       "\u001b[36m  \u001b[39m\n",
       "\u001b[36m  julia> 7 ≥ 7 ≥ 3\u001b[39m\n",
       "\u001b[36m  true\u001b[39m\n",
       "\u001b[36m  \u001b[39m\n",
       "\u001b[36m  julia> \"abc\" ≥ \"abc\"\u001b[39m\n",
       "\u001b[36m  true\u001b[39m\n",
       "\u001b[36m  \u001b[39m\n",
       "\u001b[36m  julia> 5 >= 3\u001b[39m\n",
       "\u001b[36m  true\u001b[39m\n",
       "\n",
       "  ────────────────────────────────────────────────────────────────────────────\n",
       "\n",
       "\u001b[36m  >=(x)\u001b[39m\n",
       "\n",
       "  Create a function that compares its argument to \u001b[36mx\u001b[39m using \u001b[36m>=\u001b[39m, i.e. a function\n",
       "  equivalent to \u001b[36my -> y >= x\u001b[39m. The returned function is of type\n",
       "  \u001b[36mBase.Fix2{typeof(>=)}\u001b[39m, which can be used to implement specialized methods.\n",
       "\n",
       "\u001b[39m\u001b[1m  │ \u001b[22m\u001b[39m\u001b[1mJulia 1.2\u001b[22m\n",
       "\u001b[39m\u001b[1m  │\u001b[22m\n",
       "\u001b[39m\u001b[1m  │\u001b[22m  This functionality requires at least Julia 1.2."
      ],
      "text/markdown": "```\n>=(x, y)\n≥(x,y)\n```\n\nGreater-than-or-equals comparison operator. Falls back to `y <= x`.\n\n# Examples\n\n```jldoctest\njulia> 'a' >= 'b'\nfalse\n\njulia> 7 ≥ 7 ≥ 3\ntrue\n\njulia> \"abc\" ≥ \"abc\"\ntrue\n\njulia> 5 >= 3\ntrue\n```\n\n---\n\n```\n>=(x)\n```\n\nCreate a function that compares its argument to `x` using [`>=`](@ref), i.e. a function equivalent to `y -> y >= x`. The returned function is of type `Base.Fix2{typeof(>=)}`, which can be used to implement specialized methods.\n\n!!! compat \"Julia 1.2\"\n    This functionality requires at least Julia 1.2.\n\n",
      "text/latex": "\\begin{verbatim}\n>=(x, y)\n≥(x,y)\n\\end{verbatim}\nGreater-than-or-equals comparison operator. Falls back to \\texttt{y <= x}.\n\n\\section{Examples}\n\\begin{verbatim}\njulia> 'a' >= 'b'\nfalse\n\njulia> 7 ≥ 7 ≥ 3\ntrue\n\njulia> \"abc\" ≥ \"abc\"\ntrue\n\njulia> 5 >= 3\ntrue\n\\end{verbatim}\n\\rule{\\textwidth}{1pt}\n\\begin{verbatim}\n>=(x)\n\\end{verbatim}\nCreate a function that compares its argument to \\texttt{x} using \\href{@ref}{\\texttt{>=}}, i.e. a function equivalent to \\texttt{y -> y >= x}. The returned function is of type \\texttt{Base.Fix2\\{typeof(>=)\\}}, which can be used to implement specialized methods.\n\n\\begin{quote}\n\\textbf{compat}\n\nJulia 1.2\n\nThis functionality requires at least Julia 1.2.\n\n\\end{quote}\n"
     },
     "metadata": {},
     "execution_count": 26
    }
   ],
   "source": [
    "?>="
   ]
  },
  {
   "source": [
    "Integers are compared in the standard manner – by comparison of bits. Floating-point numbers are compared according to the IEEE 754 standard:\n",
    "\n",
    "    - Finite numbers are ordered in the usual manner.\n",
    "    - Positive zero is equal but not greater than negative zero.\n",
    "    - Inf is equal to itself and greater than everything else except NaN.\n",
    "    - -Inf is equal to itself and less than everything else except NaN.\n",
    "    - NaN is not equal to, not less than, and not greater than anything, including itself.\n",
    "\n",
    "The last point is potentially surprising and thus worth noting:"
   ],
   "cell_type": "markdown",
   "metadata": {}
  },
  {
   "cell_type": "code",
   "execution_count": 27,
   "metadata": {},
   "outputs": [
    {
     "output_type": "execute_result",
     "data": {
      "text/plain": [
       "false"
      ]
     },
     "metadata": {},
     "execution_count": 27
    }
   ],
   "source": [
    "NaN == NaN"
   ]
  },
  {
   "cell_type": "code",
   "execution_count": 28,
   "metadata": {},
   "outputs": [
    {
     "output_type": "execute_result",
     "data": {
      "text/plain": [
       "true"
      ]
     },
     "metadata": {},
     "execution_count": 28
    }
   ],
   "source": [
    "NaN != NaN"
   ]
  },
  {
   "cell_type": "code",
   "execution_count": 29,
   "metadata": {},
   "outputs": [
    {
     "output_type": "execute_result",
     "data": {
      "text/plain": [
       "false"
      ]
     },
     "metadata": {},
     "execution_count": 29
    }
   ],
   "source": [
    "NaN < NaN"
   ]
  },
  {
   "cell_type": "code",
   "execution_count": 30,
   "metadata": {},
   "outputs": [
    {
     "output_type": "execute_result",
     "data": {
      "text/plain": [
       "false"
      ]
     },
     "metadata": {},
     "execution_count": 30
    }
   ],
   "source": [
    "NaN > NaN"
   ]
  },
  {
   "source": [
    "Julia provides additional functions to test numbers for special values, which can be useful in situations like hash key comparisons:"
   ],
   "cell_type": "markdown",
   "metadata": {}
  },
  {
   "cell_type": "code",
   "execution_count": 31,
   "metadata": {},
   "outputs": [
    {
     "output_type": "stream",
     "name": "stdout",
     "text": [
      "search: \u001b[0m\u001b[1mi\u001b[22m\u001b[0m\u001b[1ms\u001b[22m\u001b[0m\u001b[1me\u001b[22m\u001b[0m\u001b[1mq\u001b[22m\u001b[0m\u001b[1mu\u001b[22m\u001b[0m\u001b[1ma\u001b[22m\u001b[0m\u001b[1ml\u001b[22m \u001b[0m\u001b[1mi\u001b[22m\u001b[0m\u001b[1ms\u001b[22ms\u001b[0m\u001b[1me\u001b[22mte\u001b[0m\u001b[1mq\u001b[22m\u001b[0m\u001b[1mu\u001b[22m\u001b[0m\u001b[1ma\u001b[22m\u001b[0m\u001b[1ml\u001b[22m\n\n"
     ]
    },
    {
     "output_type": "execute_result",
     "data": {
      "text/plain": [
       "\u001b[36m  isequal(x, y)\u001b[39m\n",
       "\n",
       "  Similar to \u001b[36m==\u001b[39m, except for the treatment of floating point numbers and of\n",
       "  missing values. \u001b[36misequal\u001b[39m treats all floating-point \u001b[36mNaN\u001b[39m values as equal to\n",
       "  each other, treats \u001b[36m-0.0\u001b[39m as unequal to \u001b[36m0.0\u001b[39m, and \u001b[36mmissing\u001b[39m as equal to \u001b[36mmissing\u001b[39m.\n",
       "  Always returns a \u001b[36mBool\u001b[39m value.\n",
       "\n",
       "\u001b[1m  Implementation\u001b[22m\n",
       "\u001b[1m  ≡≡≡≡≡≡≡≡≡≡≡≡≡≡≡≡\u001b[22m\n",
       "\n",
       "  The default implementation of \u001b[36misequal\u001b[39m calls \u001b[36m==\u001b[39m, so a type that does not\n",
       "  involve floating-point values generally only needs to define \u001b[36m==\u001b[39m.\n",
       "\n",
       "  \u001b[36misequal\u001b[39m is the comparison function used by hash tables (\u001b[36mDict\u001b[39m). \u001b[36misequal(x,y)\u001b[39m\n",
       "  must imply that \u001b[36mhash(x) == hash(y)\u001b[39m.\n",
       "\n",
       "  This typically means that types for which a custom \u001b[36m==\u001b[39m or \u001b[36misequal\u001b[39m method\n",
       "  exists must implement a corresponding \u001b[36mhash\u001b[39m method (and vice versa).\n",
       "  Collections typically implement \u001b[36misequal\u001b[39m by calling \u001b[36misequal\u001b[39m recursively on\n",
       "  all contents.\n",
       "\n",
       "  Scalar types generally do not need to implement \u001b[36misequal\u001b[39m separate from \u001b[36m==\u001b[39m,\n",
       "  unless they represent floating-point numbers amenable to a more efficient\n",
       "  implementation than that provided as a generic fallback (based on \u001b[36misnan\u001b[39m,\n",
       "  \u001b[36msignbit\u001b[39m, and \u001b[36m==\u001b[39m).\n",
       "\n",
       "\u001b[1m  Examples\u001b[22m\n",
       "\u001b[1m  ≡≡≡≡≡≡≡≡≡≡\u001b[22m\n",
       "\n",
       "\u001b[36m  julia> isequal([1., NaN], [1., NaN])\u001b[39m\n",
       "\u001b[36m  true\u001b[39m\n",
       "\u001b[36m  \u001b[39m\n",
       "\u001b[36m  julia> [1., NaN] == [1., NaN]\u001b[39m\n",
       "\u001b[36m  false\u001b[39m\n",
       "\u001b[36m  \u001b[39m\n",
       "\u001b[36m  julia> 0.0 == -0.0\u001b[39m\n",
       "\u001b[36m  true\u001b[39m\n",
       "\u001b[36m  \u001b[39m\n",
       "\u001b[36m  julia> isequal(0.0, -0.0)\u001b[39m\n",
       "\u001b[36m  false\u001b[39m\n",
       "\n",
       "  ────────────────────────────────────────────────────────────────────────────\n",
       "\n",
       "\u001b[36m  isequal(x)\u001b[39m\n",
       "\n",
       "  Create a function that compares its argument to \u001b[36mx\u001b[39m using \u001b[36misequal\u001b[39m, i.e. a\n",
       "  function equivalent to \u001b[36my -> isequal(y, x)\u001b[39m.\n",
       "\n",
       "  The returned function is of type \u001b[36mBase.Fix2{typeof(isequal)}\u001b[39m, which can be\n",
       "  used to implement specialized methods."
      ],
      "text/markdown": "```\nisequal(x, y)\n```\n\nSimilar to [`==`](@ref), except for the treatment of floating point numbers and of missing values. `isequal` treats all floating-point `NaN` values as equal to each other, treats `-0.0` as unequal to `0.0`, and [`missing`](@ref) as equal to `missing`. Always returns a `Bool` value.\n\n# Implementation\n\nThe default implementation of `isequal` calls `==`, so a type that does not involve floating-point values generally only needs to define `==`.\n\n`isequal` is the comparison function used by hash tables (`Dict`). `isequal(x,y)` must imply that `hash(x) == hash(y)`.\n\nThis typically means that types for which a custom `==` or `isequal` method exists must implement a corresponding `hash` method (and vice versa). Collections typically implement `isequal` by calling `isequal` recursively on all contents.\n\nScalar types generally do not need to implement `isequal` separate from `==`, unless they represent floating-point numbers amenable to a more efficient implementation than that provided as a generic fallback (based on `isnan`, `signbit`, and `==`).\n\n# Examples\n\n```jldoctest\njulia> isequal([1., NaN], [1., NaN])\ntrue\n\njulia> [1., NaN] == [1., NaN]\nfalse\n\njulia> 0.0 == -0.0\ntrue\n\njulia> isequal(0.0, -0.0)\nfalse\n```\n\n---\n\n```\nisequal(x)\n```\n\nCreate a function that compares its argument to `x` using [`isequal`](@ref), i.e. a function equivalent to `y -> isequal(y, x)`.\n\nThe returned function is of type `Base.Fix2{typeof(isequal)}`, which can be used to implement specialized methods.\n",
      "text/latex": "\\begin{verbatim}\nisequal(x, y)\n\\end{verbatim}\nSimilar to \\href{@ref}{\\texttt{==}}, except for the treatment of floating point numbers and of missing values. \\texttt{isequal} treats all floating-point \\texttt{NaN} values as equal to each other, treats \\texttt{-0.0} as unequal to \\texttt{0.0}, and \\href{@ref}{\\texttt{missing}} as equal to \\texttt{missing}. Always returns a \\texttt{Bool} value.\n\n\\section{Implementation}\nThe default implementation of \\texttt{isequal} calls \\texttt{==}, so a type that does not involve floating-point values generally only needs to define \\texttt{==}.\n\n\\texttt{isequal} is the comparison function used by hash tables (\\texttt{Dict}). \\texttt{isequal(x,y)} must imply that \\texttt{hash(x) == hash(y)}.\n\nThis typically means that types for which a custom \\texttt{==} or \\texttt{isequal} method exists must implement a corresponding \\texttt{hash} method (and vice versa). Collections typically implement \\texttt{isequal} by calling \\texttt{isequal} recursively on all contents.\n\nScalar types generally do not need to implement \\texttt{isequal} separate from \\texttt{==}, unless they represent floating-point numbers amenable to a more efficient implementation than that provided as a generic fallback (based on \\texttt{isnan}, \\texttt{signbit}, and \\texttt{==}).\n\n\\section{Examples}\n\\begin{verbatim}\njulia> isequal([1., NaN], [1., NaN])\ntrue\n\njulia> [1., NaN] == [1., NaN]\nfalse\n\njulia> 0.0 == -0.0\ntrue\n\njulia> isequal(0.0, -0.0)\nfalse\n\\end{verbatim}\n\\rule{\\textwidth}{1pt}\n\\begin{verbatim}\nisequal(x)\n\\end{verbatim}\nCreate a function that compares its argument to \\texttt{x} using \\href{@ref}{\\texttt{isequal}}, i.e. a function equivalent to \\texttt{y -> isequal(y, x)}.\n\nThe returned function is of type \\texttt{Base.Fix2\\{typeof(isequal)\\}}, which can be used to implement specialized methods.\n\n"
     },
     "metadata": {},
     "execution_count": 31
    }
   ],
   "source": [
    "?isequal"
   ]
  },
  {
   "cell_type": "code",
   "execution_count": 32,
   "metadata": {},
   "outputs": [
    {
     "output_type": "stream",
     "name": "stdout",
     "text": [
      "search: \u001b[0m\u001b[1mi\u001b[22m\u001b[0m\u001b[1ms\u001b[22m\u001b[0m\u001b[1mf\u001b[22m\u001b[0m\u001b[1mi\u001b[22m\u001b[0m\u001b[1mn\u001b[22m\u001b[0m\u001b[1mi\u001b[22m\u001b[0m\u001b[1mt\u001b[22m\u001b[0m\u001b[1me\u001b[22m\n",
      "\n"
     ]
    },
    {
     "output_type": "execute_result",
     "data": {
      "text/plain": [
       "\u001b[36m  isfinite(f) -> Bool\u001b[39m\n",
       "\n",
       "  Test whether a number is finite.\n",
       "\n",
       "\u001b[1m  Examples\u001b[22m\n",
       "\u001b[1m  ≡≡≡≡≡≡≡≡≡≡\u001b[22m\n",
       "\n",
       "\u001b[36m  julia> isfinite(5)\u001b[39m\n",
       "\u001b[36m  true\u001b[39m\n",
       "\u001b[36m  \u001b[39m\n",
       "\u001b[36m  julia> isfinite(NaN32)\u001b[39m\n",
       "\u001b[36m  false\u001b[39m"
      ],
      "text/markdown": "```\nisfinite(f) -> Bool\n```\n\nTest whether a number is finite.\n\n# Examples\n\n```jldoctest\njulia> isfinite(5)\ntrue\n\njulia> isfinite(NaN32)\nfalse\n```\n",
      "text/latex": "\\begin{verbatim}\nisfinite(f) -> Bool\n\\end{verbatim}\nTest whether a number is finite.\n\n\\section{Examples}\n\\begin{verbatim}\njulia> isfinite(5)\ntrue\n\njulia> isfinite(NaN32)\nfalse\n\\end{verbatim}\n"
     },
     "metadata": {},
     "execution_count": 32
    }
   ],
   "source": [
    "?isfinite"
   ]
  },
  {
   "cell_type": "code",
   "execution_count": 33,
   "metadata": {},
   "outputs": [
    {
     "output_type": "stream",
     "name": "stdout",
     "text": [
      "search: \u001b[0m\u001b[1mi\u001b[22m\u001b[0m\u001b[1ms\u001b[22m\u001b[0m\u001b[1mi\u001b[22m\u001b[0m\u001b[1mn\u001b[22m\u001b[0m\u001b[1mf\u001b[22m \u001b[0m\u001b[1mi\u001b[22m\u001b[0m\u001b[1ms\u001b[22m\u001b[0m\u001b[1mi\u001b[22m\u001b[0m\u001b[1mn\u001b[22mteger \u001b[0m\u001b[1mi\u001b[22m\u001b[0m\u001b[1ms\u001b[22m\u001b[0m\u001b[1mi\u001b[22m\u001b[0m\u001b[1mn\u001b[22mteractive th\u001b[0m\u001b[1mi\u001b[22m\u001b[0m\u001b[1ms\u001b[22m\u001b[0m\u001b[1mi\u001b[22m\u001b[0m\u001b[1mn\u001b[22md \u001b[0m\u001b[1mi\u001b[22m\u001b[0m\u001b[1ms\u001b[22ml\u001b[0m\u001b[1mi\u001b[22m\u001b[0m\u001b[1mn\u001b[22mk \u001b[0m\u001b[1mi\u001b[22m\u001b[0m\u001b[1ms\u001b[22mf\u001b[0m\u001b[1mi\u001b[22m\u001b[0m\u001b[1mn\u001b[22mite m\u001b[0m\u001b[1mi\u001b[22m\u001b[0m\u001b[1ms\u001b[22ms\u001b[0m\u001b[1mi\u001b[22m\u001b[0m\u001b[1mn\u001b[22mg M\u001b[0m\u001b[1mi\u001b[22m\u001b[0m\u001b[1ms\u001b[22ms\u001b[0m\u001b[1mi\u001b[22m\u001b[0m\u001b[1mn\u001b[22mg\n\n"
     ]
    },
    {
     "output_type": "execute_result",
     "data": {
      "text/plain": [
       "\u001b[36m  isinf(f) -> Bool\u001b[39m\n",
       "\n",
       "  Test whether a number is infinite."
      ],
      "text/markdown": "```\nisinf(f) -> Bool\n```\n\nTest whether a number is infinite.\n",
      "text/latex": "\\begin{verbatim}\nisinf(f) -> Bool\n\\end{verbatim}\nTest whether a number is infinite.\n\n"
     },
     "metadata": {},
     "execution_count": 33
    }
   ],
   "source": [
    "?isinf"
   ]
  },
  {
   "cell_type": "code",
   "execution_count": 34,
   "metadata": {},
   "outputs": [
    {
     "output_type": "stream",
     "name": "stdout",
     "text": [
      "search: \u001b[0m\u001b[1mi\u001b[22m\u001b[0m\u001b[1ms\u001b[22m\u001b[0m\u001b[1mn\u001b[22m\u001b[0m\u001b[1ma\u001b[22m\u001b[0m\u001b[1mn\u001b[22m \u001b[0m\u001b[1mi\u001b[22m\u001b[0m\u001b[1ms\u001b[22mi\u001b[0m\u001b[1mn\u001b[22mter\u001b[0m\u001b[1ma\u001b[22mctive \u001b[0m\u001b[1mi\u001b[22m\u001b[0m\u001b[1ms\u001b[22msub\u001b[0m\u001b[1mn\u001b[22morm\u001b[0m\u001b[1ma\u001b[22ml D\u001b[0m\u001b[1mi\u001b[22mmen\u001b[0m\u001b[1ms\u001b[22mio\u001b[0m\u001b[1mn\u001b[22mMism\u001b[0m\u001b[1ma\u001b[22mtch\n\n"
     ]
    },
    {
     "output_type": "execute_result",
     "data": {
      "text/plain": [
       "\u001b[36m  isnan(f) -> Bool\u001b[39m\n",
       "\n",
       "  Test whether a number value is a NaN, an indeterminate value which is\n",
       "  neither an infinity nor a finite number (\"not a number\")."
      ],
      "text/markdown": "```\nisnan(f) -> Bool\n```\n\nTest whether a number value is a NaN, an indeterminate value which is neither an infinity nor a finite number (\"not a number\").\n",
      "text/latex": "\\begin{verbatim}\nisnan(f) -> Bool\n\\end{verbatim}\nTest whether a number value is a NaN, an indeterminate value which is neither an infinity nor a finite number (\"not a number\").\n\n"
     },
     "metadata": {},
     "execution_count": 34
    }
   ],
   "source": [
    "?isnan"
   ]
  },
  {
   "source": [
    "### Chaining comparisons"
   ],
   "cell_type": "markdown",
   "metadata": {}
  },
  {
   "source": [
    "Unlike most languages, with the notable exception of Python, comparisons can be arbitrarily chained:"
   ],
   "cell_type": "markdown",
   "metadata": {}
  },
  {
   "cell_type": "code",
   "execution_count": 35,
   "metadata": {},
   "outputs": [
    {
     "output_type": "execute_result",
     "data": {
      "text/plain": [
       "true"
      ]
     },
     "metadata": {},
     "execution_count": 35
    }
   ],
   "source": [
    "1 < 2 <= 2 < 3 == 3 > 2 >= 1 == 1 < 3 != 5"
   ]
  },
  {
   "source": [
    "Chaining comparisons is often quite convenient in numerical code. Chained comparisons use the && operator for scalar comparisons, and the & operator for elementwise comparisons, which allows them to work on arrays. For example, 0 .< A .< 1 gives a boolean array whose entries are true where the corresponding elements of A are between 0 and 1.\n",
    "\n",
    "Note the evaluation behavior of chained comparisons:"
   ],
   "cell_type": "markdown",
   "metadata": {}
  },
  {
   "cell_type": "code",
   "execution_count": 36,
   "metadata": {},
   "outputs": [
    {
     "output_type": "execute_result",
     "data": {
      "text/plain": [
       "v (generic function with 1 method)"
      ]
     },
     "metadata": {},
     "execution_count": 36
    }
   ],
   "source": [
    "v(x) = (println(x); x)"
   ]
  },
  {
   "cell_type": "code",
   "execution_count": 37,
   "metadata": {},
   "outputs": [
    {
     "output_type": "stream",
     "name": "stdout",
     "text": [
      "2\n1\n3\n"
     ]
    },
    {
     "output_type": "execute_result",
     "data": {
      "text/plain": [
       "true"
      ]
     },
     "metadata": {},
     "execution_count": 37
    }
   ],
   "source": [
    "v(1) < v(2) <= v(3)"
   ]
  },
  {
   "cell_type": "code",
   "execution_count": 38,
   "metadata": {},
   "outputs": [
    {
     "output_type": "stream",
     "name": "stdout",
     "text": [
      "2\n1\n"
     ]
    },
    {
     "output_type": "execute_result",
     "data": {
      "text/plain": [
       "false"
      ]
     },
     "metadata": {},
     "execution_count": 38
    }
   ],
   "source": [
    "v(1) > v(2) <= v(3)"
   ]
  },
  {
   "source": [
    "The middle expression is only evaluated once, rather than twice as it would be if the expression were written as v(1) < v(2) && v(2) <= v(3). However, the order of evaluations in a chained comparison is undefined. It is strongly recommended not to use expressions with side effects (such as printing) in chained comparisons. If side effects are required, the short-circuit && operator should be used explicitly (see Short-Circuit Evaluation)."
   ],
   "cell_type": "markdown",
   "metadata": {}
  },
  {
   "source": [
    "## Elementary Functions"
   ],
   "cell_type": "markdown",
   "metadata": {}
  },
  {
   "source": [
    "Julia provides a comprehensive collection of mathematical functions and operators. These mathematical operations are defined over as broad a class of numerical values as permit sensible definitions, including integers, floating-point numbers, rationals, and complex numbers, wherever such definitions make sense.\n",
    "\n",
    "Moreover, these functions (like any Julia function) can be applied in \"vectorized\" fashion to arrays and other collections with the dot syntax f.(A), e.g. sin.(A) will compute the sine of each element of an array A."
   ],
   "cell_type": "markdown",
   "metadata": {}
  },
  {
   "source": [
    "## Numerical Conversions"
   ],
   "cell_type": "markdown",
   "metadata": {}
  },
  {
   "source": [
    "Julia supports three forms of numerical conversion, which differ in their handling of inexact conversions.\n",
    "\n",
    "    - The notation T(x) or convert(T,x) converts x to a value of type T.\n",
    "\n",
    "        - If T is a floating-point type, the result is the nearest representable value, which could be positive or negative infinity.\n",
    "        - If T is an integer type, an InexactError is raised if x is not representable by T.\n",
    "\n",
    "    - x % T converts an integer x to a value of integer type T congruent to x modulo 2^n, where n is the number of bits in T. In other words, the binary representation is truncated to fit.\n",
    "\n",
    "    - The Rounding functions take a type T as an optional argument. For example, round(Int,x) is a shorthand for Int(round(x)).\n",
    "\n"
   ],
   "cell_type": "markdown",
   "metadata": {}
  },
  {
   "cell_type": "code",
   "execution_count": 39,
   "metadata": {},
   "outputs": [
    {
     "output_type": "execute_result",
     "data": {
      "text/plain": [
       "127"
      ]
     },
     "metadata": {},
     "execution_count": 39
    }
   ],
   "source": [
    "Int8(127)"
   ]
  },
  {
   "cell_type": "code",
   "execution_count": 40,
   "metadata": {},
   "outputs": [
    {
     "output_type": "error",
     "ename": "InexactError",
     "evalue": "InexactError: trunc(Int8, 128)",
     "traceback": [
      "InexactError: trunc(Int8, 128)",
      "",
      "Stacktrace:",
      " [1] throw_inexacterror(::Symbol, ::Type{Int8}, ::Int64) at ./boot.jl:557",
      " [2] checked_trunc_sint at ./boot.jl:579 [inlined]",
      " [3] toInt8 at ./boot.jl:594 [inlined]",
      " [4] Int8(::Int64) at ./boot.jl:704",
      " [5] top-level scope at In[40]:1"
     ]
    }
   ],
   "source": [
    "Int8(128)"
   ]
  },
  {
   "cell_type": "code",
   "execution_count": 47,
   "metadata": {},
   "outputs": [
    {
     "output_type": "execute_result",
     "data": {
      "text/plain": [
       "127"
      ]
     },
     "metadata": {},
     "execution_count": 47
    }
   ],
   "source": [
    "Int8(127.0)"
   ]
  },
  {
   "cell_type": "code",
   "execution_count": 49,
   "metadata": {},
   "outputs": [
    {
     "output_type": "error",
     "ename": "InexactError",
     "evalue": "InexactError: Int8(3.14)",
     "traceback": [
      "InexactError: Int8(3.14)",
      "",
      "Stacktrace:",
      " [1] Int8(::Float64) at ./float.jl:689",
      " [2] top-level scope at In[49]:1"
     ]
    }
   ],
   "source": [
    "Int8(3.14)"
   ]
  },
  {
   "cell_type": "code",
   "execution_count": 50,
   "metadata": {},
   "outputs": [
    {
     "output_type": "error",
     "ename": "InexactError",
     "evalue": "InexactError: Int8(128.0)",
     "traceback": [
      "InexactError: Int8(128.0)",
      "",
      "Stacktrace:",
      " [1] Int8(::Float64) at ./float.jl:689",
      " [2] top-level scope at In[50]:1"
     ]
    }
   ],
   "source": [
    "Int8(128.0)"
   ]
  },
  {
   "cell_type": "code",
   "execution_count": 51,
   "metadata": {},
   "outputs": [
    {
     "output_type": "execute_result",
     "data": {
      "text/plain": [
       "127"
      ]
     },
     "metadata": {},
     "execution_count": 51
    }
   ],
   "source": [
    "127 % Int8"
   ]
  },
  {
   "cell_type": "code",
   "execution_count": 52,
   "metadata": {},
   "outputs": [
    {
     "output_type": "execute_result",
     "data": {
      "text/plain": [
       "-128"
      ]
     },
     "metadata": {},
     "execution_count": 52
    }
   ],
   "source": [
    "128 % Int8"
   ]
  },
  {
   "cell_type": "code",
   "execution_count": 53,
   "metadata": {},
   "outputs": [
    {
     "output_type": "execute_result",
     "data": {
      "text/plain": [
       "127"
      ]
     },
     "metadata": {},
     "execution_count": 53
    }
   ],
   "source": [
    "round(Int8,127.4)"
   ]
  },
  {
   "cell_type": "code",
   "execution_count": 54,
   "metadata": {},
   "outputs": [
    {
     "output_type": "error",
     "ename": "InexactError",
     "evalue": "InexactError: trunc(Int8, 128.0)",
     "traceback": [
      "InexactError: trunc(Int8, 128.0)",
      "",
      "Stacktrace:",
      " [1] trunc at ./float.jl:682 [inlined]",
      " [2] round(::Type{Int8}, ::Float64) at ./float.jl:367",
      " [3] top-level scope at In[54]:1"
     ]
    }
   ],
   "source": [
    "round(Int8,127.6)"
   ]
  },
  {
   "source": [
    "### Rounding functions"
   ],
   "cell_type": "markdown",
   "metadata": {}
  },
  {
   "cell_type": "code",
   "execution_count": 55,
   "metadata": {},
   "outputs": [
    {
     "output_type": "stream",
     "name": "stdout",
     "text": [
      "search: \u001b[0m\u001b[1mr\u001b[22m\u001b[0m\u001b[1mo\u001b[22m\u001b[0m\u001b[1mu\u001b[22m\u001b[0m\u001b[1mn\u001b[22m\u001b[0m\u001b[1md\u001b[22m \u001b[0m\u001b[1mr\u001b[22m\u001b[0m\u001b[1mo\u001b[22m\u001b[0m\u001b[1mu\u001b[22m\u001b[0m\u001b[1mn\u001b[22m\u001b[0m\u001b[1md\u001b[22ming \u001b[0m\u001b[1mR\u001b[22m\u001b[0m\u001b[1mo\u001b[22m\u001b[0m\u001b[1mu\u001b[22m\u001b[0m\u001b[1mn\u001b[22m\u001b[0m\u001b[1md\u001b[22mUp \u001b[0m\u001b[1mR\u001b[22m\u001b[0m\u001b[1mo\u001b[22m\u001b[0m\u001b[1mu\u001b[22m\u001b[0m\u001b[1mn\u001b[22m\u001b[0m\u001b[1md\u001b[22mDown \u001b[0m\u001b[1mR\u001b[22m\u001b[0m\u001b[1mo\u001b[22m\u001b[0m\u001b[1mu\u001b[22m\u001b[0m\u001b[1mn\u001b[22m\u001b[0m\u001b[1md\u001b[22mToZero \u001b[0m\u001b[1mR\u001b[22m\u001b[0m\u001b[1mo\u001b[22m\u001b[0m\u001b[1mu\u001b[22m\u001b[0m\u001b[1mn\u001b[22m\u001b[0m\u001b[1md\u001b[22mingMode \u001b[0m\u001b[1mR\u001b[22m\u001b[0m\u001b[1mo\u001b[22m\u001b[0m\u001b[1mu\u001b[22m\u001b[0m\u001b[1mn\u001b[22m\u001b[0m\u001b[1md\u001b[22mNearest\n\n"
     ]
    },
    {
     "output_type": "execute_result",
     "data": {
      "text/plain": [
       "\u001b[36m  round(z::Complex[, RoundingModeReal, [RoundingModeImaginary]])\u001b[39m\n",
       "\u001b[36m  round(z::Complex[, RoundingModeReal, [RoundingModeImaginary]]; digits=, base=10)\u001b[39m\n",
       "\u001b[36m  round(z::Complex[, RoundingModeReal, [RoundingModeImaginary]]; sigdigits=, base=10)\u001b[39m\n",
       "\n",
       "  Return the nearest integral value of the same type as the complex-valued \u001b[36mz\u001b[39m\n",
       "  to \u001b[36mz\u001b[39m, breaking ties using the specified \u001b[36mRoundingMode\u001b[39ms. The first\n",
       "  \u001b[36mRoundingMode\u001b[39m is used for rounding the real components while the second is\n",
       "  used for rounding the imaginary components.\n",
       "\n",
       "\u001b[1m  Example\u001b[22m\n",
       "\u001b[1m  ≡≡≡≡≡≡≡≡≡\u001b[22m\n",
       "\n",
       "\u001b[36m  julia> round(3.14 + 4.5im)\u001b[39m\n",
       "\u001b[36m  3.0 + 4.0im\u001b[39m\n",
       "\n",
       "  ────────────────────────────────────────────────────────────────────────────\n",
       "\n",
       "\u001b[36m  round([T,] x, [r::RoundingMode])\u001b[39m\n",
       "\u001b[36m  round(x, [r::RoundingMode]; digits::Integer=0, base = 10)\u001b[39m\n",
       "\u001b[36m  round(x, [r::RoundingMode]; sigdigits::Integer, base = 10)\u001b[39m\n",
       "\n",
       "  Rounds the number \u001b[36mx\u001b[39m.\n",
       "\n",
       "  Without keyword arguments, \u001b[36mx\u001b[39m is rounded to an integer value, returning a\n",
       "  value of type \u001b[36mT\u001b[39m, or of the same type of \u001b[36mx\u001b[39m if no \u001b[36mT\u001b[39m is provided. An\n",
       "  \u001b[36mInexactError\u001b[39m will be thrown if the value is not representable by \u001b[36mT\u001b[39m, similar\n",
       "  to \u001b[36mconvert\u001b[39m.\n",
       "\n",
       "  If the \u001b[36mdigits\u001b[39m keyword argument is provided, it rounds to the specified\n",
       "  number of digits after the decimal place (or before if negative), in base\n",
       "  \u001b[36mbase\u001b[39m.\n",
       "\n",
       "  If the \u001b[36msigdigits\u001b[39m keyword argument is provided, it rounds to the specified\n",
       "  number of significant digits, in base \u001b[36mbase\u001b[39m.\n",
       "\n",
       "  The \u001b[36mRoundingMode\u001b[39m \u001b[36mr\u001b[39m controls the direction of the rounding; the default is\n",
       "  \u001b[36mRoundNearest\u001b[39m, which rounds to the nearest integer, with ties (fractional\n",
       "  values of 0.5) being rounded to the nearest even integer. Note that \u001b[36mround\u001b[39m\n",
       "  may give incorrect results if the global rounding mode is changed (see\n",
       "  \u001b[36mrounding\u001b[39m).\n",
       "\n",
       "\u001b[1m  Examples\u001b[22m\n",
       "\u001b[1m  ≡≡≡≡≡≡≡≡≡≡\u001b[22m\n",
       "\n",
       "\u001b[36m  julia> round(1.7)\u001b[39m\n",
       "\u001b[36m  2.0\u001b[39m\n",
       "\u001b[36m  \u001b[39m\n",
       "\u001b[36m  julia> round(Int, 1.7)\u001b[39m\n",
       "\u001b[36m  2\u001b[39m\n",
       "\u001b[36m  \u001b[39m\n",
       "\u001b[36m  julia> round(1.5)\u001b[39m\n",
       "\u001b[36m  2.0\u001b[39m\n",
       "\u001b[36m  \u001b[39m\n",
       "\u001b[36m  julia> round(2.5)\u001b[39m\n",
       "\u001b[36m  2.0\u001b[39m\n",
       "\u001b[36m  \u001b[39m\n",
       "\u001b[36m  julia> round(pi; digits=2)\u001b[39m\n",
       "\u001b[36m  3.14\u001b[39m\n",
       "\u001b[36m  \u001b[39m\n",
       "\u001b[36m  julia> round(pi; digits=3, base=2)\u001b[39m\n",
       "\u001b[36m  3.125\u001b[39m\n",
       "\u001b[36m  \u001b[39m\n",
       "\u001b[36m  julia> round(123.456; sigdigits=2)\u001b[39m\n",
       "\u001b[36m  120.0\u001b[39m\n",
       "\u001b[36m  \u001b[39m\n",
       "\u001b[36m  julia> round(357.913; sigdigits=4, base=2)\u001b[39m\n",
       "\u001b[36m  352.0\u001b[39m\n",
       "\n",
       "\u001b[36m\u001b[1m  │ \u001b[22m\u001b[39m\u001b[36m\u001b[1mNote\u001b[22m\u001b[39m\n",
       "\u001b[36m\u001b[1m  │\u001b[22m\u001b[39m\n",
       "\u001b[36m\u001b[1m  │\u001b[22m\u001b[39m  Rounding to specified digits in bases other than 2 can be inexact\n",
       "\u001b[36m\u001b[1m  │\u001b[22m\u001b[39m  when operating on binary floating point numbers. For example, the\n",
       "\u001b[36m\u001b[1m  │\u001b[22m\u001b[39m  \u001b[36mFloat64\u001b[39m value represented by \u001b[36m1.15\u001b[39m is actually \u001b[4mless\u001b[24m than 1.15, yet\n",
       "\u001b[36m\u001b[1m  │\u001b[22m\u001b[39m  will be rounded to 1.2.\n",
       "\u001b[36m\u001b[1m  │\u001b[22m\u001b[39m\n",
       "\u001b[36m\u001b[1m  │\u001b[22m\u001b[39m\u001b[1m  Examples\u001b[22m\n",
       "\u001b[36m\u001b[1m  │\u001b[22m\u001b[39m\u001b[1m  ≡≡≡≡≡≡≡≡≡≡\u001b[22m\n",
       "\u001b[36m\u001b[1m  │\u001b[22m\u001b[39m\n",
       "\u001b[36m\u001b[1m  │\u001b[22m\u001b[39m\u001b[36m  julia> x = 1.15\u001b[39m\n",
       "\u001b[36m\u001b[1m  │\u001b[22m\u001b[39m\u001b[36m  1.15\u001b[39m\n",
       "\u001b[36m\u001b[1m  │\u001b[22m\u001b[39m\u001b[36m  \u001b[39m\n",
       "\u001b[36m\u001b[1m  │\u001b[22m\u001b[39m\u001b[36m  julia> @sprintf \"%.20f\" x\u001b[39m\n",
       "\u001b[36m\u001b[1m  │\u001b[22m\u001b[39m\u001b[36m  \"1.14999999999999991118\"\u001b[39m\n",
       "\u001b[36m\u001b[1m  │\u001b[22m\u001b[39m\u001b[36m  \u001b[39m\n",
       "\u001b[36m\u001b[1m  │\u001b[22m\u001b[39m\u001b[36m  julia> x < 115//100\u001b[39m\n",
       "\u001b[36m\u001b[1m  │\u001b[22m\u001b[39m\u001b[36m  true\u001b[39m\n",
       "\u001b[36m\u001b[1m  │\u001b[22m\u001b[39m\u001b[36m  \u001b[39m\n",
       "\u001b[36m\u001b[1m  │\u001b[22m\u001b[39m\u001b[36m  julia> round(x, digits=1)\u001b[39m\n",
       "\u001b[36m\u001b[1m  │\u001b[22m\u001b[39m\u001b[36m  1.2\u001b[39m\n",
       "\n",
       "\u001b[1m  Extensions\u001b[22m\n",
       "\u001b[1m  ≡≡≡≡≡≡≡≡≡≡≡≡\u001b[22m\n",
       "\n",
       "  To extend \u001b[36mround\u001b[39m to new numeric types, it is typically sufficient to define\n",
       "  \u001b[36mBase.round(x::NewType, r::RoundingMode)\u001b[39m.\n",
       "\n",
       "  ────────────────────────────────────────────────────────────────────────────\n",
       "\n",
       "\u001b[36m  round(dt::TimeType, p::Period, [r::RoundingMode]) -> TimeType\u001b[39m\n",
       "\n",
       "  Return the \u001b[36mDate\u001b[39m or \u001b[36mDateTime\u001b[39m nearest to \u001b[36mdt\u001b[39m at resolution \u001b[36mp\u001b[39m. By default\n",
       "  (\u001b[36mRoundNearestTiesUp\u001b[39m), ties (e.g., rounding 9:30 to the nearest hour) will be\n",
       "  rounded up.\n",
       "\n",
       "  For convenience, \u001b[36mp\u001b[39m may be a type instead of a value: \u001b[36mround(dt, Dates.Hour)\u001b[39m\n",
       "  is a shortcut for \u001b[36mround(dt, Dates.Hour(1))\u001b[39m.\n",
       "\n",
       "\u001b[36m  julia> round(Date(1985, 8, 16), Dates.Month)\u001b[39m\n",
       "\u001b[36m  1985-08-01\u001b[39m\n",
       "\u001b[36m  \u001b[39m\n",
       "\u001b[36m  julia> round(DateTime(2013, 2, 13, 0, 31, 20), Dates.Minute(15))\u001b[39m\n",
       "\u001b[36m  2013-02-13T00:30:00\u001b[39m\n",
       "\u001b[36m  \u001b[39m\n",
       "\u001b[36m  julia> round(DateTime(2016, 8, 6, 12, 0, 0), Dates.Day)\u001b[39m\n",
       "\u001b[36m  2016-08-07T00:00:00\u001b[39m\n",
       "\n",
       "  Valid rounding modes for \u001b[36mround(::TimeType, ::Period, ::RoundingMode)\u001b[39m are\n",
       "  \u001b[36mRoundNearestTiesUp\u001b[39m (default), \u001b[36mRoundDown\u001b[39m (\u001b[36mfloor\u001b[39m), and \u001b[36mRoundUp\u001b[39m (\u001b[36mceil\u001b[39m).\n",
       "\n",
       "  ────────────────────────────────────────────────────────────────────────────\n",
       "\n",
       "\u001b[36m  round(x::Period, precision::T, [r::RoundingMode]) where T <: Union{TimePeriod, Week, Day} -> T\u001b[39m\n",
       "\n",
       "  Round \u001b[36mx\u001b[39m to the nearest multiple of \u001b[36mprecision\u001b[39m. If \u001b[36mx\u001b[39m and \u001b[36mprecision\u001b[39m are\n",
       "  different subtypes of \u001b[36mPeriod\u001b[39m, the return value will have the same type as\n",
       "  \u001b[36mprecision\u001b[39m. By default (\u001b[36mRoundNearestTiesUp\u001b[39m), ties (e.g., rounding 90 minutes\n",
       "  to the nearest hour) will be rounded up.\n",
       "\n",
       "  For convenience, \u001b[36mprecision\u001b[39m may be a type instead of a value: \u001b[36mround(x,\n",
       "  Dates.Hour)\u001b[39m is a shortcut for \u001b[36mround(x, Dates.Hour(1))\u001b[39m.\n",
       "\n",
       "\u001b[36m  julia> round(Dates.Day(16), Dates.Week)\u001b[39m\n",
       "\u001b[36m  2 weeks\u001b[39m\n",
       "\u001b[36m  \u001b[39m\n",
       "\u001b[36m  julia> round(Dates.Minute(44), Dates.Minute(15))\u001b[39m\n",
       "\u001b[36m  45 minutes\u001b[39m\n",
       "\u001b[36m  \u001b[39m\n",
       "\u001b[36m  julia> round(Dates.Hour(36), Dates.Day)\u001b[39m\n",
       "\u001b[36m  2 days\u001b[39m\n",
       "\n",
       "  Valid rounding modes for \u001b[36mround(::Period, ::T, ::RoundingMode)\u001b[39m are\n",
       "  \u001b[36mRoundNearestTiesUp\u001b[39m (default), \u001b[36mRoundDown\u001b[39m (\u001b[36mfloor\u001b[39m), and \u001b[36mRoundUp\u001b[39m (\u001b[36mceil\u001b[39m).\n",
       "\n",
       "  Rounding to a \u001b[36mprecision\u001b[39m of \u001b[36mMonth\u001b[39ms or \u001b[36mYear\u001b[39ms is not supported, as these\n",
       "  \u001b[36mPeriod\u001b[39ms are of inconsistent length."
      ],
      "text/markdown": "```\nround(z::Complex[, RoundingModeReal, [RoundingModeImaginary]])\nround(z::Complex[, RoundingModeReal, [RoundingModeImaginary]]; digits=, base=10)\nround(z::Complex[, RoundingModeReal, [RoundingModeImaginary]]; sigdigits=, base=10)\n```\n\nReturn the nearest integral value of the same type as the complex-valued `z` to `z`, breaking ties using the specified [`RoundingMode`](@ref)s. The first [`RoundingMode`](@ref) is used for rounding the real components while the second is used for rounding the imaginary components.\n\n# Example\n\n```jldoctest\njulia> round(3.14 + 4.5im)\n3.0 + 4.0im\n```\n\n---\n\n```\nround([T,] x, [r::RoundingMode])\nround(x, [r::RoundingMode]; digits::Integer=0, base = 10)\nround(x, [r::RoundingMode]; sigdigits::Integer, base = 10)\n```\n\nRounds the number `x`.\n\nWithout keyword arguments, `x` is rounded to an integer value, returning a value of type `T`, or of the same type of `x` if no `T` is provided. An [`InexactError`](@ref) will be thrown if the value is not representable by `T`, similar to [`convert`](@ref).\n\nIf the `digits` keyword argument is provided, it rounds to the specified number of digits after the decimal place (or before if negative), in base `base`.\n\nIf the `sigdigits` keyword argument is provided, it rounds to the specified number of significant digits, in base `base`.\n\nThe [`RoundingMode`](@ref) `r` controls the direction of the rounding; the default is [`RoundNearest`](@ref), which rounds to the nearest integer, with ties (fractional values of 0.5) being rounded to the nearest even integer. Note that `round` may give incorrect results if the global rounding mode is changed (see [`rounding`](@ref)).\n\n# Examples\n\n```jldoctest\njulia> round(1.7)\n2.0\n\njulia> round(Int, 1.7)\n2\n\njulia> round(1.5)\n2.0\n\njulia> round(2.5)\n2.0\n\njulia> round(pi; digits=2)\n3.14\n\njulia> round(pi; digits=3, base=2)\n3.125\n\njulia> round(123.456; sigdigits=2)\n120.0\n\njulia> round(357.913; sigdigits=4, base=2)\n352.0\n```\n\n!!! note\n    Rounding to specified digits in bases other than 2 can be inexact when operating on binary floating point numbers. For example, the [`Float64`](@ref) value represented by `1.15` is actually *less* than 1.15, yet will be rounded to 1.2.\n\n    # Examples\n\n    ```jldoctest; setup = :(using Printf)\n    julia> x = 1.15\n    1.15\n\n    julia> @sprintf \"%.20f\" x\n    \"1.14999999999999991118\"\n\n    julia> x < 115//100\n    true\n\n    julia> round(x, digits=1)\n    1.2\n    ```\n\n\n# Extensions\n\nTo extend `round` to new numeric types, it is typically sufficient to define `Base.round(x::NewType, r::RoundingMode)`.\n\n---\n\n```\nround(dt::TimeType, p::Period, [r::RoundingMode]) -> TimeType\n```\n\nReturn the `Date` or `DateTime` nearest to `dt` at resolution `p`. By default (`RoundNearestTiesUp`), ties (e.g., rounding 9:30 to the nearest hour) will be rounded up.\n\nFor convenience, `p` may be a type instead of a value: `round(dt, Dates.Hour)` is a shortcut for `round(dt, Dates.Hour(1))`.\n\n```jldoctest\njulia> round(Date(1985, 8, 16), Dates.Month)\n1985-08-01\n\njulia> round(DateTime(2013, 2, 13, 0, 31, 20), Dates.Minute(15))\n2013-02-13T00:30:00\n\njulia> round(DateTime(2016, 8, 6, 12, 0, 0), Dates.Day)\n2016-08-07T00:00:00\n```\n\nValid rounding modes for `round(::TimeType, ::Period, ::RoundingMode)` are `RoundNearestTiesUp` (default), `RoundDown` (`floor`), and `RoundUp` (`ceil`).\n\n---\n\n```\nround(x::Period, precision::T, [r::RoundingMode]) where T <: Union{TimePeriod, Week, Day} -> T\n```\n\nRound `x` to the nearest multiple of `precision`. If `x` and `precision` are different subtypes of `Period`, the return value will have the same type as `precision`. By default (`RoundNearestTiesUp`), ties (e.g., rounding 90 minutes to the nearest hour) will be rounded up.\n\nFor convenience, `precision` may be a type instead of a value: `round(x, Dates.Hour)` is a shortcut for `round(x, Dates.Hour(1))`.\n\n```jldoctest\njulia> round(Dates.Day(16), Dates.Week)\n2 weeks\n\njulia> round(Dates.Minute(44), Dates.Minute(15))\n45 minutes\n\njulia> round(Dates.Hour(36), Dates.Day)\n2 days\n```\n\nValid rounding modes for `round(::Period, ::T, ::RoundingMode)` are `RoundNearestTiesUp` (default), `RoundDown` (`floor`), and `RoundUp` (`ceil`).\n\nRounding to a `precision` of `Month`s or `Year`s is not supported, as these `Period`s are of inconsistent length.\n",
      "text/latex": "\\begin{verbatim}\nround(z::Complex[, RoundingModeReal, [RoundingModeImaginary]])\nround(z::Complex[, RoundingModeReal, [RoundingModeImaginary]]; digits=, base=10)\nround(z::Complex[, RoundingModeReal, [RoundingModeImaginary]]; sigdigits=, base=10)\n\\end{verbatim}\nReturn the nearest integral value of the same type as the complex-valued \\texttt{z} to \\texttt{z}, breaking ties using the specified \\href{@ref}{\\texttt{RoundingMode}}s. The first \\href{@ref}{\\texttt{RoundingMode}} is used for rounding the real components while the second is used for rounding the imaginary components.\n\n\\section{Example}\n\\begin{verbatim}\njulia> round(3.14 + 4.5im)\n3.0 + 4.0im\n\\end{verbatim}\n\\rule{\\textwidth}{1pt}\n\\begin{verbatim}\nround([T,] x, [r::RoundingMode])\nround(x, [r::RoundingMode]; digits::Integer=0, base = 10)\nround(x, [r::RoundingMode]; sigdigits::Integer, base = 10)\n\\end{verbatim}\nRounds the number \\texttt{x}.\n\nWithout keyword arguments, \\texttt{x} is rounded to an integer value, returning a value of type \\texttt{T}, or of the same type of \\texttt{x} if no \\texttt{T} is provided. An \\href{@ref}{\\texttt{InexactError}} will be thrown if the value is not representable by \\texttt{T}, similar to \\href{@ref}{\\texttt{convert}}.\n\nIf the \\texttt{digits} keyword argument is provided, it rounds to the specified number of digits after the decimal place (or before if negative), in base \\texttt{base}.\n\nIf the \\texttt{sigdigits} keyword argument is provided, it rounds to the specified number of significant digits, in base \\texttt{base}.\n\nThe \\href{@ref}{\\texttt{RoundingMode}} \\texttt{r} controls the direction of the rounding; the default is \\href{@ref}{\\texttt{RoundNearest}}, which rounds to the nearest integer, with ties (fractional values of 0.5) being rounded to the nearest even integer. Note that \\texttt{round} may give incorrect results if the global rounding mode is changed (see \\href{@ref}{\\texttt{rounding}}).\n\n\\section{Examples}\n\\begin{verbatim}\njulia> round(1.7)\n2.0\n\njulia> round(Int, 1.7)\n2\n\njulia> round(1.5)\n2.0\n\njulia> round(2.5)\n2.0\n\njulia> round(pi; digits=2)\n3.14\n\njulia> round(pi; digits=3, base=2)\n3.125\n\njulia> round(123.456; sigdigits=2)\n120.0\n\njulia> round(357.913; sigdigits=4, base=2)\n352.0\n\\end{verbatim}\n\\begin{quote}\n\\textbf{note}\n\nNote\n\nRounding to specified digits in bases other than 2 can be inexact when operating on binary floating point numbers. For example, the \\href{@ref}{\\texttt{Float64}} value represented by \\texttt{1.15} is actually \\emph{less} than 1.15, yet will be rounded to 1.2.\n\n\\section{Examples}\n\\begin{verbatim}\njulia> x = 1.15\n1.15\n\njulia> @sprintf \"%.20f\" x\n\"1.14999999999999991118\"\n\njulia> x < 115//100\ntrue\n\njulia> round(x, digits=1)\n1.2\n\\end{verbatim}\n\\end{quote}\n\\section{Extensions}\nTo extend \\texttt{round} to new numeric types, it is typically sufficient to define \\texttt{Base.round(x::NewType, r::RoundingMode)}.\n\n\\rule{\\textwidth}{1pt}\n\\begin{verbatim}\nround(dt::TimeType, p::Period, [r::RoundingMode]) -> TimeType\n\\end{verbatim}\nReturn the \\texttt{Date} or \\texttt{DateTime} nearest to \\texttt{dt} at resolution \\texttt{p}. By default (\\texttt{RoundNearestTiesUp}), ties (e.g., rounding 9:30 to the nearest hour) will be rounded up.\n\nFor convenience, \\texttt{p} may be a type instead of a value: \\texttt{round(dt, Dates.Hour)} is a shortcut for \\texttt{round(dt, Dates.Hour(1))}.\n\n\\begin{verbatim}\njulia> round(Date(1985, 8, 16), Dates.Month)\n1985-08-01\n\njulia> round(DateTime(2013, 2, 13, 0, 31, 20), Dates.Minute(15))\n2013-02-13T00:30:00\n\njulia> round(DateTime(2016, 8, 6, 12, 0, 0), Dates.Day)\n2016-08-07T00:00:00\n\\end{verbatim}\nValid rounding modes for \\texttt{round(::TimeType, ::Period, ::RoundingMode)} are \\texttt{RoundNearestTiesUp} (default), \\texttt{RoundDown} (\\texttt{floor}), and \\texttt{RoundUp} (\\texttt{ceil}).\n\n\\rule{\\textwidth}{1pt}\n\\begin{verbatim}\nround(x::Period, precision::T, [r::RoundingMode]) where T <: Union{TimePeriod, Week, Day} -> T\n\\end{verbatim}\nRound \\texttt{x} to the nearest multiple of \\texttt{precision}. If \\texttt{x} and \\texttt{precision} are different subtypes of \\texttt{Period}, the return value will have the same type as \\texttt{precision}. By default (\\texttt{RoundNearestTiesUp}), ties (e.g., rounding 90 minutes to the nearest hour) will be rounded up.\n\nFor convenience, \\texttt{precision} may be a type instead of a value: \\texttt{round(x, Dates.Hour)} is a shortcut for \\texttt{round(x, Dates.Hour(1))}.\n\n\\begin{verbatim}\njulia> round(Dates.Day(16), Dates.Week)\n2 weeks\n\njulia> round(Dates.Minute(44), Dates.Minute(15))\n45 minutes\n\njulia> round(Dates.Hour(36), Dates.Day)\n2 days\n\\end{verbatim}\nValid rounding modes for \\texttt{round(::Period, ::T, ::RoundingMode)} are \\texttt{RoundNearestTiesUp} (default), \\texttt{RoundDown} (\\texttt{floor}), and \\texttt{RoundUp} (\\texttt{ceil}).\n\nRounding to a \\texttt{precision} of \\texttt{Month}s or \\texttt{Year}s is not supported, as these \\texttt{Period}s are of inconsistent length.\n\n"
     },
     "metadata": {},
     "execution_count": 55
    }
   ],
   "source": [
    "?round"
   ]
  },
  {
   "cell_type": "code",
   "execution_count": 56,
   "metadata": {},
   "outputs": [
    {
     "output_type": "stream",
     "name": "stdout",
     "text": [
      "search: \u001b[0m\u001b[1mf\u001b[22m\u001b[0m\u001b[1ml\u001b[22m\u001b[0m\u001b[1mo\u001b[22m\u001b[0m\u001b[1mo\u001b[22m\u001b[0m\u001b[1mr\u001b[22m Over\u001b[0m\u001b[1mf\u001b[22m\u001b[0m\u001b[1ml\u001b[22m\u001b[0m\u001b[1mo\u001b[22mwErr\u001b[0m\u001b[1mo\u001b[22m\u001b[0m\u001b[1mr\u001b[22m StackOver\u001b[0m\u001b[1mf\u001b[22m\u001b[0m\u001b[1ml\u001b[22m\u001b[0m\u001b[1mo\u001b[22mwErr\u001b[0m\u001b[1mo\u001b[22m\u001b[0m\u001b[1mr\u001b[22m\n\n"
     ]
    },
    {
     "output_type": "execute_result",
     "data": {
      "text/plain": [
       "\u001b[36m  floor([T,] x)\u001b[39m\n",
       "\u001b[36m  floor(x; digits::Integer= [, base = 10])\u001b[39m\n",
       "\u001b[36m  floor(x; sigdigits::Integer= [, base = 10])\u001b[39m\n",
       "\n",
       "  \u001b[36mfloor(x)\u001b[39m returns the nearest integral value of the same type as \u001b[36mx\u001b[39m that is\n",
       "  less than or equal to \u001b[36mx\u001b[39m.\n",
       "\n",
       "  \u001b[36mfloor(T, x)\u001b[39m converts the result to type \u001b[36mT\u001b[39m, throwing an \u001b[36mInexactError\u001b[39m if the\n",
       "  value is not representable.\n",
       "\n",
       "  \u001b[36mdigits\u001b[39m, \u001b[36msigdigits\u001b[39m and \u001b[36mbase\u001b[39m work as for \u001b[36mround\u001b[39m.\n",
       "\n",
       "  ────────────────────────────────────────────────────────────────────────────\n",
       "\n",
       "\u001b[36m  floor(x::Period, precision::T) where T <: Union{TimePeriod, Week, Day} -> T\u001b[39m\n",
       "\n",
       "  Round \u001b[36mx\u001b[39m down to the nearest multiple of \u001b[36mprecision\u001b[39m. If \u001b[36mx\u001b[39m and \u001b[36mprecision\u001b[39m are\n",
       "  different subtypes of \u001b[36mPeriod\u001b[39m, the return value will have the same type as\n",
       "  \u001b[36mprecision\u001b[39m.\n",
       "\n",
       "  For convenience, \u001b[36mprecision\u001b[39m may be a type instead of a value: \u001b[36mfloor(x,\n",
       "  Dates.Hour)\u001b[39m is a shortcut for \u001b[36mfloor(x, Dates.Hour(1))\u001b[39m.\n",
       "\n",
       "\u001b[36m  julia> floor(Dates.Day(16), Dates.Week)\u001b[39m\n",
       "\u001b[36m  2 weeks\u001b[39m\n",
       "\u001b[36m  \u001b[39m\n",
       "\u001b[36m  julia> floor(Dates.Minute(44), Dates.Minute(15))\u001b[39m\n",
       "\u001b[36m  30 minutes\u001b[39m\n",
       "\u001b[36m  \u001b[39m\n",
       "\u001b[36m  julia> floor(Dates.Hour(36), Dates.Day)\u001b[39m\n",
       "\u001b[36m  1 day\u001b[39m\n",
       "\n",
       "  Rounding to a \u001b[36mprecision\u001b[39m of \u001b[36mMonth\u001b[39ms or \u001b[36mYear\u001b[39ms is not supported, as these\n",
       "  \u001b[36mPeriod\u001b[39ms are of inconsistent length.\n",
       "\n",
       "  ────────────────────────────────────────────────────────────────────────────\n",
       "\n",
       "\u001b[36m  floor(dt::TimeType, p::Period) -> TimeType\u001b[39m\n",
       "\n",
       "  Return the nearest \u001b[36mDate\u001b[39m or \u001b[36mDateTime\u001b[39m less than or equal to \u001b[36mdt\u001b[39m at resolution\n",
       "  \u001b[36mp\u001b[39m.\n",
       "\n",
       "  For convenience, \u001b[36mp\u001b[39m may be a type instead of a value: \u001b[36mfloor(dt, Dates.Hour)\u001b[39m\n",
       "  is a shortcut for \u001b[36mfloor(dt, Dates.Hour(1))\u001b[39m.\n",
       "\n",
       "\u001b[36m  julia> floor(Date(1985, 8, 16), Dates.Month)\u001b[39m\n",
       "\u001b[36m  1985-08-01\u001b[39m\n",
       "\u001b[36m  \u001b[39m\n",
       "\u001b[36m  julia> floor(DateTime(2013, 2, 13, 0, 31, 20), Dates.Minute(15))\u001b[39m\n",
       "\u001b[36m  2013-02-13T00:30:00\u001b[39m\n",
       "\u001b[36m  \u001b[39m\n",
       "\u001b[36m  julia> floor(DateTime(2016, 8, 6, 12, 0, 0), Dates.Day)\u001b[39m\n",
       "\u001b[36m  2016-08-06T00:00:00\u001b[39m"
      ],
      "text/markdown": "```\nfloor([T,] x)\nfloor(x; digits::Integer= [, base = 10])\nfloor(x; sigdigits::Integer= [, base = 10])\n```\n\n`floor(x)` returns the nearest integral value of the same type as `x` that is less than or equal to `x`.\n\n`floor(T, x)` converts the result to type `T`, throwing an `InexactError` if the value is not representable.\n\n`digits`, `sigdigits` and `base` work as for [`round`](@ref).\n\n---\n\n```\nfloor(x::Period, precision::T) where T <: Union{TimePeriod, Week, Day} -> T\n```\n\nRound `x` down to the nearest multiple of `precision`. If `x` and `precision` are different subtypes of `Period`, the return value will have the same type as `precision`.\n\nFor convenience, `precision` may be a type instead of a value: `floor(x, Dates.Hour)` is a shortcut for `floor(x, Dates.Hour(1))`.\n\n```jldoctest\njulia> floor(Dates.Day(16), Dates.Week)\n2 weeks\n\njulia> floor(Dates.Minute(44), Dates.Minute(15))\n30 minutes\n\njulia> floor(Dates.Hour(36), Dates.Day)\n1 day\n```\n\nRounding to a `precision` of `Month`s or `Year`s is not supported, as these `Period`s are of inconsistent length.\n\n---\n\n```\nfloor(dt::TimeType, p::Period) -> TimeType\n```\n\nReturn the nearest `Date` or `DateTime` less than or equal to `dt` at resolution `p`.\n\nFor convenience, `p` may be a type instead of a value: `floor(dt, Dates.Hour)` is a shortcut for `floor(dt, Dates.Hour(1))`.\n\n```jldoctest\njulia> floor(Date(1985, 8, 16), Dates.Month)\n1985-08-01\n\njulia> floor(DateTime(2013, 2, 13, 0, 31, 20), Dates.Minute(15))\n2013-02-13T00:30:00\n\njulia> floor(DateTime(2016, 8, 6, 12, 0, 0), Dates.Day)\n2016-08-06T00:00:00\n```\n",
      "text/latex": "\\begin{verbatim}\nfloor([T,] x)\nfloor(x; digits::Integer= [, base = 10])\nfloor(x; sigdigits::Integer= [, base = 10])\n\\end{verbatim}\n\\texttt{floor(x)} returns the nearest integral value of the same type as \\texttt{x} that is less than or equal to \\texttt{x}.\n\n\\texttt{floor(T, x)} converts the result to type \\texttt{T}, throwing an \\texttt{InexactError} if the value is not representable.\n\n\\texttt{digits}, \\texttt{sigdigits} and \\texttt{base} work as for \\href{@ref}{\\texttt{round}}.\n\n\\rule{\\textwidth}{1pt}\n\\begin{verbatim}\nfloor(x::Period, precision::T) where T <: Union{TimePeriod, Week, Day} -> T\n\\end{verbatim}\nRound \\texttt{x} down to the nearest multiple of \\texttt{precision}. If \\texttt{x} and \\texttt{precision} are different subtypes of \\texttt{Period}, the return value will have the same type as \\texttt{precision}.\n\nFor convenience, \\texttt{precision} may be a type instead of a value: \\texttt{floor(x, Dates.Hour)} is a shortcut for \\texttt{floor(x, Dates.Hour(1))}.\n\n\\begin{verbatim}\njulia> floor(Dates.Day(16), Dates.Week)\n2 weeks\n\njulia> floor(Dates.Minute(44), Dates.Minute(15))\n30 minutes\n\njulia> floor(Dates.Hour(36), Dates.Day)\n1 day\n\\end{verbatim}\nRounding to a \\texttt{precision} of \\texttt{Month}s or \\texttt{Year}s is not supported, as these \\texttt{Period}s are of inconsistent length.\n\n\\rule{\\textwidth}{1pt}\n\\begin{verbatim}\nfloor(dt::TimeType, p::Period) -> TimeType\n\\end{verbatim}\nReturn the nearest \\texttt{Date} or \\texttt{DateTime} less than or equal to \\texttt{dt} at resolution \\texttt{p}.\n\nFor convenience, \\texttt{p} may be a type instead of a value: \\texttt{floor(dt, Dates.Hour)} is a shortcut for \\texttt{floor(dt, Dates.Hour(1))}.\n\n\\begin{verbatim}\njulia> floor(Date(1985, 8, 16), Dates.Month)\n1985-08-01\n\njulia> floor(DateTime(2013, 2, 13, 0, 31, 20), Dates.Minute(15))\n2013-02-13T00:30:00\n\njulia> floor(DateTime(2016, 8, 6, 12, 0, 0), Dates.Day)\n2016-08-06T00:00:00\n\\end{verbatim}\n"
     },
     "metadata": {},
     "execution_count": 56
    }
   ],
   "source": [
    "?floor"
   ]
  },
  {
   "cell_type": "code",
   "execution_count": 57,
   "metadata": {},
   "outputs": [
    {
     "output_type": "stream",
     "name": "stdout",
     "text": [
      "search: \u001b[0m\u001b[1mc\u001b[22m\u001b[0m\u001b[1me\u001b[22m\u001b[0m\u001b[1mi\u001b[22m\u001b[0m\u001b[1ml\u001b[22m Pro\u001b[0m\u001b[1mc\u001b[22m\u001b[0m\u001b[1me\u001b[22mssFa\u001b[0m\u001b[1mi\u001b[22m\u001b[0m\u001b[1ml\u001b[22medException Intera\u001b[0m\u001b[1mc\u001b[22mtiv\u001b[0m\u001b[1me\u001b[22mUt\u001b[0m\u001b[1mi\u001b[22m\u001b[0m\u001b[1ml\u001b[22ms Ex\u001b[0m\u001b[1mc\u001b[22m\u001b[0m\u001b[1me\u001b[22mpt\u001b[0m\u001b[1mi\u001b[22mon \u001b[0m\u001b[1mc\u001b[22mh\u001b[0m\u001b[1me\u001b[22mck\u001b[0m\u001b[1mi\u001b[22mndex\n\n"
     ]
    },
    {
     "output_type": "execute_result",
     "data": {
      "text/plain": [
       "\u001b[36m  ceil([T,] x)\u001b[39m\n",
       "\u001b[36m  ceil(x; digits::Integer= [, base = 10])\u001b[39m\n",
       "\u001b[36m  ceil(x; sigdigits::Integer= [, base = 10])\u001b[39m\n",
       "\n",
       "  \u001b[36mceil(x)\u001b[39m returns the nearest integral value of the same type as \u001b[36mx\u001b[39m that is\n",
       "  greater than or equal to \u001b[36mx\u001b[39m.\n",
       "\n",
       "  \u001b[36mceil(T, x)\u001b[39m converts the result to type \u001b[36mT\u001b[39m, throwing an \u001b[36mInexactError\u001b[39m if the\n",
       "  value is not representable.\n",
       "\n",
       "  \u001b[36mdigits\u001b[39m, \u001b[36msigdigits\u001b[39m and \u001b[36mbase\u001b[39m work as for \u001b[36mround\u001b[39m.\n",
       "\n",
       "  ────────────────────────────────────────────────────────────────────────────\n",
       "\n",
       "\u001b[36m  ceil(dt::TimeType, p::Period) -> TimeType\u001b[39m\n",
       "\n",
       "  Return the nearest \u001b[36mDate\u001b[39m or \u001b[36mDateTime\u001b[39m greater than or equal to \u001b[36mdt\u001b[39m at\n",
       "  resolution \u001b[36mp\u001b[39m.\n",
       "\n",
       "  For convenience, \u001b[36mp\u001b[39m may be a type instead of a value: \u001b[36mceil(dt, Dates.Hour)\u001b[39m is\n",
       "  a shortcut for \u001b[36mceil(dt, Dates.Hour(1))\u001b[39m.\n",
       "\n",
       "\u001b[36m  julia> ceil(Date(1985, 8, 16), Dates.Month)\u001b[39m\n",
       "\u001b[36m  1985-09-01\u001b[39m\n",
       "\u001b[36m  \u001b[39m\n",
       "\u001b[36m  julia> ceil(DateTime(2013, 2, 13, 0, 31, 20), Dates.Minute(15))\u001b[39m\n",
       "\u001b[36m  2013-02-13T00:45:00\u001b[39m\n",
       "\u001b[36m  \u001b[39m\n",
       "\u001b[36m  julia> ceil(DateTime(2016, 8, 6, 12, 0, 0), Dates.Day)\u001b[39m\n",
       "\u001b[36m  2016-08-07T00:00:00\u001b[39m\n",
       "\n",
       "  ────────────────────────────────────────────────────────────────────────────\n",
       "\n",
       "\u001b[36m  ceil(x::Period, precision::T) where T <: Union{TimePeriod, Week, Day} -> T\u001b[39m\n",
       "\n",
       "  Round \u001b[36mx\u001b[39m up to the nearest multiple of \u001b[36mprecision\u001b[39m. If \u001b[36mx\u001b[39m and \u001b[36mprecision\u001b[39m are\n",
       "  different subtypes of \u001b[36mPeriod\u001b[39m, the return value will have the same type as\n",
       "  \u001b[36mprecision\u001b[39m.\n",
       "\n",
       "  For convenience, \u001b[36mprecision\u001b[39m may be a type instead of a value: \u001b[36mceil(x,\n",
       "  Dates.Hour)\u001b[39m is a shortcut for \u001b[36mceil(x, Dates.Hour(1))\u001b[39m.\n",
       "\n",
       "\u001b[36m  julia> ceil(Dates.Day(16), Dates.Week)\u001b[39m\n",
       "\u001b[36m  3 weeks\u001b[39m\n",
       "\u001b[36m  \u001b[39m\n",
       "\u001b[36m  julia> ceil(Dates.Minute(44), Dates.Minute(15))\u001b[39m\n",
       "\u001b[36m  45 minutes\u001b[39m\n",
       "\u001b[36m  \u001b[39m\n",
       "\u001b[36m  julia> ceil(Dates.Hour(36), Dates.Day)\u001b[39m\n",
       "\u001b[36m  2 days\u001b[39m\n",
       "\n",
       "  Rounding to a \u001b[36mprecision\u001b[39m of \u001b[36mMonth\u001b[39ms or \u001b[36mYear\u001b[39ms is not supported, as these\n",
       "  \u001b[36mPeriod\u001b[39ms are of inconsistent length."
      ],
      "text/markdown": "```\nceil([T,] x)\nceil(x; digits::Integer= [, base = 10])\nceil(x; sigdigits::Integer= [, base = 10])\n```\n\n`ceil(x)` returns the nearest integral value of the same type as `x` that is greater than or equal to `x`.\n\n`ceil(T, x)` converts the result to type `T`, throwing an `InexactError` if the value is not representable.\n\n`digits`, `sigdigits` and `base` work as for [`round`](@ref).\n\n---\n\n```\nceil(dt::TimeType, p::Period) -> TimeType\n```\n\nReturn the nearest `Date` or `DateTime` greater than or equal to `dt` at resolution `p`.\n\nFor convenience, `p` may be a type instead of a value: `ceil(dt, Dates.Hour)` is a shortcut for `ceil(dt, Dates.Hour(1))`.\n\n```jldoctest\njulia> ceil(Date(1985, 8, 16), Dates.Month)\n1985-09-01\n\njulia> ceil(DateTime(2013, 2, 13, 0, 31, 20), Dates.Minute(15))\n2013-02-13T00:45:00\n\njulia> ceil(DateTime(2016, 8, 6, 12, 0, 0), Dates.Day)\n2016-08-07T00:00:00\n```\n\n---\n\n```\nceil(x::Period, precision::T) where T <: Union{TimePeriod, Week, Day} -> T\n```\n\nRound `x` up to the nearest multiple of `precision`. If `x` and `precision` are different subtypes of `Period`, the return value will have the same type as `precision`.\n\nFor convenience, `precision` may be a type instead of a value: `ceil(x, Dates.Hour)` is a shortcut for `ceil(x, Dates.Hour(1))`.\n\n```jldoctest\njulia> ceil(Dates.Day(16), Dates.Week)\n3 weeks\n\njulia> ceil(Dates.Minute(44), Dates.Minute(15))\n45 minutes\n\njulia> ceil(Dates.Hour(36), Dates.Day)\n2 days\n```\n\nRounding to a `precision` of `Month`s or `Year`s is not supported, as these `Period`s are of inconsistent length.\n",
      "text/latex": "\\begin{verbatim}\nceil([T,] x)\nceil(x; digits::Integer= [, base = 10])\nceil(x; sigdigits::Integer= [, base = 10])\n\\end{verbatim}\n\\texttt{ceil(x)} returns the nearest integral value of the same type as \\texttt{x} that is greater than or equal to \\texttt{x}.\n\n\\texttt{ceil(T, x)} converts the result to type \\texttt{T}, throwing an \\texttt{InexactError} if the value is not representable.\n\n\\texttt{digits}, \\texttt{sigdigits} and \\texttt{base} work as for \\href{@ref}{\\texttt{round}}.\n\n\\rule{\\textwidth}{1pt}\n\\begin{verbatim}\nceil(dt::TimeType, p::Period) -> TimeType\n\\end{verbatim}\nReturn the nearest \\texttt{Date} or \\texttt{DateTime} greater than or equal to \\texttt{dt} at resolution \\texttt{p}.\n\nFor convenience, \\texttt{p} may be a type instead of a value: \\texttt{ceil(dt, Dates.Hour)} is a shortcut for \\texttt{ceil(dt, Dates.Hour(1))}.\n\n\\begin{verbatim}\njulia> ceil(Date(1985, 8, 16), Dates.Month)\n1985-09-01\n\njulia> ceil(DateTime(2013, 2, 13, 0, 31, 20), Dates.Minute(15))\n2013-02-13T00:45:00\n\njulia> ceil(DateTime(2016, 8, 6, 12, 0, 0), Dates.Day)\n2016-08-07T00:00:00\n\\end{verbatim}\n\\rule{\\textwidth}{1pt}\n\\begin{verbatim}\nceil(x::Period, precision::T) where T <: Union{TimePeriod, Week, Day} -> T\n\\end{verbatim}\nRound \\texttt{x} up to the nearest multiple of \\texttt{precision}. If \\texttt{x} and \\texttt{precision} are different subtypes of \\texttt{Period}, the return value will have the same type as \\texttt{precision}.\n\nFor convenience, \\texttt{precision} may be a type instead of a value: \\texttt{ceil(x, Dates.Hour)} is a shortcut for \\texttt{ceil(x, Dates.Hour(1))}.\n\n\\begin{verbatim}\njulia> ceil(Dates.Day(16), Dates.Week)\n3 weeks\n\njulia> ceil(Dates.Minute(44), Dates.Minute(15))\n45 minutes\n\njulia> ceil(Dates.Hour(36), Dates.Day)\n2 days\n\\end{verbatim}\nRounding to a \\texttt{precision} of \\texttt{Month}s or \\texttt{Year}s is not supported, as these \\texttt{Period}s are of inconsistent length.\n\n"
     },
     "metadata": {},
     "execution_count": 57
    }
   ],
   "source": [
    "?ceil"
   ]
  },
  {
   "cell_type": "code",
   "execution_count": 58,
   "metadata": {},
   "outputs": [
    {
     "output_type": "stream",
     "name": "stdout",
     "text": [
      "search: \u001b[0m\u001b[1mt\u001b[22m\u001b[0m\u001b[1mr\u001b[22m\u001b[0m\u001b[1mu\u001b[22m\u001b[0m\u001b[1mn\u001b[22m\u001b[0m\u001b[1mc\u001b[22m \u001b[0m\u001b[1mt\u001b[22m\u001b[0m\u001b[1mr\u001b[22m\u001b[0m\u001b[1mu\u001b[22m\u001b[0m\u001b[1mn\u001b[22m\u001b[0m\u001b[1mc\u001b[22mate unsafe_\u001b[0m\u001b[1mt\u001b[22m\u001b[0m\u001b[1mr\u001b[22m\u001b[0m\u001b[1mu\u001b[22m\u001b[0m\u001b[1mn\u001b[22m\u001b[0m\u001b[1mc\u001b[22m se\u001b[0m\u001b[1mt\u001b[22m\u001b[0m\u001b[1mr\u001b[22mo\u001b[0m\u001b[1mu\u001b[22m\u001b[0m\u001b[1mn\u001b[22mding Abs\u001b[0m\u001b[1mt\u001b[22m\u001b[0m\u001b[1mr\u001b[22mact\u001b[0m\u001b[1mU\u001b[22m\u001b[0m\u001b[1mn\u001b[22mitRange\n\n"
     ]
    },
    {
     "output_type": "execute_result",
     "data": {
      "text/plain": [
       "\u001b[36m  trunc([T,] x)\u001b[39m\n",
       "\u001b[36m  trunc(x; digits::Integer= [, base = 10])\u001b[39m\n",
       "\u001b[36m  trunc(x; sigdigits::Integer= [, base = 10])\u001b[39m\n",
       "\n",
       "  \u001b[36mtrunc(x)\u001b[39m returns the nearest integral value of the same type as \u001b[36mx\u001b[39m whose\n",
       "  absolute value is less than or equal to \u001b[36mx\u001b[39m.\n",
       "\n",
       "  \u001b[36mtrunc(T, x)\u001b[39m converts the result to type \u001b[36mT\u001b[39m, throwing an \u001b[36mInexactError\u001b[39m if the\n",
       "  value is not representable.\n",
       "\n",
       "  \u001b[36mdigits\u001b[39m, \u001b[36msigdigits\u001b[39m and \u001b[36mbase\u001b[39m work as for \u001b[36mround\u001b[39m.\n",
       "\n",
       "  ────────────────────────────────────────────────────────────────────────────\n",
       "\n",
       "\u001b[36m  trunc(dt::TimeType, ::Type{Period}) -> TimeType\u001b[39m\n",
       "\n",
       "  Truncates the value of \u001b[36mdt\u001b[39m according to the provided \u001b[36mPeriod\u001b[39m type.\n",
       "\n",
       "\u001b[1m  Examples\u001b[22m\n",
       "\u001b[1m  ≡≡≡≡≡≡≡≡≡≡\u001b[22m\n",
       "\n",
       "\u001b[36m  julia> trunc(Dates.DateTime(\"1996-01-01T12:30:00\"), Dates.Day)\u001b[39m\n",
       "\u001b[36m  1996-01-01T00:00:00\u001b[39m"
      ],
      "text/markdown": "```\ntrunc([T,] x)\ntrunc(x; digits::Integer= [, base = 10])\ntrunc(x; sigdigits::Integer= [, base = 10])\n```\n\n`trunc(x)` returns the nearest integral value of the same type as `x` whose absolute value is less than or equal to `x`.\n\n`trunc(T, x)` converts the result to type `T`, throwing an `InexactError` if the value is not representable.\n\n`digits`, `sigdigits` and `base` work as for [`round`](@ref).\n\n---\n\n```\ntrunc(dt::TimeType, ::Type{Period}) -> TimeType\n```\n\nTruncates the value of `dt` according to the provided `Period` type.\n\n# Examples\n\n```jldoctest\njulia> trunc(Dates.DateTime(\"1996-01-01T12:30:00\"), Dates.Day)\n1996-01-01T00:00:00\n```\n",
      "text/latex": "\\begin{verbatim}\ntrunc([T,] x)\ntrunc(x; digits::Integer= [, base = 10])\ntrunc(x; sigdigits::Integer= [, base = 10])\n\\end{verbatim}\n\\texttt{trunc(x)} returns the nearest integral value of the same type as \\texttt{x} whose absolute value is less than or equal to \\texttt{x}.\n\n\\texttt{trunc(T, x)} converts the result to type \\texttt{T}, throwing an \\texttt{InexactError} if the value is not representable.\n\n\\texttt{digits}, \\texttt{sigdigits} and \\texttt{base} work as for \\href{@ref}{\\texttt{round}}.\n\n\\rule{\\textwidth}{1pt}\n\\begin{verbatim}\ntrunc(dt::TimeType, ::Type{Period}) -> TimeType\n\\end{verbatim}\nTruncates the value of \\texttt{dt} according to the provided \\texttt{Period} type.\n\n\\section{Examples}\n\\begin{verbatim}\njulia> trunc(Dates.DateTime(\"1996-01-01T12:30:00\"), Dates.Day)\n1996-01-01T00:00:00\n\\end{verbatim}\n"
     },
     "metadata": {},
     "execution_count": 58
    }
   ],
   "source": [
    "?trunc"
   ]
  },
  {
   "source": [
    "### Division functions"
   ],
   "cell_type": "markdown",
   "metadata": {}
  },
  {
   "cell_type": "code",
   "execution_count": 59,
   "metadata": {},
   "outputs": [
    {
     "output_type": "stream",
     "name": "stdout",
     "text": [
      "search: \u001b[0m\u001b[1md\u001b[22m\u001b[0m\u001b[1mi\u001b[22m\u001b[0m\u001b[1mv\u001b[22m \u001b[0m\u001b[1md\u001b[22m\u001b[0m\u001b[1mi\u001b[22m\u001b[0m\u001b[1mv\u001b[22mrem \u001b[0m\u001b[1mD\u001b[22m\u001b[0m\u001b[1mi\u001b[22m\u001b[0m\u001b[1mv\u001b[22mideError split\u001b[0m\u001b[1md\u001b[22mr\u001b[0m\u001b[1mi\u001b[22m\u001b[0m\u001b[1mv\u001b[22me co\u001b[0m\u001b[1md\u001b[22me_nat\u001b[0m\u001b[1mi\u001b[22m\u001b[0m\u001b[1mv\u001b[22me @co\u001b[0m\u001b[1md\u001b[22me_nat\u001b[0m\u001b[1mi\u001b[22m\u001b[0m\u001b[1mv\u001b[22me\n\n"
     ]
    },
    {
     "output_type": "execute_result",
     "data": {
      "text/plain": [
       "\u001b[36m  div(x, y)\u001b[39m\n",
       "\u001b[36m  ÷(x, y)\u001b[39m\n",
       "\n",
       "  The quotient from Euclidean division. Computes \u001b[36mx/y\u001b[39m, truncated to an integer.\n",
       "\n",
       "\u001b[1m  Examples\u001b[22m\n",
       "\u001b[1m  ≡≡≡≡≡≡≡≡≡≡\u001b[22m\n",
       "\n",
       "\u001b[36m  julia> 9 ÷ 4\u001b[39m\n",
       "\u001b[36m  2\u001b[39m\n",
       "\u001b[36m  \u001b[39m\n",
       "\u001b[36m  julia> -5 ÷ 3\u001b[39m\n",
       "\u001b[36m  -1\u001b[39m\n",
       "\u001b[36m  \u001b[39m\n",
       "\u001b[36m  julia> 5.0 ÷ 2\u001b[39m\n",
       "\u001b[36m  2.0\u001b[39m\n",
       "\n",
       "  ────────────────────────────────────────────────────────────────────────────\n",
       "\n",
       "\u001b[36m  div(x, y, r::RoundingMode=RoundToZero)\u001b[39m\n",
       "\n",
       "  The quotient from Euclidean division. Computes x/y, rounded to an integer\n",
       "  according to the rounding mode \u001b[36mr\u001b[39m. In other words, the quantity\n",
       "\n",
       "\u001b[36m  round(x/y,r)\u001b[39m\n",
       "\n",
       "  without any intermediate rounding.\n",
       "\n",
       "  See also: \u001b[36mfld\u001b[39m, \u001b[36mcld\u001b[39m which are special cases of this function\n",
       "\n",
       "\u001b[1m  Examples:\u001b[22m\n",
       "\u001b[1m  ≡≡≡≡≡≡≡≡≡≡≡\u001b[22m\n",
       "\n",
       "\u001b[36m  julia> div(4, 3, RoundDown) # Matches fld(4, 3)\u001b[39m\n",
       "\u001b[36m  1\u001b[39m\n",
       "\u001b[36m  julia> div(4, 3, RoundUp) # Matches cld(4, 3)\u001b[39m\n",
       "\u001b[36m  2\u001b[39m\n",
       "\u001b[36m  julia> div(5, 2, RoundNearest)\u001b[39m\n",
       "\u001b[36m  2\u001b[39m\n",
       "\u001b[36m  julia> div(5, 2, RoundNearestTiesAway)\u001b[39m\n",
       "\u001b[36m  3\u001b[39m\n",
       "\u001b[36m  julia> div(-5, 2, RoundNearest)\u001b[39m\n",
       "\u001b[36m  -2\u001b[39m\n",
       "\u001b[36m  julia> div(-5, 2, RoundNearestTiesAway)\u001b[39m\n",
       "\u001b[36m  -3\u001b[39m\n",
       "\u001b[36m  julia> div(-5, 2, RoundNearestTiesUp)\u001b[39m\n",
       "\u001b[36m  -2\u001b[39m"
      ],
      "text/markdown": "```\ndiv(x, y)\n÷(x, y)\n```\n\nThe quotient from Euclidean division. Computes `x/y`, truncated to an integer.\n\n# Examples\n\n```jldoctest\njulia> 9 ÷ 4\n2\n\njulia> -5 ÷ 3\n-1\n\njulia> 5.0 ÷ 2\n2.0\n```\n\n---\n\n```\ndiv(x, y, r::RoundingMode=RoundToZero)\n```\n\nThe quotient from Euclidean division. Computes x/y, rounded to an integer according to the rounding mode `r`. In other words, the quantity\n\n```\nround(x/y,r)\n```\n\nwithout any intermediate rounding.\n\nSee also: [`fld`](@ref), [`cld`](@ref) which are special cases of this function\n\n# Examples:\n\n```jldoctest\njulia> div(4, 3, RoundDown) # Matches fld(4, 3)\n1\njulia> div(4, 3, RoundUp) # Matches cld(4, 3)\n2\njulia> div(5, 2, RoundNearest)\n2\njulia> div(5, 2, RoundNearestTiesAway)\n3\njulia> div(-5, 2, RoundNearest)\n-2\njulia> div(-5, 2, RoundNearestTiesAway)\n-3\njulia> div(-5, 2, RoundNearestTiesUp)\n-2\n```\n",
      "text/latex": "\\begin{verbatim}\ndiv(x, y)\n÷(x, y)\n\\end{verbatim}\nThe quotient from Euclidean division. Computes \\texttt{x/y}, truncated to an integer.\n\n\\section{Examples}\n\\begin{verbatim}\njulia> 9 ÷ 4\n2\n\njulia> -5 ÷ 3\n-1\n\njulia> 5.0 ÷ 2\n2.0\n\\end{verbatim}\n\\rule{\\textwidth}{1pt}\n\\begin{verbatim}\ndiv(x, y, r::RoundingMode=RoundToZero)\n\\end{verbatim}\nThe quotient from Euclidean division. Computes x/y, rounded to an integer according to the rounding mode \\texttt{r}. In other words, the quantity\n\n\\begin{verbatim}\nround(x/y,r)\n\\end{verbatim}\nwithout any intermediate rounding.\n\nSee also: \\href{@ref}{\\texttt{fld}}, \\href{@ref}{\\texttt{cld}} which are special cases of this function\n\n\\section{Examples:}\n\\begin{verbatim}\njulia> div(4, 3, RoundDown) # Matches fld(4, 3)\n1\njulia> div(4, 3, RoundUp) # Matches cld(4, 3)\n2\njulia> div(5, 2, RoundNearest)\n2\njulia> div(5, 2, RoundNearestTiesAway)\n3\njulia> div(-5, 2, RoundNearest)\n-2\njulia> div(-5, 2, RoundNearestTiesAway)\n-3\njulia> div(-5, 2, RoundNearestTiesUp)\n-2\n\\end{verbatim}\n"
     },
     "metadata": {},
     "execution_count": 59
    }
   ],
   "source": [
    "?div"
   ]
  },
  {
   "cell_type": "code",
   "execution_count": 60,
   "metadata": {},
   "outputs": [
    {
     "output_type": "stream",
     "name": "stdout",
     "text": [
      "search: \u001b[0m\u001b[1mf\u001b[22m\u001b[0m\u001b[1ml\u001b[22m\u001b[0m\u001b[1md\u001b[22m \u001b[0m\u001b[1mf\u001b[22m\u001b[0m\u001b[1ml\u001b[22m\u001b[0m\u001b[1md\u001b[22m1 \u001b[0m\u001b[1mf\u001b[22m\u001b[0m\u001b[1ml\u001b[22m\u001b[0m\u001b[1md\u001b[22mmod \u001b[0m\u001b[1mf\u001b[22m\u001b[0m\u001b[1ml\u001b[22m\u001b[0m\u001b[1md\u001b[22mmod1 \u001b[0m\u001b[1mf\u001b[22mo\u001b[0m\u001b[1ml\u001b[22m\u001b[0m\u001b[1md\u001b[22mr \u001b[0m\u001b[1mf\u001b[22mo\u001b[0m\u001b[1ml\u001b[22m\u001b[0m\u001b[1md\u001b[22ml map\u001b[0m\u001b[1mf\u001b[22mo\u001b[0m\u001b[1ml\u001b[22m\u001b[0m\u001b[1md\u001b[22mr map\u001b[0m\u001b[1mf\u001b[22mo\u001b[0m\u001b[1ml\u001b[22m\u001b[0m\u001b[1md\u001b[22ml \u001b[0m\u001b[1mf\u001b[22mie\u001b[0m\u001b[1ml\u001b[22m\u001b[0m\u001b[1md\u001b[22mtype\n\n"
     ]
    },
    {
     "output_type": "execute_result",
     "data": {
      "text/plain": [
       "\u001b[36m  fld(x, y)\u001b[39m\n",
       "\n",
       "  Largest integer less than or equal to \u001b[36mx/y\u001b[39m. Equivalent to \u001b[36mdiv(x, y,\n",
       "  RoundDown)\u001b[39m.\n",
       "\n",
       "  See also: \u001b[36mdiv\u001b[39m\n",
       "\n",
       "\u001b[1m  Examples\u001b[22m\n",
       "\u001b[1m  ≡≡≡≡≡≡≡≡≡≡\u001b[22m\n",
       "\n",
       "\u001b[36m  julia> fld(7.3,5.5)\u001b[39m\n",
       "\u001b[36m  1.0\u001b[39m"
      ],
      "text/markdown": "```\nfld(x, y)\n```\n\nLargest integer less than or equal to `x/y`. Equivalent to `div(x, y, RoundDown)`.\n\nSee also: [`div`](@ref)\n\n# Examples\n\n```jldoctest\njulia> fld(7.3,5.5)\n1.0\n```\n",
      "text/latex": "\\begin{verbatim}\nfld(x, y)\n\\end{verbatim}\nLargest integer less than or equal to \\texttt{x/y}. Equivalent to \\texttt{div(x, y, RoundDown)}.\n\nSee also: \\href{@ref}{\\texttt{div}}\n\n\\section{Examples}\n\\begin{verbatim}\njulia> fld(7.3,5.5)\n1.0\n\\end{verbatim}\n"
     },
     "metadata": {},
     "execution_count": 60
    }
   ],
   "source": [
    "?fld"
   ]
  },
  {
   "cell_type": "code",
   "execution_count": 61,
   "metadata": {},
   "outputs": [
    {
     "output_type": "stream",
     "name": "stdout",
     "text": [
      "search: \u001b[0m\u001b[1mc\u001b[22m\u001b[0m\u001b[1ml\u001b[22m\u001b[0m\u001b[1md\u001b[22m in\u001b[0m\u001b[1mc\u001b[22m\u001b[0m\u001b[1ml\u001b[22mu\u001b[0m\u001b[1md\u001b[22me in\u001b[0m\u001b[1mc\u001b[22m\u001b[0m\u001b[1ml\u001b[22mu\u001b[0m\u001b[1md\u001b[22me_string in\u001b[0m\u001b[1mc\u001b[22m\u001b[0m\u001b[1ml\u001b[22mu\u001b[0m\u001b[1md\u001b[22me_dependency \u001b[0m\u001b[1mc\u001b[22m\u001b[0m\u001b[1ml\u001b[22mipboar\u001b[0m\u001b[1md\u001b[22m\n\n"
     ]
    },
    {
     "output_type": "execute_result",
     "data": {
      "text/plain": [
       "\u001b[36m  cld(x, y)\u001b[39m\n",
       "\n",
       "  Smallest integer larger than or equal to \u001b[36mx/y\u001b[39m. Equivalent to \u001b[36mdiv(x, y,\n",
       "  RoundUp)\u001b[39m.\n",
       "\n",
       "  See also: \u001b[36mdiv\u001b[39m\n",
       "\n",
       "\u001b[1m  Examples\u001b[22m\n",
       "\u001b[1m  ≡≡≡≡≡≡≡≡≡≡\u001b[22m\n",
       "\n",
       "\u001b[36m  julia> cld(5.5,2.2)\u001b[39m\n",
       "\u001b[36m  3.0\u001b[39m"
      ],
      "text/markdown": "```\ncld(x, y)\n```\n\nSmallest integer larger than or equal to `x/y`. Equivalent to `div(x, y, RoundUp)`.\n\nSee also: [`div`](@ref)\n\n# Examples\n\n```jldoctest\njulia> cld(5.5,2.2)\n3.0\n```\n",
      "text/latex": "\\begin{verbatim}\ncld(x, y)\n\\end{verbatim}\nSmallest integer larger than or equal to \\texttt{x/y}. Equivalent to \\texttt{div(x, y, RoundUp)}.\n\nSee also: \\href{@ref}{\\texttt{div}}\n\n\\section{Examples}\n\\begin{verbatim}\njulia> cld(5.5,2.2)\n3.0\n\\end{verbatim}\n"
     },
     "metadata": {},
     "execution_count": 61
    }
   ],
   "source": [
    "?cld"
   ]
  },
  {
   "cell_type": "code",
   "execution_count": 62,
   "metadata": {},
   "outputs": [
    {
     "output_type": "stream",
     "name": "stdout",
     "text": [
      "search: \u001b[0m\u001b[1mr\u001b[22m\u001b[0m\u001b[1me\u001b[22m\u001b[0m\u001b[1mm\u001b[22m \u001b[0m\u001b[1mr\u001b[22m\u001b[0m\u001b[1me\u001b[22m\u001b[0m\u001b[1mm\u001b[22m2pi ba\u001b[0m\u001b[1mr\u001b[22m\u001b[0m\u001b[1me\u001b[22m\u001b[0m\u001b[1mm\u001b[22module div\u001b[0m\u001b[1mr\u001b[22m\u001b[0m\u001b[1me\u001b[22m\u001b[0m\u001b[1mm\u001b[22m ext\u001b[0m\u001b[1mr\u001b[22m\u001b[0m\u001b[1me\u001b[22m\u001b[0m\u001b[1mm\u001b[22ma \u001b[0m\u001b[1mr\u001b[22m\u001b[0m\u001b[1me\u001b[22mi\u001b[0m\u001b[1mm\u001b[22m IOSt\u001b[0m\u001b[1mr\u001b[22m\u001b[0m\u001b[1me\u001b[22ma\u001b[0m\u001b[1mm\u001b[22m p\u001b[0m\u001b[1mr\u001b[22m\u001b[0m\u001b[1me\u001b[22mco\u001b[0m\u001b[1mm\u001b[22mpile\n\n"
     ]
    },
    {
     "output_type": "execute_result",
     "data": {
      "text/plain": [
       "\u001b[36m  rem(x::Integer, T::Type{<:Integer}) -> T\u001b[39m\n",
       "\u001b[36m  mod(x::Integer, T::Type{<:Integer}) -> T\u001b[39m\n",
       "\u001b[36m  %(x::Integer, T::Type{<:Integer}) -> T\u001b[39m\n",
       "\n",
       "  Find \u001b[36my::T\u001b[39m such that \u001b[36mx\u001b[39m ≡ \u001b[36my\u001b[39m (mod n), where n is the number of integers\n",
       "  representable in \u001b[36mT\u001b[39m, and \u001b[36my\u001b[39m is an integer in \u001b[36m[typemin(T),typemax(T)]\u001b[39m. If \u001b[36mT\u001b[39m can\n",
       "  represent any integer (e.g. \u001b[36mT == BigInt\u001b[39m), then this operation corresponds to\n",
       "  a conversion to \u001b[36mT\u001b[39m.\n",
       "\n",
       "\u001b[1m  Examples\u001b[22m\n",
       "\u001b[1m  ≡≡≡≡≡≡≡≡≡≡\u001b[22m\n",
       "\n",
       "\u001b[36m  julia> 129 % Int8\u001b[39m\n",
       "\u001b[36m  -127\u001b[39m\n",
       "\n",
       "  ────────────────────────────────────────────────────────────────────────────\n",
       "\n",
       "\u001b[36m  rem(x, y)\u001b[39m\n",
       "\u001b[36m  %(x, y)\u001b[39m\n",
       "\n",
       "  Remainder from Euclidean division, returning a value of the same sign as \u001b[36mx\u001b[39m,\n",
       "  and smaller in magnitude than \u001b[36my\u001b[39m. This value is always exact.\n",
       "\n",
       "\u001b[1m  Examples\u001b[22m\n",
       "\u001b[1m  ≡≡≡≡≡≡≡≡≡≡\u001b[22m\n",
       "\n",
       "\u001b[36m  julia> x = 15; y = 4;\u001b[39m\n",
       "\u001b[36m  \u001b[39m\n",
       "\u001b[36m  julia> x % y\u001b[39m\n",
       "\u001b[36m  3\u001b[39m\n",
       "\u001b[36m  \u001b[39m\n",
       "\u001b[36m  julia> x == div(x, y) * y + rem(x, y)\u001b[39m\n",
       "\u001b[36m  true\u001b[39m\n",
       "\n",
       "  ────────────────────────────────────────────────────────────────────────────\n",
       "\n",
       "\u001b[36m  rem(x, y, r::RoundingMode=RoundToZero)\u001b[39m\n",
       "\n",
       "  Compute the remainder of \u001b[36mx\u001b[39m after integer division by \u001b[36my\u001b[39m, with the quotient\n",
       "  rounded according to the rounding mode \u001b[36mr\u001b[39m. In other words, the quantity\n",
       "\n",
       "\u001b[36m  x - y*round(x/y,r)\u001b[39m\n",
       "\n",
       "  without any intermediate rounding.\n",
       "\n",
       "    •    if \u001b[36mr == RoundNearest\u001b[39m, then the result is exact, and in the\n",
       "        interval \u001b[35m[-|y|/2, |y|/2]\u001b[39m. See also \u001b[36mRoundNearest\u001b[39m.\n",
       "\n",
       "    •    if \u001b[36mr == RoundToZero\u001b[39m (default), then the result is exact, and in\n",
       "        the interval \u001b[35m[0, |y|)\u001b[39m if \u001b[36mx\u001b[39m is positive, or \u001b[35m(-|y|, 0]\u001b[39m otherwise.\n",
       "        See also \u001b[36mRoundToZero\u001b[39m.\n",
       "\n",
       "    •    if \u001b[36mr == RoundDown\u001b[39m, then the result is in the interval \u001b[35m[0, y)\u001b[39m if \u001b[36my\u001b[39m\n",
       "        is positive, or \u001b[35m(y, 0]\u001b[39m otherwise. The result may not be exact if \u001b[36mx\u001b[39m\n",
       "        and \u001b[36my\u001b[39m have different signs, and \u001b[36mabs(x) < abs(y)\u001b[39m. See also\n",
       "        \u001b[36mRoundDown\u001b[39m.\n",
       "\n",
       "    •    if \u001b[36mr == RoundUp\u001b[39m, then the result is in the interval \u001b[36m(-y,0]\u001b[39m if \u001b[36my\u001b[39m is\n",
       "        positive, or \u001b[36m[0,-y)\u001b[39m otherwise. The result may not be exact if \u001b[36mx\u001b[39m\n",
       "        and \u001b[36my\u001b[39m have the same sign, and \u001b[36mabs(x) < abs(y)\u001b[39m. See also \u001b[36mRoundUp\u001b[39m."
      ],
      "text/markdown": "```\nrem(x::Integer, T::Type{<:Integer}) -> T\nmod(x::Integer, T::Type{<:Integer}) -> T\n%(x::Integer, T::Type{<:Integer}) -> T\n```\n\nFind `y::T` such that `x` ≡ `y` (mod n), where n is the number of integers representable in `T`, and `y` is an integer in `[typemin(T),typemax(T)]`. If `T` can represent any integer (e.g. `T == BigInt`), then this operation corresponds to a conversion to `T`.\n\n# Examples\n\n```jldoctest\njulia> 129 % Int8\n-127\n```\n\n---\n\n```\nrem(x, y)\n%(x, y)\n```\n\nRemainder from Euclidean division, returning a value of the same sign as `x`, and smaller in magnitude than `y`. This value is always exact.\n\n# Examples\n\n```jldoctest\njulia> x = 15; y = 4;\n\njulia> x % y\n3\n\njulia> x == div(x, y) * y + rem(x, y)\ntrue\n```\n\n---\n\n```\nrem(x, y, r::RoundingMode=RoundToZero)\n```\n\nCompute the remainder of `x` after integer division by `y`, with the quotient rounded according to the rounding mode `r`. In other words, the quantity\n\n```\nx - y*round(x/y,r)\n```\n\nwithout any intermediate rounding.\n\n  * if `r == RoundNearest`, then the result is exact, and in the interval $[-|y|/2, |y|/2]$. See also [`RoundNearest`](@ref).\n  * if `r == RoundToZero` (default), then the result is exact, and in the interval $[0, |y|)$ if `x` is positive, or $(-|y|, 0]$ otherwise. See also [`RoundToZero`](@ref).\n  * if `r == RoundDown`, then the result is in the interval $[0, y)$ if `y` is positive, or $(y, 0]$ otherwise. The result may not be exact if `x` and `y` have different signs, and `abs(x) < abs(y)`. See also [`RoundDown`](@ref).\n  * if `r == RoundUp`, then the result is in the interval `(-y,0]` if `y` is positive, or `[0,-y)` otherwise. The result may not be exact if `x` and `y` have the same sign, and `abs(x) < abs(y)`. See also [`RoundUp`](@ref).\n",
      "text/latex": "\\begin{verbatim}\nrem(x::Integer, T::Type{<:Integer}) -> T\nmod(x::Integer, T::Type{<:Integer}) -> T\n%(x::Integer, T::Type{<:Integer}) -> T\n\\end{verbatim}\nFind \\texttt{y::T} such that \\texttt{x} ≡ \\texttt{y} (mod n), where n is the number of integers representable in \\texttt{T}, and \\texttt{y} is an integer in \\texttt{[typemin(T),typemax(T)]}. If \\texttt{T} can represent any integer (e.g. \\texttt{T == BigInt}), then this operation corresponds to a conversion to \\texttt{T}.\n\n\\section{Examples}\n\\begin{verbatim}\njulia> 129 % Int8\n-127\n\\end{verbatim}\n\\rule{\\textwidth}{1pt}\n\\begin{verbatim}\nrem(x, y)\n%(x, y)\n\\end{verbatim}\nRemainder from Euclidean division, returning a value of the same sign as \\texttt{x}, and smaller in magnitude than \\texttt{y}. This value is always exact.\n\n\\section{Examples}\n\\begin{verbatim}\njulia> x = 15; y = 4;\n\njulia> x % y\n3\n\njulia> x == div(x, y) * y + rem(x, y)\ntrue\n\\end{verbatim}\n\\rule{\\textwidth}{1pt}\n\\begin{verbatim}\nrem(x, y, r::RoundingMode=RoundToZero)\n\\end{verbatim}\nCompute the remainder of \\texttt{x} after integer division by \\texttt{y}, with the quotient rounded according to the rounding mode \\texttt{r}. In other words, the quantity\n\n\\begin{verbatim}\nx - y*round(x/y,r)\n\\end{verbatim}\nwithout any intermediate rounding.\n\n\\begin{itemize}\n\\item if \\texttt{r == RoundNearest}, then the result is exact, and in the interval $[-|y|/2, |y|/2]$. See also \\href{@ref}{\\texttt{RoundNearest}}.\n\n\n\\item if \\texttt{r == RoundToZero} (default), then the result is exact, and in the interval $[0, |y|)$ if \\texttt{x} is positive, or $(-|y|, 0]$ otherwise. See also \\href{@ref}{\\texttt{RoundToZero}}.\n\n\n\\item if \\texttt{r == RoundDown}, then the result is in the interval $[0, y)$ if \\texttt{y} is positive, or $(y, 0]$ otherwise. The result may not be exact if \\texttt{x} and \\texttt{y} have different signs, and \\texttt{abs(x) < abs(y)}. See also \\href{@ref}{\\texttt{RoundDown}}.\n\n\n\\item if \\texttt{r == RoundUp}, then the result is in the interval \\texttt{(-y,0]} if \\texttt{y} is positive, or \\texttt{[0,-y)} otherwise. The result may not be exact if \\texttt{x} and \\texttt{y} have the same sign, and \\texttt{abs(x) < abs(y)}. See also \\href{@ref}{\\texttt{RoundUp}}.\n\n\\end{itemize}\n"
     },
     "metadata": {},
     "execution_count": 62
    }
   ],
   "source": [
    "?rem"
   ]
  },
  {
   "cell_type": "code",
   "execution_count": 63,
   "metadata": {},
   "outputs": [
    {
     "output_type": "stream",
     "name": "stdout",
     "text": [
      "search: \u001b[0m\u001b[1mm\u001b[22m\u001b[0m\u001b[1mo\u001b[22m\u001b[0m\u001b[1md\u001b[22m \u001b[0m\u001b[1mm\u001b[22m\u001b[0m\u001b[1mo\u001b[22m\u001b[0m\u001b[1md\u001b[22mf \u001b[0m\u001b[1mm\u001b[22m\u001b[0m\u001b[1mo\u001b[22m\u001b[0m\u001b[1md\u001b[22m1 \u001b[0m\u001b[1mm\u001b[22m\u001b[0m\u001b[1mo\u001b[22m\u001b[0m\u001b[1md\u001b[22mule \u001b[0m\u001b[1mm\u001b[22m\u001b[0m\u001b[1mo\u001b[22m\u001b[0m\u001b[1md\u001b[22m2pi \u001b[0m\u001b[1mM\u001b[22m\u001b[0m\u001b[1mo\u001b[22m\u001b[0m\u001b[1md\u001b[22mule ch\u001b[0m\u001b[1mm\u001b[22m\u001b[0m\u001b[1mo\u001b[22m\u001b[0m\u001b[1md\u001b[22m inv\u001b[0m\u001b[1mm\u001b[22m\u001b[0m\u001b[1mo\u001b[22m\u001b[0m\u001b[1md\u001b[22m fld\u001b[0m\u001b[1mm\u001b[22m\u001b[0m\u001b[1mo\u001b[22m\u001b[0m\u001b[1md\u001b[22m fld\u001b[0m\u001b[1mm\u001b[22m\u001b[0m\u001b[1mo\u001b[22m\u001b[0m\u001b[1md\u001b[22m1\n\n"
     ]
    },
    {
     "output_type": "execute_result",
     "data": {
      "text/plain": [
       "\u001b[36m  mod(x::Integer, r::AbstractUnitRange)\u001b[39m\n",
       "\n",
       "  Find \u001b[36my\u001b[39m in the range \u001b[36mr\u001b[39m such that \u001b[35mx ≡ y (mod n)\u001b[39m, where \u001b[36mn = length(r)\u001b[39m, i.e. \u001b[36my =\n",
       "  mod(x - first(r), n) + first(r)\u001b[39m.\n",
       "\n",
       "  See also: \u001b[36mmod1\u001b[39m.\n",
       "\n",
       "\u001b[1m  Examples\u001b[22m\n",
       "\u001b[1m  ≡≡≡≡≡≡≡≡≡≡\u001b[22m\n",
       "\n",
       "\u001b[36m  julia> mod(0, Base.OneTo(3))\u001b[39m\n",
       "\u001b[36m  3\u001b[39m\n",
       "\u001b[36m  \u001b[39m\n",
       "\u001b[36m  julia> mod(3, 0:2)\u001b[39m\n",
       "\u001b[36m  0\u001b[39m\n",
       "\n",
       "\u001b[39m\u001b[1m  │ \u001b[22m\u001b[39m\u001b[1mJulia 1.3\u001b[22m\n",
       "\u001b[39m\u001b[1m  │\u001b[22m\n",
       "\u001b[39m\u001b[1m  │\u001b[22m  This method requires at least Julia 1.3.\n",
       "\n",
       "  ────────────────────────────────────────────────────────────────────────────\n",
       "\n",
       "\u001b[36m  mod(x, y)\u001b[39m\n",
       "\u001b[36m  rem(x, y, RoundDown)\u001b[39m\n",
       "\n",
       "  The reduction of \u001b[36mx\u001b[39m modulo \u001b[36my\u001b[39m, or equivalently, the remainder of \u001b[36mx\u001b[39m after\n",
       "  floored division by \u001b[36my\u001b[39m, i.e. \u001b[36mx - y*fld(x,y)\u001b[39m if computed without intermediate\n",
       "  rounding.\n",
       "\n",
       "  The result will have the same sign as \u001b[36my\u001b[39m, and magnitude less than \u001b[36mabs(y)\u001b[39m\n",
       "  (with some exceptions, see note below).\n",
       "\n",
       "\u001b[36m\u001b[1m  │ \u001b[22m\u001b[39m\u001b[36m\u001b[1mNote\u001b[22m\u001b[39m\n",
       "\u001b[36m\u001b[1m  │\u001b[22m\u001b[39m\n",
       "\u001b[36m\u001b[1m  │\u001b[22m\u001b[39m  When used with floating point values, the exact result may not be\n",
       "\u001b[36m\u001b[1m  │\u001b[22m\u001b[39m  representable by the type, and so rounding error may occur. In\n",
       "\u001b[36m\u001b[1m  │\u001b[22m\u001b[39m  particular, if the exact result is very close to \u001b[36my\u001b[39m, then it may be\n",
       "\u001b[36m\u001b[1m  │\u001b[22m\u001b[39m  rounded to \u001b[36my\u001b[39m.\n",
       "\n",
       "\u001b[36m  julia> mod(8, 3)\u001b[39m\n",
       "\u001b[36m  2\u001b[39m\n",
       "\u001b[36m  \u001b[39m\n",
       "\u001b[36m  julia> mod(9, 3)\u001b[39m\n",
       "\u001b[36m  0\u001b[39m\n",
       "\u001b[36m  \u001b[39m\n",
       "\u001b[36m  julia> mod(8.9, 3)\u001b[39m\n",
       "\u001b[36m  2.9000000000000004\u001b[39m\n",
       "\u001b[36m  \u001b[39m\n",
       "\u001b[36m  julia> mod(eps(), 3)\u001b[39m\n",
       "\u001b[36m  2.220446049250313e-16\u001b[39m\n",
       "\u001b[36m  \u001b[39m\n",
       "\u001b[36m  julia> mod(-eps(), 3)\u001b[39m\n",
       "\u001b[36m  3.0\u001b[39m\n",
       "\n",
       "  ────────────────────────────────────────────────────────────────────────────\n",
       "\n",
       "\u001b[36m  rem(x::Integer, T::Type{<:Integer}) -> T\u001b[39m\n",
       "\u001b[36m  mod(x::Integer, T::Type{<:Integer}) -> T\u001b[39m\n",
       "\u001b[36m  %(x::Integer, T::Type{<:Integer}) -> T\u001b[39m\n",
       "\n",
       "  Find \u001b[36my::T\u001b[39m such that \u001b[36mx\u001b[39m ≡ \u001b[36my\u001b[39m (mod n), where n is the number of integers\n",
       "  representable in \u001b[36mT\u001b[39m, and \u001b[36my\u001b[39m is an integer in \u001b[36m[typemin(T),typemax(T)]\u001b[39m. If \u001b[36mT\u001b[39m can\n",
       "  represent any integer (e.g. \u001b[36mT == BigInt\u001b[39m), then this operation corresponds to\n",
       "  a conversion to \u001b[36mT\u001b[39m.\n",
       "\n",
       "\u001b[1m  Examples\u001b[22m\n",
       "\u001b[1m  ≡≡≡≡≡≡≡≡≡≡\u001b[22m\n",
       "\n",
       "\u001b[36m  julia> 129 % Int8\u001b[39m\n",
       "\u001b[36m  -127\u001b[39m"
      ],
      "text/markdown": "```\nmod(x::Integer, r::AbstractUnitRange)\n```\n\nFind `y` in the range `r` such that $x ≡ y (mod n)$, where `n = length(r)`, i.e. `y = mod(x - first(r), n) + first(r)`.\n\nSee also: [`mod1`](@ref).\n\n# Examples\n\n```jldoctest\njulia> mod(0, Base.OneTo(3))\n3\n\njulia> mod(3, 0:2)\n0\n```\n\n!!! compat \"Julia 1.3\"\n    This method requires at least Julia 1.3.\n\n\n---\n\n```\nmod(x, y)\nrem(x, y, RoundDown)\n```\n\nThe reduction of `x` modulo `y`, or equivalently, the remainder of `x` after floored division by `y`, i.e. `x - y*fld(x,y)` if computed without intermediate rounding.\n\nThe result will have the same sign as `y`, and magnitude less than `abs(y)` (with some exceptions, see note below).\n\n!!! note\n    When used with floating point values, the exact result may not be representable by the type, and so rounding error may occur. In particular, if the exact result is very close to `y`, then it may be rounded to `y`.\n\n\n```jldoctest\njulia> mod(8, 3)\n2\n\njulia> mod(9, 3)\n0\n\njulia> mod(8.9, 3)\n2.9000000000000004\n\njulia> mod(eps(), 3)\n2.220446049250313e-16\n\njulia> mod(-eps(), 3)\n3.0\n```\n\n---\n\n```\nrem(x::Integer, T::Type{<:Integer}) -> T\nmod(x::Integer, T::Type{<:Integer}) -> T\n%(x::Integer, T::Type{<:Integer}) -> T\n```\n\nFind `y::T` such that `x` ≡ `y` (mod n), where n is the number of integers representable in `T`, and `y` is an integer in `[typemin(T),typemax(T)]`. If `T` can represent any integer (e.g. `T == BigInt`), then this operation corresponds to a conversion to `T`.\n\n# Examples\n\n```jldoctest\njulia> 129 % Int8\n-127\n```\n",
      "text/latex": "\\begin{verbatim}\nmod(x::Integer, r::AbstractUnitRange)\n\\end{verbatim}\nFind \\texttt{y} in the range \\texttt{r} such that $x ≡ y (mod n)$, where \\texttt{n = length(r)}, i.e. \\texttt{y = mod(x - first(r), n) + first(r)}.\n\nSee also: \\href{@ref}{\\texttt{mod1}}.\n\n\\section{Examples}\n\\begin{verbatim}\njulia> mod(0, Base.OneTo(3))\n3\n\njulia> mod(3, 0:2)\n0\n\\end{verbatim}\n\\begin{quote}\n\\textbf{compat}\n\nJulia 1.3\n\nThis method requires at least Julia 1.3.\n\n\\end{quote}\n\\rule{\\textwidth}{1pt}\n\\begin{verbatim}\nmod(x, y)\nrem(x, y, RoundDown)\n\\end{verbatim}\nThe reduction of \\texttt{x} modulo \\texttt{y}, or equivalently, the remainder of \\texttt{x} after floored division by \\texttt{y}, i.e. \\texttt{x - y*fld(x,y)} if computed without intermediate rounding.\n\nThe result will have the same sign as \\texttt{y}, and magnitude less than \\texttt{abs(y)} (with some exceptions, see note below).\n\n\\begin{quote}\n\\textbf{note}\n\nNote\n\nWhen used with floating point values, the exact result may not be representable by the type, and so rounding error may occur. In particular, if the exact result is very close to \\texttt{y}, then it may be rounded to \\texttt{y}.\n\n\\end{quote}\n\\begin{verbatim}\njulia> mod(8, 3)\n2\n\njulia> mod(9, 3)\n0\n\njulia> mod(8.9, 3)\n2.9000000000000004\n\njulia> mod(eps(), 3)\n2.220446049250313e-16\n\njulia> mod(-eps(), 3)\n3.0\n\\end{verbatim}\n\\rule{\\textwidth}{1pt}\n\\begin{verbatim}\nrem(x::Integer, T::Type{<:Integer}) -> T\nmod(x::Integer, T::Type{<:Integer}) -> T\n%(x::Integer, T::Type{<:Integer}) -> T\n\\end{verbatim}\nFind \\texttt{y::T} such that \\texttt{x} ≡ \\texttt{y} (mod n), where n is the number of integers representable in \\texttt{T}, and \\texttt{y} is an integer in \\texttt{[typemin(T),typemax(T)]}. If \\texttt{T} can represent any integer (e.g. \\texttt{T == BigInt}), then this operation corresponds to a conversion to \\texttt{T}.\n\n\\section{Examples}\n\\begin{verbatim}\njulia> 129 % Int8\n-127\n\\end{verbatim}\n"
     },
     "metadata": {},
     "execution_count": 63
    }
   ],
   "source": [
    "?mod"
   ]
  },
  {
   "cell_type": "code",
   "execution_count": 64,
   "metadata": {},
   "outputs": [
    {
     "output_type": "stream",
     "name": "stdout",
     "text": [
      "search: \u001b[0m\u001b[1mm\u001b[22m\u001b[0m\u001b[1mo\u001b[22m\u001b[0m\u001b[1md\u001b[22m\u001b[0m\u001b[1m1\u001b[22m fld\u001b[0m\u001b[1mm\u001b[22m\u001b[0m\u001b[1mo\u001b[22m\u001b[0m\u001b[1md\u001b[22m\u001b[0m\u001b[1m1\u001b[22m @\u001b[0m\u001b[1mm\u001b[22macr\u001b[0m\u001b[1mo\u001b[22mexpan\u001b[0m\u001b[1md\u001b[22m\u001b[0m\u001b[1m1\u001b[22m \u001b[0m\u001b[1mm\u001b[22m\u001b[0m\u001b[1mo\u001b[22m\u001b[0m\u001b[1md\u001b[22mf \u001b[0m\u001b[1mm\u001b[22m\u001b[0m\u001b[1mo\u001b[22m\u001b[0m\u001b[1md\u001b[22m \u001b[0m\u001b[1mm\u001b[22m\u001b[0m\u001b[1mo\u001b[22m\u001b[0m\u001b[1md\u001b[22mule \u001b[0m\u001b[1mm\u001b[22m\u001b[0m\u001b[1mo\u001b[22m\u001b[0m\u001b[1md\u001b[22m2pi \u001b[0m\u001b[1mM\u001b[22m\u001b[0m\u001b[1mo\u001b[22m\u001b[0m\u001b[1md\u001b[22mule ch\u001b[0m\u001b[1mm\u001b[22m\u001b[0m\u001b[1mo\u001b[22m\u001b[0m\u001b[1md\u001b[22m inv\u001b[0m\u001b[1mm\u001b[22m\u001b[0m\u001b[1mo\u001b[22m\u001b[0m\u001b[1md\u001b[22m\n\n"
     ]
    },
    {
     "output_type": "execute_result",
     "data": {
      "text/plain": [
       "\u001b[36m  mod1(x, y)\u001b[39m\n",
       "\n",
       "  Modulus after flooring division, returning a value \u001b[36mr\u001b[39m such that \u001b[36mmod(r, y) ==\n",
       "  mod(x, y)\u001b[39m in the range \u001b[35m(0, y]\u001b[39m for positive \u001b[36my\u001b[39m and in the range \u001b[35m[y,0)\u001b[39m for\n",
       "  negative \u001b[36my\u001b[39m.\n",
       "\n",
       "  See also: \u001b[36mfld1\u001b[39m, \u001b[36mfldmod1\u001b[39m.\n",
       "\n",
       "\u001b[1m  Examples\u001b[22m\n",
       "\u001b[1m  ≡≡≡≡≡≡≡≡≡≡\u001b[22m\n",
       "\n",
       "\u001b[36m  julia> mod1(4, 2)\u001b[39m\n",
       "\u001b[36m  2\u001b[39m\n",
       "\u001b[36m  \u001b[39m\n",
       "\u001b[36m  julia> mod1(4, 3)\u001b[39m\n",
       "\u001b[36m  1\u001b[39m"
      ],
      "text/markdown": "```\nmod1(x, y)\n```\n\nModulus after flooring division, returning a value `r` such that `mod(r, y) == mod(x, y)` in the range $(0, y]$ for positive `y` and in the range $[y,0)$ for negative `y`.\n\nSee also: [`fld1`](@ref), [`fldmod1`](@ref).\n\n# Examples\n\n```jldoctest\njulia> mod1(4, 2)\n2\n\njulia> mod1(4, 3)\n1\n```\n",
      "text/latex": "\\begin{verbatim}\nmod1(x, y)\n\\end{verbatim}\nModulus after flooring division, returning a value \\texttt{r} such that \\texttt{mod(r, y) == mod(x, y)} in the range $(0, y]$ for positive \\texttt{y} and in the range $[y,0)$ for negative \\texttt{y}.\n\nSee also: \\href{@ref}{\\texttt{fld1}}, \\href{@ref}{\\texttt{fldmod1}}.\n\n\\section{Examples}\n\\begin{verbatim}\njulia> mod1(4, 2)\n2\n\njulia> mod1(4, 3)\n1\n\\end{verbatim}\n"
     },
     "metadata": {},
     "execution_count": 64
    }
   ],
   "source": [
    "?mod1"
   ]
  },
  {
   "cell_type": "code",
   "execution_count": 65,
   "metadata": {},
   "outputs": [
    {
     "output_type": "stream",
     "name": "stdout",
     "text": [
      "search: \u001b[0m\u001b[1mm\u001b[22m\u001b[0m\u001b[1mo\u001b[22m\u001b[0m\u001b[1md\u001b[22m\u001b[0m\u001b[1m2\u001b[22m\u001b[0m\u001b[1mp\u001b[22m\u001b[0m\u001b[1mi\u001b[22m\n\n"
     ]
    },
    {
     "output_type": "execute_result",
     "data": {
      "text/plain": [
       "\u001b[36m  mod2pi(x)\u001b[39m\n",
       "\n",
       "  Modulus after division by \u001b[36m2π\u001b[39m, returning in the range \u001b[35m[0,2π)\u001b[39m.\n",
       "\n",
       "  This function computes a floating point representation of the modulus after\n",
       "  division by numerically exact \u001b[36m2π\u001b[39m, and is therefore not exactly the same as\n",
       "  \u001b[36mmod(x,2π)\u001b[39m, which would compute the modulus of \u001b[36mx\u001b[39m relative to division by the\n",
       "  floating-point number \u001b[36m2π\u001b[39m.\n",
       "\n",
       "\u001b[36m\u001b[1m  │ \u001b[22m\u001b[39m\u001b[36m\u001b[1mNote\u001b[22m\u001b[39m\n",
       "\u001b[36m\u001b[1m  │\u001b[22m\u001b[39m\n",
       "\u001b[36m\u001b[1m  │\u001b[22m\u001b[39m  Depending on the format of the input value, the closest\n",
       "\u001b[36m\u001b[1m  │\u001b[22m\u001b[39m  representable value to 2π may be less than 2π. For example, the\n",
       "\u001b[36m\u001b[1m  │\u001b[22m\u001b[39m  expression \u001b[36mmod2pi(2π)\u001b[39m will not return \u001b[36m0\u001b[39m, because the intermediate\n",
       "\u001b[36m\u001b[1m  │\u001b[22m\u001b[39m  value of \u001b[36m2*π\u001b[39m is a \u001b[36mFloat64\u001b[39m and \u001b[36m2*Float64(π) < 2*big(π)\u001b[39m. See \u001b[36mrem2pi\u001b[39m\n",
       "\u001b[36m\u001b[1m  │\u001b[22m\u001b[39m  for more refined control of this behavior.\n",
       "\n",
       "\u001b[1m  Examples\u001b[22m\n",
       "\u001b[1m  ≡≡≡≡≡≡≡≡≡≡\u001b[22m\n",
       "\n",
       "\u001b[36m  julia> mod2pi(9*pi/4)\u001b[39m\n",
       "\u001b[36m  0.7853981633974481\u001b[39m"
      ],
      "text/markdown": "```\nmod2pi(x)\n```\n\nModulus after division by `2π`, returning in the range $[0,2π)$.\n\nThis function computes a floating point representation of the modulus after division by numerically exact `2π`, and is therefore not exactly the same as `mod(x,2π)`, which would compute the modulus of `x` relative to division by the floating-point number `2π`.\n\n!!! note\n    Depending on the format of the input value, the closest representable value to 2π may be less than 2π. For example, the expression `mod2pi(2π)` will not return `0`, because the intermediate value of `2*π` is a `Float64` and `2*Float64(π) < 2*big(π)`. See [`rem2pi`](@ref) for more refined control of this behavior.\n\n\n# Examples\n\n```jldoctest\njulia> mod2pi(9*pi/4)\n0.7853981633974481\n```\n",
      "text/latex": "\\begin{verbatim}\nmod2pi(x)\n\\end{verbatim}\nModulus after division by \\texttt{2π}, returning in the range $[0,2π)$.\n\nThis function computes a floating point representation of the modulus after division by numerically exact \\texttt{2π}, and is therefore not exactly the same as \\texttt{mod(x,2π)}, which would compute the modulus of \\texttt{x} relative to division by the floating-point number \\texttt{2π}.\n\n\\begin{quote}\n\\textbf{note}\n\nNote\n\nDepending on the format of the input value, the closest representable value to 2π may be less than 2π. For example, the expression \\texttt{mod2pi(2π)} will not return \\texttt{0}, because the intermediate value of \\texttt{2*π} is a \\texttt{Float64} and \\texttt{2*Float64(π) < 2*big(π)}. See \\href{@ref}{\\texttt{rem2pi}} for more refined control of this behavior.\n\n\\end{quote}\n\\section{Examples}\n\\begin{verbatim}\njulia> mod2pi(9*pi/4)\n0.7853981633974481\n\\end{verbatim}\n"
     },
     "metadata": {},
     "execution_count": 65
    }
   ],
   "source": [
    "?mod2pi"
   ]
  },
  {
   "cell_type": "code",
   "execution_count": 66,
   "metadata": {},
   "outputs": [
    {
     "output_type": "stream",
     "name": "stdout",
     "text": [
      "search: \u001b[0m\u001b[1md\u001b[22m\u001b[0m\u001b[1mi\u001b[22m\u001b[0m\u001b[1mv\u001b[22m\u001b[0m\u001b[1mr\u001b[22m\u001b[0m\u001b[1me\u001b[22m\u001b[0m\u001b[1mm\u001b[22m\n\n"
     ]
    },
    {
     "output_type": "execute_result",
     "data": {
      "text/plain": [
       "\u001b[36m  divrem(x, y, r::RoundingMode=RoundToZero)\u001b[39m\n",
       "\n",
       "  The quotient and remainder from Euclidean division. Equivalent to\n",
       "  \u001b[36m(div(x,y,r), rem(x,y,r))\u001b[39m. Equivalently, with the the default value of \u001b[36mr\u001b[39m,\n",
       "  this call is equivalent to \u001b[36m(x÷y, x%y)\u001b[39m.\n",
       "\n",
       "\u001b[1m  Examples\u001b[22m\n",
       "\u001b[1m  ≡≡≡≡≡≡≡≡≡≡\u001b[22m\n",
       "\n",
       "\u001b[36m  julia> divrem(3,7)\u001b[39m\n",
       "\u001b[36m  (0, 3)\u001b[39m\n",
       "\u001b[36m  \u001b[39m\n",
       "\u001b[36m  julia> divrem(7,3)\u001b[39m\n",
       "\u001b[36m  (2, 1)\u001b[39m"
      ],
      "text/markdown": "```\ndivrem(x, y, r::RoundingMode=RoundToZero)\n```\n\nThe quotient and remainder from Euclidean division. Equivalent to `(div(x,y,r), rem(x,y,r))`. Equivalently, with the the default value of `r`, this call is equivalent to `(x÷y, x%y)`.\n\n# Examples\n\n```jldoctest\njulia> divrem(3,7)\n(0, 3)\n\njulia> divrem(7,3)\n(2, 1)\n```\n",
      "text/latex": "\\begin{verbatim}\ndivrem(x, y, r::RoundingMode=RoundToZero)\n\\end{verbatim}\nThe quotient and remainder from Euclidean division. Equivalent to \\texttt{(div(x,y,r), rem(x,y,r))}. Equivalently, with the the default value of \\texttt{r}, this call is equivalent to \\texttt{(x÷y, x\\%y)}.\n\n\\section{Examples}\n\\begin{verbatim}\njulia> divrem(3,7)\n(0, 3)\n\njulia> divrem(7,3)\n(2, 1)\n\\end{verbatim}\n"
     },
     "metadata": {},
     "execution_count": 66
    }
   ],
   "source": [
    "?divrem"
   ]
  },
  {
   "cell_type": "code",
   "execution_count": 67,
   "metadata": {},
   "outputs": [
    {
     "output_type": "stream",
     "name": "stdout",
     "text": [
      "search: \u001b[0m\u001b[1mf\u001b[22m\u001b[0m\u001b[1ml\u001b[22m\u001b[0m\u001b[1md\u001b[22m\u001b[0m\u001b[1mm\u001b[22m\u001b[0m\u001b[1mo\u001b[22m\u001b[0m\u001b[1md\u001b[22m \u001b[0m\u001b[1mf\u001b[22m\u001b[0m\u001b[1ml\u001b[22m\u001b[0m\u001b[1md\u001b[22m\u001b[0m\u001b[1mm\u001b[22m\u001b[0m\u001b[1mo\u001b[22m\u001b[0m\u001b[1md\u001b[22m1\n\n"
     ]
    },
    {
     "output_type": "execute_result",
     "data": {
      "text/plain": [
       "\u001b[36m  fldmod(x, y)\u001b[39m\n",
       "\n",
       "  The floored quotient and modulus after division. A convenience wrapper for\n",
       "  \u001b[36mdivrem(x, y, RoundDown)\u001b[39m. Equivalent to \u001b[36m(fld(x,y), mod(x,y))\u001b[39m."
      ],
      "text/markdown": "```\nfldmod(x, y)\n```\n\nThe floored quotient and modulus after division. A convenience wrapper for `divrem(x, y, RoundDown)`. Equivalent to `(fld(x,y), mod(x,y))`.\n",
      "text/latex": "\\begin{verbatim}\nfldmod(x, y)\n\\end{verbatim}\nThe floored quotient and modulus after division. A convenience wrapper for \\texttt{divrem(x, y, RoundDown)}. Equivalent to \\texttt{(fld(x,y), mod(x,y))}.\n\n"
     },
     "metadata": {},
     "execution_count": 67
    }
   ],
   "source": [
    "?fldmod"
   ]
  },
  {
   "cell_type": "code",
   "execution_count": 68,
   "metadata": {},
   "outputs": [
    {
     "output_type": "stream",
     "name": "stdout",
     "text": [
      "search: \u001b[0m\u001b[1mg\u001b[22m\u001b[0m\u001b[1mc\u001b[22m\u001b[0m\u001b[1md\u001b[22m \u001b[0m\u001b[1mg\u001b[22m\u001b[0m\u001b[1mc\u001b[22m\u001b[0m\u001b[1md\u001b[22mx si\u001b[0m\u001b[1mg\u001b[22mnifi\u001b[0m\u001b[1mc\u001b[22man\u001b[0m\u001b[1md\u001b[22m\n\n"
     ]
    },
    {
     "output_type": "execute_result",
     "data": {
      "text/plain": [
       "\u001b[36m  gcd(x,y)\u001b[39m\n",
       "\n",
       "  Greatest common (positive) divisor (or zero if \u001b[36mx\u001b[39m and \u001b[36my\u001b[39m are both zero). The\n",
       "  arguments may be integer and rational numbers.\n",
       "\n",
       "\u001b[39m\u001b[1m  │ \u001b[22m\u001b[39m\u001b[1mJulia 1.4\u001b[22m\n",
       "\u001b[39m\u001b[1m  │\u001b[22m\n",
       "\u001b[39m\u001b[1m  │\u001b[22m  Rational arguments require Julia 1.4 or later.\n",
       "\n",
       "\u001b[1m  Examples\u001b[22m\n",
       "\u001b[1m  ≡≡≡≡≡≡≡≡≡≡\u001b[22m\n",
       "\n",
       "\u001b[36m  julia> gcd(6,9)\u001b[39m\n",
       "\u001b[36m  3\u001b[39m\n",
       "\u001b[36m  \u001b[39m\n",
       "\u001b[36m  julia> gcd(6,-9)\u001b[39m\n",
       "\u001b[36m  3\u001b[39m"
      ],
      "text/markdown": "```\ngcd(x,y)\n```\n\nGreatest common (positive) divisor (or zero if `x` and `y` are both zero). The arguments may be integer and rational numbers.\n\n!!! compat \"Julia 1.4\"\n    Rational arguments require Julia 1.4 or later.\n\n\n# Examples\n\n```jldoctest\njulia> gcd(6,9)\n3\n\njulia> gcd(6,-9)\n3\n```\n",
      "text/latex": "\\begin{verbatim}\ngcd(x,y)\n\\end{verbatim}\nGreatest common (positive) divisor (or zero if \\texttt{x} and \\texttt{y} are both zero). The arguments may be integer and rational numbers.\n\n\\begin{quote}\n\\textbf{compat}\n\nJulia 1.4\n\nRational arguments require Julia 1.4 or later.\n\n\\end{quote}\n\\section{Examples}\n\\begin{verbatim}\njulia> gcd(6,9)\n3\n\njulia> gcd(6,-9)\n3\n\\end{verbatim}\n"
     },
     "metadata": {},
     "execution_count": 68
    }
   ],
   "source": [
    "?gcd"
   ]
  },
  {
   "cell_type": "code",
   "execution_count": 70,
   "metadata": {},
   "outputs": [
    {
     "output_type": "stream",
     "name": "stdout",
     "text": [
      "search: \u001b[0m\u001b[1ml\u001b[22m\u001b[0m\u001b[1mc\u001b[22m\u001b[0m\u001b[1mm\u001b[22m se\u001b[0m\u001b[1ml\u001b[22me\u001b[0m\u001b[1mc\u001b[22mtdi\u001b[0m\u001b[1mm\u001b[22m\n\n"
     ]
    },
    {
     "output_type": "execute_result",
     "data": {
      "text/plain": [
       "\u001b[36m  lcm(x,y)\u001b[39m\n",
       "\n",
       "  Least common (non-negative) multiple. The arguments may be integer and\n",
       "  rational numbers.\n",
       "\n",
       "\u001b[39m\u001b[1m  │ \u001b[22m\u001b[39m\u001b[1mJulia 1.4\u001b[22m\n",
       "\u001b[39m\u001b[1m  │\u001b[22m\n",
       "\u001b[39m\u001b[1m  │\u001b[22m  Rational arguments require Julia 1.4 or later.\n",
       "\n",
       "\u001b[1m  Examples\u001b[22m\n",
       "\u001b[1m  ≡≡≡≡≡≡≡≡≡≡\u001b[22m\n",
       "\n",
       "\u001b[36m  julia> lcm(2,3)\u001b[39m\n",
       "\u001b[36m  6\u001b[39m\n",
       "\u001b[36m  \u001b[39m\n",
       "\u001b[36m  julia> lcm(-2,3)\u001b[39m\n",
       "\u001b[36m  6\u001b[39m"
      ],
      "text/markdown": "```\nlcm(x,y)\n```\n\nLeast common (non-negative) multiple. The arguments may be integer and rational numbers.\n\n!!! compat \"Julia 1.4\"\n    Rational arguments require Julia 1.4 or later.\n\n\n# Examples\n\n```jldoctest\njulia> lcm(2,3)\n6\n\njulia> lcm(-2,3)\n6\n```\n",
      "text/latex": "\\begin{verbatim}\nlcm(x,y)\n\\end{verbatim}\nLeast common (non-negative) multiple. The arguments may be integer and rational numbers.\n\n\\begin{quote}\n\\textbf{compat}\n\nJulia 1.4\n\nRational arguments require Julia 1.4 or later.\n\n\\end{quote}\n\\section{Examples}\n\\begin{verbatim}\njulia> lcm(2,3)\n6\n\njulia> lcm(-2,3)\n6\n\\end{verbatim}\n"
     },
     "metadata": {},
     "execution_count": 70
    }
   ],
   "source": [
    "?lcm"
   ]
  },
  {
   "source": [
    "### Sign and absolute value functions"
   ],
   "cell_type": "markdown",
   "metadata": {}
  },
  {
   "cell_type": "code",
   "execution_count": 71,
   "metadata": {},
   "outputs": [
    {
     "output_type": "stream",
     "name": "stdout",
     "text": [
      "search: \u001b[0m\u001b[1ma\u001b[22m\u001b[0m\u001b[1mb\u001b[22m\u001b[0m\u001b[1ms\u001b[22m \u001b[0m\u001b[1ma\u001b[22m\u001b[0m\u001b[1mb\u001b[22m\u001b[0m\u001b[1ms\u001b[22m2 \u001b[0m\u001b[1ma\u001b[22m\u001b[0m\u001b[1mb\u001b[22m\u001b[0m\u001b[1ms\u001b[22mpath \u001b[0m\u001b[1mA\u001b[22m\u001b[0m\u001b[1mb\u001b[22m\u001b[0m\u001b[1ms\u001b[22mtractSet \u001b[0m\u001b[1ma\u001b[22m\u001b[0m\u001b[1mb\u001b[22m\u001b[0m\u001b[1ms\u001b[22mtract type \u001b[0m\u001b[1mA\u001b[22m\u001b[0m\u001b[1mb\u001b[22m\u001b[0m\u001b[1ms\u001b[22mtractChar \u001b[0m\u001b[1mA\u001b[22m\u001b[0m\u001b[1mb\u001b[22m\u001b[0m\u001b[1ms\u001b[22mtractDict\n\n"
     ]
    },
    {
     "output_type": "execute_result",
     "data": {
      "text/plain": [
       "\u001b[36m  abs(x)\u001b[39m\n",
       "\n",
       "  The absolute value of \u001b[36mx\u001b[39m.\n",
       "\n",
       "  When \u001b[36mabs\u001b[39m is applied to signed integers, overflow may occur, resulting in the\n",
       "  return of a negative value. This overflow occurs only when \u001b[36mabs\u001b[39m is applied to\n",
       "  the minimum representable value of a signed integer. That is, when \u001b[36mx ==\n",
       "  typemin(typeof(x))\u001b[39m, \u001b[36mabs(x) == x < 0\u001b[39m, not \u001b[36m-x\u001b[39m as might be expected.\n",
       "\n",
       "\u001b[1m  Examples\u001b[22m\n",
       "\u001b[1m  ≡≡≡≡≡≡≡≡≡≡\u001b[22m\n",
       "\n",
       "\u001b[36m  julia> abs(-3)\u001b[39m\n",
       "\u001b[36m  3\u001b[39m\n",
       "\u001b[36m  \u001b[39m\n",
       "\u001b[36m  julia> abs(1 + im)\u001b[39m\n",
       "\u001b[36m  1.4142135623730951\u001b[39m\n",
       "\u001b[36m  \u001b[39m\n",
       "\u001b[36m  julia> abs(typemin(Int64))\u001b[39m\n",
       "\u001b[36m  -9223372036854775808\u001b[39m"
      ],
      "text/markdown": "```\nabs(x)\n```\n\nThe absolute value of `x`.\n\nWhen `abs` is applied to signed integers, overflow may occur, resulting in the return of a negative value. This overflow occurs only when `abs` is applied to the minimum representable value of a signed integer. That is, when `x == typemin(typeof(x))`, `abs(x) == x < 0`, not `-x` as might be expected.\n\n# Examples\n\n```jldoctest\njulia> abs(-3)\n3\n\njulia> abs(1 + im)\n1.4142135623730951\n\njulia> abs(typemin(Int64))\n-9223372036854775808\n```\n",
      "text/latex": "\\begin{verbatim}\nabs(x)\n\\end{verbatim}\nThe absolute value of \\texttt{x}.\n\nWhen \\texttt{abs} is applied to signed integers, overflow may occur, resulting in the return of a negative value. This overflow occurs only when \\texttt{abs} is applied to the minimum representable value of a signed integer. That is, when \\texttt{x == typemin(typeof(x))}, \\texttt{abs(x) == x < 0}, not \\texttt{-x} as might be expected.\n\n\\section{Examples}\n\\begin{verbatim}\njulia> abs(-3)\n3\n\njulia> abs(1 + im)\n1.4142135623730951\n\njulia> abs(typemin(Int64))\n-9223372036854775808\n\\end{verbatim}\n"
     },
     "metadata": {},
     "execution_count": 71
    }
   ],
   "source": [
    "?abs"
   ]
  },
  {
   "cell_type": "code",
   "execution_count": 72,
   "metadata": {},
   "outputs": [
    {
     "output_type": "stream",
     "name": "stdout",
     "text": [
      "search: \u001b[0m\u001b[1ma\u001b[22m\u001b[0m\u001b[1mb\u001b[22m\u001b[0m\u001b[1ms\u001b[22m\u001b[0m\u001b[1m2\u001b[22m \u001b[0m\u001b[1ma\u001b[22m\u001b[0m\u001b[1mb\u001b[22m\u001b[0m\u001b[1ms\u001b[22m \u001b[0m\u001b[1ma\u001b[22m\u001b[0m\u001b[1mb\u001b[22m\u001b[0m\u001b[1ms\u001b[22mpath \u001b[0m\u001b[1mA\u001b[22m\u001b[0m\u001b[1mb\u001b[22m\u001b[0m\u001b[1ms\u001b[22mtractSet \u001b[0m\u001b[1ma\u001b[22m\u001b[0m\u001b[1mb\u001b[22m\u001b[0m\u001b[1ms\u001b[22mtract type \u001b[0m\u001b[1mA\u001b[22m\u001b[0m\u001b[1mb\u001b[22m\u001b[0m\u001b[1ms\u001b[22mtractChar \u001b[0m\u001b[1mA\u001b[22m\u001b[0m\u001b[1mb\u001b[22m\u001b[0m\u001b[1ms\u001b[22mtractDict\n\n"
     ]
    },
    {
     "output_type": "execute_result",
     "data": {
      "text/plain": [
       "\u001b[36m  abs2(x)\u001b[39m\n",
       "\n",
       "  Squared absolute value of \u001b[36mx\u001b[39m.\n",
       "\n",
       "\u001b[1m  Examples\u001b[22m\n",
       "\u001b[1m  ≡≡≡≡≡≡≡≡≡≡\u001b[22m\n",
       "\n",
       "\u001b[36m  julia> abs2(-3)\u001b[39m\n",
       "\u001b[36m  9\u001b[39m"
      ],
      "text/markdown": "```\nabs2(x)\n```\n\nSquared absolute value of `x`.\n\n# Examples\n\n```jldoctest\njulia> abs2(-3)\n9\n```\n",
      "text/latex": "\\begin{verbatim}\nabs2(x)\n\\end{verbatim}\nSquared absolute value of \\texttt{x}.\n\n\\section{Examples}\n\\begin{verbatim}\njulia> abs2(-3)\n9\n\\end{verbatim}\n"
     },
     "metadata": {},
     "execution_count": 72
    }
   ],
   "source": [
    "?abs2"
   ]
  },
  {
   "cell_type": "code",
   "execution_count": 73,
   "metadata": {},
   "outputs": [
    {
     "output_type": "stream",
     "name": "stdout",
     "text": [
      "search: \u001b[0m\u001b[1ms\u001b[22m\u001b[0m\u001b[1mi\u001b[22m\u001b[0m\u001b[1mg\u001b[22m\u001b[0m\u001b[1mn\u001b[22m \u001b[0m\u001b[1ms\u001b[22m\u001b[0m\u001b[1mi\u001b[22m\u001b[0m\u001b[1mg\u001b[22m\u001b[0m\u001b[1mn\u001b[22med \u001b[0m\u001b[1mS\u001b[22m\u001b[0m\u001b[1mi\u001b[22m\u001b[0m\u001b[1mg\u001b[22m\u001b[0m\u001b[1mn\u001b[22med \u001b[0m\u001b[1ms\u001b[22m\u001b[0m\u001b[1mi\u001b[22m\u001b[0m\u001b[1mg\u001b[22m\u001b[0m\u001b[1mn\u001b[22mbit \u001b[0m\u001b[1ms\u001b[22m\u001b[0m\u001b[1mi\u001b[22m\u001b[0m\u001b[1mg\u001b[22m\u001b[0m\u001b[1mn\u001b[22mificand Un\u001b[0m\u001b[1ms\u001b[22m\u001b[0m\u001b[1mi\u001b[22m\u001b[0m\u001b[1mg\u001b[22m\u001b[0m\u001b[1mn\u001b[22med un\u001b[0m\u001b[1ms\u001b[22m\u001b[0m\u001b[1mi\u001b[22m\u001b[0m\u001b[1mg\u001b[22m\u001b[0m\u001b[1mn\u001b[22med flip\u001b[0m\u001b[1ms\u001b[22m\u001b[0m\u001b[1mi\u001b[22m\u001b[0m\u001b[1mg\u001b[22m\u001b[0m\u001b[1mn\u001b[22m\n\n"
     ]
    },
    {
     "output_type": "execute_result",
     "data": {
      "text/plain": [
       "\u001b[36m  sign(x)\u001b[39m\n",
       "\n",
       "  Return zero if \u001b[36mx==0\u001b[39m and \u001b[35mx/|x|\u001b[39m otherwise (i.e., ±1 for real \u001b[36mx\u001b[39m)."
      ],
      "text/markdown": "```\nsign(x)\n```\n\nReturn zero if `x==0` and $x/|x|$ otherwise (i.e., ±1 for real `x`).\n",
      "text/latex": "\\begin{verbatim}\nsign(x)\n\\end{verbatim}\nReturn zero if \\texttt{x==0} and $x/|x|$ otherwise (i.e., ±1 for real \\texttt{x}).\n\n"
     },
     "metadata": {},
     "execution_count": 73
    }
   ],
   "source": [
    "?sign"
   ]
  },
  {
   "cell_type": "code",
   "execution_count": 74,
   "metadata": {},
   "outputs": [
    {
     "output_type": "stream",
     "name": "stdout",
     "text": [
      "search: \u001b[0m\u001b[1ms\u001b[22m\u001b[0m\u001b[1mi\u001b[22m\u001b[0m\u001b[1mg\u001b[22m\u001b[0m\u001b[1mn\u001b[22m\u001b[0m\u001b[1mb\u001b[22m\u001b[0m\u001b[1mi\u001b[22m\u001b[0m\u001b[1mt\u001b[22m\n\n"
     ]
    },
    {
     "output_type": "execute_result",
     "data": {
      "text/plain": [
       "\u001b[36m  signbit(x)\u001b[39m\n",
       "\n",
       "  Returns \u001b[36mtrue\u001b[39m if the value of the sign of \u001b[36mx\u001b[39m is negative, otherwise \u001b[36mfalse\u001b[39m.\n",
       "\n",
       "\u001b[1m  Examples\u001b[22m\n",
       "\u001b[1m  ≡≡≡≡≡≡≡≡≡≡\u001b[22m\n",
       "\n",
       "\u001b[36m  julia> signbit(-4)\u001b[39m\n",
       "\u001b[36m  true\u001b[39m\n",
       "\u001b[36m  \u001b[39m\n",
       "\u001b[36m  julia> signbit(5)\u001b[39m\n",
       "\u001b[36m  false\u001b[39m\n",
       "\u001b[36m  \u001b[39m\n",
       "\u001b[36m  julia> signbit(5.5)\u001b[39m\n",
       "\u001b[36m  false\u001b[39m\n",
       "\u001b[36m  \u001b[39m\n",
       "\u001b[36m  julia> signbit(-4.1)\u001b[39m\n",
       "\u001b[36m  true\u001b[39m"
      ],
      "text/markdown": "```\nsignbit(x)\n```\n\nReturns `true` if the value of the sign of `x` is negative, otherwise `false`.\n\n# Examples\n\n```jldoctest\njulia> signbit(-4)\ntrue\n\njulia> signbit(5)\nfalse\n\njulia> signbit(5.5)\nfalse\n\njulia> signbit(-4.1)\ntrue\n```\n",
      "text/latex": "\\begin{verbatim}\nsignbit(x)\n\\end{verbatim}\nReturns \\texttt{true} if the value of the sign of \\texttt{x} is negative, otherwise \\texttt{false}.\n\n\\section{Examples}\n\\begin{verbatim}\njulia> signbit(-4)\ntrue\n\njulia> signbit(5)\nfalse\n\njulia> signbit(5.5)\nfalse\n\njulia> signbit(-4.1)\ntrue\n\\end{verbatim}\n"
     },
     "metadata": {},
     "execution_count": 74
    }
   ],
   "source": [
    "?signbit"
   ]
  },
  {
   "cell_type": "code",
   "execution_count": 75,
   "metadata": {},
   "outputs": [
    {
     "output_type": "stream",
     "name": "stdout",
     "text": [
      "search: \u001b[0m\u001b[1mc\u001b[22m\u001b[0m\u001b[1mo\u001b[22m\u001b[0m\u001b[1mp\u001b[22m\u001b[0m\u001b[1my\u001b[22m\u001b[0m\u001b[1ms\u001b[22m\u001b[0m\u001b[1mi\u001b[22m\u001b[0m\u001b[1mg\u001b[22m\u001b[0m\u001b[1mn\u001b[22m\n\n"
     ]
    },
    {
     "output_type": "execute_result",
     "data": {
      "text/plain": [
       "\u001b[36m  copysign(x, y) -> z\u001b[39m\n",
       "\n",
       "  Return \u001b[36mz\u001b[39m which has the magnitude of \u001b[36mx\u001b[39m and the same sign as \u001b[36my\u001b[39m.\n",
       "\n",
       "\u001b[1m  Examples\u001b[22m\n",
       "\u001b[1m  ≡≡≡≡≡≡≡≡≡≡\u001b[22m\n",
       "\n",
       "\u001b[36m  julia> copysign(1, -2)\u001b[39m\n",
       "\u001b[36m  -1\u001b[39m\n",
       "\u001b[36m  \u001b[39m\n",
       "\u001b[36m  julia> copysign(-1, 2)\u001b[39m\n",
       "\u001b[36m  1\u001b[39m"
      ],
      "text/markdown": "```\ncopysign(x, y) -> z\n```\n\nReturn `z` which has the magnitude of `x` and the same sign as `y`.\n\n# Examples\n\n```jldoctest\njulia> copysign(1, -2)\n-1\n\njulia> copysign(-1, 2)\n1\n```\n",
      "text/latex": "\\begin{verbatim}\ncopysign(x, y) -> z\n\\end{verbatim}\nReturn \\texttt{z} which has the magnitude of \\texttt{x} and the same sign as \\texttt{y}.\n\n\\section{Examples}\n\\begin{verbatim}\njulia> copysign(1, -2)\n-1\n\njulia> copysign(-1, 2)\n1\n\\end{verbatim}\n"
     },
     "metadata": {},
     "execution_count": 75
    }
   ],
   "source": [
    "?copysign"
   ]
  },
  {
   "cell_type": "code",
   "execution_count": 76,
   "metadata": {},
   "outputs": [
    {
     "output_type": "stream",
     "name": "stdout",
     "text": [
      "search: \u001b[0m\u001b[1mf\u001b[22m\u001b[0m\u001b[1ml\u001b[22m\u001b[0m\u001b[1mi\u001b[22m\u001b[0m\u001b[1mp\u001b[22m\u001b[0m\u001b[1ms\u001b[22m\u001b[0m\u001b[1mi\u001b[22m\u001b[0m\u001b[1mg\u001b[22m\u001b[0m\u001b[1mn\u001b[22m\n\n"
     ]
    },
    {
     "output_type": "execute_result",
     "data": {
      "text/plain": [
       "\u001b[36m  flipsign(x, y)\u001b[39m\n",
       "\n",
       "  Return \u001b[36mx\u001b[39m with its sign flipped if \u001b[36my\u001b[39m is negative. For example \u001b[36mabs(x) =\n",
       "  flipsign(x,x)\u001b[39m.\n",
       "\n",
       "\u001b[1m  Examples\u001b[22m\n",
       "\u001b[1m  ≡≡≡≡≡≡≡≡≡≡\u001b[22m\n",
       "\n",
       "\u001b[36m  julia> flipsign(5, 3)\u001b[39m\n",
       "\u001b[36m  5\u001b[39m\n",
       "\u001b[36m  \u001b[39m\n",
       "\u001b[36m  julia> flipsign(5, -3)\u001b[39m\n",
       "\u001b[36m  -5\u001b[39m"
      ],
      "text/markdown": "```\nflipsign(x, y)\n```\n\nReturn `x` with its sign flipped if `y` is negative. For example `abs(x) = flipsign(x,x)`.\n\n# Examples\n\n```jldoctest\njulia> flipsign(5, 3)\n5\n\njulia> flipsign(5, -3)\n-5\n```\n",
      "text/latex": "\\begin{verbatim}\nflipsign(x, y)\n\\end{verbatim}\nReturn \\texttt{x} with its sign flipped if \\texttt{y} is negative. For example \\texttt{abs(x) = flipsign(x,x)}.\n\n\\section{Examples}\n\\begin{verbatim}\njulia> flipsign(5, 3)\n5\n\njulia> flipsign(5, -3)\n-5\n\\end{verbatim}\n"
     },
     "metadata": {},
     "execution_count": 76
    }
   ],
   "source": [
    "?flipsign"
   ]
  },
  {
   "source": [
    "### Powers, logs and roots"
   ],
   "cell_type": "markdown",
   "metadata": {}
  },
  {
   "cell_type": "code",
   "execution_count": 78,
   "metadata": {},
   "outputs": [
    {
     "output_type": "stream",
     "name": "stdout",
     "text": [
      "search: \u001b[0m\u001b[1ms\u001b[22m\u001b[0m\u001b[1mq\u001b[22m\u001b[0m\u001b[1mr\u001b[22m\u001b[0m\u001b[1mt\u001b[22m i\u001b[0m\u001b[1ms\u001b[22m\u001b[0m\u001b[1mq\u001b[22m\u001b[0m\u001b[1mr\u001b[22m\u001b[0m\u001b[1mt\u001b[22m\n\n"
     ]
    },
    {
     "output_type": "execute_result",
     "data": {
      "text/plain": [
       "\u001b[36m  sqrt(x)\u001b[39m\n",
       "\n",
       "  Return \u001b[35m\\sqrt{x}\u001b[39m. Throws \u001b[36mDomainError\u001b[39m for negative \u001b[36mReal\u001b[39m arguments. Use complex\n",
       "  negative arguments instead. The prefix operator \u001b[36m√\u001b[39m is equivalent to \u001b[36msqrt\u001b[39m.\n",
       "\n",
       "\u001b[1m  Examples\u001b[22m\n",
       "\u001b[1m  ≡≡≡≡≡≡≡≡≡≡\u001b[22m\n",
       "\n",
       "\u001b[36m  julia> sqrt(big(81))\u001b[39m\n",
       "\u001b[36m  9.0\u001b[39m\n",
       "\u001b[36m  \u001b[39m\n",
       "\u001b[36m  julia> sqrt(big(-81))\u001b[39m\n",
       "\u001b[36m  ERROR: DomainError with -81.0:\u001b[39m\n",
       "\u001b[36m  NaN result for non-NaN input.\u001b[39m\n",
       "\u001b[36m  Stacktrace:\u001b[39m\n",
       "\u001b[36m   [1] sqrt(::BigFloat) at ./mpfr.jl:501\u001b[39m\n",
       "\u001b[36m  [...]\u001b[39m\n",
       "\u001b[36m  \u001b[39m\n",
       "\u001b[36m  julia> sqrt(big(complex(-81)))\u001b[39m\n",
       "\u001b[36m  0.0 + 9.0im\u001b[39m\n",
       "\n",
       "  ────────────────────────────────────────────────────────────────────────────\n",
       "\n",
       "\u001b[36m  sqrt(A::AbstractMatrix)\u001b[39m\n",
       "\n",
       "  If \u001b[36mA\u001b[39m has no negative real eigenvalues, compute the principal matrix square\n",
       "  root of \u001b[36mA\u001b[39m, that is the unique matrix \u001b[35mX\u001b[39m with eigenvalues having positive real\n",
       "  part such that \u001b[35mX^2 = A\u001b[39m. Otherwise, a nonprincipal square root is returned.\n",
       "\n",
       "  If \u001b[36mA\u001b[39m is symmetric or Hermitian, its eigendecomposition (\u001b[36meigen\u001b[39m) is used to\n",
       "  compute the square root. Otherwise, the square root is determined by means\n",
       "  of the Björck-Hammarling method \u001b[1m[^BH83]\u001b[22m, which computes the complex Schur\n",
       "  form (\u001b[36mschur\u001b[39m) and then the complex square root of the triangular factor.\n",
       "\n",
       "  │ \u001b[0m\u001b[1m[^BH83]\u001b[22m\n",
       "  │\n",
       "  │  Åke Björck and Sven Hammarling, \"A Schur method for the square\n",
       "  │  root of a matrix\", Linear Algebra and its Applications, 52-53,\n",
       "  │  1983, 127-140. doi:10.1016/0024-3795(83)80010-X\n",
       "  │  (https://doi.org/10.1016/0024-3795(83)80010-X)\n",
       "\n",
       "\u001b[1m  Examples\u001b[22m\n",
       "\u001b[1m  ≡≡≡≡≡≡≡≡≡≡\u001b[22m\n",
       "\n",
       "\u001b[36m  julia> A = [4 0; 0 4]\u001b[39m\n",
       "\u001b[36m  2×2 Array{Int64,2}:\u001b[39m\n",
       "\u001b[36m   4  0\u001b[39m\n",
       "\u001b[36m   0  4\u001b[39m\n",
       "\u001b[36m  \u001b[39m\n",
       "\u001b[36m  julia> sqrt(A)\u001b[39m\n",
       "\u001b[36m  2×2 Array{Float64,2}:\u001b[39m\n",
       "\u001b[36m   2.0  0.0\u001b[39m\n",
       "\u001b[36m   0.0  2.0\u001b[39m"
      ],
      "text/markdown": "```\nsqrt(x)\n```\n\nReturn $\\sqrt{x}$. Throws [`DomainError`](@ref) for negative [`Real`](@ref) arguments. Use complex negative arguments instead. The prefix operator `√` is equivalent to `sqrt`.\n\n# Examples\n\n```jldoctest; filter = r\"Stacktrace:(\\n \\[[0-9]+\\].*)*\"\njulia> sqrt(big(81))\n9.0\n\njulia> sqrt(big(-81))\nERROR: DomainError with -81.0:\nNaN result for non-NaN input.\nStacktrace:\n [1] sqrt(::BigFloat) at ./mpfr.jl:501\n[...]\n\njulia> sqrt(big(complex(-81)))\n0.0 + 9.0im\n```\n\n---\n\n```\nsqrt(A::AbstractMatrix)\n```\n\nIf `A` has no negative real eigenvalues, compute the principal matrix square root of `A`, that is the unique matrix $X$ with eigenvalues having positive real part such that $X^2 = A$. Otherwise, a nonprincipal square root is returned.\n\nIf `A` is symmetric or Hermitian, its eigendecomposition ([`eigen`](@ref)) is used to compute the square root. Otherwise, the square root is determined by means of the Björck-Hammarling method [^BH83], which computes the complex Schur form ([`schur`](@ref)) and then the complex square root of the triangular factor.\n\n[^BH83]: Åke Björck and Sven Hammarling, \"A Schur method for the square root of a matrix\", Linear Algebra and its Applications, 52-53, 1983, 127-140. [doi:10.1016/0024-3795(83)80010-X](https://doi.org/10.1016/0024-3795(83)80010-X)\n\n# Examples\n\n```jldoctest\njulia> A = [4 0; 0 4]\n2×2 Array{Int64,2}:\n 4  0\n 0  4\n\njulia> sqrt(A)\n2×2 Array{Float64,2}:\n 2.0  0.0\n 0.0  2.0\n```\n",
      "text/latex": "\\begin{verbatim}\nsqrt(x)\n\\end{verbatim}\nReturn $\\sqrt{x}$. Throws \\href{@ref}{\\texttt{DomainError}} for negative \\href{@ref}{\\texttt{Real}} arguments. Use complex negative arguments instead. The prefix operator \\texttt{√} is equivalent to \\texttt{sqrt}.\n\n\\section{Examples}\n\\begin{verbatim}\njulia> sqrt(big(81))\n9.0\n\njulia> sqrt(big(-81))\nERROR: DomainError with -81.0:\nNaN result for non-NaN input.\nStacktrace:\n [1] sqrt(::BigFloat) at ./mpfr.jl:501\n[...]\n\njulia> sqrt(big(complex(-81)))\n0.0 + 9.0im\n\\end{verbatim}\n\\rule{\\textwidth}{1pt}\n\\begin{verbatim}\nsqrt(A::AbstractMatrix)\n\\end{verbatim}\nIf \\texttt{A} has no negative real eigenvalues, compute the principal matrix square root of \\texttt{A}, that is the unique matrix $X$ with eigenvalues having positive real part such that $X^2 = A$. Otherwise, a nonprincipal square root is returned.\n\nIf \\texttt{A} is symmetric or Hermitian, its eigendecomposition (\\href{@ref}{\\texttt{eigen}}) is used to compute the square root. Otherwise, the square root is determined by means of the Björck-Hammarling method \\footnotemark[BH83], which computes the complex Schur form (\\href{@ref}{\\texttt{schur}}) and then the complex square root of the triangular factor.\n\n\\footnotetext[BH83]{Åke Björck and Sven Hammarling, \"A Schur method for the square root of a matrix\", Linear Algebra and its Applications, 52-53, 1983, 127-140. \\href{https://doi.org/10.1016/0024-3795(83)80010-X}{doi:10.1016/0024-3795(83)80010-X}\n\n}\n\\section{Examples}\n\\begin{verbatim}\njulia> A = [4 0; 0 4]\n2×2 Array{Int64,2}:\n 4  0\n 0  4\n\njulia> sqrt(A)\n2×2 Array{Float64,2}:\n 2.0  0.0\n 0.0  2.0\n\\end{verbatim}\n"
     },
     "metadata": {},
     "execution_count": 78
    }
   ],
   "source": [
    "?sqrt"
   ]
  },
  {
   "cell_type": "code",
   "execution_count": 79,
   "metadata": {},
   "outputs": [
    {
     "output_type": "stream",
     "name": "stdout",
     "text": [
      "search: \u001b[0m\u001b[1mc\u001b[22m\u001b[0m\u001b[1mb\u001b[22m\u001b[0m\u001b[1mr\u001b[22m\u001b[0m\u001b[1mt\u001b[22m \u001b[0m\u001b[1mc\u001b[22mlip\u001b[0m\u001b[1mb\u001b[22moa\u001b[0m\u001b[1mr\u001b[22md \u001b[0m\u001b[1mc\u001b[22match_\u001b[0m\u001b[1mb\u001b[22mackt\u001b[0m\u001b[1mr\u001b[22mace\n\n"
     ]
    },
    {
     "output_type": "execute_result",
     "data": {
      "text/plain": [
       "\u001b[36m  cbrt(x::Real)\u001b[39m\n",
       "\n",
       "  Return the cube root of \u001b[36mx\u001b[39m, i.e. \u001b[35mx^{1/3}\u001b[39m. Negative values are accepted\n",
       "  (returning the negative real root when \u001b[35mx < 0\u001b[39m).\n",
       "\n",
       "  The prefix operator \u001b[36m∛\u001b[39m is equivalent to \u001b[36mcbrt\u001b[39m.\n",
       "\n",
       "\u001b[1m  Examples\u001b[22m\n",
       "\u001b[1m  ≡≡≡≡≡≡≡≡≡≡\u001b[22m\n",
       "\n",
       "\u001b[36m  julia> cbrt(big(27))\u001b[39m\n",
       "\u001b[36m  3.0\u001b[39m\n",
       "\u001b[36m  \u001b[39m\n",
       "\u001b[36m  julia> cbrt(big(-27))\u001b[39m\n",
       "\u001b[36m  -3.0\u001b[39m"
      ],
      "text/markdown": "```\ncbrt(x::Real)\n```\n\nReturn the cube root of `x`, i.e. $x^{1/3}$. Negative values are accepted (returning the negative real root when $x < 0$).\n\nThe prefix operator `∛` is equivalent to `cbrt`.\n\n# Examples\n\n```jldoctest\njulia> cbrt(big(27))\n3.0\n\njulia> cbrt(big(-27))\n-3.0\n```\n",
      "text/latex": "\\begin{verbatim}\ncbrt(x::Real)\n\\end{verbatim}\nReturn the cube root of \\texttt{x}, i.e. $x^{1/3}$. Negative values are accepted (returning the negative real root when $x < 0$).\n\nThe prefix operator \\texttt{∛} is equivalent to \\texttt{cbrt}.\n\n\\section{Examples}\n\\begin{verbatim}\njulia> cbrt(big(27))\n3.0\n\njulia> cbrt(big(-27))\n-3.0\n\\end{verbatim}\n"
     },
     "metadata": {},
     "execution_count": 79
    }
   ],
   "source": [
    "?cbrt"
   ]
  },
  {
   "cell_type": "code",
   "execution_count": 80,
   "metadata": {},
   "outputs": [
    {
     "output_type": "stream",
     "name": "stdout",
     "text": [
      "search: \u001b[0m\u001b[1mh\u001b[22m\u001b[0m\u001b[1my\u001b[22m\u001b[0m\u001b[1mp\u001b[22m\u001b[0m\u001b[1mo\u001b[22m\u001b[0m\u001b[1mt\u001b[22m\n\n"
     ]
    },
    {
     "output_type": "execute_result",
     "data": {
      "text/plain": [
       "\u001b[36m  hypot(x, y)\u001b[39m\n",
       "\n",
       "  Compute the hypotenuse \u001b[35m\\sqrt{|x|^2+|y|^2}\u001b[39m avoiding overflow and underflow.\n",
       "\n",
       "  This code is an implementation of the algorithm described in: An Improved\n",
       "  Algorithm for \u001b[36mhypot(a,b)\u001b[39m by Carlos F. Borges The article is available online\n",
       "  at ArXiv at the link https://arxiv.org/abs/1904.09481\n",
       "\n",
       "\u001b[1m  Examples\u001b[22m\n",
       "\u001b[1m  ≡≡≡≡≡≡≡≡≡≡\u001b[22m\n",
       "\n",
       "\u001b[36m  julia> a = Int64(10)^10;\u001b[39m\n",
       "\u001b[36m  \u001b[39m\n",
       "\u001b[36m  julia> hypot(a, a)\u001b[39m\n",
       "\u001b[36m  1.4142135623730951e10\u001b[39m\n",
       "\u001b[36m  \u001b[39m\n",
       "\u001b[36m  julia> √(a^2 + a^2) # a^2 overflows\u001b[39m\n",
       "\u001b[36m  ERROR: DomainError with -2.914184810805068e18:\u001b[39m\n",
       "\u001b[36m  sqrt will only return a complex result if called with a complex argument. Try sqrt(Complex(x)).\u001b[39m\n",
       "\u001b[36m  Stacktrace:\u001b[39m\n",
       "\u001b[36m  [...]\u001b[39m\n",
       "\u001b[36m  \u001b[39m\n",
       "\u001b[36m  julia> hypot(3, 4im)\u001b[39m\n",
       "\u001b[36m  5.0\u001b[39m\n",
       "\n",
       "  ────────────────────────────────────────────────────────────────────────────\n",
       "\n",
       "\u001b[36m  hypot(x...)\u001b[39m\n",
       "\n",
       "  Compute the hypotenuse \u001b[35m\\sqrt{\\sum |x_i|^2}\u001b[39m avoiding overflow and underflow.\n",
       "\n",
       "\u001b[1m  Examples\u001b[22m\n",
       "\u001b[1m  ≡≡≡≡≡≡≡≡≡≡\u001b[22m\n",
       "\n",
       "\u001b[36m  julia> hypot(-5.7)\u001b[39m\n",
       "\u001b[36m  5.7\u001b[39m\n",
       "\u001b[36m  \u001b[39m\n",
       "\u001b[36m  julia> hypot(3, 4im, 12.0)\u001b[39m\n",
       "\u001b[36m  13.0\u001b[39m"
      ],
      "text/markdown": "```\nhypot(x, y)\n```\n\nCompute the hypotenuse $\\sqrt{|x|^2+|y|^2}$ avoiding overflow and underflow.\n\nThis code is an implementation of the algorithm described in: An Improved Algorithm for `hypot(a,b)` by Carlos F. Borges The article is available online at ArXiv at the link   https://arxiv.org/abs/1904.09481\n\n# Examples\n\n```jldoctest; filter = r\"Stacktrace:(\\n \\[[0-9]+\\].*)*\"\njulia> a = Int64(10)^10;\n\njulia> hypot(a, a)\n1.4142135623730951e10\n\njulia> √(a^2 + a^2) # a^2 overflows\nERROR: DomainError with -2.914184810805068e18:\nsqrt will only return a complex result if called with a complex argument. Try sqrt(Complex(x)).\nStacktrace:\n[...]\n\njulia> hypot(3, 4im)\n5.0\n```\n\n---\n\n```\nhypot(x...)\n```\n\nCompute the hypotenuse $\\sqrt{\\sum |x_i|^2}$ avoiding overflow and underflow.\n\n# Examples\n\n```jldoctest\njulia> hypot(-5.7)\n5.7\n\njulia> hypot(3, 4im, 12.0)\n13.0\n```\n",
      "text/latex": "\\begin{verbatim}\nhypot(x, y)\n\\end{verbatim}\nCompute the hypotenuse $\\sqrt{|x|^2+|y|^2}$ avoiding overflow and underflow.\n\nThis code is an implementation of the algorithm described in: An Improved Algorithm for \\texttt{hypot(a,b)} by Carlos F. Borges The article is available online at ArXiv at the link   https://arxiv.org/abs/1904.09481\n\n\\section{Examples}\n\\begin{verbatim}\njulia> a = Int64(10)^10;\n\njulia> hypot(a, a)\n1.4142135623730951e10\n\njulia> √(a^2 + a^2) # a^2 overflows\nERROR: DomainError with -2.914184810805068e18:\nsqrt will only return a complex result if called with a complex argument. Try sqrt(Complex(x)).\nStacktrace:\n[...]\n\njulia> hypot(3, 4im)\n5.0\n\\end{verbatim}\n\\rule{\\textwidth}{1pt}\n\\begin{verbatim}\nhypot(x...)\n\\end{verbatim}\nCompute the hypotenuse $\\sqrt{\\sum |x_i|^2}$ avoiding overflow and underflow.\n\n\\section{Examples}\n\\begin{verbatim}\njulia> hypot(-5.7)\n5.7\n\njulia> hypot(3, 4im, 12.0)\n13.0\n\\end{verbatim}\n"
     },
     "metadata": {},
     "execution_count": 80
    }
   ],
   "source": [
    "?hypot"
   ]
  },
  {
   "cell_type": "code",
   "execution_count": 81,
   "metadata": {},
   "outputs": [
    {
     "output_type": "stream",
     "name": "stdout",
     "text": [
      "search: \u001b[0m\u001b[1me\u001b[22m\u001b[0m\u001b[1mx\u001b[22m\u001b[0m\u001b[1mp\u001b[22m \u001b[0m\u001b[1me\u001b[22m\u001b[0m\u001b[1mx\u001b[22m\u001b[0m\u001b[1mp\u001b[22m2 \u001b[0m\u001b[1mE\u001b[22m\u001b[0m\u001b[1mx\u001b[22m\u001b[0m\u001b[1mp\u001b[22mr \u001b[0m\u001b[1me\u001b[22m\u001b[0m\u001b[1mx\u001b[22m\u001b[0m\u001b[1mp\u001b[22mm1 \u001b[0m\u001b[1me\u001b[22m\u001b[0m\u001b[1mx\u001b[22m\u001b[0m\u001b[1mp\u001b[22m10 \u001b[0m\u001b[1me\u001b[22m\u001b[0m\u001b[1mx\u001b[22m\u001b[0m\u001b[1mp\u001b[22mort \u001b[0m\u001b[1me\u001b[22m\u001b[0m\u001b[1mx\u001b[22m\u001b[0m\u001b[1mp\u001b[22monent \u001b[0m\u001b[1me\u001b[22m\u001b[0m\u001b[1mx\u001b[22m\u001b[0m\u001b[1mp\u001b[22manduser \u001b[0m\u001b[1mE\u001b[22m\u001b[0m\u001b[1mx\u001b[22m\u001b[0m\u001b[1mp\u001b[22monentialBackOff\n\n"
     ]
    },
    {
     "output_type": "execute_result",
     "data": {
      "text/plain": [
       "\u001b[36m  exp(x)\u001b[39m\n",
       "\n",
       "  Compute the natural base exponential of \u001b[36mx\u001b[39m, in other words \u001b[35me^x\u001b[39m.\n",
       "\n",
       "\u001b[1m  Examples\u001b[22m\n",
       "\u001b[1m  ≡≡≡≡≡≡≡≡≡≡\u001b[22m\n",
       "\n",
       "\u001b[36m  julia> exp(1.0)\u001b[39m\n",
       "\u001b[36m  2.718281828459045\u001b[39m\n",
       "\n",
       "  ────────────────────────────────────────────────────────────────────────────\n",
       "\n",
       "\u001b[36m  exp(A::AbstractMatrix)\u001b[39m\n",
       "\n",
       "  Compute the matrix exponential of \u001b[36mA\u001b[39m, defined by\n",
       "\n",
       "\u001b[35me^A = \\sum_{n=0}^{\\infty} \\frac{A^n}{n!}.\u001b[39m\n",
       "\n",
       "  For symmetric or Hermitian \u001b[36mA\u001b[39m, an eigendecomposition (\u001b[36meigen\u001b[39m) is used,\n",
       "  otherwise the scaling and squaring algorithm (see \u001b[1m[^H05]\u001b[22m) is chosen.\n",
       "\n",
       "  │ \u001b[0m\u001b[1m[^H05]\u001b[22m\n",
       "  │\n",
       "  │  Nicholas J. Higham, \"The squaring and scaling method for the\n",
       "  │  matrix exponential revisited\", SIAM Journal on Matrix Analysis and\n",
       "  │  Applications, 26(4), 2005, 1179-1193. doi:10.1137/090768539\n",
       "  │  (https://doi.org/10.1137/090768539)\n",
       "\n",
       "\u001b[1m  Examples\u001b[22m\n",
       "\u001b[1m  ≡≡≡≡≡≡≡≡≡≡\u001b[22m\n",
       "\n",
       "\u001b[36m  julia> A = Matrix(1.0I, 2, 2)\u001b[39m\n",
       "\u001b[36m  2×2 Array{Float64,2}:\u001b[39m\n",
       "\u001b[36m   1.0  0.0\u001b[39m\n",
       "\u001b[36m   0.0  1.0\u001b[39m\n",
       "\u001b[36m  \u001b[39m\n",
       "\u001b[36m  julia> exp(A)\u001b[39m\n",
       "\u001b[36m  2×2 Array{Float64,2}:\u001b[39m\n",
       "\u001b[36m   2.71828  0.0\u001b[39m\n",
       "\u001b[36m   0.0      2.71828\u001b[39m"
      ],
      "text/markdown": "```\nexp(x)\n```\n\nCompute the natural base exponential of `x`, in other words $e^x$.\n\n# Examples\n\n```jldoctest\njulia> exp(1.0)\n2.718281828459045\n```\n\n---\n\n```\nexp(A::AbstractMatrix)\n```\n\nCompute the matrix exponential of `A`, defined by\n\n$$\ne^A = \\sum_{n=0}^{\\infty} \\frac{A^n}{n!}.\n$$\n\nFor symmetric or Hermitian `A`, an eigendecomposition ([`eigen`](@ref)) is used, otherwise the scaling and squaring algorithm (see [^H05]) is chosen.\n\n[^H05]: Nicholas J. Higham, \"The squaring and scaling method for the matrix exponential revisited\", SIAM Journal on Matrix Analysis and Applications, 26(4), 2005, 1179-1193. [doi:10.1137/090768539](https://doi.org/10.1137/090768539)\n\n# Examples\n\n```jldoctest\njulia> A = Matrix(1.0I, 2, 2)\n2×2 Array{Float64,2}:\n 1.0  0.0\n 0.0  1.0\n\njulia> exp(A)\n2×2 Array{Float64,2}:\n 2.71828  0.0\n 0.0      2.71828\n```\n",
      "text/latex": "\\begin{verbatim}\nexp(x)\n\\end{verbatim}\nCompute the natural base exponential of \\texttt{x}, in other words $e^x$.\n\n\\section{Examples}\n\\begin{verbatim}\njulia> exp(1.0)\n2.718281828459045\n\\end{verbatim}\n\\rule{\\textwidth}{1pt}\n\\begin{verbatim}\nexp(A::AbstractMatrix)\n\\end{verbatim}\nCompute the matrix exponential of \\texttt{A}, defined by\n\n$$e^A = \\sum_{n=0}^{\\infty} \\frac{A^n}{n!}.$$\nFor symmetric or Hermitian \\texttt{A}, an eigendecomposition (\\href{@ref}{\\texttt{eigen}}) is used, otherwise the scaling and squaring algorithm (see \\footnotemark[H05]) is chosen.\n\n\\footnotetext[H05]{Nicholas J. Higham, \"The squaring and scaling method for the matrix exponential revisited\", SIAM Journal on Matrix Analysis and Applications, 26(4), 2005, 1179-1193. \\href{https://doi.org/10.1137/090768539}{doi:10.1137/090768539}\n\n}\n\\section{Examples}\n\\begin{verbatim}\njulia> A = Matrix(1.0I, 2, 2)\n2×2 Array{Float64,2}:\n 1.0  0.0\n 0.0  1.0\n\njulia> exp(A)\n2×2 Array{Float64,2}:\n 2.71828  0.0\n 0.0      2.71828\n\\end{verbatim}\n"
     },
     "metadata": {},
     "execution_count": 81
    }
   ],
   "source": [
    "?exp"
   ]
  },
  {
   "cell_type": "code",
   "execution_count": 82,
   "metadata": {},
   "outputs": [
    {
     "output_type": "stream",
     "name": "stdout",
     "text": [
      "search: \u001b[0m\u001b[1me\u001b[22m\u001b[0m\u001b[1mx\u001b[22m\u001b[0m\u001b[1mp\u001b[22m\u001b[0m\u001b[1mm\u001b[22m\u001b[0m\u001b[1m1\u001b[22m\n\n"
     ]
    },
    {
     "output_type": "execute_result",
     "data": {
      "text/plain": [
       "\u001b[36m  expm1(x)\u001b[39m\n",
       "\n",
       "  Accurately compute \u001b[35me^x-1\u001b[39m."
      ],
      "text/markdown": "```\nexpm1(x)\n```\n\nAccurately compute $e^x-1$.\n",
      "text/latex": "\\begin{verbatim}\nexpm1(x)\n\\end{verbatim}\nAccurately compute $e^x-1$.\n\n"
     },
     "metadata": {},
     "execution_count": 82
    }
   ],
   "source": [
    "?expm1"
   ]
  },
  {
   "cell_type": "code",
   "execution_count": 83,
   "metadata": {},
   "outputs": [
    {
     "output_type": "stream",
     "name": "stdout",
     "text": [
      "search: \u001b[0m\u001b[1ml\u001b[22m\u001b[0m\u001b[1md\u001b[22m\u001b[0m\u001b[1me\u001b[22m\u001b[0m\u001b[1mx\u001b[22m\u001b[0m\u001b[1mp\u001b[22m TaskFai\u001b[0m\u001b[1ml\u001b[22me\u001b[0m\u001b[1md\u001b[22m\u001b[0m\u001b[1mE\u001b[22m\u001b[0m\u001b[1mx\u001b[22mce\u001b[0m\u001b[1mp\u001b[22mtion ProcessFai\u001b[0m\u001b[1ml\u001b[22me\u001b[0m\u001b[1md\u001b[22m\u001b[0m\u001b[1mE\u001b[22m\u001b[0m\u001b[1mx\u001b[22mce\u001b[0m\u001b[1mp\u001b[22mtion Inva\u001b[0m\u001b[1ml\u001b[22mi\u001b[0m\u001b[1md\u001b[22mStat\u001b[0m\u001b[1me\u001b[22mE\u001b[0m\u001b[1mx\u001b[22mce\u001b[0m\u001b[1mp\u001b[22mtion\n\n"
     ]
    },
    {
     "output_type": "execute_result",
     "data": {
      "text/plain": [
       "\u001b[36m  ldexp(x, n)\u001b[39m\n",
       "\n",
       "  Compute \u001b[35mx \\times 2^n\u001b[39m.\n",
       "\n",
       "\u001b[1m  Examples\u001b[22m\n",
       "\u001b[1m  ≡≡≡≡≡≡≡≡≡≡\u001b[22m\n",
       "\n",
       "\u001b[36m  julia> ldexp(5., 2)\u001b[39m\n",
       "\u001b[36m  20.0\u001b[39m"
      ],
      "text/markdown": "```\nldexp(x, n)\n```\n\nCompute $x \\times 2^n$.\n\n# Examples\n\n```jldoctest\njulia> ldexp(5., 2)\n20.0\n```\n",
      "text/latex": "\\begin{verbatim}\nldexp(x, n)\n\\end{verbatim}\nCompute $x \\times 2^n$.\n\n\\section{Examples}\n\\begin{verbatim}\njulia> ldexp(5., 2)\n20.0\n\\end{verbatim}\n"
     },
     "metadata": {},
     "execution_count": 83
    }
   ],
   "source": [
    "?ldexp"
   ]
  },
  {
   "cell_type": "code",
   "execution_count": 84,
   "metadata": {},
   "outputs": [
    {
     "output_type": "stream",
     "name": "stdout",
     "text": [
      "search: \u001b[0m\u001b[1ml\u001b[22m\u001b[0m\u001b[1mo\u001b[22m\u001b[0m\u001b[1mg\u001b[22m \u001b[0m\u001b[1ml\u001b[22m\u001b[0m\u001b[1mo\u001b[22m\u001b[0m\u001b[1mg\u001b[22m2 \u001b[0m\u001b[1ml\u001b[22m\u001b[0m\u001b[1mo\u001b[22m\u001b[0m\u001b[1mg\u001b[22m1p \u001b[0m\u001b[1ml\u001b[22m\u001b[0m\u001b[1mo\u001b[22m\u001b[0m\u001b[1mg\u001b[22m10 C\u001b[0m\u001b[1ml\u001b[22m\u001b[0m\u001b[1mo\u001b[22mn\u001b[0m\u001b[1mg\u001b[22m C\u001b[0m\u001b[1ml\u001b[22m\u001b[0m\u001b[1mo\u001b[22mn\u001b[0m\u001b[1mg\u001b[22mlong Cu\u001b[0m\u001b[1ml\u001b[22m\u001b[0m\u001b[1mo\u001b[22mn\u001b[0m\u001b[1mg\u001b[22m Cu\u001b[0m\u001b[1ml\u001b[22m\u001b[0m\u001b[1mo\u001b[22mn\u001b[0m\u001b[1mg\u001b[22mlong\n\n"
     ]
    },
    {
     "output_type": "execute_result",
     "data": {
      "text/plain": [
       "\u001b[36m  log(b,x)\u001b[39m\n",
       "\n",
       "  Compute the base \u001b[36mb\u001b[39m logarithm of \u001b[36mx\u001b[39m. Throws \u001b[36mDomainError\u001b[39m for negative \u001b[36mReal\u001b[39m\n",
       "  arguments.\n",
       "\n",
       "\u001b[1m  Examples\u001b[22m\n",
       "\u001b[1m  ≡≡≡≡≡≡≡≡≡≡\u001b[22m\n",
       "\n",
       "\u001b[36m  julia> log(4,8)\u001b[39m\n",
       "\u001b[36m  1.5\u001b[39m\n",
       "\u001b[36m  \u001b[39m\n",
       "\u001b[36m  julia> log(4,2)\u001b[39m\n",
       "\u001b[36m  0.5\u001b[39m\n",
       "\u001b[36m  \u001b[39m\n",
       "\u001b[36m  julia> log(-2, 3)\u001b[39m\n",
       "\u001b[36m  ERROR: DomainError with -2.0:\u001b[39m\n",
       "\u001b[36m  log will only return a complex result if called with a complex argument. Try log(Complex(x)).\u001b[39m\n",
       "\u001b[36m  Stacktrace:\u001b[39m\n",
       "\u001b[36m   [1] throw_complex_domainerror(::Symbol, ::Float64) at ./math.jl:31\u001b[39m\n",
       "\u001b[36m  [...]\u001b[39m\n",
       "\u001b[36m  \u001b[39m\n",
       "\u001b[36m  julia> log(2, -3)\u001b[39m\n",
       "\u001b[36m  ERROR: DomainError with -3.0:\u001b[39m\n",
       "\u001b[36m  log will only return a complex result if called with a complex argument. Try log(Complex(x)).\u001b[39m\n",
       "\u001b[36m  Stacktrace:\u001b[39m\n",
       "\u001b[36m   [1] throw_complex_domainerror(::Symbol, ::Float64) at ./math.jl:31\u001b[39m\n",
       "\u001b[36m  [...]\u001b[39m\n",
       "\n",
       "\u001b[36m\u001b[1m  │ \u001b[22m\u001b[39m\u001b[36m\u001b[1mNote\u001b[22m\u001b[39m\n",
       "\u001b[36m\u001b[1m  │\u001b[22m\u001b[39m\n",
       "\u001b[36m\u001b[1m  │\u001b[22m\u001b[39m  If \u001b[36mb\u001b[39m is a power of 2 or 10, \u001b[36mlog2\u001b[39m or \u001b[36mlog10\u001b[39m should be used, as these\n",
       "\u001b[36m\u001b[1m  │\u001b[22m\u001b[39m  will typically be faster and more accurate. For example,\n",
       "\u001b[36m\u001b[1m  │\u001b[22m\u001b[39m\n",
       "\u001b[36m\u001b[1m  │\u001b[22m\u001b[39m\u001b[36m  julia> log(100,1000000)\u001b[39m\n",
       "\u001b[36m\u001b[1m  │\u001b[22m\u001b[39m\u001b[36m  2.9999999999999996\u001b[39m\n",
       "\u001b[36m\u001b[1m  │\u001b[22m\u001b[39m\u001b[36m  \u001b[39m\n",
       "\u001b[36m\u001b[1m  │\u001b[22m\u001b[39m\u001b[36m  julia> log10(1000000)/2\u001b[39m\n",
       "\u001b[36m\u001b[1m  │\u001b[22m\u001b[39m\u001b[36m  3.0\u001b[39m\n",
       "\n",
       "  ────────────────────────────────────────────────────────────────────────────\n",
       "\n",
       "\u001b[36m  log(x)\u001b[39m\n",
       "\n",
       "  Compute the natural logarithm of \u001b[36mx\u001b[39m. Throws \u001b[36mDomainError\u001b[39m for negative \u001b[36mReal\u001b[39m\n",
       "  arguments. Use complex negative arguments to obtain complex results.\n",
       "\n",
       "\u001b[1m  Examples\u001b[22m\n",
       "\u001b[1m  ≡≡≡≡≡≡≡≡≡≡\u001b[22m\n",
       "\n",
       "\u001b[36m  julia> log(2)\u001b[39m\n",
       "\u001b[36m  0.6931471805599453\u001b[39m\n",
       "\u001b[36m  \u001b[39m\n",
       "\u001b[36m  julia> log(-3)\u001b[39m\n",
       "\u001b[36m  ERROR: DomainError with -3.0:\u001b[39m\n",
       "\u001b[36m  log will only return a complex result if called with a complex argument. Try log(Complex(x)).\u001b[39m\n",
       "\u001b[36m  Stacktrace:\u001b[39m\n",
       "\u001b[36m   [1] throw_complex_domainerror(::Symbol, ::Float64) at ./math.jl:31\u001b[39m\n",
       "\u001b[36m  [...]\u001b[39m\n",
       "\n",
       "  ────────────────────────────────────────────────────────────────────────────\n",
       "\n",
       "\u001b[36m  log(A{T}::StridedMatrix{T})\u001b[39m\n",
       "\n",
       "  If \u001b[36mA\u001b[39m has no negative real eigenvalue, compute the principal matrix logarithm\n",
       "  of \u001b[36mA\u001b[39m, i.e. the unique matrix \u001b[35mX\u001b[39m such that \u001b[35me^X = A\u001b[39m and \u001b[35m-\\pi < Im(\\lambda) <\n",
       "  \\pi\u001b[39m for all the eigenvalues \u001b[35m\\lambda\u001b[39m of \u001b[35mX\u001b[39m. If \u001b[36mA\u001b[39m has nonpositive eigenvalues,\n",
       "  a nonprincipal matrix function is returned whenever possible.\n",
       "\n",
       "  If \u001b[36mA\u001b[39m is symmetric or Hermitian, its eigendecomposition (\u001b[36meigen\u001b[39m) is used, if \u001b[36mA\u001b[39m\n",
       "  is triangular an improved version of the inverse scaling and squaring method\n",
       "  is employed (see \u001b[1m[^AH12]\u001b[22m and \u001b[1m[^AHR13]\u001b[22m). For general matrices, the complex\n",
       "  Schur form (\u001b[36mschur\u001b[39m) is computed and the triangular algorithm is used on the\n",
       "  triangular factor.\n",
       "\n",
       "  │ \u001b[0m\u001b[1m[^AH12]\u001b[22m\n",
       "  │\n",
       "  │  Awad H. Al-Mohy and Nicholas J. Higham, \"Improved inverse scaling\n",
       "  │  and squaring algorithms for the matrix logarithm\", SIAM Journal on\n",
       "  │  Scientific Computing, 34(4), 2012, C153-C169.\n",
       "  │  doi:10.1137/110852553 (https://doi.org/10.1137/110852553)\n",
       "\n",
       "  │ \u001b[0m\u001b[1m[^AHR13]\u001b[22m\n",
       "  │\n",
       "  │  Awad H. Al-Mohy, Nicholas J. Higham and Samuel D. Relton,\n",
       "  │  \"Computing the Fréchet derivative of the matrix logarithm and\n",
       "  │  estimating the condition number\", SIAM Journal on Scientific\n",
       "  │  Computing, 35(4), 2013, C394-C410. doi:10.1137/120885991\n",
       "  │  (https://doi.org/10.1137/120885991)\n",
       "\n",
       "\u001b[1m  Examples\u001b[22m\n",
       "\u001b[1m  ≡≡≡≡≡≡≡≡≡≡\u001b[22m\n",
       "\n",
       "\u001b[36m  julia> A = Matrix(2.7182818*I, 2, 2)\u001b[39m\n",
       "\u001b[36m  2×2 Array{Float64,2}:\u001b[39m\n",
       "\u001b[36m   2.71828  0.0\u001b[39m\n",
       "\u001b[36m   0.0      2.71828\u001b[39m\n",
       "\u001b[36m  \u001b[39m\n",
       "\u001b[36m  julia> log(A)\u001b[39m\n",
       "\u001b[36m  2×2 Array{Float64,2}:\u001b[39m\n",
       "\u001b[36m   1.0  0.0\u001b[39m\n",
       "\u001b[36m   0.0  1.0\u001b[39m"
      ],
      "text/markdown": "```\nlog(b,x)\n```\n\nCompute the base `b` logarithm of `x`. Throws [`DomainError`](@ref) for negative [`Real`](@ref) arguments.\n\n# Examples\n\n```jldoctest; filter = r\"Stacktrace:(\\n \\[[0-9]+\\].*)*\"\njulia> log(4,8)\n1.5\n\njulia> log(4,2)\n0.5\n\njulia> log(-2, 3)\nERROR: DomainError with -2.0:\nlog will only return a complex result if called with a complex argument. Try log(Complex(x)).\nStacktrace:\n [1] throw_complex_domainerror(::Symbol, ::Float64) at ./math.jl:31\n[...]\n\njulia> log(2, -3)\nERROR: DomainError with -3.0:\nlog will only return a complex result if called with a complex argument. Try log(Complex(x)).\nStacktrace:\n [1] throw_complex_domainerror(::Symbol, ::Float64) at ./math.jl:31\n[...]\n```\n\n!!! note\n    If `b` is a power of 2 or 10, [`log2`](@ref) or [`log10`](@ref) should be used, as these will typically be faster and more accurate. For example,\n\n    ```jldoctest\n    julia> log(100,1000000)\n    2.9999999999999996\n\n    julia> log10(1000000)/2\n    3.0\n    ```\n\n\n---\n\n```\nlog(x)\n```\n\nCompute the natural logarithm of `x`. Throws [`DomainError`](@ref) for negative [`Real`](@ref) arguments. Use complex negative arguments to obtain complex results.\n\n# Examples\n\n```jldoctest; filter = r\"Stacktrace:(\\n \\[[0-9]+\\].*)*\"\njulia> log(2)\n0.6931471805599453\n\njulia> log(-3)\nERROR: DomainError with -3.0:\nlog will only return a complex result if called with a complex argument. Try log(Complex(x)).\nStacktrace:\n [1] throw_complex_domainerror(::Symbol, ::Float64) at ./math.jl:31\n[...]\n```\n\n---\n\n```\nlog(A{T}::StridedMatrix{T})\n```\n\nIf `A` has no negative real eigenvalue, compute the principal matrix logarithm of `A`, i.e. the unique matrix $X$ such that $e^X = A$ and $-\\pi < Im(\\lambda) < \\pi$ for all the eigenvalues $\\lambda$ of $X$. If `A` has nonpositive eigenvalues, a nonprincipal matrix function is returned whenever possible.\n\nIf `A` is symmetric or Hermitian, its eigendecomposition ([`eigen`](@ref)) is used, if `A` is triangular an improved version of the inverse scaling and squaring method is employed (see [^AH12] and [^AHR13]). For general matrices, the complex Schur form ([`schur`](@ref)) is computed and the triangular algorithm is used on the triangular factor.\n\n[^AH12]: Awad H. Al-Mohy and Nicholas J. Higham, \"Improved inverse  scaling and squaring algorithms for the matrix logarithm\", SIAM Journal on Scientific Computing, 34(4), 2012, C153-C169. [doi:10.1137/110852553](https://doi.org/10.1137/110852553)\n\n[^AHR13]: Awad H. Al-Mohy, Nicholas J. Higham and Samuel D. Relton, \"Computing the Fréchet derivative of the matrix logarithm and estimating the condition number\", SIAM Journal on Scientific Computing, 35(4), 2013, C394-C410. [doi:10.1137/120885991](https://doi.org/10.1137/120885991)\n\n# Examples\n\n```jldoctest\njulia> A = Matrix(2.7182818*I, 2, 2)\n2×2 Array{Float64,2}:\n 2.71828  0.0\n 0.0      2.71828\n\njulia> log(A)\n2×2 Array{Float64,2}:\n 1.0  0.0\n 0.0  1.0\n```\n",
      "text/latex": "\\begin{verbatim}\nlog(b,x)\n\\end{verbatim}\nCompute the base \\texttt{b} logarithm of \\texttt{x}. Throws \\href{@ref}{\\texttt{DomainError}} for negative \\href{@ref}{\\texttt{Real}} arguments.\n\n\\section{Examples}\n\\begin{verbatim}\njulia> log(4,8)\n1.5\n\njulia> log(4,2)\n0.5\n\njulia> log(-2, 3)\nERROR: DomainError with -2.0:\nlog will only return a complex result if called with a complex argument. Try log(Complex(x)).\nStacktrace:\n [1] throw_complex_domainerror(::Symbol, ::Float64) at ./math.jl:31\n[...]\n\njulia> log(2, -3)\nERROR: DomainError with -3.0:\nlog will only return a complex result if called with a complex argument. Try log(Complex(x)).\nStacktrace:\n [1] throw_complex_domainerror(::Symbol, ::Float64) at ./math.jl:31\n[...]\n\\end{verbatim}\n\\begin{quote}\n\\textbf{note}\n\nNote\n\nIf \\texttt{b} is a power of 2 or 10, \\href{@ref}{\\texttt{log2}} or \\href{@ref}{\\texttt{log10}} should be used, as these will typically be faster and more accurate. For example,\n\n\\begin{verbatim}\njulia> log(100,1000000)\n2.9999999999999996\n\njulia> log10(1000000)/2\n3.0\n\\end{verbatim}\n\\end{quote}\n\\rule{\\textwidth}{1pt}\n\\begin{verbatim}\nlog(x)\n\\end{verbatim}\nCompute the natural logarithm of \\texttt{x}. Throws \\href{@ref}{\\texttt{DomainError}} for negative \\href{@ref}{\\texttt{Real}} arguments. Use complex negative arguments to obtain complex results.\n\n\\section{Examples}\n\\begin{verbatim}\njulia> log(2)\n0.6931471805599453\n\njulia> log(-3)\nERROR: DomainError with -3.0:\nlog will only return a complex result if called with a complex argument. Try log(Complex(x)).\nStacktrace:\n [1] throw_complex_domainerror(::Symbol, ::Float64) at ./math.jl:31\n[...]\n\\end{verbatim}\n\\rule{\\textwidth}{1pt}\n\\begin{verbatim}\nlog(A{T}::StridedMatrix{T})\n\\end{verbatim}\nIf \\texttt{A} has no negative real eigenvalue, compute the principal matrix logarithm of \\texttt{A}, i.e. the unique matrix $X$ such that $e^X = A$ and $-\\pi < Im(\\lambda) < \\pi$ for all the eigenvalues $\\lambda$ of $X$. If \\texttt{A} has nonpositive eigenvalues, a nonprincipal matrix function is returned whenever possible.\n\nIf \\texttt{A} is symmetric or Hermitian, its eigendecomposition (\\href{@ref}{\\texttt{eigen}}) is used, if \\texttt{A} is triangular an improved version of the inverse scaling and squaring method is employed (see \\footnotemark[AH12] and \\footnotemark[AHR13]). For general matrices, the complex Schur form (\\href{@ref}{\\texttt{schur}}) is computed and the triangular algorithm is used on the triangular factor.\n\n\\footnotetext[AH12]{Awad H. Al-Mohy and Nicholas J. Higham, \"Improved inverse  scaling and squaring algorithms for the matrix logarithm\", SIAM Journal on Scientific Computing, 34(4), 2012, C153-C169. \\href{https://doi.org/10.1137/110852553}{doi:10.1137/110852553}\n\n}\n\\footnotetext[AHR13]{Awad H. Al-Mohy, Nicholas J. Higham and Samuel D. Relton, \"Computing the Fréchet derivative of the matrix logarithm and estimating the condition number\", SIAM Journal on Scientific Computing, 35(4), 2013, C394-C410. \\href{https://doi.org/10.1137/120885991}{doi:10.1137/120885991}\n\n}\n\\section{Examples}\n\\begin{verbatim}\njulia> A = Matrix(2.7182818*I, 2, 2)\n2×2 Array{Float64,2}:\n 2.71828  0.0\n 0.0      2.71828\n\njulia> log(A)\n2×2 Array{Float64,2}:\n 1.0  0.0\n 0.0  1.0\n\\end{verbatim}\n"
     },
     "metadata": {},
     "execution_count": 84
    }
   ],
   "source": [
    "?log"
   ]
  },
  {
   "cell_type": "code",
   "execution_count": 86,
   "metadata": {},
   "outputs": [
    {
     "output_type": "stream",
     "name": "stdout",
     "text": [
      "search: \u001b[0m\u001b[1ml\u001b[22m\u001b[0m\u001b[1mo\u001b[22m\u001b[0m\u001b[1mg\u001b[22m\u001b[0m\u001b[1m2\u001b[22m \u001b[0m\u001b[1ml\u001b[22m\u001b[0m\u001b[1mo\u001b[22m\u001b[0m\u001b[1mg\u001b[22m \u001b[0m\u001b[1ml\u001b[22m\u001b[0m\u001b[1mo\u001b[22m\u001b[0m\u001b[1mg\u001b[22m1p \u001b[0m\u001b[1ml\u001b[22m\u001b[0m\u001b[1mo\u001b[22m\u001b[0m\u001b[1mg\u001b[22m10 C\u001b[0m\u001b[1ml\u001b[22m\u001b[0m\u001b[1mo\u001b[22mn\u001b[0m\u001b[1mg\u001b[22m C\u001b[0m\u001b[1ml\u001b[22m\u001b[0m\u001b[1mo\u001b[22mn\u001b[0m\u001b[1mg\u001b[22mlong Cu\u001b[0m\u001b[1ml\u001b[22m\u001b[0m\u001b[1mo\u001b[22mn\u001b[0m\u001b[1mg\u001b[22m Cu\u001b[0m\u001b[1ml\u001b[22m\u001b[0m\u001b[1mo\u001b[22mn\u001b[0m\u001b[1mg\u001b[22mlong\n\n"
     ]
    },
    {
     "output_type": "execute_result",
     "data": {
      "text/plain": [
       "\u001b[36m  log2(x)\u001b[39m\n",
       "\n",
       "  Compute the logarithm of \u001b[36mx\u001b[39m to base 2. Throws \u001b[36mDomainError\u001b[39m for negative \u001b[36mReal\u001b[39m\n",
       "  arguments.\n",
       "\n",
       "\u001b[1m  Examples\u001b[22m\n",
       "\u001b[1m  ≡≡≡≡≡≡≡≡≡≡\u001b[22m\n",
       "\n",
       "\u001b[36m  julia> log2(4)\u001b[39m\n",
       "\u001b[36m  2.0\u001b[39m\n",
       "\u001b[36m  \u001b[39m\n",
       "\u001b[36m  julia> log2(10)\u001b[39m\n",
       "\u001b[36m  3.321928094887362\u001b[39m\n",
       "\u001b[36m  \u001b[39m\n",
       "\u001b[36m  julia> log2(-2)\u001b[39m\n",
       "\u001b[36m  ERROR: DomainError with -2.0:\u001b[39m\n",
       "\u001b[36m  NaN result for non-NaN input.\u001b[39m\n",
       "\u001b[36m  Stacktrace:\u001b[39m\n",
       "\u001b[36m   [1] nan_dom_err at ./math.jl:325 [inlined]\u001b[39m\n",
       "\u001b[36m  [...]\u001b[39m"
      ],
      "text/markdown": "```\nlog2(x)\n```\n\nCompute the logarithm of `x` to base 2. Throws [`DomainError`](@ref) for negative [`Real`](@ref) arguments.\n\n# Examples\n\n```jldoctest; filter = r\"Stacktrace:(\\n \\[[0-9]+\\].*)*\"\njulia> log2(4)\n2.0\n\njulia> log2(10)\n3.321928094887362\n\njulia> log2(-2)\nERROR: DomainError with -2.0:\nNaN result for non-NaN input.\nStacktrace:\n [1] nan_dom_err at ./math.jl:325 [inlined]\n[...]\n```\n",
      "text/latex": "\\begin{verbatim}\nlog2(x)\n\\end{verbatim}\nCompute the logarithm of \\texttt{x} to base 2. Throws \\href{@ref}{\\texttt{DomainError}} for negative \\href{@ref}{\\texttt{Real}} arguments.\n\n\\section{Examples}\n\\begin{verbatim}\njulia> log2(4)\n2.0\n\njulia> log2(10)\n3.321928094887362\n\njulia> log2(-2)\nERROR: DomainError with -2.0:\nNaN result for non-NaN input.\nStacktrace:\n [1] nan_dom_err at ./math.jl:325 [inlined]\n[...]\n\\end{verbatim}\n"
     },
     "metadata": {},
     "execution_count": 86
    }
   ],
   "source": [
    "?log2"
   ]
  },
  {
   "cell_type": "code",
   "execution_count": 87,
   "metadata": {},
   "outputs": [
    {
     "output_type": "stream",
     "name": "stdout",
     "text": [
      "search: \u001b[0m\u001b[1ml\u001b[22m\u001b[0m\u001b[1mo\u001b[22m\u001b[0m\u001b[1mg\u001b[22m\u001b[0m\u001b[1m1\u001b[22m\u001b[0m\u001b[1m0\u001b[22m \u001b[0m\u001b[1ml\u001b[22m\u001b[0m\u001b[1mo\u001b[22m\u001b[0m\u001b[1mg\u001b[22m\u001b[0m\u001b[1m1\u001b[22mp\n\n"
     ]
    },
    {
     "output_type": "execute_result",
     "data": {
      "text/plain": [
       "\u001b[36m  log10(x)\u001b[39m\n",
       "\n",
       "  Compute the logarithm of \u001b[36mx\u001b[39m to base 10. Throws \u001b[36mDomainError\u001b[39m for negative \u001b[36mReal\u001b[39m\n",
       "  arguments.\n",
       "\n",
       "\u001b[1m  Examples\u001b[22m\n",
       "\u001b[1m  ≡≡≡≡≡≡≡≡≡≡\u001b[22m\n",
       "\n",
       "\u001b[36m  julia> log10(100)\u001b[39m\n",
       "\u001b[36m  2.0\u001b[39m\n",
       "\u001b[36m  \u001b[39m\n",
       "\u001b[36m  julia> log10(2)\u001b[39m\n",
       "\u001b[36m  0.3010299956639812\u001b[39m\n",
       "\u001b[36m  \u001b[39m\n",
       "\u001b[36m  julia> log10(-2)\u001b[39m\n",
       "\u001b[36m  ERROR: DomainError with -2.0:\u001b[39m\n",
       "\u001b[36m  NaN result for non-NaN input.\u001b[39m\n",
       "\u001b[36m  Stacktrace:\u001b[39m\n",
       "\u001b[36m   [1] nan_dom_err at ./math.jl:325 [inlined]\u001b[39m\n",
       "\u001b[36m  [...]\u001b[39m"
      ],
      "text/markdown": "```\nlog10(x)\n```\n\nCompute the logarithm of `x` to base 10. Throws [`DomainError`](@ref) for negative [`Real`](@ref) arguments.\n\n# Examples\n\n```jldoctest; filter = r\"Stacktrace:(\\n \\[[0-9]+\\].*)*\"\njulia> log10(100)\n2.0\n\njulia> log10(2)\n0.3010299956639812\n\njulia> log10(-2)\nERROR: DomainError with -2.0:\nNaN result for non-NaN input.\nStacktrace:\n [1] nan_dom_err at ./math.jl:325 [inlined]\n[...]\n```\n",
      "text/latex": "\\begin{verbatim}\nlog10(x)\n\\end{verbatim}\nCompute the logarithm of \\texttt{x} to base 10. Throws \\href{@ref}{\\texttt{DomainError}} for negative \\href{@ref}{\\texttt{Real}} arguments.\n\n\\section{Examples}\n\\begin{verbatim}\njulia> log10(100)\n2.0\n\njulia> log10(2)\n0.3010299956639812\n\njulia> log10(-2)\nERROR: DomainError with -2.0:\nNaN result for non-NaN input.\nStacktrace:\n [1] nan_dom_err at ./math.jl:325 [inlined]\n[...]\n\\end{verbatim}\n"
     },
     "metadata": {},
     "execution_count": 87
    }
   ],
   "source": [
    "?log10"
   ]
  },
  {
   "cell_type": "code",
   "execution_count": 88,
   "metadata": {},
   "outputs": [
    {
     "output_type": "stream",
     "name": "stdout",
     "text": [
      "search: \u001b[0m\u001b[1ml\u001b[22m\u001b[0m\u001b[1mo\u001b[22m\u001b[0m\u001b[1mg\u001b[22m\u001b[0m\u001b[1m1\u001b[22m\u001b[0m\u001b[1mp\u001b[22m \u001b[0m\u001b[1ml\u001b[22m\u001b[0m\u001b[1mo\u001b[22m\u001b[0m\u001b[1mg\u001b[22m\u001b[0m\u001b[1m1\u001b[22m0\n\n"
     ]
    },
    {
     "output_type": "execute_result",
     "data": {
      "text/plain": [
       "\u001b[36m  log1p(x)\u001b[39m\n",
       "\n",
       "  Accurate natural logarithm of \u001b[36m1+x\u001b[39m. Throws \u001b[36mDomainError\u001b[39m for \u001b[36mReal\u001b[39m arguments\n",
       "  less than -1.\n",
       "\n",
       "\u001b[1m  Examples\u001b[22m\n",
       "\u001b[1m  ≡≡≡≡≡≡≡≡≡≡\u001b[22m\n",
       "\n",
       "\u001b[36m  julia> log1p(-0.5)\u001b[39m\n",
       "\u001b[36m  -0.6931471805599453\u001b[39m\n",
       "\u001b[36m  \u001b[39m\n",
       "\u001b[36m  julia> log1p(0)\u001b[39m\n",
       "\u001b[36m  0.0\u001b[39m\n",
       "\u001b[36m  \u001b[39m\n",
       "\u001b[36m  julia> log1p(-2)\u001b[39m\n",
       "\u001b[36m  ERROR: DomainError with -2.0:\u001b[39m\n",
       "\u001b[36m  log1p will only return a complex result if called with a complex argument. Try log1p(Complex(x)).\u001b[39m\n",
       "\u001b[36m  Stacktrace:\u001b[39m\n",
       "\u001b[36m   [1] throw_complex_domainerror(::Symbol, ::Float64) at ./math.jl:31\u001b[39m\n",
       "\u001b[36m  [...]\u001b[39m"
      ],
      "text/markdown": "```\nlog1p(x)\n```\n\nAccurate natural logarithm of `1+x`. Throws [`DomainError`](@ref) for [`Real`](@ref) arguments less than -1.\n\n# Examples\n\n```jldoctest; filter = r\"Stacktrace:(\\n \\[[0-9]+\\].*)*\"\njulia> log1p(-0.5)\n-0.6931471805599453\n\njulia> log1p(0)\n0.0\n\njulia> log1p(-2)\nERROR: DomainError with -2.0:\nlog1p will only return a complex result if called with a complex argument. Try log1p(Complex(x)).\nStacktrace:\n [1] throw_complex_domainerror(::Symbol, ::Float64) at ./math.jl:31\n[...]\n```\n",
      "text/latex": "\\begin{verbatim}\nlog1p(x)\n\\end{verbatim}\nAccurate natural logarithm of \\texttt{1+x}. Throws \\href{@ref}{\\texttt{DomainError}} for \\href{@ref}{\\texttt{Real}} arguments less than -1.\n\n\\section{Examples}\n\\begin{verbatim}\njulia> log1p(-0.5)\n-0.6931471805599453\n\njulia> log1p(0)\n0.0\n\njulia> log1p(-2)\nERROR: DomainError with -2.0:\nlog1p will only return a complex result if called with a complex argument. Try log1p(Complex(x)).\nStacktrace:\n [1] throw_complex_domainerror(::Symbol, ::Float64) at ./math.jl:31\n[...]\n\\end{verbatim}\n"
     },
     "metadata": {},
     "execution_count": 88
    }
   ],
   "source": [
    "?log1p"
   ]
  },
  {
   "cell_type": "code",
   "execution_count": 89,
   "metadata": {},
   "outputs": [
    {
     "output_type": "stream",
     "name": "stdout",
     "text": [
      "search: \u001b[0m\u001b[1me\u001b[22m\u001b[0m\u001b[1mx\u001b[22m\u001b[0m\u001b[1mp\u001b[22m\u001b[0m\u001b[1mo\u001b[22m\u001b[0m\u001b[1mn\u001b[22m\u001b[0m\u001b[1me\u001b[22m\u001b[0m\u001b[1mn\u001b[22m\u001b[0m\u001b[1mt\u001b[22m \u001b[0m\u001b[1mE\u001b[22m\u001b[0m\u001b[1mx\u001b[22m\u001b[0m\u001b[1mp\u001b[22m\u001b[0m\u001b[1mo\u001b[22m\u001b[0m\u001b[1mn\u001b[22m\u001b[0m\u001b[1me\u001b[22m\u001b[0m\u001b[1mn\u001b[22m\u001b[0m\u001b[1mt\u001b[22mialBackOff\n\n"
     ]
    },
    {
     "output_type": "execute_result",
     "data": {
      "text/plain": [
       "\u001b[36m  exponent(x) -> Int\u001b[39m\n",
       "\n",
       "  Get the exponent of a normalized floating-point number."
      ],
      "text/markdown": "```\nexponent(x) -> Int\n```\n\nGet the exponent of a normalized floating-point number.\n",
      "text/latex": "\\begin{verbatim}\nexponent(x) -> Int\n\\end{verbatim}\nGet the exponent of a normalized floating-point number.\n\n"
     },
     "metadata": {},
     "execution_count": 89
    }
   ],
   "source": [
    "?exponent"
   ]
  },
  {
   "cell_type": "code",
   "execution_count": 90,
   "metadata": {},
   "outputs": [
    {
     "output_type": "stream",
     "name": "stdout",
     "text": [
      "search: \u001b[0m\u001b[1ms\u001b[22m\u001b[0m\u001b[1mi\u001b[22m\u001b[0m\u001b[1mg\u001b[22m\u001b[0m\u001b[1mn\u001b[22m\u001b[0m\u001b[1mi\u001b[22m\u001b[0m\u001b[1mf\u001b[22m\u001b[0m\u001b[1mi\u001b[22m\u001b[0m\u001b[1mc\u001b[22m\u001b[0m\u001b[1ma\u001b[22m\u001b[0m\u001b[1mn\u001b[22m\u001b[0m\u001b[1md\u001b[22m\n\n"
     ]
    },
    {
     "output_type": "execute_result",
     "data": {
      "text/plain": [
       "\u001b[36m  significand(x)\u001b[39m\n",
       "\n",
       "  Extract the \u001b[36msignificand(s)\u001b[39m (a.k.a. mantissa), in binary representation, of a\n",
       "  floating-point number. If \u001b[36mx\u001b[39m is a non-zero finite number, then the result\n",
       "  will be a number of the same type on the interval \u001b[35m[1,2)\u001b[39m. Otherwise \u001b[36mx\u001b[39m is\n",
       "  returned.\n",
       "\n",
       "\u001b[1m  Examples\u001b[22m\n",
       "\u001b[1m  ≡≡≡≡≡≡≡≡≡≡\u001b[22m\n",
       "\n",
       "\u001b[36m  julia> significand(15.2)/15.2\u001b[39m\n",
       "\u001b[36m  0.125\u001b[39m\n",
       "\u001b[36m  \u001b[39m\n",
       "\u001b[36m  julia> significand(15.2)*8\u001b[39m\n",
       "\u001b[36m  15.2\u001b[39m"
      ],
      "text/markdown": "```\nsignificand(x)\n```\n\nExtract the `significand(s)` (a.k.a. mantissa), in binary representation, of a floating-point number. If `x` is a non-zero finite number, then the result will be a number of the same type on the interval $[1,2)$. Otherwise `x` is returned.\n\n# Examples\n\n```jldoctest\njulia> significand(15.2)/15.2\n0.125\n\njulia> significand(15.2)*8\n15.2\n```\n",
      "text/latex": "\\begin{verbatim}\nsignificand(x)\n\\end{verbatim}\nExtract the \\texttt{significand(s)} (a.k.a. mantissa), in binary representation, of a floating-point number. If \\texttt{x} is a non-zero finite number, then the result will be a number of the same type on the interval $[1,2)$. Otherwise \\texttt{x} is returned.\n\n\\section{Examples}\n\\begin{verbatim}\njulia> significand(15.2)/15.2\n0.125\n\njulia> significand(15.2)*8\n15.2\n\\end{verbatim}\n"
     },
     "metadata": {},
     "execution_count": 90
    }
   ],
   "source": [
    "?significand"
   ]
  },
  {
   "source": [
    "### Trigonometric and hyperbolic functions"
   ],
   "cell_type": "markdown",
   "metadata": {}
  },
  {
   "source": [
    "sin,    cos,    tan,    cot,    sec,    csc,\n",
    "sinh,   cosh,   tanh,   coth,   sech,   csch,\n",
    "asin,   acos,   atan,   acot,   asec,   acsc,\n",
    "asinh,  acosh,  atanh,  acoth,  asech,  acsch,\n",
    "sinc,   cosc.\n",
    "\n",
    "These are all single-argument functions, with atan also accepting two arguments corresponding to a traditional atan2 function.\n",
    "\n",
    "Additionally, sinpi(x) and cospi(x) are provided for more accurate computations of sin(pi*x) and cos(pi*x) respectively.\n",
    "\n",
    "In order to compute trigonometric functions with degrees instead of radians, suffix the function with d. For example, sind(x) computes the sine of x where x is specified in degrees. The complete list of trigonometric functions with degree variants is:\n",
    "sind,   cosd,   tand,   cotd,   secd,   cscd,\n",
    "asind,  acosd,  atand,  acotd,  asecd,  acscd,"
   ],
   "cell_type": "markdown",
   "metadata": {}
  }
 ]
}
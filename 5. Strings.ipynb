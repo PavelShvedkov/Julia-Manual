{
 "metadata": {
  "language_info": {
   "codemirror_mode": {
    "name": "ipython",
    "version": 3
   },
   "file_extension": ".py",
   "mimetype": "text/x-python",
   "name": "python",
   "nbconvert_exporter": "python",
   "pygments_lexer": "ipython3",
   "version": 3
  },
  "orig_nbformat": 2,
  "kernelspec": {
   "name": "julia-1.4",
   "display_name": "Julia 1.4.1",
   "language": "julia"
  }
 },
 "nbformat": 4,
 "nbformat_minor": 2,
 "cells": [
  {
   "source": [
    "# Strings"
   ],
   "cell_type": "markdown",
   "metadata": {}
  },
  {
   "source": [
    "Strings are finite sequences of characters. Of course, the real trouble comes when one asks what a character is. The characters that English speakers are familiar with are the letters A, B, C, etc., together with numerals and common punctuation symbols. These characters are standardized together with a mapping to integer values between 0 and 127 by the ASCII standard. There are, of course, many other characters used in non-English languages, including variants of the ASCII characters with accents and other modifications, related scripts such as Cyrillic and Greek, and scripts completely unrelated to ASCII and English, including Arabic, Chinese, Hebrew, Hindi, Japanese, and Korean. The Unicode standard tackles the complexities of what exactly a character is, and is generally accepted as the definitive standard addressing this problem. Depending on your needs, you can either ignore these complexities entirely and just pretend that only ASCII characters exist, or you can write code that can handle any of the characters or encodings that one may encounter when handling non-ASCII text. Julia makes dealing with plain ASCII text simple and efficient, and handling Unicode is as simple and efficient as possible. In particular, you can write C-style string code to process ASCII strings, and they will work as expected, both in terms of performance and semantics. If such code encounters non-ASCII text, it will gracefully fail with a clear error message, rather than silently introducing corrupt results. When this happens, modifying the code to handle non-ASCII data is straightforward.\n",
    "\n",
    "There are a few noteworthy high-level features about Julia's strings:\n",
    "\n",
    "    - The built-in concrete type used for strings (and string literals) in Julia is String. This supports the full range of Unicode characters via the UTF-8 encoding. (A transcode function is provided to convert to/from other Unicode encodings.)\n",
    "    - All string types are subtypes of the abstract type AbstractString, and external packages define additional AbstractString subtypes (e.g. for other encodings). If you define a function expecting a string argument, you should declare the type as AbstractString in order to accept any string type.\n",
    "    - Like C and Java, but unlike most dynamic languages, Julia has a first-class type for representing a single character, called AbstractChar. The built-in Char subtype of AbstractChar is a 32-bit primitive type that can represent any Unicode character (and which is based on the UTF-8 encoding).\n",
    "    - As in Java, strings are immutable: the value of an AbstractString object cannot be changed. To construct a different string value, you construct a new string from parts of other strings.\n",
    "    - Conceptually, a string is a partial function from indices to characters: for some index values, no character value is returned, and instead an exception is thrown. This allows for efficient indexing into strings by the byte index of an encoded representation rather than by a character index, which cannot be implemented both efficiently and simply for variable-width encodings of Unicode strings.\n"
   ],
   "cell_type": "markdown",
   "metadata": {}
  },
  {
   "source": [
    "## Characters"
   ],
   "cell_type": "markdown",
   "metadata": {}
  },
  {
   "source": [
    "A Char value represents a single character: it is just a 32-bit primitive type with a special literal representation and appropriate arithmetic behaviors, and which can be converted to a numeric value representing a Unicode code point. (Julia packages may define other subtypes of AbstractChar, e.g. to optimize operations for other text encodings.) Here is how Char values are input and shown:"
   ],
   "cell_type": "markdown",
   "metadata": {}
  },
  {
   "cell_type": "code",
   "execution_count": 1,
   "metadata": {},
   "outputs": [
    {
     "output_type": "execute_result",
     "data": {
      "text/plain": [
       "'x': ASCII/Unicode U+0078 (category Ll: Letter, lowercase)"
      ]
     },
     "metadata": {},
     "execution_count": 1
    }
   ],
   "source": [
    "'x'"
   ]
  },
  {
   "cell_type": "code",
   "execution_count": 2,
   "metadata": {},
   "outputs": [
    {
     "output_type": "execute_result",
     "data": {
      "text/plain": [
       "Char"
      ]
     },
     "metadata": {},
     "execution_count": 2
    }
   ],
   "source": [
    "typeof(ans)"
   ]
  },
  {
   "source": [
    "You can easily convert a Char to its integer value, i.e. code point:"
   ],
   "cell_type": "markdown",
   "metadata": {}
  },
  {
   "cell_type": "code",
   "execution_count": 3,
   "metadata": {},
   "outputs": [
    {
     "output_type": "execute_result",
     "data": {
      "text/plain": [
       "120"
      ]
     },
     "metadata": {},
     "execution_count": 3
    }
   ],
   "source": [
    "Int('x')"
   ]
  },
  {
   "cell_type": "code",
   "execution_count": 4,
   "metadata": {},
   "outputs": [
    {
     "output_type": "execute_result",
     "data": {
      "text/plain": [
       "Int64"
      ]
     },
     "metadata": {},
     "execution_count": 4
    }
   ],
   "source": [
    "typeof(ans)"
   ]
  },
  {
   "cell_type": "code",
   "execution_count": 5,
   "metadata": {},
   "outputs": [
    {
     "output_type": "execute_result",
     "data": {
      "text/plain": [
       "'x': ASCII/Unicode U+0078 (category Ll: Letter, lowercase)"
      ]
     },
     "metadata": {},
     "execution_count": 5
    }
   ],
   "source": [
    "Char(120)"
   ]
  },
  {
   "source": [
    "Not all integer values are valid Unicode code points, but for performance, the Char conversion does not check that every character value is valid. If you want to check that each converted value is a valid code point, use the isvalid function:"
   ],
   "cell_type": "markdown",
   "metadata": {}
  },
  {
   "cell_type": "code",
   "execution_count": 6,
   "metadata": {},
   "outputs": [
    {
     "output_type": "execute_result",
     "data": {
      "text/plain": [
       "'\\U110000': Unicode U+110000 (category In: Invalid, too high)"
      ]
     },
     "metadata": {},
     "execution_count": 6
    }
   ],
   "source": [
    "Char(0x110000)"
   ]
  },
  {
   "cell_type": "code",
   "execution_count": 7,
   "metadata": {},
   "outputs": [
    {
     "output_type": "execute_result",
     "data": {
      "text/plain": [
       "false"
      ]
     },
     "metadata": {},
     "execution_count": 7
    }
   ],
   "source": [
    "isvalid(Char, 0x110000)"
   ]
  },
  {
   "source": [
    "As of this writing, the valid Unicode code points are U+0000 through U+D7FF and U+E000 through U+10FFFF. These have not all been assigned intelligible meanings yet, nor are they necessarily interpretable by applications, but all of these values are considered to be valid Unicode characters.\n",
    "\n",
    "You can input any Unicode character in single quotes using \\u followed by up to four hexadecimal digits or \\U followed by up to eight hexadecimal digits (the longest valid value only requires six):"
   ],
   "cell_type": "markdown",
   "metadata": {}
  },
  {
   "cell_type": "code",
   "execution_count": 8,
   "metadata": {},
   "outputs": [
    {
     "output_type": "execute_result",
     "data": {
      "text/plain": [
       "'\\0': ASCII/Unicode U+0000 (category Cc: Other, control)"
      ]
     },
     "metadata": {},
     "execution_count": 8
    }
   ],
   "source": [
    "'\\u0'"
   ]
  },
  {
   "cell_type": "code",
   "execution_count": 9,
   "metadata": {},
   "outputs": [
    {
     "output_type": "execute_result",
     "data": {
      "text/plain": [
       "'x': ASCII/Unicode U+0078 (category Ll: Letter, lowercase)"
      ]
     },
     "metadata": {},
     "execution_count": 9
    }
   ],
   "source": [
    "'\\u78'"
   ]
  },
  {
   "cell_type": "code",
   "execution_count": 10,
   "metadata": {},
   "outputs": [
    {
     "output_type": "execute_result",
     "data": {
      "text/plain": [
       "'∀': Unicode U+2200 (category Sm: Symbol, math)"
      ]
     },
     "metadata": {},
     "execution_count": 10
    }
   ],
   "source": [
    "'\\u2200'"
   ]
  },
  {
   "cell_type": "code",
   "execution_count": 11,
   "metadata": {},
   "outputs": [
    {
     "output_type": "execute_result",
     "data": {
      "text/plain": [
       "'\\U10ffff': Unicode U+10FFFF (category Cn: Other, not assigned)"
      ]
     },
     "metadata": {},
     "execution_count": 11
    }
   ],
   "source": [
    "'\\U10ffff'"
   ]
  },
  {
   "source": [
    "Julia uses your system's locale and language settings to determine which characters can be printed as-is and which must be output using the generic, escaped \\u or \\U input forms. In addition to these Unicode escape forms, all of C's traditional escaped input forms can also be used:"
   ],
   "cell_type": "markdown",
   "metadata": {}
  },
  {
   "cell_type": "code",
   "execution_count": 12,
   "metadata": {},
   "outputs": [
    {
     "output_type": "execute_result",
     "data": {
      "text/plain": [
       "0"
      ]
     },
     "metadata": {},
     "execution_count": 12
    }
   ],
   "source": [
    "Int('\\0')"
   ]
  },
  {
   "cell_type": "code",
   "execution_count": 13,
   "metadata": {},
   "outputs": [
    {
     "output_type": "execute_result",
     "data": {
      "text/plain": [
       "9"
      ]
     },
     "metadata": {},
     "execution_count": 13
    }
   ],
   "source": [
    "Int('\\t')"
   ]
  },
  {
   "cell_type": "code",
   "execution_count": 14,
   "metadata": {},
   "outputs": [
    {
     "output_type": "execute_result",
     "data": {
      "text/plain": [
       "10"
      ]
     },
     "metadata": {},
     "execution_count": 14
    }
   ],
   "source": [
    "Int('\\n')"
   ]
  },
  {
   "cell_type": "code",
   "execution_count": 15,
   "metadata": {},
   "outputs": [
    {
     "output_type": "execute_result",
     "data": {
      "text/plain": [
       "27"
      ]
     },
     "metadata": {},
     "execution_count": 15
    }
   ],
   "source": [
    "Int('\\e')"
   ]
  },
  {
   "cell_type": "code",
   "execution_count": 16,
   "metadata": {},
   "outputs": [
    {
     "output_type": "execute_result",
     "data": {
      "text/plain": [
       "127"
      ]
     },
     "metadata": {},
     "execution_count": 16
    }
   ],
   "source": [
    "Int('\\x7f')"
   ]
  },
  {
   "cell_type": "code",
   "execution_count": 17,
   "metadata": {},
   "outputs": [
    {
     "output_type": "execute_result",
     "data": {
      "text/plain": [
       "127"
      ]
     },
     "metadata": {},
     "execution_count": 17
    }
   ],
   "source": [
    "Int('\\177')"
   ]
  },
  {
   "source": [
    "You can do comparisons and a limited amount of arithmetic with Char values:"
   ],
   "cell_type": "markdown",
   "metadata": {}
  },
  {
   "cell_type": "code",
   "execution_count": 18,
   "metadata": {},
   "outputs": [
    {
     "output_type": "execute_result",
     "data": {
      "text/plain": [
       "true"
      ]
     },
     "metadata": {},
     "execution_count": 18
    }
   ],
   "source": [
    "'A' < 'a'"
   ]
  },
  {
   "cell_type": "code",
   "execution_count": 19,
   "metadata": {},
   "outputs": [
    {
     "output_type": "execute_result",
     "data": {
      "text/plain": [
       "false"
      ]
     },
     "metadata": {},
     "execution_count": 19
    }
   ],
   "source": [
    "'A' <= 'a' <= 'Z'"
   ]
  },
  {
   "cell_type": "code",
   "execution_count": 20,
   "metadata": {},
   "outputs": [
    {
     "output_type": "execute_result",
     "data": {
      "text/plain": [
       "true"
      ]
     },
     "metadata": {},
     "execution_count": 20
    }
   ],
   "source": [
    "'A' <= 'X' <= 'Z'"
   ]
  },
  {
   "cell_type": "code",
   "execution_count": 21,
   "metadata": {},
   "outputs": [
    {
     "output_type": "execute_result",
     "data": {
      "text/plain": [
       "23"
      ]
     },
     "metadata": {},
     "execution_count": 21
    }
   ],
   "source": [
    "'x' - 'a'"
   ]
  },
  {
   "cell_type": "code",
   "execution_count": 22,
   "metadata": {},
   "outputs": [
    {
     "output_type": "execute_result",
     "data": {
      "text/plain": [
       "'B': ASCII/Unicode U+0042 (category Lu: Letter, uppercase)"
      ]
     },
     "metadata": {},
     "execution_count": 22
    }
   ],
   "source": [
    "'A' + 1"
   ]
  },
  {
   "source": [
    "## String Basics"
   ],
   "cell_type": "markdown",
   "metadata": {}
  },
  {
   "source": [
    "String literals are delimited by double quotes or triple double quotes:"
   ],
   "cell_type": "markdown",
   "metadata": {}
  },
  {
   "cell_type": "code",
   "execution_count": 23,
   "metadata": {},
   "outputs": [
    {
     "output_type": "execute_result",
     "data": {
      "text/plain": [
       "\"Hello, world.\\n\""
      ]
     },
     "metadata": {},
     "execution_count": 23
    }
   ],
   "source": [
    "str = \"Hello, world.\\n\""
   ]
  },
  {
   "cell_type": "code",
   "execution_count": 24,
   "metadata": {},
   "outputs": [
    {
     "output_type": "execute_result",
     "data": {
      "text/plain": [
       "\"Contains \\\"quote\\\" characters\""
      ]
     },
     "metadata": {},
     "execution_count": 24
    }
   ],
   "source": [
    "\"\"\"Contains \"quote\" characters\"\"\""
   ]
  },
  {
   "source": [
    "If you want to extract a character from a string, you index into it:"
   ],
   "cell_type": "markdown",
   "metadata": {}
  },
  {
   "cell_type": "code",
   "execution_count": 25,
   "metadata": {},
   "outputs": [
    {
     "output_type": "execute_result",
     "data": {
      "text/plain": [
       "'H': ASCII/Unicode U+0048 (category Lu: Letter, uppercase)"
      ]
     },
     "metadata": {},
     "execution_count": 25
    }
   ],
   "source": [
    "str[begin]"
   ]
  },
  {
   "cell_type": "code",
   "execution_count": 26,
   "metadata": {},
   "outputs": [
    {
     "output_type": "execute_result",
     "data": {
      "text/plain": [
       "'H': ASCII/Unicode U+0048 (category Lu: Letter, uppercase)"
      ]
     },
     "metadata": {},
     "execution_count": 26
    }
   ],
   "source": [
    "str[1]"
   ]
  },
  {
   "cell_type": "code",
   "execution_count": 27,
   "metadata": {},
   "outputs": [
    {
     "output_type": "execute_result",
     "data": {
      "text/plain": [
       "',': ASCII/Unicode U+002C (category Po: Punctuation, other)"
      ]
     },
     "metadata": {},
     "execution_count": 27
    }
   ],
   "source": [
    "str[6]"
   ]
  },
  {
   "cell_type": "code",
   "execution_count": 28,
   "metadata": {},
   "outputs": [
    {
     "output_type": "execute_result",
     "data": {
      "text/plain": [
       "'\\n': ASCII/Unicode U+000A (category Cc: Other, control)"
      ]
     },
     "metadata": {},
     "execution_count": 28
    }
   ],
   "source": [
    "str[end]"
   ]
  },
  {
   "source": [
    "Many Julia objects, including strings, can be indexed with integers. The index of the first element (the first character of a string) is returned by firstindex(str), and the index of the last element (character) with lastindex(str). The keywords begin and end can be used inside an indexing operation as shorthand for the first and last indices, respectively, along the given dimension. String indexing, like most indexing in Julia, is 1-based: firstindex always returns 1 for any AbstractString. As we will see below, however, lastindex(str) is not in general the same as length(str) for a string, because some Unicode characters can occupy multiple \"code units\".\n",
    "\n",
    "You can perform arithmetic and other operations with end, just like a normal value:"
   ],
   "cell_type": "markdown",
   "metadata": {}
  },
  {
   "cell_type": "code",
   "execution_count": 29,
   "metadata": {},
   "outputs": [
    {
     "output_type": "execute_result",
     "data": {
      "text/plain": [
       "'.': ASCII/Unicode U+002E (category Po: Punctuation, other)"
      ]
     },
     "metadata": {},
     "execution_count": 29
    }
   ],
   "source": [
    "str[end-1]"
   ]
  },
  {
   "cell_type": "code",
   "execution_count": 30,
   "metadata": {},
   "outputs": [
    {
     "output_type": "execute_result",
     "data": {
      "text/plain": [
       "' ': ASCII/Unicode U+0020 (category Zs: Separator, space)"
      ]
     },
     "metadata": {},
     "execution_count": 30
    }
   ],
   "source": [
    "str[end÷2]"
   ]
  },
  {
   "source": [
    "Using an index less than begin (1) or greater than end raises an error:"
   ],
   "cell_type": "markdown",
   "metadata": {}
  },
  {
   "cell_type": "code",
   "execution_count": 31,
   "metadata": {},
   "outputs": [
    {
     "output_type": "error",
     "ename": "BoundsError",
     "evalue": "BoundsError: attempt to access String\n  at index [0]",
     "traceback": [
      "BoundsError: attempt to access String\n  at index [0]",
      "",
      "Stacktrace:",
      " [1] checkbounds at ./strings/basic.jl:194 [inlined]",
      " [2] codeunit at ./strings/string.jl:89 [inlined]",
      " [3] getindex(::String, ::Int64) at ./strings/string.jl:210",
      " [4] top-level scope at In[31]:1"
     ]
    }
   ],
   "source": [
    "str[begin-1]"
   ]
  },
  {
   "cell_type": "code",
   "execution_count": 39,
   "metadata": {},
   "outputs": [
    {
     "output_type": "error",
     "ename": "BoundsError",
     "evalue": "BoundsError: attempt to access String\n  at index [15]",
     "traceback": [
      "BoundsError: attempt to access String\n  at index [15]",
      "",
      "Stacktrace:",
      " [1] checkbounds at ./strings/basic.jl:194 [inlined]",
      " [2] codeunit at ./strings/string.jl:89 [inlined]",
      " [3] getindex(::String, ::Int64) at ./strings/string.jl:210",
      " [4] top-level scope at In[39]:1"
     ]
    }
   ],
   "source": [
    "str[end+1]"
   ]
  },
  {
   "cell_type": "code",
   "execution_count": 40,
   "metadata": {},
   "outputs": [
    {
     "output_type": "error",
     "ename": "LoadError",
     "evalue": "syntax: extra token \"can\" after end of expression",
     "traceback": [
      "syntax: extra token \"can\" after end of expression",
      ""
     ]
    }
   ],
   "source": [
    "You can also extract a substring using range indexing:"
   ]
  },
  {
   "cell_type": "code",
   "execution_count": 41,
   "metadata": {},
   "outputs": [
    {
     "output_type": "execute_result",
     "data": {
      "text/plain": [
       "\"lo, wo\""
      ]
     },
     "metadata": {},
     "execution_count": 41
    }
   ],
   "source": [
    "str[4:9]"
   ]
  },
  {
   "source": [
    "Notice that the expressions str\\[k\\] and str\\[k:k\\] do not give the same result:"
   ],
   "cell_type": "markdown",
   "metadata": {}
  },
  {
   "cell_type": "code",
   "execution_count": 43,
   "metadata": {},
   "outputs": [
    {
     "output_type": "execute_result",
     "data": {
      "text/plain": [
       "',': ASCII/Unicode U+002C (category Po: Punctuation, other)"
      ]
     },
     "metadata": {},
     "execution_count": 43
    }
   ],
   "source": [
    "str[6]"
   ]
  },
  {
   "cell_type": "code",
   "execution_count": 44,
   "metadata": {},
   "outputs": [
    {
     "output_type": "execute_result",
     "data": {
      "text/plain": [
       "\",\""
      ]
     },
     "metadata": {},
     "execution_count": 44
    }
   ],
   "source": [
    "str[6:6]"
   ]
  },
  {
   "source": [
    "The former is a single character value of type Char, while the latter is a string value that happens to contain only a single character. In Julia these are very different things.\n",
    "\n",
    "Range indexing makes a copy of the selected part of the original string. Alternatively, it is possible to create a view into a string using the type SubString, for example:"
   ],
   "cell_type": "markdown",
   "metadata": {}
  },
  {
   "cell_type": "code",
   "execution_count": 45,
   "metadata": {},
   "outputs": [
    {
     "output_type": "execute_result",
     "data": {
      "text/plain": [
       "\"long string\""
      ]
     },
     "metadata": {},
     "execution_count": 45
    }
   ],
   "source": [
    "str = \"long string\""
   ]
  },
  {
   "cell_type": "code",
   "execution_count": 46,
   "metadata": {},
   "outputs": [
    {
     "output_type": "execute_result",
     "data": {
      "text/plain": [
       "\"long\""
      ]
     },
     "metadata": {},
     "execution_count": 46
    }
   ],
   "source": [
    "substr = SubString(str, 1, 4)"
   ]
  },
  {
   "cell_type": "code",
   "execution_count": 47,
   "metadata": {},
   "outputs": [
    {
     "output_type": "execute_result",
     "data": {
      "text/plain": [
       "SubString{String}"
      ]
     },
     "metadata": {},
     "execution_count": 47
    }
   ],
   "source": [
    "typeof(substr)"
   ]
  },
  {
   "source": [
    "Several standard functions like chop, chomp or strip return a SubString."
   ],
   "cell_type": "markdown",
   "metadata": {}
  },
  {
   "source": [
    "## Unicode and UTF-8"
   ],
   "cell_type": "markdown",
   "metadata": {}
  },
  {
   "source": [
    "Julia fully supports Unicode characters and strings. As discussed above, in character literals, Unicode code points can be represented using Unicode \\u and \\U escape sequences, as well as all the standard C escape sequences. These can likewise be used to write string literals:"
   ],
   "cell_type": "markdown",
   "metadata": {}
  },
  {
   "cell_type": "code",
   "execution_count": 48,
   "metadata": {},
   "outputs": [
    {
     "output_type": "execute_result",
     "data": {
      "text/plain": [
       "\"∀ x ∃ y\""
      ]
     },
     "metadata": {},
     "execution_count": 48
    }
   ],
   "source": [
    "s = \"\\u2200 x \\u2203 y\""
   ]
  },
  {
   "source": [
    "Whether these Unicode characters are displayed as escapes or shown as special characters depends on your terminal's locale settings and its support for Unicode. String literals are encoded using the UTF-8 encoding. UTF-8 is a variable-width encoding, meaning that not all characters are encoded in the same number of bytes (\"code units\"). In UTF-8, ASCII characters — i.e. those with code points less than 0x80 (128) – are encoded as they are in ASCII, using a single byte, while code points 0x80 and above are encoded using multiple bytes — up to four per character.\n",
    "\n",
    "String indices in Julia refer to code units (= bytes for UTF-8), the fixed-width building blocks that are used to encode arbitrary characters (code points). This means that not every index into a String is necessarily a valid index for a character. If you index into a string at such an invalid byte index, an error is thrown:"
   ],
   "cell_type": "markdown",
   "metadata": {}
  },
  {
   "cell_type": "code",
   "execution_count": 49,
   "metadata": {},
   "outputs": [
    {
     "output_type": "execute_result",
     "data": {
      "text/plain": [
       "'∀': Unicode U+2200 (category Sm: Symbol, math)"
      ]
     },
     "metadata": {},
     "execution_count": 49
    }
   ],
   "source": [
    "s[1]"
   ]
  },
  {
   "cell_type": "code",
   "execution_count": 50,
   "metadata": {},
   "outputs": [
    {
     "output_type": "error",
     "ename": "StringIndexError",
     "evalue": "StringIndexError(\"∀ x ∃ y\", 2)",
     "traceback": [
      "StringIndexError(\"∀ x ∃ y\", 2)",
      "",
      "Stacktrace:",
      " [1] string_index_err(::String, ::Int64) at ./strings/string.jl:12",
      " [2] getindex_continued(::String, ::Int64, ::UInt32) at ./strings/string.jl:220",
      " [3] getindex(::String, ::Int64) at ./strings/string.jl:213",
      " [4] top-level scope at In[50]:1"
     ]
    }
   ],
   "source": [
    "s[2]"
   ]
  },
  {
   "cell_type": "code",
   "execution_count": 51,
   "metadata": {},
   "outputs": [
    {
     "output_type": "error",
     "ename": "StringIndexError",
     "evalue": "StringIndexError(\"∀ x ∃ y\", 3)",
     "traceback": [
      "StringIndexError(\"∀ x ∃ y\", 3)",
      "",
      "Stacktrace:",
      " [1] string_index_err(::String, ::Int64) at ./strings/string.jl:12",
      " [2] getindex_continued(::String, ::Int64, ::UInt32) at ./strings/string.jl:220",
      " [3] getindex(::String, ::Int64) at ./strings/string.jl:213",
      " [4] top-level scope at In[51]:1"
     ]
    }
   ],
   "source": [
    "s[3]"
   ]
  },
  {
   "cell_type": "code",
   "execution_count": 52,
   "metadata": {},
   "outputs": [
    {
     "output_type": "execute_result",
     "data": {
      "text/plain": [
       "' ': ASCII/Unicode U+0020 (category Zs: Separator, space)"
      ]
     },
     "metadata": {},
     "execution_count": 52
    }
   ],
   "source": [
    "s[4]"
   ]
  },
  {
   "source": [
    "In this case, the character ∀ is a three-byte character, so the indices 2 and 3 are invalid and the next character's index is 4; this next valid index can be computed by nextind(s,1), and the next index after that by nextind(s,4) and so on.\n",
    "\n",
    "Since end is always the last valid index into a collection, end-1 references an invalid byte index if the second-to-last character is multibyte."
   ],
   "cell_type": "markdown",
   "metadata": {}
  },
  {
   "cell_type": "code",
   "execution_count": 57,
   "metadata": {},
   "outputs": [
    {
     "output_type": "stream",
     "name": "stdout",
     "text": [
      "search: \u001b[0m\u001b[1mn\u001b[22m\u001b[0m\u001b[1me\u001b[22m\u001b[0m\u001b[1mx\u001b[22m\u001b[0m\u001b[1mt\u001b[22m\u001b[0m\u001b[1mi\u001b[22m\u001b[0m\u001b[1mn\u001b[22m\u001b[0m\u001b[1md\u001b[22m I\u001b[0m\u001b[1mn\u001b[22md\u001b[0m\u001b[1me\u001b[22m\u001b[0m\u001b[1mx\u001b[22mCar\u001b[0m\u001b[1mt\u001b[22mes\u001b[0m\u001b[1mi\u001b[22ma\u001b[0m\u001b[1mn\u001b[22m Missi\u001b[0m\u001b[1mn\u001b[22mg\u001b[0m\u001b[1mE\u001b[22m\u001b[0m\u001b[1mx\u001b[22mcep\u001b[0m\u001b[1mt\u001b[22m\u001b[0m\u001b[1mi\u001b[22mo\u001b[0m\u001b[1mn\u001b[22m I\u001b[0m\u001b[1mn\u001b[22mt\u001b[0m\u001b[1me\u001b[22mrruptE\u001b[0m\u001b[1mx\u001b[22mcep\u001b[0m\u001b[1mt\u001b[22m\u001b[0m\u001b[1mi\u001b[22mo\u001b[0m\u001b[1mn\u001b[22m\n\n"
     ]
    },
    {
     "output_type": "execute_result",
     "data": {
      "text/plain": [
       "\u001b[36m  nextind(str::AbstractString, i::Integer, n::Integer=1) -> Int\u001b[39m\n",
       "\n",
       "    •    Case \u001b[36mn == 1\u001b[39m\n",
       "      \n",
       "        If \u001b[36mi\u001b[39m is in bounds in \u001b[36ms\u001b[39m return the index of the start of the\n",
       "        character whose encoding starts after index \u001b[36mi\u001b[39m. In other words, if\n",
       "        \u001b[36mi\u001b[39m is the start of a character, return the start of the next\n",
       "        character; if \u001b[36mi\u001b[39m is not the start of a character, move forward\n",
       "        until the start of a character and return that index. If \u001b[36mi\u001b[39m is\n",
       "        equal to \u001b[36m0\u001b[39m return \u001b[36m1\u001b[39m. If \u001b[36mi\u001b[39m is in bounds but greater or equal to\n",
       "        \u001b[36mlastindex(str)\u001b[39m return \u001b[36mncodeunits(str)+1\u001b[39m. Otherwise throw\n",
       "        \u001b[36mBoundsError\u001b[39m.\n",
       "\n",
       "    •    Case \u001b[36mn > 1\u001b[39m\n",
       "      \n",
       "        Behaves like applying \u001b[36mn\u001b[39m times \u001b[36mnextind\u001b[39m for \u001b[36mn==1\u001b[39m. The only\n",
       "        difference is that if \u001b[36mn\u001b[39m is so large that applying \u001b[36mnextind\u001b[39m would\n",
       "        reach \u001b[36mncodeunits(str)+1\u001b[39m then each remaining iteration increases\n",
       "        the returned value by \u001b[36m1\u001b[39m. This means that in this case \u001b[36mnextind\u001b[39m can\n",
       "        return a value greater than \u001b[36mncodeunits(str)+1\u001b[39m.\n",
       "\n",
       "    •    Case \u001b[36mn == 0\u001b[39m\n",
       "      \n",
       "        Return \u001b[36mi\u001b[39m only if \u001b[36mi\u001b[39m is a valid index in \u001b[36ms\u001b[39m or is equal to \u001b[36m0\u001b[39m.\n",
       "        Otherwise \u001b[36mStringIndexError\u001b[39m or \u001b[36mBoundsError\u001b[39m is thrown.\n",
       "\n",
       "\u001b[1m  Examples\u001b[22m\n",
       "\u001b[1m  ≡≡≡≡≡≡≡≡≡≡\u001b[22m\n",
       "\n",
       "\u001b[36m  julia> nextind(\"α\", 0)\u001b[39m\n",
       "\u001b[36m  1\u001b[39m\n",
       "\u001b[36m  \u001b[39m\n",
       "\u001b[36m  julia> nextind(\"α\", 1)\u001b[39m\n",
       "\u001b[36m  3\u001b[39m\n",
       "\u001b[36m  \u001b[39m\n",
       "\u001b[36m  julia> nextind(\"α\", 3)\u001b[39m\n",
       "\u001b[36m  ERROR: BoundsError: attempt to access String\u001b[39m\n",
       "\u001b[36m    at index [3]\u001b[39m\n",
       "\u001b[36m  [...]\u001b[39m\n",
       "\u001b[36m  \u001b[39m\n",
       "\u001b[36m  julia> nextind(\"α\", 0, 2)\u001b[39m\n",
       "\u001b[36m  3\u001b[39m\n",
       "\u001b[36m  \u001b[39m\n",
       "\u001b[36m  julia> nextind(\"α\", 1, 2)\u001b[39m\n",
       "\u001b[36m  4\u001b[39m"
      ],
      "text/markdown": "```\nnextind(str::AbstractString, i::Integer, n::Integer=1) -> Int\n```\n\n  * Case `n == 1`\n\n    If `i` is in bounds in `s` return the index of the start of the character whose encoding starts after index `i`. In other words, if `i` is the start of a character, return the start of the next character; if `i` is not the start of a character, move forward until the start of a character and return that index. If `i` is equal to `0` return `1`. If `i` is in bounds but greater or equal to `lastindex(str)` return `ncodeunits(str)+1`. Otherwise throw `BoundsError`.\n  * Case `n > 1`\n\n    Behaves like applying `n` times `nextind` for `n==1`. The only difference is that if `n` is so large that applying `nextind` would reach `ncodeunits(str)+1` then each remaining iteration increases the returned value by `1`. This means that in this case `nextind` can return a value greater than `ncodeunits(str)+1`.\n  * Case `n == 0`\n\n    Return `i` only if `i` is a valid index in `s` or is equal to `0`. Otherwise `StringIndexError` or `BoundsError` is thrown.\n\n# Examples\n\n```jldoctest\njulia> nextind(\"α\", 0)\n1\n\njulia> nextind(\"α\", 1)\n3\n\njulia> nextind(\"α\", 3)\nERROR: BoundsError: attempt to access String\n  at index [3]\n[...]\n\njulia> nextind(\"α\", 0, 2)\n3\n\njulia> nextind(\"α\", 1, 2)\n4\n```\n",
      "text/latex": "\\begin{verbatim}\nnextind(str::AbstractString, i::Integer, n::Integer=1) -> Int\n\\end{verbatim}\n\\begin{itemize}\n\\item Case \\texttt{n == 1}\n\nIf \\texttt{i} is in bounds in \\texttt{s} return the index of the start of the character whose encoding starts after index \\texttt{i}. In other words, if \\texttt{i} is the start of a character, return the start of the next character; if \\texttt{i} is not the start of a character, move forward until the start of a character and return that index. If \\texttt{i} is equal to \\texttt{0} return \\texttt{1}. If \\texttt{i} is in bounds but greater or equal to \\texttt{lastindex(str)} return \\texttt{ncodeunits(str)+1}. Otherwise throw \\texttt{BoundsError}.\n\n\n\\item Case \\texttt{n > 1}\n\nBehaves like applying \\texttt{n} times \\texttt{nextind} for \\texttt{n==1}. The only difference is that if \\texttt{n} is so large that applying \\texttt{nextind} would reach \\texttt{ncodeunits(str)+1} then each remaining iteration increases the returned value by \\texttt{1}. This means that in this case \\texttt{nextind} can return a value greater than \\texttt{ncodeunits(str)+1}.\n\n\n\\item Case \\texttt{n == 0}\n\nReturn \\texttt{i} only if \\texttt{i} is a valid index in \\texttt{s} or is equal to \\texttt{0}. Otherwise \\texttt{StringIndexError} or \\texttt{BoundsError} is thrown.\n\n\\end{itemize}\n\\section{Examples}\n\\begin{verbatim}\njulia> nextind(\"α\", 0)\n1\n\njulia> nextind(\"α\", 1)\n3\n\njulia> nextind(\"α\", 3)\nERROR: BoundsError: attempt to access String\n  at index [3]\n[...]\n\njulia> nextind(\"α\", 0, 2)\n3\n\njulia> nextind(\"α\", 1, 2)\n4\n\\end{verbatim}\n"
     },
     "metadata": {},
     "execution_count": 57
    }
   ],
   "source": [
    "?nextind"
   ]
  },
  {
   "cell_type": "code",
   "execution_count": 58,
   "metadata": {},
   "outputs": [
    {
     "output_type": "stream",
     "name": "stdout",
     "text": [
      "search: \u001b[0m\u001b[1mp\u001b[22m\u001b[0m\u001b[1mr\u001b[22m\u001b[0m\u001b[1me\u001b[22m\u001b[0m\u001b[1mv\u001b[22m\u001b[0m\u001b[1mi\u001b[22m\u001b[0m\u001b[1mn\u001b[22m\u001b[0m\u001b[1md\u001b[22m\n\n"
     ]
    },
    {
     "output_type": "execute_result",
     "data": {
      "text/plain": [
       "\u001b[36m  prevind(str::AbstractString, i::Integer, n::Integer=1) -> Int\u001b[39m\n",
       "\n",
       "    •    Case \u001b[36mn == 1\u001b[39m\n",
       "      \n",
       "        If \u001b[36mi\u001b[39m is in bounds in \u001b[36ms\u001b[39m return the index of the start of the\n",
       "        character whose encoding starts before index \u001b[36mi\u001b[39m. In other words, if\n",
       "        \u001b[36mi\u001b[39m is the start of a character, return the start of the previous\n",
       "        character; if \u001b[36mi\u001b[39m is not the start of a character, rewind until the\n",
       "        start of a character and return that index. If \u001b[36mi\u001b[39m is equal to \u001b[36m1\u001b[39m\n",
       "        return \u001b[36m0\u001b[39m. If \u001b[36mi\u001b[39m is equal to \u001b[36mncodeunits(str)+1\u001b[39m return\n",
       "        \u001b[36mlastindex(str)\u001b[39m. Otherwise throw \u001b[36mBoundsError\u001b[39m.\n",
       "\n",
       "    •    Case \u001b[36mn > 1\u001b[39m\n",
       "      \n",
       "        Behaves like applying \u001b[36mn\u001b[39m times \u001b[36mprevind\u001b[39m for \u001b[36mn==1\u001b[39m. The only\n",
       "        difference is that if \u001b[36mn\u001b[39m is so large that applying \u001b[36mprevind\u001b[39m would\n",
       "        reach \u001b[36m0\u001b[39m then each remaining iteration decreases the returned value\n",
       "        by \u001b[36m1\u001b[39m. This means that in this case \u001b[36mprevind\u001b[39m can return a negative\n",
       "        value.\n",
       "\n",
       "    •    Case \u001b[36mn == 0\u001b[39m\n",
       "      \n",
       "        Return \u001b[36mi\u001b[39m only if \u001b[36mi\u001b[39m is a valid index in \u001b[36mstr\u001b[39m or is equal to\n",
       "        \u001b[36mncodeunits(str)+1\u001b[39m. Otherwise \u001b[36mStringIndexError\u001b[39m or \u001b[36mBoundsError\u001b[39m is\n",
       "        thrown.\n",
       "\n",
       "\u001b[1m  Examples\u001b[22m\n",
       "\u001b[1m  ≡≡≡≡≡≡≡≡≡≡\u001b[22m\n",
       "\n",
       "\u001b[36m  julia> prevind(\"α\", 3)\u001b[39m\n",
       "\u001b[36m  1\u001b[39m\n",
       "\u001b[36m  \u001b[39m\n",
       "\u001b[36m  julia> prevind(\"α\", 1)\u001b[39m\n",
       "\u001b[36m  0\u001b[39m\n",
       "\u001b[36m  \u001b[39m\n",
       "\u001b[36m  julia> prevind(\"α\", 0)\u001b[39m\n",
       "\u001b[36m  ERROR: BoundsError: attempt to access String\u001b[39m\n",
       "\u001b[36m    at index [0]\u001b[39m\n",
       "\u001b[36m  [...]\u001b[39m\n",
       "\u001b[36m  \u001b[39m\n",
       "\u001b[36m  julia> prevind(\"α\", 2, 2)\u001b[39m\n",
       "\u001b[36m  0\u001b[39m\n",
       "\u001b[36m  \u001b[39m\n",
       "\u001b[36m  julia> prevind(\"α\", 2, 3)\u001b[39m\n",
       "\u001b[36m  -1\u001b[39m"
      ],
      "text/markdown": "```\nprevind(str::AbstractString, i::Integer, n::Integer=1) -> Int\n```\n\n  * Case `n == 1`\n\n    If `i` is in bounds in `s` return the index of the start of the character whose encoding starts before index `i`. In other words, if `i` is the start of a character, return the start of the previous character; if `i` is not the start of a character, rewind until the start of a character and return that index. If `i` is equal to `1` return `0`. If `i` is equal to `ncodeunits(str)+1` return `lastindex(str)`. Otherwise throw `BoundsError`.\n  * Case `n > 1`\n\n    Behaves like applying `n` times `prevind` for `n==1`. The only difference is that if `n` is so large that applying `prevind` would reach `0` then each remaining iteration decreases the returned value by `1`. This means that in this case `prevind` can return a negative value.\n  * Case `n == 0`\n\n    Return `i` only if `i` is a valid index in `str` or is equal to `ncodeunits(str)+1`. Otherwise `StringIndexError` or `BoundsError` is thrown.\n\n# Examples\n\n```jldoctest\njulia> prevind(\"α\", 3)\n1\n\njulia> prevind(\"α\", 1)\n0\n\njulia> prevind(\"α\", 0)\nERROR: BoundsError: attempt to access String\n  at index [0]\n[...]\n\njulia> prevind(\"α\", 2, 2)\n0\n\njulia> prevind(\"α\", 2, 3)\n-1\n```\n",
      "text/latex": "\\begin{verbatim}\nprevind(str::AbstractString, i::Integer, n::Integer=1) -> Int\n\\end{verbatim}\n\\begin{itemize}\n\\item Case \\texttt{n == 1}\n\nIf \\texttt{i} is in bounds in \\texttt{s} return the index of the start of the character whose encoding starts before index \\texttt{i}. In other words, if \\texttt{i} is the start of a character, return the start of the previous character; if \\texttt{i} is not the start of a character, rewind until the start of a character and return that index. If \\texttt{i} is equal to \\texttt{1} return \\texttt{0}. If \\texttt{i} is equal to \\texttt{ncodeunits(str)+1} return \\texttt{lastindex(str)}. Otherwise throw \\texttt{BoundsError}.\n\n\n\\item Case \\texttt{n > 1}\n\nBehaves like applying \\texttt{n} times \\texttt{prevind} for \\texttt{n==1}. The only difference is that if \\texttt{n} is so large that applying \\texttt{prevind} would reach \\texttt{0} then each remaining iteration decreases the returned value by \\texttt{1}. This means that in this case \\texttt{prevind} can return a negative value.\n\n\n\\item Case \\texttt{n == 0}\n\nReturn \\texttt{i} only if \\texttt{i} is a valid index in \\texttt{str} or is equal to \\texttt{ncodeunits(str)+1}. Otherwise \\texttt{StringIndexError} or \\texttt{BoundsError} is thrown.\n\n\\end{itemize}\n\\section{Examples}\n\\begin{verbatim}\njulia> prevind(\"α\", 3)\n1\n\njulia> prevind(\"α\", 1)\n0\n\njulia> prevind(\"α\", 0)\nERROR: BoundsError: attempt to access String\n  at index [0]\n[...]\n\njulia> prevind(\"α\", 2, 2)\n0\n\njulia> prevind(\"α\", 2, 3)\n-1\n\\end{verbatim}\n"
     },
     "metadata": {},
     "execution_count": 58
    }
   ],
   "source": [
    "?prevind"
   ]
  },
  {
   "cell_type": "code",
   "execution_count": 54,
   "metadata": {},
   "outputs": [
    {
     "output_type": "execute_result",
     "data": {
      "text/plain": [
       "' ': ASCII/Unicode U+0020 (category Zs: Separator, space)"
      ]
     },
     "metadata": {},
     "execution_count": 54
    }
   ],
   "source": [
    "s[end-1]"
   ]
  },
  {
   "cell_type": "code",
   "execution_count": 55,
   "metadata": {},
   "outputs": [
    {
     "output_type": "error",
     "ename": "StringIndexError",
     "evalue": "StringIndexError(\"∀ x ∃ y\", 9)",
     "traceback": [
      "StringIndexError(\"∀ x ∃ y\", 9)",
      "",
      "Stacktrace:",
      " [1] string_index_err(::String, ::Int64) at ./strings/string.jl:12",
      " [2] getindex_continued(::String, ::Int64, ::UInt32) at ./strings/string.jl:220",
      " [3] getindex(::String, ::Int64) at ./strings/string.jl:213",
      " [4] top-level scope at In[55]:1"
     ]
    }
   ],
   "source": [
    "s[end-2]"
   ]
  },
  {
   "cell_type": "code",
   "execution_count": 56,
   "metadata": {},
   "outputs": [
    {
     "output_type": "execute_result",
     "data": {
      "text/plain": [
       "'∃': Unicode U+2203 (category Sm: Symbol, math)"
      ]
     },
     "metadata": {},
     "execution_count": 56
    }
   ],
   "source": [
    "s[prevind(s, end, 2)]"
   ]
  },
  {
   "source": [
    "Extraction of a substring using range indexing also expects valid byte indices or an error is thrown:"
   ],
   "cell_type": "markdown",
   "metadata": {}
  },
  {
   "cell_type": "code",
   "execution_count": 59,
   "metadata": {},
   "outputs": [
    {
     "output_type": "execute_result",
     "data": {
      "text/plain": [
       "\"∀\""
      ]
     },
     "metadata": {},
     "execution_count": 59
    }
   ],
   "source": [
    "s[1:1]"
   ]
  },
  {
   "cell_type": "code",
   "execution_count": 60,
   "metadata": {},
   "outputs": [
    {
     "output_type": "error",
     "ename": "StringIndexError",
     "evalue": "StringIndexError(\"∀ x ∃ y\", 2)",
     "traceback": [
      "StringIndexError(\"∀ x ∃ y\", 2)",
      "",
      "Stacktrace:",
      " [1] string_index_err(::String, ::Int64) at ./strings/string.jl:12",
      " [2] getindex(::String, ::UnitRange{Int64}) at ./strings/string.jl:250",
      " [3] top-level scope at In[60]:1"
     ]
    }
   ],
   "source": [
    "s[1:2]"
   ]
  },
  {
   "cell_type": "code",
   "execution_count": 61,
   "metadata": {},
   "outputs": [
    {
     "output_type": "execute_result",
     "data": {
      "text/plain": [
       "\"∀ \""
      ]
     },
     "metadata": {},
     "execution_count": 61
    }
   ],
   "source": [
    "s[1:4]"
   ]
  },
  {
   "source": [
    "Because of variable-length encodings, the number of characters in a string (given by length(s)) is not always the same as the last index. If you iterate through the indices 1 through lastindex(s) and index into s, the sequence of characters returned when errors aren't thrown is the sequence of characters comprising the string s. Thus we have the identity that length(s) <= lastindex(s), since each character in a string must have its own index. The following is an inefficient and verbose way to iterate through the characters of s:"
   ],
   "cell_type": "markdown",
   "metadata": {}
  },
  {
   "cell_type": "code",
   "execution_count": 62,
   "metadata": {},
   "outputs": [
    {
     "output_type": "stream",
     "name": "stdout",
     "text": [
      "∀\n \nx\n \n∃\n \ny\n"
     ]
    }
   ],
   "source": [
    "for i = firstindex(s):lastindex(s)\n",
    "    try\n",
    "        println(s[i])\n",
    "    catch\n",
    "        # ignore the index error\n",
    "    end\n",
    "end"
   ]
  },
  {
   "source": [
    "The blank lines actually have spaces on them. Fortunately, the above awkward idiom is unnecessary for iterating through the characters in a string, since you can just use the string as an iterable object, no exception handling required:"
   ],
   "cell_type": "markdown",
   "metadata": {}
  },
  {
   "cell_type": "code",
   "execution_count": 63,
   "metadata": {},
   "outputs": [
    {
     "output_type": "stream",
     "name": "stdout",
     "text": [
      "∀\n \nx\n \n∃\n \ny\n"
     ]
    }
   ],
   "source": [
    "for c in s\n",
    "     println(c)\n",
    "end"
   ]
  },
  {
   "source": [
    "If you need to obtain valid indices for a string, you can use the nextind and prevind functions to increment/decrement to the next/previous valid index, as mentioned above. You can also use the eachindex function to iterate over the valid character indices:"
   ],
   "cell_type": "markdown",
   "metadata": {}
  },
  {
   "cell_type": "code",
   "execution_count": 64,
   "metadata": {},
   "outputs": [
    {
     "output_type": "execute_result",
     "data": {
      "text/plain": [
       "7-element Array{Int64,1}:\n",
       "  1\n",
       "  4\n",
       "  5\n",
       "  6\n",
       "  7\n",
       " 10\n",
       " 11"
      ]
     },
     "metadata": {},
     "execution_count": 64
    }
   ],
   "source": [
    "collect(eachindex(s))"
   ]
  },
  {
   "source": [
    "To access the raw code units (bytes for UTF-8) of the encoding, you can use the codeunit(s,i) function, where the index i runs consecutively from 1 to ncodeunits(s). The codeunits(s) function returns an AbstractVector{UInt8} wrapper that lets you access these raw codeunits (bytes) as an array."
   ],
   "cell_type": "markdown",
   "metadata": {}
  },
  {
   "cell_type": "code",
   "execution_count": 66,
   "metadata": {},
   "outputs": [
    {
     "output_type": "stream",
     "name": "stdout",
     "text": [
      "search: \u001b[0m\u001b[1mc\u001b[22m\u001b[0m\u001b[1mo\u001b[22m\u001b[0m\u001b[1md\u001b[22m\u001b[0m\u001b[1me\u001b[22m\u001b[0m\u001b[1mu\u001b[22m\u001b[0m\u001b[1mn\u001b[22m\u001b[0m\u001b[1mi\u001b[22m\u001b[0m\u001b[1mt\u001b[22m \u001b[0m\u001b[1mc\u001b[22m\u001b[0m\u001b[1mo\u001b[22m\u001b[0m\u001b[1md\u001b[22m\u001b[0m\u001b[1me\u001b[22m\u001b[0m\u001b[1mu\u001b[22m\u001b[0m\u001b[1mn\u001b[22m\u001b[0m\u001b[1mi\u001b[22m\u001b[0m\u001b[1mt\u001b[22ms n\u001b[0m\u001b[1mc\u001b[22m\u001b[0m\u001b[1mo\u001b[22m\u001b[0m\u001b[1md\u001b[22m\u001b[0m\u001b[1me\u001b[22m\u001b[0m\u001b[1mu\u001b[22m\u001b[0m\u001b[1mn\u001b[22m\u001b[0m\u001b[1mi\u001b[22m\u001b[0m\u001b[1mt\u001b[22ms\n\n"
     ]
    },
    {
     "output_type": "execute_result",
     "data": {
      "text/plain": [
       "\u001b[36m  codeunit(s::AbstractString) -> Type{<:Union{UInt8, UInt16, UInt32}}\u001b[39m\n",
       "\n",
       "  Return the code unit type of the given string object. For ASCII, Latin-1, or\n",
       "  UTF-8 encoded strings, this would be \u001b[36mUInt8\u001b[39m; for UCS-2 and UTF-16 it would be\n",
       "  \u001b[36mUInt16\u001b[39m; for UTF-32 it would be \u001b[36mUInt32\u001b[39m. The unit code type need not be\n",
       "  limited to these three types, but it's hard to think of widely used string\n",
       "  encodings that don't use one of these units. \u001b[36mcodeunit(s)\u001b[39m is the same as\n",
       "  \u001b[36mtypeof(codeunit(s,1))\u001b[39m when \u001b[36ms\u001b[39m is a non-empty string.\n",
       "\n",
       "  See also: \u001b[36mncodeunits\u001b[39m\n",
       "\n",
       "  ────────────────────────────────────────────────────────────────────────────\n",
       "\n",
       "\u001b[36m  codeunit(s::AbstractString, i::Integer) -> Union{UInt8, UInt16, UInt32}\u001b[39m\n",
       "\n",
       "  Return the code unit value in the string \u001b[36ms\u001b[39m at index \u001b[36mi\u001b[39m. Note that\n",
       "\n",
       "\u001b[36m  codeunit(s, i) :: codeunit(s)\u001b[39m\n",
       "\n",
       "  I.e. the value returned by \u001b[36mcodeunit(s, i)\u001b[39m is of the type returned by\n",
       "  \u001b[36mcodeunit(s)\u001b[39m.\n",
       "\n",
       "  See also: \u001b[36mncodeunits\u001b[39m, \u001b[36mcheckbounds\u001b[39m"
      ],
      "text/markdown": "```\ncodeunit(s::AbstractString) -> Type{<:Union{UInt8, UInt16, UInt32}}\n```\n\nReturn the code unit type of the given string object. For ASCII, Latin-1, or UTF-8 encoded strings, this would be `UInt8`; for UCS-2 and UTF-16 it would be `UInt16`; for UTF-32 it would be `UInt32`. The unit code type need not be limited to these three types, but it's hard to think of widely used string encodings that don't use one of these units. `codeunit(s)` is the same as `typeof(codeunit(s,1))` when `s` is a non-empty string.\n\nSee also: [`ncodeunits`](@ref)\n\n---\n\n```\ncodeunit(s::AbstractString, i::Integer) -> Union{UInt8, UInt16, UInt32}\n```\n\nReturn the code unit value in the string `s` at index `i`. Note that\n\n```\ncodeunit(s, i) :: codeunit(s)\n```\n\nI.e. the value returned by `codeunit(s, i)` is of the type returned by `codeunit(s)`.\n\nSee also: [`ncodeunits`](@ref), [`checkbounds`](@ref)\n",
      "text/latex": "\\begin{verbatim}\ncodeunit(s::AbstractString) -> Type{<:Union{UInt8, UInt16, UInt32}}\n\\end{verbatim}\nReturn the code unit type of the given string object. For ASCII, Latin-1, or UTF-8 encoded strings, this would be \\texttt{UInt8}; for UCS-2 and UTF-16 it would be \\texttt{UInt16}; for UTF-32 it would be \\texttt{UInt32}. The unit code type need not be limited to these three types, but it's hard to think of widely used string encodings that don't use one of these units. \\texttt{codeunit(s)} is the same as \\texttt{typeof(codeunit(s,1))} when \\texttt{s} is a non-empty string.\n\nSee also: \\href{@ref}{\\texttt{ncodeunits}}\n\n\\rule{\\textwidth}{1pt}\n\\begin{verbatim}\ncodeunit(s::AbstractString, i::Integer) -> Union{UInt8, UInt16, UInt32}\n\\end{verbatim}\nReturn the code unit value in the string \\texttt{s} at index \\texttt{i}. Note that\n\n\\begin{verbatim}\ncodeunit(s, i) :: codeunit(s)\n\\end{verbatim}\nI.e. the value returned by \\texttt{codeunit(s, i)} is of the type returned by \\texttt{codeunit(s)}.\n\nSee also: \\href{@ref}{\\texttt{ncodeunits}}, \\href{@ref}{\\texttt{checkbounds}}\n\n"
     },
     "metadata": {},
     "execution_count": 66
    }
   ],
   "source": [
    "?codeunit"
   ]
  },
  {
   "cell_type": "code",
   "execution_count": 67,
   "metadata": {},
   "outputs": [
    {
     "output_type": "stream",
     "name": "stdout",
     "text": [
      "search: \u001b[0m\u001b[1mn\u001b[22m\u001b[0m\u001b[1mc\u001b[22m\u001b[0m\u001b[1mo\u001b[22m\u001b[0m\u001b[1md\u001b[22m\u001b[0m\u001b[1me\u001b[22m\u001b[0m\u001b[1mu\u001b[22m\u001b[0m\u001b[1mn\u001b[22m\u001b[0m\u001b[1mi\u001b[22m\u001b[0m\u001b[1mt\u001b[22m\u001b[0m\u001b[1ms\u001b[22m\n\n"
     ]
    },
    {
     "output_type": "execute_result",
     "data": {
      "text/plain": [
       "\u001b[36m  ncodeunits(c::Char) -> Int\u001b[39m\n",
       "\n",
       "  Return the number of code units required to encode a character as UTF-8.\n",
       "  This is the number of bytes which will be printed if the character is\n",
       "  written to an output stream, or \u001b[36mncodeunits(string(c))\u001b[39m but computed\n",
       "  efficiently.\n",
       "\n",
       "\u001b[39m\u001b[1m  │ \u001b[22m\u001b[39m\u001b[1mJulia 1.1\u001b[22m\n",
       "\u001b[39m\u001b[1m  │\u001b[22m\n",
       "\u001b[39m\u001b[1m  │\u001b[22m  This method requires at least Julia 1.1. In Julia 1.0 consider\n",
       "\u001b[39m\u001b[1m  │\u001b[22m  using \u001b[36mncodeunits(string(c))\u001b[39m.\n",
       "\n",
       "  ────────────────────────────────────────────────────────────────────────────\n",
       "\n",
       "\u001b[36m  ncodeunits(s::AbstractString) -> Int\u001b[39m\n",
       "\n",
       "  Return the number of code units in a string. Indices that are in bounds to\n",
       "  access this string must satisfy \u001b[36m1 ≤ i ≤ ncodeunits(s)\u001b[39m. Not all such indices\n",
       "  are valid – they may not be the start of a character, but they will return a\n",
       "  code unit value when calling \u001b[36mcodeunit(s,i)\u001b[39m.\n",
       "\n",
       "  See also: \u001b[36mcodeunit\u001b[39m, \u001b[36mcheckbounds\u001b[39m, \u001b[36msizeof\u001b[39m, \u001b[36mlength\u001b[39m, \u001b[36mlastindex\u001b[39m"
      ],
      "text/markdown": "```\nncodeunits(c::Char) -> Int\n```\n\nReturn the number of code units required to encode a character as UTF-8. This is the number of bytes which will be printed if the character is written to an output stream, or `ncodeunits(string(c))` but computed efficiently.\n\n!!! compat \"Julia 1.1\"\n    This method requires at least Julia 1.1. In Julia 1.0 consider using `ncodeunits(string(c))`.\n\n\n---\n\n```\nncodeunits(s::AbstractString) -> Int\n```\n\nReturn the number of code units in a string. Indices that are in bounds to access this string must satisfy `1 ≤ i ≤ ncodeunits(s)`. Not all such indices are valid – they may not be the start of a character, but they will return a code unit value when calling `codeunit(s,i)`.\n\nSee also: [`codeunit`](@ref), [`checkbounds`](@ref), [`sizeof`](@ref), [`length`](@ref), [`lastindex`](@ref)\n",
      "text/latex": "\\begin{verbatim}\nncodeunits(c::Char) -> Int\n\\end{verbatim}\nReturn the number of code units required to encode a character as UTF-8. This is the number of bytes which will be printed if the character is written to an output stream, or \\texttt{ncodeunits(string(c))} but computed efficiently.\n\n\\begin{quote}\n\\textbf{compat}\n\nJulia 1.1\n\nThis method requires at least Julia 1.1. In Julia 1.0 consider using \\texttt{ncodeunits(string(c))}.\n\n\\end{quote}\n\\rule{\\textwidth}{1pt}\n\\begin{verbatim}\nncodeunits(s::AbstractString) -> Int\n\\end{verbatim}\nReturn the number of code units in a string. Indices that are in bounds to access this string must satisfy \\texttt{1 ≤ i ≤ ncodeunits(s)}. Not all such indices are valid – they may not be the start of a character, but they will return a code unit value when calling \\texttt{codeunit(s,i)}.\n\nSee also: \\href{@ref}{\\texttt{codeunit}}, \\href{@ref}{\\texttt{checkbounds}}, \\href{@ref}{\\texttt{sizeof}}, \\href{@ref}{\\texttt{length}}, \\href{@ref}{\\texttt{lastindex}}\n\n"
     },
     "metadata": {},
     "execution_count": 67
    }
   ],
   "source": [
    "?ncodeunits"
   ]
  },
  {
   "source": [
    "Strings in Julia can contain invalid UTF-8 code unit sequences. This convention allows to treat any byte sequence as a String. In such situations a rule is that when parsing a sequence of code units from left to right characters are formed by the longest sequence of 8-bit code units that matches the start of one of the following bit patterns (each x can be 0 or 1):\n",
    "\n",
    "    - 0xxxxxxx;\n",
    "    - 110xxxxx 10xxxxxx;\n",
    "    - 1110xxxx 10xxxxxx 10xxxxxx;\n",
    "    - 11110xxx 10xxxxxx 10xxxxxx 10xxxxxx;\n",
    "    - 10xxxxxx;\n",
    "    - 11111xxx.\n",
    "\n",
    "In particular this means that overlong and too-high code unit sequences and prefixes thereof are treated as a single invalid character rather than multiple invalid characters. This rule may be best explained with an example:"
   ],
   "cell_type": "markdown",
   "metadata": {}
  },
  {
   "cell_type": "code",
   "execution_count": 68,
   "metadata": {},
   "outputs": [
    {
     "output_type": "execute_result",
     "data": {
      "text/plain": [
       "\"\\xc0\\xa0\\xe2\\x88\\xe2|\""
      ]
     },
     "metadata": {},
     "execution_count": 68
    }
   ],
   "source": [
    "s = \"\\xc0\\xa0\\xe2\\x88\\xe2|\""
   ]
  },
  {
   "cell_type": "code",
   "execution_count": 69,
   "metadata": {},
   "outputs": [
    {
     "output_type": "display_data",
     "data": {
      "text/plain": "'\\xc0\\xa0': [overlong] ASCII/Unicode U+0020 (category Zs: Separator, space)"
     },
     "metadata": {}
    },
    {
     "output_type": "display_data",
     "data": {
      "text/plain": "'\\xe2\\x88': Malformed UTF-8 (category Ma: Malformed, bad data)"
     },
     "metadata": {}
    },
    {
     "output_type": "display_data",
     "data": {
      "text/plain": "'\\xe2': Malformed UTF-8 (category Ma: Malformed, bad data)"
     },
     "metadata": {}
    },
    {
     "output_type": "display_data",
     "data": {
      "text/plain": "'|': ASCII/Unicode U+007C (category Sm: Symbol, math)"
     },
     "metadata": {}
    }
   ],
   "source": [
    "foreach(display, s)"
   ]
  },
  {
   "cell_type": "code",
   "execution_count": 70,
   "metadata": {},
   "outputs": [
    {
     "output_type": "execute_result",
     "data": {
      "text/plain": [
       "4-element BitArray{1}:\n",
       " 0\n",
       " 0\n",
       " 0\n",
       " 1"
      ]
     },
     "metadata": {},
     "execution_count": 70
    }
   ],
   "source": [
    "isvalid.(collect(s))"
   ]
  },
  {
   "cell_type": "code",
   "execution_count": 71,
   "metadata": {},
   "outputs": [
    {
     "output_type": "execute_result",
     "data": {
      "text/plain": [
       "\"\\U1fffff\""
      ]
     },
     "metadata": {},
     "execution_count": 71
    }
   ],
   "source": [
    "s2 = \"\\xf7\\xbf\\xbf\\xbf\""
   ]
  },
  {
   "cell_type": "code",
   "execution_count": 72,
   "metadata": {},
   "outputs": [
    {
     "output_type": "display_data",
     "data": {
      "text/plain": "'\\U1fffff': Unicode U+1FFFFF (category In: Invalid, too high)"
     },
     "metadata": {}
    }
   ],
   "source": [
    "foreach(display, s2)"
   ]
  },
  {
   "source": [
    "We can see that the first two code units in the string s form an overlong encoding of space character. It is invalid, but is accepted in a string as a single character. The next two code units form a valid start of a three-byte UTF-8 sequence. However, the fifth code unit \\xe2 is not its valid continuation. Therefore code units 3 and 4 are also interpreted as malformed characters in this string. Similarly code unit 5 forms a malformed character because | is not a valid continuation to it. Finally the string s2 contains one too high code point.\n",
    "\n",
    "Julia uses the UTF-8 encoding by default, and support for new encodings can be added by packages. For example, the LegacyStrings.jl package implements UTF16String and UTF32String types. Additional discussion of other encodings and how to implement support for them is beyond the scope of this document for the time being. For further discussion of UTF-8 encoding issues, see the section below on byte array literals. The transcode function is provided to convert data between the various UTF-xx encodings, primarily for working with external data and libraries."
   ],
   "cell_type": "markdown",
   "metadata": {}
  },
  {
   "source": [
    "## Concatenation"
   ],
   "cell_type": "markdown",
   "metadata": {}
  },
  {
   "source": [
    "One of the most common and useful string operations is concatenation:"
   ],
   "cell_type": "markdown",
   "metadata": {}
  },
  {
   "cell_type": "code",
   "execution_count": 74,
   "metadata": {},
   "outputs": [
    {
     "output_type": "execute_result",
     "data": {
      "text/plain": [
       "\"Hello\""
      ]
     },
     "metadata": {},
     "execution_count": 74
    }
   ],
   "source": [
    "greet = \"Hello\""
   ]
  },
  {
   "cell_type": "code",
   "execution_count": 75,
   "metadata": {},
   "outputs": [
    {
     "output_type": "execute_result",
     "data": {
      "text/plain": [
       "\"world\""
      ]
     },
     "metadata": {},
     "execution_count": 75
    }
   ],
   "source": [
    "whom = \"world\""
   ]
  },
  {
   "cell_type": "code",
   "execution_count": 76,
   "metadata": {},
   "outputs": [
    {
     "output_type": "execute_result",
     "data": {
      "text/plain": [
       "\"Hello, world.\\n\""
      ]
     },
     "metadata": {},
     "execution_count": 76
    }
   ],
   "source": [
    "string(greet, \", \", whom, \".\\n\")"
   ]
  },
  {
   "source": [
    "It's important to be aware of potentially dangerous situations such as concatenation of invalid UTF-8 strings. The resulting string may contain different characters than the input strings, and its number of characters may be lower than sum of numbers of characters of the concatenated strings, e.g.:"
   ],
   "cell_type": "markdown",
   "metadata": {}
  },
  {
   "cell_type": "code",
   "execution_count": 77,
   "metadata": {},
   "outputs": [
    {
     "output_type": "execute_result",
     "data": {
      "text/plain": [
       "(\"\\xe2\\x88\", \"\\x80\")"
      ]
     },
     "metadata": {},
     "execution_count": 77
    }
   ],
   "source": [
    "a, b = \"\\xe2\\x88\", \"\\x80\""
   ]
  },
  {
   "cell_type": "code",
   "execution_count": 78,
   "metadata": {},
   "outputs": [
    {
     "output_type": "execute_result",
     "data": {
      "text/plain": [
       "\"∀\""
      ]
     },
     "metadata": {},
     "execution_count": 78
    }
   ],
   "source": [
    "c = a*b"
   ]
  },
  {
   "cell_type": "code",
   "execution_count": 79,
   "metadata": {},
   "outputs": [
    {
     "output_type": "execute_result",
     "data": {
      "text/plain": [
       "3-element Array{Array{Char,1},1}:\n",
       " ['\\xe2\\x88']\n",
       " ['\\x80']\n",
       " ['∀']"
      ]
     },
     "metadata": {},
     "execution_count": 79
    }
   ],
   "source": [
    "collect.([a, b, c])"
   ]
  },
  {
   "cell_type": "code",
   "execution_count": 80,
   "metadata": {},
   "outputs": [
    {
     "output_type": "execute_result",
     "data": {
      "text/plain": [
       "3-element Array{Int64,1}:\n",
       " 1\n",
       " 1\n",
       " 1"
      ]
     },
     "metadata": {},
     "execution_count": 80
    }
   ],
   "source": [
    "length.([a, b, c])"
   ]
  },
  {
   "source": [
    "This situation can happen only for invalid UTF-8 strings. For valid UTF-8 strings concatenation preserves all characters in strings and additivity of string lengths."
   ],
   "cell_type": "markdown",
   "metadata": {}
  },
  {
   "source": [
    "Julia also provides * for string concatenation:"
   ],
   "cell_type": "markdown",
   "metadata": {}
  },
  {
   "cell_type": "code",
   "execution_count": 81,
   "metadata": {},
   "outputs": [
    {
     "output_type": "execute_result",
     "data": {
      "text/plain": [
       "\"Hello, world.\\n\""
      ]
     },
     "metadata": {},
     "execution_count": 81
    }
   ],
   "source": [
    "greet * \", \" * whom * \".\\n\""
   ]
  },
  {
   "source": [
    "While * may seem like a surprising choice to users of languages that provide + for string concatenation, this use of * has precedent in mathematics, particularly in abstract algebra.\n",
    "\n",
    "In mathematics, + usually denotes a commutative operation, where the order of the operands does not matter. An example of this is matrix addition, where A + B == B + A for any matrices A and B that have the same shape. In contrast, * typically denotes a noncommutative operation, where the order of the operands does matter. An example of this is matrix multiplication, where in general A * B != B * A. As with matrix multiplication, string concatenation is noncommutative: greet * whom != whom * greet. As such, * is a more natural choice for an infix string concatenation operator, consistent with common mathematical use.\n",
    "\n",
    "More precisely, the set of all finite-length strings S together with the string concatenation operator * forms a free monoid (S, *). The identity element of this set is the empty string, \"\". Whenever a free monoid is not commutative, the operation is typically represented as \\cdot, *, or a similar symbol, rather than +, which as stated usually implies commutativity."
   ],
   "cell_type": "markdown",
   "metadata": {}
  },
  {
   "source": [
    "## Interpolation"
   ],
   "cell_type": "markdown",
   "metadata": {}
  },
  {
   "source": [
    "Constructing strings using concatenation can become a bit cumbersome, however. To reduce the need for these verbose calls to string or repeated multiplications, Julia allows interpolation into string literals using $, as in Perl:"
   ],
   "cell_type": "markdown",
   "metadata": {}
  },
  {
   "cell_type": "code",
   "execution_count": 83,
   "metadata": {},
   "outputs": [
    {
     "output_type": "execute_result",
     "data": {
      "text/plain": [
       "\"Hello, world.\\n\""
      ]
     },
     "metadata": {},
     "execution_count": 83
    }
   ],
   "source": [
    "\"$greet, $whom.\\n\""
   ]
  },
  {
   "source": [
    "This is more readable and convenient and equivalent to the above string concatenation – the system rewrites this apparent single string literal into the call string(greet, \", \", whom, \".\\n\").\n",
    "\n",
    "The shortest complete expression after the $ is taken as the expression whose value is to be interpolated into the string. Thus, you can interpolate any expression into a string using parentheses:"
   ],
   "cell_type": "markdown",
   "metadata": {}
  },
  {
   "cell_type": "code",
   "execution_count": 84,
   "metadata": {},
   "outputs": [
    {
     "output_type": "execute_result",
     "data": {
      "text/plain": [
       "\"1 + 2 = 3\""
      ]
     },
     "metadata": {},
     "execution_count": 84
    }
   ],
   "source": [
    "\"1 + 2 = $(1 + 2)\""
   ]
  },
  {
   "source": [
    "Both concatenation and string interpolation call string to convert objects into string form. However, string actually just returns the output of print, so new types should add methods to print or show instead of string.\n",
    "\n",
    "Most non-AbstractString objects are converted to strings closely corresponding to how they are entered as literal expressions:"
   ],
   "cell_type": "markdown",
   "metadata": {}
  },
  {
   "cell_type": "code",
   "execution_count": 85,
   "metadata": {},
   "outputs": [
    {
     "output_type": "execute_result",
     "data": {
      "text/plain": [
       "3-element Array{Int64,1}:\n",
       " 1\n",
       " 2\n",
       " 3"
      ]
     },
     "metadata": {},
     "execution_count": 85
    }
   ],
   "source": [
    "v = [1,2,3]"
   ]
  },
  {
   "cell_type": "code",
   "execution_count": 86,
   "metadata": {},
   "outputs": [
    {
     "output_type": "execute_result",
     "data": {
      "text/plain": [
       "\"v: [1, 2, 3]\""
      ]
     },
     "metadata": {},
     "execution_count": 86
    }
   ],
   "source": [
    "\"v: $v\""
   ]
  },
  {
   "source": [
    "string is the identity for AbstractString and AbstractChar values, so these are interpolated into strings as themselves, unquoted and unescaped:"
   ],
   "cell_type": "markdown",
   "metadata": {}
  },
  {
   "cell_type": "code",
   "execution_count": 87,
   "metadata": {},
   "outputs": [
    {
     "output_type": "execute_result",
     "data": {
      "text/plain": [
       "'x': ASCII/Unicode U+0078 (category Ll: Letter, lowercase)"
      ]
     },
     "metadata": {},
     "execution_count": 87
    }
   ],
   "source": [
    "c = 'x'"
   ]
  },
  {
   "cell_type": "code",
   "execution_count": 88,
   "metadata": {},
   "outputs": [
    {
     "output_type": "execute_result",
     "data": {
      "text/plain": [
       "\"hi, x\""
      ]
     },
     "metadata": {},
     "execution_count": 88
    }
   ],
   "source": [
    "\"hi, $c\""
   ]
  },
  {
   "source": [
    "To include a literal $ in a string literal, escape it with a backslash:"
   ],
   "cell_type": "markdown",
   "metadata": {}
  },
  {
   "cell_type": "code",
   "execution_count": 89,
   "metadata": {},
   "outputs": [
    {
     "output_type": "stream",
     "name": "stdout",
     "text": [
      "I have $100 in my account.\n"
     ]
    }
   ],
   "source": [
    "print(\"I have \\$100 in my account.\\n\")"
   ]
  },
  {
   "source": [
    "## Triple-Quoted String Literals"
   ],
   "cell_type": "markdown",
   "metadata": {}
  },
  {
   "source": [
    "When strings are created using triple-quotes (\"\"\"...\"\"\") they have some special behavior that can be useful for creating longer blocks of text.\n",
    "\n",
    "First, triple-quoted strings are also dedented to the level of the least-indented line. This is useful for defining strings within code that is indented. For example:"
   ],
   "cell_type": "markdown",
   "metadata": {}
  },
  {
   "cell_type": "code",
   "execution_count": 90,
   "metadata": {},
   "outputs": [
    {
     "output_type": "execute_result",
     "data": {
      "text/plain": [
       "\"  Hello,\\n  world.\\n\""
      ]
     },
     "metadata": {},
     "execution_count": 90
    }
   ],
   "source": [
    "str = \"\"\"\n",
    "        Hello,\n",
    "        world.\n",
    "    \"\"\""
   ]
  },
  {
   "source": [
    "In this case the final (empty) line before the closing \"\"\" sets the indentation level.\n",
    "\n",
    "The dedentation level is determined as the longest common starting sequence of spaces or tabs in all lines, excluding the line following the opening \"\"\" and lines containing only spaces or tabs (the line containing the closing \"\"\" is always included). Then for all lines, excluding the text following the opening \"\"\", the common starting sequence is removed (including lines containing only spaces and tabs if they start with this sequence), e.g.:"
   ],
   "cell_type": "markdown",
   "metadata": {}
  },
  {
   "cell_type": "code",
   "execution_count": 91,
   "metadata": {},
   "outputs": [
    {
     "output_type": "execute_result",
     "data": {
      "text/plain": [
       "\"    This\\nis\\n  a test\""
      ]
     },
     "metadata": {},
     "execution_count": 91
    }
   ],
   "source": [
    "\"\"\"    This\n",
    "         is\n",
    "           a test\"\"\""
   ]
  },
  {
   "source": [
    "Next, if the opening \"\"\" is followed by a newline, the newline is stripped from the resulting string.\n",
    "\n",
    "Stripping of the newline is performed after the dedentation. For example:"
   ],
   "cell_type": "markdown",
   "metadata": {}
  },
  {
   "cell_type": "code",
   "execution_count": 93,
   "metadata": {},
   "outputs": [
    {
     "output_type": "execute_result",
     "data": {
      "text/plain": [
       "\"Hello,\\nworld.\""
      ]
     },
     "metadata": {},
     "execution_count": 93
    }
   ],
   "source": [
    "\"\"\"\n",
    "         Hello,\n",
    "         world.\"\"\""
   ]
  },
  {
   "source": [
    "Trailing whitespace is left unaltered.\n",
    "\n",
    "Triple-quoted string literals can contain \" characters without escaping.\n",
    "\n",
    "Note that line breaks in literal strings, whether single- or triple-quoted, result in a newline (LF) character \\n in the string, even if your editor uses a carriage return \\r (CR) or CRLF combination to end lines. To include a CR in a string, use an explicit escape \\r; for example, you can enter the literal string \"a CRLF line ending\\r\\n\"."
   ],
   "cell_type": "markdown",
   "metadata": {}
  },
  {
   "source": [
    "## Common Operations"
   ],
   "cell_type": "markdown",
   "metadata": {}
  },
  {
   "source": [
    "You can lexicographically compare strings using the standard comparison operators:"
   ],
   "cell_type": "markdown",
   "metadata": {}
  },
  {
   "cell_type": "code",
   "execution_count": 95,
   "metadata": {},
   "outputs": [
    {
     "output_type": "execute_result",
     "data": {
      "text/plain": [
       "true"
      ]
     },
     "metadata": {},
     "execution_count": 95
    }
   ],
   "source": [
    "\"abracadabra\" < \"xylophone\""
   ]
  },
  {
   "cell_type": "code",
   "execution_count": 96,
   "metadata": {},
   "outputs": [
    {
     "output_type": "execute_result",
     "data": {
      "text/plain": [
       "false"
      ]
     },
     "metadata": {},
     "execution_count": 96
    }
   ],
   "source": [
    "\"abracadabra\" == \"xylophone\""
   ]
  },
  {
   "cell_type": "code",
   "execution_count": 97,
   "metadata": {},
   "outputs": [
    {
     "output_type": "execute_result",
     "data": {
      "text/plain": [
       "true"
      ]
     },
     "metadata": {},
     "execution_count": 97
    }
   ],
   "source": [
    "\"Hello, world.\" != \"Goodbye, world.\""
   ]
  },
  {
   "cell_type": "code",
   "execution_count": 98,
   "metadata": {},
   "outputs": [
    {
     "output_type": "execute_result",
     "data": {
      "text/plain": [
       "true"
      ]
     },
     "metadata": {},
     "execution_count": 98
    }
   ],
   "source": [
    "\"1 + 2 = 3\" == \"1 + 2 = $(1 + 2)\""
   ]
  },
  {
   "source": [
    "You can search for the index of a particular character using the findfirst and findlast functions:"
   ],
   "cell_type": "markdown",
   "metadata": {}
  },
  {
   "cell_type": "code",
   "execution_count": 100,
   "metadata": {},
   "outputs": [
    {
     "output_type": "stream",
     "name": "stdout",
     "text": [
      "search: \u001b[0m\u001b[1mf\u001b[22m\u001b[0m\u001b[1mi\u001b[22m\u001b[0m\u001b[1mn\u001b[22m\u001b[0m\u001b[1md\u001b[22m\u001b[0m\u001b[1mf\u001b[22m\u001b[0m\u001b[1mi\u001b[22m\u001b[0m\u001b[1mr\u001b[22m\u001b[0m\u001b[1ms\u001b[22m\u001b[0m\u001b[1mt\u001b[22m\n\n"
     ]
    },
    {
     "output_type": "execute_result",
     "data": {
      "text/plain": [
       "\u001b[36m  findfirst(A)\u001b[39m\n",
       "\n",
       "  Return the index or key of the first \u001b[36mtrue\u001b[39m value in \u001b[36mA\u001b[39m. Return \u001b[36mnothing\u001b[39m if no\n",
       "  such value is found. To search for other kinds of values, pass a predicate\n",
       "  as the first argument.\n",
       "\n",
       "  Indices or keys are of the same type as those returned by \u001b[36mkeys(A)\u001b[39m and\n",
       "  \u001b[36mpairs(A)\u001b[39m.\n",
       "\n",
       "\u001b[1m  Examples\u001b[22m\n",
       "\u001b[1m  ≡≡≡≡≡≡≡≡≡≡\u001b[22m\n",
       "\n",
       "\u001b[36m  julia> A = [false, false, true, false]\u001b[39m\n",
       "\u001b[36m  4-element Array{Bool,1}:\u001b[39m\n",
       "\u001b[36m   0\u001b[39m\n",
       "\u001b[36m   0\u001b[39m\n",
       "\u001b[36m   1\u001b[39m\n",
       "\u001b[36m   0\u001b[39m\n",
       "\u001b[36m  \u001b[39m\n",
       "\u001b[36m  julia> findfirst(A)\u001b[39m\n",
       "\u001b[36m  3\u001b[39m\n",
       "\u001b[36m  \u001b[39m\n",
       "\u001b[36m  julia> findfirst(falses(3)) # returns nothing, but not printed in the REPL\u001b[39m\n",
       "\u001b[36m  \u001b[39m\n",
       "\u001b[36m  julia> A = [false false; true false]\u001b[39m\n",
       "\u001b[36m  2×2 Array{Bool,2}:\u001b[39m\n",
       "\u001b[36m   0  0\u001b[39m\n",
       "\u001b[36m   1  0\u001b[39m\n",
       "\u001b[36m  \u001b[39m\n",
       "\u001b[36m  julia> findfirst(A)\u001b[39m\n",
       "\u001b[36m  CartesianIndex(2, 1)\u001b[39m\n",
       "\n",
       "  ────────────────────────────────────────────────────────────────────────────\n",
       "\n",
       "\u001b[36m  findfirst(predicate::Function, A)\u001b[39m\n",
       "\n",
       "  Return the index or key of the first element of \u001b[36mA\u001b[39m for which \u001b[36mpredicate\u001b[39m\n",
       "  returns \u001b[36mtrue\u001b[39m. Return \u001b[36mnothing\u001b[39m if there is no such element.\n",
       "\n",
       "  Indices or keys are of the same type as those returned by \u001b[36mkeys(A)\u001b[39m and\n",
       "  \u001b[36mpairs(A)\u001b[39m.\n",
       "\n",
       "\u001b[1m  Examples\u001b[22m\n",
       "\u001b[1m  ≡≡≡≡≡≡≡≡≡≡\u001b[22m\n",
       "\n",
       "\u001b[36m  julia> A = [1, 4, 2, 2]\u001b[39m\n",
       "\u001b[36m  4-element Array{Int64,1}:\u001b[39m\n",
       "\u001b[36m   1\u001b[39m\n",
       "\u001b[36m   4\u001b[39m\n",
       "\u001b[36m   2\u001b[39m\n",
       "\u001b[36m   2\u001b[39m\n",
       "\u001b[36m  \u001b[39m\n",
       "\u001b[36m  julia> findfirst(iseven, A)\u001b[39m\n",
       "\u001b[36m  2\u001b[39m\n",
       "\u001b[36m  \u001b[39m\n",
       "\u001b[36m  julia> findfirst(x -> x>10, A) # returns nothing, but not printed in the REPL\u001b[39m\n",
       "\u001b[36m  \u001b[39m\n",
       "\u001b[36m  julia> findfirst(isequal(4), A)\u001b[39m\n",
       "\u001b[36m  2\u001b[39m\n",
       "\u001b[36m  \u001b[39m\n",
       "\u001b[36m  julia> A = [1 4; 2 2]\u001b[39m\n",
       "\u001b[36m  2×2 Array{Int64,2}:\u001b[39m\n",
       "\u001b[36m   1  4\u001b[39m\n",
       "\u001b[36m   2  2\u001b[39m\n",
       "\u001b[36m  \u001b[39m\n",
       "\u001b[36m  julia> findfirst(iseven, A)\u001b[39m\n",
       "\u001b[36m  CartesianIndex(2, 1)\u001b[39m\n",
       "\n",
       "  ────────────────────────────────────────────────────────────────────────────\n",
       "\n",
       "\u001b[36m  findfirst(pattern::AbstractString, string::AbstractString)\u001b[39m\n",
       "\u001b[36m  findfirst(pattern::Regex, string::String)\u001b[39m\n",
       "\n",
       "  Find the first occurrence of \u001b[36mpattern\u001b[39m in \u001b[36mstring\u001b[39m. Equivalent to\n",
       "  \u001b[36mfindnext(pattern, string, firstindex(s))\u001b[39m.\n",
       "\n",
       "\u001b[1m  Examples\u001b[22m\n",
       "\u001b[1m  ≡≡≡≡≡≡≡≡≡≡\u001b[22m\n",
       "\n",
       "\u001b[36m  julia> findfirst(\"z\", \"Hello to the world\") # returns nothing, but not printed in the REPL\u001b[39m\n",
       "\u001b[36m  \u001b[39m\n",
       "\u001b[36m  julia> findfirst(\"Julia\", \"JuliaLang\")\u001b[39m\n",
       "\u001b[36m  1:5\u001b[39m\n",
       "\n",
       "  ────────────────────────────────────────────────────────────────────────────\n",
       "\n",
       "\u001b[36m  findfirst(ch::AbstractChar, string::AbstractString)\u001b[39m\n",
       "\n",
       "  Find the first occurrence of character \u001b[36mch\u001b[39m in \u001b[36mstring\u001b[39m.\n",
       "\n",
       "\u001b[39m\u001b[1m  │ \u001b[22m\u001b[39m\u001b[1mJulia 1.3\u001b[22m\n",
       "\u001b[39m\u001b[1m  │\u001b[22m\n",
       "\u001b[39m\u001b[1m  │\u001b[22m  This method requires at least Julia 1.3.\n",
       "\n",
       "\u001b[1m  Examples\u001b[22m\n",
       "\u001b[1m  ≡≡≡≡≡≡≡≡≡≡\u001b[22m\n",
       "\n",
       "\u001b[36m  julia> findfirst('a', \"happy\")\u001b[39m\n",
       "\u001b[36m  2\u001b[39m\n",
       "\u001b[36m  \u001b[39m\n",
       "\u001b[36m  julia> findfirst('z', \"happy\") === nothing\u001b[39m\n",
       "\u001b[36m  true\u001b[39m"
      ],
      "text/markdown": "```\nfindfirst(A)\n```\n\nReturn the index or key of the first `true` value in `A`. Return `nothing` if no such value is found. To search for other kinds of values, pass a predicate as the first argument.\n\nIndices or keys are of the same type as those returned by [`keys(A)`](@ref) and [`pairs(A)`](@ref).\n\n# Examples\n\n```jldoctest\njulia> A = [false, false, true, false]\n4-element Array{Bool,1}:\n 0\n 0\n 1\n 0\n\njulia> findfirst(A)\n3\n\njulia> findfirst(falses(3)) # returns nothing, but not printed in the REPL\n\njulia> A = [false false; true false]\n2×2 Array{Bool,2}:\n 0  0\n 1  0\n\njulia> findfirst(A)\nCartesianIndex(2, 1)\n```\n\n---\n\n```\nfindfirst(predicate::Function, A)\n```\n\nReturn the index or key of the first element of `A` for which `predicate` returns `true`. Return `nothing` if there is no such element.\n\nIndices or keys are of the same type as those returned by [`keys(A)`](@ref) and [`pairs(A)`](@ref).\n\n# Examples\n\n```jldoctest\njulia> A = [1, 4, 2, 2]\n4-element Array{Int64,1}:\n 1\n 4\n 2\n 2\n\njulia> findfirst(iseven, A)\n2\n\njulia> findfirst(x -> x>10, A) # returns nothing, but not printed in the REPL\n\njulia> findfirst(isequal(4), A)\n2\n\njulia> A = [1 4; 2 2]\n2×2 Array{Int64,2}:\n 1  4\n 2  2\n\njulia> findfirst(iseven, A)\nCartesianIndex(2, 1)\n```\n\n---\n\n```\nfindfirst(pattern::AbstractString, string::AbstractString)\nfindfirst(pattern::Regex, string::String)\n```\n\nFind the first occurrence of `pattern` in `string`. Equivalent to [`findnext(pattern, string, firstindex(s))`](@ref).\n\n# Examples\n\n```jldoctest\njulia> findfirst(\"z\", \"Hello to the world\") # returns nothing, but not printed in the REPL\n\njulia> findfirst(\"Julia\", \"JuliaLang\")\n1:5\n```\n\n---\n\n```\nfindfirst(ch::AbstractChar, string::AbstractString)\n```\n\nFind the first occurrence of character `ch` in `string`.\n\n!!! compat \"Julia 1.3\"\n    This method requires at least Julia 1.3.\n\n\n# Examples\n\n```jldoctest\njulia> findfirst('a', \"happy\")\n2\n\njulia> findfirst('z', \"happy\") === nothing\ntrue\n```\n",
      "text/latex": "\\begin{verbatim}\nfindfirst(A)\n\\end{verbatim}\nReturn the index or key of the first \\texttt{true} value in \\texttt{A}. Return \\texttt{nothing} if no such value is found. To search for other kinds of values, pass a predicate as the first argument.\n\nIndices or keys are of the same type as those returned by \\href{@ref}{\\texttt{keys(A)}} and \\href{@ref}{\\texttt{pairs(A)}}.\n\n\\section{Examples}\n\\begin{verbatim}\njulia> A = [false, false, true, false]\n4-element Array{Bool,1}:\n 0\n 0\n 1\n 0\n\njulia> findfirst(A)\n3\n\njulia> findfirst(falses(3)) # returns nothing, but not printed in the REPL\n\njulia> A = [false false; true false]\n2×2 Array{Bool,2}:\n 0  0\n 1  0\n\njulia> findfirst(A)\nCartesianIndex(2, 1)\n\\end{verbatim}\n\\rule{\\textwidth}{1pt}\n\\begin{verbatim}\nfindfirst(predicate::Function, A)\n\\end{verbatim}\nReturn the index or key of the first element of \\texttt{A} for which \\texttt{predicate} returns \\texttt{true}. Return \\texttt{nothing} if there is no such element.\n\nIndices or keys are of the same type as those returned by \\href{@ref}{\\texttt{keys(A)}} and \\href{@ref}{\\texttt{pairs(A)}}.\n\n\\section{Examples}\n\\begin{verbatim}\njulia> A = [1, 4, 2, 2]\n4-element Array{Int64,1}:\n 1\n 4\n 2\n 2\n\njulia> findfirst(iseven, A)\n2\n\njulia> findfirst(x -> x>10, A) # returns nothing, but not printed in the REPL\n\njulia> findfirst(isequal(4), A)\n2\n\njulia> A = [1 4; 2 2]\n2×2 Array{Int64,2}:\n 1  4\n 2  2\n\njulia> findfirst(iseven, A)\nCartesianIndex(2, 1)\n\\end{verbatim}\n\\rule{\\textwidth}{1pt}\n\\begin{verbatim}\nfindfirst(pattern::AbstractString, string::AbstractString)\nfindfirst(pattern::Regex, string::String)\n\\end{verbatim}\nFind the first occurrence of \\texttt{pattern} in \\texttt{string}. Equivalent to \\href{@ref}{\\texttt{findnext(pattern, string, firstindex(s))}}.\n\n\\section{Examples}\n\\begin{verbatim}\njulia> findfirst(\"z\", \"Hello to the world\") # returns nothing, but not printed in the REPL\n\njulia> findfirst(\"Julia\", \"JuliaLang\")\n1:5\n\\end{verbatim}\n\\rule{\\textwidth}{1pt}\n\\begin{verbatim}\nfindfirst(ch::AbstractChar, string::AbstractString)\n\\end{verbatim}\nFind the first occurrence of character \\texttt{ch} in \\texttt{string}.\n\n\\begin{quote}\n\\textbf{compat}\n\nJulia 1.3\n\nThis method requires at least Julia 1.3.\n\n\\end{quote}\n\\section{Examples}\n\\begin{verbatim}\njulia> findfirst('a', \"happy\")\n2\n\njulia> findfirst('z', \"happy\") === nothing\ntrue\n\\end{verbatim}\n"
     },
     "metadata": {},
     "execution_count": 100
    }
   ],
   "source": [
    "?findfirst"
   ]
  },
  {
   "cell_type": "code",
   "execution_count": 101,
   "metadata": {},
   "outputs": [
    {
     "output_type": "stream",
     "name": "stdout",
     "text": [
      "search: \u001b[0m\u001b[1mf\u001b[22m\u001b[0m\u001b[1mi\u001b[22m\u001b[0m\u001b[1mn\u001b[22m\u001b[0m\u001b[1md\u001b[22m\u001b[0m\u001b[1ml\u001b[22m\u001b[0m\u001b[1ma\u001b[22m\u001b[0m\u001b[1ms\u001b[22m\u001b[0m\u001b[1mt\u001b[22m\n\n"
     ]
    },
    {
     "output_type": "execute_result",
     "data": {
      "text/plain": [
       "\u001b[36m  findlast(A)\u001b[39m\n",
       "\n",
       "  Return the index or key of the last \u001b[36mtrue\u001b[39m value in \u001b[36mA\u001b[39m. Return \u001b[36mnothing\u001b[39m if there\n",
       "  is no \u001b[36mtrue\u001b[39m value in \u001b[36mA\u001b[39m.\n",
       "\n",
       "  Indices or keys are of the same type as those returned by \u001b[36mkeys(A)\u001b[39m and\n",
       "  \u001b[36mpairs(A)\u001b[39m.\n",
       "\n",
       "\u001b[1m  Examples\u001b[22m\n",
       "\u001b[1m  ≡≡≡≡≡≡≡≡≡≡\u001b[22m\n",
       "\n",
       "\u001b[36m  julia> A = [true, false, true, false]\u001b[39m\n",
       "\u001b[36m  4-element Array{Bool,1}:\u001b[39m\n",
       "\u001b[36m   1\u001b[39m\n",
       "\u001b[36m   0\u001b[39m\n",
       "\u001b[36m   1\u001b[39m\n",
       "\u001b[36m   0\u001b[39m\n",
       "\u001b[36m  \u001b[39m\n",
       "\u001b[36m  julia> findlast(A)\u001b[39m\n",
       "\u001b[36m  3\u001b[39m\n",
       "\u001b[36m  \u001b[39m\n",
       "\u001b[36m  julia> A = falses(2,2);\u001b[39m\n",
       "\u001b[36m  \u001b[39m\n",
       "\u001b[36m  julia> findlast(A) # returns nothing, but not printed in the REPL\u001b[39m\n",
       "\u001b[36m  \u001b[39m\n",
       "\u001b[36m  julia> A = [true false; true false]\u001b[39m\n",
       "\u001b[36m  2×2 Array{Bool,2}:\u001b[39m\n",
       "\u001b[36m   1  0\u001b[39m\n",
       "\u001b[36m   1  0\u001b[39m\n",
       "\u001b[36m  \u001b[39m\n",
       "\u001b[36m  julia> findlast(A)\u001b[39m\n",
       "\u001b[36m  CartesianIndex(2, 1)\u001b[39m\n",
       "\n",
       "  ────────────────────────────────────────────────────────────────────────────\n",
       "\n",
       "\u001b[36m  findlast(predicate::Function, A)\u001b[39m\n",
       "\n",
       "  Return the index or key of the last element of \u001b[36mA\u001b[39m for which \u001b[36mpredicate\u001b[39m returns\n",
       "  \u001b[36mtrue\u001b[39m. Return \u001b[36mnothing\u001b[39m if there is no such element.\n",
       "\n",
       "  Indices or keys are of the same type as those returned by \u001b[36mkeys(A)\u001b[39m and\n",
       "  \u001b[36mpairs(A)\u001b[39m.\n",
       "\n",
       "\u001b[1m  Examples\u001b[22m\n",
       "\u001b[1m  ≡≡≡≡≡≡≡≡≡≡\u001b[22m\n",
       "\n",
       "\u001b[36m  julia> A = [1, 2, 3, 4]\u001b[39m\n",
       "\u001b[36m  4-element Array{Int64,1}:\u001b[39m\n",
       "\u001b[36m   1\u001b[39m\n",
       "\u001b[36m   2\u001b[39m\n",
       "\u001b[36m   3\u001b[39m\n",
       "\u001b[36m   4\u001b[39m\n",
       "\u001b[36m  \u001b[39m\n",
       "\u001b[36m  julia> findlast(isodd, A)\u001b[39m\n",
       "\u001b[36m  3\u001b[39m\n",
       "\u001b[36m  \u001b[39m\n",
       "\u001b[36m  julia> findlast(x -> x > 5, A) # returns nothing, but not printed in the REPL\u001b[39m\n",
       "\u001b[36m  \u001b[39m\n",
       "\u001b[36m  julia> A = [1 2; 3 4]\u001b[39m\n",
       "\u001b[36m  2×2 Array{Int64,2}:\u001b[39m\n",
       "\u001b[36m   1  2\u001b[39m\n",
       "\u001b[36m   3  4\u001b[39m\n",
       "\u001b[36m  \u001b[39m\n",
       "\u001b[36m  julia> findlast(isodd, A)\u001b[39m\n",
       "\u001b[36m  CartesianIndex(2, 1)\u001b[39m\n",
       "\n",
       "  ────────────────────────────────────────────────────────────────────────────\n",
       "\n",
       "\u001b[36m  findlast(pattern::AbstractString, string::AbstractString)\u001b[39m\n",
       "\n",
       "  Find the last occurrence of \u001b[36mpattern\u001b[39m in \u001b[36mstring\u001b[39m. Equivalent to\n",
       "  \u001b[36mfindprev(pattern, string, lastindex(string))\u001b[39m.\n",
       "\n",
       "\u001b[1m  Examples\u001b[22m\n",
       "\u001b[1m  ≡≡≡≡≡≡≡≡≡≡\u001b[22m\n",
       "\n",
       "\u001b[36m  julia> findlast(\"o\", \"Hello to the world\")\u001b[39m\n",
       "\u001b[36m  15:15\u001b[39m\n",
       "\u001b[36m  \u001b[39m\n",
       "\u001b[36m  julia> findfirst(\"Julia\", \"JuliaLang\")\u001b[39m\n",
       "\u001b[36m  1:5\u001b[39m\n",
       "\n",
       "  ────────────────────────────────────────────────────────────────────────────\n",
       "\n",
       "\u001b[36m  findlast(ch::AbstractChar, string::AbstractString)\u001b[39m\n",
       "\n",
       "  Find the last occurrence of character \u001b[36mch\u001b[39m in \u001b[36mstring\u001b[39m.\n",
       "\n",
       "\u001b[39m\u001b[1m  │ \u001b[22m\u001b[39m\u001b[1mJulia 1.3\u001b[22m\n",
       "\u001b[39m\u001b[1m  │\u001b[22m\n",
       "\u001b[39m\u001b[1m  │\u001b[22m  This method requires at least Julia 1.3.\n",
       "\n",
       "\u001b[1m  Examples\u001b[22m\n",
       "\u001b[1m  ≡≡≡≡≡≡≡≡≡≡\u001b[22m\n",
       "\n",
       "\u001b[36m  julia> findlast('p', \"happy\")\u001b[39m\n",
       "\u001b[36m  4\u001b[39m\n",
       "\u001b[36m  \u001b[39m\n",
       "\u001b[36m  julia> findlast('z', \"happy\") === nothing\u001b[39m\n",
       "\u001b[36m  true\u001b[39m"
      ],
      "text/markdown": "```\nfindlast(A)\n```\n\nReturn the index or key of the last `true` value in `A`. Return `nothing` if there is no `true` value in `A`.\n\nIndices or keys are of the same type as those returned by [`keys(A)`](@ref) and [`pairs(A)`](@ref).\n\n# Examples\n\n```jldoctest\njulia> A = [true, false, true, false]\n4-element Array{Bool,1}:\n 1\n 0\n 1\n 0\n\njulia> findlast(A)\n3\n\njulia> A = falses(2,2);\n\njulia> findlast(A) # returns nothing, but not printed in the REPL\n\njulia> A = [true false; true false]\n2×2 Array{Bool,2}:\n 1  0\n 1  0\n\njulia> findlast(A)\nCartesianIndex(2, 1)\n```\n\n---\n\n```\nfindlast(predicate::Function, A)\n```\n\nReturn the index or key of the last element of `A` for which `predicate` returns `true`. Return `nothing` if there is no such element.\n\nIndices or keys are of the same type as those returned by [`keys(A)`](@ref) and [`pairs(A)`](@ref).\n\n# Examples\n\n```jldoctest\njulia> A = [1, 2, 3, 4]\n4-element Array{Int64,1}:\n 1\n 2\n 3\n 4\n\njulia> findlast(isodd, A)\n3\n\njulia> findlast(x -> x > 5, A) # returns nothing, but not printed in the REPL\n\njulia> A = [1 2; 3 4]\n2×2 Array{Int64,2}:\n 1  2\n 3  4\n\njulia> findlast(isodd, A)\nCartesianIndex(2, 1)\n```\n\n---\n\n```\nfindlast(pattern::AbstractString, string::AbstractString)\n```\n\nFind the last occurrence of `pattern` in `string`. Equivalent to [`findprev(pattern, string, lastindex(string))`](@ref).\n\n# Examples\n\n```jldoctest\njulia> findlast(\"o\", \"Hello to the world\")\n15:15\n\njulia> findfirst(\"Julia\", \"JuliaLang\")\n1:5\n```\n\n---\n\n```\nfindlast(ch::AbstractChar, string::AbstractString)\n```\n\nFind the last occurrence of character `ch` in `string`.\n\n!!! compat \"Julia 1.3\"\n    This method requires at least Julia 1.3.\n\n\n# Examples\n\n```jldoctest\njulia> findlast('p', \"happy\")\n4\n\njulia> findlast('z', \"happy\") === nothing\ntrue\n```\n",
      "text/latex": "\\begin{verbatim}\nfindlast(A)\n\\end{verbatim}\nReturn the index or key of the last \\texttt{true} value in \\texttt{A}. Return \\texttt{nothing} if there is no \\texttt{true} value in \\texttt{A}.\n\nIndices or keys are of the same type as those returned by \\href{@ref}{\\texttt{keys(A)}} and \\href{@ref}{\\texttt{pairs(A)}}.\n\n\\section{Examples}\n\\begin{verbatim}\njulia> A = [true, false, true, false]\n4-element Array{Bool,1}:\n 1\n 0\n 1\n 0\n\njulia> findlast(A)\n3\n\njulia> A = falses(2,2);\n\njulia> findlast(A) # returns nothing, but not printed in the REPL\n\njulia> A = [true false; true false]\n2×2 Array{Bool,2}:\n 1  0\n 1  0\n\njulia> findlast(A)\nCartesianIndex(2, 1)\n\\end{verbatim}\n\\rule{\\textwidth}{1pt}\n\\begin{verbatim}\nfindlast(predicate::Function, A)\n\\end{verbatim}\nReturn the index or key of the last element of \\texttt{A} for which \\texttt{predicate} returns \\texttt{true}. Return \\texttt{nothing} if there is no such element.\n\nIndices or keys are of the same type as those returned by \\href{@ref}{\\texttt{keys(A)}} and \\href{@ref}{\\texttt{pairs(A)}}.\n\n\\section{Examples}\n\\begin{verbatim}\njulia> A = [1, 2, 3, 4]\n4-element Array{Int64,1}:\n 1\n 2\n 3\n 4\n\njulia> findlast(isodd, A)\n3\n\njulia> findlast(x -> x > 5, A) # returns nothing, but not printed in the REPL\n\njulia> A = [1 2; 3 4]\n2×2 Array{Int64,2}:\n 1  2\n 3  4\n\njulia> findlast(isodd, A)\nCartesianIndex(2, 1)\n\\end{verbatim}\n\\rule{\\textwidth}{1pt}\n\\begin{verbatim}\nfindlast(pattern::AbstractString, string::AbstractString)\n\\end{verbatim}\nFind the last occurrence of \\texttt{pattern} in \\texttt{string}. Equivalent to \\href{@ref}{\\texttt{findprev(pattern, string, lastindex(string))}}.\n\n\\section{Examples}\n\\begin{verbatim}\njulia> findlast(\"o\", \"Hello to the world\")\n15:15\n\njulia> findfirst(\"Julia\", \"JuliaLang\")\n1:5\n\\end{verbatim}\n\\rule{\\textwidth}{1pt}\n\\begin{verbatim}\nfindlast(ch::AbstractChar, string::AbstractString)\n\\end{verbatim}\nFind the last occurrence of character \\texttt{ch} in \\texttt{string}.\n\n\\begin{quote}\n\\textbf{compat}\n\nJulia 1.3\n\nThis method requires at least Julia 1.3.\n\n\\end{quote}\n\\section{Examples}\n\\begin{verbatim}\njulia> findlast('p', \"happy\")\n4\n\njulia> findlast('z', \"happy\") === nothing\ntrue\n\\end{verbatim}\n"
     },
     "metadata": {},
     "execution_count": 101
    }
   ],
   "source": [
    "?findlast"
   ]
  },
  {
   "source": [
    "You can start the search for a character at a given offset by using the functions findnext and findprev:"
   ],
   "cell_type": "markdown",
   "metadata": {}
  },
  {
   "cell_type": "code",
   "execution_count": 102,
   "metadata": {},
   "outputs": [
    {
     "output_type": "stream",
     "name": "stdout",
     "text": [
      "search: \u001b[0m\u001b[1mf\u001b[22m\u001b[0m\u001b[1mi\u001b[22m\u001b[0m\u001b[1mn\u001b[22m\u001b[0m\u001b[1md\u001b[22m\u001b[0m\u001b[1mn\u001b[22m\u001b[0m\u001b[1me\u001b[22m\u001b[0m\u001b[1mx\u001b[22m\u001b[0m\u001b[1mt\u001b[22m\n\n"
     ]
    },
    {
     "output_type": "execute_result",
     "data": {
      "text/plain": [
       "\u001b[36m  findnext(A, i)\u001b[39m\n",
       "\n",
       "  Find the next index after or including \u001b[36mi\u001b[39m of a \u001b[36mtrue\u001b[39m element of \u001b[36mA\u001b[39m, or \u001b[36mnothing\u001b[39m\n",
       "  if not found.\n",
       "\n",
       "  Indices are of the same type as those returned by \u001b[36mkeys(A)\u001b[39m and \u001b[36mpairs(A)\u001b[39m.\n",
       "\n",
       "\u001b[1m  Examples\u001b[22m\n",
       "\u001b[1m  ≡≡≡≡≡≡≡≡≡≡\u001b[22m\n",
       "\n",
       "\u001b[36m  julia> A = [false, false, true, false]\u001b[39m\n",
       "\u001b[36m  4-element Array{Bool,1}:\u001b[39m\n",
       "\u001b[36m   0\u001b[39m\n",
       "\u001b[36m   0\u001b[39m\n",
       "\u001b[36m   1\u001b[39m\n",
       "\u001b[36m   0\u001b[39m\n",
       "\u001b[36m  \u001b[39m\n",
       "\u001b[36m  julia> findnext(A, 1)\u001b[39m\n",
       "\u001b[36m  3\u001b[39m\n",
       "\u001b[36m  \u001b[39m\n",
       "\u001b[36m  julia> findnext(A, 4) # returns nothing, but not printed in the REPL\u001b[39m\n",
       "\u001b[36m  \u001b[39m\n",
       "\u001b[36m  julia> A = [false false; true false]\u001b[39m\n",
       "\u001b[36m  2×2 Array{Bool,2}:\u001b[39m\n",
       "\u001b[36m   0  0\u001b[39m\n",
       "\u001b[36m   1  0\u001b[39m\n",
       "\u001b[36m  \u001b[39m\n",
       "\u001b[36m  julia> findnext(A, CartesianIndex(1, 1))\u001b[39m\n",
       "\u001b[36m  CartesianIndex(2, 1)\u001b[39m\n",
       "\n",
       "  ────────────────────────────────────────────────────────────────────────────\n",
       "\n",
       "\u001b[36m  findnext(predicate::Function, A, i)\u001b[39m\n",
       "\n",
       "  Find the next index after or including \u001b[36mi\u001b[39m of an element of \u001b[36mA\u001b[39m for which\n",
       "  \u001b[36mpredicate\u001b[39m returns \u001b[36mtrue\u001b[39m, or \u001b[36mnothing\u001b[39m if not found.\n",
       "\n",
       "  Indices are of the same type as those returned by \u001b[36mkeys(A)\u001b[39m and \u001b[36mpairs(A)\u001b[39m.\n",
       "\n",
       "\u001b[1m  Examples\u001b[22m\n",
       "\u001b[1m  ≡≡≡≡≡≡≡≡≡≡\u001b[22m\n",
       "\n",
       "\u001b[36m  julia> A = [1, 4, 2, 2];\u001b[39m\n",
       "\u001b[36m  \u001b[39m\n",
       "\u001b[36m  julia> findnext(isodd, A, 1)\u001b[39m\n",
       "\u001b[36m  1\u001b[39m\n",
       "\u001b[36m  \u001b[39m\n",
       "\u001b[36m  julia> findnext(isodd, A, 2) # returns nothing, but not printed in the REPL\u001b[39m\n",
       "\u001b[36m  \u001b[39m\n",
       "\u001b[36m  julia> A = [1 4; 2 2];\u001b[39m\n",
       "\u001b[36m  \u001b[39m\n",
       "\u001b[36m  julia> findnext(isodd, A, CartesianIndex(1, 1))\u001b[39m\n",
       "\u001b[36m  CartesianIndex(1, 1)\u001b[39m\n",
       "\n",
       "  ────────────────────────────────────────────────────────────────────────────\n",
       "\n",
       "\u001b[36m  findnext(pattern::AbstractString, string::AbstractString, start::Integer)\u001b[39m\n",
       "\u001b[36m  findnext(pattern::Regex, string::String, start::Integer)\u001b[39m\n",
       "\n",
       "  Find the next occurrence of \u001b[36mpattern\u001b[39m in \u001b[36mstring\u001b[39m starting at position \u001b[36mstart\u001b[39m.\n",
       "  \u001b[36mpattern\u001b[39m can be either a string, or a regular expression, in which case\n",
       "  \u001b[36mstring\u001b[39m must be of type \u001b[36mString\u001b[39m.\n",
       "\n",
       "  The return value is a range of indices where the matching sequence is found,\n",
       "  such that \u001b[36ms[findnext(x, s, i)] == x\u001b[39m:\n",
       "\n",
       "  \u001b[36mfindnext(\"substring\", string, i)\u001b[39m == \u001b[36mstart:stop\u001b[39m such that \u001b[36mstring[start:stop]\n",
       "  == \"substring\"\u001b[39m and \u001b[36mi <= start\u001b[39m, or \u001b[36mnothing\u001b[39m if unmatched.\n",
       "\n",
       "\u001b[1m  Examples\u001b[22m\n",
       "\u001b[1m  ≡≡≡≡≡≡≡≡≡≡\u001b[22m\n",
       "\n",
       "\u001b[36m  julia> findnext(\"z\", \"Hello to the world\", 1) === nothing\u001b[39m\n",
       "\u001b[36m  true\u001b[39m\n",
       "\u001b[36m  \u001b[39m\n",
       "\u001b[36m  julia> findnext(\"o\", \"Hello to the world\", 6)\u001b[39m\n",
       "\u001b[36m  8:8\u001b[39m\n",
       "\u001b[36m  \u001b[39m\n",
       "\u001b[36m  julia> findnext(\"Lang\", \"JuliaLang\", 2)\u001b[39m\n",
       "\u001b[36m  6:9\u001b[39m\n",
       "\n",
       "  ────────────────────────────────────────────────────────────────────────────\n",
       "\n",
       "\u001b[36m  findnext(ch::AbstractChar, string::AbstractString, start::Integer)\u001b[39m\n",
       "\n",
       "  Find the next occurrence of character \u001b[36mch\u001b[39m in \u001b[36mstring\u001b[39m starting at position\n",
       "  \u001b[36mstart\u001b[39m.\n",
       "\n",
       "\u001b[39m\u001b[1m  │ \u001b[22m\u001b[39m\u001b[1mJulia 1.3\u001b[22m\n",
       "\u001b[39m\u001b[1m  │\u001b[22m\n",
       "\u001b[39m\u001b[1m  │\u001b[22m  This method requires at least Julia 1.3.\n",
       "\n",
       "\u001b[1m  Examples\u001b[22m\n",
       "\u001b[1m  ≡≡≡≡≡≡≡≡≡≡\u001b[22m\n",
       "\n",
       "\u001b[36m  julia> findnext('z', \"Hello to the world\", 1) === nothing\u001b[39m\n",
       "\u001b[36m  true\u001b[39m\n",
       "\u001b[36m  \u001b[39m\n",
       "\u001b[36m  julia> findnext('o', \"Hello to the world\", 6)\u001b[39m\n",
       "\u001b[36m  8\u001b[39m"
      ],
      "text/markdown": "```\nfindnext(A, i)\n```\n\nFind the next index after or including `i` of a `true` element of `A`, or `nothing` if not found.\n\nIndices are of the same type as those returned by [`keys(A)`](@ref) and [`pairs(A)`](@ref).\n\n# Examples\n\n```jldoctest\njulia> A = [false, false, true, false]\n4-element Array{Bool,1}:\n 0\n 0\n 1\n 0\n\njulia> findnext(A, 1)\n3\n\njulia> findnext(A, 4) # returns nothing, but not printed in the REPL\n\njulia> A = [false false; true false]\n2×2 Array{Bool,2}:\n 0  0\n 1  0\n\njulia> findnext(A, CartesianIndex(1, 1))\nCartesianIndex(2, 1)\n```\n\n---\n\n```\nfindnext(predicate::Function, A, i)\n```\n\nFind the next index after or including `i` of an element of `A` for which `predicate` returns `true`, or `nothing` if not found.\n\nIndices are of the same type as those returned by [`keys(A)`](@ref) and [`pairs(A)`](@ref).\n\n# Examples\n\n```jldoctest\njulia> A = [1, 4, 2, 2];\n\njulia> findnext(isodd, A, 1)\n1\n\njulia> findnext(isodd, A, 2) # returns nothing, but not printed in the REPL\n\njulia> A = [1 4; 2 2];\n\njulia> findnext(isodd, A, CartesianIndex(1, 1))\nCartesianIndex(1, 1)\n```\n\n---\n\n```\nfindnext(pattern::AbstractString, string::AbstractString, start::Integer)\nfindnext(pattern::Regex, string::String, start::Integer)\n```\n\nFind the next occurrence of `pattern` in `string` starting at position `start`. `pattern` can be either a string, or a regular expression, in which case `string` must be of type `String`.\n\nThe return value is a range of indices where the matching sequence is found, such that `s[findnext(x, s, i)] == x`:\n\n`findnext(\"substring\", string, i)` == `start:stop` such that `string[start:stop] == \"substring\"` and `i <= start`, or `nothing` if unmatched.\n\n# Examples\n\n```jldoctest\njulia> findnext(\"z\", \"Hello to the world\", 1) === nothing\ntrue\n\njulia> findnext(\"o\", \"Hello to the world\", 6)\n8:8\n\njulia> findnext(\"Lang\", \"JuliaLang\", 2)\n6:9\n```\n\n---\n\n```\nfindnext(ch::AbstractChar, string::AbstractString, start::Integer)\n```\n\nFind the next occurrence of character `ch` in `string` starting at position `start`.\n\n!!! compat \"Julia 1.3\"\n    This method requires at least Julia 1.3.\n\n\n# Examples\n\n```jldoctest\njulia> findnext('z', \"Hello to the world\", 1) === nothing\ntrue\n\njulia> findnext('o', \"Hello to the world\", 6)\n8\n```\n",
      "text/latex": "\\begin{verbatim}\nfindnext(A, i)\n\\end{verbatim}\nFind the next index after or including \\texttt{i} of a \\texttt{true} element of \\texttt{A}, or \\texttt{nothing} if not found.\n\nIndices are of the same type as those returned by \\href{@ref}{\\texttt{keys(A)}} and \\href{@ref}{\\texttt{pairs(A)}}.\n\n\\section{Examples}\n\\begin{verbatim}\njulia> A = [false, false, true, false]\n4-element Array{Bool,1}:\n 0\n 0\n 1\n 0\n\njulia> findnext(A, 1)\n3\n\njulia> findnext(A, 4) # returns nothing, but not printed in the REPL\n\njulia> A = [false false; true false]\n2×2 Array{Bool,2}:\n 0  0\n 1  0\n\njulia> findnext(A, CartesianIndex(1, 1))\nCartesianIndex(2, 1)\n\\end{verbatim}\n\\rule{\\textwidth}{1pt}\n\\begin{verbatim}\nfindnext(predicate::Function, A, i)\n\\end{verbatim}\nFind the next index after or including \\texttt{i} of an element of \\texttt{A} for which \\texttt{predicate} returns \\texttt{true}, or \\texttt{nothing} if not found.\n\nIndices are of the same type as those returned by \\href{@ref}{\\texttt{keys(A)}} and \\href{@ref}{\\texttt{pairs(A)}}.\n\n\\section{Examples}\n\\begin{verbatim}\njulia> A = [1, 4, 2, 2];\n\njulia> findnext(isodd, A, 1)\n1\n\njulia> findnext(isodd, A, 2) # returns nothing, but not printed in the REPL\n\njulia> A = [1 4; 2 2];\n\njulia> findnext(isodd, A, CartesianIndex(1, 1))\nCartesianIndex(1, 1)\n\\end{verbatim}\n\\rule{\\textwidth}{1pt}\n\\begin{verbatim}\nfindnext(pattern::AbstractString, string::AbstractString, start::Integer)\nfindnext(pattern::Regex, string::String, start::Integer)\n\\end{verbatim}\nFind the next occurrence of \\texttt{pattern} in \\texttt{string} starting at position \\texttt{start}. \\texttt{pattern} can be either a string, or a regular expression, in which case \\texttt{string} must be of type \\texttt{String}.\n\nThe return value is a range of indices where the matching sequence is found, such that \\texttt{s[findnext(x, s, i)] == x}:\n\n\\texttt{findnext(\"substring\", string, i)} == \\texttt{start:stop} such that \\texttt{string[start:stop] == \"substring\"} and \\texttt{i <= start}, or \\texttt{nothing} if unmatched.\n\n\\section{Examples}\n\\begin{verbatim}\njulia> findnext(\"z\", \"Hello to the world\", 1) === nothing\ntrue\n\njulia> findnext(\"o\", \"Hello to the world\", 6)\n8:8\n\njulia> findnext(\"Lang\", \"JuliaLang\", 2)\n6:9\n\\end{verbatim}\n\\rule{\\textwidth}{1pt}\n\\begin{verbatim}\nfindnext(ch::AbstractChar, string::AbstractString, start::Integer)\n\\end{verbatim}\nFind the next occurrence of character \\texttt{ch} in \\texttt{string} starting at position \\texttt{start}.\n\n\\begin{quote}\n\\textbf{compat}\n\nJulia 1.3\n\nThis method requires at least Julia 1.3.\n\n\\end{quote}\n\\section{Examples}\n\\begin{verbatim}\njulia> findnext('z', \"Hello to the world\", 1) === nothing\ntrue\n\njulia> findnext('o', \"Hello to the world\", 6)\n8\n\\end{verbatim}\n"
     },
     "metadata": {},
     "execution_count": 102
    }
   ],
   "source": [
    "?findnext"
   ]
  },
  {
   "cell_type": "code",
   "execution_count": 103,
   "metadata": {},
   "outputs": [
    {
     "output_type": "stream",
     "name": "stdout",
     "text": [
      "search: \u001b[0m\u001b[1mf\u001b[22m\u001b[0m\u001b[1mi\u001b[22m\u001b[0m\u001b[1mn\u001b[22m\u001b[0m\u001b[1md\u001b[22m\u001b[0m\u001b[1mp\u001b[22m\u001b[0m\u001b[1mr\u001b[22m\u001b[0m\u001b[1me\u001b[22m\u001b[0m\u001b[1mv\u001b[22m\n\n"
     ]
    },
    {
     "output_type": "execute_result",
     "data": {
      "text/plain": [
       "\u001b[36m  findprev(A, i)\u001b[39m\n",
       "\n",
       "  Find the previous index before or including \u001b[36mi\u001b[39m of a \u001b[36mtrue\u001b[39m element of \u001b[36mA\u001b[39m, or\n",
       "  \u001b[36mnothing\u001b[39m if not found.\n",
       "\n",
       "  Indices are of the same type as those returned by \u001b[36mkeys(A)\u001b[39m and \u001b[36mpairs(A)\u001b[39m.\n",
       "\n",
       "\u001b[1m  Examples\u001b[22m\n",
       "\u001b[1m  ≡≡≡≡≡≡≡≡≡≡\u001b[22m\n",
       "\n",
       "\u001b[36m  julia> A = [false, false, true, true]\u001b[39m\n",
       "\u001b[36m  4-element Array{Bool,1}:\u001b[39m\n",
       "\u001b[36m   0\u001b[39m\n",
       "\u001b[36m   0\u001b[39m\n",
       "\u001b[36m   1\u001b[39m\n",
       "\u001b[36m   1\u001b[39m\n",
       "\u001b[36m  \u001b[39m\n",
       "\u001b[36m  julia> findprev(A, 3)\u001b[39m\n",
       "\u001b[36m  3\u001b[39m\n",
       "\u001b[36m  \u001b[39m\n",
       "\u001b[36m  julia> findprev(A, 1) # returns nothing, but not printed in the REPL\u001b[39m\n",
       "\u001b[36m  \u001b[39m\n",
       "\u001b[36m  julia> A = [false false; true true]\u001b[39m\n",
       "\u001b[36m  2×2 Array{Bool,2}:\u001b[39m\n",
       "\u001b[36m   0  0\u001b[39m\n",
       "\u001b[36m   1  1\u001b[39m\n",
       "\u001b[36m  \u001b[39m\n",
       "\u001b[36m  julia> findprev(A, CartesianIndex(2, 1))\u001b[39m\n",
       "\u001b[36m  CartesianIndex(2, 1)\u001b[39m\n",
       "\n",
       "  ────────────────────────────────────────────────────────────────────────────\n",
       "\n",
       "\u001b[36m  findprev(predicate::Function, A, i)\u001b[39m\n",
       "\n",
       "  Find the previous index before or including \u001b[36mi\u001b[39m of an element of \u001b[36mA\u001b[39m for which\n",
       "  \u001b[36mpredicate\u001b[39m returns \u001b[36mtrue\u001b[39m, or \u001b[36mnothing\u001b[39m if not found.\n",
       "\n",
       "  Indices are of the same type as those returned by \u001b[36mkeys(A)\u001b[39m and \u001b[36mpairs(A)\u001b[39m.\n",
       "\n",
       "\u001b[1m  Examples\u001b[22m\n",
       "\u001b[1m  ≡≡≡≡≡≡≡≡≡≡\u001b[22m\n",
       "\n",
       "\u001b[36m  julia> A = [4, 6, 1, 2]\u001b[39m\n",
       "\u001b[36m  4-element Array{Int64,1}:\u001b[39m\n",
       "\u001b[36m   4\u001b[39m\n",
       "\u001b[36m   6\u001b[39m\n",
       "\u001b[36m   1\u001b[39m\n",
       "\u001b[36m   2\u001b[39m\n",
       "\u001b[36m  \u001b[39m\n",
       "\u001b[36m  julia> findprev(isodd, A, 1) # returns nothing, but not printed in the REPL\u001b[39m\n",
       "\u001b[36m  \u001b[39m\n",
       "\u001b[36m  julia> findprev(isodd, A, 3)\u001b[39m\n",
       "\u001b[36m  3\u001b[39m\n",
       "\u001b[36m  \u001b[39m\n",
       "\u001b[36m  julia> A = [4 6; 1 2]\u001b[39m\n",
       "\u001b[36m  2×2 Array{Int64,2}:\u001b[39m\n",
       "\u001b[36m   4  6\u001b[39m\n",
       "\u001b[36m   1  2\u001b[39m\n",
       "\u001b[36m  \u001b[39m\n",
       "\u001b[36m  julia> findprev(isodd, A, CartesianIndex(1, 2))\u001b[39m\n",
       "\u001b[36m  CartesianIndex(2, 1)\u001b[39m\n",
       "\n",
       "  ────────────────────────────────────────────────────────────────────────────\n",
       "\n",
       "\u001b[36m  findprev(pattern::AbstractString, string::AbstractString, start::Integer)\u001b[39m\n",
       "\n",
       "  Find the previous occurrence of \u001b[36mpattern\u001b[39m in \u001b[36mstring\u001b[39m starting at position\n",
       "  \u001b[36mstart\u001b[39m.\n",
       "\n",
       "  The return value is a range of indices where the matching sequence is found,\n",
       "  such that \u001b[36ms[findprev(x, s, i)] == x\u001b[39m:\n",
       "\n",
       "  \u001b[36mfindprev(\"substring\", string, i)\u001b[39m == \u001b[36mstart:stop\u001b[39m such that \u001b[36mstring[start:stop]\n",
       "  == \"substring\"\u001b[39m and \u001b[36mstop <= i\u001b[39m, or \u001b[36mnothing\u001b[39m if unmatched.\n",
       "\n",
       "\u001b[1m  Examples\u001b[22m\n",
       "\u001b[1m  ≡≡≡≡≡≡≡≡≡≡\u001b[22m\n",
       "\n",
       "\u001b[36m  julia> findprev(\"z\", \"Hello to the world\", 18) === nothing\u001b[39m\n",
       "\u001b[36m  true\u001b[39m\n",
       "\u001b[36m  \u001b[39m\n",
       "\u001b[36m  julia> findprev(\"o\", \"Hello to the world\", 18)\u001b[39m\n",
       "\u001b[36m  15:15\u001b[39m\n",
       "\u001b[36m  \u001b[39m\n",
       "\u001b[36m  julia> findprev(\"Julia\", \"JuliaLang\", 6)\u001b[39m\n",
       "\u001b[36m  1:5\u001b[39m\n",
       "\n",
       "  ────────────────────────────────────────────────────────────────────────────\n",
       "\n",
       "\u001b[36m  findprev(ch::AbstractChar, string::AbstractString, start::Integer)\u001b[39m\n",
       "\n",
       "  Find the previous occurrence of character \u001b[36mch\u001b[39m in \u001b[36mstring\u001b[39m starting at position\n",
       "  \u001b[36mstart\u001b[39m.\n",
       "\n",
       "\u001b[39m\u001b[1m  │ \u001b[22m\u001b[39m\u001b[1mJulia 1.3\u001b[22m\n",
       "\u001b[39m\u001b[1m  │\u001b[22m\n",
       "\u001b[39m\u001b[1m  │\u001b[22m  This method requires at least Julia 1.3.\n",
       "\n",
       "\u001b[1m  Examples\u001b[22m\n",
       "\u001b[1m  ≡≡≡≡≡≡≡≡≡≡\u001b[22m\n",
       "\n",
       "\u001b[36m  julia> findprev('z', \"Hello to the world\", 18) === nothing\u001b[39m\n",
       "\u001b[36m  true\u001b[39m\n",
       "\u001b[36m  \u001b[39m\n",
       "\u001b[36m  julia> findprev('o', \"Hello to the world\", 18)\u001b[39m\n",
       "\u001b[36m  15\u001b[39m"
      ],
      "text/markdown": "```\nfindprev(A, i)\n```\n\nFind the previous index before or including `i` of a `true` element of `A`, or `nothing` if not found.\n\nIndices are of the same type as those returned by [`keys(A)`](@ref) and [`pairs(A)`](@ref).\n\n# Examples\n\n```jldoctest\njulia> A = [false, false, true, true]\n4-element Array{Bool,1}:\n 0\n 0\n 1\n 1\n\njulia> findprev(A, 3)\n3\n\njulia> findprev(A, 1) # returns nothing, but not printed in the REPL\n\njulia> A = [false false; true true]\n2×2 Array{Bool,2}:\n 0  0\n 1  1\n\njulia> findprev(A, CartesianIndex(2, 1))\nCartesianIndex(2, 1)\n```\n\n---\n\n```\nfindprev(predicate::Function, A, i)\n```\n\nFind the previous index before or including `i` of an element of `A` for which `predicate` returns `true`, or `nothing` if not found.\n\nIndices are of the same type as those returned by [`keys(A)`](@ref) and [`pairs(A)`](@ref).\n\n# Examples\n\n```jldoctest\njulia> A = [4, 6, 1, 2]\n4-element Array{Int64,1}:\n 4\n 6\n 1\n 2\n\njulia> findprev(isodd, A, 1) # returns nothing, but not printed in the REPL\n\njulia> findprev(isodd, A, 3)\n3\n\njulia> A = [4 6; 1 2]\n2×2 Array{Int64,2}:\n 4  6\n 1  2\n\njulia> findprev(isodd, A, CartesianIndex(1, 2))\nCartesianIndex(2, 1)\n```\n\n---\n\n```\nfindprev(pattern::AbstractString, string::AbstractString, start::Integer)\n```\n\nFind the previous occurrence of `pattern` in `string` starting at position `start`.\n\nThe return value is a range of indices where the matching sequence is found, such that `s[findprev(x, s, i)] == x`:\n\n`findprev(\"substring\", string, i)` == `start:stop` such that `string[start:stop] == \"substring\"` and `stop <= i`, or `nothing` if unmatched.\n\n# Examples\n\n```jldoctest\njulia> findprev(\"z\", \"Hello to the world\", 18) === nothing\ntrue\n\njulia> findprev(\"o\", \"Hello to the world\", 18)\n15:15\n\njulia> findprev(\"Julia\", \"JuliaLang\", 6)\n1:5\n```\n\n---\n\n```\nfindprev(ch::AbstractChar, string::AbstractString, start::Integer)\n```\n\nFind the previous occurrence of character `ch` in `string` starting at position `start`.\n\n!!! compat \"Julia 1.3\"\n    This method requires at least Julia 1.3.\n\n\n# Examples\n\n```jldoctest\njulia> findprev('z', \"Hello to the world\", 18) === nothing\ntrue\n\njulia> findprev('o', \"Hello to the world\", 18)\n15\n```\n",
      "text/latex": "\\begin{verbatim}\nfindprev(A, i)\n\\end{verbatim}\nFind the previous index before or including \\texttt{i} of a \\texttt{true} element of \\texttt{A}, or \\texttt{nothing} if not found.\n\nIndices are of the same type as those returned by \\href{@ref}{\\texttt{keys(A)}} and \\href{@ref}{\\texttt{pairs(A)}}.\n\n\\section{Examples}\n\\begin{verbatim}\njulia> A = [false, false, true, true]\n4-element Array{Bool,1}:\n 0\n 0\n 1\n 1\n\njulia> findprev(A, 3)\n3\n\njulia> findprev(A, 1) # returns nothing, but not printed in the REPL\n\njulia> A = [false false; true true]\n2×2 Array{Bool,2}:\n 0  0\n 1  1\n\njulia> findprev(A, CartesianIndex(2, 1))\nCartesianIndex(2, 1)\n\\end{verbatim}\n\\rule{\\textwidth}{1pt}\n\\begin{verbatim}\nfindprev(predicate::Function, A, i)\n\\end{verbatim}\nFind the previous index before or including \\texttt{i} of an element of \\texttt{A} for which \\texttt{predicate} returns \\texttt{true}, or \\texttt{nothing} if not found.\n\nIndices are of the same type as those returned by \\href{@ref}{\\texttt{keys(A)}} and \\href{@ref}{\\texttt{pairs(A)}}.\n\n\\section{Examples}\n\\begin{verbatim}\njulia> A = [4, 6, 1, 2]\n4-element Array{Int64,1}:\n 4\n 6\n 1\n 2\n\njulia> findprev(isodd, A, 1) # returns nothing, but not printed in the REPL\n\njulia> findprev(isodd, A, 3)\n3\n\njulia> A = [4 6; 1 2]\n2×2 Array{Int64,2}:\n 4  6\n 1  2\n\njulia> findprev(isodd, A, CartesianIndex(1, 2))\nCartesianIndex(2, 1)\n\\end{verbatim}\n\\rule{\\textwidth}{1pt}\n\\begin{verbatim}\nfindprev(pattern::AbstractString, string::AbstractString, start::Integer)\n\\end{verbatim}\nFind the previous occurrence of \\texttt{pattern} in \\texttt{string} starting at position \\texttt{start}.\n\nThe return value is a range of indices where the matching sequence is found, such that \\texttt{s[findprev(x, s, i)] == x}:\n\n\\texttt{findprev(\"substring\", string, i)} == \\texttt{start:stop} such that \\texttt{string[start:stop] == \"substring\"} and \\texttt{stop <= i}, or \\texttt{nothing} if unmatched.\n\n\\section{Examples}\n\\begin{verbatim}\njulia> findprev(\"z\", \"Hello to the world\", 18) === nothing\ntrue\n\njulia> findprev(\"o\", \"Hello to the world\", 18)\n15:15\n\njulia> findprev(\"Julia\", \"JuliaLang\", 6)\n1:5\n\\end{verbatim}\n\\rule{\\textwidth}{1pt}\n\\begin{verbatim}\nfindprev(ch::AbstractChar, string::AbstractString, start::Integer)\n\\end{verbatim}\nFind the previous occurrence of character \\texttt{ch} in \\texttt{string} starting at position \\texttt{start}.\n\n\\begin{quote}\n\\textbf{compat}\n\nJulia 1.3\n\nThis method requires at least Julia 1.3.\n\n\\end{quote}\n\\section{Examples}\n\\begin{verbatim}\njulia> findprev('z', \"Hello to the world\", 18) === nothing\ntrue\n\njulia> findprev('o', \"Hello to the world\", 18)\n15\n\\end{verbatim}\n"
     },
     "metadata": {},
     "execution_count": 103
    }
   ],
   "source": [
    "?findprev"
   ]
  },
  {
   "source": [
    "You can use the occursin function to check if a substring is found within a string:"
   ],
   "cell_type": "markdown",
   "metadata": {}
  },
  {
   "cell_type": "code",
   "execution_count": 104,
   "metadata": {},
   "outputs": [
    {
     "output_type": "stream",
     "name": "stdout",
     "text": [
      "search: \u001b[0m\u001b[1mo\u001b[22m\u001b[0m\u001b[1mc\u001b[22m\u001b[0m\u001b[1mc\u001b[22m\u001b[0m\u001b[1mu\u001b[22m\u001b[0m\u001b[1mr\u001b[22m\u001b[0m\u001b[1ms\u001b[22m\u001b[0m\u001b[1mi\u001b[22m\u001b[0m\u001b[1mn\u001b[22m\n\n"
     ]
    },
    {
     "output_type": "execute_result",
     "data": {
      "text/plain": [
       "\u001b[36m  occursin(needle::Union{AbstractString,Regex,AbstractChar}, haystack::AbstractString)\u001b[39m\n",
       "\n",
       "  Determine whether the first argument is a substring of the second. If \u001b[36mneedle\u001b[39m\n",
       "  is a regular expression, checks whether \u001b[36mhaystack\u001b[39m contains a match.\n",
       "\n",
       "\u001b[1m  Examples\u001b[22m\n",
       "\u001b[1m  ≡≡≡≡≡≡≡≡≡≡\u001b[22m\n",
       "\n",
       "\u001b[36m  julia> occursin(\"Julia\", \"JuliaLang is pretty cool!\")\u001b[39m\n",
       "\u001b[36m  true\u001b[39m\n",
       "\u001b[36m  \u001b[39m\n",
       "\u001b[36m  julia> occursin('a', \"JuliaLang is pretty cool!\")\u001b[39m\n",
       "\u001b[36m  true\u001b[39m\n",
       "\u001b[36m  \u001b[39m\n",
       "\u001b[36m  julia> occursin(r\"a.a\", \"aba\")\u001b[39m\n",
       "\u001b[36m  true\u001b[39m\n",
       "\u001b[36m  \u001b[39m\n",
       "\u001b[36m  julia> occursin(r\"a.a\", \"abba\")\u001b[39m\n",
       "\u001b[36m  false\u001b[39m"
      ],
      "text/markdown": "```\noccursin(needle::Union{AbstractString,Regex,AbstractChar}, haystack::AbstractString)\n```\n\nDetermine whether the first argument is a substring of the second. If `needle` is a regular expression, checks whether `haystack` contains a match.\n\n# Examples\n\n```jldoctest\njulia> occursin(\"Julia\", \"JuliaLang is pretty cool!\")\ntrue\n\njulia> occursin('a', \"JuliaLang is pretty cool!\")\ntrue\n\njulia> occursin(r\"a.a\", \"aba\")\ntrue\n\njulia> occursin(r\"a.a\", \"abba\")\nfalse\n```\n",
      "text/latex": "\\begin{verbatim}\noccursin(needle::Union{AbstractString,Regex,AbstractChar}, haystack::AbstractString)\n\\end{verbatim}\nDetermine whether the first argument is a substring of the second. If \\texttt{needle} is a regular expression, checks whether \\texttt{haystack} contains a match.\n\n\\section{Examples}\n\\begin{verbatim}\njulia> occursin(\"Julia\", \"JuliaLang is pretty cool!\")\ntrue\n\njulia> occursin('a', \"JuliaLang is pretty cool!\")\ntrue\n\njulia> occursin(r\"a.a\", \"aba\")\ntrue\n\njulia> occursin(r\"a.a\", \"abba\")\nfalse\n\\end{verbatim}\n"
     },
     "metadata": {},
     "execution_count": 104
    }
   ],
   "source": [
    "?occursin"
   ]
  },
  {
   "cell_type": "code",
   "execution_count": 105,
   "metadata": {},
   "outputs": [
    {
     "output_type": "error",
     "ename": "LoadError",
     "evalue": "syntax: extra token \"other\" after end of expression",
     "traceback": [
      "syntax: extra token \"other\" after end of expression",
      ""
     ]
    }
   ],
   "source": [
    "Two other handy string functions are repeat and join:"
   ]
  },
  {
   "cell_type": "code",
   "execution_count": 106,
   "metadata": {},
   "outputs": [
    {
     "output_type": "stream",
     "name": "stdout",
     "text": [
      "search: \u001b[0m\u001b[1mr\u001b[22m\u001b[0m\u001b[1me\u001b[22m\u001b[0m\u001b[1mp\u001b[22m\u001b[0m\u001b[1me\u001b[22m\u001b[0m\u001b[1ma\u001b[22m\u001b[0m\u001b[1mt\u001b[22m\n\n"
     ]
    },
    {
     "output_type": "execute_result",
     "data": {
      "text/plain": [
       "\u001b[36m  repeat(A::AbstractArray, counts::Integer...)\u001b[39m\n",
       "\n",
       "  Construct an array by repeating array \u001b[36mA\u001b[39m a given number of times in each\n",
       "  dimension, specified by \u001b[36mcounts\u001b[39m.\n",
       "\n",
       "\u001b[1m  Examples\u001b[22m\n",
       "\u001b[1m  ≡≡≡≡≡≡≡≡≡≡\u001b[22m\n",
       "\n",
       "\u001b[36m  julia> repeat([1, 2, 3], 2)\u001b[39m\n",
       "\u001b[36m  6-element Array{Int64,1}:\u001b[39m\n",
       "\u001b[36m   1\u001b[39m\n",
       "\u001b[36m   2\u001b[39m\n",
       "\u001b[36m   3\u001b[39m\n",
       "\u001b[36m   1\u001b[39m\n",
       "\u001b[36m   2\u001b[39m\n",
       "\u001b[36m   3\u001b[39m\n",
       "\u001b[36m  \u001b[39m\n",
       "\u001b[36m  julia> repeat([1, 2, 3], 2, 3)\u001b[39m\n",
       "\u001b[36m  6×3 Array{Int64,2}:\u001b[39m\n",
       "\u001b[36m   1  1  1\u001b[39m\n",
       "\u001b[36m   2  2  2\u001b[39m\n",
       "\u001b[36m   3  3  3\u001b[39m\n",
       "\u001b[36m   1  1  1\u001b[39m\n",
       "\u001b[36m   2  2  2\u001b[39m\n",
       "\u001b[36m   3  3  3\u001b[39m\n",
       "\n",
       "  ────────────────────────────────────────────────────────────────────────────\n",
       "\n",
       "\u001b[36m  repeat(A::AbstractArray; inner=ntuple(x->1, ndims(A)), outer=ntuple(x->1, ndims(A)))\u001b[39m\n",
       "\n",
       "  Construct an array by repeating the entries of \u001b[36mA\u001b[39m. The i-th element of \u001b[36minner\u001b[39m\n",
       "  specifies the number of times that the individual entries of the i-th\n",
       "  dimension of \u001b[36mA\u001b[39m should be repeated. The i-th element of \u001b[36mouter\u001b[39m specifies the\n",
       "  number of times that a slice along the i-th dimension of \u001b[36mA\u001b[39m should be\n",
       "  repeated. If \u001b[36minner\u001b[39m or \u001b[36mouter\u001b[39m are omitted, no repetition is performed.\n",
       "\n",
       "\u001b[1m  Examples\u001b[22m\n",
       "\u001b[1m  ≡≡≡≡≡≡≡≡≡≡\u001b[22m\n",
       "\n",
       "\u001b[36m  julia> repeat(1:2, inner=2)\u001b[39m\n",
       "\u001b[36m  4-element Array{Int64,1}:\u001b[39m\n",
       "\u001b[36m   1\u001b[39m\n",
       "\u001b[36m   1\u001b[39m\n",
       "\u001b[36m   2\u001b[39m\n",
       "\u001b[36m   2\u001b[39m\n",
       "\u001b[36m  \u001b[39m\n",
       "\u001b[36m  julia> repeat(1:2, outer=2)\u001b[39m\n",
       "\u001b[36m  4-element Array{Int64,1}:\u001b[39m\n",
       "\u001b[36m   1\u001b[39m\n",
       "\u001b[36m   2\u001b[39m\n",
       "\u001b[36m   1\u001b[39m\n",
       "\u001b[36m   2\u001b[39m\n",
       "\u001b[36m  \u001b[39m\n",
       "\u001b[36m  julia> repeat([1 2; 3 4], inner=(2, 1), outer=(1, 3))\u001b[39m\n",
       "\u001b[36m  4×6 Array{Int64,2}:\u001b[39m\n",
       "\u001b[36m   1  2  1  2  1  2\u001b[39m\n",
       "\u001b[36m   1  2  1  2  1  2\u001b[39m\n",
       "\u001b[36m   3  4  3  4  3  4\u001b[39m\n",
       "\u001b[36m   3  4  3  4  3  4\u001b[39m\n",
       "\n",
       "  ────────────────────────────────────────────────────────────────────────────\n",
       "\n",
       "\u001b[36m  repeat(s::AbstractString, r::Integer)\u001b[39m\n",
       "\n",
       "  Repeat a string \u001b[36mr\u001b[39m times. This can be written as \u001b[36ms^r\u001b[39m.\n",
       "\n",
       "  See also: \u001b[36m^\u001b[39m\n",
       "\n",
       "\u001b[1m  Examples\u001b[22m\n",
       "\u001b[1m  ≡≡≡≡≡≡≡≡≡≡\u001b[22m\n",
       "\n",
       "\u001b[36m  julia> repeat(\"ha\", 3)\u001b[39m\n",
       "\u001b[36m  \"hahaha\"\u001b[39m\n",
       "\n",
       "  ────────────────────────────────────────────────────────────────────────────\n",
       "\n",
       "\u001b[36m  repeat(c::AbstractChar, r::Integer) -> String\u001b[39m\n",
       "\n",
       "  Repeat a character \u001b[36mr\u001b[39m times. This can equivalently be accomplished by calling\n",
       "  \u001b[36mc^r\u001b[39m.\n",
       "\n",
       "\u001b[1m  Examples\u001b[22m\n",
       "\u001b[1m  ≡≡≡≡≡≡≡≡≡≡\u001b[22m\n",
       "\n",
       "\u001b[36m  julia> repeat('A', 3)\u001b[39m\n",
       "\u001b[36m  \"AAA\"\u001b[39m"
      ],
      "text/markdown": "```\nrepeat(A::AbstractArray, counts::Integer...)\n```\n\nConstruct an array by repeating array `A` a given number of times in each dimension, specified by `counts`.\n\n# Examples\n\n```jldoctest\njulia> repeat([1, 2, 3], 2)\n6-element Array{Int64,1}:\n 1\n 2\n 3\n 1\n 2\n 3\n\njulia> repeat([1, 2, 3], 2, 3)\n6×3 Array{Int64,2}:\n 1  1  1\n 2  2  2\n 3  3  3\n 1  1  1\n 2  2  2\n 3  3  3\n```\n\n---\n\n```\nrepeat(A::AbstractArray; inner=ntuple(x->1, ndims(A)), outer=ntuple(x->1, ndims(A)))\n```\n\nConstruct an array by repeating the entries of `A`. The i-th element of `inner` specifies the number of times that the individual entries of the i-th dimension of `A` should be repeated. The i-th element of `outer` specifies the number of times that a slice along the i-th dimension of `A` should be repeated. If `inner` or `outer` are omitted, no repetition is performed.\n\n# Examples\n\n```jldoctest\njulia> repeat(1:2, inner=2)\n4-element Array{Int64,1}:\n 1\n 1\n 2\n 2\n\njulia> repeat(1:2, outer=2)\n4-element Array{Int64,1}:\n 1\n 2\n 1\n 2\n\njulia> repeat([1 2; 3 4], inner=(2, 1), outer=(1, 3))\n4×6 Array{Int64,2}:\n 1  2  1  2  1  2\n 1  2  1  2  1  2\n 3  4  3  4  3  4\n 3  4  3  4  3  4\n```\n\n---\n\n```\nrepeat(s::AbstractString, r::Integer)\n```\n\nRepeat a string `r` times. This can be written as `s^r`.\n\nSee also: [`^`](@ref)\n\n# Examples\n\n```jldoctest\njulia> repeat(\"ha\", 3)\n\"hahaha\"\n```\n\n---\n\n```\nrepeat(c::AbstractChar, r::Integer) -> String\n```\n\nRepeat a character `r` times. This can equivalently be accomplished by calling [`c^r`](@ref ^).\n\n# Examples\n\n```jldoctest\njulia> repeat('A', 3)\n\"AAA\"\n```\n",
      "text/latex": "\\begin{verbatim}\nrepeat(A::AbstractArray, counts::Integer...)\n\\end{verbatim}\nConstruct an array by repeating array \\texttt{A} a given number of times in each dimension, specified by \\texttt{counts}.\n\n\\section{Examples}\n\\begin{verbatim}\njulia> repeat([1, 2, 3], 2)\n6-element Array{Int64,1}:\n 1\n 2\n 3\n 1\n 2\n 3\n\njulia> repeat([1, 2, 3], 2, 3)\n6×3 Array{Int64,2}:\n 1  1  1\n 2  2  2\n 3  3  3\n 1  1  1\n 2  2  2\n 3  3  3\n\\end{verbatim}\n\\rule{\\textwidth}{1pt}\n\\begin{verbatim}\nrepeat(A::AbstractArray; inner=ntuple(x->1, ndims(A)), outer=ntuple(x->1, ndims(A)))\n\\end{verbatim}\nConstruct an array by repeating the entries of \\texttt{A}. The i-th element of \\texttt{inner} specifies the number of times that the individual entries of the i-th dimension of \\texttt{A} should be repeated. The i-th element of \\texttt{outer} specifies the number of times that a slice along the i-th dimension of \\texttt{A} should be repeated. If \\texttt{inner} or \\texttt{outer} are omitted, no repetition is performed.\n\n\\section{Examples}\n\\begin{verbatim}\njulia> repeat(1:2, inner=2)\n4-element Array{Int64,1}:\n 1\n 1\n 2\n 2\n\njulia> repeat(1:2, outer=2)\n4-element Array{Int64,1}:\n 1\n 2\n 1\n 2\n\njulia> repeat([1 2; 3 4], inner=(2, 1), outer=(1, 3))\n4×6 Array{Int64,2}:\n 1  2  1  2  1  2\n 1  2  1  2  1  2\n 3  4  3  4  3  4\n 3  4  3  4  3  4\n\\end{verbatim}\n\\rule{\\textwidth}{1pt}\n\\begin{verbatim}\nrepeat(s::AbstractString, r::Integer)\n\\end{verbatim}\nRepeat a string \\texttt{r} times. This can be written as \\texttt{s\\^{}r}.\n\nSee also: \\href{@ref}{\\texttt{\\^{}}}\n\n\\section{Examples}\n\\begin{verbatim}\njulia> repeat(\"ha\", 3)\n\"hahaha\"\n\\end{verbatim}\n\\rule{\\textwidth}{1pt}\n\\begin{verbatim}\nrepeat(c::AbstractChar, r::Integer) -> String\n\\end{verbatim}\nRepeat a character \\texttt{r} times. This can equivalently be accomplished by calling \\href{@ref ^}{\\texttt{c\\^{}r}}.\n\n\\section{Examples}\n\\begin{verbatim}\njulia> repeat('A', 3)\n\"AAA\"\n\\end{verbatim}\n"
     },
     "metadata": {},
     "execution_count": 106
    }
   ],
   "source": [
    "?repeat"
   ]
  },
  {
   "cell_type": "code",
   "execution_count": 107,
   "metadata": {},
   "outputs": [
    {
     "output_type": "stream",
     "name": "stdout",
     "text": [
      "search: \u001b[0m\u001b[1mj\u001b[22m\u001b[0m\u001b[1mo\u001b[22m\u001b[0m\u001b[1mi\u001b[22m\u001b[0m\u001b[1mn\u001b[22m \u001b[0m\u001b[1mj\u001b[22m\u001b[0m\u001b[1mo\u001b[22m\u001b[0m\u001b[1mi\u001b[22m\u001b[0m\u001b[1mn\u001b[22mpath ad\u001b[0m\u001b[1mj\u001b[22m\u001b[0m\u001b[1mo\u001b[22m\u001b[0m\u001b[1mi\u001b[22m\u001b[0m\u001b[1mn\u001b[22mt type\u001b[0m\u001b[1mj\u001b[22m\u001b[0m\u001b[1mo\u001b[22m\u001b[0m\u001b[1mi\u001b[22m\u001b[0m\u001b[1mn\u001b[22m\n\n"
     ]
    },
    {
     "output_type": "execute_result",
     "data": {
      "text/plain": [
       "\u001b[36m  join([io::IO,] strings [, delim [, last]])\u001b[39m\n",
       "\n",
       "  Join an array of \u001b[36mstrings\u001b[39m into a single string, inserting the given delimiter\n",
       "  (if any) between adjacent strings. If \u001b[36mlast\u001b[39m is given, it will be used instead\n",
       "  of \u001b[36mdelim\u001b[39m between the last two strings. If \u001b[36mio\u001b[39m is given, the result is written\n",
       "  to \u001b[36mio\u001b[39m rather than returned as as a \u001b[36mString\u001b[39m.\n",
       "\n",
       "  \u001b[36mstrings\u001b[39m can be any iterable over elements \u001b[36mx\u001b[39m which are convertible to strings\n",
       "  via \u001b[36mprint(io::IOBuffer, x)\u001b[39m. \u001b[36mstrings\u001b[39m will be printed to \u001b[36mio\u001b[39m.\n",
       "\n",
       "\u001b[1m  Examples\u001b[22m\n",
       "\u001b[1m  ≡≡≡≡≡≡≡≡≡≡\u001b[22m\n",
       "\n",
       "\u001b[36m  julia> join([\"apples\", \"bananas\", \"pineapples\"], \", \", \" and \")\u001b[39m\n",
       "\u001b[36m  \"apples, bananas and pineapples\"\u001b[39m\n",
       "\u001b[36m  \u001b[39m\n",
       "\u001b[36m  julia> join([1,2,3,4,5])\u001b[39m\n",
       "\u001b[36m  \"12345\"\u001b[39m"
      ],
      "text/markdown": "```\njoin([io::IO,] strings [, delim [, last]])\n```\n\nJoin an array of `strings` into a single string, inserting the given delimiter (if any) between adjacent strings. If `last` is given, it will be used instead of `delim` between the last two strings. If `io` is given, the result is written to `io` rather than returned as as a `String`.\n\n`strings` can be any iterable over elements `x` which are convertible to strings via `print(io::IOBuffer, x)`. `strings` will be printed to `io`.\n\n# Examples\n\n```jldoctest\njulia> join([\"apples\", \"bananas\", \"pineapples\"], \", \", \" and \")\n\"apples, bananas and pineapples\"\n\njulia> join([1,2,3,4,5])\n\"12345\"\n```\n",
      "text/latex": "\\begin{verbatim}\njoin([io::IO,] strings [, delim [, last]])\n\\end{verbatim}\nJoin an array of \\texttt{strings} into a single string, inserting the given delimiter (if any) between adjacent strings. If \\texttt{last} is given, it will be used instead of \\texttt{delim} between the last two strings. If \\texttt{io} is given, the result is written to \\texttt{io} rather than returned as as a \\texttt{String}.\n\n\\texttt{strings} can be any iterable over elements \\texttt{x} which are convertible to strings via \\texttt{print(io::IOBuffer, x)}. \\texttt{strings} will be printed to \\texttt{io}.\n\n\\section{Examples}\n\\begin{verbatim}\njulia> join([\"apples\", \"bananas\", \"pineapples\"], \", \", \" and \")\n\"apples, bananas and pineapples\"\n\njulia> join([1,2,3,4,5])\n\"12345\"\n\\end{verbatim}\n"
     },
     "metadata": {},
     "execution_count": 107
    }
   ],
   "source": [
    "?join"
   ]
  },
  {
   "cell_type": "code",
   "execution_count": 108,
   "metadata": {},
   "outputs": [
    {
     "output_type": "stream",
     "name": "stdout",
     "text": [
      "search: \u001b[0m\u001b[1mf\u001b[22m\u001b[0m\u001b[1mi\u001b[22m\u001b[0m\u001b[1mr\u001b[22m\u001b[0m\u001b[1ms\u001b[22m\u001b[0m\u001b[1mt\u001b[22m\u001b[0m\u001b[1mi\u001b[22m\u001b[0m\u001b[1mn\u001b[22m\u001b[0m\u001b[1md\u001b[22m\u001b[0m\u001b[1me\u001b[22m\u001b[0m\u001b[1mx\u001b[22m\n\n"
     ]
    },
    {
     "output_type": "execute_result",
     "data": {
      "text/plain": [
       "\u001b[36m  firstindex(collection) -> Integer\u001b[39m\n",
       "\u001b[36m  firstindex(collection, d) -> Integer\u001b[39m\n",
       "\n",
       "  Return the first index of \u001b[36mcollection\u001b[39m. If \u001b[36md\u001b[39m is given, return the first index\n",
       "  of \u001b[36mcollection\u001b[39m along dimension \u001b[36md\u001b[39m.\n",
       "\n",
       "\u001b[1m  Examples\u001b[22m\n",
       "\u001b[1m  ≡≡≡≡≡≡≡≡≡≡\u001b[22m\n",
       "\n",
       "\u001b[36m  julia> firstindex([1,2,4])\u001b[39m\n",
       "\u001b[36m  1\u001b[39m\n",
       "\u001b[36m  \u001b[39m\n",
       "\u001b[36m  julia> firstindex(rand(3,4,5), 2)\u001b[39m\n",
       "\u001b[36m  1\u001b[39m"
      ],
      "text/markdown": "```\nfirstindex(collection) -> Integer\nfirstindex(collection, d) -> Integer\n```\n\nReturn the first index of `collection`. If `d` is given, return the first index of `collection` along dimension `d`.\n\n# Examples\n\n```jldoctest\njulia> firstindex([1,2,4])\n1\n\njulia> firstindex(rand(3,4,5), 2)\n1\n```\n",
      "text/latex": "\\begin{verbatim}\nfirstindex(collection) -> Integer\nfirstindex(collection, d) -> Integer\n\\end{verbatim}\nReturn the first index of \\texttt{collection}. If \\texttt{d} is given, return the first index of \\texttt{collection} along dimension \\texttt{d}.\n\n\\section{Examples}\n\\begin{verbatim}\njulia> firstindex([1,2,4])\n1\n\njulia> firstindex(rand(3,4,5), 2)\n1\n\\end{verbatim}\n"
     },
     "metadata": {},
     "execution_count": 108
    }
   ],
   "source": [
    "?firstindex"
   ]
  },
  {
   "cell_type": "code",
   "execution_count": 109,
   "metadata": {},
   "outputs": [
    {
     "output_type": "stream",
     "name": "stdout",
     "text": [
      "search: \u001b[0m\u001b[1ml\u001b[22m\u001b[0m\u001b[1ma\u001b[22m\u001b[0m\u001b[1ms\u001b[22m\u001b[0m\u001b[1mt\u001b[22m\u001b[0m\u001b[1mi\u001b[22m\u001b[0m\u001b[1mn\u001b[22m\u001b[0m\u001b[1md\u001b[22m\u001b[0m\u001b[1me\u001b[22m\u001b[0m\u001b[1mx\u001b[22m\n\n"
     ]
    },
    {
     "output_type": "execute_result",
     "data": {
      "text/plain": [
       "\u001b[36m  lastindex(collection) -> Integer\u001b[39m\n",
       "\u001b[36m  lastindex(collection, d) -> Integer\u001b[39m\n",
       "\n",
       "  Return the last index of \u001b[36mcollection\u001b[39m. If \u001b[36md\u001b[39m is given, return the last index of\n",
       "  \u001b[36mcollection\u001b[39m along dimension \u001b[36md\u001b[39m.\n",
       "\n",
       "  The syntaxes \u001b[36mA[end]\u001b[39m and \u001b[36mA[end, end]\u001b[39m lower to \u001b[36mA[lastindex(A)]\u001b[39m and\n",
       "  \u001b[36mA[lastindex(A, 1), lastindex(A, 2)]\u001b[39m, respectively.\n",
       "\n",
       "\u001b[1m  Examples\u001b[22m\n",
       "\u001b[1m  ≡≡≡≡≡≡≡≡≡≡\u001b[22m\n",
       "\n",
       "\u001b[36m  julia> lastindex([1,2,4])\u001b[39m\n",
       "\u001b[36m  3\u001b[39m\n",
       "\u001b[36m  \u001b[39m\n",
       "\u001b[36m  julia> lastindex(rand(3,4,5), 2)\u001b[39m\n",
       "\u001b[36m  4\u001b[39m"
      ],
      "text/markdown": "```\nlastindex(collection) -> Integer\nlastindex(collection, d) -> Integer\n```\n\nReturn the last index of `collection`. If `d` is given, return the last index of `collection` along dimension `d`.\n\nThe syntaxes `A[end]` and `A[end, end]` lower to `A[lastindex(A)]` and `A[lastindex(A, 1), lastindex(A, 2)]`, respectively.\n\n# Examples\n\n```jldoctest\njulia> lastindex([1,2,4])\n3\n\njulia> lastindex(rand(3,4,5), 2)\n4\n```\n",
      "text/latex": "\\begin{verbatim}\nlastindex(collection) -> Integer\nlastindex(collection, d) -> Integer\n\\end{verbatim}\nReturn the last index of \\texttt{collection}. If \\texttt{d} is given, return the last index of \\texttt{collection} along dimension \\texttt{d}.\n\nThe syntaxes \\texttt{A[end]} and \\texttt{A[end, end]} lower to \\texttt{A[lastindex(A)]} and \\texttt{A[lastindex(A, 1), lastindex(A, 2)]}, respectively.\n\n\\section{Examples}\n\\begin{verbatim}\njulia> lastindex([1,2,4])\n3\n\njulia> lastindex(rand(3,4,5), 2)\n4\n\\end{verbatim}\n"
     },
     "metadata": {},
     "execution_count": 109
    }
   ],
   "source": [
    "?lastindex"
   ]
  },
  {
   "cell_type": "code",
   "execution_count": 110,
   "metadata": {},
   "outputs": [
    {
     "output_type": "stream",
     "name": "stdout",
     "text": [
      "search: \u001b[0m\u001b[1ml\u001b[22m\u001b[0m\u001b[1me\u001b[22m\u001b[0m\u001b[1mn\u001b[22m\u001b[0m\u001b[1mg\u001b[22m\u001b[0m\u001b[1mt\u001b[22m\u001b[0m\u001b[1mh\u001b[22m\n\n"
     ]
    },
    {
     "output_type": "execute_result",
     "data": {
      "text/plain": [
       "\u001b[36m  length(collection) -> Integer\u001b[39m\n",
       "\n",
       "  Return the number of elements in the collection.\n",
       "\n",
       "  Use \u001b[36mlastindex\u001b[39m to get the last valid index of an indexable collection.\n",
       "\n",
       "\u001b[1m  Examples\u001b[22m\n",
       "\u001b[1m  ≡≡≡≡≡≡≡≡≡≡\u001b[22m\n",
       "\n",
       "\u001b[36m  julia> length(1:5)\u001b[39m\n",
       "\u001b[36m  5\u001b[39m\n",
       "\u001b[36m  \u001b[39m\n",
       "\u001b[36m  julia> length([1, 2, 3, 4])\u001b[39m\n",
       "\u001b[36m  4\u001b[39m\n",
       "\u001b[36m  \u001b[39m\n",
       "\u001b[36m  julia> length([1 2; 3 4])\u001b[39m\n",
       "\u001b[36m  4\u001b[39m\n",
       "\n",
       "  ────────────────────────────────────────────────────────────────────────────\n",
       "\n",
       "\u001b[36m  length(A::AbstractArray)\u001b[39m\n",
       "\n",
       "  Return the number of elements in the array, defaults to \u001b[36mprod(size(A))\u001b[39m.\n",
       "\n",
       "\u001b[1m  Examples\u001b[22m\n",
       "\u001b[1m  ≡≡≡≡≡≡≡≡≡≡\u001b[22m\n",
       "\n",
       "\u001b[36m  julia> length([1, 2, 3, 4])\u001b[39m\n",
       "\u001b[36m  4\u001b[39m\n",
       "\u001b[36m  \u001b[39m\n",
       "\u001b[36m  julia> length([1 2; 3 4])\u001b[39m\n",
       "\u001b[36m  4\u001b[39m\n",
       "\n",
       "  ────────────────────────────────────────────────────────────────────────────\n",
       "\n",
       "\u001b[36m  length(s::AbstractString) -> Int\u001b[39m\n",
       "\u001b[36m  length(s::AbstractString, i::Integer, j::Integer) -> Int\u001b[39m\n",
       "\n",
       "  The number of characters in string \u001b[36ms\u001b[39m from indices \u001b[36mi\u001b[39m through \u001b[36mj\u001b[39m. This is\n",
       "  computed as the number of code unit indices from \u001b[36mi\u001b[39m to \u001b[36mj\u001b[39m which are valid\n",
       "  character indices. With only a single string argument, this computes the\n",
       "  number of characters in the entire string. With \u001b[36mi\u001b[39m and \u001b[36mj\u001b[39m arguments it\n",
       "  computes the number of indices between \u001b[36mi\u001b[39m and \u001b[36mj\u001b[39m inclusive that are valid\n",
       "  indices in the string \u001b[36ms\u001b[39m. In addition to in-bounds values, \u001b[36mi\u001b[39m may take the\n",
       "  out-of-bounds value \u001b[36mncodeunits(s) + 1\u001b[39m and \u001b[36mj\u001b[39m may take the out-of-bounds value\n",
       "  \u001b[36m0\u001b[39m.\n",
       "\n",
       "  See also: \u001b[36misvalid\u001b[39m, \u001b[36mncodeunits\u001b[39m, \u001b[36mlastindex\u001b[39m, \u001b[36mthisind\u001b[39m, \u001b[36mnextind\u001b[39m, \u001b[36mprevind\u001b[39m\n",
       "\n",
       "\u001b[1m  Examples\u001b[22m\n",
       "\u001b[1m  ≡≡≡≡≡≡≡≡≡≡\u001b[22m\n",
       "\n",
       "\u001b[36m  julia> length(\"jμΛIα\")\u001b[39m\n",
       "\u001b[36m  5\u001b[39m"
      ],
      "text/markdown": "```\nlength(collection) -> Integer\n```\n\nReturn the number of elements in the collection.\n\nUse [`lastindex`](@ref) to get the last valid index of an indexable collection.\n\n# Examples\n\n```jldoctest\njulia> length(1:5)\n5\n\njulia> length([1, 2, 3, 4])\n4\n\njulia> length([1 2; 3 4])\n4\n```\n\n---\n\n```\nlength(A::AbstractArray)\n```\n\nReturn the number of elements in the array, defaults to `prod(size(A))`.\n\n# Examples\n\n```jldoctest\njulia> length([1, 2, 3, 4])\n4\n\njulia> length([1 2; 3 4])\n4\n```\n\n---\n\n```\nlength(s::AbstractString) -> Int\nlength(s::AbstractString, i::Integer, j::Integer) -> Int\n```\n\nThe number of characters in string `s` from indices `i` through `j`. This is computed as the number of code unit indices from `i` to `j` which are valid character indices. With only a single string argument, this computes the number of characters in the entire string. With `i` and `j` arguments it computes the number of indices between `i` and `j` inclusive that are valid indices in the string `s`. In addition to in-bounds values, `i` may take the out-of-bounds value `ncodeunits(s) + 1` and `j` may take the out-of-bounds value `0`.\n\nSee also: [`isvalid`](@ref), [`ncodeunits`](@ref), [`lastindex`](@ref), [`thisind`](@ref), [`nextind`](@ref), [`prevind`](@ref)\n\n# Examples\n\n```jldoctest\njulia> length(\"jμΛIα\")\n5\n```\n",
      "text/latex": "\\begin{verbatim}\nlength(collection) -> Integer\n\\end{verbatim}\nReturn the number of elements in the collection.\n\nUse \\href{@ref}{\\texttt{lastindex}} to get the last valid index of an indexable collection.\n\n\\section{Examples}\n\\begin{verbatim}\njulia> length(1:5)\n5\n\njulia> length([1, 2, 3, 4])\n4\n\njulia> length([1 2; 3 4])\n4\n\\end{verbatim}\n\\rule{\\textwidth}{1pt}\n\\begin{verbatim}\nlength(A::AbstractArray)\n\\end{verbatim}\nReturn the number of elements in the array, defaults to \\texttt{prod(size(A))}.\n\n\\section{Examples}\n\\begin{verbatim}\njulia> length([1, 2, 3, 4])\n4\n\njulia> length([1 2; 3 4])\n4\n\\end{verbatim}\n\\rule{\\textwidth}{1pt}\n\\begin{verbatim}\nlength(s::AbstractString) -> Int\nlength(s::AbstractString, i::Integer, j::Integer) -> Int\n\\end{verbatim}\nThe number of characters in string \\texttt{s} from indices \\texttt{i} through \\texttt{j}. This is computed as the number of code unit indices from \\texttt{i} to \\texttt{j} which are valid character indices. With only a single string argument, this computes the number of characters in the entire string. With \\texttt{i} and \\texttt{j} arguments it computes the number of indices between \\texttt{i} and \\texttt{j} inclusive that are valid indices in the string \\texttt{s}. In addition to in-bounds values, \\texttt{i} may take the out-of-bounds value \\texttt{ncodeunits(s) + 1} and \\texttt{j} may take the out-of-bounds value \\texttt{0}.\n\nSee also: \\href{@ref}{\\texttt{isvalid}}, \\href{@ref}{\\texttt{ncodeunits}}, \\href{@ref}{\\texttt{lastindex}}, \\href{@ref}{\\texttt{thisind}}, \\href{@ref}{\\texttt{nextind}}, \\href{@ref}{\\texttt{prevind}}\n\n\\section{Examples}\n\\begin{verbatim}\njulia> length(\"jμΛIα\")\n5\n\\end{verbatim}\n"
     },
     "metadata": {},
     "execution_count": 110
    }
   ],
   "source": [
    "?length"
   ]
  },
  {
   "cell_type": "code",
   "execution_count": 111,
   "metadata": {},
   "outputs": [
    {
     "output_type": "stream",
     "name": "stdout",
     "text": [
      "search: \u001b[0m\u001b[1mt\u001b[22m\u001b[0m\u001b[1mh\u001b[22m\u001b[0m\u001b[1mi\u001b[22m\u001b[0m\u001b[1ms\u001b[22m\u001b[0m\u001b[1mi\u001b[22m\u001b[0m\u001b[1mn\u001b[22m\u001b[0m\u001b[1md\u001b[22m\n\n"
     ]
    },
    {
     "output_type": "execute_result",
     "data": {
      "text/plain": [
       "\u001b[36m  thisind(s::AbstractString, i::Integer) -> Int\u001b[39m\n",
       "\n",
       "  If \u001b[36mi\u001b[39m is in bounds in \u001b[36ms\u001b[39m return the index of the start of the character whose\n",
       "  encoding code unit \u001b[36mi\u001b[39m is part of. In other words, if \u001b[36mi\u001b[39m is the start of a\n",
       "  character, return \u001b[36mi\u001b[39m; if \u001b[36mi\u001b[39m is not the start of a character, rewind until the\n",
       "  start of a character and return that index. If \u001b[36mi\u001b[39m is equal to 0 or\n",
       "  \u001b[36mncodeunits(s)+1\u001b[39m return \u001b[36mi\u001b[39m. In all other cases throw \u001b[36mBoundsError\u001b[39m.\n",
       "\n",
       "\u001b[1m  Examples\u001b[22m\n",
       "\u001b[1m  ≡≡≡≡≡≡≡≡≡≡\u001b[22m\n",
       "\n",
       "\u001b[36m  julia> thisind(\"α\", 0)\u001b[39m\n",
       "\u001b[36m  0\u001b[39m\n",
       "\u001b[36m  \u001b[39m\n",
       "\u001b[36m  julia> thisind(\"α\", 1)\u001b[39m\n",
       "\u001b[36m  1\u001b[39m\n",
       "\u001b[36m  \u001b[39m\n",
       "\u001b[36m  julia> thisind(\"α\", 2)\u001b[39m\n",
       "\u001b[36m  1\u001b[39m\n",
       "\u001b[36m  \u001b[39m\n",
       "\u001b[36m  julia> thisind(\"α\", 3)\u001b[39m\n",
       "\u001b[36m  3\u001b[39m\n",
       "\u001b[36m  \u001b[39m\n",
       "\u001b[36m  julia> thisind(\"α\", 4)\u001b[39m\n",
       "\u001b[36m  ERROR: BoundsError: attempt to access String\u001b[39m\n",
       "\u001b[36m    at index [4]\u001b[39m\n",
       "\u001b[36m  [...]\u001b[39m\n",
       "\u001b[36m  \u001b[39m\n",
       "\u001b[36m  julia> thisind(\"α\", -1)\u001b[39m\n",
       "\u001b[36m  ERROR: BoundsError: attempt to access String\u001b[39m\n",
       "\u001b[36m    at index [-1]\u001b[39m\n",
       "\u001b[36m  [...]\u001b[39m"
      ],
      "text/markdown": "```\nthisind(s::AbstractString, i::Integer) -> Int\n```\n\nIf `i` is in bounds in `s` return the index of the start of the character whose encoding code unit `i` is part of. In other words, if `i` is the start of a character, return `i`; if `i` is not the start of a character, rewind until the start of a character and return that index. If `i` is equal to 0 or `ncodeunits(s)+1` return `i`. In all other cases throw `BoundsError`.\n\n# Examples\n\n```jldoctest\njulia> thisind(\"α\", 0)\n0\n\njulia> thisind(\"α\", 1)\n1\n\njulia> thisind(\"α\", 2)\n1\n\njulia> thisind(\"α\", 3)\n3\n\njulia> thisind(\"α\", 4)\nERROR: BoundsError: attempt to access String\n  at index [4]\n[...]\n\njulia> thisind(\"α\", -1)\nERROR: BoundsError: attempt to access String\n  at index [-1]\n[...]\n```\n",
      "text/latex": "\\begin{verbatim}\nthisind(s::AbstractString, i::Integer) -> Int\n\\end{verbatim}\nIf \\texttt{i} is in bounds in \\texttt{s} return the index of the start of the character whose encoding code unit \\texttt{i} is part of. In other words, if \\texttt{i} is the start of a character, return \\texttt{i}; if \\texttt{i} is not the start of a character, rewind until the start of a character and return that index. If \\texttt{i} is equal to 0 or \\texttt{ncodeunits(s)+1} return \\texttt{i}. In all other cases throw \\texttt{BoundsError}.\n\n\\section{Examples}\n\\begin{verbatim}\njulia> thisind(\"α\", 0)\n0\n\njulia> thisind(\"α\", 1)\n1\n\njulia> thisind(\"α\", 2)\n1\n\njulia> thisind(\"α\", 3)\n3\n\njulia> thisind(\"α\", 4)\nERROR: BoundsError: attempt to access String\n  at index [4]\n[...]\n\njulia> thisind(\"α\", -1)\nERROR: BoundsError: attempt to access String\n  at index [-1]\n[...]\n\\end{verbatim}\n"
     },
     "metadata": {},
     "execution_count": 111
    }
   ],
   "source": [
    "?thisind"
   ]
  },
  {
   "cell_type": "code",
   "execution_count": 113,
   "metadata": {},
   "outputs": [
    {
     "output_type": "stream",
     "name": "stdout",
     "text": [
      "search: \u001b[0m\u001b[1mn\u001b[22m\u001b[0m\u001b[1me\u001b[22m\u001b[0m\u001b[1mx\u001b[22m\u001b[0m\u001b[1mt\u001b[22m\u001b[0m\u001b[1mi\u001b[22m\u001b[0m\u001b[1mn\u001b[22m\u001b[0m\u001b[1md\u001b[22m I\u001b[0m\u001b[1mn\u001b[22md\u001b[0m\u001b[1me\u001b[22m\u001b[0m\u001b[1mx\u001b[22mCar\u001b[0m\u001b[1mt\u001b[22mes\u001b[0m\u001b[1mi\u001b[22ma\u001b[0m\u001b[1mn\u001b[22m Missi\u001b[0m\u001b[1mn\u001b[22mg\u001b[0m\u001b[1mE\u001b[22m\u001b[0m\u001b[1mx\u001b[22mcep\u001b[0m\u001b[1mt\u001b[22m\u001b[0m\u001b[1mi\u001b[22mo\u001b[0m\u001b[1mn\u001b[22m I\u001b[0m\u001b[1mn\u001b[22mt\u001b[0m\u001b[1me\u001b[22mrruptE\u001b[0m\u001b[1mx\u001b[22mcep\u001b[0m\u001b[1mt\u001b[22m\u001b[0m\u001b[1mi\u001b[22mo\u001b[0m\u001b[1mn\u001b[22m\n\n"
     ]
    },
    {
     "output_type": "execute_result",
     "data": {
      "text/plain": [
       "\u001b[36m  nextind(str::AbstractString, i::Integer, n::Integer=1) -> Int\u001b[39m\n",
       "\n",
       "    •    Case \u001b[36mn == 1\u001b[39m\n",
       "      \n",
       "        If \u001b[36mi\u001b[39m is in bounds in \u001b[36ms\u001b[39m return the index of the start of the\n",
       "        character whose encoding starts after index \u001b[36mi\u001b[39m. In other words, if\n",
       "        \u001b[36mi\u001b[39m is the start of a character, return the start of the next\n",
       "        character; if \u001b[36mi\u001b[39m is not the start of a character, move forward\n",
       "        until the start of a character and return that index. If \u001b[36mi\u001b[39m is\n",
       "        equal to \u001b[36m0\u001b[39m return \u001b[36m1\u001b[39m. If \u001b[36mi\u001b[39m is in bounds but greater or equal to\n",
       "        \u001b[36mlastindex(str)\u001b[39m return \u001b[36mncodeunits(str)+1\u001b[39m. Otherwise throw\n",
       "        \u001b[36mBoundsError\u001b[39m.\n",
       "\n",
       "    •    Case \u001b[36mn > 1\u001b[39m\n",
       "      \n",
       "        Behaves like applying \u001b[36mn\u001b[39m times \u001b[36mnextind\u001b[39m for \u001b[36mn==1\u001b[39m. The only\n",
       "        difference is that if \u001b[36mn\u001b[39m is so large that applying \u001b[36mnextind\u001b[39m would\n",
       "        reach \u001b[36mncodeunits(str)+1\u001b[39m then each remaining iteration increases\n",
       "        the returned value by \u001b[36m1\u001b[39m. This means that in this case \u001b[36mnextind\u001b[39m can\n",
       "        return a value greater than \u001b[36mncodeunits(str)+1\u001b[39m.\n",
       "\n",
       "    •    Case \u001b[36mn == 0\u001b[39m\n",
       "      \n",
       "        Return \u001b[36mi\u001b[39m only if \u001b[36mi\u001b[39m is a valid index in \u001b[36ms\u001b[39m or is equal to \u001b[36m0\u001b[39m.\n",
       "        Otherwise \u001b[36mStringIndexError\u001b[39m or \u001b[36mBoundsError\u001b[39m is thrown.\n",
       "\n",
       "\u001b[1m  Examples\u001b[22m\n",
       "\u001b[1m  ≡≡≡≡≡≡≡≡≡≡\u001b[22m\n",
       "\n",
       "\u001b[36m  julia> nextind(\"α\", 0)\u001b[39m\n",
       "\u001b[36m  1\u001b[39m\n",
       "\u001b[36m  \u001b[39m\n",
       "\u001b[36m  julia> nextind(\"α\", 1)\u001b[39m\n",
       "\u001b[36m  3\u001b[39m\n",
       "\u001b[36m  \u001b[39m\n",
       "\u001b[36m  julia> nextind(\"α\", 3)\u001b[39m\n",
       "\u001b[36m  ERROR: BoundsError: attempt to access String\u001b[39m\n",
       "\u001b[36m    at index [3]\u001b[39m\n",
       "\u001b[36m  [...]\u001b[39m\n",
       "\u001b[36m  \u001b[39m\n",
       "\u001b[36m  julia> nextind(\"α\", 0, 2)\u001b[39m\n",
       "\u001b[36m  3\u001b[39m\n",
       "\u001b[36m  \u001b[39m\n",
       "\u001b[36m  julia> nextind(\"α\", 1, 2)\u001b[39m\n",
       "\u001b[36m  4\u001b[39m"
      ],
      "text/markdown": "```\nnextind(str::AbstractString, i::Integer, n::Integer=1) -> Int\n```\n\n  * Case `n == 1`\n\n    If `i` is in bounds in `s` return the index of the start of the character whose encoding starts after index `i`. In other words, if `i` is the start of a character, return the start of the next character; if `i` is not the start of a character, move forward until the start of a character and return that index. If `i` is equal to `0` return `1`. If `i` is in bounds but greater or equal to `lastindex(str)` return `ncodeunits(str)+1`. Otherwise throw `BoundsError`.\n  * Case `n > 1`\n\n    Behaves like applying `n` times `nextind` for `n==1`. The only difference is that if `n` is so large that applying `nextind` would reach `ncodeunits(str)+1` then each remaining iteration increases the returned value by `1`. This means that in this case `nextind` can return a value greater than `ncodeunits(str)+1`.\n  * Case `n == 0`\n\n    Return `i` only if `i` is a valid index in `s` or is equal to `0`. Otherwise `StringIndexError` or `BoundsError` is thrown.\n\n# Examples\n\n```jldoctest\njulia> nextind(\"α\", 0)\n1\n\njulia> nextind(\"α\", 1)\n3\n\njulia> nextind(\"α\", 3)\nERROR: BoundsError: attempt to access String\n  at index [3]\n[...]\n\njulia> nextind(\"α\", 0, 2)\n3\n\njulia> nextind(\"α\", 1, 2)\n4\n```\n",
      "text/latex": "\\begin{verbatim}\nnextind(str::AbstractString, i::Integer, n::Integer=1) -> Int\n\\end{verbatim}\n\\begin{itemize}\n\\item Case \\texttt{n == 1}\n\nIf \\texttt{i} is in bounds in \\texttt{s} return the index of the start of the character whose encoding starts after index \\texttt{i}. In other words, if \\texttt{i} is the start of a character, return the start of the next character; if \\texttt{i} is not the start of a character, move forward until the start of a character and return that index. If \\texttt{i} is equal to \\texttt{0} return \\texttt{1}. If \\texttt{i} is in bounds but greater or equal to \\texttt{lastindex(str)} return \\texttt{ncodeunits(str)+1}. Otherwise throw \\texttt{BoundsError}.\n\n\n\\item Case \\texttt{n > 1}\n\nBehaves like applying \\texttt{n} times \\texttt{nextind} for \\texttt{n==1}. The only difference is that if \\texttt{n} is so large that applying \\texttt{nextind} would reach \\texttt{ncodeunits(str)+1} then each remaining iteration increases the returned value by \\texttt{1}. This means that in this case \\texttt{nextind} can return a value greater than \\texttt{ncodeunits(str)+1}.\n\n\n\\item Case \\texttt{n == 0}\n\nReturn \\texttt{i} only if \\texttt{i} is a valid index in \\texttt{s} or is equal to \\texttt{0}. Otherwise \\texttt{StringIndexError} or \\texttt{BoundsError} is thrown.\n\n\\end{itemize}\n\\section{Examples}\n\\begin{verbatim}\njulia> nextind(\"α\", 0)\n1\n\njulia> nextind(\"α\", 1)\n3\n\njulia> nextind(\"α\", 3)\nERROR: BoundsError: attempt to access String\n  at index [3]\n[...]\n\njulia> nextind(\"α\", 0, 2)\n3\n\njulia> nextind(\"α\", 1, 2)\n4\n\\end{verbatim}\n"
     },
     "metadata": {},
     "execution_count": 113
    }
   ],
   "source": [
    "?nextind"
   ]
  },
  {
   "cell_type": "code",
   "execution_count": 114,
   "metadata": {},
   "outputs": [
    {
     "output_type": "stream",
     "name": "stdout",
     "text": [
      "search: \u001b[0m\u001b[1mp\u001b[22m\u001b[0m\u001b[1mr\u001b[22m\u001b[0m\u001b[1me\u001b[22m\u001b[0m\u001b[1mv\u001b[22m\u001b[0m\u001b[1mi\u001b[22m\u001b[0m\u001b[1mn\u001b[22m\u001b[0m\u001b[1md\u001b[22m\n\n"
     ]
    },
    {
     "output_type": "execute_result",
     "data": {
      "text/plain": [
       "\u001b[36m  prevind(str::AbstractString, i::Integer, n::Integer=1) -> Int\u001b[39m\n",
       "\n",
       "    •    Case \u001b[36mn == 1\u001b[39m\n",
       "      \n",
       "        If \u001b[36mi\u001b[39m is in bounds in \u001b[36ms\u001b[39m return the index of the start of the\n",
       "        character whose encoding starts before index \u001b[36mi\u001b[39m. In other words, if\n",
       "        \u001b[36mi\u001b[39m is the start of a character, return the start of the previous\n",
       "        character; if \u001b[36mi\u001b[39m is not the start of a character, rewind until the\n",
       "        start of a character and return that index. If \u001b[36mi\u001b[39m is equal to \u001b[36m1\u001b[39m\n",
       "        return \u001b[36m0\u001b[39m. If \u001b[36mi\u001b[39m is equal to \u001b[36mncodeunits(str)+1\u001b[39m return\n",
       "        \u001b[36mlastindex(str)\u001b[39m. Otherwise throw \u001b[36mBoundsError\u001b[39m.\n",
       "\n",
       "    •    Case \u001b[36mn > 1\u001b[39m\n",
       "      \n",
       "        Behaves like applying \u001b[36mn\u001b[39m times \u001b[36mprevind\u001b[39m for \u001b[36mn==1\u001b[39m. The only\n",
       "        difference is that if \u001b[36mn\u001b[39m is so large that applying \u001b[36mprevind\u001b[39m would\n",
       "        reach \u001b[36m0\u001b[39m then each remaining iteration decreases the returned value\n",
       "        by \u001b[36m1\u001b[39m. This means that in this case \u001b[36mprevind\u001b[39m can return a negative\n",
       "        value.\n",
       "\n",
       "    •    Case \u001b[36mn == 0\u001b[39m\n",
       "      \n",
       "        Return \u001b[36mi\u001b[39m only if \u001b[36mi\u001b[39m is a valid index in \u001b[36mstr\u001b[39m or is equal to\n",
       "        \u001b[36mncodeunits(str)+1\u001b[39m. Otherwise \u001b[36mStringIndexError\u001b[39m or \u001b[36mBoundsError\u001b[39m is\n",
       "        thrown.\n",
       "\n",
       "\u001b[1m  Examples\u001b[22m\n",
       "\u001b[1m  ≡≡≡≡≡≡≡≡≡≡\u001b[22m\n",
       "\n",
       "\u001b[36m  julia> prevind(\"α\", 3)\u001b[39m\n",
       "\u001b[36m  1\u001b[39m\n",
       "\u001b[36m  \u001b[39m\n",
       "\u001b[36m  julia> prevind(\"α\", 1)\u001b[39m\n",
       "\u001b[36m  0\u001b[39m\n",
       "\u001b[36m  \u001b[39m\n",
       "\u001b[36m  julia> prevind(\"α\", 0)\u001b[39m\n",
       "\u001b[36m  ERROR: BoundsError: attempt to access String\u001b[39m\n",
       "\u001b[36m    at index [0]\u001b[39m\n",
       "\u001b[36m  [...]\u001b[39m\n",
       "\u001b[36m  \u001b[39m\n",
       "\u001b[36m  julia> prevind(\"α\", 2, 2)\u001b[39m\n",
       "\u001b[36m  0\u001b[39m\n",
       "\u001b[36m  \u001b[39m\n",
       "\u001b[36m  julia> prevind(\"α\", 2, 3)\u001b[39m\n",
       "\u001b[36m  -1\u001b[39m"
      ],
      "text/markdown": "```\nprevind(str::AbstractString, i::Integer, n::Integer=1) -> Int\n```\n\n  * Case `n == 1`\n\n    If `i` is in bounds in `s` return the index of the start of the character whose encoding starts before index `i`. In other words, if `i` is the start of a character, return the start of the previous character; if `i` is not the start of a character, rewind until the start of a character and return that index. If `i` is equal to `1` return `0`. If `i` is equal to `ncodeunits(str)+1` return `lastindex(str)`. Otherwise throw `BoundsError`.\n  * Case `n > 1`\n\n    Behaves like applying `n` times `prevind` for `n==1`. The only difference is that if `n` is so large that applying `prevind` would reach `0` then each remaining iteration decreases the returned value by `1`. This means that in this case `prevind` can return a negative value.\n  * Case `n == 0`\n\n    Return `i` only if `i` is a valid index in `str` or is equal to `ncodeunits(str)+1`. Otherwise `StringIndexError` or `BoundsError` is thrown.\n\n# Examples\n\n```jldoctest\njulia> prevind(\"α\", 3)\n1\n\njulia> prevind(\"α\", 1)\n0\n\njulia> prevind(\"α\", 0)\nERROR: BoundsError: attempt to access String\n  at index [0]\n[...]\n\njulia> prevind(\"α\", 2, 2)\n0\n\njulia> prevind(\"α\", 2, 3)\n-1\n```\n",
      "text/latex": "\\begin{verbatim}\nprevind(str::AbstractString, i::Integer, n::Integer=1) -> Int\n\\end{verbatim}\n\\begin{itemize}\n\\item Case \\texttt{n == 1}\n\nIf \\texttt{i} is in bounds in \\texttt{s} return the index of the start of the character whose encoding starts before index \\texttt{i}. In other words, if \\texttt{i} is the start of a character, return the start of the previous character; if \\texttt{i} is not the start of a character, rewind until the start of a character and return that index. If \\texttt{i} is equal to \\texttt{1} return \\texttt{0}. If \\texttt{i} is equal to \\texttt{ncodeunits(str)+1} return \\texttt{lastindex(str)}. Otherwise throw \\texttt{BoundsError}.\n\n\n\\item Case \\texttt{n > 1}\n\nBehaves like applying \\texttt{n} times \\texttt{prevind} for \\texttt{n==1}. The only difference is that if \\texttt{n} is so large that applying \\texttt{prevind} would reach \\texttt{0} then each remaining iteration decreases the returned value by \\texttt{1}. This means that in this case \\texttt{prevind} can return a negative value.\n\n\n\\item Case \\texttt{n == 0}\n\nReturn \\texttt{i} only if \\texttt{i} is a valid index in \\texttt{str} or is equal to \\texttt{ncodeunits(str)+1}. Otherwise \\texttt{StringIndexError} or \\texttt{BoundsError} is thrown.\n\n\\end{itemize}\n\\section{Examples}\n\\begin{verbatim}\njulia> prevind(\"α\", 3)\n1\n\njulia> prevind(\"α\", 1)\n0\n\njulia> prevind(\"α\", 0)\nERROR: BoundsError: attempt to access String\n  at index [0]\n[...]\n\njulia> prevind(\"α\", 2, 2)\n0\n\njulia> prevind(\"α\", 2, 3)\n-1\n\\end{verbatim}\n"
     },
     "metadata": {},
     "execution_count": 114
    }
   ],
   "source": [
    "?prevind"
   ]
  },
  {
   "source": [
    "## Non-Standart String Literals"
   ],
   "cell_type": "markdown",
   "metadata": {}
  },
  {
   "source": [
    "There are situations when you want to construct a string or use string semantics, but the behavior of the standard string construct is not quite what is needed. For these kinds of situations, Julia provides non-standard string literals. A non-standard string literal looks like a regular double-quoted string literal, but is immediately prefixed by an identifier, and doesn't behave quite like a normal string literal. Regular expressions, byte array literals and version number literals, as described below, are some examples of non-standard string literals. Other examples are given in the Metaprogramming section."
   ],
   "cell_type": "markdown",
   "metadata": {}
  },
  {
   "source": [
    "## Regular Expressions"
   ],
   "cell_type": "markdown",
   "metadata": {}
  },
  {
   "cell_type": "code",
   "execution_count": 115,
   "metadata": {},
   "outputs": [
    {
     "output_type": "error",
     "ename": "LoadError",
     "evalue": "syntax: extra token \"has\" after end of expression",
     "traceback": [
      "syntax: extra token \"has\" after end of expression",
      ""
     ]
    }
   ],
   "source": [
    "Julia has Perl-compatible regular expressions (regexes), as provided by the PCRE library (a description of the syntax can be found here). Regular expressions are related to strings in two ways: the obvious connection is that regular expressions are used to find regular patterns in strings; the other connection is that regular expressions are themselves input as strings, which are parsed into a state machine that can be used to efficiently search for patterns in strings. In Julia, regular expressions are input using non-standard string literals prefixed with various identifiers beginning with r. The most basic regular expression literal without any options turned on just uses r\"...\":"
   ]
  },
  {
   "cell_type": "code",
   "execution_count": 116,
   "metadata": {},
   "outputs": [
    {
     "output_type": "execute_result",
     "data": {
      "text/plain": [
       "r\"^\\s*(?:#|$)\""
      ]
     },
     "metadata": {},
     "execution_count": 116
    }
   ],
   "source": [
    "r\"^\\s*(?:#|$)\""
   ]
  },
  {
   "cell_type": "code",
   "execution_count": 117,
   "metadata": {},
   "outputs": [
    {
     "output_type": "execute_result",
     "data": {
      "text/plain": [
       "Regex"
      ]
     },
     "metadata": {},
     "execution_count": 117
    }
   ],
   "source": [
    "typeof(ans)"
   ]
  },
  {
   "source": [
    "To check if a regex matches a string, use occursin:"
   ],
   "cell_type": "markdown",
   "metadata": {}
  },
  {
   "cell_type": "code",
   "execution_count": 118,
   "metadata": {},
   "outputs": [
    {
     "output_type": "execute_result",
     "data": {
      "text/plain": [
       "false"
      ]
     },
     "metadata": {},
     "execution_count": 118
    }
   ],
   "source": [
    "occursin(r\"^\\s*(?:#|$)\", \"not a comment\")"
   ]
  },
  {
   "cell_type": "code",
   "execution_count": 119,
   "metadata": {},
   "outputs": [
    {
     "output_type": "execute_result",
     "data": {
      "text/plain": [
       "true"
      ]
     },
     "metadata": {},
     "execution_count": 119
    }
   ],
   "source": [
    "occursin(r\"^\\s*(?:#|$)\", \"# a comment\")"
   ]
  },
  {
   "source": [
    "As one can see here, occursin simply returns true or false, indicating whether a match for the given regex occurs in the string. Commonly, however, one wants to know not just whether a string matched, but also how it matched. To capture this information about a match, use the match function instead:"
   ],
   "cell_type": "markdown",
   "metadata": {}
  },
  {
   "cell_type": "code",
   "execution_count": 120,
   "metadata": {},
   "outputs": [],
   "source": [
    "match(r\"^\\s*(?:#|$)\", \"not a comment\")"
   ]
  },
  {
   "cell_type": "code",
   "execution_count": 121,
   "metadata": {},
   "outputs": [
    {
     "output_type": "execute_result",
     "data": {
      "text/plain": [
       "RegexMatch(\"#\")"
      ]
     },
     "metadata": {},
     "execution_count": 121
    }
   ],
   "source": [
    "match(r\"^\\s*(?:#|$)\", \"# a comment\")"
   ]
  },
  {
   "source": [
    "If the regular expression does not match the given string, match returns nothing – a special value that does not print anything at the interactive prompt. Other than not printing, it is a completely normal value and you can test for it programmatically:"
   ],
   "cell_type": "markdown",
   "metadata": {}
  },
  {
   "cell_type": "code",
   "execution_count": 123,
   "metadata": {},
   "outputs": [
    {
     "output_type": "stream",
     "name": "stdout",
     "text": [
      "blank or comment\n"
     ]
    }
   ],
   "source": [
    "m = match(r\"^\\s*(?:#|$)\", \"# a comment\")\n",
    "if m === nothing\n",
    "    println(\"not a comment\")\n",
    "else\n",
    "    println(\"blank or comment\")\n",
    "end"
   ]
  },
  {
   "source": [
    "If a regular expression does match, the value returned by match is a RegexMatch object. These objects record how the expression matches, including the substring that the pattern matches and any captured substrings, if there are any. This example only captures the portion of the substring that matches, but perhaps we want to capture any non-blank text after the comment character. We could do the following:"
   ],
   "cell_type": "markdown",
   "metadata": {}
  },
  {
   "cell_type": "code",
   "execution_count": 124,
   "metadata": {},
   "outputs": [
    {
     "output_type": "execute_result",
     "data": {
      "text/plain": [
       "RegexMatch(\"# a comment \", 1=\"a comment\")"
      ]
     },
     "metadata": {},
     "execution_count": 124
    }
   ],
   "source": [
    "m = match(r\"^\\s*(?:#\\s*(.*?)\\s*$|$)\", \"# a comment \")"
   ]
  },
  {
   "cell_type": "code",
   "execution_count": 125,
   "metadata": {},
   "outputs": [
    {
     "output_type": "stream",
     "name": "stdout",
     "text": [
      "search: \u001b[0m\u001b[1mm\u001b[22m\u001b[0m\u001b[1ma\u001b[22m\u001b[0m\u001b[1mt\u001b[22m\u001b[0m\u001b[1mc\u001b[22m\u001b[0m\u001b[1mh\u001b[22m each\u001b[0m\u001b[1mm\u001b[22m\u001b[0m\u001b[1ma\u001b[22m\u001b[0m\u001b[1mt\u001b[22m\u001b[0m\u001b[1mc\u001b[22m\u001b[0m\u001b[1mh\u001b[22m Regex\u001b[0m\u001b[1mM\u001b[22m\u001b[0m\u001b[1ma\u001b[22m\u001b[0m\u001b[1mt\u001b[22m\u001b[0m\u001b[1mc\u001b[22m\u001b[0m\u001b[1mh\u001b[22m Di\u001b[0m\u001b[1mm\u001b[22mensionMism\u001b[0m\u001b[1ma\u001b[22m\u001b[0m\u001b[1mt\u001b[22m\u001b[0m\u001b[1mc\u001b[22m\u001b[0m\u001b[1mh\u001b[22m \u001b[0m\u001b[1mM\u001b[22m\u001b[0m\u001b[1ma\u001b[22m\u001b[0m\u001b[1mt\u001b[22mh\u001b[0m\u001b[1mC\u001b[22monstants\n\n"
     ]
    },
    {
     "output_type": "execute_result",
     "data": {
      "text/plain": [
       "\u001b[36m  match(r::Regex, s::AbstractString[, idx::Integer[, addopts]])\u001b[39m\n",
       "\n",
       "  Search for the first match of the regular expression \u001b[36mr\u001b[39m in \u001b[36ms\u001b[39m and return a\n",
       "  \u001b[36mRegexMatch\u001b[39m object containing the match, or nothing if the match failed. The\n",
       "  matching substring can be retrieved by accessing \u001b[36mm.match\u001b[39m and the captured\n",
       "  sequences can be retrieved by accessing \u001b[36mm.captures\u001b[39m The optional \u001b[36midx\u001b[39m argument\n",
       "  specifies an index at which to start the search.\n",
       "\n",
       "\u001b[1m  Examples\u001b[22m\n",
       "\u001b[1m  ≡≡≡≡≡≡≡≡≡≡\u001b[22m\n",
       "\n",
       "\u001b[36m  julia> rx = r\"a(.)a\"\u001b[39m\n",
       "\u001b[36m  r\"a(.)a\"\u001b[39m\n",
       "\u001b[36m  \u001b[39m\n",
       "\u001b[36m  julia> m = match(rx, \"cabac\")\u001b[39m\n",
       "\u001b[36m  RegexMatch(\"aba\", 1=\"b\")\u001b[39m\n",
       "\u001b[36m  \u001b[39m\n",
       "\u001b[36m  julia> m.captures\u001b[39m\n",
       "\u001b[36m  1-element Array{Union{Nothing, SubString{String}},1}:\u001b[39m\n",
       "\u001b[36m   \"b\"\u001b[39m\n",
       "\u001b[36m  \u001b[39m\n",
       "\u001b[36m  julia> m.match\u001b[39m\n",
       "\u001b[36m  \"aba\"\u001b[39m\n",
       "\u001b[36m  \u001b[39m\n",
       "\u001b[36m  julia> match(rx, \"cabac\", 3) === nothing\u001b[39m\n",
       "\u001b[36m  true\u001b[39m"
      ],
      "text/markdown": "```\nmatch(r::Regex, s::AbstractString[, idx::Integer[, addopts]])\n```\n\nSearch for the first match of the regular expression `r` in `s` and return a `RegexMatch` object containing the match, or nothing if the match failed. The matching substring can be retrieved by accessing `m.match` and the captured sequences can be retrieved by accessing `m.captures` The optional `idx` argument specifies an index at which to start the search.\n\n# Examples\n\n```jldoctest\njulia> rx = r\"a(.)a\"\nr\"a(.)a\"\n\njulia> m = match(rx, \"cabac\")\nRegexMatch(\"aba\", 1=\"b\")\n\njulia> m.captures\n1-element Array{Union{Nothing, SubString{String}},1}:\n \"b\"\n\njulia> m.match\n\"aba\"\n\njulia> match(rx, \"cabac\", 3) === nothing\ntrue\n```\n",
      "text/latex": "\\begin{verbatim}\nmatch(r::Regex, s::AbstractString[, idx::Integer[, addopts]])\n\\end{verbatim}\nSearch for the first match of the regular expression \\texttt{r} in \\texttt{s} and return a \\texttt{RegexMatch} object containing the match, or nothing if the match failed. The matching substring can be retrieved by accessing \\texttt{m.match} and the captured sequences can be retrieved by accessing \\texttt{m.captures} The optional \\texttt{idx} argument specifies an index at which to start the search.\n\n\\section{Examples}\n\\begin{verbatim}\njulia> rx = r\"a(.)a\"\nr\"a(.)a\"\n\njulia> m = match(rx, \"cabac\")\nRegexMatch(\"aba\", 1=\"b\")\n\njulia> m.captures\n1-element Array{Union{Nothing, SubString{String}},1}:\n \"b\"\n\njulia> m.match\n\"aba\"\n\njulia> match(rx, \"cabac\", 3) === nothing\ntrue\n\\end{verbatim}\n"
     },
     "metadata": {},
     "execution_count": 125
    }
   ],
   "source": [
    "?match"
   ]
  },
  {
   "source": [
    "When calling match, you have the option to specify an index at which to start the search. For example:"
   ],
   "cell_type": "markdown",
   "metadata": {}
  },
  {
   "cell_type": "code",
   "execution_count": 126,
   "metadata": {},
   "outputs": [
    {
     "output_type": "execute_result",
     "data": {
      "text/plain": [
       "RegexMatch(\"1\")"
      ]
     },
     "metadata": {},
     "execution_count": 126
    }
   ],
   "source": [
    "m = match(r\"[0-9]\",\"aaaa1aaaa2aaaa3\",1)"
   ]
  },
  {
   "cell_type": "code",
   "execution_count": 127,
   "metadata": {},
   "outputs": [
    {
     "output_type": "execute_result",
     "data": {
      "text/plain": [
       "RegexMatch(\"2\")"
      ]
     },
     "metadata": {},
     "execution_count": 127
    }
   ],
   "source": [
    "m = match(r\"[0-9]\",\"aaaa1aaaa2aaaa3\",6)"
   ]
  },
  {
   "cell_type": "code",
   "execution_count": 128,
   "metadata": {},
   "outputs": [
    {
     "output_type": "execute_result",
     "data": {
      "text/plain": [
       "RegexMatch(\"3\")"
      ]
     },
     "metadata": {},
     "execution_count": 128
    }
   ],
   "source": [
    "m = match(r\"[0-9]\",\"aaaa1aaaa2aaaa3\",11)"
   ]
  },
  {
   "source": [
    "You can extract the following info from a RegexMatch object:\n",
    "\n",
    "    - the entire substring matched: m.match\n",
    "    - the captured substrings as an array of strings: m.captures\n",
    "    - the offset at which the whole match begins: m.offset\n",
    "    - the offsets of the captured substrings as a vector: m.offsets\n",
    "    \n",
    "For when a capture doesn't match, instead of a substring, m.captures contains nothing in that position, and m.offsets has a zero offset (recall that indices in Julia are 1-based, so a zero offset into a string is invalid). Here is a pair of somewhat contrived examples:"
   ],
   "cell_type": "markdown",
   "metadata": {}
  },
  {
   "cell_type": "code",
   "execution_count": 130,
   "metadata": {},
   "outputs": [
    {
     "output_type": "execute_result",
     "data": {
      "text/plain": [
       "RegexMatch(\"acd\", 1=\"a\", 2=\"c\", 3=\"d\")"
      ]
     },
     "metadata": {},
     "execution_count": 130
    }
   ],
   "source": [
    "m = match(r\"(a|b)(c)?(d)\", \"acd\")"
   ]
  },
  {
   "cell_type": "code",
   "execution_count": 131,
   "metadata": {},
   "outputs": [
    {
     "output_type": "execute_result",
     "data": {
      "text/plain": [
       "\"acd\""
      ]
     },
     "metadata": {},
     "execution_count": 131
    }
   ],
   "source": [
    "m.match"
   ]
  },
  {
   "cell_type": "code",
   "execution_count": 132,
   "metadata": {},
   "outputs": [
    {
     "output_type": "execute_result",
     "data": {
      "text/plain": [
       "3-element Array{Union{Nothing, SubString{String}},1}:\n",
       " \"a\"\n",
       " \"c\"\n",
       " \"d\""
      ]
     },
     "metadata": {},
     "execution_count": 132
    }
   ],
   "source": [
    "m.captures"
   ]
  },
  {
   "cell_type": "code",
   "execution_count": 133,
   "metadata": {},
   "outputs": [
    {
     "output_type": "execute_result",
     "data": {
      "text/plain": [
       "1"
      ]
     },
     "metadata": {},
     "execution_count": 133
    }
   ],
   "source": [
    "m.offset"
   ]
  },
  {
   "cell_type": "code",
   "execution_count": 134,
   "metadata": {},
   "outputs": [
    {
     "output_type": "execute_result",
     "data": {
      "text/plain": [
       "3-element Array{Int64,1}:\n",
       " 1\n",
       " 2\n",
       " 3"
      ]
     },
     "metadata": {},
     "execution_count": 134
    }
   ],
   "source": [
    "m.offsets"
   ]
  },
  {
   "cell_type": "code",
   "execution_count": 135,
   "metadata": {},
   "outputs": [
    {
     "output_type": "execute_result",
     "data": {
      "text/plain": [
       "RegexMatch(\"ad\", 1=\"a\", 2=nothing, 3=\"d\")"
      ]
     },
     "metadata": {},
     "execution_count": 135
    }
   ],
   "source": [
    "m = match(r\"(a|b)(c)?(d)\", \"ad\")"
   ]
  },
  {
   "cell_type": "code",
   "execution_count": 136,
   "metadata": {},
   "outputs": [
    {
     "output_type": "execute_result",
     "data": {
      "text/plain": [
       "\"ad\""
      ]
     },
     "metadata": {},
     "execution_count": 136
    }
   ],
   "source": [
    "m.match"
   ]
  },
  {
   "cell_type": "code",
   "execution_count": 137,
   "metadata": {},
   "outputs": [
    {
     "output_type": "execute_result",
     "data": {
      "text/plain": [
       "3-element Array{Union{Nothing, SubString{String}},1}:\n",
       " \"a\"\n",
       " nothing\n",
       " \"d\""
      ]
     },
     "metadata": {},
     "execution_count": 137
    }
   ],
   "source": [
    "m.captures"
   ]
  },
  {
   "cell_type": "code",
   "execution_count": 138,
   "metadata": {},
   "outputs": [
    {
     "output_type": "execute_result",
     "data": {
      "text/plain": [
       "1"
      ]
     },
     "metadata": {},
     "execution_count": 138
    }
   ],
   "source": [
    "m.offset"
   ]
  },
  {
   "cell_type": "code",
   "execution_count": 139,
   "metadata": {},
   "outputs": [
    {
     "output_type": "execute_result",
     "data": {
      "text/plain": [
       "3-element Array{Int64,1}:\n",
       " 1\n",
       " 0\n",
       " 2"
      ]
     },
     "metadata": {},
     "execution_count": 139
    }
   ],
   "source": [
    "m.offsets"
   ]
  },
  {
   "source": [
    "It is convenient to have captures returned as an array so that one can use destructuring syntax to bind them to local variables:"
   ],
   "cell_type": "markdown",
   "metadata": {}
  },
  {
   "cell_type": "code",
   "execution_count": 142,
   "metadata": {},
   "outputs": [
    {
     "output_type": "execute_result",
     "data": {
      "text/plain": [
       "\"a\""
      ]
     },
     "metadata": {},
     "execution_count": 142
    }
   ],
   "source": [
    "frst, scnd, thrd = m.captures; frst"
   ]
  },
  {
   "source": [
    "Captures can also be accessed by indexing the RegexMatch object with the number or name of the capture group:"
   ],
   "cell_type": "markdown",
   "metadata": {}
  },
  {
   "cell_type": "code",
   "execution_count": 143,
   "metadata": {},
   "outputs": [
    {
     "output_type": "execute_result",
     "data": {
      "text/plain": [
       "RegexMatch(\"12:45\", hour=\"12\", minute=\"45\")"
      ]
     },
     "metadata": {},
     "execution_count": 143
    }
   ],
   "source": [
    "m=match(r\"(?<hour>\\d+):(?<minute>\\d+)\",\"12:45\")"
   ]
  },
  {
   "cell_type": "code",
   "execution_count": 144,
   "metadata": {},
   "outputs": [
    {
     "output_type": "execute_result",
     "data": {
      "text/plain": [
       "\"45\""
      ]
     },
     "metadata": {},
     "execution_count": 144
    }
   ],
   "source": [
    "m[:minute]"
   ]
  },
  {
   "cell_type": "code",
   "execution_count": 145,
   "metadata": {},
   "outputs": [
    {
     "output_type": "execute_result",
     "data": {
      "text/plain": [
       "\"45\""
      ]
     },
     "metadata": {},
     "execution_count": 145
    }
   ],
   "source": [
    "m[2]"
   ]
  },
  {
   "source": [
    "Captures can be referenced in a substitution string when using replace by using \\n to refer to the nth capture group and prefixing the substitution string with s. Capture group 0 refers to the entire match object. Named capture groups can be referenced in the substitution with \\g<groupname>. For example:"
   ],
   "cell_type": "markdown",
   "metadata": {}
  },
  {
   "cell_type": "code",
   "execution_count": 146,
   "metadata": {},
   "outputs": [
    {
     "output_type": "execute_result",
     "data": {
      "text/plain": [
       "\"second first\""
      ]
     },
     "metadata": {},
     "execution_count": 146
    }
   ],
   "source": [
    "replace(\"first second\", r\"(\\w+) (?<agroup>\\w+)\" => s\"\\g<agroup> \\1\")"
   ]
  },
  {
   "source": [
    "Numbered capture groups can also be referenced as \\g<n> for disambiguation, as in:"
   ],
   "cell_type": "markdown",
   "metadata": {}
  },
  {
   "cell_type": "code",
   "execution_count": 147,
   "metadata": {},
   "outputs": [
    {
     "output_type": "execute_result",
     "data": {
      "text/plain": [
       "\"a1\""
      ]
     },
     "metadata": {},
     "execution_count": 147
    }
   ],
   "source": [
    "replace(\"a\", r\".\" => s\"\\g<0>1\")"
   ]
  },
  {
   "source": [
    "You can modify the behavior of regular expressions by some combination of the flags i, m, s, and x after the closing double quote mark. These flags have the same meaning as they do in Perl, as explained in this excerpt from the perlre manpage:\n",
    "\n",
    "    - i   Do case-insensitive pattern matching.\n",
    "\n",
    "    If locale matching rules are in effect, the case map is taken\n",
    "    from the current locale for code points less than 255, and\n",
    "    from Unicode rules for larger code points. However, matches\n",
    "    that would cross the Unicode rules/non-Unicode rules boundary\n",
    "    (ords 255/256) will not succeed.\n",
    "\n",
    "    - m   Treat string as multiple lines.  That is, change \"^\" and \"$\"\n",
    "    from matching the start or end of the string to matching the\n",
    "    start or end of any line anywhere within the string.\n",
    "\n",
    "    - s   Treat string as single line.  That is, change \".\" to match any\n",
    "    character whatsoever, even a newline, which normally it would\n",
    "    not match.\n",
    "\n",
    "    Used together, as r\"\"ms, they let the \".\" match any character\n",
    "    whatsoever, while still allowing \"^\" and \"$\" to match,\n",
    "    respectively, just after and just before newlines within the\n",
    "    string.\n",
    "\n",
    "    - x   Tells the regular expression parser to ignore most whitespace\n",
    "    that is neither backslashed nor within a character class. You\n",
    "    can use this to break up your regular expression into\n",
    "    (slightly) more readable parts. The '#' character is also\n",
    "    treated as a metacharacter introducing a comment, just as in\n",
    "    ordinary code.\n",
    "\n",
    "For example, the following regex has all three flags turned on:"
   ],
   "cell_type": "markdown",
   "metadata": {}
  },
  {
   "cell_type": "code",
   "execution_count": 148,
   "metadata": {},
   "outputs": [
    {
     "output_type": "execute_result",
     "data": {
      "text/plain": [
       "r\"a+.*b+.*?d$\"ims"
      ]
     },
     "metadata": {},
     "execution_count": 148
    }
   ],
   "source": [
    "r\"a+.*b+.*?d$\"ism"
   ]
  },
  {
   "cell_type": "code",
   "execution_count": 149,
   "metadata": {},
   "outputs": [
    {
     "output_type": "execute_result",
     "data": {
      "text/plain": [
       "RegexMatch(\"angry,\\nBad world\")"
      ]
     },
     "metadata": {},
     "execution_count": 149
    }
   ],
   "source": [
    "match(r\"a+.*b+.*?d$\"ism, \"Goodbye,\\nOh, angry,\\nBad world\\n\")"
   ]
  },
  {
   "source": [
    "The r\"...\" literal is constructed without interpolation and unescaping (except for quotation mark \" which still has to be escaped). Here is an example showing the difference from standard string literals:"
   ],
   "cell_type": "markdown",
   "metadata": {}
  },
  {
   "cell_type": "code",
   "execution_count": 150,
   "metadata": {},
   "outputs": [
    {
     "output_type": "execute_result",
     "data": {
      "text/plain": [
       "10"
      ]
     },
     "metadata": {},
     "execution_count": 150
    }
   ],
   "source": [
    "x = 10"
   ]
  },
  {
   "cell_type": "code",
   "execution_count": 151,
   "metadata": {},
   "outputs": [
    {
     "output_type": "execute_result",
     "data": {
      "text/plain": [
       "r\"$x\""
      ]
     },
     "metadata": {},
     "execution_count": 151
    }
   ],
   "source": [
    "r\"$x\""
   ]
  },
  {
   "cell_type": "code",
   "execution_count": 152,
   "metadata": {},
   "outputs": [
    {
     "output_type": "execute_result",
     "data": {
      "text/plain": [
       "\"10\""
      ]
     },
     "metadata": {},
     "execution_count": 152
    }
   ],
   "source": [
    "\"$x\""
   ]
  },
  {
   "cell_type": "code",
   "execution_count": 153,
   "metadata": {},
   "outputs": [
    {
     "output_type": "execute_result",
     "data": {
      "text/plain": [
       "r\"\\x\""
      ]
     },
     "metadata": {},
     "execution_count": 153
    }
   ],
   "source": [
    "r\"\\x\""
   ]
  },
  {
   "cell_type": "code",
   "execution_count": 154,
   "metadata": {},
   "outputs": [
    {
     "output_type": "error",
     "ename": "LoadError",
     "evalue": "syntax: invalid escape sequence",
     "traceback": [
      "syntax: invalid escape sequence",
      ""
     ]
    }
   ],
   "source": [
    "\"\\x\""
   ]
  },
  {
   "source": [
    "Triple-quoted regex strings, of the form r\"\"\"...\"\"\", are also supported (and may be convenient for regular expressions containing quotation marks or newlines)."
   ],
   "cell_type": "markdown",
   "metadata": {}
  },
  {
   "source": [
    "The Regex() constructor may be used to create a valid regex string programmatically. This permits using the contents of string variables and other string operations when constructing the regex string. Any of the regex codes above can be used within the single string argument to Regex(). Here are some examples:"
   ],
   "cell_type": "markdown",
   "metadata": {}
  },
  {
   "cell_type": "code",
   "execution_count": 155,
   "metadata": {},
   "outputs": [
    {
     "output_type": "execute_result",
     "data": {
      "text/plain": [
       "1962-07-10"
      ]
     },
     "metadata": {},
     "execution_count": 155
    }
   ],
   "source": [
    "using Dates\n",
    "d = Date(1962,7,10)"
   ]
  },
  {
   "cell_type": "code",
   "execution_count": 156,
   "metadata": {},
   "outputs": [
    {
     "output_type": "execute_result",
     "data": {
      "text/plain": [
       "r\"Day 10\""
      ]
     },
     "metadata": {},
     "execution_count": 156
    }
   ],
   "source": [
    "regex_d = Regex(\"Day \" * string(day(d)))"
   ]
  },
  {
   "cell_type": "code",
   "execution_count": 157,
   "metadata": {},
   "outputs": [
    {
     "output_type": "execute_result",
     "data": {
      "text/plain": [
       "RegexMatch(\"Day 10\")"
      ]
     },
     "metadata": {},
     "execution_count": 157
    }
   ],
   "source": [
    "match(regex_d, \"It happened on Day 10\")"
   ]
  },
  {
   "cell_type": "code",
   "execution_count": 158,
   "metadata": {},
   "outputs": [
    {
     "output_type": "execute_result",
     "data": {
      "text/plain": [
       "\"Jon\""
      ]
     },
     "metadata": {},
     "execution_count": 158
    }
   ],
   "source": [
    "name = \"Jon\""
   ]
  },
  {
   "cell_type": "code",
   "execution_count": 159,
   "metadata": {},
   "outputs": [
    {
     "output_type": "execute_result",
     "data": {
      "text/plain": [
       "r\"[\\\"( ]Jon[\\\") ]\""
      ]
     },
     "metadata": {},
     "execution_count": 159
    }
   ],
   "source": [
    "regex_name = Regex(\"[\\\"( ]$name[\\\") ]\")  # interpolate value of name"
   ]
  },
  {
   "cell_type": "code",
   "execution_count": 160,
   "metadata": {},
   "outputs": [
    {
     "output_type": "execute_result",
     "data": {
      "text/plain": [
       "RegexMatch(\" Jon \")"
      ]
     },
     "metadata": {},
     "execution_count": 160
    }
   ],
   "source": [
    "match(regex_name,\" Jon \")"
   ]
  },
  {
   "cell_type": "code",
   "execution_count": 161,
   "metadata": {},
   "outputs": [
    {
     "output_type": "execute_result",
     "data": {
      "text/plain": [
       "true"
      ]
     },
     "metadata": {},
     "execution_count": 161
    }
   ],
   "source": [
    "match(regex_name,\"[Jon]\") === nothing"
   ]
  },
  {
   "source": [
    "## Byte Array Literals"
   ],
   "cell_type": "markdown",
   "metadata": {}
  },
  {
   "source": [
    "Another useful non-standard string literal is the byte-array string literal: b\"...\". This form lets you use string notation to express read only literal byte arrays – i.e. arrays of UInt8 values. The type of those objects is CodeUnits{UInt8, String}. The rules for byte array literals are the following:\n",
    "\n",
    "    - ASCII characters and ASCII escapes produce a single byte.\n",
    "    - \\x and octal escape sequences produce the byte corresponding to the escape value.\n",
    "    - Unicode escape sequences produce a sequence of bytes encoding that code point in UTF-8.\n",
    "\n",
    "There is some overlap between these rules since the behavior of \\x and octal escapes less than 0x80 (128) are covered by both of the first two rules, but here these rules agree. Together, these rules allow one to easily use ASCII characters, arbitrary byte values, and UTF-8 sequences to produce arrays of bytes. Here is an example using all three:"
   ],
   "cell_type": "markdown",
   "metadata": {}
  },
  {
   "cell_type": "code",
   "execution_count": 162,
   "metadata": {},
   "outputs": [
    {
     "output_type": "execute_result",
     "data": {
      "text/plain": [
       "8-element Base.CodeUnits{UInt8,String}:\n",
       " 0x44\n",
       " 0x41\n",
       " 0x54\n",
       " 0x41\n",
       " 0xff\n",
       " 0xe2\n",
       " 0x88\n",
       " 0x80"
      ]
     },
     "metadata": {},
     "execution_count": 162
    }
   ],
   "source": [
    "b\"DATA\\xff\\u2200\""
   ]
  },
  {
   "source": [
    "The ASCII string \"DATA\" corresponds to the bytes 68, 65, 84, 65. \\xff produces the single byte 255. The Unicode escape \\u2200 is encoded in UTF-8 as the three bytes 226, 136, 128. Note that the resulting byte array does not correspond to a valid UTF-8 string:"
   ],
   "cell_type": "markdown",
   "metadata": {}
  },
  {
   "cell_type": "code",
   "execution_count": 163,
   "metadata": {},
   "outputs": [
    {
     "output_type": "execute_result",
     "data": {
      "text/plain": [
       "false"
      ]
     },
     "metadata": {},
     "execution_count": 163
    }
   ],
   "source": [
    "isvalid(\"DATA\\xff\\u2200\")"
   ]
  },
  {
   "source": [
    "As it was mentioned CodeUnits{UInt8,String} type behaves like read only array of UInt8 and if you need a standard vector you can convert it using Vector{UInt8}:"
   ],
   "cell_type": "markdown",
   "metadata": {}
  },
  {
   "cell_type": "code",
   "execution_count": 164,
   "metadata": {},
   "outputs": [
    {
     "output_type": "execute_result",
     "data": {
      "text/plain": [
       "3-element Base.CodeUnits{UInt8,String}:\n",
       " 0x31\n",
       " 0x32\n",
       " 0x33"
      ]
     },
     "metadata": {},
     "execution_count": 164
    }
   ],
   "source": [
    "x = b\"123\""
   ]
  },
  {
   "cell_type": "code",
   "execution_count": 165,
   "metadata": {},
   "outputs": [
    {
     "output_type": "execute_result",
     "data": {
      "text/plain": [
       "0x31"
      ]
     },
     "metadata": {},
     "execution_count": 165
    }
   ],
   "source": [
    "x[1]"
   ]
  },
  {
   "cell_type": "code",
   "execution_count": 166,
   "metadata": {},
   "outputs": [
    {
     "output_type": "error",
     "ename": "ErrorException",
     "evalue": "setindex! not defined for Base.CodeUnits{UInt8,String}",
     "traceback": [
      "setindex! not defined for Base.CodeUnits{UInt8,String}",
      "",
      "Stacktrace:",
      " [1] error(::String, ::Type{T} where T) at ./error.jl:42",
      " [2] error_if_canonical_setindex(::IndexLinear, ::Base.CodeUnits{UInt8,String}, ::Int64) at ./abstractarray.jl:1081",
      " [3] setindex!(::Base.CodeUnits{UInt8,String}, ::UInt8, ::Int64) at ./abstractarray.jl:1072",
      " [4] top-level scope at In[166]:1"
     ]
    }
   ],
   "source": [
    "x[1] = 0x32"
   ]
  },
  {
   "cell_type": "code",
   "execution_count": 167,
   "metadata": {},
   "outputs": [
    {
     "output_type": "execute_result",
     "data": {
      "text/plain": [
       "3-element Array{UInt8,1}:\n",
       " 0x31\n",
       " 0x32\n",
       " 0x33"
      ]
     },
     "metadata": {},
     "execution_count": 167
    }
   ],
   "source": [
    "Vector{UInt8}(x)"
   ]
  },
  {
   "cell_type": "code",
   "execution_count": 168,
   "metadata": {},
   "outputs": [
    {
     "output_type": "error",
     "ename": "LoadError",
     "evalue": "syntax: extra token \"observe\" after end of expression",
     "traceback": [
      "syntax: extra token \"observe\" after end of expression",
      ""
     ]
    }
   ],
   "source": [
    "Also observe the significant distinction between \\xff and \\uff: the former escape sequence encodes the byte 255, whereas the latter escape sequence represents the code point 255, which is encoded as two bytes in UTF-8:"
   ]
  },
  {
   "cell_type": "code",
   "execution_count": 169,
   "metadata": {},
   "outputs": [
    {
     "output_type": "execute_result",
     "data": {
      "text/plain": [
       "1-element Base.CodeUnits{UInt8,String}:\n",
       " 0xff"
      ]
     },
     "metadata": {},
     "execution_count": 169
    }
   ],
   "source": [
    "b\"\\xff\""
   ]
  },
  {
   "cell_type": "code",
   "execution_count": 170,
   "metadata": {},
   "outputs": [
    {
     "output_type": "execute_result",
     "data": {
      "text/plain": [
       "2-element Base.CodeUnits{UInt8,String}:\n",
       " 0xc3\n",
       " 0xbf"
      ]
     },
     "metadata": {},
     "execution_count": 170
    }
   ],
   "source": [
    "b\"\\uff\""
   ]
  },
  {
   "source": [
    "Character literals use the same behavior.\n",
    "\n",
    "For code points less than \\u80, it happens that the UTF-8 encoding of each code point is just the single byte produced by the corresponding \\x escape, so the distinction can safely be ignored. For the escapes \\x80 through \\xff as compared to \\u80 through \\uff, however, there is a major difference: the former escapes all encode single bytes, which – unless followed by very specific continuation bytes – do not form valid UTF-8 data, whereas the latter escapes all represent Unicode code points with two-byte encodings."
   ],
   "cell_type": "markdown",
   "metadata": {}
  },
  {
   "source": [
    "## Version Number Literals"
   ],
   "cell_type": "markdown",
   "metadata": {}
  },
  {
   "source": [
    "Version numbers can easily be expressed with non-standard string literals of the form v\"...\". Version number literals create VersionNumber objects which follow the specifications of semantic versioning, and therefore are composed of major, minor and patch numeric values, followed by pre-release and build alpha-numeric annotations. For example, v\"0.2.1-rc1+win64\" is broken into major version 0, minor version 2, patch version 1, pre-release rc1 and build win64. When entering a version literal, everything except the major version number is optional, therefore e.g. v\"0.2\" is equivalent to v\"0.2.0\" (with empty pre-release/build annotations), v\"2\" is equivalent to v\"2.0.0\", and so on.\n",
    "\n",
    "VersionNumber objects are mostly useful to easily and correctly compare two (or more) versions. For example, the constant VERSION holds Julia version number as a VersionNumber object, and therefore one can define some version-specific behavior using simple statements as:\n",
    "\n",
    "if v\"0.2\" <= VERSION < v\"0.3-\"\n",
    "        # do something specific to 0.2 release series\n",
    "end\n",
    "\n",
    "Note that in the above example the non-standard version number v\"0.3-\" is used, with a trailing -: this notation is a Julia extension of the standard, and it's used to indicate a version which is lower than any 0.3 release, including all of its pre-releases. So in the above example the code would only run with stable 0.2 versions, and exclude such versions as v\"0.3.0-rc1\". In order to also allow for unstable (i.e. pre-release) 0.2 versions, the lower bound check should be modified like this: v\"0.2-\" <= VERSION.\n",
    "\n",
    "Another non-standard version specification extension allows one to use a trailing + to express an upper limit on build versions, e.g. VERSION > v\"0.2-rc1+\" can be used to mean any version above 0.2-rc1 and any of its builds: it will return false for version v\"0.2-rc1+win64\" and true for v\"0.2-rc2\".\n",
    "\n",
    "It is good practice to use such special versions in comparisons (particularly, the trailing - should always be used on upper bounds unless there's a good reason not to), but they must not be used as the actual version number of anything, as they are invalid in the semantic versioning scheme.\n",
    "\n",
    "Besides being used for the VERSION constant, VersionNumber objects are widely used in the Pkg module, to specify packages versions and their dependencies."
   ],
   "cell_type": "markdown",
   "metadata": {}
  },
  {
   "source": [
    "## Raw String Literals"
   ],
   "cell_type": "markdown",
   "metadata": {}
  },
  {
   "source": [
    "Raw strings without interpolation or unescaping can be expressed with non-standard string literals of the form raw\"...\". Raw string literals create ordinary String objects which contain the enclosed contents exactly as entered with no interpolation or unescaping. This is useful for strings which contain code or markup in other languages which use $ or \\ as special characters.\n",
    "\n",
    "The exception is that quotation marks still must be escaped, e.g. raw\"\\\"\" is equivalent to \"\\\"\". To make it possible to express all strings, backslashes then also must be escaped, but only when appearing right before a quote character:"
   ],
   "cell_type": "markdown",
   "metadata": {}
  },
  {
   "cell_type": "code",
   "execution_count": 171,
   "metadata": {},
   "outputs": [
    {
     "output_type": "stream",
     "name": "stdout",
     "text": [
      "\\\\ \\\"\n"
     ]
    }
   ],
   "source": [
    "println(raw\"\\\\ \\\\\\\"\")"
   ]
  },
  {
   "source": [
    "Notice that the first two backslashes appear verbatim in the output, since they do not precede a quote character. However, the next backslash character escapes the backslash that follows it, and the last backslash escapes a quote, since these backslashes appear before a quote."
   ],
   "cell_type": "markdown",
   "metadata": {}
  }
 ]
}
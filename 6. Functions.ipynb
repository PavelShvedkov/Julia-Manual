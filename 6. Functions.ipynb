{
 "metadata": {
  "language_info": {
   "codemirror_mode": {
    "name": "ipython",
    "version": 3
   },
   "file_extension": ".py",
   "mimetype": "text/x-python",
   "name": "python",
   "nbconvert_exporter": "python",
   "pygments_lexer": "ipython3",
   "version": "3.8.5-final"
  },
  "orig_nbformat": 2,
  "kernelspec": {
   "name": "julia-1.4",
   "display_name": "Julia 1.4.1",
   "language": "julia"
  }
 },
 "nbformat": 4,
 "nbformat_minor": 2,
 "cells": [
  {
   "source": [
    "# Functions"
   ],
   "cell_type": "markdown",
   "metadata": {}
  },
  {
   "source": [
    "In Julia, a function is an object that maps a tuple of argument values to a return value. Julia functions are not pure mathematical functions, because they can alter and be affected by the global state of the program. The basic syntax for defining functions in Julia is:"
   ],
   "cell_type": "markdown",
   "metadata": {}
  },
  {
   "cell_type": "code",
   "execution_count": 1,
   "metadata": {},
   "outputs": [
    {
     "output_type": "execute_result",
     "data": {
      "text/plain": [
       "f (generic function with 1 method)"
      ]
     },
     "metadata": {},
     "execution_count": 1
    }
   ],
   "source": [
    "function f(x,y)\n",
    "    x + y\n",
    "end"
   ]
  },
  {
   "source": [
    "This function accepts two arguments x and y and returns the value of the last expression evaluated, which is x + y.\n",
    "\n",
    "There is a second, more terse syntax for defining a function in Julia. The traditional function declaration syntax demonstrated above is equivalent to the following compact \"assignment form\":"
   ],
   "cell_type": "markdown",
   "metadata": {}
  },
  {
   "cell_type": "code",
   "execution_count": 2,
   "metadata": {},
   "outputs": [
    {
     "output_type": "execute_result",
     "data": {
      "text/plain": [
       "f (generic function with 1 method)"
      ]
     },
     "metadata": {},
     "execution_count": 2
    }
   ],
   "source": [
    "f(x,y) = x + y"
   ]
  },
  {
   "source": [
    "In the assignment form, the body of the function must be a single expression, although it can be a compound expression (see Compound Expressions). Short, simple function definitions are common in Julia. The short function syntax is accordingly quite idiomatic, considerably reducing both typing and visual noise.\n",
    "\n",
    "A function is called using the traditional parenthesis syntax:"
   ],
   "cell_type": "markdown",
   "metadata": {}
  },
  {
   "cell_type": "code",
   "execution_count": 3,
   "metadata": {},
   "outputs": [
    {
     "output_type": "execute_result",
     "data": {
      "text/plain": [
       "5"
      ]
     },
     "metadata": {},
     "execution_count": 3
    }
   ],
   "source": [
    "f(2, 3)"
   ]
  },
  {
   "source": [
    "Without parentheses, the expression f refers to the function object, and can be passed around like any other value:"
   ],
   "cell_type": "markdown",
   "metadata": {}
  },
  {
   "cell_type": "code",
   "execution_count": 4,
   "metadata": {},
   "outputs": [
    {
     "output_type": "execute_result",
     "data": {
      "text/plain": [
       "5"
      ]
     },
     "metadata": {},
     "execution_count": 4
    }
   ],
   "source": [
    "g = f;\n",
    "g(2, 3)"
   ]
  },
  {
   "source": [
    "## Argument Passing Behavior"
   ],
   "cell_type": "markdown",
   "metadata": {}
  },
  {
   "source": [
    "Julia function arguments follow a convention sometimes called \"pass-by-sharing\", which means that values are not copied when they are passed to functions. Function arguments themselves act as new variable bindings (new locations that can refer to values), but the values they refer to are identical to the passed values. Modifications to mutable values (such as Arrays) made within a function will be visible to the caller. This is the same behavior found in Scheme, most Lisps, Python, Ruby and Perl, among other dynamic languages."
   ],
   "cell_type": "markdown",
   "metadata": {}
  },
  {
   "source": [
    "## The return Keyword"
   ],
   "cell_type": "markdown",
   "metadata": {}
  },
  {
   "source": [
    "The value returned by a function is the value of the last expression evaluated, which, by default, is the last expression in the body of the function definition. In the example function, f, from the previous section this is the value of the expression x + y. As an alternative, as in many other languages, the return keyword causes a function to return immediately, providing an expression whose value is returned:"
   ],
   "cell_type": "markdown",
   "metadata": {}
  },
  {
   "cell_type": "code",
   "execution_count": 5,
   "metadata": {},
   "outputs": [
    {
     "output_type": "execute_result",
     "data": {
      "text/plain": [
       "e (generic function with 1 method)"
      ]
     },
     "metadata": {},
     "execution_count": 5
    }
   ],
   "source": [
    "function e(x,y)\n",
    "    return x * y\n",
    "    x + y\n",
    "end"
   ]
  },
  {
   "source": [
    "Since function definitions can be entered into interactive sessions, it is easy to compare these definitions:"
   ],
   "cell_type": "markdown",
   "metadata": {}
  },
  {
   "cell_type": "code",
   "execution_count": 6,
   "metadata": {},
   "outputs": [
    {
     "output_type": "execute_result",
     "data": {
      "text/plain": [
       "f (generic function with 1 method)"
      ]
     },
     "metadata": {},
     "execution_count": 6
    }
   ],
   "source": [
    "f(x,y) = x + y"
   ]
  },
  {
   "cell_type": "code",
   "execution_count": 7,
   "metadata": {},
   "outputs": [
    {
     "output_type": "execute_result",
     "data": {
      "text/plain": [
       "5"
      ]
     },
     "metadata": {},
     "execution_count": 7
    }
   ],
   "source": [
    "f(2, 3)"
   ]
  },
  {
   "cell_type": "code",
   "execution_count": 8,
   "metadata": {},
   "outputs": [
    {
     "output_type": "execute_result",
     "data": {
      "text/plain": [
       "6"
      ]
     },
     "metadata": {},
     "execution_count": 8
    }
   ],
   "source": [
    "e(2, 3)"
   ]
  },
  {
   "source": [
    "Of course, in a purely linear function body like e, the usage of return is pointless since the expression x + y is never evaluated and we could simply make x * y the last expression in the function and omit the return. In conjunction with other control flow, however, return is of real use. Here, for example, is a function that computes the hypotenuse length of a right triangle with sides of length x and y, avoiding overflow:"
   ],
   "cell_type": "markdown",
   "metadata": {}
  },
  {
   "cell_type": "code",
   "execution_count": 9,
   "metadata": {},
   "outputs": [
    {
     "output_type": "execute_result",
     "data": {
      "text/plain": [
       "hypot (generic function with 1 method)"
      ]
     },
     "metadata": {},
     "execution_count": 9
    }
   ],
   "source": [
    "function hypot(x,y)\n",
    "    x = abs(x)\n",
    "    y = abs(y)\n",
    "    if x > y\n",
    "        r = y/x\n",
    "        return x*sqrt(1+r*r)\n",
    "    end\n",
    "    if y == 0\n",
    "        return zero(x)\n",
    "    end\n",
    "    r = x/y\n",
    "    return y*sqrt(1+r*r)\n",
    "end"
   ]
  },
  {
   "cell_type": "code",
   "execution_count": 10,
   "metadata": {},
   "outputs": [
    {
     "output_type": "execute_result",
     "data": {
      "text/plain": [
       "5.0"
      ]
     },
     "metadata": {},
     "execution_count": 10
    }
   ],
   "source": [
    "hypot(3, 4)"
   ]
  },
  {
   "source": [
    "There are three possible points of return from this function, returning the values of three different expressions, depending on the values of x and y. The return on the last line could be omitted since it is the last expression."
   ],
   "cell_type": "markdown",
   "metadata": {}
  },
  {
   "source": [
    "### Return type"
   ],
   "cell_type": "markdown",
   "metadata": {}
  },
  {
   "source": [
    "A return type can be specified in the function declaration using the :: operator. This converts the return value to the specified type."
   ],
   "cell_type": "markdown",
   "metadata": {}
  },
  {
   "cell_type": "code",
   "execution_count": 11,
   "metadata": {},
   "outputs": [],
   "source": [
    "function e1(x, y)::Int8\n",
    "    return x * y\n",
    "end;"
   ]
  },
  {
   "cell_type": "code",
   "execution_count": 12,
   "metadata": {},
   "outputs": [
    {
     "output_type": "execute_result",
     "data": {
      "text/plain": [
       "Int8"
      ]
     },
     "metadata": {},
     "execution_count": 12
    }
   ],
   "source": [
    "typeof(e1(1, 2))"
   ]
  },
  {
   "source": [
    "This function will always return an Int8 regardless of the types of x and y."
   ],
   "cell_type": "markdown",
   "metadata": {}
  },
  {
   "source": [
    "### Returning nothing"
   ],
   "cell_type": "markdown",
   "metadata": {}
  },
  {
   "source": [
    "For functions that do not need to return a value (functions used only for some side effects), the Julia convention is to return the value nothing:"
   ],
   "cell_type": "markdown",
   "metadata": {}
  },
  {
   "cell_type": "code",
   "execution_count": 13,
   "metadata": {},
   "outputs": [
    {
     "output_type": "execute_result",
     "data": {
      "text/plain": [
       "printx (generic function with 1 method)"
      ]
     },
     "metadata": {},
     "execution_count": 13
    }
   ],
   "source": [
    "function printx(x)\n",
    "    println(\"x = $x\")\n",
    "    return nothing\n",
    "end"
   ]
  },
  {
   "source": [
    "This is a convention in the sense that nothing is not a Julia keyword but a only singleton object of type Nothing. Also, you may notice that the printx function example above is contrived, because println already returns nothing, so that the return line is redundant.\n",
    "\n",
    "There are two possible shortened forms for the return nothing expression. On the one hand, the return keyword implicitly returns nothing, so it can be used alone. On the other hand, since functions implicitly return their last expression evaluated, nothing can be used alone when it's the last expression. The preference for the expression return nothing as opposed to return or nothing alone is a matter of coding style."
   ],
   "cell_type": "markdown",
   "metadata": {}
  },
  {
   "source": [
    "## Operators Are Functions"
   ],
   "cell_type": "markdown",
   "metadata": {}
  },
  {
   "source": [
    "In Julia, most operators are just functions with support for special syntax. (The exceptions are operators with special evaluation semantics like && and ||. These operators cannot be functions since Short-Circuit Evaluation requires that their operands are not evaluated before evaluation of the operator.) Accordingly, you can also apply them using parenthesized argument lists, just as you would any other function:"
   ],
   "cell_type": "markdown",
   "metadata": {}
  },
  {
   "cell_type": "code",
   "execution_count": 14,
   "metadata": {},
   "outputs": [
    {
     "output_type": "execute_result",
     "data": {
      "text/plain": [
       "6"
      ]
     },
     "metadata": {},
     "execution_count": 14
    }
   ],
   "source": [
    "1 + 2 + 3"
   ]
  },
  {
   "cell_type": "code",
   "execution_count": 15,
   "metadata": {},
   "outputs": [
    {
     "output_type": "execute_result",
     "data": {
      "text/plain": [
       "6"
      ]
     },
     "metadata": {},
     "execution_count": 15
    }
   ],
   "source": [
    "+(1,2,3)"
   ]
  },
  {
   "source": [
    "The infix form is exactly equivalent to the function application form – in fact the former is parsed to produce the function call internally. This also means that you can assign and pass around operators such as + and * just like you would with other function values:"
   ],
   "cell_type": "markdown",
   "metadata": {}
  },
  {
   "cell_type": "code",
   "execution_count": 16,
   "metadata": {},
   "outputs": [
    {
     "output_type": "execute_result",
     "data": {
      "text/plain": [
       "6"
      ]
     },
     "metadata": {},
     "execution_count": 16
    }
   ],
   "source": [
    "plus = +\n",
    "plus(1, 2, 3)"
   ]
  },
  {
   "source": [
    "## Operators With Special Names"
   ],
   "cell_type": "markdown",
   "metadata": {}
  },
  {
   "source": [
    "A few special expressions correspond to calls to functions with non-obvious names. These are:"
   ],
   "cell_type": "markdown",
   "metadata": {}
  },
  {
   "cell_type": "code",
   "execution_count": 17,
   "metadata": {},
   "outputs": [
    {
     "output_type": "stream",
     "name": "stdout",
     "text": [
      "search: \u001b[0m\u001b[1mh\u001b[22m\u001b[0m\u001b[1mc\u001b[22m\u001b[0m\u001b[1ma\u001b[22m\u001b[0m\u001b[1mt\u001b[22m \u001b[0m\u001b[1mh\u001b[22mv\u001b[0m\u001b[1mc\u001b[22m\u001b[0m\u001b[1ma\u001b[22m\u001b[0m\u001b[1mt\u001b[22m Mat\u001b[0m\u001b[1mh\u001b[22m\u001b[0m\u001b[1mC\u001b[22monst\u001b[0m\u001b[1ma\u001b[22mn\u001b[0m\u001b[1mt\u001b[22ms @t\u001b[0m\u001b[1mh\u001b[22mread\u001b[0m\u001b[1mc\u001b[22m\u001b[0m\u001b[1ma\u001b[22mll catc\u001b[0m\u001b[1mh\u001b[22m_ba\u001b[0m\u001b[1mc\u001b[22mktr\u001b[0m\u001b[1ma\u001b[22mce\n",
      "\n"
     ]
    },
    {
     "output_type": "execute_result",
     "data": {
      "text/plain": [
       "\u001b[36m  hcat(A...)\u001b[39m\n",
       "\n",
       "  Concatenate along dimension 2.\n",
       "\n",
       "\u001b[1m  Examples\u001b[22m\n",
       "\u001b[1m  ≡≡≡≡≡≡≡≡≡≡\u001b[22m\n",
       "\n",
       "\u001b[36m  julia> a = [1; 2; 3; 4; 5]\u001b[39m\n",
       "\u001b[36m  5-element Array{Int64,1}:\u001b[39m\n",
       "\u001b[36m   1\u001b[39m\n",
       "\u001b[36m   2\u001b[39m\n",
       "\u001b[36m   3\u001b[39m\n",
       "\u001b[36m   4\u001b[39m\n",
       "\u001b[36m   5\u001b[39m\n",
       "\u001b[36m  \u001b[39m\n",
       "\u001b[36m  julia> b = [6 7; 8 9; 10 11; 12 13; 14 15]\u001b[39m\n",
       "\u001b[36m  5×2 Array{Int64,2}:\u001b[39m\n",
       "\u001b[36m    6   7\u001b[39m\n",
       "\u001b[36m    8   9\u001b[39m\n",
       "\u001b[36m   10  11\u001b[39m\n",
       "\u001b[36m   12  13\u001b[39m\n",
       "\u001b[36m   14  15\u001b[39m\n",
       "\u001b[36m  \u001b[39m\n",
       "\u001b[36m  julia> hcat(a,b)\u001b[39m\n",
       "\u001b[36m  5×3 Array{Int64,2}:\u001b[39m\n",
       "\u001b[36m   1   6   7\u001b[39m\n",
       "\u001b[36m   2   8   9\u001b[39m\n",
       "\u001b[36m   3  10  11\u001b[39m\n",
       "\u001b[36m   4  12  13\u001b[39m\n",
       "\u001b[36m   5  14  15\u001b[39m\n",
       "\u001b[36m  \u001b[39m\n",
       "\u001b[36m  julia> c = ([1; 2; 3], [4; 5; 6])\u001b[39m\n",
       "\u001b[36m  ([1, 2, 3], [4, 5, 6])\u001b[39m\n",
       "\u001b[36m  \u001b[39m\n",
       "\u001b[36m  julia> hcat(c...)\u001b[39m\n",
       "\u001b[36m  3×2 Array{Int64,2}:\u001b[39m\n",
       "\u001b[36m   1  4\u001b[39m\n",
       "\u001b[36m   2  5\u001b[39m\n",
       "\u001b[36m   3  6\u001b[39m"
      ],
      "text/markdown": "```\nhcat(A...)\n```\n\nConcatenate along dimension 2.\n\n# Examples\n\n```jldoctest\njulia> a = [1; 2; 3; 4; 5]\n5-element Array{Int64,1}:\n 1\n 2\n 3\n 4\n 5\n\njulia> b = [6 7; 8 9; 10 11; 12 13; 14 15]\n5×2 Array{Int64,2}:\n  6   7\n  8   9\n 10  11\n 12  13\n 14  15\n\njulia> hcat(a,b)\n5×3 Array{Int64,2}:\n 1   6   7\n 2   8   9\n 3  10  11\n 4  12  13\n 5  14  15\n\njulia> c = ([1; 2; 3], [4; 5; 6])\n([1, 2, 3], [4, 5, 6])\n\njulia> hcat(c...)\n3×2 Array{Int64,2}:\n 1  4\n 2  5\n 3  6\n```\n",
      "text/latex": "\\begin{verbatim}\nhcat(A...)\n\\end{verbatim}\nConcatenate along dimension 2.\n\n\\section{Examples}\n\\begin{verbatim}\njulia> a = [1; 2; 3; 4; 5]\n5-element Array{Int64,1}:\n 1\n 2\n 3\n 4\n 5\n\njulia> b = [6 7; 8 9; 10 11; 12 13; 14 15]\n5×2 Array{Int64,2}:\n  6   7\n  8   9\n 10  11\n 12  13\n 14  15\n\njulia> hcat(a,b)\n5×3 Array{Int64,2}:\n 1   6   7\n 2   8   9\n 3  10  11\n 4  12  13\n 5  14  15\n\njulia> c = ([1; 2; 3], [4; 5; 6])\n([1, 2, 3], [4, 5, 6])\n\njulia> hcat(c...)\n3×2 Array{Int64,2}:\n 1  4\n 2  5\n 3  6\n\\end{verbatim}\n"
     },
     "metadata": {},
     "execution_count": 17
    }
   ],
   "source": [
    "?hcat"
   ]
  },
  {
   "cell_type": "code",
   "execution_count": 18,
   "metadata": {},
   "outputs": [
    {
     "output_type": "stream",
     "name": "stdout",
     "text": [
      "search: \u001b[0m\u001b[1mv\u001b[22m\u001b[0m\u001b[1mc\u001b[22m\u001b[0m\u001b[1ma\u001b[22m\u001b[0m\u001b[1mt\u001b[22m h\u001b[0m\u001b[1mv\u001b[22m\u001b[0m\u001b[1mc\u001b[22m\u001b[0m\u001b[1ma\u001b[22m\u001b[0m\u001b[1mt\u001b[22m \u001b[0m\u001b[1mV\u001b[22me\u001b[0m\u001b[1mc\u001b[22mOrM\u001b[0m\u001b[1ma\u001b[22m\u001b[0m\u001b[1mt\u001b[22m Dense\u001b[0m\u001b[1mV\u001b[22me\u001b[0m\u001b[1mc\u001b[22mOrM\u001b[0m\u001b[1ma\u001b[22m\u001b[0m\u001b[1mt\u001b[22m Strided\u001b[0m\u001b[1mV\u001b[22me\u001b[0m\u001b[1mc\u001b[22mOrM\u001b[0m\u001b[1ma\u001b[22m\u001b[0m\u001b[1mt\u001b[22m Abstract\u001b[0m\u001b[1mV\u001b[22me\u001b[0m\u001b[1mc\u001b[22mOrM\u001b[0m\u001b[1ma\u001b[22m\u001b[0m\u001b[1mt\u001b[22m\n\n"
     ]
    },
    {
     "output_type": "execute_result",
     "data": {
      "text/plain": [
       "\u001b[36m  vcat(A...)\u001b[39m\n",
       "\n",
       "  Concatenate along dimension 1.\n",
       "\n",
       "\u001b[1m  Examples\u001b[22m\n",
       "\u001b[1m  ≡≡≡≡≡≡≡≡≡≡\u001b[22m\n",
       "\n",
       "\u001b[36m  julia> a = [1 2 3 4 5]\u001b[39m\n",
       "\u001b[36m  1×5 Array{Int64,2}:\u001b[39m\n",
       "\u001b[36m   1  2  3  4  5\u001b[39m\n",
       "\u001b[36m  \u001b[39m\n",
       "\u001b[36m  julia> b = [6 7 8 9 10; 11 12 13 14 15]\u001b[39m\n",
       "\u001b[36m  2×5 Array{Int64,2}:\u001b[39m\n",
       "\u001b[36m    6   7   8   9  10\u001b[39m\n",
       "\u001b[36m   11  12  13  14  15\u001b[39m\n",
       "\u001b[36m  \u001b[39m\n",
       "\u001b[36m  julia> vcat(a,b)\u001b[39m\n",
       "\u001b[36m  3×5 Array{Int64,2}:\u001b[39m\n",
       "\u001b[36m    1   2   3   4   5\u001b[39m\n",
       "\u001b[36m    6   7   8   9  10\u001b[39m\n",
       "\u001b[36m   11  12  13  14  15\u001b[39m\n",
       "\u001b[36m  \u001b[39m\n",
       "\u001b[36m  julia> c = ([1 2 3], [4 5 6])\u001b[39m\n",
       "\u001b[36m  ([1 2 3], [4 5 6])\u001b[39m\n",
       "\u001b[36m  \u001b[39m\n",
       "\u001b[36m  julia> vcat(c...)\u001b[39m\n",
       "\u001b[36m  2×3 Array{Int64,2}:\u001b[39m\n",
       "\u001b[36m   1  2  3\u001b[39m\n",
       "\u001b[36m   4  5  6\u001b[39m"
      ],
      "text/markdown": "```\nvcat(A...)\n```\n\nConcatenate along dimension 1.\n\n# Examples\n\n```jldoctest\njulia> a = [1 2 3 4 5]\n1×5 Array{Int64,2}:\n 1  2  3  4  5\n\njulia> b = [6 7 8 9 10; 11 12 13 14 15]\n2×5 Array{Int64,2}:\n  6   7   8   9  10\n 11  12  13  14  15\n\njulia> vcat(a,b)\n3×5 Array{Int64,2}:\n  1   2   3   4   5\n  6   7   8   9  10\n 11  12  13  14  15\n\njulia> c = ([1 2 3], [4 5 6])\n([1 2 3], [4 5 6])\n\njulia> vcat(c...)\n2×3 Array{Int64,2}:\n 1  2  3\n 4  5  6\n```\n",
      "text/latex": "\\begin{verbatim}\nvcat(A...)\n\\end{verbatim}\nConcatenate along dimension 1.\n\n\\section{Examples}\n\\begin{verbatim}\njulia> a = [1 2 3 4 5]\n1×5 Array{Int64,2}:\n 1  2  3  4  5\n\njulia> b = [6 7 8 9 10; 11 12 13 14 15]\n2×5 Array{Int64,2}:\n  6   7   8   9  10\n 11  12  13  14  15\n\njulia> vcat(a,b)\n3×5 Array{Int64,2}:\n  1   2   3   4   5\n  6   7   8   9  10\n 11  12  13  14  15\n\njulia> c = ([1 2 3], [4 5 6])\n([1 2 3], [4 5 6])\n\njulia> vcat(c...)\n2×3 Array{Int64,2}:\n 1  2  3\n 4  5  6\n\\end{verbatim}\n"
     },
     "metadata": {},
     "execution_count": 18
    }
   ],
   "source": [
    "?vcat"
   ]
  },
  {
   "cell_type": "code",
   "execution_count": 19,
   "metadata": {},
   "outputs": [
    {
     "output_type": "stream",
     "name": "stdout",
     "text": [
      "search: \u001b[0m\u001b[1mh\u001b[22m\u001b[0m\u001b[1mv\u001b[22m\u001b[0m\u001b[1mc\u001b[22m\u001b[0m\u001b[1ma\u001b[22m\u001b[0m\u001b[1mt\u001b[22m\n\n"
     ]
    },
    {
     "output_type": "execute_result",
     "data": {
      "text/plain": [
       "\u001b[36m  hvcat(rows::Tuple{Vararg{Int}}, values...)\u001b[39m\n",
       "\n",
       "  Horizontal and vertical concatenation in one call. This function is called\n",
       "  for block matrix syntax. The first argument specifies the number of\n",
       "  arguments to concatenate in each block row.\n",
       "\n",
       "\u001b[1m  Examples\u001b[22m\n",
       "\u001b[1m  ≡≡≡≡≡≡≡≡≡≡\u001b[22m\n",
       "\n",
       "\u001b[36m  julia> a, b, c, d, e, f = 1, 2, 3, 4, 5, 6\u001b[39m\n",
       "\u001b[36m  (1, 2, 3, 4, 5, 6)\u001b[39m\n",
       "\u001b[36m  \u001b[39m\n",
       "\u001b[36m  julia> [a b c; d e f]\u001b[39m\n",
       "\u001b[36m  2×3 Array{Int64,2}:\u001b[39m\n",
       "\u001b[36m   1  2  3\u001b[39m\n",
       "\u001b[36m   4  5  6\u001b[39m\n",
       "\u001b[36m  \u001b[39m\n",
       "\u001b[36m  julia> hvcat((3,3), a,b,c,d,e,f)\u001b[39m\n",
       "\u001b[36m  2×3 Array{Int64,2}:\u001b[39m\n",
       "\u001b[36m   1  2  3\u001b[39m\n",
       "\u001b[36m   4  5  6\u001b[39m\n",
       "\u001b[36m  \u001b[39m\n",
       "\u001b[36m  julia> [a b;c d; e f]\u001b[39m\n",
       "\u001b[36m  3×2 Array{Int64,2}:\u001b[39m\n",
       "\u001b[36m   1  2\u001b[39m\n",
       "\u001b[36m   3  4\u001b[39m\n",
       "\u001b[36m   5  6\u001b[39m\n",
       "\u001b[36m  \u001b[39m\n",
       "\u001b[36m  julia> hvcat((2,2,2), a,b,c,d,e,f)\u001b[39m\n",
       "\u001b[36m  3×2 Array{Int64,2}:\u001b[39m\n",
       "\u001b[36m   1  2\u001b[39m\n",
       "\u001b[36m   3  4\u001b[39m\n",
       "\u001b[36m   5  6\u001b[39m\n",
       "\n",
       "  If the first argument is a single integer \u001b[36mn\u001b[39m, then all block rows are assumed\n",
       "  to have \u001b[36mn\u001b[39m block columns."
      ],
      "text/markdown": "```\nhvcat(rows::Tuple{Vararg{Int}}, values...)\n```\n\nHorizontal and vertical concatenation in one call. This function is called for block matrix syntax. The first argument specifies the number of arguments to concatenate in each block row.\n\n# Examples\n\n```jldoctest\njulia> a, b, c, d, e, f = 1, 2, 3, 4, 5, 6\n(1, 2, 3, 4, 5, 6)\n\njulia> [a b c; d e f]\n2×3 Array{Int64,2}:\n 1  2  3\n 4  5  6\n\njulia> hvcat((3,3), a,b,c,d,e,f)\n2×3 Array{Int64,2}:\n 1  2  3\n 4  5  6\n\njulia> [a b;c d; e f]\n3×2 Array{Int64,2}:\n 1  2\n 3  4\n 5  6\n\njulia> hvcat((2,2,2), a,b,c,d,e,f)\n3×2 Array{Int64,2}:\n 1  2\n 3  4\n 5  6\n```\n\nIf the first argument is a single integer `n`, then all block rows are assumed to have `n` block columns.\n",
      "text/latex": "\\begin{verbatim}\nhvcat(rows::Tuple{Vararg{Int}}, values...)\n\\end{verbatim}\nHorizontal and vertical concatenation in one call. This function is called for block matrix syntax. The first argument specifies the number of arguments to concatenate in each block row.\n\n\\section{Examples}\n\\begin{verbatim}\njulia> a, b, c, d, e, f = 1, 2, 3, 4, 5, 6\n(1, 2, 3, 4, 5, 6)\n\njulia> [a b c; d e f]\n2×3 Array{Int64,2}:\n 1  2  3\n 4  5  6\n\njulia> hvcat((3,3), a,b,c,d,e,f)\n2×3 Array{Int64,2}:\n 1  2  3\n 4  5  6\n\njulia> [a b;c d; e f]\n3×2 Array{Int64,2}:\n 1  2\n 3  4\n 5  6\n\njulia> hvcat((2,2,2), a,b,c,d,e,f)\n3×2 Array{Int64,2}:\n 1  2\n 3  4\n 5  6\n\\end{verbatim}\nIf the first argument is a single integer \\texttt{n}, then all block rows are assumed to have \\texttt{n} block columns.\n\n"
     },
     "metadata": {},
     "execution_count": 19
    }
   ],
   "source": [
    "?hvcat"
   ]
  },
  {
   "cell_type": "code",
   "execution_count": 20,
   "metadata": {},
   "outputs": [
    {
     "output_type": "stream",
     "name": "stdout",
     "text": [
      "search: \u001b[0m\u001b[1ma\u001b[22m\u001b[0m\u001b[1md\u001b[22m\u001b[0m\u001b[1mj\u001b[22m\u001b[0m\u001b[1mo\u001b[22m\u001b[0m\u001b[1mi\u001b[22m\u001b[0m\u001b[1mn\u001b[22m\u001b[0m\u001b[1mt\u001b[22m\n\n"
     ]
    },
    {
     "output_type": "execute_result",
     "data": {
      "text/plain": [
       "\u001b[36m  adjoint(A)\u001b[39m\n",
       "\n",
       "  Lazy adjoint (conjugate transposition) (also postfix \u001b[36m'\u001b[39m). Note that \u001b[36madjoint\u001b[39m\n",
       "  is applied recursively to elements.\n",
       "\n",
       "  This operation is intended for linear algebra usage - for general data\n",
       "  manipulation see \u001b[36mpermutedims\u001b[39m.\n",
       "\n",
       "\u001b[1m  Examples\u001b[22m\n",
       "\u001b[1m  ≡≡≡≡≡≡≡≡≡≡\u001b[22m\n",
       "\n",
       "\u001b[36m  julia> A = [3+2im 9+2im; 8+7im  4+6im]\u001b[39m\n",
       "\u001b[36m  2×2 Array{Complex{Int64},2}:\u001b[39m\n",
       "\u001b[36m   3+2im  9+2im\u001b[39m\n",
       "\u001b[36m   8+7im  4+6im\u001b[39m\n",
       "\u001b[36m  \u001b[39m\n",
       "\u001b[36m  julia> adjoint(A)\u001b[39m\n",
       "\u001b[36m  2×2 Adjoint{Complex{Int64},Array{Complex{Int64},2}}:\u001b[39m\n",
       "\u001b[36m   3-2im  8-7im\u001b[39m\n",
       "\u001b[36m   9-2im  4-6im\u001b[39m"
      ],
      "text/markdown": "```\nadjoint(A)\n```\n\nLazy adjoint (conjugate transposition) (also postfix `'`). Note that `adjoint` is applied recursively to elements.\n\nThis operation is intended for linear algebra usage - for general data manipulation see [`permutedims`](@ref Base.permutedims).\n\n# Examples\n\n```jldoctest\njulia> A = [3+2im 9+2im; 8+7im  4+6im]\n2×2 Array{Complex{Int64},2}:\n 3+2im  9+2im\n 8+7im  4+6im\n\njulia> adjoint(A)\n2×2 Adjoint{Complex{Int64},Array{Complex{Int64},2}}:\n 3-2im  8-7im\n 9-2im  4-6im\n```\n",
      "text/latex": "\\begin{verbatim}\nadjoint(A)\n\\end{verbatim}\nLazy adjoint (conjugate transposition) (also postfix \\texttt{'}). Note that \\texttt{adjoint} is applied recursively to elements.\n\nThis operation is intended for linear algebra usage - for general data manipulation see \\href{@ref Base.permutedims}{\\texttt{permutedims}}.\n\n\\section{Examples}\n\\begin{verbatim}\njulia> A = [3+2im 9+2im; 8+7im  4+6im]\n2×2 Array{Complex{Int64},2}:\n 3+2im  9+2im\n 8+7im  4+6im\n\njulia> adjoint(A)\n2×2 Adjoint{Complex{Int64},Array{Complex{Int64},2}}:\n 3-2im  8-7im\n 9-2im  4-6im\n\\end{verbatim}\n"
     },
     "metadata": {},
     "execution_count": 20
    }
   ],
   "source": [
    "?adjoint"
   ]
  },
  {
   "cell_type": "code",
   "execution_count": 21,
   "metadata": {},
   "outputs": [
    {
     "output_type": "stream",
     "name": "stdout",
     "text": [
      "search: \u001b[0m\u001b[1mg\u001b[22m\u001b[0m\u001b[1me\u001b[22m\u001b[0m\u001b[1mt\u001b[22m\u001b[0m\u001b[1mi\u001b[22m\u001b[0m\u001b[1mn\u001b[22m\u001b[0m\u001b[1md\u001b[22m\u001b[0m\u001b[1me\u001b[22m\u001b[0m\u001b[1mx\u001b[22m\n\n"
     ]
    },
    {
     "output_type": "execute_result",
     "data": {
      "text/plain": [
       "\u001b[36m  getindex(type[, elements...])\u001b[39m\n",
       "\n",
       "  Construct a 1-d array of the specified type. This is usually called with the\n",
       "  syntax \u001b[36mType[]\u001b[39m. Element values can be specified using \u001b[36mType[a,b,c,...]\u001b[39m.\n",
       "\n",
       "\u001b[1m  Examples\u001b[22m\n",
       "\u001b[1m  ≡≡≡≡≡≡≡≡≡≡\u001b[22m\n",
       "\n",
       "\u001b[36m  julia> Int8[1, 2, 3]\u001b[39m\n",
       "\u001b[36m  3-element Array{Int8,1}:\u001b[39m\n",
       "\u001b[36m   1\u001b[39m\n",
       "\u001b[36m   2\u001b[39m\n",
       "\u001b[36m   3\u001b[39m\n",
       "\u001b[36m  \u001b[39m\n",
       "\u001b[36m  julia> getindex(Int8, 1, 2, 3)\u001b[39m\n",
       "\u001b[36m  3-element Array{Int8,1}:\u001b[39m\n",
       "\u001b[36m   1\u001b[39m\n",
       "\u001b[36m   2\u001b[39m\n",
       "\u001b[36m   3\u001b[39m\n",
       "\n",
       "  ────────────────────────────────────────────────────────────────────────────\n",
       "\n",
       "\u001b[36m  getindex(collection, key...)\u001b[39m\n",
       "\n",
       "  Retrieve the value(s) stored at the given key or index within a collection.\n",
       "  The syntax \u001b[36ma[i,j,...]\u001b[39m is converted by the compiler to \u001b[36mgetindex(a, i, j,\n",
       "  ...)\u001b[39m.\n",
       "\n",
       "\u001b[1m  Examples\u001b[22m\n",
       "\u001b[1m  ≡≡≡≡≡≡≡≡≡≡\u001b[22m\n",
       "\n",
       "\u001b[36m  julia> A = Dict(\"a\" => 1, \"b\" => 2)\u001b[39m\n",
       "\u001b[36m  Dict{String,Int64} with 2 entries:\u001b[39m\n",
       "\u001b[36m    \"b\" => 2\u001b[39m\n",
       "\u001b[36m    \"a\" => 1\u001b[39m\n",
       "\u001b[36m  \u001b[39m\n",
       "\u001b[36m  julia> getindex(A, \"a\")\u001b[39m\n",
       "\u001b[36m  1\u001b[39m\n",
       "\n",
       "  ────────────────────────────────────────────────────────────────────────────\n",
       "\n",
       "\u001b[36m  getindex(A, inds...)\u001b[39m\n",
       "\n",
       "  Return a subset of array \u001b[36mA\u001b[39m as specified by \u001b[36minds\u001b[39m, where each \u001b[36mind\u001b[39m may be an\n",
       "  \u001b[36mInt\u001b[39m, an \u001b[36mAbstractRange\u001b[39m, or a \u001b[36mVector\u001b[39m. See the manual section on array indexing\n",
       "  for details.\n",
       "\n",
       "\u001b[1m  Examples\u001b[22m\n",
       "\u001b[1m  ≡≡≡≡≡≡≡≡≡≡\u001b[22m\n",
       "\n",
       "\u001b[36m  julia> A = [1 2; 3 4]\u001b[39m\n",
       "\u001b[36m  2×2 Array{Int64,2}:\u001b[39m\n",
       "\u001b[36m   1  2\u001b[39m\n",
       "\u001b[36m   3  4\u001b[39m\n",
       "\u001b[36m  \u001b[39m\n",
       "\u001b[36m  julia> getindex(A, 1)\u001b[39m\n",
       "\u001b[36m  1\u001b[39m\n",
       "\u001b[36m  \u001b[39m\n",
       "\u001b[36m  julia> getindex(A, [2, 1])\u001b[39m\n",
       "\u001b[36m  2-element Array{Int64,1}:\u001b[39m\n",
       "\u001b[36m   3\u001b[39m\n",
       "\u001b[36m   1\u001b[39m\n",
       "\u001b[36m  \u001b[39m\n",
       "\u001b[36m  julia> getindex(A, 2:4)\u001b[39m\n",
       "\u001b[36m  3-element Array{Int64,1}:\u001b[39m\n",
       "\u001b[36m   3\u001b[39m\n",
       "\u001b[36m   2\u001b[39m\n",
       "\u001b[36m   4\u001b[39m\n",
       "\n",
       "  ────────────────────────────────────────────────────────────────────────────\n",
       "\n",
       "\u001b[36m  getindex(tree::GitTree, target::AbstractString) -> GitObject\u001b[39m\n",
       "\n",
       "  Look up \u001b[36mtarget\u001b[39m path in the \u001b[36mtree\u001b[39m, returning a \u001b[36mGitObject\u001b[39m (a \u001b[36mGitBlob\u001b[39m in the\n",
       "  case of a file, or another \u001b[36mGitTree\u001b[39m if looking up a directory).\n",
       "\n",
       "\u001b[1m  Examples\u001b[22m\n",
       "\u001b[1m  ≡≡≡≡≡≡≡≡≡≡\u001b[22m\n",
       "\n",
       "\u001b[36m  tree = LibGit2.GitTree(repo, \"HEAD^{tree}\")\u001b[39m\n",
       "\u001b[36m  readme = tree[\"README.md\"]\u001b[39m\n",
       "\u001b[36m  subtree = tree[\"test\"]\u001b[39m\n",
       "\u001b[36m  runtests = subtree[\"runtests.jl\"]\u001b[39m"
      ],
      "text/markdown": "```\ngetindex(type[, elements...])\n```\n\nConstruct a 1-d array of the specified type. This is usually called with the syntax `Type[]`. Element values can be specified using `Type[a,b,c,...]`.\n\n# Examples\n\n```jldoctest\njulia> Int8[1, 2, 3]\n3-element Array{Int8,1}:\n 1\n 2\n 3\n\njulia> getindex(Int8, 1, 2, 3)\n3-element Array{Int8,1}:\n 1\n 2\n 3\n```\n\n---\n\n```\ngetindex(collection, key...)\n```\n\nRetrieve the value(s) stored at the given key or index within a collection. The syntax `a[i,j,...]` is converted by the compiler to `getindex(a, i, j, ...)`.\n\n# Examples\n\n```jldoctest\njulia> A = Dict(\"a\" => 1, \"b\" => 2)\nDict{String,Int64} with 2 entries:\n  \"b\" => 2\n  \"a\" => 1\n\njulia> getindex(A, \"a\")\n1\n```\n\n---\n\n```\ngetindex(A, inds...)\n```\n\nReturn a subset of array `A` as specified by `inds`, where each `ind` may be an `Int`, an [`AbstractRange`](@ref), or a [`Vector`](@ref). See the manual section on [array indexing](@ref man-array-indexing) for details.\n\n# Examples\n\n```jldoctest\njulia> A = [1 2; 3 4]\n2×2 Array{Int64,2}:\n 1  2\n 3  4\n\njulia> getindex(A, 1)\n1\n\njulia> getindex(A, [2, 1])\n2-element Array{Int64,1}:\n 3\n 1\n\njulia> getindex(A, 2:4)\n3-element Array{Int64,1}:\n 3\n 2\n 4\n```\n\n---\n\n```\ngetindex(tree::GitTree, target::AbstractString) -> GitObject\n```\n\nLook up `target` path in the `tree`, returning a [`GitObject`](@ref) (a [`GitBlob`](@ref) in the case of a file, or another [`GitTree`](@ref) if looking up a directory).\n\n# Examples\n\n```julia\ntree = LibGit2.GitTree(repo, \"HEAD^{tree}\")\nreadme = tree[\"README.md\"]\nsubtree = tree[\"test\"]\nruntests = subtree[\"runtests.jl\"]\n```\n",
      "text/latex": "\\begin{verbatim}\ngetindex(type[, elements...])\n\\end{verbatim}\nConstruct a 1-d array of the specified type. This is usually called with the syntax \\texttt{Type[]}. Element values can be specified using \\texttt{Type[a,b,c,...]}.\n\n\\section{Examples}\n\\begin{verbatim}\njulia> Int8[1, 2, 3]\n3-element Array{Int8,1}:\n 1\n 2\n 3\n\njulia> getindex(Int8, 1, 2, 3)\n3-element Array{Int8,1}:\n 1\n 2\n 3\n\\end{verbatim}\n\\rule{\\textwidth}{1pt}\n\\begin{verbatim}\ngetindex(collection, key...)\n\\end{verbatim}\nRetrieve the value(s) stored at the given key or index within a collection. The syntax \\texttt{a[i,j,...]} is converted by the compiler to \\texttt{getindex(a, i, j, ...)}.\n\n\\section{Examples}\n\\begin{verbatim}\njulia> A = Dict(\"a\" => 1, \"b\" => 2)\nDict{String,Int64} with 2 entries:\n  \"b\" => 2\n  \"a\" => 1\n\njulia> getindex(A, \"a\")\n1\n\\end{verbatim}\n\\rule{\\textwidth}{1pt}\n\\begin{verbatim}\ngetindex(A, inds...)\n\\end{verbatim}\nReturn a subset of array \\texttt{A} as specified by \\texttt{inds}, where each \\texttt{ind} may be an \\texttt{Int}, an \\href{@ref}{\\texttt{AbstractRange}}, or a \\href{@ref}{\\texttt{Vector}}. See the manual section on \\href{@ref man-array-indexing}{array indexing} for details.\n\n\\section{Examples}\n\\begin{verbatim}\njulia> A = [1 2; 3 4]\n2×2 Array{Int64,2}:\n 1  2\n 3  4\n\njulia> getindex(A, 1)\n1\n\njulia> getindex(A, [2, 1])\n2-element Array{Int64,1}:\n 3\n 1\n\njulia> getindex(A, 2:4)\n3-element Array{Int64,1}:\n 3\n 2\n 4\n\\end{verbatim}\n\\rule{\\textwidth}{1pt}\n\\begin{verbatim}\ngetindex(tree::GitTree, target::AbstractString) -> GitObject\n\\end{verbatim}\nLook up \\texttt{target} path in the \\texttt{tree}, returning a \\href{@ref}{\\texttt{GitObject}} (a \\href{@ref}{\\texttt{GitBlob}} in the case of a file, or another \\href{@ref}{\\texttt{GitTree}} if looking up a directory).\n\n\\section{Examples}\n\\begin{verbatim}\ntree = LibGit2.GitTree(repo, \"HEAD^{tree}\")\nreadme = tree[\"README.md\"]\nsubtree = tree[\"test\"]\nruntests = subtree[\"runtests.jl\"]\n\\end{verbatim}\n"
     },
     "metadata": {},
     "execution_count": 21
    }
   ],
   "source": [
    "?getindex"
   ]
  },
  {
   "cell_type": "code",
   "execution_count": 22,
   "metadata": {},
   "outputs": [
    {
     "output_type": "stream",
     "name": "stdout",
     "text": [
      "search: \u001b[0m\u001b[1ms\u001b[22m\u001b[0m\u001b[1me\u001b[22m\u001b[0m\u001b[1mt\u001b[22m\u001b[0m\u001b[1mi\u001b[22m\u001b[0m\u001b[1mn\u001b[22m\u001b[0m\u001b[1md\u001b[22m\u001b[0m\u001b[1me\u001b[22m\u001b[0m\u001b[1mx\u001b[22m\u001b[0m\u001b[1m!\u001b[22m\n\n"
     ]
    },
    {
     "output_type": "execute_result",
     "data": {
      "text/plain": [
       "\u001b[36m  setindex!(collection, value, key...)\u001b[39m\n",
       "\n",
       "  Store the given value at the given key or index within a collection. The\n",
       "  syntax \u001b[36ma[i,j,...] = x\u001b[39m is converted by the compiler to \u001b[36m(setindex!(a, x, i, j,\n",
       "  ...); x)\u001b[39m.\n",
       "\n",
       "  ────────────────────────────────────────────────────────────────────────────\n",
       "\n",
       "\u001b[36m  setindex!(A, X, inds...)\u001b[39m\n",
       "\u001b[36m  A[inds...] = X\u001b[39m\n",
       "\n",
       "  Store values from array \u001b[36mX\u001b[39m within some subset of \u001b[36mA\u001b[39m as specified by \u001b[36minds\u001b[39m. The\n",
       "  syntax \u001b[36mA[inds...] = X\u001b[39m is equivalent to \u001b[36msetindex!(A, X, inds...)\u001b[39m.\n",
       "\n",
       "\u001b[1m  Examples\u001b[22m\n",
       "\u001b[1m  ≡≡≡≡≡≡≡≡≡≡\u001b[22m\n",
       "\n",
       "\u001b[36m  julia> A = zeros(2,2);\u001b[39m\n",
       "\u001b[36m  \u001b[39m\n",
       "\u001b[36m  julia> setindex!(A, [10, 20], [1, 2]);\u001b[39m\n",
       "\u001b[36m  \u001b[39m\n",
       "\u001b[36m  julia> A[[3, 4]] = [30, 40];\u001b[39m\n",
       "\u001b[36m  \u001b[39m\n",
       "\u001b[36m  julia> A\u001b[39m\n",
       "\u001b[36m  2×2 Array{Float64,2}:\u001b[39m\n",
       "\u001b[36m   10.0  30.0\u001b[39m\n",
       "\u001b[36m   20.0  40.0\u001b[39m"
      ],
      "text/markdown": "```\nsetindex!(collection, value, key...)\n```\n\nStore the given value at the given key or index within a collection. The syntax `a[i,j,...] = x` is converted by the compiler to `(setindex!(a, x, i, j, ...); x)`.\n\n---\n\n```\nsetindex!(A, X, inds...)\nA[inds...] = X\n```\n\nStore values from array `X` within some subset of `A` as specified by `inds`. The syntax `A[inds...] = X` is equivalent to `setindex!(A, X, inds...)`.\n\n# Examples\n\n```jldoctest\njulia> A = zeros(2,2);\n\njulia> setindex!(A, [10, 20], [1, 2]);\n\njulia> A[[3, 4]] = [30, 40];\n\njulia> A\n2×2 Array{Float64,2}:\n 10.0  30.0\n 20.0  40.0\n```\n",
      "text/latex": "\\begin{verbatim}\nsetindex!(collection, value, key...)\n\\end{verbatim}\nStore the given value at the given key or index within a collection. The syntax \\texttt{a[i,j,...] = x} is converted by the compiler to \\texttt{(setindex!(a, x, i, j, ...); x)}.\n\n\\rule{\\textwidth}{1pt}\n\\begin{verbatim}\nsetindex!(A, X, inds...)\nA[inds...] = X\n\\end{verbatim}\nStore values from array \\texttt{X} within some subset of \\texttt{A} as specified by \\texttt{inds}. The syntax \\texttt{A[inds...] = X} is equivalent to \\texttt{setindex!(A, X, inds...)}.\n\n\\section{Examples}\n\\begin{verbatim}\njulia> A = zeros(2,2);\n\njulia> setindex!(A, [10, 20], [1, 2]);\n\njulia> A[[3, 4]] = [30, 40];\n\njulia> A\n2×2 Array{Float64,2}:\n 10.0  30.0\n 20.0  40.0\n\\end{verbatim}\n"
     },
     "metadata": {},
     "execution_count": 22
    }
   ],
   "source": [
    "?setindex!"
   ]
  },
  {
   "cell_type": "code",
   "execution_count": 23,
   "metadata": {},
   "outputs": [
    {
     "output_type": "stream",
     "name": "stdout",
     "text": [
      "search: \u001b[0m\u001b[1mg\u001b[22m\u001b[0m\u001b[1me\u001b[22m\u001b[0m\u001b[1mt\u001b[22m\u001b[0m\u001b[1mp\u001b[22m\u001b[0m\u001b[1mr\u001b[22m\u001b[0m\u001b[1mo\u001b[22m\u001b[0m\u001b[1mp\u001b[22m\u001b[0m\u001b[1me\u001b[22m\u001b[0m\u001b[1mr\u001b[22m\u001b[0m\u001b[1mt\u001b[22m\u001b[0m\u001b[1my\u001b[22m\n\n"
     ]
    },
    {
     "output_type": "execute_result",
     "data": {
      "text/plain": [
       "\u001b[36m  getproperty(value, name::Symbol)\u001b[39m\n",
       "\n",
       "  The syntax \u001b[36ma.b\u001b[39m calls \u001b[36mgetproperty(a, :b)\u001b[39m.\n",
       "\n",
       "\u001b[1m  Examples\u001b[22m\n",
       "\u001b[1m  ≡≡≡≡≡≡≡≡≡≡\u001b[22m\n",
       "\n",
       "\u001b[36m  julia> struct MyType\u001b[39m\n",
       "\u001b[36m             x\u001b[39m\n",
       "\u001b[36m         end\u001b[39m\n",
       "\u001b[36m  \u001b[39m\n",
       "\u001b[36m  julia> function Base.getproperty(obj::MyType, sym::Symbol)\u001b[39m\n",
       "\u001b[36m             if sym === :special\u001b[39m\n",
       "\u001b[36m                 return obj.x + 1\u001b[39m\n",
       "\u001b[36m             else # fallback to getfield\u001b[39m\n",
       "\u001b[36m                 return getfield(obj, sym)\u001b[39m\n",
       "\u001b[36m             end\u001b[39m\n",
       "\u001b[36m         end\u001b[39m\n",
       "\u001b[36m  \u001b[39m\n",
       "\u001b[36m  julia> obj = MyType(1);\u001b[39m\n",
       "\u001b[36m  \u001b[39m\n",
       "\u001b[36m  julia> obj.special\u001b[39m\n",
       "\u001b[36m  2\u001b[39m\n",
       "\u001b[36m  \u001b[39m\n",
       "\u001b[36m  julia> obj.x\u001b[39m\n",
       "\u001b[36m  1\u001b[39m\n",
       "\n",
       "  See also \u001b[36mpropertynames\u001b[39m and \u001b[36msetproperty!\u001b[39m.\n",
       "\n",
       "  ────────────────────────────────────────────────────────────────────────────\n",
       "\n",
       "\u001b[36m  getproperty(B::BunchKaufman, d::Symbol)\u001b[39m\n",
       "\n",
       "  Extract the factors of the Bunch-Kaufman factorization \u001b[36mB\u001b[39m. The factorization\n",
       "  can take the two forms \u001b[36mP'*L*D*L'*P\u001b[39m or \u001b[36mP'*U*D*U'*P\u001b[39m (or \u001b[36mL*D*transpose(L)\u001b[39m in\n",
       "  the complex symmetric case) where \u001b[36mP\u001b[39m is a (symmetric) permutation matrix, \u001b[36mL\u001b[39m\n",
       "  is a \u001b[36mUnitLowerTriangular\u001b[39m matrix, \u001b[36mU\u001b[39m is a \u001b[36mUnitUpperTriangular\u001b[39m, and \u001b[36mD\u001b[39m is a\n",
       "  block diagonal symmetric or Hermitian matrix with 1x1 or 2x2 blocks. The\n",
       "  argument \u001b[36md\u001b[39m can be\n",
       "\n",
       "    •    \u001b[36m:D\u001b[39m: the block diagonal matrix\n",
       "\n",
       "    •    \u001b[36m:U\u001b[39m: the upper triangular factor (if factorization is \u001b[36mU*D*U'\u001b[39m)\n",
       "\n",
       "    •    \u001b[36m:L\u001b[39m: the lower triangular factor (if factorization is \u001b[36mL*D*L'\u001b[39m)\n",
       "\n",
       "    •    \u001b[36m:p\u001b[39m: permutation vector\n",
       "\n",
       "    •    \u001b[36m:P\u001b[39m: permutation matrix\n",
       "\n",
       "\u001b[1m  Examples\u001b[22m\n",
       "\u001b[1m  ≡≡≡≡≡≡≡≡≡≡\u001b[22m\n",
       "\n",
       "\u001b[36m  julia> A = [1 2 3; 2 1 2; 3 2 1]\u001b[39m\n",
       "\u001b[36m  3×3 Array{Int64,2}:\u001b[39m\n",
       "\u001b[36m   1  2  3\u001b[39m\n",
       "\u001b[36m   2  1  2\u001b[39m\n",
       "\u001b[36m   3  2  1\u001b[39m\n",
       "\u001b[36m  \u001b[39m\n",
       "\u001b[36m  julia> F = bunchkaufman(Symmetric(A, :L))\u001b[39m\n",
       "\u001b[36m  BunchKaufman{Float64,Array{Float64,2}}\u001b[39m\n",
       "\u001b[36m  D factor:\u001b[39m\n",
       "\u001b[36m  3×3 Tridiagonal{Float64,Array{Float64,1}}:\u001b[39m\n",
       "\u001b[36m   1.0  3.0    ⋅\u001b[39m\n",
       "\u001b[36m   3.0  1.0   0.0\u001b[39m\n",
       "\u001b[36m    ⋅   0.0  -1.0\u001b[39m\n",
       "\u001b[36m  L factor:\u001b[39m\n",
       "\u001b[36m  3×3 UnitLowerTriangular{Float64,Array{Float64,2}}:\u001b[39m\n",
       "\u001b[36m   1.0   ⋅    ⋅\u001b[39m\n",
       "\u001b[36m   0.0  1.0   ⋅\u001b[39m\n",
       "\u001b[36m   0.5  0.5  1.0\u001b[39m\n",
       "\u001b[36m  permutation:\u001b[39m\n",
       "\u001b[36m  3-element Array{Int64,1}:\u001b[39m\n",
       "\u001b[36m   1\u001b[39m\n",
       "\u001b[36m   3\u001b[39m\n",
       "\u001b[36m   2\u001b[39m\n",
       "\u001b[36m  \u001b[39m\n",
       "\u001b[36m  julia> F.L*F.D*F.L' - A[F.p, F.p]\u001b[39m\n",
       "\u001b[36m  3×3 Array{Float64,2}:\u001b[39m\n",
       "\u001b[36m   0.0  0.0  0.0\u001b[39m\n",
       "\u001b[36m   0.0  0.0  0.0\u001b[39m\n",
       "\u001b[36m   0.0  0.0  0.0\u001b[39m\n",
       "\u001b[36m  \u001b[39m\n",
       "\u001b[36m  julia> F = bunchkaufman(Symmetric(A));\u001b[39m\n",
       "\u001b[36m  \u001b[39m\n",
       "\u001b[36m  julia> F.U*F.D*F.U' - F.P*A*F.P'\u001b[39m\n",
       "\u001b[36m  3×3 Array{Float64,2}:\u001b[39m\n",
       "\u001b[36m   0.0  0.0  0.0\u001b[39m\n",
       "\u001b[36m   0.0  0.0  0.0\u001b[39m\n",
       "\u001b[36m   0.0  0.0  0.0\u001b[39m\n",
       "\n",
       "  ────────────────────────────────────────────────────────────────────────────\n",
       "\n",
       "\u001b[36m  getproperty(F::QRSparse, d::Symbol)\u001b[39m\n",
       "\n",
       "  Extract factors of a QRSparse factorization. Possible values of \u001b[36md\u001b[39m are\n",
       "\n",
       "    •    \u001b[36mQ\u001b[39m : \u001b[36mQRSparseQ\u001b[39m matrix of the \u001b[35mQ\u001b[39m factor in Householder form\n",
       "\n",
       "    •    \u001b[36mR\u001b[39m : \u001b[36mUpperTriangular\u001b[39m \u001b[35mR\u001b[39m factor\n",
       "\n",
       "    •    \u001b[36mprow\u001b[39m : Vector of the row permutations applied to the factorized\n",
       "        matrix\n",
       "\n",
       "    •    \u001b[36mpcol\u001b[39m : Vector of the column permutations applied to the factorized\n",
       "        matrix\n",
       "\n",
       "\u001b[1m  Examples\u001b[22m\n",
       "\u001b[1m  ≡≡≡≡≡≡≡≡≡≡\u001b[22m\n",
       "\n",
       "\u001b[36m  julia> F = qr(sparse([1,3,2,3,4], [1,1,2,3,4], [1.0,2.0,3.0,4.0,5.0]));\u001b[39m\n",
       "\u001b[36m  \u001b[39m\n",
       "\u001b[36m  julia> F.Q\u001b[39m\n",
       "\u001b[36m  4×4 Base.SparseArrays.SPQR.QRSparseQ{Float64,Int64}:\u001b[39m\n",
       "\u001b[36m   1.0  0.0  0.0  0.0\u001b[39m\n",
       "\u001b[36m   0.0  1.0  0.0  0.0\u001b[39m\n",
       "\u001b[36m   0.0  0.0  1.0  0.0\u001b[39m\n",
       "\u001b[36m   0.0  0.0  0.0  1.0\u001b[39m\n",
       "\u001b[36m  \u001b[39m\n",
       "\u001b[36m  julia> F.R\u001b[39m\n",
       "\u001b[36m  4×4 SparseMatrixCSC{Float64,Int64} with 5 stored entries:\u001b[39m\n",
       "\u001b[36m    [1, 1]  =  3.0\u001b[39m\n",
       "\u001b[36m    [2, 2]  =  4.0\u001b[39m\n",
       "\u001b[36m    [3, 3]  =  5.0\u001b[39m\n",
       "\u001b[36m    [2, 4]  =  2.0\u001b[39m\n",
       "\u001b[36m    [4, 4]  =  1.0\u001b[39m\n",
       "\u001b[36m  \u001b[39m\n",
       "\u001b[36m  julia> F.prow\u001b[39m\n",
       "\u001b[36m  4-element Array{Int64,1}:\u001b[39m\n",
       "\u001b[36m   2\u001b[39m\n",
       "\u001b[36m   3\u001b[39m\n",
       "\u001b[36m   4\u001b[39m\n",
       "\u001b[36m   1\u001b[39m\n",
       "\u001b[36m  \u001b[39m\n",
       "\u001b[36m  julia> F.pcol\u001b[39m\n",
       "\u001b[36m  4-element Array{Int64,1}:\u001b[39m\n",
       "\u001b[36m   2\u001b[39m\n",
       "\u001b[36m   3\u001b[39m\n",
       "\u001b[36m   4\u001b[39m\n",
       "\u001b[36m   1\u001b[39m"
      ],
      "text/markdown": "```\ngetproperty(value, name::Symbol)\n```\n\nThe syntax `a.b` calls `getproperty(a, :b)`.\n\n# Examples\n\n```jldoctest\njulia> struct MyType\n           x\n       end\n\njulia> function Base.getproperty(obj::MyType, sym::Symbol)\n           if sym === :special\n               return obj.x + 1\n           else # fallback to getfield\n               return getfield(obj, sym)\n           end\n       end\n\njulia> obj = MyType(1);\n\njulia> obj.special\n2\n\njulia> obj.x\n1\n```\n\nSee also [`propertynames`](@ref Base.propertynames) and [`setproperty!`](@ref Base.setproperty!).\n\n---\n\n```\ngetproperty(B::BunchKaufman, d::Symbol)\n```\n\nExtract the factors of the Bunch-Kaufman factorization `B`. The factorization can take the two forms `P'*L*D*L'*P` or `P'*U*D*U'*P` (or `L*D*transpose(L)` in the complex symmetric case) where `P` is a (symmetric) permutation matrix, `L` is a [`UnitLowerTriangular`](@ref) matrix, `U` is a [`UnitUpperTriangular`](@ref), and `D` is a block diagonal symmetric or Hermitian matrix with 1x1 or 2x2 blocks. The argument `d` can be\n\n  * `:D`: the block diagonal matrix\n  * `:U`: the upper triangular factor (if factorization is `U*D*U'`)\n  * `:L`: the lower triangular factor (if factorization is `L*D*L'`)\n  * `:p`: permutation vector\n  * `:P`: permutation matrix\n\n# Examples\n\n```jldoctest\njulia> A = [1 2 3; 2 1 2; 3 2 1]\n3×3 Array{Int64,2}:\n 1  2  3\n 2  1  2\n 3  2  1\n\njulia> F = bunchkaufman(Symmetric(A, :L))\nBunchKaufman{Float64,Array{Float64,2}}\nD factor:\n3×3 Tridiagonal{Float64,Array{Float64,1}}:\n 1.0  3.0    ⋅\n 3.0  1.0   0.0\n  ⋅   0.0  -1.0\nL factor:\n3×3 UnitLowerTriangular{Float64,Array{Float64,2}}:\n 1.0   ⋅    ⋅\n 0.0  1.0   ⋅\n 0.5  0.5  1.0\npermutation:\n3-element Array{Int64,1}:\n 1\n 3\n 2\n\njulia> F.L*F.D*F.L' - A[F.p, F.p]\n3×3 Array{Float64,2}:\n 0.0  0.0  0.0\n 0.0  0.0  0.0\n 0.0  0.0  0.0\n\njulia> F = bunchkaufman(Symmetric(A));\n\njulia> F.U*F.D*F.U' - F.P*A*F.P'\n3×3 Array{Float64,2}:\n 0.0  0.0  0.0\n 0.0  0.0  0.0\n 0.0  0.0  0.0\n```\n\n---\n\n```\ngetproperty(F::QRSparse, d::Symbol)\n```\n\nExtract factors of a QRSparse factorization. Possible values of `d` are\n\n  * `Q` : `QRSparseQ` matrix of the $Q$ factor in Householder form\n  * `R` : `UpperTriangular` $R$ factor\n  * `prow` : Vector of the row permutations applied to the factorized matrix\n  * `pcol` : Vector of the column permutations applied to the factorized matrix\n\n# Examples\n\n```jldoctest\njulia> F = qr(sparse([1,3,2,3,4], [1,1,2,3,4], [1.0,2.0,3.0,4.0,5.0]));\n\njulia> F.Q\n4×4 Base.SparseArrays.SPQR.QRSparseQ{Float64,Int64}:\n 1.0  0.0  0.0  0.0\n 0.0  1.0  0.0  0.0\n 0.0  0.0  1.0  0.0\n 0.0  0.0  0.0  1.0\n\njulia> F.R\n4×4 SparseMatrixCSC{Float64,Int64} with 5 stored entries:\n  [1, 1]  =  3.0\n  [2, 2]  =  4.0\n  [3, 3]  =  5.0\n  [2, 4]  =  2.0\n  [4, 4]  =  1.0\n\njulia> F.prow\n4-element Array{Int64,1}:\n 2\n 3\n 4\n 1\n\njulia> F.pcol\n4-element Array{Int64,1}:\n 2\n 3\n 4\n 1\n```\n",
      "text/latex": "\\begin{verbatim}\ngetproperty(value, name::Symbol)\n\\end{verbatim}\nThe syntax \\texttt{a.b} calls \\texttt{getproperty(a, :b)}.\n\n\\section{Examples}\n\\begin{verbatim}\njulia> struct MyType\n           x\n       end\n\njulia> function Base.getproperty(obj::MyType, sym::Symbol)\n           if sym === :special\n               return obj.x + 1\n           else # fallback to getfield\n               return getfield(obj, sym)\n           end\n       end\n\njulia> obj = MyType(1);\n\njulia> obj.special\n2\n\njulia> obj.x\n1\n\\end{verbatim}\nSee also \\href{@ref Base.propertynames}{\\texttt{propertynames}} and \\href{@ref Base.setproperty!}{\\texttt{setproperty!}}.\n\n\\rule{\\textwidth}{1pt}\n\\begin{verbatim}\ngetproperty(B::BunchKaufman, d::Symbol)\n\\end{verbatim}\nExtract the factors of the Bunch-Kaufman factorization \\texttt{B}. The factorization can take the two forms \\texttt{P'*L*D*L'*P} or \\texttt{P'*U*D*U'*P} (or \\texttt{L*D*transpose(L)} in the complex symmetric case) where \\texttt{P} is a (symmetric) permutation matrix, \\texttt{L} is a \\href{@ref}{\\texttt{UnitLowerTriangular}} matrix, \\texttt{U} is a \\href{@ref}{\\texttt{UnitUpperTriangular}}, and \\texttt{D} is a block diagonal symmetric or Hermitian matrix with 1x1 or 2x2 blocks. The argument \\texttt{d} can be\n\n\\begin{itemize}\n\\item \\texttt{:D}: the block diagonal matrix\n\n\n\\item \\texttt{:U}: the upper triangular factor (if factorization is \\texttt{U*D*U'})\n\n\n\\item \\texttt{:L}: the lower triangular factor (if factorization is \\texttt{L*D*L'})\n\n\n\\item \\texttt{:p}: permutation vector\n\n\n\\item \\texttt{:P}: permutation matrix\n\n\\end{itemize}\n\\section{Examples}\n\\begin{verbatim}\njulia> A = [1 2 3; 2 1 2; 3 2 1]\n3×3 Array{Int64,2}:\n 1  2  3\n 2  1  2\n 3  2  1\n\njulia> F = bunchkaufman(Symmetric(A, :L))\nBunchKaufman{Float64,Array{Float64,2}}\nD factor:\n3×3 Tridiagonal{Float64,Array{Float64,1}}:\n 1.0  3.0    ⋅\n 3.0  1.0   0.0\n  ⋅   0.0  -1.0\nL factor:\n3×3 UnitLowerTriangular{Float64,Array{Float64,2}}:\n 1.0   ⋅    ⋅\n 0.0  1.0   ⋅\n 0.5  0.5  1.0\npermutation:\n3-element Array{Int64,1}:\n 1\n 3\n 2\n\njulia> F.L*F.D*F.L' - A[F.p, F.p]\n3×3 Array{Float64,2}:\n 0.0  0.0  0.0\n 0.0  0.0  0.0\n 0.0  0.0  0.0\n\njulia> F = bunchkaufman(Symmetric(A));\n\njulia> F.U*F.D*F.U' - F.P*A*F.P'\n3×3 Array{Float64,2}:\n 0.0  0.0  0.0\n 0.0  0.0  0.0\n 0.0  0.0  0.0\n\\end{verbatim}\n\\rule{\\textwidth}{1pt}\n\\begin{verbatim}\ngetproperty(F::QRSparse, d::Symbol)\n\\end{verbatim}\nExtract factors of a QRSparse factorization. Possible values of \\texttt{d} are\n\n\\begin{itemize}\n\\item \\texttt{Q} : \\texttt{QRSparseQ} matrix of the $Q$ factor in Householder form\n\n\n\\item \\texttt{R} : \\texttt{UpperTriangular} $R$ factor\n\n\n\\item \\texttt{prow} : Vector of the row permutations applied to the factorized matrix\n\n\n\\item \\texttt{pcol} : Vector of the column permutations applied to the factorized matrix\n\n\\end{itemize}\n\\section{Examples}\n\\begin{verbatim}\njulia> F = qr(sparse([1,3,2,3,4], [1,1,2,3,4], [1.0,2.0,3.0,4.0,5.0]));\n\njulia> F.Q\n4×4 Base.SparseArrays.SPQR.QRSparseQ{Float64,Int64}:\n 1.0  0.0  0.0  0.0\n 0.0  1.0  0.0  0.0\n 0.0  0.0  1.0  0.0\n 0.0  0.0  0.0  1.0\n\njulia> F.R\n4×4 SparseMatrixCSC{Float64,Int64} with 5 stored entries:\n  [1, 1]  =  3.0\n  [2, 2]  =  4.0\n  [3, 3]  =  5.0\n  [2, 4]  =  2.0\n  [4, 4]  =  1.0\n\njulia> F.prow\n4-element Array{Int64,1}:\n 2\n 3\n 4\n 1\n\njulia> F.pcol\n4-element Array{Int64,1}:\n 2\n 3\n 4\n 1\n\\end{verbatim}\n"
     },
     "metadata": {},
     "execution_count": 23
    }
   ],
   "source": [
    "?getproperty"
   ]
  },
  {
   "cell_type": "code",
   "execution_count": 24,
   "metadata": {},
   "outputs": [
    {
     "output_type": "stream",
     "name": "stdout",
     "text": [
      "search: \u001b[0m\u001b[1ms\u001b[22m\u001b[0m\u001b[1me\u001b[22m\u001b[0m\u001b[1mt\u001b[22m\u001b[0m\u001b[1mp\u001b[22m\u001b[0m\u001b[1mr\u001b[22m\u001b[0m\u001b[1mo\u001b[22m\u001b[0m\u001b[1mp\u001b[22m\u001b[0m\u001b[1me\u001b[22m\u001b[0m\u001b[1mr\u001b[22m\u001b[0m\u001b[1mt\u001b[22m\u001b[0m\u001b[1my\u001b[22m\u001b[0m\u001b[1m!\u001b[22m\n\n"
     ]
    },
    {
     "output_type": "execute_result",
     "data": {
      "text/plain": [
       "\u001b[36m  setproperty!(value, name::Symbol, x)\u001b[39m\n",
       "\n",
       "  The syntax \u001b[36ma.b = c\u001b[39m calls \u001b[36msetproperty!(a, :b, c)\u001b[39m.\n",
       "\n",
       "  See also \u001b[36mpropertynames\u001b[39m and \u001b[36mgetproperty\u001b[39m."
      ],
      "text/markdown": "```\nsetproperty!(value, name::Symbol, x)\n```\n\nThe syntax `a.b = c` calls `setproperty!(a, :b, c)`.\n\nSee also [`propertynames`](@ref Base.propertynames) and [`getproperty`](@ref Base.getproperty).\n",
      "text/latex": "\\begin{verbatim}\nsetproperty!(value, name::Symbol, x)\n\\end{verbatim}\nThe syntax \\texttt{a.b = c} calls \\texttt{setproperty!(a, :b, c)}.\n\nSee also \\href{@ref Base.propertynames}{\\texttt{propertynames}} and \\href{@ref Base.getproperty}{\\texttt{getproperty}}.\n\n"
     },
     "metadata": {},
     "execution_count": 24
    }
   ],
   "source": [
    "?setproperty!"
   ]
  },
  {
   "source": [
    "## Anonymous Functions"
   ],
   "cell_type": "markdown",
   "metadata": {}
  },
  {
   "source": [
    "Functions in Julia are first-class objects: they can be assigned to variables, and called using the standard function call syntax from the variable they have been assigned to. They can be used as arguments, and they can be returned as values. They can also be created anonymously, without being given a name, using either of these syntaxes:"
   ],
   "cell_type": "markdown",
   "metadata": {}
  },
  {
   "cell_type": "code",
   "execution_count": 25,
   "metadata": {},
   "outputs": [
    {
     "output_type": "execute_result",
     "data": {
      "text/plain": [
       "#3 (generic function with 1 method)"
      ]
     },
     "metadata": {},
     "execution_count": 25
    }
   ],
   "source": [
    "x -> x^2 + 2x - 1"
   ]
  },
  {
   "cell_type": "code",
   "execution_count": 26,
   "metadata": {},
   "outputs": [
    {
     "output_type": "execute_result",
     "data": {
      "text/plain": [
       "#5 (generic function with 1 method)"
      ]
     },
     "metadata": {},
     "execution_count": 26
    }
   ],
   "source": [
    "function (x)\n",
    "    x^2 + 2x - 1\n",
    "end"
   ]
  },
  {
   "source": [
    "This creates a function taking one argument x and returning the value of the polynomial x^2 + 2x - 1 at that value. Notice that the result is a generic function, but with a compiler-generated name based on consecutive numbering.\n",
    "\n",
    "The primary use for anonymous functions is passing them to functions which take other functions as arguments. A classic example is map, which applies a function to each value of an array and returns a new array containing the resulting values:"
   ],
   "cell_type": "markdown",
   "metadata": {}
  },
  {
   "cell_type": "code",
   "execution_count": 27,
   "metadata": {},
   "outputs": [
    {
     "output_type": "stream",
     "name": "stdout",
     "text": [
      "search: \u001b[0m\u001b[1mm\u001b[22m\u001b[0m\u001b[1ma\u001b[22m\u001b[0m\u001b[1mp\u001b[22m \u001b[0m\u001b[1mm\u001b[22m\u001b[0m\u001b[1ma\u001b[22m\u001b[0m\u001b[1mp\u001b[22m! \u001b[0m\u001b[1mm\u001b[22m\u001b[0m\u001b[1ma\u001b[22m\u001b[0m\u001b[1mp\u001b[22mfoldr \u001b[0m\u001b[1mm\u001b[22m\u001b[0m\u001b[1ma\u001b[22m\u001b[0m\u001b[1mp\u001b[22mfoldl \u001b[0m\u001b[1mm\u001b[22m\u001b[0m\u001b[1ma\u001b[22m\u001b[0m\u001b[1mp\u001b[22mslices \u001b[0m\u001b[1mm\u001b[22m\u001b[0m\u001b[1ma\u001b[22m\u001b[0m\u001b[1mp\u001b[22mreduce async\u001b[0m\u001b[1mm\u001b[22m\u001b[0m\u001b[1ma\u001b[22m\u001b[0m\u001b[1mp\u001b[22m async\u001b[0m\u001b[1mm\u001b[22m\u001b[0m\u001b[1ma\u001b[22m\u001b[0m\u001b[1mp\u001b[22m!\n\n"
     ]
    },
    {
     "output_type": "execute_result",
     "data": {
      "text/plain": [
       "\u001b[36m  map(f, c...) -> collection\u001b[39m\n",
       "\n",
       "  Transform collection \u001b[36mc\u001b[39m by applying \u001b[36mf\u001b[39m to each element. For multiple\n",
       "  collection arguments, apply \u001b[36mf\u001b[39m elementwise.\n",
       "\n",
       "  See also: \u001b[36mmapslices\u001b[39m\n",
       "\n",
       "\u001b[1m  Examples\u001b[22m\n",
       "\u001b[1m  ≡≡≡≡≡≡≡≡≡≡\u001b[22m\n",
       "\n",
       "\u001b[36m  julia> map(x -> x * 2, [1, 2, 3])\u001b[39m\n",
       "\u001b[36m  3-element Array{Int64,1}:\u001b[39m\n",
       "\u001b[36m   2\u001b[39m\n",
       "\u001b[36m   4\u001b[39m\n",
       "\u001b[36m   6\u001b[39m\n",
       "\u001b[36m  \u001b[39m\n",
       "\u001b[36m  julia> map(+, [1, 2, 3], [10, 20, 30])\u001b[39m\n",
       "\u001b[36m  3-element Array{Int64,1}:\u001b[39m\n",
       "\u001b[36m   11\u001b[39m\n",
       "\u001b[36m   22\u001b[39m\n",
       "\u001b[36m   33\u001b[39m"
      ],
      "text/markdown": "```\nmap(f, c...) -> collection\n```\n\nTransform collection `c` by applying `f` to each element. For multiple collection arguments, apply `f` elementwise.\n\nSee also: [`mapslices`](@ref)\n\n# Examples\n\n```jldoctest\njulia> map(x -> x * 2, [1, 2, 3])\n3-element Array{Int64,1}:\n 2\n 4\n 6\n\njulia> map(+, [1, 2, 3], [10, 20, 30])\n3-element Array{Int64,1}:\n 11\n 22\n 33\n```\n",
      "text/latex": "\\begin{verbatim}\nmap(f, c...) -> collection\n\\end{verbatim}\nTransform collection \\texttt{c} by applying \\texttt{f} to each element. For multiple collection arguments, apply \\texttt{f} elementwise.\n\nSee also: \\href{@ref}{\\texttt{mapslices}}\n\n\\section{Examples}\n\\begin{verbatim}\njulia> map(x -> x * 2, [1, 2, 3])\n3-element Array{Int64,1}:\n 2\n 4\n 6\n\njulia> map(+, [1, 2, 3], [10, 20, 30])\n3-element Array{Int64,1}:\n 11\n 22\n 33\n\\end{verbatim}\n"
     },
     "metadata": {},
     "execution_count": 27
    }
   ],
   "source": [
    "?map"
   ]
  },
  {
   "source": [
    "This is fine if a named function effecting the transform already exists to pass as the first argument to map. Often, however, a ready-to-use, named function does not exist. In these situations, the anonymous function construct allows easy creation of a single-use function object without needing a name."
   ],
   "cell_type": "markdown",
   "metadata": {}
  },
  {
   "source": [
    "An anonymous function accepting multiple arguments can be written using the syntax (x,y,z)->2x+y-z. A zero-argument anonymous function is written as ()->3. The idea of a function with no arguments may seem strange, but is useful for \"delaying\" a computation. In this usage, a block of code is wrapped in a zero-argument function, which is later invoked by calling it as f.\n",
    "\n",
    "As an example, consider this call to get:\n",
    "\n",
    "get(dict, key) do\n",
    "        # default value calculated here\n",
    "        time()\n",
    "end\n",
    "\n",
    "The code above is equivalent to calling get with an anonymous function containing the code enclosed between do and end, like so:\n",
    "\n",
    "get(()->time(), dict, key)\n",
    "\n",
    "The call to time is delayed by wrapping it in a 0-argument anonymous function that is called only when the requested key is absent from dict."
   ],
   "cell_type": "markdown",
   "metadata": {}
  },
  {
   "source": [
    "## Tuples"
   ],
   "cell_type": "markdown",
   "metadata": {}
  },
  {
   "source": [
    "Julia has a built-in data structure called a tuple that is closely related to function arguments and return values. A tuple is a fixed-length container that can hold any values, but cannot be modified (it is immutable). Tuples are constructed with commas and parentheses, and can be accessed via indexing:"
   ],
   "cell_type": "markdown",
   "metadata": {}
  },
  {
   "cell_type": "code",
   "execution_count": 28,
   "metadata": {},
   "outputs": [
    {
     "output_type": "execute_result",
     "data": {
      "text/plain": [
       "(1, 2)"
      ]
     },
     "metadata": {},
     "execution_count": 28
    }
   ],
   "source": [
    "(1, 1+1)"
   ]
  },
  {
   "cell_type": "code",
   "execution_count": 29,
   "metadata": {},
   "outputs": [
    {
     "output_type": "execute_result",
     "data": {
      "text/plain": [
       "(1,)"
      ]
     },
     "metadata": {},
     "execution_count": 29
    }
   ],
   "source": [
    "(1,)"
   ]
  },
  {
   "cell_type": "code",
   "execution_count": 30,
   "metadata": {},
   "outputs": [
    {
     "output_type": "execute_result",
     "data": {
      "text/plain": [
       "(0.0, \"hello\", 42)"
      ]
     },
     "metadata": {},
     "execution_count": 30
    }
   ],
   "source": [
    "x = (0.0, \"hello\", 6*7)"
   ]
  },
  {
   "cell_type": "code",
   "execution_count": 31,
   "metadata": {},
   "outputs": [
    {
     "output_type": "execute_result",
     "data": {
      "text/plain": [
       "\"hello\""
      ]
     },
     "metadata": {},
     "execution_count": 31
    }
   ],
   "source": [
    "x[2]"
   ]
  },
  {
   "source": [
    "Notice that a length-1 tuple must be written with a comma, (1,), since (1) would just be a parenthesized value. () represents the empty (length-0) tuple."
   ],
   "cell_type": "markdown",
   "metadata": {}
  },
  {
   "source": [
    "## Named Tuples"
   ],
   "cell_type": "markdown",
   "metadata": {}
  },
  {
   "source": [
    "The components of tuples can optionally be named, in which case a named tuple is constructed:"
   ],
   "cell_type": "markdown",
   "metadata": {}
  },
  {
   "cell_type": "code",
   "execution_count": 32,
   "metadata": {},
   "outputs": [
    {
     "output_type": "execute_result",
     "data": {
      "text/plain": [
       "(a = 2, b = 3)"
      ]
     },
     "metadata": {},
     "execution_count": 32
    }
   ],
   "source": [
    "x = (a=2, b=1+2)"
   ]
  },
  {
   "cell_type": "code",
   "execution_count": 33,
   "metadata": {},
   "outputs": [
    {
     "output_type": "execute_result",
     "data": {
      "text/plain": [
       "2"
      ]
     },
     "metadata": {},
     "execution_count": 33
    }
   ],
   "source": [
    "x[1]"
   ]
  },
  {
   "cell_type": "code",
   "execution_count": 34,
   "metadata": {},
   "outputs": [
    {
     "output_type": "execute_result",
     "data": {
      "text/plain": [
       "2"
      ]
     },
     "metadata": {},
     "execution_count": 34
    }
   ],
   "source": [
    "x.a"
   ]
  },
  {
   "source": [
    "Named tuples are very similar to tuples, except that fields can additionally be accessed by name using dot syntax (x.a) in addition to the regular indexing syntax (x\\[1\\])."
   ],
   "cell_type": "markdown",
   "metadata": {}
  },
  {
   "source": [
    "## Multiple Return Values"
   ],
   "cell_type": "markdown",
   "metadata": {}
  },
  {
   "source": [
    "In Julia, one returns a tuple of values to simulate returning multiple values. However, tuples can be created and destructured without needing parentheses, thereby providing an illusion that multiple values are being returned, rather than a single tuple value. For example, the following function returns a pair of values:"
   ],
   "cell_type": "markdown",
   "metadata": {}
  },
  {
   "cell_type": "code",
   "execution_count": 35,
   "metadata": {},
   "outputs": [
    {
     "output_type": "execute_result",
     "data": {
      "text/plain": [
       "foo (generic function with 1 method)"
      ]
     },
     "metadata": {},
     "execution_count": 35
    }
   ],
   "source": [
    "function foo(a,b)\n",
    "    a+b, a*b\n",
    "end"
   ]
  },
  {
   "source": [
    "If you call it in an interactive session without assigning the return value anywhere, you will see the tuple returned:"
   ],
   "cell_type": "markdown",
   "metadata": {}
  },
  {
   "cell_type": "code",
   "execution_count": 36,
   "metadata": {},
   "outputs": [
    {
     "output_type": "execute_result",
     "data": {
      "text/plain": [
       "(5, 6)"
      ]
     },
     "metadata": {},
     "execution_count": 36
    }
   ],
   "source": [
    "foo(2, 3)"
   ]
  },
  {
   "source": [
    "A typical usage of such a pair of return values, however, extracts each value into a variable. Julia supports simple tuple \"destructuring\" that facilitates this:"
   ],
   "cell_type": "markdown",
   "metadata": {}
  },
  {
   "cell_type": "code",
   "execution_count": 37,
   "metadata": {},
   "outputs": [
    {
     "output_type": "execute_result",
     "data": {
      "text/plain": [
       "(5, 6)"
      ]
     },
     "metadata": {},
     "execution_count": 37
    }
   ],
   "source": [
    "x, y = foo(2,3)"
   ]
  },
  {
   "cell_type": "code",
   "execution_count": 38,
   "metadata": {},
   "outputs": [
    {
     "output_type": "execute_result",
     "data": {
      "text/plain": [
       "5"
      ]
     },
     "metadata": {},
     "execution_count": 38
    }
   ],
   "source": [
    "x"
   ]
  },
  {
   "cell_type": "code",
   "execution_count": 39,
   "metadata": {},
   "outputs": [
    {
     "output_type": "execute_result",
     "data": {
      "text/plain": [
       "6"
      ]
     },
     "metadata": {},
     "execution_count": 39
    }
   ],
   "source": [
    "y"
   ]
  },
  {
   "source": [
    "You can also return multiple values using the return keyword:"
   ],
   "cell_type": "markdown",
   "metadata": {}
  },
  {
   "cell_type": "code",
   "execution_count": 40,
   "metadata": {},
   "outputs": [
    {
     "output_type": "execute_result",
     "data": {
      "text/plain": [
       "foo (generic function with 1 method)"
      ]
     },
     "metadata": {},
     "execution_count": 40
    }
   ],
   "source": [
    "function foo(a,b)\n",
    "    return a+b, a*b\n",
    "end"
   ]
  },
  {
   "source": [
    "This has the exact same effect as the previous definition of foo."
   ],
   "cell_type": "markdown",
   "metadata": {}
  },
  {
   "source": [
    "### Argument destructing"
   ],
   "cell_type": "markdown",
   "metadata": {}
  },
  {
   "source": [
    "The destructuring feature can also be used within a function argument. If a function argument name is written as a tuple (e.g. (x, y)) instead of just a symbol, then an assignment (x, y) = argument will be inserted for you:"
   ],
   "cell_type": "markdown",
   "metadata": {}
  },
  {
   "cell_type": "code",
   "execution_count": 41,
   "metadata": {},
   "outputs": [
    {
     "output_type": "execute_result",
     "data": {
      "text/plain": [
       "mnmx (generic function with 1 method)"
      ]
     },
     "metadata": {},
     "execution_count": 41
    }
   ],
   "source": [
    "mnmx(x, y) = (y < x) ? (y, x) : (x, y)"
   ]
  },
  {
   "cell_type": "code",
   "execution_count": 42,
   "metadata": {},
   "outputs": [
    {
     "output_type": "execute_result",
     "data": {
      "text/plain": [
       "gap (generic function with 1 method)"
      ]
     },
     "metadata": {},
     "execution_count": 42
    }
   ],
   "source": [
    "gap((min, max)) = max - min"
   ]
  },
  {
   "cell_type": "code",
   "execution_count": 43,
   "metadata": {},
   "outputs": [
    {
     "output_type": "execute_result",
     "data": {
      "text/plain": [
       "8"
      ]
     },
     "metadata": {},
     "execution_count": 43
    }
   ],
   "source": [
    "gap(mnmx(10, 2))"
   ]
  },
  {
   "source": [
    "Notice the extra set of parentheses in the definition of gap. Without those, gap would be a two-argument function, and this example would not work."
   ],
   "cell_type": "markdown",
   "metadata": {}
  },
  {
   "source": [
    "## Varargs Functions"
   ],
   "cell_type": "markdown",
   "metadata": {}
  },
  {
   "source": [
    "It is often convenient to be able to write functions taking an arbitrary number of arguments. Such functions are traditionally known as \"varargs\" functions, which is short for \"variable number of arguments\". You can define a varargs function by following the last positional argument with an ellipsis:"
   ],
   "cell_type": "markdown",
   "metadata": {}
  },
  {
   "cell_type": "code",
   "execution_count": 44,
   "metadata": {},
   "outputs": [
    {
     "output_type": "execute_result",
     "data": {
      "text/plain": [
       "bar (generic function with 1 method)"
      ]
     },
     "metadata": {},
     "execution_count": 44
    }
   ],
   "source": [
    "bar(a,b,x...) = (a,b,x)"
   ]
  },
  {
   "source": [
    "The variables a and b are bound to the first two argument values as usual, and the variable x is bound to an iterable collection of the zero or more values passed to bar after its first two arguments:"
   ],
   "cell_type": "markdown",
   "metadata": {}
  },
  {
   "cell_type": "code",
   "execution_count": 45,
   "metadata": {},
   "outputs": [
    {
     "output_type": "execute_result",
     "data": {
      "text/plain": [
       "(1, 2, ())"
      ]
     },
     "metadata": {},
     "execution_count": 45
    }
   ],
   "source": [
    "bar(1,2)"
   ]
  },
  {
   "cell_type": "code",
   "execution_count": 46,
   "metadata": {},
   "outputs": [
    {
     "output_type": "execute_result",
     "data": {
      "text/plain": [
       "(1, 2, (3,))"
      ]
     },
     "metadata": {},
     "execution_count": 46
    }
   ],
   "source": [
    "bar(1,2,3)"
   ]
  },
  {
   "cell_type": "code",
   "execution_count": 47,
   "metadata": {},
   "outputs": [
    {
     "output_type": "execute_result",
     "data": {
      "text/plain": [
       "(1, 2, (3, 4))"
      ]
     },
     "metadata": {},
     "execution_count": 47
    }
   ],
   "source": [
    "bar(1, 2, 3, 4)"
   ]
  },
  {
   "cell_type": "code",
   "execution_count": 48,
   "metadata": {},
   "outputs": [
    {
     "output_type": "execute_result",
     "data": {
      "text/plain": [
       "(1, 2, (3, 4, 5, 6))"
      ]
     },
     "metadata": {},
     "execution_count": 48
    }
   ],
   "source": [
    "bar(1,2,3,4,5,6)"
   ]
  },
  {
   "source": [
    "In all these cases, x is bound to a tuple of the trailing values passed to bar."
   ],
   "cell_type": "markdown",
   "metadata": {}
  },
  {
   "source": [
    "On the flip side, it is often handy to \"splat\" the values contained in an iterable collection into a function call as individual arguments. To do this, one also uses ... but in the function call instead:"
   ],
   "cell_type": "markdown",
   "metadata": {}
  },
  {
   "cell_type": "code",
   "execution_count": 49,
   "metadata": {},
   "outputs": [
    {
     "output_type": "execute_result",
     "data": {
      "text/plain": [
       "(3, 4)"
      ]
     },
     "metadata": {},
     "execution_count": 49
    }
   ],
   "source": [
    "x = (3, 4)"
   ]
  },
  {
   "cell_type": "code",
   "execution_count": 50,
   "metadata": {},
   "outputs": [
    {
     "output_type": "execute_result",
     "data": {
      "text/plain": [
       "(1, 2, (3, 4))"
      ]
     },
     "metadata": {},
     "execution_count": 50
    }
   ],
   "source": [
    "bar(1,2,x...)"
   ]
  },
  {
   "source": [
    "In this case a tuple of values is spliced into a varargs call precisely where the variable number of arguments go. This need not be the case, however:"
   ],
   "cell_type": "markdown",
   "metadata": {}
  },
  {
   "cell_type": "code",
   "execution_count": 51,
   "metadata": {},
   "outputs": [
    {
     "output_type": "execute_result",
     "data": {
      "text/plain": [
       "(2, 3, 4)"
      ]
     },
     "metadata": {},
     "execution_count": 51
    }
   ],
   "source": [
    "x = (2, 3, 4)"
   ]
  },
  {
   "cell_type": "code",
   "execution_count": 52,
   "metadata": {},
   "outputs": [
    {
     "output_type": "execute_result",
     "data": {
      "text/plain": [
       "(1, 2, (3, 4))"
      ]
     },
     "metadata": {},
     "execution_count": 52
    }
   ],
   "source": [
    "bar(1,x...)"
   ]
  },
  {
   "cell_type": "code",
   "execution_count": 53,
   "metadata": {},
   "outputs": [
    {
     "output_type": "execute_result",
     "data": {
      "text/plain": [
       "(1, 2, 3, 4)"
      ]
     },
     "metadata": {},
     "execution_count": 53
    }
   ],
   "source": [
    "x = (1, 2, 3, 4)"
   ]
  },
  {
   "cell_type": "code",
   "execution_count": 54,
   "metadata": {},
   "outputs": [
    {
     "output_type": "execute_result",
     "data": {
      "text/plain": [
       "(1, 2, (3, 4))"
      ]
     },
     "metadata": {},
     "execution_count": 54
    }
   ],
   "source": [
    "bar(x...)"
   ]
  },
  {
   "source": [
    "Furthermore, the iterable object splatted into a function call need not be a tuple:"
   ],
   "cell_type": "markdown",
   "metadata": {}
  },
  {
   "cell_type": "code",
   "execution_count": 55,
   "metadata": {},
   "outputs": [
    {
     "output_type": "execute_result",
     "data": {
      "text/plain": [
       "2-element Array{Int64,1}:\n",
       " 3\n",
       " 4"
      ]
     },
     "metadata": {},
     "execution_count": 55
    }
   ],
   "source": [
    "x = [3,4]"
   ]
  },
  {
   "cell_type": "code",
   "execution_count": 56,
   "metadata": {},
   "outputs": [
    {
     "output_type": "execute_result",
     "data": {
      "text/plain": [
       "(1, 2, (3, 4))"
      ]
     },
     "metadata": {},
     "execution_count": 56
    }
   ],
   "source": [
    "bar(1,2,x...)"
   ]
  },
  {
   "cell_type": "code",
   "execution_count": 57,
   "metadata": {},
   "outputs": [
    {
     "output_type": "execute_result",
     "data": {
      "text/plain": [
       "4-element Array{Int64,1}:\n",
       " 1\n",
       " 2\n",
       " 3\n",
       " 4"
      ]
     },
     "metadata": {},
     "execution_count": 57
    }
   ],
   "source": [
    "x = [1,2,3,4]"
   ]
  },
  {
   "cell_type": "code",
   "execution_count": 58,
   "metadata": {},
   "outputs": [
    {
     "output_type": "execute_result",
     "data": {
      "text/plain": [
       "(1, 2, (3, 4))"
      ]
     },
     "metadata": {},
     "execution_count": 58
    }
   ],
   "source": [
    "bar(x...)"
   ]
  },
  {
   "source": [
    "Also, the function that arguments are splatted into need not be a varargs function (although it often is):"
   ],
   "cell_type": "markdown",
   "metadata": {}
  },
  {
   "cell_type": "code",
   "execution_count": 59,
   "metadata": {},
   "outputs": [
    {
     "output_type": "execute_result",
     "data": {
      "text/plain": [
       "2-element Array{Int64,1}:\n",
       " 1\n",
       " 2"
      ]
     },
     "metadata": {},
     "execution_count": 59
    }
   ],
   "source": [
    "baz(a,b) = a + b;\n",
    "args = [1,2]"
   ]
  },
  {
   "cell_type": "code",
   "execution_count": 60,
   "metadata": {},
   "outputs": [
    {
     "output_type": "execute_result",
     "data": {
      "text/plain": [
       "3"
      ]
     },
     "metadata": {},
     "execution_count": 60
    }
   ],
   "source": [
    "baz(args...)"
   ]
  },
  {
   "cell_type": "code",
   "execution_count": 61,
   "metadata": {},
   "outputs": [
    {
     "output_type": "execute_result",
     "data": {
      "text/plain": [
       "3-element Array{Int64,1}:\n",
       " 1\n",
       " 2\n",
       " 3"
      ]
     },
     "metadata": {},
     "execution_count": 61
    }
   ],
   "source": [
    "args = [1,2,3]"
   ]
  },
  {
   "cell_type": "code",
   "execution_count": 62,
   "metadata": {},
   "outputs": [
    {
     "output_type": "error",
     "ename": "MethodError",
     "evalue": "MethodError: no method matching baz(::Int64, ::Int64, ::Int64)\nClosest candidates are:\n  baz(::Any, ::Any) at In[59]:1",
     "traceback": [
      "MethodError: no method matching baz(::Int64, ::Int64, ::Int64)\nClosest candidates are:\n  baz(::Any, ::Any) at In[59]:1",
      "",
      "Stacktrace:",
      " [1] top-level scope at In[62]:1"
     ]
    }
   ],
   "source": [
    "baz(args...)"
   ]
  },
  {
   "source": [
    "As you can see, if the wrong number of elements are in the splatted container, then the function call will fail, just as it would if too many arguments were given explicitly."
   ],
   "cell_type": "markdown",
   "metadata": {}
  },
  {
   "source": [
    "## Optional Arguments"
   ],
   "cell_type": "markdown",
   "metadata": {}
  },
  {
   "source": [
    "It is often possible to provide sensible default values for function arguments. This can save users from having to pass every argument on every call. For example, the function Date(y, \\[m, d\\]) from Dates module constructs a Date type for a given year y, month m and day d. However, m and d arguments are optional and their default value is 1. This behavior can be expressed concisely as:\n",
    "\n",
    "function Date(y::Int64, m::Int64=1, d::Int64=1)\n",
    "\n",
    "        err = validargs(Date, y, m, d)\n",
    "        err === nothing || throw(err)\n",
    "        return Date(UTD(totaldays(y, m, d)))\n",
    "\n",
    "end\n",
    "\n",
    "Observe, that this definition calls another method of the Date function that takes one argument of type UTInstant{Day}.\n",
    "\n",
    "With this definition, the function can be called with either one, two or three arguments, and 1 is automatically passed when only one or two of the arguments are specified:"
   ],
   "cell_type": "markdown",
   "metadata": {}
  },
  {
   "cell_type": "code",
   "execution_count": 79,
   "metadata": {},
   "outputs": [
    {
     "output_type": "execute_result",
     "data": {
      "text/plain": [
       "2000-12-12"
      ]
     },
     "metadata": {},
     "execution_count": 79
    }
   ],
   "source": [
    "using Dates\n",
    "Date(2000, 12, 12)"
   ]
  },
  {
   "cell_type": "code",
   "execution_count": 80,
   "metadata": {},
   "outputs": [
    {
     "output_type": "execute_result",
     "data": {
      "text/plain": [
       "2000-12-01"
      ]
     },
     "metadata": {},
     "execution_count": 80
    }
   ],
   "source": [
    "Date(2000, 12)"
   ]
  },
  {
   "cell_type": "code",
   "execution_count": 81,
   "metadata": {},
   "outputs": [
    {
     "output_type": "execute_result",
     "data": {
      "text/plain": [
       "2000-01-01"
      ]
     },
     "metadata": {},
     "execution_count": 81
    }
   ],
   "source": [
    "Date(2000)"
   ]
  },
  {
   "source": [
    "Optional arguments are actually just a convenient syntax for writing multiple method definitions with different numbers of arguments (see Note on Optional and keyword Arguments). This can be checked for our Date function example by calling methods function."
   ],
   "cell_type": "markdown",
   "metadata": {}
  },
  {
   "source": [
    "## Keyword Arguments"
   ],
   "cell_type": "markdown",
   "metadata": {}
  },
  {
   "source": [
    "Some functions need a large number of arguments, or have a large number of behaviors. Remembering how to call such functions can be difficult. Keyword arguments can make these complex interfaces easier to use and extend by allowing arguments to be identified by name instead of only by position.\n",
    "\n",
    "For example, consider a function plot that plots a line. This function might have many options, for controlling line style, width, color, and so on. If it accepts keyword arguments, a possible call might look like plot(x, y, width=2), where we have chosen to specify only line width. Notice that this serves two purposes. The call is easier to read, since we can label an argument with its meaning. It also becomes possible to pass any subset of a large number of arguments, in any order."
   ],
   "cell_type": "markdown",
   "metadata": {}
  },
  {
   "source": [
    "Functions with keyword arguments are defined using a semicolon in the signature:\n",
    "\n",
    "\n",
    "function plot(x, y; style=\"solid\", width=1, color=\"black\")\n",
    "\n",
    "        ###\n",
    "\n",
    "end\n",
    "\n",
    "\n",
    "When the function is called, the semicolon is optional: one can either call plot(x, y, width=2) or plot(x, y; width=2), but the former style is more common. An explicit semicolon is required only for passing varargs or computed keywords as described below.\n",
    "\n",
    "Keyword argument default values are evaluated only when necessary (when a corresponding keyword argument is not passed), and in left-to-right order. Therefore default expressions may refer to prior keyword arguments."
   ],
   "cell_type": "markdown",
   "metadata": {}
  },
  {
   "source": [
    "The types of keyword arguments can be made explicit as follows:\n",
    "\n",
    "function f(;x::Int=1)\n",
    "    \n",
    "        ###\n",
    "\n",
    "end"
   ],
   "cell_type": "markdown",
   "metadata": {}
  },
  {
   "source": [
    "Keyword arguments can also be used in varargs functions:\n",
    "\n",
    "function plot(x...; style=\"solid\")\n",
    "    \n",
    "        ###\n",
    "\n",
    "end"
   ],
   "cell_type": "markdown",
   "metadata": {}
  },
  {
   "source": [
    "Extra keyword arguments can be collected using ..., as in varargs functions:\n",
    "\n",
    "function f(x; y=0, kwargs...)\n",
    "\n",
    "        ###\n",
    "\n",
    "end\n",
    "\n",
    "Inside f, kwargs will be a key-value iterator over a named tuple. Named tuples (as well as dictionaries with keys of Symbol) can be passed as keyword arguments using a semicolon in a call, e.g. f(x, z=1; kwargs...)."
   ],
   "cell_type": "markdown",
   "metadata": {}
  },
  {
   "source": [
    "If a keyword argument is not assigned a default value in the method definition, then it is required: an UndefKeywordError exception will be thrown if the caller does not assign it a value:\n",
    "\n",
    "function f(x; y)\n",
    "\n",
    "        ###\n",
    "\n",
    "end\n",
    "\n",
    "f(3, y=5) # ok, y is assigned\n",
    "\n",
    "f(3)      # throws UndefKeywordError(:y)"
   ],
   "cell_type": "markdown",
   "metadata": {}
  },
  {
   "source": [
    "One can also pass key => value expressions after a semicolon. For example, plot(x, y; :width => 2) is equivalent to plot(x, y, width=2). This is useful in situations where the keyword name is computed at runtime.\n",
    "\n",
    "When a bare identifier or dot expression occurs after a semicolon, the keyword argument name is implied by the identifier or field name. For example plot(x, y; width) is equivalent to plot(x, y; width=width) and plot(x, y; options.width) is equivalent to plot(x, y; width=options.width).\n",
    "\n",
    "The nature of keyword arguments makes it possible to specify the same argument more than once. For example, in the call plot(x, y; options..., width=2) it is possible that the options structure also contains a value for width. In such a case the rightmost occurrence takes precedence; in this example, width is certain to have the value 2. However, explicitly specifying the same keyword argument multiple times, for example plot(x, y, width=2, width=3), is not allowed and results in a syntax error."
   ],
   "cell_type": "markdown",
   "metadata": {}
  },
  {
   "source": [
    "## Evaluation Scope of Default Values"
   ],
   "cell_type": "markdown",
   "metadata": {}
  },
  {
   "source": [
    "When optional and keyword argument default expressions are evaluated, only previous arguments are in scope. For example, given this definition:\n",
    "\n",
    "function f(x, a=b, b=1)\n",
    "\n",
    "        ###\n",
    "\n",
    "end\n",
    "\n",
    "the b in a=b refers to a b in an outer scope, not the subsequent argument b."
   ],
   "cell_type": "markdown",
   "metadata": {}
  },
  {
   "source": [
    "## Do-Block Syntax for Function Arguments"
   ],
   "cell_type": "markdown",
   "metadata": {}
  },
  {
   "source": [
    "Passing functions as arguments to other functions is a powerful technique, but the syntax for it is not always convenient. Such calls are especially awkward to write when the function argument requires multiple lines. As an example, consider calling map on a function with several cases:\n",
    "\n",
    "    map(x->begin\n",
    "\n",
    "               if x < 0 && iseven(x)\n",
    "        \n",
    "                   return 0\n",
    "        \n",
    "               elseif x == 0\n",
    "            \n",
    "                   return 1\n",
    "           \n",
    "               else\n",
    "\n",
    "                   return x\n",
    "               end\n",
    "\n",
    "           end,\n",
    "\n",
    "    [A, B, C])\n",
    "\n",
    "Julia provides a reserved word do for rewriting this code more clearly:\n",
    "\n",
    "    map([A, B, C]) do x\n",
    "    \n",
    "        if x < 0 && iseven(x)\n",
    "            \n",
    "            return 0\n",
    "    \n",
    "        elseif x == 0\n",
    "        \n",
    "            return 1\n",
    "        \n",
    "        else\n",
    "        \n",
    "            return x\n",
    "        \n",
    "        end\n",
    "    \n",
    "    end\n",
    "    \n",
    "The do x syntax creates an anonymous function with argument x and passes it as the first argument to map. Similarly, do a,b would create a two-argument anonymous function, and a plain do would declare that what follows is an anonymous function of the form () -> ....\n",
    "\n",
    "How these arguments are initialized depends on the \"outer\" function; here, map will sequentially set x to A, B, C, calling the anonymous function on each, just as would happen in the syntax map(func, [A, B, C]).\n",
    "\n",
    "This syntax makes it easier to use functions to effectively extend the language, since calls look like normal code blocks. There are many possible uses quite different from map, such as managing system state. For example, there is a version of open that runs code ensuring that the opened file is eventually closed:\n",
    "\n",
    "    open(\"outfile\", \"w\") do io\n",
    "    \n",
    "        write(io, data)\n",
    "\n",
    "    end\n",
    "\n",
    "This is accomplished by the following definition:\n",
    "\n",
    "    function open(f::Function, args...)\n",
    "    \n",
    "        io = open(args...)\n",
    "        \n",
    "        try\n",
    "            \n",
    "            f(io)\n",
    "        \n",
    "        finally\n",
    "            \n",
    "            close(io)\n",
    "        \n",
    "        end\n",
    "    \n",
    "    end\n",
    "    \n",
    "Here, open first opens the file for writing and then passes the resulting output stream to the anonymous function you defined in the do ... end block. After your function exits, open will make sure that the stream is properly closed, regardless of whether your function exited normally or threw an exception. (The try/finally construct will be described in Control Flow.)\n",
    "\n",
    "With the do block syntax, it helps to check the documentation or implementation to know how the arguments of the user function are initialized.\n",
    "\n",
    "A do block, like any other inner function, can \"capture\" variables from its enclosing scope. For example, the variable data in the above example of open...do is captured from the outer scope. Captured variables can create performance challenges as discussed in performance tips.\n",
    "\n"
   ],
   "cell_type": "markdown",
   "metadata": {}
  },
  {
   "source": [
    "## Function composition and piping"
   ],
   "cell_type": "markdown",
   "metadata": {}
  },
  {
   "source": [
    "Functions in Julia can be combined by composing or piping (chaining) them together.\n",
    "\n",
    "Function composition is when you combine functions together and apply the resulting composition to arguments. You use the function composition operator (∘) to compose the functions, so (f ∘ g)(args...) is the same as f(g(args...)).\n",
    "\n",
    "You can type the composition operator at the REPL and suitably-configured editors using \\circ<tab>.\n",
    "\n",
    "For example, the sqrt and + functions can be composed like this:"
   ],
   "cell_type": "markdown",
   "metadata": {}
  },
  {
   "cell_type": "code",
   "execution_count": 88,
   "metadata": {},
   "outputs": [
    {
     "output_type": "execute_result",
     "data": {
      "text/plain": [
       "3.0"
      ]
     },
     "metadata": {},
     "execution_count": 88
    }
   ],
   "source": [
    "(sqrt ∘ +)(3, 6)"
   ]
  },
  {
   "source": [
    "This adds the numbers first, then finds the square root of the result."
   ],
   "cell_type": "markdown",
   "metadata": {}
  },
  {
   "cell_type": "code",
   "execution_count": 91,
   "metadata": {},
   "outputs": [
    {
     "output_type": "stream",
     "name": "stdout",
     "text": [
      "\"\u001b[36m∘\u001b[39m\" can be typed by \u001b[36m\\circ<tab>\u001b[39m\n",
      "\n",
      "search: \u001b[0m\u001b[1m∘\u001b[22m\n",
      "\n"
     ]
    },
    {
     "output_type": "execute_result",
     "data": {
      "text/plain": [
       "\u001b[36m  f ∘ g\u001b[39m\n",
       "\n",
       "  Compose functions: i.e. \u001b[36m(f ∘ g)(args...)\u001b[39m means \u001b[36mf(g(args...))\u001b[39m. The \u001b[36m∘\u001b[39m symbol\n",
       "  can be entered in the Julia REPL (and most editors, appropriately\n",
       "  configured) by typing \u001b[36m\\circ<tab>\u001b[39m.\n",
       "\n",
       "  Function composition also works in prefix form: \u001b[36m∘(f, g)\u001b[39m is the same as \u001b[36mf ∘\n",
       "  g\u001b[39m. The prefix form supports composition of multiple functions: \u001b[36m∘(f, g, h) =\n",
       "  f ∘ g ∘ h\u001b[39m and splatting \u001b[36m∘(fs...)\u001b[39m for composing an iterable collection of\n",
       "  functions.\n",
       "\n",
       "\u001b[39m\u001b[1m  │ \u001b[22m\u001b[39m\u001b[1mJulia 1.4\u001b[22m\n",
       "\u001b[39m\u001b[1m  │\u001b[22m\n",
       "\u001b[39m\u001b[1m  │\u001b[22m  Multiple function composition requires at least Julia 1.4.\n",
       "\n",
       "\u001b[1m  Examples\u001b[22m\n",
       "\u001b[1m  ≡≡≡≡≡≡≡≡≡≡\u001b[22m\n",
       "\n",
       "\u001b[36m  julia> map(uppercase∘first, [\"apple\", \"banana\", \"carrot\"])\u001b[39m\n",
       "\u001b[36m  3-element Array{Char,1}:\u001b[39m\n",
       "\u001b[36m   'A'\u001b[39m\n",
       "\u001b[36m   'B'\u001b[39m\n",
       "\u001b[36m   'C'\u001b[39m\n",
       "\u001b[36m  \u001b[39m\n",
       "\u001b[36m  julia> fs = [\u001b[39m\n",
       "\u001b[36m             x -> 2x\u001b[39m\n",
       "\u001b[36m             x -> x/2\u001b[39m\n",
       "\u001b[36m             x -> x-1\u001b[39m\n",
       "\u001b[36m             x -> x+1\u001b[39m\n",
       "\u001b[36m         ];\u001b[39m\n",
       "\u001b[36m  \u001b[39m\n",
       "\u001b[36m  julia> ∘(fs...)(3)\u001b[39m\n",
       "\u001b[36m  3.0\u001b[39m"
      ],
      "text/markdown": "```\nf ∘ g\n```\n\nCompose functions: i.e. `(f ∘ g)(args...)` means `f(g(args...))`. The `∘` symbol can be entered in the Julia REPL (and most editors, appropriately configured) by typing `\\circ<tab>`.\n\nFunction composition also works in prefix form: `∘(f, g)` is the same as `f ∘ g`. The prefix form supports composition of multiple functions: `∘(f, g, h) = f ∘ g ∘ h` and splatting `∘(fs...)` for composing an iterable collection of functions.\n\n!!! compat \"Julia 1.4\"\n    Multiple function composition requires at least Julia 1.4.\n\n\n# Examples\n\n```jldoctest\njulia> map(uppercase∘first, [\"apple\", \"banana\", \"carrot\"])\n3-element Array{Char,1}:\n 'A'\n 'B'\n 'C'\n\njulia> fs = [\n           x -> 2x\n           x -> x/2\n           x -> x-1\n           x -> x+1\n       ];\n\njulia> ∘(fs...)(3)\n3.0\n```\n",
      "text/latex": "\\begin{verbatim}\nf ∘ g\n\\end{verbatim}\nCompose functions: i.e. \\texttt{(f ∘ g)(args...)} means \\texttt{f(g(args...))}. The \\texttt{∘} symbol can be entered in the Julia REPL (and most editors, appropriately configured) by typing \\texttt{{\\textbackslash}circ<tab>}.\n\nFunction composition also works in prefix form: \\texttt{∘(f, g)} is the same as \\texttt{f ∘ g}. The prefix form supports composition of multiple functions: \\texttt{∘(f, g, h) = f ∘ g ∘ h} and splatting \\texttt{∘(fs...)} for composing an iterable collection of functions.\n\n\\begin{quote}\n\\textbf{compat}\n\nJulia 1.4\n\nMultiple function composition requires at least Julia 1.4.\n\n\\end{quote}\n\\section{Examples}\n\\begin{verbatim}\njulia> map(uppercase∘first, [\"apple\", \"banana\", \"carrot\"])\n3-element Array{Char,1}:\n 'A'\n 'B'\n 'C'\n\njulia> fs = [\n           x -> 2x\n           x -> x/2\n           x -> x-1\n           x -> x+1\n       ];\n\njulia> ∘(fs...)(3)\n3.0\n\\end{verbatim}\n"
     },
     "metadata": {},
     "execution_count": 91
    }
   ],
   "source": [
    "?∘"
   ]
  },
  {
   "source": [
    "The next example composes three functions and maps the result over an array of strings:"
   ],
   "cell_type": "markdown",
   "metadata": {}
  },
  {
   "cell_type": "code",
   "execution_count": 89,
   "metadata": {},
   "outputs": [
    {
     "output_type": "execute_result",
     "data": {
      "text/plain": [
       "6-element Array{Char,1}:\n",
       " 'U'\n",
       " 'N'\n",
       " 'E'\n",
       " 'S'\n",
       " 'E'\n",
       " 'S'"
      ]
     },
     "metadata": {},
     "execution_count": 89
    }
   ],
   "source": [
    "map(first ∘ reverse ∘ uppercase, split(\"you can compose functions like this\"))"
   ]
  },
  {
   "source": [
    "Function chaining (sometimes called \"piping\" or \"using a pipe\" to send data to a subsequent function) is when you apply a function to the previous function's output:"
   ],
   "cell_type": "markdown",
   "metadata": {}
  },
  {
   "cell_type": "code",
   "execution_count": 94,
   "metadata": {},
   "outputs": [
    {
     "output_type": "execute_result",
     "data": {
      "text/plain": [
       "7.416198487095663"
      ]
     },
     "metadata": {},
     "execution_count": 94
    }
   ],
   "source": [
    "1:10 |> sum |> sqrt"
   ]
  },
  {
   "source": [
    "Here, the total produced by sum is passed to the sqrt function. The equivalent composition would be:"
   ],
   "cell_type": "markdown",
   "metadata": {}
  },
  {
   "cell_type": "code",
   "execution_count": 95,
   "metadata": {},
   "outputs": [
    {
     "output_type": "execute_result",
     "data": {
      "text/plain": [
       "7.416198487095663"
      ]
     },
     "metadata": {},
     "execution_count": 95
    }
   ],
   "source": [
    "(sqrt ∘ sum)(1:10)"
   ]
  },
  {
   "source": [
    "The pipe operator can also be used with broadcasting, as .|>, to provide a useful combination of the chaining/piping and dot vectorization syntax (described next)."
   ],
   "cell_type": "markdown",
   "metadata": {}
  },
  {
   "cell_type": "code",
   "execution_count": 96,
   "metadata": {},
   "outputs": [
    {
     "output_type": "execute_result",
     "data": {
      "text/plain": [
       "4-element Array{Any,1}:\n",
       "  \"A\"\n",
       "  \"tsil\"\n",
       "  \"Of\"\n",
       " 7"
      ]
     },
     "metadata": {},
     "execution_count": 96
    }
   ],
   "source": [
    "[\"a\", \"list\", \"of\", \"strings\"] .|> [uppercase, reverse, titlecase, length]"
   ]
  },
  {
   "cell_type": "code",
   "execution_count": 98,
   "metadata": {},
   "outputs": [
    {
     "output_type": "stream",
     "name": "stdout",
     "text": [
      "search: \u001b[0m\u001b[1m|\u001b[22m\u001b[0m\u001b[1m>\u001b[22m\n\n"
     ]
    },
    {
     "output_type": "execute_result",
     "data": {
      "text/plain": [
       "\u001b[36m  |>(x, f)\u001b[39m\n",
       "\n",
       "  Applies a function to the preceding argument. This allows for easy function\n",
       "  chaining.\n",
       "\n",
       "\u001b[1m  Examples\u001b[22m\n",
       "\u001b[1m  ≡≡≡≡≡≡≡≡≡≡\u001b[22m\n",
       "\n",
       "\u001b[36m  julia> [1:5;] |> x->x.^2 |> sum |> inv\u001b[39m\n",
       "\u001b[36m  0.01818181818181818\u001b[39m"
      ],
      "text/markdown": "```\n|>(x, f)\n```\n\nApplies a function to the preceding argument. This allows for easy function chaining.\n\n# Examples\n\n```jldoctest\njulia> [1:5;] |> x->x.^2 |> sum |> inv\n0.01818181818181818\n```\n",
      "text/latex": "\\begin{verbatim}\n|>(x, f)\n\\end{verbatim}\nApplies a function to the preceding argument. This allows for easy function chaining.\n\n\\section{Examples}\n\\begin{verbatim}\njulia> [1:5;] |> x->x.^2 |> sum |> inv\n0.01818181818181818\n\\end{verbatim}\n"
     },
     "metadata": {},
     "execution_count": 98
    }
   ],
   "source": [
    "?|>"
   ]
  },
  {
   "source": [
    "## Dot Syntax for Vectorizing Functions"
   ],
   "cell_type": "markdown",
   "metadata": {}
  },
  {
   "source": [
    "In technical-computing languages, it is common to have \"vectorized\" versions of functions, which simply apply a given function f(x) to each element of an array A to yield a new array via f(A). This kind of syntax is convenient for data processing, but in other languages vectorization is also often required for performance: if loops are slow, the \"vectorized\" version of a function can call fast library code written in a low-level language. In Julia, vectorized functions are not required for performance, and indeed it is often beneficial to write your own loops (see Performance Tips), but they can still be convenient. Therefore, any Julia function f can be applied elementwise to any array (or other collection) with the syntax f.(A). For example, sin can be applied to all elements in the vector A like so:"
   ],
   "cell_type": "markdown",
   "metadata": {}
  },
  {
   "cell_type": "code",
   "execution_count": 100,
   "metadata": {},
   "outputs": [
    {
     "output_type": "execute_result",
     "data": {
      "text/plain": [
       "3-element Array{Float64,1}:\n",
       " 1.0\n",
       " 2.0\n",
       " 3.0"
      ]
     },
     "metadata": {},
     "execution_count": 100
    }
   ],
   "source": [
    "A = [1.0, 2.0, 3.0]"
   ]
  },
  {
   "cell_type": "code",
   "execution_count": 101,
   "metadata": {},
   "outputs": [
    {
     "output_type": "execute_result",
     "data": {
      "text/plain": [
       "3-element Array{Float64,1}:\n",
       " 0.8414709848078965\n",
       " 0.9092974268256817\n",
       " 0.1411200080598672"
      ]
     },
     "metadata": {},
     "execution_count": 101
    }
   ],
   "source": [
    "sin.(A)"
   ]
  },
  {
   "source": [
    "Of course, you can omit the dot if you write a specialized \"vector\" method of f, e.g. via f(A::AbstractArray) = map(f, A), and this is just as efficient as f.(A). The advantage of the f.(A) syntax is that which functions are vectorizable need not be decided upon in advance by the library writer.\n",
    "\n",
    "More generally, f.(args...) is actually equivalent to broadcast(f, args...), which allows you to operate on multiple arrays (even of different shapes), or a mix of arrays and scalars (see Broadcasting). For example, if you have f(x,y) = 3x + 4y, then f.(pi,A) will return a new array consisting of f(pi,a) for each a in A, and f.(vector1,vector2) will return a new vector consisting of f(vector1\\[i\\],vector2\\[i\\]) for each index i (throwing an exception if the vectors have different length)."
   ],
   "cell_type": "markdown",
   "metadata": {}
  },
  {
   "cell_type": "code",
   "execution_count": 102,
   "metadata": {},
   "outputs": [
    {
     "output_type": "execute_result",
     "data": {
      "text/plain": [
       "3-element Array{Float64,1}:\n",
       " 13.42477796076938\n",
       " 17.42477796076938\n",
       " 21.42477796076938"
      ]
     },
     "metadata": {},
     "execution_count": 102
    }
   ],
   "source": [
    "f(x,y) = 3x + 4y;\n",
    "A = [1.0, 2.0, 3.0];\n",
    "B = [4.0, 5.0, 6.0];\n",
    "f.(pi, A)"
   ]
  },
  {
   "cell_type": "code",
   "execution_count": 103,
   "metadata": {},
   "outputs": [
    {
     "output_type": "execute_result",
     "data": {
      "text/plain": [
       "3-element Array{Float64,1}:\n",
       " 19.0\n",
       " 26.0\n",
       " 33.0"
      ]
     },
     "metadata": {},
     "execution_count": 103
    }
   ],
   "source": [
    "f.(A, B)"
   ]
  },
  {
   "source": [
    "Moreover, nested f.(args...) calls are fused into a single broadcast loop. For example, sin.(cos.(X)) is equivalent to broadcast(x -> sin(cos(x)), X), similar to \\[sin(cos(x)) for x in X\\]: there is only a single loop over X, and a single array is allocated for the result. \\[In contrast, sin(cos(X)) in a typical \"vectorized\" language would first allocate one temporary array for tmp=cos(X), and then compute sin(tmp) in a separate loop, allocating a second array.\\] This loop fusion is not a compiler optimization that may or may not occur, it is a syntactic guarantee whenever nested f.(args...) calls are encountered. Technically, the fusion stops as soon as a \"non-dot\" function call is encountered; for example, in sin.(sort(cos.(X))) the sin and cos loops cannot be merged because of the intervening sort function.\n",
    "\n",
    "Finally, the maximum efficiency is typically achieved when the output array of a vectorized operation is pre-allocated, so that repeated calls do not allocate new arrays over and over again for the results (see Pre-allocating outputs). A convenient syntax for this is X .= ..., which is equivalent to broadcast!(identity, X, ...) except that, as above, the broadcast! loop is fused with any nested \"dot\" calls. For example, X .= sin.(Y) is equivalent to broadcast!(sin, X, Y), overwriting X with sin.(Y) in-place. If the left-hand side is an array-indexing expression, e.g. X\\[begin+1:end\\] .= sin.(Y), then it translates to broadcast! on a view, e.g. broadcast!(sin, view(X, firstindex(X)+1:lastindex(X)), Y), so that the left-hand side is updated in-place.\n",
    "\n",
    "Since adding dots to many operations and function calls in an expression can be tedious and lead to code that is difficult to read, the macro @. is provided to convert every function call, operation, and assignment in an expression into the \"dotted\" version."
   ],
   "cell_type": "markdown",
   "metadata": {}
  },
  {
   "cell_type": "code",
   "execution_count": 104,
   "metadata": {},
   "outputs": [
    {
     "output_type": "execute_result",
     "data": {
      "text/plain": [
       "4-element Array{Float64,1}:\n",
       "  0.5143952585235492\n",
       " -0.4042391538522658\n",
       " -0.8360218615377305\n",
       " -0.6080830096407656"
      ]
     },
     "metadata": {},
     "execution_count": 104
    }
   ],
   "source": [
    "Y = [1.0, 2.0, 3.0, 4.0];\n",
    "X = similar(Y); # pre-allocate output array\n",
    "@. X = sin(cos(Y)) # equivalent to X .= sin.(cos.(Y))"
   ]
  },
  {
   "source": [
    "Binary (or unary) operators like .+ are handled with the same mechanism: they are equivalent to broadcast calls and are fused with other nested \"dot\" calls. X .+= Y etcetera is equivalent to X .= X .+ Y and results in a fused in-place assignment; see also dot operators.\n",
    "\n",
    "You can also combine dot operations with function chaining using |>, as in this example:"
   ],
   "cell_type": "markdown",
   "metadata": {}
  },
  {
   "cell_type": "code",
   "execution_count": 105,
   "metadata": {},
   "outputs": [
    {
     "output_type": "execute_result",
     "data": {
      "text/plain": [
       "5-element Array{Real,1}:\n",
       "    1\n",
       "    0.5\n",
       "    6\n",
       "   -4\n",
       " true"
      ]
     },
     "metadata": {},
     "execution_count": 105
    }
   ],
   "source": [
    "[1:5;] .|> [x->x^2, inv, x->2*x, -, isodd]"
   ]
  }
 ]
}
{
 "metadata": {
  "language_info": {
   "codemirror_mode": {
    "name": "ipython",
    "version": 3
   },
   "file_extension": ".py",
   "mimetype": "text/x-python",
   "name": "python",
   "nbconvert_exporter": "python",
   "pygments_lexer": "ipython3",
   "version": "3.8.5-final"
  },
  "orig_nbformat": 2,
  "kernelspec": {
   "name": "julia-1.4",
   "display_name": "Julia 1.4.1",
   "language": "julia"
  }
 },
 "nbformat": 4,
 "nbformat_minor": 2,
 "cells": [
  {
   "source": [
    "# Metaprogramming"
   ],
   "cell_type": "markdown",
   "metadata": {}
  },
  {
   "source": [
    "The strongest legacy of Lisp in the Julia language is its metaprogramming support. Like Lisp, Julia represents its own code as a data structure of the language itself. Since code is represented by objects that can be created and manipulated from within the language, it is possible for a program to transform and generate its own code. This allows sophisticated code generation without extra build steps, and also allows true Lisp-style macros operating at the level of abstract syntax trees. In contrast, preprocessor \"macro\" systems, like that of C and C++, perform textual manipulation and substitution before any actual parsing or interpretation occurs. Because all data types and code in Julia are represented by Julia data structures, powerful reflection capabilities are available to explore the internals of a program and its types just like any other data."
   ],
   "cell_type": "markdown",
   "metadata": {}
  },
  {
   "source": [
    "## Program representation"
   ],
   "cell_type": "markdown",
   "metadata": {}
  },
  {
   "source": [
    "Every Julia program starts life as a string:"
   ],
   "cell_type": "markdown",
   "metadata": {}
  },
  {
   "cell_type": "code",
   "execution_count": 1,
   "metadata": {},
   "outputs": [
    {
     "output_type": "execute_result",
     "data": {
      "text/plain": [
       "\"1 + 1\""
      ]
     },
     "metadata": {},
     "execution_count": 1
    }
   ],
   "source": [
    "prog = \"1 + 1\""
   ]
  },
  {
   "source": [
    "#### What happens next?"
   ],
   "cell_type": "markdown",
   "metadata": {}
  },
  {
   "source": [
    "The next step is to parse each string into an object called an expression, represented by the Julia type Expr:"
   ],
   "cell_type": "markdown",
   "metadata": {}
  },
  {
   "cell_type": "code",
   "execution_count": 4,
   "metadata": {},
   "outputs": [
    {
     "output_type": "execute_result",
     "data": {
      "text/plain": [
       ":(1 + 1)"
      ]
     },
     "metadata": {},
     "execution_count": 4
    }
   ],
   "source": [
    "ex1 = Meta.parse(prog)"
   ]
  },
  {
   "cell_type": "code",
   "execution_count": 5,
   "metadata": {},
   "outputs": [
    {
     "output_type": "execute_result",
     "data": {
      "text/plain": [
       "Expr"
      ]
     },
     "metadata": {},
     "execution_count": 5
    }
   ],
   "source": [
    "typeof(ex1)"
   ]
  },
  {
   "source": [
    "Expr objects contain two parts:\n",
    "\n",
    "    - a Symbol identifying the kind of expression. A symbol is an interned string identifier (more discussion below)."
   ],
   "cell_type": "markdown",
   "metadata": {}
  },
  {
   "cell_type": "code",
   "execution_count": 6,
   "metadata": {},
   "outputs": [
    {
     "output_type": "execute_result",
     "data": {
      "text/plain": [
       ":call"
      ]
     },
     "metadata": {},
     "execution_count": 6
    }
   ],
   "source": [
    "ex1.head"
   ]
  },
  {
   "source": [
    "    - the expression arguments, which may be symbols, other expressions, or literal values:"
   ],
   "cell_type": "markdown",
   "metadata": {}
  },
  {
   "cell_type": "code",
   "execution_count": 7,
   "metadata": {},
   "outputs": [
    {
     "output_type": "execute_result",
     "data": {
      "text/plain": [
       "3-element Array{Any,1}:\n",
       "  :+\n",
       " 1\n",
       " 1"
      ]
     },
     "metadata": {},
     "execution_count": 7
    }
   ],
   "source": [
    "ex1.args"
   ]
  },
  {
   "source": [
    "Expressions may also be constructed directly in prefix notation:"
   ],
   "cell_type": "markdown",
   "metadata": {}
  },
  {
   "cell_type": "code",
   "execution_count": 8,
   "metadata": {},
   "outputs": [
    {
     "output_type": "execute_result",
     "data": {
      "text/plain": [
       ":(1 + 1)"
      ]
     },
     "metadata": {},
     "execution_count": 8
    }
   ],
   "source": [
    "ex2 = Expr(:call, :+, 1, 1)"
   ]
  },
  {
   "source": [
    "The two expressions constructed above – by parsing and by direct construction – are equivalent:"
   ],
   "cell_type": "markdown",
   "metadata": {}
  },
  {
   "cell_type": "code",
   "execution_count": 9,
   "metadata": {},
   "outputs": [
    {
     "output_type": "execute_result",
     "data": {
      "text/plain": [
       "true"
      ]
     },
     "metadata": {},
     "execution_count": 9
    }
   ],
   "source": [
    "ex1 == ex2"
   ]
  },
  {
   "source": [
    "#### The key point here is that Julia code is internally represented as a data structure that is accessible from the language itself.\n",
    "\n",
    "The dump function provides indented and annotated display of Expr objects:"
   ],
   "cell_type": "markdown",
   "metadata": {}
  },
  {
   "cell_type": "code",
   "execution_count": 11,
   "metadata": {},
   "outputs": [
    {
     "output_type": "stream",
     "name": "stdout",
     "text": [
      "Expr\n  head: Symbol call\n  args: Array{Any}((3,))\n    1: Symbol +\n    2: Int64 1\n    3: Int64 1\n"
     ]
    }
   ],
   "source": [
    "dump(ex2)"
   ]
  },
  {
   "source": [
    "Expr objects may also be nested:"
   ],
   "cell_type": "markdown",
   "metadata": {}
  },
  {
   "cell_type": "code",
   "execution_count": 12,
   "metadata": {},
   "outputs": [
    {
     "output_type": "execute_result",
     "data": {
      "text/plain": [
       ":((4 + 4) / 2)"
      ]
     },
     "metadata": {},
     "execution_count": 12
    }
   ],
   "source": [
    "ex3 = Meta.parse(\"(4 + 4) / 2\")"
   ]
  },
  {
   "source": [
    "Another way to view expressions is with Meta.show_sexpr, which displays the S-expression form of a given Expr, which may look very familiar to users of Lisp. Here's an example illustrating the display on a nested Expr:"
   ],
   "cell_type": "markdown",
   "metadata": {}
  },
  {
   "cell_type": "code",
   "execution_count": 13,
   "metadata": {},
   "outputs": [
    {
     "output_type": "stream",
     "name": "stdout",
     "text": [
      "(:call, :/, (:call, :+, 4, 4), 2)"
     ]
    }
   ],
   "source": [
    "Meta.show_sexpr(ex3)"
   ]
  },
  {
   "source": [
    "## Symbols"
   ],
   "cell_type": "markdown",
   "metadata": {}
  },
  {
   "source": [
    "The : character has two syntactic purposes in Julia. The first form creates a Symbol, an interned string used as one building-block of expressions:"
   ],
   "cell_type": "markdown",
   "metadata": {}
  },
  {
   "cell_type": "code",
   "execution_count": 14,
   "metadata": {},
   "outputs": [
    {
     "output_type": "execute_result",
     "data": {
      "text/plain": [
       ":foo"
      ]
     },
     "metadata": {},
     "execution_count": 14
    }
   ],
   "source": [
    ":foo"
   ]
  },
  {
   "cell_type": "code",
   "execution_count": 15,
   "metadata": {},
   "outputs": [
    {
     "output_type": "execute_result",
     "data": {
      "text/plain": [
       "Symbol"
      ]
     },
     "metadata": {},
     "execution_count": 15
    }
   ],
   "source": [
    "typeof(ans)"
   ]
  },
  {
   "source": [
    "The Symbol constructor takes any number of arguments and creates a new symbol by concatenating their string representations together:"
   ],
   "cell_type": "markdown",
   "metadata": {}
  },
  {
   "cell_type": "code",
   "execution_count": 16,
   "metadata": {},
   "outputs": [
    {
     "output_type": "execute_result",
     "data": {
      "text/plain": [
       "true"
      ]
     },
     "metadata": {},
     "execution_count": 16
    }
   ],
   "source": [
    ":foo == Symbol(\"foo\")"
   ]
  },
  {
   "cell_type": "code",
   "execution_count": 17,
   "metadata": {},
   "outputs": [
    {
     "output_type": "execute_result",
     "data": {
      "text/plain": [
       ":func10"
      ]
     },
     "metadata": {},
     "execution_count": 17
    }
   ],
   "source": [
    "Symbol(\"func\",10)"
   ]
  },
  {
   "cell_type": "code",
   "execution_count": 18,
   "metadata": {},
   "outputs": [
    {
     "output_type": "execute_result",
     "data": {
      "text/plain": [
       ":var_sym"
      ]
     },
     "metadata": {},
     "execution_count": 18
    }
   ],
   "source": [
    "Symbol(:var,'_',\"sym\")"
   ]
  },
  {
   "source": [
    "Note that to use : syntax, the symbol's name must be a valid identifier. Otherwise the Symbol(str) constructor must be used.\n",
    "\n",
    "In the context of an expression, symbols are used to indicate access to variables; when an expression is evaluated, a symbol is replaced with the value bound to that symbol in the appropriate scope.\n",
    "\n",
    "Sometimes extra parentheses around the argument to : are needed to avoid ambiguity in parsing:"
   ],
   "cell_type": "markdown",
   "metadata": {}
  },
  {
   "cell_type": "code",
   "execution_count": 19,
   "metadata": {},
   "outputs": [
    {
     "output_type": "execute_result",
     "data": {
      "text/plain": [
       ":(:)"
      ]
     },
     "metadata": {},
     "execution_count": 19
    }
   ],
   "source": [
    ":(:)"
   ]
  },
  {
   "cell_type": "code",
   "execution_count": 20,
   "metadata": {},
   "outputs": [
    {
     "output_type": "execute_result",
     "data": {
      "text/plain": [
       ":(::)"
      ]
     },
     "metadata": {},
     "execution_count": 20
    }
   ],
   "source": [
    ":(::)"
   ]
  },
  {
   "source": [
    "## Expressions and evaluation\n",
    "### Quoting"
   ],
   "cell_type": "markdown",
   "metadata": {}
  },
  {
   "source": [
    "The second syntactic purpose of the : character is to create expression objects without using the explicit Expr constructor. This is referred to as quoting. The : character, followed by paired parentheses around a single statement of Julia code, produces an Expr object based on the enclosed code. Here is example of the short form used to quote an arithmetic expression:"
   ],
   "cell_type": "markdown",
   "metadata": {}
  },
  {
   "cell_type": "code",
   "execution_count": 22,
   "metadata": {},
   "outputs": [
    {
     "output_type": "execute_result",
     "data": {
      "text/plain": [
       ":(a + b * c + 1)"
      ]
     },
     "metadata": {},
     "execution_count": 22
    }
   ],
   "source": [
    "ex = :(a+b*c+1)"
   ]
  },
  {
   "cell_type": "code",
   "execution_count": 23,
   "metadata": {},
   "outputs": [
    {
     "output_type": "execute_result",
     "data": {
      "text/plain": [
       "Expr"
      ]
     },
     "metadata": {},
     "execution_count": 23
    }
   ],
   "source": [
    "typeof(ex)"
   ]
  },
  {
   "source": [
    "(to view the structure of this expression, try ex.head and ex.args, or use dump as above or Meta.@dump)\n",
    "\n",
    "Note that equivalent expressions may be constructed using Meta.parse or the direct Expr form:"
   ],
   "cell_type": "markdown",
   "metadata": {}
  },
  {
   "cell_type": "code",
   "execution_count": 24,
   "metadata": {},
   "outputs": [
    {
     "output_type": "execute_result",
     "data": {
      "text/plain": [
       "true"
      ]
     },
     "metadata": {},
     "execution_count": 24
    }
   ],
   "source": [
    "     :(a + b*c + 1)       ==\n",
    "Meta.parse(\"a + b*c + 1\") ==\n",
    "Expr(:call, :+, :a, Expr(:call, :*, :b, :c), 1)"
   ]
  },
  {
   "source": [
    "Expressions provided by the parser generally only have symbols, other expressions, and literal values as their args, whereas expressions constructed by Julia code can have arbitrary run-time values without literal forms as args. In this specific example, + and a are symbols, *(b,c) is a subexpression, and 1 is a literal 64-bit signed integer.\n",
    "\n",
    "There is a second syntactic form of quoting for multiple expressions: blocks of code enclosed in quote ... end."
   ],
   "cell_type": "markdown",
   "metadata": {}
  },
  {
   "cell_type": "code",
   "execution_count": 25,
   "metadata": {},
   "outputs": [
    {
     "output_type": "execute_result",
     "data": {
      "text/plain": [
       "quote\n",
       "    #= In[25]:2 =#\n",
       "    x = 1\n",
       "    #= In[25]:3 =#\n",
       "    y = 2\n",
       "    #= In[25]:4 =#\n",
       "    x + y\n",
       "end"
      ]
     },
     "metadata": {},
     "execution_count": 25
    }
   ],
   "source": [
    "ex = quote\n",
    "    x = 1\n",
    "    y = 2\n",
    "    x + y\n",
    "end"
   ]
  },
  {
   "cell_type": "code",
   "execution_count": 26,
   "metadata": {},
   "outputs": [
    {
     "output_type": "execute_result",
     "data": {
      "text/plain": [
       "Expr"
      ]
     },
     "metadata": {},
     "execution_count": 26
    }
   ],
   "source": [
    "typeof(ex)"
   ]
  },
  {
   "source": [
    "### Interpolation"
   ],
   "cell_type": "markdown",
   "metadata": {}
  },
  {
   "source": [
    "Direct construction of Expr objects with value arguments is powerful, but Expr constructors can be tedious compared to \"normal\" Julia syntax. As an alternative, Julia allows interpolation of literals or expressions into quoted expressions. Interpolation is indicated by a prefix $.\n",
    "\n",
    "In this example, the value of variable a is interpolated:"
   ],
   "cell_type": "markdown",
   "metadata": {}
  },
  {
   "cell_type": "code",
   "execution_count": 28,
   "metadata": {},
   "outputs": [],
   "source": [
    "a = 1;"
   ]
  },
  {
   "cell_type": "code",
   "execution_count": 29,
   "metadata": {},
   "outputs": [
    {
     "output_type": "execute_result",
     "data": {
      "text/plain": [
       ":(1 + b)"
      ]
     },
     "metadata": {},
     "execution_count": 29
    }
   ],
   "source": [
    "ex = :($a + b)"
   ]
  },
  {
   "source": [
    "Interpolating into an unquoted expression is not supported and will cause a compile-time error:"
   ],
   "cell_type": "markdown",
   "metadata": {}
  },
  {
   "cell_type": "code",
   "execution_count": 30,
   "metadata": {},
   "outputs": [
    {
     "output_type": "error",
     "ename": "ErrorException",
     "evalue": "syntax: \"$\" expression outside quote",
     "traceback": [
      "syntax: \"$\" expression outside quote",
      "",
      "Stacktrace:",
      " [1] top-level scope at /home/scurrra/.julia/packages/IJulia/IDNmS/src/kernel.jl:53"
     ]
    }
   ],
   "source": [
    "$a + b"
   ]
  },
  {
   "source": [
    "In this example, the tuple (1,2,3) is interpolated as an expression into a conditional test:"
   ],
   "cell_type": "markdown",
   "metadata": {}
  },
  {
   "cell_type": "code",
   "execution_count": 31,
   "metadata": {},
   "outputs": [
    {
     "output_type": "execute_result",
     "data": {
      "text/plain": [
       ":(a in (1, 2, 3))"
      ]
     },
     "metadata": {},
     "execution_count": 31
    }
   ],
   "source": [
    "ex = :(a in $:((1,2,3)) )"
   ]
  },
  {
   "source": [
    "The use of $ for expression interpolation is intentionally reminiscent of string interpolation and command interpolation. Expression interpolation allows convenient, readable programmatic construction of complex Julia expressions."
   ],
   "cell_type": "markdown",
   "metadata": {}
  },
  {
   "source": [
    "### Splatting interpolation"
   ],
   "cell_type": "markdown",
   "metadata": {}
  },
  {
   "source": [
    "Notice that the \\$ interpolation syntax allows inserting only a single expression into an enclosing expression. Occasionally, you have an array of expressions and need them all to become arguments of the surrounding expression. This can be done with the syntax \\$(xs...). For example, the following code generates a function call where the number of arguments is determined programmatically:"
   ],
   "cell_type": "markdown",
   "metadata": {}
  },
  {
   "cell_type": "code",
   "execution_count": 32,
   "metadata": {},
   "outputs": [
    {
     "output_type": "execute_result",
     "data": {
      "text/plain": [
       ":(f(1, x, y, z))"
      ]
     },
     "metadata": {},
     "execution_count": 32
    }
   ],
   "source": [
    "args = [:x, :y, :z];\n",
    ":(f(1, $(args...)))"
   ]
  },
  {
   "source": [
    "### Nested quote"
   ],
   "cell_type": "markdown",
   "metadata": {}
  },
  {
   "source": [
    "Naturally, it is possible for quote expressions to contain other quote expressions. Understanding how interpolation works in these cases can be a bit tricky. Consider this example:"
   ],
   "cell_type": "markdown",
   "metadata": {}
  },
  {
   "cell_type": "code",
   "execution_count": 34,
   "metadata": {},
   "outputs": [
    {
     "output_type": "execute_result",
     "data": {
      "text/plain": [
       "quote\n",
       "    #= In[34]:2 =#\n",
       "    quote\n",
       "        #= In[34]:2 =#\n",
       "        $x\n",
       "    end\n",
       "end"
      ]
     },
     "metadata": {},
     "execution_count": 34
    }
   ],
   "source": [
    "x = :(1 + 2);\n",
    "e = quote quote $x end end"
   ]
  },
  {
   "source": [
    "Notice that the result contains $x, which means that x has not been evaluated yet. In other words, the $ expression \"belongs to\" the inner quote expression, and so its argument is only evaluated when the inner quote expression is:"
   ],
   "cell_type": "markdown",
   "metadata": {}
  },
  {
   "cell_type": "code",
   "execution_count": 35,
   "metadata": {},
   "outputs": [
    {
     "output_type": "execute_result",
     "data": {
      "text/plain": [
       "quote\n",
       "    #= In[34]:2 =#\n",
       "    1 + 2\n",
       "end"
      ]
     },
     "metadata": {},
     "execution_count": 35
    }
   ],
   "source": [
    "eval(e)"
   ]
  },
  {
   "source": [
    "However, the outer quote expression is able to interpolate values inside the \\$ in the inner quote. This is done with multiple \\$s:"
   ],
   "cell_type": "markdown",
   "metadata": {}
  },
  {
   "cell_type": "code",
   "execution_count": 36,
   "metadata": {},
   "outputs": [
    {
     "output_type": "execute_result",
     "data": {
      "text/plain": [
       "quote\n",
       "    #= In[36]:1 =#\n",
       "    quote\n",
       "        #= In[36]:1 =#\n",
       "        $(1 + 2)\n",
       "    end\n",
       "end"
      ]
     },
     "metadata": {},
     "execution_count": 36
    }
   ],
   "source": [
    "e = quote quote $$x end end"
   ]
  },
  {
   "source": [
    "Notice that (1 + 2) now appears in the result instead of the symbol x. Evaluating this expression yields an interpolated 3:"
   ],
   "cell_type": "markdown",
   "metadata": {}
  },
  {
   "cell_type": "code",
   "execution_count": 37,
   "metadata": {},
   "outputs": [
    {
     "output_type": "execute_result",
     "data": {
      "text/plain": [
       "quote\n",
       "    #= In[36]:1 =#\n",
       "    3\n",
       "end"
      ]
     },
     "metadata": {},
     "execution_count": 37
    }
   ],
   "source": [
    "eval(e)"
   ]
  },
  {
   "source": [
    "The intuition behind this behavior is that x is evaluated once for each $: one $ works similarly to eval(:x), giving x's value, while two $s do the equivalent of eval(eval(:x))."
   ],
   "cell_type": "markdown",
   "metadata": {}
  },
  {
   "source": [
    "### QuoteNode"
   ],
   "cell_type": "markdown",
   "metadata": {}
  },
  {
   "source": [
    "The usual representation of a quote form in an AST is an Expr with head :quote:"
   ],
   "cell_type": "markdown",
   "metadata": {}
  },
  {
   "cell_type": "code",
   "execution_count": 40,
   "metadata": {},
   "outputs": [
    {
     "output_type": "stream",
     "name": "stdout",
     "text": [
      "Expr\n  head: Symbol quote\n  args: Array{Any}((1,))\n    1: Expr\n      head: Symbol call\n      args: Array{Any}((3,))\n        1: Symbol +\n        2: Int64 1\n        3: Int64 2\n"
     ]
    }
   ],
   "source": [
    "dump(Meta.parse(\":(1+2)\"))"
   ]
  },
  {
   "source": [
    "As we have seen, such expressions support interpolation with $. However, in some situations it is necessary to quote code without performing interpolation. This kind of quoting does not yet have syntax, but is represented internally as an object of type QuoteNode:"
   ],
   "cell_type": "markdown",
   "metadata": {}
  },
  {
   "cell_type": "code",
   "execution_count": 41,
   "metadata": {},
   "outputs": [
    {
     "output_type": "execute_result",
     "data": {
      "text/plain": [
       "3"
      ]
     },
     "metadata": {},
     "execution_count": 41
    }
   ],
   "source": [
    "eval(Meta.quot(Expr(:$, :(1+2))))"
   ]
  },
  {
   "cell_type": "code",
   "execution_count": 42,
   "metadata": {},
   "outputs": [
    {
     "output_type": "execute_result",
     "data": {
      "text/plain": [
       ":($(Expr(:$, :(1 + 2))))"
      ]
     },
     "metadata": {},
     "execution_count": 42
    }
   ],
   "source": [
    "eval(QuoteNode(Expr(:$, :(1+2))))"
   ]
  },
  {
   "source": [
    "The parser yields QuoteNodes for simple quoted items like symbols:"
   ],
   "cell_type": "markdown",
   "metadata": {}
  },
  {
   "cell_type": "code",
   "execution_count": 43,
   "metadata": {},
   "outputs": [
    {
     "output_type": "stream",
     "name": "stdout",
     "text": [
      "QuoteNode\n  value: Symbol x\n"
     ]
    }
   ],
   "source": [
    "dump(Meta.parse(\":x\"))"
   ]
  },
  {
   "source": [
    "QuoteNode can also be used for certain advanced metaprogramming tasks."
   ],
   "cell_type": "markdown",
   "metadata": {}
  },
  {
   "source": [
    "### Evaluating expressions"
   ],
   "cell_type": "markdown",
   "metadata": {}
  },
  {
   "source": [
    "Given an expression object, one can cause Julia to evaluate (execute) it at global scope using eval:"
   ],
   "cell_type": "markdown",
   "metadata": {}
  },
  {
   "cell_type": "code",
   "execution_count": 45,
   "metadata": {},
   "outputs": [
    {
     "output_type": "execute_result",
     "data": {
      "text/plain": [
       ":(1 + 2)"
      ]
     },
     "metadata": {},
     "execution_count": 45
    }
   ],
   "source": [
    ":(1 + 2)"
   ]
  },
  {
   "cell_type": "code",
   "execution_count": 46,
   "metadata": {},
   "outputs": [
    {
     "output_type": "execute_result",
     "data": {
      "text/plain": [
       "3"
      ]
     },
     "metadata": {},
     "execution_count": 46
    }
   ],
   "source": [
    "eval(ans)"
   ]
  },
  {
   "cell_type": "code",
   "execution_count": 47,
   "metadata": {},
   "outputs": [
    {
     "output_type": "execute_result",
     "data": {
      "text/plain": [
       ":(a + b)"
      ]
     },
     "metadata": {},
     "execution_count": 47
    }
   ],
   "source": [
    "ex = :(a + b)"
   ]
  },
  {
   "cell_type": "code",
   "execution_count": 48,
   "metadata": {},
   "outputs": [
    {
     "output_type": "error",
     "ename": "UndefVarError",
     "evalue": "UndefVarError: b not defined",
     "traceback": [
      "UndefVarError: b not defined",
      "",
      "Stacktrace:",
      " [1] top-level scope at /home/scurrra/.julia/packages/IJulia/IDNmS/src/kernel.jl:53",
      " [2] eval at ./boot.jl:331 [inlined]",
      " [3] eval(::Expr) at ./client.jl:449",
      " [4] top-level scope at In[48]:1"
     ]
    }
   ],
   "source": [
    "eval(ex)"
   ]
  },
  {
   "cell_type": "code",
   "execution_count": 49,
   "metadata": {},
   "outputs": [],
   "source": [
    "a = 1; b = 2;"
   ]
  },
  {
   "cell_type": "code",
   "execution_count": 50,
   "metadata": {},
   "outputs": [
    {
     "output_type": "execute_result",
     "data": {
      "text/plain": [
       "3"
      ]
     },
     "metadata": {},
     "execution_count": 50
    }
   ],
   "source": [
    "eval(ex)"
   ]
  },
  {
   "source": [
    "Every module has its own eval function that evaluates expressions in its global scope. Expressions passed to eval are not limited to returning values – they can also have side-effects that alter the state of the enclosing module's environment:"
   ],
   "cell_type": "markdown",
   "metadata": {}
  },
  {
   "cell_type": "code",
   "execution_count": 53,
   "metadata": {},
   "outputs": [
    {
     "output_type": "execute_result",
     "data": {
      "text/plain": [
       ":(z = 1)"
      ]
     },
     "metadata": {},
     "execution_count": 53
    }
   ],
   "source": [
    "ex = :(z = 1)"
   ]
  },
  {
   "cell_type": "code",
   "execution_count": 54,
   "metadata": {},
   "outputs": [
    {
     "output_type": "error",
     "ename": "UndefVarError",
     "evalue": "UndefVarError: z not defined",
     "traceback": [
      "UndefVarError: z not defined",
      "",
      "Stacktrace:",
      " [1] top-level scope at In[54]:1"
     ]
    }
   ],
   "source": [
    "z"
   ]
  },
  {
   "cell_type": "code",
   "execution_count": 55,
   "metadata": {},
   "outputs": [
    {
     "output_type": "execute_result",
     "data": {
      "text/plain": [
       "1"
      ]
     },
     "metadata": {},
     "execution_count": 55
    }
   ],
   "source": [
    "eval(ex)"
   ]
  },
  {
   "cell_type": "code",
   "execution_count": 56,
   "metadata": {},
   "outputs": [
    {
     "output_type": "execute_result",
     "data": {
      "text/plain": [
       "1"
      ]
     },
     "metadata": {},
     "execution_count": 56
    }
   ],
   "source": [
    "z"
   ]
  },
  {
   "source": [
    "Here, the evaluation of an expression object causes a value to be assigned to the global variable x.\n",
    "\n",
    "Since expressions are just Expr objects which can be constructed programmatically and then evaluated, it is possible to dynamically generate arbitrary code which can then be run using eval. Here is a simple example:"
   ],
   "cell_type": "markdown",
   "metadata": {}
  },
  {
   "cell_type": "code",
   "execution_count": 57,
   "metadata": {},
   "outputs": [
    {
     "output_type": "execute_result",
     "data": {
      "text/plain": [
       ":(1 + b)"
      ]
     },
     "metadata": {},
     "execution_count": 57
    }
   ],
   "source": [
    "a = 1;\n",
    "\n",
    "ex = Expr(:call, :+, a, :b)"
   ]
  },
  {
   "cell_type": "code",
   "execution_count": 58,
   "metadata": {},
   "outputs": [],
   "source": [
    "a = 0; b = 2;"
   ]
  },
  {
   "cell_type": "code",
   "execution_count": 59,
   "metadata": {},
   "outputs": [
    {
     "output_type": "execute_result",
     "data": {
      "text/plain": [
       "3"
      ]
     },
     "metadata": {},
     "execution_count": 59
    }
   ],
   "source": [
    "eval(ex)"
   ]
  },
  {
   "source": [
    "The value of a is used to construct the expression ex which applies the + function to the value 1 and the variable b. Note the important distinction between the way a and b are used:\n",
    "\n",
    "    - The value of the variable a at expression construction time is used as an immediate value in the expression. Thus, the value of a when the expression is evaluated no longer matters: the value in the expression is already 1, independent of whatever the value of a might be.\n",
    "    - On the other hand, the symbol :b is used in the expression construction, so the value of the variable b at that time is irrelevant – :b is just a symbol and the variable b need not even be defined. At expression evaluation time, however, the value of the symbol :b is resolved by looking up the value of the variable b."
   ],
   "cell_type": "markdown",
   "metadata": {}
  },
  {
   "source": [
    "### Functions on Expressions"
   ],
   "cell_type": "markdown",
   "metadata": {}
  },
  {
   "source": [
    "As hinted above, one extremely useful feature of Julia is the capability to generate and manipulate Julia code within Julia itself. We have already seen one example of a function returning Expr objects: the parse function, which takes a string of Julia code and returns the corresponding Expr. A function can also take one or more Expr objects as arguments, and return another Expr. Here is a simple, motivating example:"
   ],
   "cell_type": "markdown",
   "metadata": {}
  },
  {
   "cell_type": "code",
   "execution_count": 62,
   "metadata": {},
   "outputs": [
    {
     "output_type": "execute_result",
     "data": {
      "text/plain": [
       "math_expr (generic function with 1 method)"
      ]
     },
     "metadata": {},
     "execution_count": 62
    }
   ],
   "source": [
    "function math_expr(op, op1, op2)\n",
    "    expr = Expr(:call, op, op1, op2)\n",
    "    return expr\n",
    "end"
   ]
  },
  {
   "cell_type": "code",
   "execution_count": 63,
   "metadata": {},
   "outputs": [
    {
     "output_type": "execute_result",
     "data": {
      "text/plain": [
       ":(1 + 4 * 5)"
      ]
     },
     "metadata": {},
     "execution_count": 63
    }
   ],
   "source": [
    "ex = math_expr(:+, 1, Expr(:call, :*, 4, 5))"
   ]
  },
  {
   "cell_type": "code",
   "execution_count": 64,
   "metadata": {},
   "outputs": [
    {
     "output_type": "execute_result",
     "data": {
      "text/plain": [
       "21"
      ]
     },
     "metadata": {},
     "execution_count": 64
    }
   ],
   "source": [
    "eval(ex)"
   ]
  },
  {
   "source": [
    "As another example, here is a function that doubles any numeric argument, but leaves expressions alone:"
   ],
   "cell_type": "markdown",
   "metadata": {}
  },
  {
   "cell_type": "code",
   "execution_count": 65,
   "metadata": {},
   "outputs": [
    {
     "output_type": "execute_result",
     "data": {
      "text/plain": [
       "make_expr2 (generic function with 1 method)"
      ]
     },
     "metadata": {},
     "execution_count": 65
    }
   ],
   "source": [
    "function make_expr2(op, opr1, opr2)\n",
    "    opr1f, opr2f = map(x -> isa(x, Number) ? 2*x : x, (opr1, opr2))\n",
    "    retexpr = Expr(:call, op, opr1f, opr2f)\n",
    "    return retexpr\n",
    "end"
   ]
  },
  {
   "cell_type": "code",
   "execution_count": 66,
   "metadata": {},
   "outputs": [
    {
     "output_type": "execute_result",
     "data": {
      "text/plain": [
       ":(2 + 4)"
      ]
     },
     "metadata": {},
     "execution_count": 66
    }
   ],
   "source": [
    "make_expr2(:+, 1, 2)"
   ]
  },
  {
   "cell_type": "code",
   "execution_count": 67,
   "metadata": {},
   "outputs": [
    {
     "output_type": "execute_result",
     "data": {
      "text/plain": [
       ":(2 + 5 * 8)"
      ]
     },
     "metadata": {},
     "execution_count": 67
    }
   ],
   "source": [
    "ex = make_expr2(:+, 1, Expr(:call, :*, 5, 8))"
   ]
  },
  {
   "cell_type": "code",
   "execution_count": 68,
   "metadata": {},
   "outputs": [
    {
     "output_type": "execute_result",
     "data": {
      "text/plain": [
       "42"
      ]
     },
     "metadata": {},
     "execution_count": 68
    }
   ],
   "source": [
    "eval(ex)"
   ]
  },
  {
   "source": [
    "## Macros"
   ],
   "cell_type": "markdown",
   "metadata": {}
  },
  {
   "source": [
    "Macros provide a method to include generated code in the final body of a program. A macro maps a tuple of arguments to a returned expression, and the resulting expression is compiled directly rather than requiring a runtime eval call. Macro arguments may include expressions, literal values, and symbols."
   ],
   "cell_type": "markdown",
   "metadata": {}
  },
  {
   "source": [
    "### Basics"
   ],
   "cell_type": "markdown",
   "metadata": {}
  },
  {
   "source": [
    "Here is an extraordinarily simple macro:"
   ],
   "cell_type": "markdown",
   "metadata": {}
  },
  {
   "cell_type": "code",
   "execution_count": 71,
   "metadata": {},
   "outputs": [
    {
     "output_type": "execute_result",
     "data": {
      "text/plain": [
       "@sayhello (macro with 1 method)"
      ]
     },
     "metadata": {},
     "execution_count": 71
    }
   ],
   "source": [
    "macro sayhello()\n",
    "    return :( println(\"Hello, world!\") )\n",
    "end"
   ]
  },
  {
   "source": [
    "Macros have a dedicated character in Julia's syntax: the @ (at-sign), followed by the unique name declared in a macro NAME ... end block. In this example, the compiler will replace all instances of @sayhello with:"
   ],
   "cell_type": "markdown",
   "metadata": {}
  },
  {
   "cell_type": "code",
   "execution_count": 73,
   "metadata": {},
   "outputs": [
    {
     "output_type": "execute_result",
     "data": {
      "text/plain": [
       ":(println(\"Hello, world!\"))"
      ]
     },
     "metadata": {},
     "execution_count": 73
    }
   ],
   "source": [
    ":( println(\"Hello, world!\") )"
   ]
  },
  {
   "source": [
    "When @sayhello is entered in the REPL, the expression executes immediately, thus we only see the evaluation result:"
   ],
   "cell_type": "markdown",
   "metadata": {}
  },
  {
   "cell_type": "code",
   "execution_count": 74,
   "metadata": {},
   "outputs": [
    {
     "output_type": "stream",
     "name": "stdout",
     "text": [
      "Hello, world!\n"
     ]
    }
   ],
   "source": [
    "@sayhello()"
   ]
  },
  {
   "source": [
    "Now, consider a slightly more complex macro:"
   ],
   "cell_type": "markdown",
   "metadata": {}
  },
  {
   "cell_type": "code",
   "execution_count": 75,
   "metadata": {},
   "outputs": [
    {
     "output_type": "execute_result",
     "data": {
      "text/plain": [
       "@sayhello (macro with 2 methods)"
      ]
     },
     "metadata": {},
     "execution_count": 75
    }
   ],
   "source": [
    "macro sayhello(name)\n",
    "    return :( println(\"Hello, \", $name) )\n",
    "end"
   ]
  },
  {
   "source": [
    "This macro takes one argument: name. When @sayhello is encountered, the quoted expression is expanded to interpolate the value of the argument into the final expression:"
   ],
   "cell_type": "markdown",
   "metadata": {}
  },
  {
   "cell_type": "code",
   "execution_count": 77,
   "metadata": {},
   "outputs": [
    {
     "output_type": "stream",
     "name": "stdout",
     "text": [
      "Hello, human\n"
     ]
    }
   ],
   "source": [
    "@sayhello(\"human\")"
   ]
  },
  {
   "source": [
    "We can view the quoted return expression using the function macroexpand (important note: this is an extremely useful tool for debugging macros):"
   ],
   "cell_type": "markdown",
   "metadata": {}
  },
  {
   "cell_type": "code",
   "execution_count": 78,
   "metadata": {},
   "outputs": [
    {
     "output_type": "execute_result",
     "data": {
      "text/plain": [
       ":(Main.println(\"Hello, \", \"human\"))"
      ]
     },
     "metadata": {},
     "execution_count": 78
    }
   ],
   "source": [
    "ex = macroexpand(Main, :(@sayhello(\"human\")) )"
   ]
  },
  {
   "cell_type": "code",
   "execution_count": 79,
   "metadata": {},
   "outputs": [
    {
     "output_type": "execute_result",
     "data": {
      "text/plain": [
       "Expr"
      ]
     },
     "metadata": {},
     "execution_count": 79
    }
   ],
   "source": [
    "typeof(ex)"
   ]
  },
  {
   "source": [
    "We can see that the \"human\" literal has been interpolated into the expression.\n",
    "\n",
    "There also exists a macro @macroexpand that is perhaps a bit more convenient than the macroexpand function:"
   ],
   "cell_type": "markdown",
   "metadata": {}
  },
  {
   "cell_type": "code",
   "execution_count": 80,
   "metadata": {},
   "outputs": [
    {
     "output_type": "execute_result",
     "data": {
      "text/plain": [
       ":(Main.println(\"Hello, \", \"human\"))"
      ]
     },
     "metadata": {},
     "execution_count": 80
    }
   ],
   "source": [
    "@macroexpand @sayhello \"human\""
   ]
  },
  {
   "source": [
    "### Hold up: why macros?"
   ],
   "cell_type": "markdown",
   "metadata": {}
  },
  {
   "source": [
    "We have already seen a function f(::Expr...) -> Expr in a previous section. In fact, macroexpand is also such a function. So, why do macros exist?\n",
    "\n",
    "Macros are necessary because they execute when code is parsed, therefore, macros allow the programmer to generate and include fragments of customized code before the full program is run. To illustrate the difference, consider the following example:"
   ],
   "cell_type": "markdown",
   "metadata": {}
  },
  {
   "cell_type": "code",
   "execution_count": 81,
   "metadata": {},
   "outputs": [
    {
     "output_type": "execute_result",
     "data": {
      "text/plain": [
       "@twostep (macro with 1 method)"
      ]
     },
     "metadata": {},
     "execution_count": 81
    }
   ],
   "source": [
    "macro twostep(arg)\n",
    "    println(\"I execute at parse time. The argument is: \", arg)\n",
    "    return :(println(\"I execute at runtime. The argument is: \", $arg))\n",
    "end"
   ]
  },
  {
   "cell_type": "code",
   "execution_count": 82,
   "metadata": {},
   "outputs": [
    {
     "output_type": "stream",
     "name": "stdout",
     "text": [
      "I execute at parse time. The argument is: :((1, 2, 3))\n"
     ]
    }
   ],
   "source": [
    "ex = macroexpand(Main, :(@twostep :(1, 2, 3)) );"
   ]
  },
  {
   "source": [
    "The first call to println is executed when macroexpand is called. The resulting expression contains only the second println:"
   ],
   "cell_type": "markdown",
   "metadata": {}
  },
  {
   "cell_type": "code",
   "execution_count": 83,
   "metadata": {},
   "outputs": [
    {
     "output_type": "execute_result",
     "data": {
      "text/plain": [
       "Expr"
      ]
     },
     "metadata": {},
     "execution_count": 83
    }
   ],
   "source": [
    "typeof(ex)"
   ]
  },
  {
   "cell_type": "code",
   "execution_count": 84,
   "metadata": {},
   "outputs": [
    {
     "output_type": "execute_result",
     "data": {
      "text/plain": [
       ":(Main.println(\"I execute at runtime. The argument is: \", $(Expr(:copyast, :($(QuoteNode(:((1, 2, 3)))))))))"
      ]
     },
     "metadata": {},
     "execution_count": 84
    }
   ],
   "source": [
    "ex"
   ]
  },
  {
   "cell_type": "code",
   "execution_count": 85,
   "metadata": {},
   "outputs": [
    {
     "output_type": "stream",
     "name": "stdout",
     "text": [
      "I execute at runtime. The argument is: (1, 2, 3)\n"
     ]
    }
   ],
   "source": [
    "eval(ex)"
   ]
  },
  {
   "source": [
    "### Macro invocation"
   ],
   "cell_type": "markdown",
   "metadata": {}
  },
  {
   "source": [
    "Macros are invoked with the following general syntax:\n",
    "\n",
    "    @name expr1 expr2 ...\n",
    "    @name(expr1, expr2, ...)\n",
    "\n",
    "Note the distinguishing @ before the macro name and the lack of commas between the argument expressions in the first form, and the lack of whitespace after @name in the second form. The two styles should not be mixed. For example, the following syntax is different from the examples above; it passes the tuple (expr1, expr2, ...) as one argument to the macro:\n",
    "\n",
    "    @name (expr1, expr2, ...)\n",
    "\n",
    "An alternative way to invoke a macro over an array literal (or comprehension) is to juxtapose both without using parentheses. In this case, the array will be the only expression fed to the macro. The following syntax is equivalent (and different from @name \\[a b\\] * v):\n",
    "\n",
    "    @name[a b] * v\n",
    "    @name([a b]) * v\n",
    "\n",
    "It is important to emphasize that macros receive their arguments as expressions, literals, or symbols. One way to explore macro arguments is to call the show function within the macro body:"
   ],
   "cell_type": "markdown",
   "metadata": {}
  },
  {
   "cell_type": "code",
   "execution_count": 86,
   "metadata": {},
   "outputs": [
    {
     "output_type": "execute_result",
     "data": {
      "text/plain": [
       "@showarg (macro with 1 method)"
      ]
     },
     "metadata": {},
     "execution_count": 86
    }
   ],
   "source": [
    "macro showarg(x)\n",
    "    show(x)\n",
    "    # ... remainder of macro, returning an expression\n",
    "end"
   ]
  },
  {
   "cell_type": "code",
   "execution_count": 87,
   "metadata": {},
   "outputs": [
    {
     "output_type": "stream",
     "name": "stdout",
     "text": [
      ":a"
     ]
    }
   ],
   "source": [
    "@showarg(a)"
   ]
  },
  {
   "cell_type": "code",
   "execution_count": 88,
   "metadata": {},
   "outputs": [
    {
     "output_type": "stream",
     "name": "stdout",
     "text": [
      ":(1 + 1)"
     ]
    }
   ],
   "source": [
    "@showarg(1+1)"
   ]
  },
  {
   "cell_type": "code",
   "execution_count": 89,
   "metadata": {},
   "outputs": [
    {
     "output_type": "stream",
     "name": "stdout",
     "text": [
      ":(println(\"Yo!\"))"
     ]
    }
   ],
   "source": [
    "@showarg(println(\"Yo!\"))"
   ]
  },
  {
   "source": [
    "In addition to the given argument list, every macro is passed extra arguments named __source__ and __module__.\n",
    "\n",
    "The argument __source__ provides information (in the form of a LineNumberNode object) about the parser location of the @ sign from the macro invocation. This allows macros to include better error diagnostic information, and is commonly used by logging, string-parser macros, and docs, for example, as well as to implement the @__LINE__, @__FILE__, and @__DIR__ macros.\n",
    "\n",
    "The location information can be accessed by referencing __source__.line and __source__.file:"
   ],
   "cell_type": "markdown",
   "metadata": {}
  },
  {
   "cell_type": "code",
   "execution_count": 90,
   "metadata": {},
   "outputs": [
    {
     "output_type": "execute_result",
     "data": {
      "text/plain": [
       "@__LOCATION__ (macro with 1 method)"
      ]
     },
     "metadata": {},
     "execution_count": 90
    }
   ],
   "source": [
    "macro __LOCATION__(); return QuoteNode(__source__); end"
   ]
  },
  {
   "cell_type": "code",
   "execution_count": 91,
   "metadata": {},
   "outputs": [
    {
     "output_type": "stream",
     "name": "stdout",
     "text": [
      "LineNumberNode\n  line: Int64 2\n  file: Symbol In[91]\n"
     ]
    }
   ],
   "source": [
    "dump(\n",
    "            @__LOCATION__(\n",
    "       ))"
   ]
  },
  {
   "source": [
    "The argument __module__ provides information (in the form of a Module object) about the expansion context of the macro invocation. This allows macros to look up contextual information, such as existing bindings, or to insert the value as an extra argument to a runtime function call doing self-reflection in the current module."
   ],
   "cell_type": "markdown",
   "metadata": {}
  },
  {
   "source": [
    "### Building an advanced macro"
   ],
   "cell_type": "markdown",
   "metadata": {}
  },
  {
   "source": [
    "Here is a simplified definition of Julia's @assert macro:"
   ],
   "cell_type": "markdown",
   "metadata": {}
  },
  {
   "cell_type": "code",
   "execution_count": 93,
   "metadata": {},
   "outputs": [
    {
     "output_type": "execute_result",
     "data": {
      "text/plain": [
       "@assert (macro with 1 method)"
      ]
     },
     "metadata": {},
     "execution_count": 93
    }
   ],
   "source": [
    "macro assert(ex)\n",
    "    return :( $ex ? nothing : throw(AssertionError($(string(ex)))) )\n",
    "end"
   ]
  },
  {
   "source": [
    "This macro can be used like this:"
   ],
   "cell_type": "markdown",
   "metadata": {}
  },
  {
   "cell_type": "code",
   "execution_count": 94,
   "metadata": {},
   "outputs": [],
   "source": [
    "@assert 1 == 1.0"
   ]
  },
  {
   "cell_type": "code",
   "execution_count": 95,
   "metadata": {},
   "outputs": [
    {
     "output_type": "error",
     "ename": "AssertionError",
     "evalue": "AssertionError: 1 == 0",
     "traceback": [
      "AssertionError: 1 == 0",
      "",
      "Stacktrace:",
      " [1] top-level scope at In[95]:1"
     ]
    }
   ],
   "source": [
    "@assert 1 == 0"
   ]
  },
  {
   "source": [
    "In place of the written syntax, the macro call is expanded at parse time to its returned result. This is equivalent to writing:\n",
    "\n",
    "    1 == 1.0 ? nothing : throw(AssertionError(\"1 == 1.0\"))\n",
    "    1 == 0 ? nothing : throw(AssertionError(\"1 == 0\"))\n",
    "\n",
    "That is, in the first call, the expression :(1 == 1.0) is spliced into the test condition slot, while the value of string(:(1 == 1.0)) is spliced into the assertion message slot. The entire expression, thus constructed, is placed into the syntax tree where the @assert macro call occurs. Then at execution time, if the test expression evaluates to true, then nothing is returned, whereas if the test is false, an error is raised indicating the asserted expression that was false. Notice that it would not be possible to write this as a function, since only the value of the condition is available and it would be impossible to display the expression that computed it in the error message.\n",
    "\n",
    "The actual definition of @assert in Julia Base is more complicated. It allows the user to optionally specify their own error message, instead of just printing the failed expression. Just like in functions with a variable number of arguments (Varargs Functions), this is specified with an ellipses following the last argument:"
   ],
   "cell_type": "markdown",
   "metadata": {}
  },
  {
   "cell_type": "code",
   "execution_count": 96,
   "metadata": {},
   "outputs": [
    {
     "output_type": "execute_result",
     "data": {
      "text/plain": [
       "@assert (macro with 2 methods)"
      ]
     },
     "metadata": {},
     "execution_count": 96
    }
   ],
   "source": [
    "macro assert(ex, msgs...)\n",
    "    msg_body = isempty(msgs) ? ex : msgs[1]\n",
    "    msg = string(msg_body)\n",
    "    return :($ex ? nothing : throw(AssertionError($msg)))\n",
    "end"
   ]
  },
  {
   "source": [
    "Now @assert has two modes of operation, depending upon the number of arguments it receives! If there's only one argument, the tuple of expressions captured by msgs will be empty and it will behave the same as the simpler definition above. But now if the user specifies a second argument, it is printed in the message body instead of the failing expression. You can inspect the result of a macro expansion with the aptly named @macroexpand macro:"
   ],
   "cell_type": "markdown",
   "metadata": {}
  },
  {
   "cell_type": "code",
   "execution_count": 97,
   "metadata": {},
   "outputs": [
    {
     "output_type": "execute_result",
     "data": {
      "text/plain": [
       ":(if Main.a == Main.b\n",
       "      Main.nothing\n",
       "  else\n",
       "      Main.throw(Main.AssertionError(\"a == b\"))\n",
       "  end)"
      ]
     },
     "metadata": {},
     "execution_count": 97
    }
   ],
   "source": [
    " @macroexpand @assert a == b"
   ]
  },
  {
   "cell_type": "code",
   "execution_count": 98,
   "metadata": {},
   "outputs": [
    {
     "output_type": "execute_result",
     "data": {
      "text/plain": [
       ":(if Main.a == Main.b\n",
       "      Main.nothing\n",
       "  else\n",
       "      Main.throw(Main.AssertionError(\"a should equal b!\"))\n",
       "  end)"
      ]
     },
     "metadata": {},
     "execution_count": 98
    }
   ],
   "source": [
    "@macroexpand @assert a==b \"a should equal b!\""
   ]
  },
  {
   "source": [
    "There is yet another case that the actual @assert macro handles: what if, in addition to printing \"a should equal b,\" we wanted to print their values? One might naively try to use string interpolation in the custom message, e.g., @assert a==b \"a (\\$a) should equal b (\\$b)!\", but this won't work as expected with the above macro. Can you see why? Recall from string interpolation that an interpolated string is rewritten to a call to string. Compare:"
   ],
   "cell_type": "markdown",
   "metadata": {}
  },
  {
   "cell_type": "code",
   "execution_count": 100,
   "metadata": {},
   "outputs": [
    {
     "output_type": "execute_result",
     "data": {
      "text/plain": [
       "String"
      ]
     },
     "metadata": {},
     "execution_count": 100
    }
   ],
   "source": [
    "typeof(:(\"a should equal b\"))"
   ]
  },
  {
   "cell_type": "code",
   "execution_count": 101,
   "metadata": {},
   "outputs": [
    {
     "output_type": "execute_result",
     "data": {
      "text/plain": [
       "Expr"
      ]
     },
     "metadata": {},
     "execution_count": 101
    }
   ],
   "source": [
    "typeof(:(\"a ($a) should equal b ($b)!\"))"
   ]
  },
  {
   "cell_type": "code",
   "execution_count": 102,
   "metadata": {},
   "outputs": [
    {
     "output_type": "stream",
     "name": "stdout",
     "text": [
      "Expr\n  head: Symbol string\n  args: Array{Any}((5,))\n    1: String \"a (\"\n    2: Symbol a\n    3: String \") should equal b (\"\n    4: Symbol b\n    5: String \")!\"\n"
     ]
    }
   ],
   "source": [
    "dump(:(\"a ($a) should equal b ($b)!\"))"
   ]
  },
  {
   "source": [
    "So now instead of getting a plain string in msg_body, the macro is receiving a full expression that will need to be evaluated in order to display as expected. This can be spliced directly into the returned expression as an argument to the string call; see error.jl for the complete implementation.\n",
    "\n",
    "The @assert macro makes great use of splicing into quoted expressions to simplify the manipulation of expressions inside the macro body."
   ],
   "cell_type": "markdown",
   "metadata": {}
  },
  {
   "source": [
    "### Hygiene"
   ],
   "cell_type": "markdown",
   "metadata": {}
  },
  {
   "source": [
    "An issue that arises in more complex macros is that of hygiene. In short, macros must ensure that the variables they introduce in their returned expressions do not accidentally clash with existing variables in the surrounding code they expand into. Conversely, the expressions that are passed into a macro as arguments are often expected to evaluate in the context of the surrounding code, interacting with and modifying the existing variables. Another concern arises from the fact that a macro may be called in a different module from where it was defined. In this case we need to ensure that all global variables are resolved to the correct module. Julia already has a major advantage over languages with textual macro expansion (like C) in that it only needs to consider the returned expression. All the other variables (such as msg in @assert above) follow the normal scoping block behavior.\n",
    "\n",
    "To demonstrate these issues, let us consider writing a @time macro that takes an expression as its argument, records the time, evaluates the expression, records the time again, prints the difference between the before and after times, and then has the value of the expression as its final value. The macro might look like this:\n",
    "\n",
    "    macro time(ex)\n",
    "        return quote\n",
    "            local t0 = time_ns()\n",
    "            local val = $ex\n",
    "            local t1 = time_ns()\n",
    "            println(\"elapsed time: \", (t1-t0)/1e9, \" seconds\")\n",
    "            val\n",
    "        end\n",
    "    end\n",
    "\n",
    "Here, we want t0, t1, and val to be private temporary variables, and we want time to refer to the time function in Julia Base, not to any time variable the user might have (the same applies to println). Imagine the problems that could occur if the user expression ex also contained assignments to a variable called t0, or defined its own time variable. We might get errors, or mysteriously incorrect behavior.\n",
    "\n",
    "Julia's macro expander solves these problems in the following way. First, variables within a macro result are classified as either local or global. A variable is considered local if it is assigned to (and not declared global), declared local, or used as a function argument name. Otherwise, it is considered global. Local variables are then renamed to be unique (using the gensym function, which generates new symbols), and global variables are resolved within the macro definition environment. Therefore both of the above concerns are handled; the macro's locals will not conflict with any user variables, and time and println will refer to the Julia Base definitions.\n",
    "\n",
    "One problem remains however. Consider the following use of this macro:\n",
    "\n",
    "    module MyModule\n",
    "    import Base.@time\n",
    "\n",
    "    time() = ... # compute something\n",
    "\n",
    "    @time time()\n",
    "    end\n",
    "\n",
    "Here the user expression ex is a call to time, but not the same time function that the macro uses. It clearly refers to MyModule.time. Therefore we must arrange for the code in ex to be resolved in the macro call environment. This is done by \"escaping\" the expression with esc:\n",
    "\n",
    "    macro time(ex)\n",
    "        ...\n",
    "        local val = $(esc(ex))\n",
    "        ...\n",
    "    end\n",
    "\n",
    "An expression wrapped in this manner is left alone by the macro expander and simply pasted into the output verbatim. Therefore it will be resolved in the macro call environment.\n",
    "\n",
    "This escaping mechanism can be used to \"violate\" hygiene when necessary, in order to introduce or manipulate user variables. For example, the following macro sets x to zero in the call environment:"
   ],
   "cell_type": "markdown",
   "metadata": {}
  },
  {
   "cell_type": "code",
   "execution_count": 103,
   "metadata": {},
   "outputs": [
    {
     "output_type": "execute_result",
     "data": {
      "text/plain": [
       "@zerox (macro with 1 method)"
      ]
     },
     "metadata": {},
     "execution_count": 103
    }
   ],
   "source": [
    "macro zerox()\n",
    "    return esc(:(x = 0))\n",
    "end"
   ]
  },
  {
   "cell_type": "code",
   "execution_count": 104,
   "metadata": {},
   "outputs": [
    {
     "output_type": "execute_result",
     "data": {
      "text/plain": [
       "foo (generic function with 1 method)"
      ]
     },
     "metadata": {},
     "execution_count": 104
    }
   ],
   "source": [
    "function foo()\n",
    "    x = 1\n",
    "    @zerox\n",
    "    return x # is zero\n",
    "end"
   ]
  },
  {
   "cell_type": "code",
   "execution_count": 105,
   "metadata": {},
   "outputs": [
    {
     "output_type": "execute_result",
     "data": {
      "text/plain": [
       "0"
      ]
     },
     "metadata": {},
     "execution_count": 105
    }
   ],
   "source": [
    "foo()"
   ]
  },
  {
   "source": [
    "This kind of manipulation of variables should be used judiciously, but is occasionally quite handy.\n",
    "\n",
    "Getting the hygiene rules correct can be a formidable challenge. Before using a macro, you might want to consider whether a function closure would be sufficient. Another useful strategy is to defer as much work as possible to runtime. For example, many macros simply wrap their arguments in a QuoteNode or other similar Expr. Some examples of this include @task body which simply returns schedule(Task(() -> $body)), and @eval expr, which simply returns eval(QuoteNode(expr)).\n",
    "\n",
    "To demonstrate, we might rewrite the @time example above as:\n",
    "\n",
    "    macro time(expr)\n",
    "        return :(timeit(() -> $(esc(expr))))\n",
    "    end\n",
    "\n",
    "    function timeit(f)\n",
    "        t0 = time_ns()\n",
    "        val = f()\n",
    "        t1 = time_ns()\n",
    "        println(\"elapsed time: \", (t1-t0)/1e9, \" seconds\")\n",
    "        return val\n",
    "    end\n",
    "\n",
    "However, we don't do this for a good reason: wrapping the expr in a new scope block (the anonymous function) also slightly changes the meaning of the expression (the scope of any variables in it), while we want @time to be usable with minimum impact on the wrapped code."
   ],
   "cell_type": "markdown",
   "metadata": {}
  },
  {
   "source": [
    "### Macros and dispatch\n",
    "\n",
    "Macros, just like Julia functions, are generic. This means they can also have multiple method definitions, thanks to multiple dispatch:"
   ],
   "cell_type": "markdown",
   "metadata": {}
  },
  {
   "cell_type": "code",
   "execution_count": 110,
   "metadata": {},
   "outputs": [
    {
     "output_type": "execute_result",
     "data": {
      "text/plain": [
       "@m (macro with 1 method)"
      ]
     },
     "metadata": {},
     "execution_count": 110
    }
   ],
   "source": [
    "macro m end"
   ]
  },
  {
   "cell_type": "code",
   "execution_count": 111,
   "metadata": {},
   "outputs": [
    {
     "output_type": "execute_result",
     "data": {
      "text/plain": [
       "@m (macro with 2 methods)"
      ]
     },
     "metadata": {},
     "execution_count": 111
    }
   ],
   "source": [
    "macro m(args...)\n",
    "    println(\"$(length(args)) arguments\")\n",
    "end"
   ]
  },
  {
   "cell_type": "code",
   "execution_count": 112,
   "metadata": {},
   "outputs": [
    {
     "output_type": "execute_result",
     "data": {
      "text/plain": [
       "@m (macro with 2 methods)"
      ]
     },
     "metadata": {},
     "execution_count": 112
    }
   ],
   "source": [
    "macro m(x,y)\n",
    "    println(\"Two arguments\")\n",
    "end"
   ]
  },
  {
   "cell_type": "code",
   "execution_count": 113,
   "metadata": {},
   "outputs": [
    {
     "output_type": "stream",
     "name": "stdout",
     "text": [
      "1 arguments\n"
     ]
    }
   ],
   "source": [
    "@m \"asd\""
   ]
  },
  {
   "cell_type": "code",
   "execution_count": 114,
   "metadata": {},
   "outputs": [
    {
     "output_type": "stream",
     "name": "stdout",
     "text": [
      "Two arguments\n"
     ]
    }
   ],
   "source": [
    "@m 1 2"
   ]
  },
  {
   "source": [
    "However one should keep in mind, that macro dispatch is based on the types of AST that are handed to the macro, not the types that the AST evaluates to at runtime:"
   ],
   "cell_type": "markdown",
   "metadata": {}
  },
  {
   "cell_type": "code",
   "execution_count": 115,
   "metadata": {},
   "outputs": [
    {
     "output_type": "execute_result",
     "data": {
      "text/plain": [
       "@m (macro with 3 methods)"
      ]
     },
     "metadata": {},
     "execution_count": 115
    }
   ],
   "source": [
    "macro m(::Int)\n",
    "    println(\"An Integer\")\n",
    "end"
   ]
  },
  {
   "cell_type": "code",
   "execution_count": 116,
   "metadata": {},
   "outputs": [
    {
     "output_type": "stream",
     "name": "stdout",
     "text": [
      "An Integer\n"
     ]
    }
   ],
   "source": [
    "@m 2"
   ]
  },
  {
   "cell_type": "code",
   "execution_count": 118,
   "metadata": {},
   "outputs": [
    {
     "output_type": "stream",
     "name": "stdout",
     "text": [
      "1 arguments\n"
     ]
    }
   ],
   "source": [
    "x = 2;\n",
    "@m x"
   ]
  },
  {
   "source": [
    "## Code Generation"
   ],
   "cell_type": "markdown",
   "metadata": {}
  },
  {
   "source": [
    "When a significant amount of repetitive boilerplate code is required, it is common to generate it programmatically to avoid redundancy. In most languages, this requires an extra build step, and a separate program to generate the repetitive code. In Julia, expression interpolation and eval allow such code generation to take place in the normal course of program execution. For example, consider the following custom type"
   ],
   "cell_type": "markdown",
   "metadata": {}
  },
  {
   "cell_type": "code",
   "execution_count": 121,
   "metadata": {},
   "outputs": [],
   "source": [
    "struct MyNumber\n",
    "    x::Float64\n",
    "end"
   ]
  },
  {
   "source": [
    "for which we want to add a number of methods to. We can do this programmatically in the following loop:"
   ],
   "cell_type": "markdown",
   "metadata": {}
  },
  {
   "cell_type": "code",
   "execution_count": 122,
   "metadata": {},
   "outputs": [],
   "source": [
    "for op = (:sin, :cos, :tan, :log, :exp)\n",
    "    eval(quote\n",
    "        Base.$op(a::MyNumber) = MyNumber($op(a.x))\n",
    "    end)\n",
    "end"
   ]
  },
  {
   "source": [
    "and we can now use those functions with our custom type:"
   ],
   "cell_type": "markdown",
   "metadata": {}
  },
  {
   "cell_type": "code",
   "execution_count": 123,
   "metadata": {},
   "outputs": [
    {
     "output_type": "execute_result",
     "data": {
      "text/plain": [
       "MyNumber(3.141592653589793)"
      ]
     },
     "metadata": {},
     "execution_count": 123
    }
   ],
   "source": [
    "x = MyNumber(π)"
   ]
  },
  {
   "cell_type": "code",
   "execution_count": 124,
   "metadata": {},
   "outputs": [
    {
     "output_type": "execute_result",
     "data": {
      "text/plain": [
       "MyNumber(1.2246467991473532e-16)"
      ]
     },
     "metadata": {},
     "execution_count": 124
    }
   ],
   "source": [
    "sin(x)"
   ]
  },
  {
   "cell_type": "code",
   "execution_count": 125,
   "metadata": {},
   "outputs": [
    {
     "output_type": "execute_result",
     "data": {
      "text/plain": [
       "MyNumber(-1.0)"
      ]
     },
     "metadata": {},
     "execution_count": 125
    }
   ],
   "source": [
    "cos(x)"
   ]
  },
  {
   "source": [
    "In this manner, Julia acts as its own preprocessor, and allows code generation from inside the language. The above code could be written slightly more tersely using the : prefix quoting form:\n",
    "\n",
    "    for op = (:sin, :cos, :tan, :log, :exp)\n",
    "        eval(:(Base.$op(a::MyNumber) = MyNumber($op(a.x))))\n",
    "    end\n",
    "\n",
    "This sort of in-language code generation, however, using the eval(quote(...)) pattern, is common enough that Julia comes with a macro to abbreviate this pattern:\n",
    "\n",
    "    for op = (:sin, :cos, :tan, :log, :exp)\n",
    "        @eval Base.$op(a::MyNumber) = MyNumber($op(a.x))\n",
    "    end\n",
    "\n",
    "The @eval macro rewrites this call to be precisely equivalent to the above longer versions. For longer blocks of generated code, the expression argument given to @eval can be a block:\n",
    "\n",
    "    @eval begin\n",
    "        # multiple lines\n",
    "    end"
   ],
   "cell_type": "markdown",
   "metadata": {}
  },
  {
   "source": [
    "## Non-Standard String Literals"
   ],
   "cell_type": "markdown",
   "metadata": {}
  },
  {
   "source": [
    "Recall from Strings that string literals prefixed by an identifier are called non-standard string literals, and can have different semantics than un-prefixed string literals. For example:\n",
    "\n",
    "    - r\"^\\s*(?:#|$)\" produces a regular expression object rather than a string\n",
    "    - b\"DATA\\xff\\u2200\" is a byte array literal for [68,65,84,65,255,226,136,128].\n",
    "\n",
    "Perhaps surprisingly, these behaviors are not hard-coded into the Julia parser or compiler. Instead, they are custom behaviors provided by a general mechanism that anyone can use: prefixed string literals are parsed as calls to specially-named macros. For example, the regular expression macro is just the following:\n",
    "\n",
    "    macro r_str(p)\n",
    "        Regex(p)\n",
    "    end\n",
    "\n",
    "That's all. This macro says that the literal contents of the string literal r\"^\\s*(?:#|$)\" should be passed to the @r_str macro and the result of that expansion should be placed in the syntax tree where the string literal occurs. In other words, the expression r\"^\\s*(?:#|$)\" is equivalent to placing the following object directly into the syntax tree:\n",
    "\n",
    "    Regex(\"^\\\\s*(?:#|\\$)\")\n",
    "\n",
    "Not only is the string literal form shorter and far more convenient, but it is also more efficient: since the regular expression is compiled and the Regex object is actually created when the code is compiled, the compilation occurs only once, rather than every time the code is executed. Consider if the regular expression occurs in a loop:\n",
    "\n",
    "    for line = lines\n",
    "        m = match(r\"^\\s*(?:#|$)\", line)\n",
    "        if m === nothing\n",
    "            # non-comment\n",
    "        else\n",
    "            # comment\n",
    "        end\n",
    "    end\n",
    "\n",
    "Since the regular expression r\"^\\s*(?:#|$)\" is compiled and inserted into the syntax tree when this code is parsed, the expression is only compiled once instead of each time the loop is executed. In order to accomplish this without macros, one would have to write this loop like this:\n",
    "\n",
    "    re = Regex(\"^\\\\s*(?:#|\\$)\")\n",
    "    for line = lines\n",
    "        m = match(re, line)\n",
    "        if m === nothing\n",
    "            # non-comment\n",
    "        else\n",
    "            # comment\n",
    "        end\n",
    "    end\n",
    "\n",
    "Moreover, if the compiler could not determine that the regex object was constant over all loops, certain optimizations might not be possible, making this version still less efficient than the more convenient literal form above. Of course, there are still situations where the non-literal form is more convenient: if one needs to interpolate a variable into the regular expression, one must take this more verbose approach; in cases where the regular expression pattern itself is dynamic, potentially changing upon each loop iteration, a new regular expression object must be constructed on each iteration. In the vast majority of use cases, however, regular expressions are not constructed based on run-time data. In this majority of cases, the ability to write regular expressions as compile-time values is invaluable.\n",
    "\n",
    "Like non-standard string literals, non-standard command literals exist using a prefixed variant of the command literal syntax. The command literal custom`literal` is parsed as @custom_cmd \"literal\". Julia itself does not contain any non-standard command literals, but packages can make use of this syntax. Aside from the different syntax and the _cmd suffix instead of the _str suffix, non-standard command literals behave exactly like non-standard string literals.\n",
    "\n",
    "In the event that two modules provide non-standard string or command literals with the same name, it is possible to qualify the string or command literal with a module name. For instance, if both Foo and Bar provide non-standard string literal @x_str, then one can write Foo.x\"literal\" or Bar.x\"literal\" to disambiguate between the two.\n",
    "\n",
    "The mechanism for user-defined string literals is deeply, profoundly powerful. Not only are Julia's non-standard literals implemented using it, but also the command literal syntax (`echo \"Hello, $person\"`) is implemented with the following innocuous-looking macro:\n",
    "\n",
    "    macro cmd(str)\n",
    "        :(cmd_gen($(shell_parse(str)[1])))\n",
    "    end\n",
    "\n",
    "Of course, a large amount of complexity is hidden in the functions used in this macro definition, but they are just functions, written entirely in Julia. You can read their source and see precisely what they do – and all they do is construct expression objects to be inserted into your program's syntax tree."
   ],
   "cell_type": "markdown",
   "metadata": {}
  },
  {
   "source": [
    "## Generated functions"
   ],
   "cell_type": "markdown",
   "metadata": {}
  },
  {
   "source": [
    "A very special macro is @generated, which allows you to define so-called generated functions. These have the capability to generate specialized code depending on the types of their arguments with more flexibility and/or less code than what can be achieved with multiple dispatch. While macros work with expressions at parse time and cannot access the types of their inputs, a generated function gets expanded at a time when the types of the arguments are known, but the function is not yet compiled.\n",
    "\n",
    "Instead of performing some calculation or action, a generated function declaration returns a quoted expression which then forms the body for the method corresponding to the types of the arguments. When a generated function is called, the expression it returns is compiled and then run. To make this efficient, the result is usually cached. And to make this inferable, only a limited subset of the language is usable. Thus, generated functions provide a flexible way to move work from run time to compile time, at the expense of greater restrictions on allowed constructs.\n",
    "\n",
    "When defining generated functions, there are five main differences to ordinary functions:\n",
    "\n",
    "    - You annotate the function declaration with the @generated macro. This adds some information to the AST that lets the compiler know that this is a generated function.\n",
    "    - In the body of the generated function you only have access to the types of the arguments – not their values.\n",
    "    - Instead of calculating something or performing some action, you return a quoted expression which, when evaluated, does what you want.\n",
    "    - Generated functions are only permitted to call functions that were defined before the definition of the generated function. (Failure to follow this may result in getting MethodErrors referring to functions from a future world-age.)\n",
    "    - Generated functions must not mutate or observe any non-constant global state (including, for example, IO, locks, non-local dictionaries, or using hasmethod). This means they can only read global constants, and cannot have any side effects. In other words, they must be completely pure. Due to an implementation limitation, this also means that they currently cannot define a closure or generator.\n",
    "\n",
    "It's easiest to illustrate this with an example. We can declare a generated function foo as"
   ],
   "cell_type": "markdown",
   "metadata": {}
  },
  {
   "cell_type": "code",
   "execution_count": 127,
   "metadata": {},
   "outputs": [
    {
     "output_type": "execute_result",
     "data": {
      "text/plain": [
       "foo (generic function with 2 methods)"
      ]
     },
     "metadata": {},
     "execution_count": 127
    }
   ],
   "source": [
    "@generated function foo(x)\n",
    "    Core.println(x)\n",
    "    return :(x * x)\n",
    "end"
   ]
  },
  {
   "source": [
    "Note that the body returns a quoted expression, namely :(x * x), rather than just the value of x * x.\n",
    "\n",
    "From the caller's perspective, this is identical to a regular function; in fact, you don't have to know whether you're calling a regular or generated function. Let's see how foo behaves:"
   ],
   "cell_type": "markdown",
   "metadata": {}
  },
  {
   "cell_type": "code",
   "execution_count": 128,
   "metadata": {},
   "outputs": [
    {
     "output_type": "stream",
     "name": "stdout",
     "text": [
      "Int64\n"
     ]
    }
   ],
   "source": [
    "x = foo(2); # note: output is from println() statement in the body"
   ]
  },
  {
   "cell_type": "code",
   "execution_count": 129,
   "metadata": {},
   "outputs": [
    {
     "output_type": "execute_result",
     "data": {
      "text/plain": [
       "4"
      ]
     },
     "metadata": {},
     "execution_count": 129
    }
   ],
   "source": [
    "x           # now we print x"
   ]
  },
  {
   "cell_type": "code",
   "execution_count": 130,
   "metadata": {},
   "outputs": [
    {
     "output_type": "stream",
     "name": "stdout",
     "text": [
      "String\n"
     ]
    }
   ],
   "source": [
    "y = foo(\"bar\");"
   ]
  },
  {
   "cell_type": "code",
   "execution_count": 131,
   "metadata": {},
   "outputs": [
    {
     "output_type": "execute_result",
     "data": {
      "text/plain": [
       "\"barbar\""
      ]
     },
     "metadata": {},
     "execution_count": 131
    }
   ],
   "source": [
    "y"
   ]
  },
  {
   "source": [
    "So, we see that in the body of the generated function, x is the type of the passed argument, and the value returned by the generated function, is the result of evaluating the quoted expression we returned from the definition, now with the value of x.\n",
    "\n",
    "What happens if we evaluate foo again with a type that we have already used?"
   ],
   "cell_type": "markdown",
   "metadata": {}
  },
  {
   "cell_type": "code",
   "execution_count": 132,
   "metadata": {},
   "outputs": [
    {
     "output_type": "execute_result",
     "data": {
      "text/plain": [
       "16"
      ]
     },
     "metadata": {},
     "execution_count": 132
    }
   ],
   "source": [
    "foo(4)"
   ]
  },
  {
   "source": [
    "Note that there is no printout of Int64. We can see that the body of the generated function was only executed once here, for the specific set of argument types, and the result was cached. After that, for this example, the expression returned from the generated function on the first invocation was re-used as the method body. However, the actual caching behavior is an implementation-defined performance optimization, so it is invalid to depend too closely on this behavior.\n",
    "\n",
    "The number of times a generated function is generated might be only once, but it might also be more often, or appear to not happen at all. As a consequence, you should never write a generated function with side effects - when, and how often, the side effects occur is undefined. (This is true for macros too - and just like for macros, the use of eval in a generated function is a sign that you're doing something the wrong way.) However, unlike macros, the runtime system cannot correctly handle a call to eval, so it is disallowed.\n",
    "\n",
    "It is also important to see how @generated functions interact with method redefinition. Following the principle that a correct @generated function must not observe any mutable state or cause any mutation of global state, we see the following behavior. Observe that the generated function cannot call any method that was not defined prior to the definition of the generated function itself.\n",
    "\n",
    "Initially f(x) has one definition"
   ],
   "cell_type": "markdown",
   "metadata": {}
  },
  {
   "cell_type": "code",
   "execution_count": 133,
   "metadata": {},
   "outputs": [],
   "source": [
    "f(x) = \"original definition\";"
   ]
  },
  {
   "cell_type": "code",
   "execution_count": 134,
   "metadata": {},
   "outputs": [],
   "source": [
    "g(x) = f(x);"
   ]
  },
  {
   "cell_type": "code",
   "execution_count": 135,
   "metadata": {},
   "outputs": [],
   "source": [
    "@generated gen1(x) = f(x);"
   ]
  },
  {
   "cell_type": "code",
   "execution_count": 136,
   "metadata": {},
   "outputs": [],
   "source": [
    "@generated gen2(x) = :(f(x));"
   ]
  },
  {
   "source": [
    "We now add some new definitions for f(x):"
   ],
   "cell_type": "markdown",
   "metadata": {}
  },
  {
   "cell_type": "code",
   "execution_count": 137,
   "metadata": {},
   "outputs": [],
   "source": [
    "f(x::Int) = \"definition for Int\";"
   ]
  },
  {
   "cell_type": "code",
   "execution_count": 138,
   "metadata": {},
   "outputs": [],
   "source": [
    "f(x::Type{Int}) = \"definition for Type{Int}\";"
   ]
  },
  {
   "source": [
    "and compare how these results differ:"
   ],
   "cell_type": "markdown",
   "metadata": {}
  },
  {
   "cell_type": "code",
   "execution_count": 139,
   "metadata": {},
   "outputs": [
    {
     "output_type": "execute_result",
     "data": {
      "text/plain": [
       "\"definition for Int\""
      ]
     },
     "metadata": {},
     "execution_count": 139
    }
   ],
   "source": [
    "f(1)"
   ]
  },
  {
   "cell_type": "code",
   "execution_count": 140,
   "metadata": {},
   "outputs": [
    {
     "output_type": "execute_result",
     "data": {
      "text/plain": [
       "\"definition for Int\""
      ]
     },
     "metadata": {},
     "execution_count": 140
    }
   ],
   "source": [
    "g(1)"
   ]
  },
  {
   "cell_type": "code",
   "execution_count": 141,
   "metadata": {},
   "outputs": [
    {
     "output_type": "execute_result",
     "data": {
      "text/plain": [
       "\"original definition\""
      ]
     },
     "metadata": {},
     "execution_count": 141
    }
   ],
   "source": [
    "gen1(1)"
   ]
  },
  {
   "cell_type": "code",
   "execution_count": 142,
   "metadata": {},
   "outputs": [
    {
     "output_type": "execute_result",
     "data": {
      "text/plain": [
       "\"definition for Int\""
      ]
     },
     "metadata": {},
     "execution_count": 142
    }
   ],
   "source": [
    "gen2(1)"
   ]
  },
  {
   "source": [
    "Each method of a generated function has its own view of defined functions:"
   ],
   "cell_type": "markdown",
   "metadata": {}
  },
  {
   "cell_type": "code",
   "execution_count": 143,
   "metadata": {},
   "outputs": [],
   "source": [
    "@generated gen1(x::Real) = f(x);"
   ]
  },
  {
   "cell_type": "code",
   "execution_count": 144,
   "metadata": {},
   "outputs": [
    {
     "output_type": "execute_result",
     "data": {
      "text/plain": [
       "\"definition for Type{Int}\""
      ]
     },
     "metadata": {},
     "execution_count": 144
    }
   ],
   "source": [
    "gen1(1)"
   ]
  },
  {
   "source": [
    "The example generated function foo above did not do anything a normal function foo(x) = x * x could not do (except printing the type on the first invocation, and incurring higher overhead). However, the power of a generated function lies in its ability to compute different quoted expressions depending on the types passed to it:"
   ],
   "cell_type": "markdown",
   "metadata": {}
  },
  {
   "cell_type": "code",
   "execution_count": 145,
   "metadata": {},
   "outputs": [
    {
     "output_type": "execute_result",
     "data": {
      "text/plain": [
       "bar (generic function with 1 method)"
      ]
     },
     "metadata": {},
     "execution_count": 145
    }
   ],
   "source": [
    "@generated function bar(x)\n",
    "    if x <: Integer\n",
    "        return :(x ^ 2)\n",
    "    else\n",
    "        return :(x)\n",
    "    end\n",
    "end"
   ]
  },
  {
   "cell_type": "code",
   "execution_count": 146,
   "metadata": {},
   "outputs": [
    {
     "output_type": "execute_result",
     "data": {
      "text/plain": [
       "16"
      ]
     },
     "metadata": {},
     "execution_count": 146
    }
   ],
   "source": [
    "bar(4)"
   ]
  },
  {
   "cell_type": "code",
   "execution_count": 147,
   "metadata": {},
   "outputs": [
    {
     "output_type": "execute_result",
     "data": {
      "text/plain": [
       "\"baz\""
      ]
     },
     "metadata": {},
     "execution_count": 147
    }
   ],
   "source": [
    "bar(\"baz\")"
   ]
  },
  {
   "source": [
    "(although of course this contrived example would be more easily implemented using multiple dispatch...)\n",
    "\n",
    "Abusing this will corrupt the runtime system and cause undefined behavior:"
   ],
   "cell_type": "markdown",
   "metadata": {}
  },
  {
   "cell_type": "code",
   "execution_count": 148,
   "metadata": {},
   "outputs": [
    {
     "output_type": "execute_result",
     "data": {
      "text/plain": [
       "baz (generic function with 1 method)"
      ]
     },
     "metadata": {},
     "execution_count": 148
    }
   ],
   "source": [
    "@generated function baz(x)\n",
    "    if rand() < .9\n",
    "        return :(x^2)\n",
    "    else\n",
    "        return :(\"boo!\")\n",
    "    end\n",
    "end"
   ]
  },
  {
   "source": [
    "Since the body of the generated function is non-deterministic, its behavior, and the behavior of all subsequent code is undefined.\n",
    "\n",
    "Don't copy these examples!\n",
    "\n",
    "These examples are hopefully helpful to illustrate how generated functions work, both in the definition end and at the call site; however, don't copy them, for the following reasons:\n",
    "\n",
    "    - the foo function has side-effects (the call to Core.println), and it is undefined exactly when, how often or how many times these side-effects will occur\n",
    "    - the bar function solves a problem that is better solved with multiple dispatch - defining bar(x) = x and bar(x::Integer) = x ^ 2 will do the same thing, but it is both simpler and faster.\n",
    "    - the baz function is pathological\n",
    "\n",
    "Note that the set of operations that should not be attempted in a generated function is unbounded, and the runtime system can currently only detect a subset of the invalid operations. There are many other operations that will simply corrupt the runtime system without notification, usually in subtle ways not obviously connected to the bad definition. Because the function generator is run during inference, it must respect all of the limitations of that code.\n",
    "\n",
    "Some operations that should not be attempted include:\n",
    "\n",
    "    1. Caching of native pointers.\n",
    "\n",
    "    2. Interacting with the contents or methods of Core.Compiler in any way.\n",
    "\n",
    "    3. Observing any mutable state.\n",
    "        - Inference on the generated function may be run at any time, including while your code is attempting to observe or mutate this state.\n",
    "    \n",
    "    4. Taking any locks: C code you call out to may use locks internally, (for example, it is not problematic to call malloc, even though most implementations require locks internally) but don't attempt to hold or acquire any while executing Julia code.\n",
    "\n",
    "    5. Calling any function that is defined after the body of the generated function. This condition is relaxed for incrementally-loaded precompiled modules to allow calling any function in the module.\n",
    "\n",
    "Alright, now that we have a better understanding of how generated functions work, let's use them to build some more advanced (and valid) functionality...\n",
    "\n"
   ],
   "cell_type": "markdown",
   "metadata": {}
  },
  {
   "source": [
    "### An advanced example"
   ],
   "cell_type": "markdown",
   "metadata": {}
  },
  {
   "source": [
    "Julia's base library has an internal sub2ind function to calculate a linear index into an n-dimensional array, based on a set of n multilinear indices - in other words, to calculate the index i that can be used to index into an array A using A\\[i\\], instead of A\\[x,y,z,...\\]. One possible implementation is the following:"
   ],
   "cell_type": "markdown",
   "metadata": {}
  },
  {
   "cell_type": "code",
   "execution_count": 150,
   "metadata": {},
   "outputs": [
    {
     "output_type": "execute_result",
     "data": {
      "text/plain": [
       "sub2ind_loop (generic function with 1 method)"
      ]
     },
     "metadata": {},
     "execution_count": 150
    }
   ],
   "source": [
    "function sub2ind_loop(dims::NTuple{N}, I::Integer...) where N\n",
    "    ind = I[N] - 1\n",
    "    for i = N-1:-1:1\n",
    "        ind = I[i]-1 + dims[i]*ind\n",
    "    end\n",
    "    return ind + 1\n",
    "end"
   ]
  },
  {
   "cell_type": "code",
   "execution_count": 151,
   "metadata": {},
   "outputs": [
    {
     "output_type": "execute_result",
     "data": {
      "text/plain": [
       "4"
      ]
     },
     "metadata": {},
     "execution_count": 151
    }
   ],
   "source": [
    "sub2ind_loop((3, 5), 1, 2)"
   ]
  },
  {
   "source": [
    "The same thing can be done using recursion:"
   ],
   "cell_type": "markdown",
   "metadata": {}
  },
  {
   "cell_type": "code",
   "execution_count": 152,
   "metadata": {},
   "outputs": [],
   "source": [
    "sub2ind_rec(dims::Tuple{}) = 1;"
   ]
  },
  {
   "cell_type": "code",
   "execution_count": 153,
   "metadata": {},
   "outputs": [],
   "source": [
    "sub2ind_rec(dims::Tuple{}, i1::Integer, I::Integer...) =\n",
    "           i1 == 1 ? sub2ind_rec(dims, I...) : throw(BoundsError());"
   ]
  },
  {
   "cell_type": "code",
   "execution_count": 154,
   "metadata": {},
   "outputs": [],
   "source": [
    "sub2ind_rec(dims::Tuple{Integer, Vararg{Integer}}, i1::Integer) = i1;"
   ]
  },
  {
   "cell_type": "code",
   "execution_count": 155,
   "metadata": {},
   "outputs": [],
   "source": [
    "sub2ind_rec(dims::Tuple{Integer, Vararg{Integer}}, i1::Integer, I::Integer...) =\n",
    "           i1 + dims[1] * (sub2ind_rec(Base.tail(dims), I...) - 1);"
   ]
  },
  {
   "cell_type": "code",
   "execution_count": 156,
   "metadata": {},
   "outputs": [
    {
     "output_type": "execute_result",
     "data": {
      "text/plain": [
       "4"
      ]
     },
     "metadata": {},
     "execution_count": 156
    }
   ],
   "source": [
    "sub2ind_rec((3, 5), 1, 2)"
   ]
  },
  {
   "source": [
    "Both these implementations, although different, do essentially the same thing: a runtime loop over the dimensions of the array, collecting the offset in each dimension into the final index.\n",
    "\n",
    "However, all the information we need for the loop is embedded in the type information of the arguments. Thus, we can utilize generated functions to move the iteration to compile-time; in compiler parlance, we use generated functions to manually unroll the loop. The body becomes almost identical, but instead of calculating the linear index, we build up an expression that calculates the index:"
   ],
   "cell_type": "markdown",
   "metadata": {}
  },
  {
   "cell_type": "code",
   "execution_count": 157,
   "metadata": {},
   "outputs": [
    {
     "output_type": "execute_result",
     "data": {
      "text/plain": [
       "sub2ind_gen (generic function with 1 method)"
      ]
     },
     "metadata": {},
     "execution_count": 157
    }
   ],
   "source": [
    "@generated function sub2ind_gen(dims::NTuple{N}, I::Integer...) where N\n",
    "    ex = :(I[$N] - 1)\n",
    "    for i = (N - 1):-1:1\n",
    "        ex = :(I[$i] - 1 + dims[$i] * $ex)\n",
    "    end\n",
    "    return :($ex + 1)\n",
    "end"
   ]
  },
  {
   "cell_type": "code",
   "execution_count": 158,
   "metadata": {},
   "outputs": [
    {
     "output_type": "execute_result",
     "data": {
      "text/plain": [
       "4"
      ]
     },
     "metadata": {},
     "execution_count": 158
    }
   ],
   "source": [
    "sub2ind_gen((3, 5), 1, 2)"
   ]
  },
  {
   "source": [
    "#### What code will this generate?\n",
    "\n",
    "An easy way to find out is to extract the body into another (regular) function:"
   ],
   "cell_type": "markdown",
   "metadata": {}
  },
  {
   "cell_type": "code",
   "execution_count": 160,
   "metadata": {},
   "outputs": [
    {
     "output_type": "execute_result",
     "data": {
      "text/plain": [
       "sub2ind_gen (generic function with 1 method)"
      ]
     },
     "metadata": {},
     "execution_count": 160
    }
   ],
   "source": [
    "@generated function sub2ind_gen(dims::NTuple{N}, I::Integer...) where N\n",
    "    return sub2ind_gen_impl(dims, I...)\n",
    "end"
   ]
  },
  {
   "cell_type": "code",
   "execution_count": 161,
   "metadata": {},
   "outputs": [
    {
     "output_type": "execute_result",
     "data": {
      "text/plain": [
       "sub2ind_gen_impl (generic function with 1 method)"
      ]
     },
     "metadata": {},
     "execution_count": 161
    }
   ],
   "source": [
    "function sub2ind_gen_impl(dims::Type{T}, I...) where T <: NTuple{N,Any} where N\n",
    "    length(I) == N || return :(error(\"partial indexing is unsupported\"))\n",
    "    ex = :(I[$N] - 1)\n",
    "    for i = (N - 1):-1:1\n",
    "        ex = :(I[$i] - 1 + dims[$i] * $ex)\n",
    "    end\n",
    "    return :($ex + 1)\n",
    "end"
   ]
  },
  {
   "source": [
    "We can now execute sub2ind_gen_impl and examine the expression it returns:"
   ],
   "cell_type": "markdown",
   "metadata": {}
  },
  {
   "cell_type": "code",
   "execution_count": 162,
   "metadata": {},
   "outputs": [
    {
     "output_type": "execute_result",
     "data": {
      "text/plain": [
       ":(((I[1] - 1) + dims[1] * (I[2] - 1)) + 1)"
      ]
     },
     "metadata": {},
     "execution_count": 162
    }
   ],
   "source": [
    "sub2ind_gen_impl(Tuple{Int,Int}, Int, Int)"
   ]
  },
  {
   "source": [
    "So, the method body that will be used here doesn't include a loop at all - just indexing into the two tuples, multiplication and addition/subtraction. All the looping is performed compile-time, and we avoid looping during execution entirely. Thus, we only loop once per type, in this case once per N (except in edge cases where the function is generated more than once - see disclaimer above)."
   ],
   "cell_type": "markdown",
   "metadata": {}
  },
  {
   "source": [
    "### Optionally-generated functions"
   ],
   "cell_type": "markdown",
   "metadata": {}
  },
  {
   "source": [
    "Generated functions can achieve high efficiency at run time, but come with a compile time cost: a new function body must be generated for every combination of concrete argument types. Typically, Julia is able to compile \"generic\" versions of functions that will work for any arguments, but with generated functions this is impossible. This means that programs making heavy use of generated functions might be impossible to statically compile.\n",
    "\n",
    "To solve this problem, the language provides syntax for writing normal, non-generated alternative implementations of generated functions. Applied to the sub2ind example above, it would look like this:\n",
    "\n",
    "    function sub2ind_gen(dims::NTuple{N}, I::Integer...) where N\n",
    "        if N != length(I)\n",
    "            throw(ArgumentError(\"Number of dimensions must match number of indices.\"))\n",
    "        end\n",
    "        if @generated\n",
    "            ex = :(I[$N] - 1)\n",
    "            for i = (N - 1):-1:1\n",
    "                ex = :(I[$i] - 1 + dims[$i] * $ex)\n",
    "            end\n",
    "            return :($ex + 1)\n",
    "        else\n",
    "            ind = I[N] - 1\n",
    "            for i = (N - 1):-1:1\n",
    "                ind = I[i] - 1 + dims[i]*ind\n",
    "           end\n",
    "            return ind + 1\n",
    "       end\n",
    "    end\n",
    "\n",
    "Internally, this code creates two implementations of the function: a generated one where the first block in if @generated is used, and a normal one where the else block is used. Inside the then part of the if @generated block, code has the same semantics as other generated functions: argument names refer to types, and the code should return an expression. Multiple if @generated blocks may occur, in which case the generated implementation uses all of the then blocks and the alternate implementation uses all of the else blocks.\n",
    "\n",
    "Notice that we added an error check to the top of the function. This code will be common to both versions, and is run-time code in both versions (it will be quoted and returned as an expression from the generated version). That means that the values and types of local variables are not available at code generation time –- the code-generation code can only see the types of arguments.\n",
    "\n",
    "In this style of definition, the code generation feature is essentially an optional optimization. The compiler will use it if convenient, but otherwise may choose to use the normal implementation instead. This style is preferred, since it allows the compiler to make more decisions and compile programs in more ways, and since normal code is more readable than code-generating code. However, which implementation is used depends on compiler implementation details, so it is essential for the two implementations to behave identically."
   ],
   "cell_type": "markdown",
   "metadata": {}
  }
 ]
}